{
 "cells": [
  {
   "cell_type": "markdown",
   "id": "fdac285d",
   "metadata": {},
   "source": [
    "# 파이썬과 MySQL의 연동\n",
    "\n",
    "- pymysql 라이브러리를 이용하면 파이썬과 MySQL을 연동하는 데이터베이스 연동 프로그램을 작성할 수 있음"
   ]
  },
  {
   "cell_type": "markdown",
   "id": "7312249c",
   "metadata": {},
   "source": [
    "## 파이썬에서 데이터 입력\n",
    "\n",
    "1. mysql 연결하기\n",
    "    - 연결자 = pymysql.connect(연결 옵션)\n",
    "\n",
    "2. 커서 생성하기\n",
    "    - 커서이름 = 연결자.cursor()\n",
    "\n",
    "3. 테이블 만들기\n",
    "    - 커서이름.execute(\"CREATE TABLE 문장\")\n",
    "\n",
    "4. 데이터 입력하기\n",
    "    - 커서이름.execute(\"INSERT 문장\")\n",
    "\n",
    "5. 입력한 데이터 저장하기\n",
    "    - 연결자.commit()\n",
    "\n",
    "6. mysql연결 종료하기\n",
    "    - 연결자.close()"
   ]
  },
  {
   "cell_type": "markdown",
   "id": "34c72346",
   "metadata": {},
   "source": [
    "### mysql 연결\n",
    "\n",
    "```\n",
    "pymysql.connect(host = 서버IP주소, user = 사용자, password = 암호, db = 데이터베이스, charset = 문자세트, port = 포트번호)\n",
    "```"
   ]
  },
  {
   "cell_type": "code",
   "execution_count": 1,
   "id": "3cc42497",
   "metadata": {},
   "outputs": [],
   "source": [
    "import pymysql"
   ]
  },
  {
   "cell_type": "code",
   "execution_count": 2,
   "id": "cfc50ae6",
   "metadata": {},
   "outputs": [],
   "source": [
    "conn = pymysql.connect(host = \"127.0.0.1\", user = \"root\", password = \"0000\", db = \"market_db\")"
   ]
  },
  {
   "cell_type": "markdown",
   "id": "03e06900",
   "metadata": {},
   "source": [
    "- conn : 연결자를 의미하는 connection의 약자\n",
    "    - 관습적으로 conn 또는 con 이라는 변수명을 사용함"
   ]
  },
  {
   "cell_type": "markdown",
   "id": "ffc591a1",
   "metadata": {},
   "source": [
    "### 커서 생성\n",
    "\n",
    "- 커서(cursor) : 데이터베이스에 sql문을 실행하거나 실행된 결과를 받는 통로\n",
    "- 커서는 앞 단계에서 연결한 연결자에 만들어야 함"
   ]
  },
  {
   "cell_type": "code",
   "execution_count": 3,
   "id": "119f9c3b",
   "metadata": {},
   "outputs": [],
   "source": [
    "cur = conn.cursor()"
   ]
  },
  {
   "cell_type": "markdown",
   "id": "e3258225",
   "metadata": {},
   "source": [
    "### 테이블 생성\n",
    "\n",
    "- 테이블을 생성하는 sql문을 커서이름.execute() 함수의 매개변수로 전달"
   ]
  },
  {
   "cell_type": "code",
   "execution_count": 4,
   "id": "0cf03e84",
   "metadata": {},
   "outputs": [
    {
     "data": {
      "text/plain": [
       "0"
      ]
     },
     "execution_count": 4,
     "metadata": {},
     "output_type": "execute_result"
    }
   ],
   "source": [
    "cur.execute(\"\"\"CREATE TABLE userTable (ID CHAR(4), userName CHAR(15),\n",
    "                email CHAR(20), birthYear INT)\"\"\")"
   ]
  },
  {
   "cell_type": "markdown",
   "id": "0142b5cf",
   "metadata": {},
   "source": [
    "### 데이터 입력"
   ]
  },
  {
   "cell_type": "code",
   "execution_count": 5,
   "id": "dbcb1332",
   "metadata": {},
   "outputs": [],
   "source": [
    "sql = \"\"\"\n",
    "INSERT INTO userTable VALUES ('hong', \"홍지윤\", \"hong@naver.com\", 1996),\n",
    "('kim', \"김태연\", \"kim@daum.net\", 2011)\n",
    "\"\"\""
   ]
  },
  {
   "cell_type": "code",
   "execution_count": 6,
   "id": "55a147e7",
   "metadata": {},
   "outputs": [
    {
     "data": {
      "text/plain": [
       "2"
      ]
     },
     "execution_count": 6,
     "metadata": {},
     "output_type": "execute_result"
    }
   ],
   "source": [
    "cur.execute(sql)"
   ]
  },
  {
   "cell_type": "markdown",
   "id": "c7aa6e26",
   "metadata": {},
   "source": [
    "### 입력한 데이터 저장\n",
    "\n",
    "- 앞 단계에서 입력한 데이터가 아직 데이터베이스에 완전히 반영되지 않았음\n",
    "- 현재까지의 입력 데이터를 완전히 데이터베이스에 반영하는 것을 커밋(commit)이라고 함"
   ]
  },
  {
   "cell_type": "code",
   "execution_count": 7,
   "id": "c3cef465",
   "metadata": {},
   "outputs": [],
   "source": [
    "conn.commit()"
   ]
  },
  {
   "cell_type": "markdown",
   "id": "c39b37ac",
   "metadata": {},
   "source": [
    "### 연결 종료\n",
    "\n",
    "- 데이터베이스 사용 후에는 연결자를 닫아줘야 함"
   ]
  },
  {
   "cell_type": "code",
   "execution_count": 8,
   "id": "7ecfd454",
   "metadata": {},
   "outputs": [],
   "source": [
    "conn.close()"
   ]
  },
  {
   "cell_type": "markdown",
   "id": "fc178357",
   "metadata": {},
   "source": [
    "# 연동 프로그래밍 활용"
   ]
  },
  {
   "cell_type": "code",
   "execution_count": 9,
   "id": "72b78f40",
   "metadata": {},
   "outputs": [
    {
     "name": "stdout",
     "output_type": "stream",
     "text": [
      "사용자 ID ==> star\n",
      "사용자 이름 ==> 별사랑\n",
      "사용자 이메일 ==> star@naver.com\n",
      "사용자 출생연도 ==> 1990\n"
     ]
    }
   ],
   "source": [
    "conn = pymysql.connect(host = \"127.0.0.1\", user = \"root\", password = \"0000\", db = \"market_db\")\n",
    "\n",
    "cur = conn.cursor()\n",
    "\n",
    "user_id = input(\"사용자 ID ==> \")\n",
    "user_name = input(\"사용자 이름 ==> \")\n",
    "user_email = input(\"사용자 이메일 ==> \")\n",
    "user_birth = input(\"사용자 출생연도 ==> \")\n",
    "\n",
    "sql = f\"\"\"INSERT INTO userTable VALUES('{user_id}', '{user_name}', '{user_email}',\n",
    "{int(user_birth)})\"\"\"\n",
    "\n",
    "cur.execute(sql)\n",
    "\n",
    "conn.commit()\n",
    "conn.close()"
   ]
  },
  {
   "cell_type": "markdown",
   "id": "2090a189",
   "metadata": {},
   "source": [
    "## 데이터 조회\n",
    "\n",
    "1. mysql 연결하기\n",
    "    - 연결자 = pymysql.connect(연결 옵션)\n",
    "\n",
    "2. 커서 생성하기\n",
    "    - 커서이름 = 연결자.cursor()\n",
    "\n",
    "3. 데이터 조회\n",
    "    - 커서이름.execute(\"SELECT 문장\")\n",
    "    \n",
    "4. 조회한 데이터 출력\n",
    "    - 커서이름.fetchone()\n",
    "    - 커서이름.fetchall()\n",
    "    - 커서이름.fetchmany()\n",
    "\n",
    "5. mysql연결 종료하기\n",
    "    - 연결자.close()\n",
    "    \n",
    "- 조회는 데이터를 입력하거나 변경하는 것이 아니므로 굳이 저장(커밋)할 필요는 없음"
   ]
  },
  {
   "cell_type": "code",
   "execution_count": 10,
   "id": "d1924a8b",
   "metadata": {},
   "outputs": [
    {
     "name": "stdout",
     "output_type": "stream",
     "text": [
      "사용자ID\t사용자이름\t이메일\t출생연도\n",
      "----------------------------------------\n",
      "hong\t홍지윤\thong@naver.com\t1996\n",
      "kim\t김태연\tkim@daum.net\t2011\n",
      "star\t별사랑\tstar@naver.com\t1990\n"
     ]
    }
   ],
   "source": [
    "conn = pymysql.connect(host = \"127.0.0.1\", user = \"root\", password = \"0000\", db = \"market_db\")\n",
    "\n",
    "cur = conn.cursor()\n",
    "\n",
    "cur.execute(\"SELECT * FROM userTable\")\n",
    "\n",
    "print(\"사용자ID\\t사용자이름\\t이메일\\t출생연도\")\n",
    "print(\"-\" * 40)\n",
    "\n",
    "while True:\n",
    "    row = cur.fetchone()\n",
    "    \n",
    "    if row == None:\n",
    "        break\n",
    "        \n",
    "    print(f\"{row[0]}\\t{row[1]}\\t{row[2]}\\t{row[3]}\")\n",
    "    \n",
    "conn.close()"
   ]
  },
  {
   "cell_type": "code",
   "execution_count": 11,
   "id": "77d192bc",
   "metadata": {},
   "outputs": [
    {
     "name": "stdout",
     "output_type": "stream",
     "text": [
      "사용자ID\t사용자이름\t이메일\t출생연도\n",
      "----------------------------------------\n",
      "hong\t홍지윤\thong@naver.com\t1996\n",
      "kim\t김태연\tkim@daum.net\t2011\n",
      "star\t별사랑\tstar@naver.com\t1990\n"
     ]
    }
   ],
   "source": [
    "conn = pymysql.connect(host = \"127.0.0.1\", user = \"root\", password = \"0000\", db = \"market_db\")\n",
    "\n",
    "cur = conn.cursor()\n",
    "\n",
    "cur.execute(\"SELECT * FROM userTable\")\n",
    "\n",
    "print(\"사용자ID\\t사용자이름\\t이메일\\t출생연도\")\n",
    "print(\"-\" * 40)\n",
    "\n",
    "row = cur.fetchall()\n",
    "\n",
    "for i in row:\n",
    "    print(f\"{i[0]}\\t{i[1]}\\t{i[2]}\\t{i[3]}\")\n",
    "    \n",
    "conn.close()"
   ]
  },
  {
   "cell_type": "markdown",
   "id": "5a71c1de",
   "metadata": {},
   "source": [
    "# with문 활용"
   ]
  },
  {
   "cell_type": "code",
   "execution_count": 13,
   "id": "41f95bc9",
   "metadata": {},
   "outputs": [
    {
     "name": "stdout",
     "output_type": "stream",
     "text": [
      "사용자ID\t사용자이름\t이메일\t출생연도\n",
      "----------------------------------------\n",
      "hong\t홍지윤\thong@naver.com\t1996\n",
      "kim\t김태연\tkim@daum.net\t2011\n",
      "star\t별사랑\tstar@naver.com\t1990\n"
     ]
    }
   ],
   "source": [
    "with pymysql.connect(host = \"127.0.0.1\", user = \"root\", password = \"0000\",\n",
    "                     db = \"market_db\") as conn:\n",
    "    with conn.cursor() as cur:\n",
    "        cur.execute(\"SELECT * FROM userTable\")\n",
    "\n",
    "        print(\"사용자ID\\t사용자이름\\t이메일\\t출생연도\")\n",
    "        print(\"-\" * 40)\n",
    "\n",
    "        row = cur.fetchall()\n",
    "\n",
    "        for i in row:\n",
    "            print(f\"{i[0]}\\t{i[1]}\\t{i[2]}\\t{i[3]}\")"
   ]
  },
  {
   "cell_type": "code",
   "execution_count": 16,
   "id": "91f9ac4d",
   "metadata": {},
   "outputs": [
    {
     "ename": "Error",
     "evalue": "Already closed",
     "output_type": "error",
     "traceback": [
      "\u001b[1;31m---------------------------------------------------------------------------\u001b[0m",
      "\u001b[1;31mError\u001b[0m                                     Traceback (most recent call last)",
      "Cell \u001b[1;32mIn[16], line 1\u001b[0m\n\u001b[1;32m----> 1\u001b[0m conn\u001b[38;5;241m.\u001b[39mclose()\n",
      "File \u001b[1;32mC:\\ProgramData\\anaconda3\\Lib\\site-packages\\pymysql\\connections.py:409\u001b[0m, in \u001b[0;36mConnection.close\u001b[1;34m(self)\u001b[0m\n\u001b[0;32m    400\u001b[0m \u001b[38;5;250m\u001b[39m\u001b[38;5;124;03m\"\"\"\u001b[39;00m\n\u001b[0;32m    401\u001b[0m \u001b[38;5;124;03mSend the quit message and close the socket.\u001b[39;00m\n\u001b[0;32m    402\u001b[0m \n\u001b[1;32m   (...)\u001b[0m\n\u001b[0;32m    406\u001b[0m \u001b[38;5;124;03m:raise Error: If the connection is already closed.\u001b[39;00m\n\u001b[0;32m    407\u001b[0m \u001b[38;5;124;03m\"\"\"\u001b[39;00m\n\u001b[0;32m    408\u001b[0m \u001b[38;5;28;01mif\u001b[39;00m \u001b[38;5;28mself\u001b[39m\u001b[38;5;241m.\u001b[39m_closed:\n\u001b[1;32m--> 409\u001b[0m     \u001b[38;5;28;01mraise\u001b[39;00m err\u001b[38;5;241m.\u001b[39mError(\u001b[38;5;124m\"\u001b[39m\u001b[38;5;124mAlready closed\u001b[39m\u001b[38;5;124m\"\u001b[39m)\n\u001b[0;32m    410\u001b[0m \u001b[38;5;28mself\u001b[39m\u001b[38;5;241m.\u001b[39m_closed \u001b[38;5;241m=\u001b[39m \u001b[38;5;28;01mTrue\u001b[39;00m\n\u001b[0;32m    411\u001b[0m \u001b[38;5;28;01mif\u001b[39;00m \u001b[38;5;28mself\u001b[39m\u001b[38;5;241m.\u001b[39m_sock \u001b[38;5;129;01mis\u001b[39;00m \u001b[38;5;28;01mNone\u001b[39;00m:\n",
      "\u001b[1;31mError\u001b[0m: Already closed"
     ]
    }
   ],
   "source": [
    "conn.close()"
   ]
  },
  {
   "cell_type": "code",
   "execution_count": null,
   "id": "3df63f30",
   "metadata": {},
   "outputs": [],
   "source": []
  },
  {
   "cell_type": "code",
   "execution_count": null,
   "id": "2a251cb9",
   "metadata": {},
   "outputs": [],
   "source": []
  },
  {
   "cell_type": "code",
   "execution_count": null,
   "id": "feb41903",
   "metadata": {},
   "outputs": [],
   "source": []
  },
  {
   "cell_type": "code",
   "execution_count": null,
   "id": "b63b85bc",
   "metadata": {},
   "outputs": [],
   "source": []
  },
  {
   "cell_type": "code",
   "execution_count": null,
   "id": "af7363fb",
   "metadata": {},
   "outputs": [],
   "source": []
  },
  {
   "cell_type": "code",
   "execution_count": null,
   "id": "b0922604",
   "metadata": {},
   "outputs": [],
   "source": []
  },
  {
   "cell_type": "code",
   "execution_count": null,
   "id": "4dd2cf70",
   "metadata": {},
   "outputs": [],
   "source": []
  },
  {
   "cell_type": "code",
   "execution_count": null,
   "id": "157ecf3f",
   "metadata": {},
   "outputs": [],
   "source": []
  },
  {
   "cell_type": "code",
   "execution_count": null,
   "id": "0ceb308b",
   "metadata": {},
   "outputs": [],
   "source": []
  },
  {
   "cell_type": "code",
   "execution_count": null,
   "id": "0be092cb",
   "metadata": {},
   "outputs": [],
   "source": []
  },
  {
   "cell_type": "code",
   "execution_count": null,
   "id": "b36b80e9",
   "metadata": {},
   "outputs": [],
   "source": []
  },
  {
   "cell_type": "code",
   "execution_count": null,
   "id": "5461ff93",
   "metadata": {},
   "outputs": [],
   "source": []
  },
  {
   "cell_type": "code",
   "execution_count": null,
   "id": "92d7a977",
   "metadata": {},
   "outputs": [],
   "source": []
  },
  {
   "cell_type": "code",
   "execution_count": null,
   "id": "aa76c470",
   "metadata": {},
   "outputs": [],
   "source": []
  },
  {
   "cell_type": "code",
   "execution_count": null,
   "id": "94e50bef",
   "metadata": {},
   "outputs": [],
   "source": []
  },
  {
   "cell_type": "code",
   "execution_count": null,
   "id": "e103c067",
   "metadata": {},
   "outputs": [],
   "source": []
  },
  {
   "cell_type": "code",
   "execution_count": null,
   "id": "8ffb862b",
   "metadata": {},
   "outputs": [],
   "source": []
  },
  {
   "cell_type": "code",
   "execution_count": null,
   "id": "cc06796b",
   "metadata": {},
   "outputs": [],
   "source": []
  },
  {
   "cell_type": "code",
   "execution_count": null,
   "id": "6875407e",
   "metadata": {},
   "outputs": [],
   "source": []
  },
  {
   "cell_type": "code",
   "execution_count": null,
   "id": "62c85661",
   "metadata": {},
   "outputs": [],
   "source": []
  },
  {
   "cell_type": "code",
   "execution_count": null,
   "id": "8103f76a",
   "metadata": {},
   "outputs": [],
   "source": []
  },
  {
   "cell_type": "code",
   "execution_count": null,
   "id": "6a7badd2",
   "metadata": {},
   "outputs": [],
   "source": []
  },
  {
   "cell_type": "code",
   "execution_count": null,
   "id": "0b23f4e0",
   "metadata": {},
   "outputs": [],
   "source": []
  },
  {
   "cell_type": "code",
   "execution_count": null,
   "id": "b8851e35",
   "metadata": {},
   "outputs": [],
   "source": []
  },
  {
   "cell_type": "code",
   "execution_count": null,
   "id": "b357f1f4",
   "metadata": {},
   "outputs": [],
   "source": []
  },
  {
   "cell_type": "code",
   "execution_count": null,
   "id": "a06309fe",
   "metadata": {},
   "outputs": [],
   "source": []
  },
  {
   "cell_type": "code",
   "execution_count": null,
   "id": "f43a306d",
   "metadata": {},
   "outputs": [],
   "source": []
  },
  {
   "cell_type": "code",
   "execution_count": null,
   "id": "c8f2bde9",
   "metadata": {},
   "outputs": [],
   "source": []
  },
  {
   "cell_type": "code",
   "execution_count": null,
   "id": "0aea6899",
   "metadata": {},
   "outputs": [],
   "source": []
  },
  {
   "cell_type": "code",
   "execution_count": null,
   "id": "fd3c68b2",
   "metadata": {},
   "outputs": [],
   "source": []
  },
  {
   "cell_type": "code",
   "execution_count": null,
   "id": "ca3a7190",
   "metadata": {},
   "outputs": [],
   "source": []
  },
  {
   "cell_type": "code",
   "execution_count": null,
   "id": "3b9e52b0",
   "metadata": {},
   "outputs": [],
   "source": []
  },
  {
   "cell_type": "code",
   "execution_count": null,
   "id": "b0452ffd",
   "metadata": {},
   "outputs": [],
   "source": []
  }
 ],
 "metadata": {
  "kernelspec": {
   "display_name": "Python 3 (ipykernel)",
   "language": "python",
   "name": "python3"
  },
  "language_info": {
   "codemirror_mode": {
    "name": "ipython",
    "version": 3
   },
   "file_extension": ".py",
   "mimetype": "text/x-python",
   "name": "python",
   "nbconvert_exporter": "python",
   "pygments_lexer": "ipython3",
   "version": "3.11.5"
  }
 },
 "nbformat": 4,
 "nbformat_minor": 5
}
