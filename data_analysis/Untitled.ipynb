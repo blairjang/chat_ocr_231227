{
 "cells": [
  {
   "cell_type": "code",
   "execution_count": 1,
   "id": "d8ff6ad4",
   "metadata": {},
   "outputs": [],
   "source": [
    "from selenium import webdriver\n",
    "from selenium.webdriver.common.by import By\n",
    "from bs4 import BeautifulSoup\n",
    "from urllib.request import urlopen\n",
    "from selenium.webdriver.common.keys import Keys\n",
    "import time"
   ]
  },
  {
   "cell_type": "code",
   "execution_count": 35,
   "id": "35c49365",
   "metadata": {},
   "outputs": [
    {
     "ename": "IndexError",
     "evalue": "list index out of range",
     "output_type": "error",
     "traceback": [
      "\u001b[1;31m---------------------------------------------------------------------------\u001b[0m",
      "\u001b[1;31mIndexError\u001b[0m                                Traceback (most recent call last)",
      "Cell \u001b[1;32mIn[35], line 17\u001b[0m\n\u001b[0;32m     13\u001b[0m driver\u001b[38;5;241m.\u001b[39mimplicitly_wait(\u001b[38;5;241m3\u001b[39m)\n\u001b[0;32m     15\u001b[0m tv \u001b[38;5;241m=\u001b[39m driver\u001b[38;5;241m.\u001b[39mfind_elements(By\u001b[38;5;241m.\u001b[39mCSS_SELECTOR, \u001b[38;5;124m\"\u001b[39m\u001b[38;5;124mdiv.rt_area is_tmb img\u001b[39m\u001b[38;5;124m\"\u001b[39m)\n\u001b[1;32m---> 17\u001b[0m tv[\u001b[38;5;241m0\u001b[39m]\u001b[38;5;241m.\u001b[39mclick()\n",
      "\u001b[1;31mIndexError\u001b[0m: list index out of range"
     ]
    }
   ],
   "source": [
    "url = \"https://tenniseye.com/\"\n",
    "\n",
    "driver = webdriver.Chrome()\n",
    "\n",
    "driver.get(url) \n",
    "\n",
    "driver.implicitly_wait(3)\n",
    "\n",
    "lesson = driver.find_elements(By.CSS_SELECTOR,\"li.ws_sctb_title a\")\n",
    "\n",
    "lesson[1].click()\n",
    "\n",
    "driver.implicitly_wait(3)\n",
    "\n",
    "tv = driver.find_elements(By.CSS_SELECTOR, \"a.hx\")\n",
    "\n",
    "tv[0].click()"
   ]
  },
  {
   "cell_type": "code",
   "execution_count": null,
   "id": "453c3892",
   "metadata": {},
   "outputs": [],
   "source": []
  },
  {
   "cell_type": "code",
   "execution_count": 18,
   "id": "ee0abe17",
   "metadata": {},
   "outputs": [],
   "source": [
    "url = \"https://www.google.com/search?q=%EC%98%A4%EB%8A%98%EC%9D%98+%EC%9A%94%EC%9D%BC&oq=%EC%98%A4%EB%8A%98%EC%9D%98+%EC%9A%94%EC%9D%BC&gs_lcrp=EgZjaHJvbWUyBggAEEUYOTIKCAEQABgFGA8YHjIICAIQABgIGB7SAQgzMzIwajBqN6gCALACAA&sourceid=chrome&ie=UTF-8\"\n",
    "\n",
    "driver = webdriver.Chrome()\n",
    "\n",
    "driver.get(url) \n",
    "\n",
    "soup = BeautifulSoup(driver.page_source,\"lxml\")\n",
    "day_e = soup.select(\"div.yuRUbf a\")"
   ]
  },
  {
   "cell_type": "code",
   "execution_count": 21,
   "id": "b260cfd7",
   "metadata": {},
   "outputs": [
    {
     "name": "stdout",
     "output_type": "stream",
     "text": [
      "[Python] 파이썬에서 오늘이 무슨 요일인지 확인하는 방법Tistoryhttps://joyfulhome.tistory.com › ...\n",
      "\"오늘이 무슨 요일?\" 날짜 헷갈리는 이유코메디닷컴https://kormedi.com › ﻿오늘이-무슨-요일-날짜-헷갈리...\n",
      "[Python] 오늘 날짜의 요일 확인하기 - 온실 속 선인장 - 티스토리Tistoryhttps://happylie.tistory.com › ...\n"
     ]
    }
   ],
   "source": [
    "for i in day_e[0:3]:\n",
    "    print(i.text)"
   ]
  },
  {
   "cell_type": "code",
   "execution_count": 22,
   "id": "92c5367c",
   "metadata": {
    "scrolled": false
   },
   "outputs": [
    {
     "name": "stdout",
     "output_type": "stream",
     "text": [
      "Collecting googlesearch-python\n",
      "  Downloading googlesearch-python-1.2.3.tar.gz (3.9 kB)\n",
      "  Preparing metadata (setup.py): started\n",
      "  Preparing metadata (setup.py): finished with status 'done'\n",
      "Requirement already satisfied: beautifulsoup4>=4.9 in c:\\users\\itsc\\anaconda3\\lib\\site-packages (from googlesearch-python) (4.12.2)\n",
      "Requirement already satisfied: requests>=2.20 in c:\\users\\itsc\\anaconda3\\lib\\site-packages (from googlesearch-python) (2.31.0)\n",
      "Requirement already satisfied: soupsieve>1.2 in c:\\users\\itsc\\anaconda3\\lib\\site-packages (from beautifulsoup4>=4.9->googlesearch-python) (2.4)\n",
      "Requirement already satisfied: charset-normalizer<4,>=2 in c:\\users\\itsc\\anaconda3\\lib\\site-packages (from requests>=2.20->googlesearch-python) (2.0.4)\n",
      "Requirement already satisfied: idna<4,>=2.5 in c:\\users\\itsc\\anaconda3\\lib\\site-packages (from requests>=2.20->googlesearch-python) (3.4)\n",
      "Requirement already satisfied: urllib3<3,>=1.21.1 in c:\\users\\itsc\\anaconda3\\lib\\site-packages (from requests>=2.20->googlesearch-python) (1.26.16)\n",
      "Requirement already satisfied: certifi>=2017.4.17 in c:\\users\\itsc\\anaconda3\\lib\\site-packages (from requests>=2.20->googlesearch-python) (2023.7.22)\n",
      "Building wheels for collected packages: googlesearch-python\n",
      "  Building wheel for googlesearch-python (setup.py): started\n",
      "  Building wheel for googlesearch-python (setup.py): finished with status 'done'\n",
      "  Created wheel for googlesearch-python: filename=googlesearch_python-1.2.3-py3-none-any.whl size=4224 sha256=4df54e713b20541c35277249d876d9f7c32af3bde97aeebb8e234f74ff620219\n",
      "  Stored in directory: c:\\users\\itsc\\appdata\\local\\pip\\cache\\wheels\\c3\\a9\\82\\de72a96d14538012479281dfda86c35b6da183692b94f45818\n",
      "Successfully built googlesearch-python\n",
      "Installing collected packages: googlesearch-python\n",
      "Successfully installed googlesearch-python-1.2.3\n"
     ]
    }
   ],
   "source": [
    "!pip install googlesearch-python "
   ]
  },
  {
   "cell_type": "code",
   "execution_count": 33,
   "id": "4040044a",
   "metadata": {},
   "outputs": [
    {
     "name": "stdout",
     "output_type": "stream",
     "text": [
      "https://joyfulhome.tistory.com/235\n",
      "https://happylie.tistory.com/118\n",
      "https://kormedi.com/1410155/%EF%BB%BF%EC%98%A4%EB%8A%98%EC%9D%B4-%EB%AC%B4%EC%8A%A8-%EC%9A%94%EC%9D%BC-%EB%82%A0%EC%A7%9C-%ED%97%B7%EA%B0%88%EB%A6%AC%EB%8A%94-%EC%9D%B4%EC%9C%A0/\n"
     ]
    }
   ],
   "source": [
    "from googlesearch import search\n",
    "\n",
    "result = search(\"오늘의요일\", num_results=1)\n",
    "\n",
    "for url in result:\n",
    "    print(url)"
   ]
  },
  {
   "cell_type": "code",
   "execution_count": null,
   "id": "f104cc06",
   "metadata": {},
   "outputs": [],
   "source": []
  },
  {
   "cell_type": "code",
   "execution_count": null,
   "id": "36ba1ab2",
   "metadata": {},
   "outputs": [],
   "source": []
  }
 ],
 "metadata": {
  "kernelspec": {
   "display_name": "Python 3 (ipykernel)",
   "language": "python",
   "name": "python3"
  },
  "language_info": {
   "codemirror_mode": {
    "name": "ipython",
    "version": 3
   },
   "file_extension": ".py",
   "mimetype": "text/x-python",
   "name": "python",
   "nbconvert_exporter": "python",
   "pygments_lexer": "ipython3",
   "version": "3.11.5"
  }
 },
 "nbformat": 4,
 "nbformat_minor": 5
}
