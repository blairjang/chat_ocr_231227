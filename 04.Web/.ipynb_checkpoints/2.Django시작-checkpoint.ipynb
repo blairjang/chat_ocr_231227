{
 "cells": [
  {
   "cell_type": "markdown",
   "id": "30cbafd5",
   "metadata": {},
   "source": [
    "# Django\n",
    "\n",
    "- 파이썬 기반의 웹 풀스택 프레임워크\n",
    "- Django만으로 웹 개발을 처음부터 끝까지 완성해낼 수 있음\n",
    "- Django는 다른 프레임워크들에 비해 자유도가 낮음\n",
    "    - 건드릴 수 있는 부분이 적음 -> 몇 가지 건드리지 않아도 웹 어플리케이션이 완성됨\n",
    "    - 초보자들에게 적합한 프레임워크\n",
    "    \n",
    "- Django를 사용중인 곳\n",
    "    - 인스타그램\n",
    "    - 번개장터\n",
    "    - 숨은고수\n",
    "    - 헤이딜러\n",
    "    - 라프텔"
   ]
  },
  {
   "cell_type": "markdown",
   "id": "e0171f07",
   "metadata": {},
   "source": [
    "# 개발패턴\n",
    "\n",
    "- 만들어야 하는 개발 요소들에 대한 규격화된 양식\n",
    "- 개발 프로젝트를 요약하자면 개발에 필요한 내용들을 몇 가지 단위로 나눠놓고, 하나하나 만든 후에 이것들을 연결하는 것\n",
    "    - DJango에서는 MTV패턴을 사용"
   ]
  },
  {
   "cell_type": "markdown",
   "id": "c41b7267",
   "metadata": {},
   "source": [
    "- 가상환경 설정\n",
    "    - 가상환경 생성\n",
    "        - $ conda create -n 가상환경이름\n",
    "        \n",
    "    - 가상환경 리스트\n",
    "        - $ conda env list\n",
    "        \n",
    "    - 가상환경 활성화\n",
    "        - $ conda activate 가상환경이름\n",
    "        \n",
    "    - 가상환경 비활성화\n",
    "        - $ conda deactivate 가상환경이름\n",
    "        \n",
    "    - 가상환경 삭제\n",
    "        - $ conda env remove -n 가상환경이름"
   ]
  },
  {
   "cell_type": "markdown",
   "id": "5470ab80",
   "metadata": {},
   "source": [
    "# 장고 프로젝트 생성\n",
    "\n",
    "- django-admin startproject 프로젝트이름 .\n",
    "    - 프로젝트를 생성하는 명령어\n",
    "    - 맨 마지막의 닷(.)은 \"이 폴더에 프로젝트를 만든다\" 라는 의미\n",
    "    \n",
    "- 잘 실행됐다면 프로젝트 폴더와 manage.py 파일이 생성됨"
   ]
  },
  {
   "cell_type": "markdown",
   "id": "16c6f0c2",
   "metadata": {},
   "source": [
    "## 서버 실행\n",
    "\n",
    "- python manage.py runserver\n",
    "    - 서버를 실행하는 명령어\n",
    "    - 아직 마이그레이션을 하지 않았다는 오류 메시지가 나타나지만 프로젝트 생성 확인에는 문제 없음"
   ]
  },
  {
   "cell_type": "markdown",
   "id": "28195ad9",
   "metadata": {},
   "source": [
    "- 프로젝트 폴더\n",
    "    - urls.py\n",
    "    - settings.py"
   ]
  },
  {
   "cell_type": "markdown",
   "id": "8c6979d7",
   "metadata": {},
   "source": [
    "# Django 프로젝트 구조"
   ]
  },
  {
   "cell_type": "markdown",
   "id": "19054ac5",
   "metadata": {},
   "source": [
    "## Django 프로젝트와 앱\n",
    "\n",
    "- 프로젝트(Project)\n",
    "    - 어떤 하나의 큰 서비스\n",
    "        - 우리가 만들고 있는 하나의 웹 사이트\n",
    "        \n",
    "- 앱(App)\n",
    "    - 프로젝트 내 기능과 같은 요소들을 일정한 기준으로 나눠 놓은 단위\n",
    "    - 예) 페이스북과 같은 sns 를 만든다고 하면 페이스북은 프로젝트가 되고 이 프로젝트는 몇 가지 그룹으로 나뉠 수 있음\n",
    "        - 회원 가입/로그인/친구 맺기 피드 관련 내용\n",
    "        - 글쓰기/삭제하기/수정하기/공유하기\n",
    "    - 위 예시에서 회원앱/메신저앱 으로 나눠놓는다면 어떤 기능 관련 코드를 찾을 때 어느 그룹으로 가야하는지 알 수 있고 여럿이 협업해서 개발한다면 역할 분담이 쉬워짐\n",
    "    - 무엇을 기준으로 나누느냐에 따라 프로젝트 구조가 달라지고 개발 난이도에 영향을 줄 수 있음"
   ]
  },
  {
   "cell_type": "markdown",
   "id": "67a8947e",
   "metadata": {},
   "source": [
    "## Django 프로젝트 구성요소\n",
    "\n",
    "- manage.py\n",
    "    - Django와 관련된 명령어를 써야할 때 사용하는 파일\n",
    "    - 사용자가 입력하는 명령어를 처리하는 파일\n",
    "    \n",
    "- 프로젝트 폴더\n",
    "    - startproject 명령어로 만들어진 폴더로, 총 5개의 .py 파일이 존재\n",
    "    - 그 중에서 주로 사용하게 될 파일은 settings.py, urls.py\n",
    "    - settings.py\n",
    "        - 프로젝트의 설정 파일\n",
    "        - DEBUG\n",
    "            - 디버깅 모드에 대한 옵션\n",
    "            - 디버깅 모드에서는 웹 결과물이 어떤 페이지나 기능에서 에러가 발생했을 때 그 에러에 대한 메세지가 웹페이지에 그대로 노출됨\n",
    "                - 개발할 때는 보면서 에러를 고치면 되지만, 실제로 배포를 할 때 사용자들이 보기엔 당황스러울 수 있음\n",
    "                - 또는 해커들이 프로젝트의 구조를 파악해 공격의 실마리를 찾을 가능성도 있음\n",
    "                - 따라서 배포할 때 디버깅 모드 꺼야함\n",
    "                \n",
    "        - ALLOWED_HOSTS\n",
    "            - 허용할 호스트 주소에 대한 내용\n",
    "            - 호스트 주소 : Django 프로젝트가 구동되는 환경에 접속할 수 있는 주소\n",
    "                - 현재는 http://127.0.0.1:8000 에서 실행되어 127.0.0.1이 호스트 주소가 됨\n",
    "                - 로컬주소는 기본값이기 때문에 따로 선언하지 않아도 되지만 만약에 선언한다면 [\"127.0.0.1\"] 형식으로 입력하면 됨\n",
    "                - 실제로 프로젝트를 배포할 때는 서버의 호스트 주소를 입력해야 외부에서 프로젝트로 접속할 수 있음\n",
    "                \n",
    "        - INSTALLED_APPS\n",
    "            - 설치된 앱들을 등록하는 옵션\n",
    "            - Django 프로젝트에서 사용할, 만든 앱들을 선언해 주어야 등록이 되어 프로젝트에서 정상적으로 적용됨\n",
    "            \n",
    "            \n",
    "    - url.py\n",
    "        - 프로젝트의 url주소를 등록해놓는 파일\n",
    "        - path()를 통해 원하는 주소를 등록할 수 있음\n",
    "            - path(\"admin/\", admin.site.urls)\n",
    "            - 위의 경우에는 127.0.0.1:8000/admin/ 이라는 주소가 선언된 것\n",
    "            "
   ]
  },
  {
   "cell_type": "markdown",
   "id": "c84f1cc2",
   "metadata": {},
   "source": [
    "## MTV 패턴\n",
    "\n",
    "- Django에서는 MTV패턴으로 개발을 진행\n",
    "    - 어떠한 패턴으로 개발을 진행한다는 것은 작업에 어느정도 규칙과 정해진 방식이 있고, 그 방식을 따라가며 중간중간 방식이 요구하는 내용을 채워넣으면서 개발을 진행한다는 개념\n",
    "    - 개발 패턴에는 여러 종류가 있음\n",
    "        - 코드들이 각자 자기가 맡은 역할만을 온전히 수행하고, 서로 독립된 형태로 동작하는 구조로 프로젝트를 만들면 이후 프로젝트를 유지보수하게 되더라도 전체적인 흐름을 파악하기 쉬움\n",
    "        \n",
    "- MTV패턴\n",
    "    - model(모델)\n",
    "        - 앱의 데이터와 관련된 부분\n",
    "        \n",
    "    \n",
    "    - template(템플릿)\n",
    "        - 사용자에게 보이는 부분\n",
    "    \n",
    "    - view(뷰)\n",
    "        - 모델과 템플릿 사이에서 model의 데이터를 template으로 전달하고 template에서 발생하는 이벤트 처리하는 부분\n",
    "\n"
   ]
  },
  {
   "cell_type": "markdown",
   "id": "357f2805",
   "metadata": {},
   "source": [
    "<img src = \"./image/mtv.png\">"
   ]
  },
  {
   "cell_type": "markdown",
   "id": "17e82e1a",
   "metadata": {},
   "source": [
    "1. 유저가 특정 url로 요청을 보냄\n",
    "2. 해당 url과 매핑된 뷰를 호출\n",
    "3. 호출된 뷰는 요청에 따라 적절한 로직을 수행하며 그 과정에서 모델에게 CRUD를 지시\n",
    "4. 모델은 DB와 소통하며 CRUD를 수행\n",
    "5. 뷰는 지정된 템플릿을 렌더링하고 \n",
    "6. 최종 결과를 응답으로 반환\n"
   ]
  },
  {
   "cell_type": "markdown",
   "id": "a4de4f52",
   "metadata": {},
   "source": [
    "## 마이그레이션\n",
    "\n",
    "1. 마이그레이션 파일 생성\n",
    "    - python manage.py makemigrations\n",
    "    \n",
    "2. 마이그레이션 적용\n",
    "    - python manage.py migrate"
   ]
  },
  {
   "cell_type": "markdown",
   "id": "70e74a48",
   "metadata": {},
   "source": [
    "- 관리자계정 생성 명령어\n",
    "    - python manage.py createsuperuser"
   ]
  },
  {
   "cell_type": "markdown",
   "id": "90b22d19",
   "metadata": {},
   "source": [
    "# Django Model\n",
    "\n",
    "- 모델은 앱의 데이터와 관련된 부분을 다루는 영역\n",
    "- 데이터베이스에 저장될 데이터의 모양을 정의하고 관련된 일부 기능을 설정해주는 영역\n",
    "    - 예) 사용자\n",
    "        - 아이디\n",
    "        - 이름\n",
    "        - 비밀번호\n",
    "        - 이메일\n",
    "        - 나이\n",
    "        - 성별\n",
    "        \n",
    "- 위처럼 데이터의 특징들을 뽑아 이를 구성요소로 하는 것을 모델링 이라고 함\n",
    "- 개체를 모델링한 결과물은 모델\n",
    "    - 위 예시에서 사용자는 모델이고 그 내부에 있는 아이디, 이름 등은 모델의 구성요소 혹은 속성\n",
    "    \n",
    "- 모델은 데이터베이스의 테이블과 같은 구조임\n",
    "    - 모델 형태의 데이터들을 데이터베이스에 적용시키면 데이터베이스 테이블이 됨\n",
    "- 모델을 데이터베이스에 적용시키는 과정을 마이그레이션(Migration)이라고 함\n"
   ]
  },
  {
   "cell_type": "markdown",
   "id": "f6304817",
   "metadata": {},
   "source": [
    "## Django 모델 생성\n",
    "\n",
    "- 모델은 하나의 클래스로 만들 수 있음\n",
    "- 클래스는 models.py에서 작성\n",
    "    - 속성을 정의하고 각 속성에 대한 세부 설정을 진행\n",
    "    "
   ]
  },
  {
   "cell_type": "markdown",
   "id": "ec3f63b6",
   "metadata": {},
   "source": [
    "### Django 필드 종류\n",
    "\n",
    "- charfield : 문자열(길이제한 필요)\n",
    "- IntergerField : 정수\n",
    "- TextField : 문자열(길이제한 필요 없음)\n",
    "- DataTimeField : 날짜 + 시간\n",
    "- FileField : 파일\n",
    "- ImageField : 이미지 파일\n",
    "- ForeignKey : 외래키(관계)\n",
    "- OneToOneField : 1대1 관계\n",
    "- ManyToManyField : 다대다 관계"
   ]
  },
  {
   "cell_type": "markdown",
   "id": "296aebd9",
   "metadata": {},
   "source": [
    "#  Django template\n",
    "\n",
    "- 사용자에게 보여지는 웹페이지 골격\n",
    "    - HTML로 작성된 부분\n",
    "- 프론트 개발 영역에 포함되는 부분\n"
   ]
  },
  {
   "cell_type": "markdown",
   "id": "e78c3c37",
   "metadata": {},
   "source": [
    "## Django Template의 특징\n",
    "\n",
    "- 일반적인 HTML 작성과 거의 동일하지만 한 가지 차이점은 템플릿 태그(Template Tag)\n",
    "    - HTML이 파이썬 코드로부터 데이터를 바로 넘겨받아 손쉽게 처리할 수 있는 도구\n",
    "    \n",
    "- HTML은 그저 마크업 언어이기 때문에 정적인 웹페이지를 보여주기만 하는데 무언가 데이터를 넘겨받아서 웹페이지에 보여주기 위해서는 자바스크립트와 같은 도구가 필요\n",
    "\n",
    "    - Django에서는 템플릿 태그가 있기 때문에 파이썬에서 데이터를 받아서 표현할 수 있음\n",
    "    - for / if와 같은 파이썬의 기본적인 구문도 사용가능\n",
    "    \n",
    "    "
   ]
  },
  {
   "cell_type": "markdown",
   "id": "c3f843cf",
   "metadata": {},
   "source": [
    "#  Django view, URL "
   ]
  },
  {
   "cell_type": "markdown",
   "id": "2975143c",
   "metadata": {},
   "source": [
    "## view\n",
    "\n",
    "- 템플릿과 모델 사이를 이어주는 다리와 같은 역할\n",
    "- 모델을 통해 데이터에 접근하여 템플릿으로부터 요청 받은 데이터를 뽑아와 템플릿에게 답변으로 보내줌\n",
    "    - 프론트에서 백에게 데이터를 요청할 때 백엔드에서 데이터를 뽑아서 프론트엔드에게 적용해주는 과정을 뷰가 처리\n",
    "    "
   ]
  },
  {
   "cell_type": "markdown",
   "id": "90b580ae",
   "metadata": {},
   "source": [
    "## URL(Uniform Resource Locator)\n",
    "\n",
    "- 서버로 해당 주소에 할당된 리소스를 요청하는 역할\n",
    "    - 리소스 : 웹브라우저로 보는 HTML과 내부를 채우는 데이터 등을 포함하는 개념\n",
    "    "
   ]
  },
  {
   "cell_type": "markdown",
   "id": "7cc14fbd",
   "metadata": {},
   "source": [
    "user - url - view - model - db - model - view\n",
    "            -- view - template - view\n",
    "\n"
   ]
  },
  {
   "cell_type": "markdown",
   "id": "4ef7b88a",
   "metadata": {},
   "source": []
  },
  {
   "cell_type": "code",
   "execution_count": null,
   "id": "2c3cae35",
   "metadata": {},
   "outputs": [],
   "source": []
  },
  {
   "cell_type": "markdown",
   "id": "9ba3d463",
   "metadata": {},
   "source": [
    "<Django ORM>\n",
    "ORM(Object-relational mapping 객체관계매핑)\n",
    "- 데이터베이스의 데이터를 객체와 연결해주는 기능\n",
    "- Model 클래스는 데이터베이스의 테이블(=모델) 형태 나타냄\n",
    "- Model 클래스 통해 데이터를 가져올 때 모델의 objects 속성 사용\n",
    "-> 전체 데이터 목록 가져오기 : 모델.objects.all()\n",
    "-> 특정조건 만족하는 데이터 한개 정보 가져오기 : 모델.objects.get(조건)\n",
    "-> 특정조건 만족하는 데이터들의 정보 가져오기 : 모델.objects.filter(조건)"
   ]
  },
  {
   "cell_type": "code",
   "execution_count": null,
   "id": "787af918",
   "metadata": {},
   "outputs": [],
   "source": []
  },
  {
   "cell_type": "markdown",
   "id": "34e5dc29",
   "metadata": {},
   "source": [
    "<웹에서 데이터 전송하는 방법>\n",
    "- GET(주소창에 보여짐)\n",
    "--> 서버에 보낼 데이터가 공개되어도 상관 없을때 사용\n",
    "\n",
    "- POST\n",
    "--> 요청 자체에 데이터를 담아보내며, 외부 노출하면 안되는 비밀값을 사용할 때 사용\n",
    "\n"
   ]
  },
  {
   "cell_type": "code",
   "execution_count": null,
   "id": "1e49e225",
   "metadata": {},
   "outputs": [],
   "source": []
  },
  {
   "cell_type": "markdown",
   "id": "3fefec12",
   "metadata": {},
   "source": [
    "마이그레이션 : python manage.py makemigrations\n",
    "python manage.py migrate\n",
    "\n",
    "\n",
    "관리자페이지 - admin.py\n",
    "-from burgers.models import Burger\n",
    "\n",
    "\n",
    "-@admin.register(Burger)\n",
    "-class BurgerAdmin(admin.ModelAdmin):\n",
    "    pass\n",
    "\n",
    "관리자계정 : python manage.py createsuperuser\n"
   ]
  },
  {
   "cell_type": "code",
   "execution_count": null,
   "id": "e26a062f",
   "metadata": {},
   "outputs": [],
   "source": []
  },
  {
   "cell_type": "code",
   "execution_count": null,
   "id": "69962071",
   "metadata": {},
   "outputs": [],
   "source": []
  },
  {
   "cell_type": "markdown",
   "id": "3c0bdd12",
   "metadata": {},
   "source": [
    "#  WEB 4"
   ]
  },
  {
   "cell_type": "markdown",
   "id": "b99c8246",
   "metadata": {},
   "source": [
    "1. 가상환경만들기\n",
    "- conda create -n pylog_env python\n",
    "- conda activate pylog_env\n",
    "- (장고 설정) pip install django\n",
    "\n",
    "2. 프로젝트 만들기\n",
    "django-admin startproject pylog .\n",
    "\n",
    "3. 앱 만들기\n",
    "python manage.py startapp blog\n",
    "\n",
    "4. 프로젝트시작\n",
    "python manage.py runserver \n",
    "\n"
   ]
  },
  {
   "cell_type": "markdown",
   "id": "3b16dce6",
   "metadata": {},
   "source": [
    "##  대문페이지 개발\n",
    "\n",
    "1. setting app 추가\n",
    "\n",
    "2. views.py 인덱스 추가\n",
    "    - def index(request):\n",
    "        - return render(request, \"index.html\")\n",
    "        \n",
    "3. templates 폴더 추가 - index.html 파일추가\n",
    "```\n",
    "<html lang=\"ko\">\n",
    "<body>\n",
    "<h1>pylog</h1>\n",
    "</body>\n",
    "</html>\n",
    "```"
   ]
  },
  {
   "cell_type": "markdown",
   "id": "b2716505",
   "metadata": {},
   "source": [
    "## 글. 댓글.\n",
    "<models.py>\n",
    "```\n",
    "class Post(models.Model):\n",
    "    title = models.CharField(\"포스트 제목\", max_length = 100)\n",
    "    content = models.TextField(\"포스트 내용\")\n",
    "\n",
    "    def __str__(self):\n",
    "        return self.title\n",
    "    \n",
    "class comment(models.Model):\n",
    "    post = models.ForeignKey(Post, on_delete = models.CASCADE)\n",
    "    content = models.TextField(\"댓글 내용\")\n",
    "\n",
    "    def __str__(self):\n",
    "        return f\"{self.post.title}의 댓글 (ID : {self.id})\"\n",
    "```\n",
    "\n",
    "- 마이그레이션 시작\n",
    "\n",
    "< Admin 등록>\n",
    "```\n",
    "from .models import Post, comment\n",
    "\n",
    "\n",
    "# Register your models here.\n",
    "@admin.register(Post)\n",
    "class PostAdmin(admin.ModelAdmin):\n",
    "    pass\n",
    "\n",
    "@admin.register(Comment)\n",
    "class CommentAdmin(admin.ModelAdmin):\n",
    "    pass\n",
    "\n",
    "```"
   ]
  },
  {
   "cell_type": "markdown",
   "id": "2356f6ba",
   "metadata": {},
   "source": [
    "## 게시글 목록 보여주기\n",
    "\n",
    "1. view 함수명은 post_list\n",
    "2. url은 127.0.0.1:8000/posts/\n",
    "3. 템플릿은 post_list.html\n",
    "4. 템플릿에서 각 게시글 제목과 내용을 출력"
   ]
  },
  {
   "cell_type": "markdown",
   "id": "49a64876",
   "metadata": {},
   "source": [
    "### 1-1 view 함수명은 post_list\n",
    "- view에 post_list 생성\n",
    "- 어디서 post_list 갖고와야하나\n",
    "```\n",
    "from .model import Post\n",
    "\n",
    "# 함수생성, 렌더링\n",
    "def post_list(request):\n",
    "    posts = Post.object.all()\n",
    "    \n",
    "    # 템플릿에 전달할 딕셔너리 context = {키 : 데이터}\n",
    "    \n",
    "    context = {\n",
    "        \"posts\" : posts,\n",
    "        }\n",
    "        \n",
    "    return render(request, \"post_list.html\", context)\n",
    "```"
   ]
  },
  {
   "cell_type": "markdown",
   "id": "cdb75df0",
   "metadata": {},
   "source": [
    "### 2-1 url은 127.0.0.1:8000/posts/\n",
    "\n",
    "- url 생성\n",
    "- path(\"posts/\", views.post_list)"
   ]
  },
  {
   "cell_type": "markdown",
   "id": "0c975ff0",
   "metadata": {},
   "source": [
    "### 3-4 템플릿 생성 "
   ]
  },
  {
   "cell_type": "markdown",
   "id": "8911cbce",
   "metadata": {},
   "source": [
    "- 댓글 가져오기 (view 코멘트 안갖고오는 방법)\n",
    "- post_list.html\n",
    "```\n",
    "<div>{{ post.comment_set.all }}</div>\n",
    "```\n",
    "\n",
    "```\n",
    "<ul> \n",
    " {% for comment in post.comment_set.all %}\n",
    "{% endfor %}\n",
    "</ul>\n",
    "```"
   ]
  },
  {
   "cell_type": "markdown",
   "id": "fc25d0dc",
   "metadata": {},
   "source": [
    "### 예제 post_list.html\n",
    "```\n",
    "<!DOCTYPE html>\n",
    "<html lang=\"ko\">\n",
    "    <body>\n",
    "        <h1>POST LIST</h1> \n",
    "        <ul>\n",
    "        {% for post in posts %}\n",
    "            <div>\n",
    "                <li>\n",
    "                    <!--각각의 제목과 내용 나누어 표시-->\n",
    "                    <h2>{{ post.title }}</h2>\n",
    "                    <p>{{ post.content }}</p>\n",
    "                    <!--post와 연결된 모든 comment Queryset-->\n",
    "                    <ul>\n",
    "                        {% for comment in post.comment_set.all %}\n",
    "                            <li>{{comment.content}}</li>\n",
    "                        {% empty %}<!--post.comment_set.all에 순회할 항목이 없는 경우-->\n",
    "                            <li>댓글이 없습니다</li>\n",
    "                        {% endfor %}\n",
    "                    </ul>\n",
    "                </li>\n",
    "            </div>  \n",
    "        {% endfor %}\n",
    "        </ul>\n",
    "    </body>\n",
    "</html>\n",
    "```"
   ]
  },
  {
   "cell_type": "code",
   "execution_count": null,
   "id": "a2bd7a38",
   "metadata": {},
   "outputs": [],
   "source": []
  },
  {
   "cell_type": "markdown",
   "id": "1a35bff1",
   "metadata": {},
   "source": [
    "# 정적파일 (Static files)\n",
    "\n",
    "- 사전적으로는 변화가 없는 파일\n",
    "\n",
    "- 프레임워크에서 정적파일이란 프레임워크의 소스코드를 제외한 나머지 이미지, 동영상, CSS, Java Script파일 등\n",
    "\n",
    "- 소스코드는 일반적으로 동적인 결과물을 만들어내는데 사용\n",
    "\n",
    "- 정적파일은 사용자에게 변형 없이 언제나 동일한 형태로 제공\n"
   ]
  },
  {
   "cell_type": "code",
   "execution_count": 2,
   "id": "18089d59",
   "metadata": {},
   "outputs": [],
   "source": [
    "# 비주얼 스튜디오 - static - css - 파일추가(트렐로) - settings.py에서 적용해야 사용가능\n",
    " # --> STATICFILES_DIRS = [BASE_DIR / \"static\"]\n"
   ]
  },
  {
   "cell_type": "markdown",
   "id": "d9753e0a",
   "metadata": {},
   "source": [
    "템플릿에서 정적파일 사용\n",
    "\n",
    "- 템플릿에서 정적파일을 불러올 때는 {% static'정적파일경로' %} 태그 사용"
   ]
  },
  {
   "cell_type": "markdown",
   "id": "085a82f4",
   "metadata": {},
   "source": [
    "index 템플릿\n",
    "```\n",
    "{% load static %}\n",
    "<!DOCTYPE html>\n",
    "<html lang=\"ko\">\n",
    "    <head>\n",
    "        <link rel = \"stylesheet\" href = \"{% static 'css/style.css' %}\">\n",
    "    </head>\n",
    "    <body>\n",
    "        <h1>pylog</h1>\n",
    "    </body>\n",
    "</html>\n",
    "\n",
    "```"
   ]
  },
  {
   "cell_type": "markdown",
   "id": "9005152f",
   "metadata": {},
   "source": [
    "정적 파일 적용하고자 하는 모든 html에\n",
    "\n",
    "제일 상단에 \n",
    "```\n",
    "{% load static %} - <head>만들어서 (있으면 그 안에)\n",
    "<link rel = \"stylesheet\" href = \"{% static 'css/style.css' %}\">\n",
    "\n",
    "```"
   ]
  },
  {
   "cell_type": "markdown",
   "id": "7a5c86df",
   "metadata": {},
   "source": [
    "## 정적파일의 분류\n",
    "- Django에서 정적파일은 두가지로 나뉨\n",
    "    - 소스코드에 포함되는 정적파일\n",
    "    - 유저가 업로드하는 정적파일\n",
    "    \n",
    "- 이전에 정적파일을 넣어뒀던 디렉터리는 소스코드에 포함되는 정적파일을 두는곳(프로젝트 일부분으로 취급됨)\n",
    "\n",
    "- 유저가 업로드하는 정적파일은 프로젝트에 포함되지 않음\n",
    "    - 블로그라는 전체 프로젝트와 별개로 블로그를 사용하는 사용자들이 업로드하는 글에 포함된 이미지와 같은 데이터"
   ]
  },
  {
   "cell_type": "markdown",
   "id": "48b75ec2",
   "metadata": {},
   "source": [
    "### 유저가 업로드하는 정적파일 설정\n",
    "- setting.py 에서 소스코드에 포함되는 정적파일의 설정은 STATIC_로 시작, 유저가 업로드하는 정적파일과 관련된 설정으 MEDIA_ 로 시작"
   ]
  },
  {
   "cell_type": "markdown",
   "id": "63147142",
   "metadata": {},
   "source": [
    "- MEDIA_URL\n",
    "    - 유저가 업로드한 파일에 접근할 수 있도록 브라우저에 제공하는 경로 접두어\n",
    "    \n",
    "    - 소스코드에 포함되는 정적파일은 STATIC_URL이라는 설정값을 사용하며, 기본값은\"/static/\"\n",
    "    \n",
    "- MEDIA_ROOT\n",
    "    - 실제로 유저가 업로드한 파일이 저장될 경로\n",
    "\n",
    "```\n",
    "setting.py에 미디어 디렉토리 설정\n",
    "MEDIA_URL = \"media/\"\n",
    "MEDIA_ROOT = BASE_DIR / \"media\"\n",
    "```\n",
    "\n",
    "사용자에게 이미지 등록받기\n",
    "\n",
    "- models.py 수정\n",
    "    - thumbnail = models.ImageField(\"썸네일 이미지\", upload_to=\"post\", blank = True)\n",
    "    \n",
    "- 이미지 필드 사용하려면 pillow 이미지 관리 프로그램 설치\n",
    "- 모델 변동사항 생기면 마이그레이션 \n",
    "\n",
    "- 이미지 미디어파일이 연결될 수 있는 url 설정해줘야함\n",
    "\n",
    "- 관리자 페이지 설정 바꾸려면 admin.py\n",
    "    - list_display = [\"title\", \"thumbnail\"]  : 리스트를 타이틀 / 썸네일 두개 같이 보여주기\n",
    "    \n",
    "- 포스트 댓글 밑에 이미지 보여주기\n",
    "```\n",
    "                        {% if post.thumbnail %}\n",
    "                            <img src=\"{{ post.thumbnail.url }}\" alt=\"\">\n",
    "                        {% else %}\n",
    "                            <img src = \"\" alt=\"\">\n",
    "                        {% endif %}\n",
    "```\n",
    "\n"
   ]
  },
  {
   "cell_type": "markdown",
   "id": "a55f2bb2",
   "metadata": {},
   "source": [
    "포스트 상세보기\n",
    "\n",
    "- 블로그 views.py 수정(함수문 추가)\n",
    "```\n",
    "def post_detail(request): -> 동적으로 url 수정시 (request, post_id)로 수정\n",
    "    return render(request, \"post_detail.html\")\n",
    "```\n",
    "- urls.py 수정\n",
    "```\n",
    "path(\"posts/1/\",views.post_detail) -> 정적\n",
    "path(\"posts/<int:post_id>/\",views.post_detail) -> 동적\n",
    "```\n",
    "- 템플릿 만들기"
   ]
  },
  {
   "cell_type": "markdown",
   "id": "1db93827",
   "metadata": {},
   "source": [
    "### 동적 URL 경로\n",
    "\"post/<int:post_id>/\"\n",
    "\n",
    "int : 정수 형태 값을 받도록 제한\n",
    "post_id : <와> 사이의 영역이 post_id라는 이름을 가진다"
   ]
  },
  {
   "cell_type": "code",
   "execution_count": null,
   "id": "73590efd",
   "metadata": {},
   "outputs": [],
   "source": []
  },
  {
   "cell_type": "markdown",
   "id": "aa078cdc",
   "metadata": {},
   "source": [
    "### 글작성 페이지 구조\n",
    "- view : post_add\n",
    "- url : 127.0.0.1:8000/posts/add\n",
    "- template : post_add.html\n",
    "- style.css 적용\n"
   ]
  },
  {
   "cell_type": "markdown",
   "id": "87f9d10c",
   "metadata": {},
   "source": [
    "사용자의 입력을 받는 Template\n",
    "```\n",
    "- HTML에서 사용자의 입력을 받는 요소\n",
    "    - 입력에 대한 제목 : < label >\n",
    "    - 한줄짜리 텍스트 입력 :  <input type = \"text\">\n",
    "    - 여러줄 텍스트 입력 : < textarea >\n",
    "    - 버튼 : < button >\n",
    "```"
   ]
  },
  {
   "cell_type": "markdown",
   "id": "4de1dabc",
   "metadata": {},
   "source": [
    "사용자의 입력을 받는 요소는 form태그로 감싼다\n",
    "\n",
    "```\n",
    "           <form method=\"GET\">\n",
    "                <div>\n",
    "                    <label> 제목 </label>\n",
    "                    <input type = \"text\" name=\"title\">\n",
    "                </div>\n",
    "                <div>\n",
    "                    <label> 내용 </label>\n",
    "                    <textarea name = \"content\" cols=\"50\"(가로길이) rows=\"10\"(세로길이)></textarea>\n",
    "                </div>\n",
    "                <button type=\"submit\"> 작성 </button>\n",
    "            </form>\n",
    "            \n",
    "```\n",
    "\n",
    "- div로 각각의 입력 항목들을 감싸고, 내부에 label로 해당 항목의 이름을 표시"
   ]
  },
  {
   "cell_type": "markdown",
   "id": "bc1a6b13",
   "metadata": {},
   "source": [
    "GET(조회) -> url  \n",
    "    - 단점 : 보안 / 데이터길이\n",
    "    \n",
    "POST(생성/수정) -> request body(url이아닌 데이터를 보냄)\n",
    "    "
   ]
  },
  {
   "cell_type": "markdown",
   "id": "937fe883",
   "metadata": {},
   "source": [
    "POST 요청에 대한 Forbidden오류\n",
    "- 403 Forbidden : 요청 받았으나 그 요청을 처리할 권한이 없기 때문에 서버에서 거부함\n",
    "\n",
    "- CSRF 공격 \n",
    "    - CSRF 인증에 실패해 요청이 중단됨\n",
    "    - CSFR : Cross-site Request Forgery(사이트간 요청 위조)\n",
    "    "
   ]
  },
  {
   "cell_type": "markdown",
   "id": "b60f1efe",
   "metadata": {},
   "source": [
    "Django에서 처리하는 GET과 POST요청\n",
    "\n",
    "- 지금까지 CSRF 인증 오류가 발생하지 않는 이유는 Django가 데이터를 처리하는 방식이 \n",
    "GET / POST에 따라 다르기 때문\n",
    "\n",
    "- GET 사이트의 특정 페이지에 접속하거나, 검색을 하는 등의 읽기/ 조회 행동을 수행하는데 씀\n",
    "\n",
    "- POST 사이트의 특정 데이터를 변경/ 작성하는데 사용\n",
    "- 따라서 Django는 POST 요청에 대해서 GET요청보다 더 놓은 보안수준 적용\n",
    "\n",
    "- Django의 CSRF 공격 방어기법\n",
    "    - CSRF 공격 방어의 핵심은 로그인한 사용자가 의도하지 않은 POST요청을 거부하는 것\n",
    "        - Django는 새로운 요청을 하는 브라우저마다 구분되는 값을 서버에 저장\n",
    "        - POST요청을 하는 form이 브라우저별로 구분되는 값을 가지지않으면 요청거부\n",
    "    (- 브라우저별로 구분되는 값은 서버에 저장되므로 브라우저를 이용하는 사람(이용자 또는 해커)는 그 값을 알 수 없음)\n",
    "        - template 파일에서 {% csrf_token %} 태그 사용하면 이 영역은 브라우저별로 구분되는 값으로 치환됨\n"
   ]
  },
  {
   "cell_type": "markdown",
   "id": "01204e5f",
   "metadata": {},
   "source": [
    "### post방식 전달 후 view 수정\n",
    "```\n",
    "print(request.POST) XXXXXXX 에러 발생\n",
    "```\n",
    "\n",
    "```\n",
    "def post_add(request):\n",
    "    if request.method == \"POST\": # method가 POST일 때\n",
    "        print(\"method POST\")\n",
    "        title = request.POST[\"title\"]\n",
    "        content = request.POST[\"content\"]\n",
    "        print(title)\n",
    "        print(content)\n",
    "        return render(request, \"post_add.html\")\n",
    "    else: # method가 POST가 아닐 때\n",
    "        print(\"method GET\")\n",
    "        return render(request, \"post_add.html\")\n",
    "```"
   ]
  },
  {
   "cell_type": "markdown",
   "id": "dcc38620",
   "metadata": {},
   "source": [
    "코드간소화\n",
    "```\n",
    "def post_add(request):\n",
    "    if request.method == \"POST\": # method가 POST일 때\n",
    "        print(\"method POST\")\n",
    "        title = request.POST[\"title\"]\n",
    "        content = request.POST[\"content\"]\n",
    "        print(title)\n",
    "        print(content)\n",
    "    \n",
    "    return render(request, \"post_add.html\")\n",
    "```"
   ]
  },
  {
   "cell_type": "markdown",
   "id": "8ab7b455",
   "metadata": {},
   "source": [
    "### POST 데이터를 사용한 DB row 생성\n",
    "- ORM 사용해서 DB에 데이터 생성할 때는 create 메소드 사용\n",
    "    - created_instance = 모델.objects.create(필드명=필드값)\n",
    "    \n",
    "    "
   ]
  },
  {
   "cell_type": "markdown",
   "id": "a9c512be",
   "metadata": {},
   "source": [
    "views.py 수정해서 posts/add/ 추가하면 바로 목록으로 가기\n",
    "- redirect -\n",
    "- 맨위 import render, redirect\n",
    "- return redirect(\"/posts/새로만든게시글의 id/\") : 포스트목록으로 이동 -> (f\"/posts/{post.id}\") : 해당 게시글의 상세페이지로 이동"
   ]
  },
  {
   "cell_type": "code",
   "execution_count": null,
   "id": "6de6f571",
   "metadata": {},
   "outputs": [],
   "source": []
  },
  {
   "cell_type": "markdown",
   "id": "bfbde86a",
   "metadata": {},
   "source": [
    "## 댓글 작성\n",
    "\n",
    "- 글 작성과의 차이점\n",
    "    - 제목이 없음\n",
    "    - 작성 댓글이 반드시 어떤 글(post)에 소속되어있어야함\n",
    "    \n",
    "    1. 터미널에서 댓글 생성\n",
    "    - python manga.py shell\n",
    "    - from blog.models import comment\n",
    "    - comments.objects.all().delete()\n",
    "    - comments.objects.create(content=\"sample\") XXXXX - 지정된 포스트가 없어서 안됨\n",
    "    - from blog.models import Post\n",
    "    - post = Post.objects.first()\n",
    "    - print(post.id)\n",
    "    - comments.objects.create(post=post, content=\"sample\")"
   ]
  },
  {
   "cell_type": "markdown",
   "id": "3a8078ce",
   "metadata": {},
   "source": [
    "### 댓글 생성 form 추가\n",
    "\n",
    "요구사항\n",
    "1. post_detail.html 댓글 생성 form 추가\n",
    "2. POST 방식 데이터 전달\n",
    "3. 댓글 내용은 여러줄 문자열\n",
    "4. 버튼에 btn클래스 btn-primary 클래스 적용\n",
    "5. 댓글 내용은 comment 로 전달"
   ]
  },
  {
   "cell_type": "markdown",
   "id": "70e3e327",
   "metadata": {},
   "source": [
    "1. post_detail.html 작성\n",
    "```\n",
    "<form method=\"POST\">\n",
    "{%csrf_token%}\n",
    "<textarea name=\"comment\"></textarea>\n",
    "<button type=\"submit\" class=\"btn btn-primary\">댓글 작성</button>\n",
    "</form>\n",
    "\n",
    "```"
   ]
  },
  {
   "cell_type": "markdown",
   "id": "5fb309c6",
   "metadata": {},
   "source": [
    "2. view.py 작성\n",
    "```\n",
    "상단에 form blog.models import Post, Comment\n",
    "if request.methon == \"POST\":\n",
    "        # textarea의 name속성값(comment)가져옴\n",
    "        comment_content = request.POST[\"comment\"]\n",
    "        print(comment_content)\n",
    "        \n",
    "         Comment.objects.create(\n",
    "            post=post,\n",
    "            content = comment_content,\n",
    "            )\n",
    "        #1. GET 요청으로 글 상세페이지 보여주거나\n",
    "        #2. POST 요청으로 댓글 생성되거나\n",
    "        #3. 두경우 모두, 이 글의 상세페이지 보여주면 됨\n",
    "\n",
    "\n",
    "```\n"
   ]
  },
  {
   "cell_type": "markdown",
   "id": "f9846954",
   "metadata": {},
   "source": [
    " ###  글 작성시 이미지 업로드\n",
    " \n",
    "- POST모델에는 썸네일 다루는 이미지 필드가 있음\n",
    "- 텍스트와 다르게 이미지와 같은 파일을 form으로 전달받으려면 별도의 처리가 필요\n",
    "- 파일을 첨부할 때는 ```<input type=\"file\">```  태그를 사용\n",
    "\n",
    "- 파일을 전송해야하는 form에는 ``` enctype=\"multipart/form-data\" ```속성 추가해야함\n",
    "    - enctype 속성은 데이터를 서버로 전송할 때 어떤 인코딩 유형을 쓸 것인지 나타냄\n",
    "    - 인코딩은 form에 추가한 데이터를 어떤 방식을 변환시킬것인지 정하는 규격\n",
    "    - form에 별도로 enctype을 지정하지 않는다면 텍스트 데이터만 보낼 수 있음\n",
    "    \n",
    "- view에서 POST메소드로 전달받은 데이터는 request.POST에서 가져옴\n",
    "- 전송된 파일은 request.FILES에서 가져와야함"
   ]
  },
  {
   "cell_type": "markdown",
   "id": "f0f16fa5",
   "metadata": {},
   "source": [
    "- post_add.html \n",
    "```\n",
    "<form method=\"POST\" enctype = \"multipart/form-data\">\n",
    "    <div>\n",
    "        <label>썸네일</label>\n",
    "        <input type=\"file\" name=\"thumbnail\">\n",
    "                    \n",
    "    </div>\n",
    "```"
   ]
  },
  {
   "cell_type": "markdown",
   "id": "721eef31",
   "metadata": {},
   "source": [
    "- views.py에 추가\n",
    "```\n",
    " thumbnail = request.FILES[\"thumbnail\"] #이미지 파일\n",
    "\n",
    "        post = Post.objects.create(\n",
    "            title=title,\n",
    "            content= content,\n",
    "            thumbnail=thumbnail, # 이미지 파일을 게시글 객체 생성시에 전달            \n",
    "        )\n",
    "```\n"
   ]
  },
  {
   "cell_type": "code",
   "execution_count": null,
   "id": "59acb616",
   "metadata": {},
   "outputs": [],
   "source": []
  },
  {
   "cell_type": "code",
   "execution_count": null,
   "id": "1249738e",
   "metadata": {},
   "outputs": [],
   "source": []
  },
  {
   "cell_type": "code",
   "execution_count": null,
   "id": "3b500141",
   "metadata": {},
   "outputs": [],
   "source": []
  },
  {
   "cell_type": "code",
   "execution_count": null,
   "id": "04bf9744",
   "metadata": {},
   "outputs": [],
   "source": []
  },
  {
   "cell_type": "code",
   "execution_count": null,
   "id": "ea844dba",
   "metadata": {},
   "outputs": [],
   "source": []
  },
  {
   "cell_type": "code",
   "execution_count": null,
   "id": "35192a12",
   "metadata": {},
   "outputs": [],
   "source": []
  },
  {
   "cell_type": "code",
   "execution_count": null,
   "id": "c0863f40",
   "metadata": {},
   "outputs": [],
   "source": []
  },
  {
   "cell_type": "code",
   "execution_count": null,
   "id": "fedcb626",
   "metadata": {},
   "outputs": [],
   "source": []
  },
  {
   "cell_type": "code",
   "execution_count": null,
   "id": "64633b18",
   "metadata": {},
   "outputs": [],
   "source": []
  }
 ],
 "metadata": {
  "kernelspec": {
   "display_name": "Python 3 (ipykernel)",
   "language": "python",
   "name": "python3"
  },
  "language_info": {
   "codemirror_mode": {
    "name": "ipython",
    "version": 3
   },
   "file_extension": ".py",
   "mimetype": "text/x-python",
   "name": "python",
   "nbconvert_exporter": "python",
   "pygments_lexer": "ipython3",
   "version": "3.11.5"
  }
 },
 "nbformat": 4,
 "nbformat_minor": 5
}
