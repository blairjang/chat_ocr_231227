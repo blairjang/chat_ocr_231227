{
 "cells": [
  {
   "cell_type": "code",
   "execution_count": 40,
   "id": "ad9bab85",
   "metadata": {},
   "outputs": [
    {
     "name": "stdout",
     "output_type": "stream",
     "text": [
      "3.11.5 | packaged by Anaconda, Inc. | (main, Sep 11 2023, 13:26:23) [MSC v.1916 64 bit (AMD64)]\n"
     ]
    }
   ],
   "source": [
    "import sys\n",
    "print(sys.version)"
   ]
  },
  {
   "cell_type": "markdown",
   "id": "03fc4608",
   "metadata": {},
   "source": [
    "# 양방향 LSTM\n",
    "\n",
    "- RNN 이나 LSTM은 시퀀스 또는 시계열 데이터 처리에 특화되어 은닉층에서 과거의 정보를 기억할 수 있음\n",
    "- 그러나 순환 구조의 특성상 데이터가 입력 순으로 처리되기 때문에 이전 시점의 정보만 활용할 수 밖에 없다는 단점이 존재 \n",
    "    - 문장이 길어질수록 성능이 저하 \n",
    "    - 예) ios 앱 (개발)은 맥북이 필요 합니다 \n",
    "    - 위의 경우에 ios와 앱 이라는 단어만으로는 개발 이라는 단어를 유추하기 힘듦\n",
    "        - 문장의 앞부분보다 뒷부분에 중요한 정보가 있음 \n",
    "        \n",
    "- 양방향 LSTM(Bidirectional LSTM)\n",
    "    - 기존 LSTM 계층에 역방향으로 처리하는 LSTM 계층을 추가해 양방향에서 문장의 패턴을 분석할 수 있도록 구성 \n",
    "    - 입력 문장을 양방향에서 처리하기 때문에 시퀀스 길이가 길어져도 정보 손실 없이 처리가 가능 \n",
    "    \n",
    "<img src = './image/Bidirectional_LSTM.jpg'>"
   ]
  },
  {
   "cell_type": "markdown",
   "id": "2233885c",
   "metadata": {},
   "source": [
    "# 개체명 인식(Named Entitiy Recognition)\n",
    "\n",
    "- 각 개체의 유형을 인식 \n",
    "- 문장 내에 포함된 어떤 단어가 인물, 장소, 날짜 등을 의미한느 단어인지 인식하는 것 \n",
    "- 개체명 인식은 챗봇에서 문장을 정확하게 해석하기 위해 반드시 처리해야 하는 전처리 과정임 \n",
    "    - 예) 날짜와 지역에 대해 개체 인식을 할 수 있는 모델이 있다고 가정할 경우 \n",
    "    - 입력 문장 : 내일 부산 날씨 알려줘\n",
    "    - 문장 의도 : 날씨 요청\n",
    "    - 개체명 인식 결과 : 내일 - 날짜, 부산, - 지역 \n",
    "    \n",
    "- 단순한 질문 형태라면 개체명 사전을 구축해 해당 단어들과 매핑되는 개체명을  찾을 수도 있음 \n",
    "    - 문장 구조가 복잡하거나 문맥에 따라 단어의 의미가 바뀐다면 딘러닝 모델을 활용해야 함 \n",
    "    \n",
    "- 개체명 사전 구축 방식은 신조어나 사전에 포함되지 않은 단어는 처리 불가능하며 사람이 직접 사전 데이터를 관리해야 하기 때문에 관리비용이 많이 필요함 "
   ]
  },
  {
   "cell_type": "markdown",
   "id": "42d72b19",
   "metadata": {},
   "source": [
    "## BIO 표기법 \n",
    "\n",
    "- Beginning, Inside, Outside 의 약자 \n",
    "- 각 토큰마다 태그를 붙이기 위해 사용 \n",
    "- Beginning : 개체명이 시작되는 단어에 'B-개체명' 으로 태그\n",
    "- Inside : 'B-개체명'과 연결되는 단어일 때 'I-개체명'으로 태그 \n",
    "- Outside : 개ㅔ체명 이외의 모든 토큰에 태그 \n",
    "    - 예) 오늘부터 길동 포터는 삼정전자에 근무합니다\n",
    "    - 오늘 -> B-date \n",
    "    - 부터 -> O\n",
    "    - 길동 -> B-Person\n",
    "    - 포터 -> I-Person\n",
    "    - 는 -> O\n",
    "    - 삼성 -> B-Company\n",
    "    - 전자 -> I-Company\n",
    "    - 에 -> O\n",
    "    - 근무 -> O\n",
    "    - 합니다 -> O\n",
    "    \n",
    "- 두개 이상의 토큰이 하나의 개체를 구성하는 경우가 많기 때문에 BIO 표기법을 사용 "
   ]
  },
  {
   "cell_type": "markdown",
   "id": "cad83e02",
   "metadata": {},
   "source": [
    "## 국립국어원 언어정보나눔터 개체명 인식 모델을 위한 말뭉치\n",
    "\n",
    "- ; 으로 시작하는 문장 : 원본 문장 \n",
    "- $ 로 시작하는 문장 : 해당 문장에서 NER 처리된 결과\n",
    "- 개체명 인식 모델은 단어 토큰을 입력했을 때 출력되는 NER 태그값을 예측\n",
    "    - 예) \"삼성전자\"를 입력한담녀 B_OG(단체) 태그가 출력 되도록 학습 "
   ]
  },
  {
   "cell_type": "code",
   "execution_count": 2,
   "id": "f1a7f24e",
   "metadata": {},
   "outputs": [],
   "source": [
    "import matplotlib.pyplot as plt\n",
    "import tensorflow as tf\n",
    "from tensorflow.keras import preprocessing \n",
    "from sklearn.model_selection import train_test_split\n",
    "import numpy as np\n",
    "from tensorflow.keras.models import Sequential\n",
    "from tensorflow.keras.layers import (LSTM, Embedding, Dense, TimeDistributed, Dropout,\n",
    "                                     Bidirectional)\n",
    "from tensorflow.keras.optimizers import Adam\n",
    "from seqeval.metrics import f1_score, classification_report "
   ]
  },
  {
   "cell_type": "code",
   "execution_count": 3,
   "id": "b095fd2a",
   "metadata": {},
   "outputs": [],
   "source": [
    "# 학습 파일 불러오기\n",
    "def read_file(file_name):\n",
    "    sents = []\n",
    "    with open(file_name, 'r', encoding = 'utf-8') as f: # r for read \n",
    "        lines = f.readlines() # 읽어와서 list로 불러들임 \n",
    "        for idx, L in enumerate(lines):\n",
    "            # 라인의 0번째 세미콜론이고 그다음이 $ 이면 \n",
    "            # this_sent 를 초기화 \n",
    "            if L[0] == ';' and lines[idx + 1][0] == '$':\n",
    "                this_sent = []\n",
    "                \n",
    "            # 달러로 시작하면  그대로 넘어가라 \n",
    "            elif L[0] == '$' and lines [idx - 1][0] == ';':\n",
    "                continue\n",
    "                \n",
    "            # 엔터 들어가면 이문장에 대한 내용이 끝난걸로 인식해라 \n",
    "            elif L[0] == '\\n':\n",
    "                sents.append(this_sent) # 리스트에 append 해라 \n",
    "            else:\n",
    "                this_sent.append(tuple(L.split()))\n",
    "    return sents   "
   ]
  },
  {
   "cell_type": "code",
   "execution_count": 5,
   "id": "febed800",
   "metadata": {},
   "outputs": [],
   "source": [
    "# 학습용 말뭉치 데이터를 불러옴\n",
    "corpus = read_file('./data/ner/train.txt')"
   ]
  },
  {
   "cell_type": "code",
   "execution_count": 7,
   "id": "8a3d0dae",
   "metadata": {
    "scrolled": true
   },
   "outputs": [
    {
     "data": {
      "text/plain": [
       "[('1', '2003', 'SN', 'B_DT'),\n",
       " ('1', '년', 'NNB', 'I'),\n",
       " ('2', '6', 'SN', 'I'),\n",
       " ('2', '월', 'NNB', 'I'),\n",
       " ('3', '14', 'SN', 'I'),\n",
       " ('3', '일', 'NNB', 'I'),\n",
       " ('4', '사직', 'NNG', 'O'),\n",
       " ('5', '두산', 'NNP', 'O'),\n",
       " ('5', '전', 'NNG', 'O'),\n",
       " ('6', '이후', 'NNG', 'O'),\n",
       " ('7', '박명환', 'NNP', 'B_PS'),\n",
       " ('7', '에게', 'JKB', 'O'),\n",
       " ('8', '당하', 'VV', 'O'),\n",
       " ('8', '았', 'EP', 'O'),\n",
       " ('8', '던', 'ETM', 'O'),\n",
       " ('9', '10', 'SN', 'O'),\n",
       " ('9', '연패', 'NNG', 'O'),\n",
       " ('10', '사슬', 'NNG', 'O'),\n",
       " ('10', '을', 'JKO', 'O'),\n",
       " ('11', '거의', 'MAG', 'O'),\n",
       " ('12', '5', 'SN', 'B_DT'),\n",
       " ('12', '년', 'NNB', 'I'),\n",
       " ('13', '만', 'NNB', 'O'),\n",
       " ('13', '에', 'JKB', 'O'),\n",
       " ('14', '끊', 'VV', 'O'),\n",
       " ('14', '는', 'ETM', 'O'),\n",
       " ('15', '의미', 'NNG', 'O'),\n",
       " ('15', '있', 'VV', 'O'),\n",
       " ('15', '는', 'ETM', 'O'),\n",
       " ('16', '승리', 'NNG', 'O'),\n",
       " ('16', '이', 'VCP', 'O'),\n",
       " ('16', '었', 'EP', 'O'),\n",
       " ('16', '다', 'EC', 'O'),\n",
       " ('17', '.', 'SF', 'O')]"
      ]
     },
     "execution_count": 7,
     "metadata": {},
     "output_type": "execute_result"
    }
   ],
   "source": [
    "corpus[1]"
   ]
  },
  {
   "cell_type": "code",
   "execution_count": 8,
   "id": "cc624261",
   "metadata": {},
   "outputs": [
    {
     "data": {
      "text/plain": [
       "3555"
      ]
     },
     "execution_count": 8,
     "metadata": {},
     "output_type": "execute_result"
    }
   ],
   "source": [
    "len(corpus)"
   ]
  },
  {
   "cell_type": "code",
   "execution_count": 9,
   "id": "a2af7e70",
   "metadata": {},
   "outputs": [],
   "source": [
    "# 말뭉치 데이터에서 단어와 BIO 태그만 불러와 학습용 데이터셋 생성\n",
    "# corpus 에서 반복문 \n",
    "sentences, tags = [], []\n",
    "\n",
    "for t in corpus:\n",
    "    tagged_sentence = []\n",
    "    sentence, bio_tag = [], []\n",
    "    for w in t:\n",
    "        tagged_sentence.append((w[1], w[3]))\n",
    "        sentence.append(w[1])\n",
    "        bio_tag.append(w[3])\n",
    "        \n",
    "    sentences.append(sentence)\n",
    "    tags.append(bio_tag)"
   ]
  },
  {
   "cell_type": "markdown",
   "id": "dd78b057",
   "metadata": {},
   "source": [
    "- 단어와 BIO 태그만 이용해 학습용 데이터셋을 생성 "
   ]
  },
  {
   "cell_type": "code",
   "execution_count": 10,
   "id": "297557f1",
   "metadata": {},
   "outputs": [
    {
     "name": "stdout",
     "output_type": "stream",
     "text": [
      "샘플 크기 : 3555\n",
      "0번째 샘플 문장 시퀀스: \n",
      " ['한편', ',', 'AFC', '챔피언스', '리그', 'E', '조', '에', '속하', 'ㄴ', '포항', '역시', '대회', '8강', '진출', '이', '불투명', '하', '다', '.']\n",
      "0번째 샘플 bio 태그 : \n",
      " ['O', 'O', 'O', 'O', 'O', 'B_OG', 'I', 'O', 'O', 'O', 'O', 'O', 'O', 'O', 'O', 'O', 'O', 'O', 'O', 'O']\n",
      "샘플 문장 시퀀스 최대 길이: 168\n",
      "샘플 문장 시퀀스 평균 길이 : 34.03909985935302\n"
     ]
    }
   ],
   "source": [
    "print('샘플 크기 :', len(sentences))\n",
    "print('0번째 샘플 문장 시퀀스: \\n', sentences[0])\n",
    "print('0번째 샘플 bio 태그 : \\n', tags[0])\n",
    "print('샘플 문장 시퀀스 최대 길이:', max(len(L) for L in sentences))\n",
    "print('샘플 문장 시퀀스 평균 길이 :', sum(map(len, sentences)) / len(sentences))"
   ]
  },
  {
   "cell_type": "code",
   "execution_count": 11,
   "id": "244ce3a5",
   "metadata": {},
   "outputs": [],
   "source": [
    "# 토크나이저 정의\n",
    "\n",
    "# 단어 사전의 첫번째 인덱스에는 OOV 사용 \n",
    "sent_tokenizer = preprocessing.text.Tokenizer(oov_token = 'OOV') \n",
    "sent_tokenizer.fit_on_texts(sentences)\n",
    "\n",
    "tag_tokenizer = preprocessing.text.Tokenizer(lower = False) # 태그 정보는 소문자로 변환하지 않음 \n",
    "tag_tokenizer.fit_on_texts(tags)"
   ]
  },
  {
   "cell_type": "code",
   "execution_count": 12,
   "id": "2ecf3e2a",
   "metadata": {},
   "outputs": [
    {
     "name": "stdout",
     "output_type": "stream",
     "text": [
      "BIO 태그 사전 크기 : 8\n",
      "단어 사전 크기 : 13834\n"
     ]
    }
   ],
   "source": [
    "# 단어 사전 및 태그 사전 크기 \n",
    "vocab_size = len(sent_tokenizer.word_index) + 1\n",
    "tag_size = len(tag_tokenizer.word_index) + 1\n",
    "print('BIO 태그 사전 크기 :', tag_size)\n",
    "print('단어 사전 크기 :', vocab_size)"
   ]
  },
  {
   "cell_type": "code",
   "execution_count": 13,
   "id": "5303b530",
   "metadata": {},
   "outputs": [
    {
     "data": {
      "text/plain": [
       "{'O': 1, 'I': 2, 'B_OG': 3, 'B_PS': 4, 'B_DT': 5, 'B_LC': 6, 'B_TI': 7}"
      ]
     },
     "execution_count": 13,
     "metadata": {},
     "output_type": "execute_result"
    }
   ],
   "source": [
    "tag_tokenizer.word_index"
   ]
  },
  {
   "cell_type": "code",
   "execution_count": 14,
   "id": "982f0bae",
   "metadata": {},
   "outputs": [],
   "source": [
    "# 학습용 단어 시퀀스 생성\n",
    "x_train = sent_tokenizer.texts_to_sequences(sentences)\n",
    "y_train = tag_tokenizer.texts_to_sequences(tags)"
   ]
  },
  {
   "cell_type": "code",
   "execution_count": 15,
   "id": "716d8210",
   "metadata": {},
   "outputs": [
    {
     "name": "stdout",
     "output_type": "stream",
     "text": [
      "[183, 11, 4276, 884, 162, 931, 402, 10, 2608, 7, 1516, 608, 145, 1361, 414, 4, 6347, 2, 8, 3]\n",
      "[1, 1, 1, 1, 1, 3, 2, 1, 1, 1, 1, 1, 1, 1, 1, 1, 1, 1, 1, 1]\n"
     ]
    }
   ],
   "source": [
    "print(x_train[0])\n",
    "print(y_train[0])"
   ]
  },
  {
   "cell_type": "code",
   "execution_count": 16,
   "id": "0cccabd4",
   "metadata": {},
   "outputs": [],
   "source": [
    "# index to word / index to NER 정의 \n",
    "index_to_word = sent_tokenizer.index_word # 시퀀스 인덱스를 단어로 변환하기 위해 사용\n",
    "index_to_ner = tag_tokenizer.index_word # 시퀀스 인덱스를 NER로 변환하기 위해 사용\n",
    "index_to_ner[0] = 'PAD'"
   ]
  },
  {
   "cell_type": "code",
   "execution_count": 17,
   "id": "67650577",
   "metadata": {},
   "outputs": [
    {
     "data": {
      "text/plain": [
       "{1: 'O',\n",
       " 2: 'I',\n",
       " 3: 'B_OG',\n",
       " 4: 'B_PS',\n",
       " 5: 'B_DT',\n",
       " 6: 'B_LC',\n",
       " 7: 'B_TI',\n",
       " 0: 'PAD'}"
      ]
     },
     "execution_count": 17,
     "metadata": {},
     "output_type": "execute_result"
    }
   ],
   "source": [
    "index_to_ner"
   ]
  },
  {
   "cell_type": "code",
   "execution_count": 18,
   "id": "f6381e7e",
   "metadata": {},
   "outputs": [],
   "source": [
    "# 시퀀스 패딩 처리\n",
    "max_len = 40\n",
    "x_train = preprocessing.sequence.pad_sequences(x_train, padding = 'post', maxlen = max_len)\n",
    "y_train = preprocessing.sequence.pad_sequences(y_train, padding = 'post', maxlen = max_len)"
   ]
  },
  {
   "cell_type": "code",
   "execution_count": 19,
   "id": "b5ea49f7",
   "metadata": {},
   "outputs": [],
   "source": [
    "# 학습데이터와 테스트데이터를 8:2 비율로 분리\n",
    "x_train, x_test, y_train, y_test = train_test_split(x_train, y_train, test_size= 0.2,\n",
    "                                                    random_state= 12)"
   ]
  },
  {
   "cell_type": "code",
   "execution_count": 20,
   "id": "daf6714f",
   "metadata": {},
   "outputs": [],
   "source": [
    "# 출력 데이터를 원-핫 인코딩\n",
    "y_train = tf.keras.utils.to_categorical(y_train, num_classes= tag_size)\n",
    "y_test = tf.keras.utils.to_categorical(y_test, num_classes= tag_size)"
   ]
  },
  {
   "cell_type": "code",
   "execution_count": 21,
   "id": "c73c8c99",
   "metadata": {},
   "outputs": [
    {
     "name": "stdout",
     "output_type": "stream",
     "text": [
      "학습 샘플 시퀀스 형상 : (2844, 40)\n",
      "학습 샘플 레이블 형상 : (2844, 40, 8)\n",
      "테스트 샘플 시퀀스 형상 : (711, 40)\n",
      "테스트 샘플 레이블 형상 : (711, 40, 8)\n"
     ]
    }
   ],
   "source": [
    "print('학습 샘플 시퀀스 형상 :', x_train.shape)\n",
    "print('학습 샘플 레이블 형상 :', y_train.shape)\n",
    "print('테스트 샘플 시퀀스 형상 :', x_test.shape)\n",
    "print('테스트 샘플 레이블 형상 :', y_test.shape)"
   ]
  },
  {
   "cell_type": "code",
   "execution_count": 22,
   "id": "c9e995c4",
   "metadata": {},
   "outputs": [
    {
     "data": {
      "text/plain": [
       "array([ 479,    6,   33,  327, 2615,    9, 2207,    4,   18,   62, 6379,\n",
       "          5, 6380,    2,    6,  183, 4295,   10,   57,    7, 6381,  186,\n",
       "        611,   10,   34, 1368,  500,   29,   38,    4,    8,    3,    0,\n",
       "          0,    0,    0,    0,    0,    0,    0])"
      ]
     },
     "execution_count": 22,
     "metadata": {},
     "output_type": "execute_result"
    }
   ],
   "source": [
    "x_train[0]"
   ]
  },
  {
   "cell_type": "code",
   "execution_count": 24,
   "id": "aa48752c",
   "metadata": {},
   "outputs": [
    {
     "name": "stderr",
     "output_type": "stream",
     "text": [
      "C:\\Users\\ITSC\\anaconda3\\Lib\\site-packages\\keras\\src\\layers\\core\\embedding.py:81: UserWarning: Do not pass an `input_shape`/`input_dim` argument to a layer. When using Sequential models, prefer using an `Input(shape)` object as the first layer in the model instead.\n",
      "  super().__init__(**kwargs)\n"
     ]
    }
   ],
   "source": [
    "# 모델 정의(Bi-LSTM)\n",
    "model = Sequential()\n",
    "\n",
    "# output_dim : 출력 벡터의 크기 \n",
    "model.add(Embedding(input_dim = vocab_size, output_dim = 30, input_shape = (max_len,),\n",
    "                    mask_zero= True))\n",
    "model.add(Bidirectional(LSTM(200, return_sequences = True, dropout = 0.5, \n",
    "                             recurrent_dropout= 0.25)))\n",
    "model.add(TimeDistributed(Dense(tag_size, activation = 'softmax')))"
   ]
  },
  {
   "cell_type": "markdown",
   "id": "44a7a32e",
   "metadata": {},
   "source": [
    "- mask_zero = True : 0으로 패딩된 값을 마스킹하여 네트워크의 뒤로 전달되지 않게 만듦 \n",
    "- TimeDistributed : many-to-many 로 동작. 각 타임스텝마다 출력이 있어야 함\n",
    "\n",
    "<img src = './image/time_distributed.jpg'>"
   ]
  },
  {
   "cell_type": "code",
   "execution_count": 25,
   "id": "9923d864",
   "metadata": {},
   "outputs": [
    {
     "data": {
      "text/html": [
       "<pre style=\"white-space:pre;overflow-x:auto;line-height:normal;font-family:Menlo,'DejaVu Sans Mono',consolas,'Courier New',monospace\"><span style=\"font-weight: bold\">Model: \"sequential\"</span>\n",
       "</pre>\n"
      ],
      "text/plain": [
       "\u001b[1mModel: \"sequential\"\u001b[0m\n"
      ]
     },
     "metadata": {},
     "output_type": "display_data"
    },
    {
     "data": {
      "text/html": [
       "<pre style=\"white-space:pre;overflow-x:auto;line-height:normal;font-family:Menlo,'DejaVu Sans Mono',consolas,'Courier New',monospace\">┏━━━━━━━━━━━━━━━━━━━━━━━━━━━━━━━━━━━━━━┳━━━━━━━━━━━━━━━━━━━━━━━━━━━━━┳━━━━━━━━━━━━━━━━━┓\n",
       "┃<span style=\"font-weight: bold\"> Layer (type)                         </span>┃<span style=\"font-weight: bold\"> Output Shape                </span>┃<span style=\"font-weight: bold\">         Param # </span>┃\n",
       "┡━━━━━━━━━━━━━━━━━━━━━━━━━━━━━━━━━━━━━━╇━━━━━━━━━━━━━━━━━━━━━━━━━━━━━╇━━━━━━━━━━━━━━━━━┩\n",
       "│ embedding (<span style=\"color: #0087ff; text-decoration-color: #0087ff\">Embedding</span>)                │ (<span style=\"color: #00d7ff; text-decoration-color: #00d7ff\">None</span>, <span style=\"color: #00af00; text-decoration-color: #00af00\">40</span>, <span style=\"color: #00af00; text-decoration-color: #00af00\">30</span>)              │         <span style=\"color: #00af00; text-decoration-color: #00af00\">415,020</span> │\n",
       "├──────────────────────────────────────┼─────────────────────────────┼─────────────────┤\n",
       "│ bidirectional (<span style=\"color: #0087ff; text-decoration-color: #0087ff\">Bidirectional</span>)        │ (<span style=\"color: #00d7ff; text-decoration-color: #00d7ff\">None</span>, <span style=\"color: #00af00; text-decoration-color: #00af00\">40</span>, <span style=\"color: #00af00; text-decoration-color: #00af00\">400</span>)             │         <span style=\"color: #00af00; text-decoration-color: #00af00\">369,600</span> │\n",
       "├──────────────────────────────────────┼─────────────────────────────┼─────────────────┤\n",
       "│ time_distributed (<span style=\"color: #0087ff; text-decoration-color: #0087ff\">TimeDistributed</span>)   │ (<span style=\"color: #00d7ff; text-decoration-color: #00d7ff\">None</span>, <span style=\"color: #00af00; text-decoration-color: #00af00\">40</span>, <span style=\"color: #00af00; text-decoration-color: #00af00\">8</span>)               │           <span style=\"color: #00af00; text-decoration-color: #00af00\">3,208</span> │\n",
       "└──────────────────────────────────────┴─────────────────────────────┴─────────────────┘\n",
       "</pre>\n"
      ],
      "text/plain": [
       "┏━━━━━━━━━━━━━━━━━━━━━━━━━━━━━━━━━━━━━━┳━━━━━━━━━━━━━━━━━━━━━━━━━━━━━┳━━━━━━━━━━━━━━━━━┓\n",
       "┃\u001b[1m \u001b[0m\u001b[1mLayer (type)                        \u001b[0m\u001b[1m \u001b[0m┃\u001b[1m \u001b[0m\u001b[1mOutput Shape               \u001b[0m\u001b[1m \u001b[0m┃\u001b[1m \u001b[0m\u001b[1m        Param #\u001b[0m\u001b[1m \u001b[0m┃\n",
       "┡━━━━━━━━━━━━━━━━━━━━━━━━━━━━━━━━━━━━━━╇━━━━━━━━━━━━━━━━━━━━━━━━━━━━━╇━━━━━━━━━━━━━━━━━┩\n",
       "│ embedding (\u001b[38;5;33mEmbedding\u001b[0m)                │ (\u001b[38;5;45mNone\u001b[0m, \u001b[38;5;34m40\u001b[0m, \u001b[38;5;34m30\u001b[0m)              │         \u001b[38;5;34m415,020\u001b[0m │\n",
       "├──────────────────────────────────────┼─────────────────────────────┼─────────────────┤\n",
       "│ bidirectional (\u001b[38;5;33mBidirectional\u001b[0m)        │ (\u001b[38;5;45mNone\u001b[0m, \u001b[38;5;34m40\u001b[0m, \u001b[38;5;34m400\u001b[0m)             │         \u001b[38;5;34m369,600\u001b[0m │\n",
       "├──────────────────────────────────────┼─────────────────────────────┼─────────────────┤\n",
       "│ time_distributed (\u001b[38;5;33mTimeDistributed\u001b[0m)   │ (\u001b[38;5;45mNone\u001b[0m, \u001b[38;5;34m40\u001b[0m, \u001b[38;5;34m8\u001b[0m)               │           \u001b[38;5;34m3,208\u001b[0m │\n",
       "└──────────────────────────────────────┴─────────────────────────────┴─────────────────┘\n"
      ]
     },
     "metadata": {},
     "output_type": "display_data"
    },
    {
     "data": {
      "text/html": [
       "<pre style=\"white-space:pre;overflow-x:auto;line-height:normal;font-family:Menlo,'DejaVu Sans Mono',consolas,'Courier New',monospace\"><span style=\"font-weight: bold\"> Total params: </span><span style=\"color: #00af00; text-decoration-color: #00af00\">787,828</span> (3.01 MB)\n",
       "</pre>\n"
      ],
      "text/plain": [
       "\u001b[1m Total params: \u001b[0m\u001b[38;5;34m787,828\u001b[0m (3.01 MB)\n"
      ]
     },
     "metadata": {},
     "output_type": "display_data"
    },
    {
     "data": {
      "text/html": [
       "<pre style=\"white-space:pre;overflow-x:auto;line-height:normal;font-family:Menlo,'DejaVu Sans Mono',consolas,'Courier New',monospace\"><span style=\"font-weight: bold\"> Trainable params: </span><span style=\"color: #00af00; text-decoration-color: #00af00\">787,828</span> (3.01 MB)\n",
       "</pre>\n"
      ],
      "text/plain": [
       "\u001b[1m Trainable params: \u001b[0m\u001b[38;5;34m787,828\u001b[0m (3.01 MB)\n"
      ]
     },
     "metadata": {},
     "output_type": "display_data"
    },
    {
     "data": {
      "text/html": [
       "<pre style=\"white-space:pre;overflow-x:auto;line-height:normal;font-family:Menlo,'DejaVu Sans Mono',consolas,'Courier New',monospace\"><span style=\"font-weight: bold\"> Non-trainable params: </span><span style=\"color: #00af00; text-decoration-color: #00af00\">0</span> (0.00 B)\n",
       "</pre>\n"
      ],
      "text/plain": [
       "\u001b[1m Non-trainable params: \u001b[0m\u001b[38;5;34m0\u001b[0m (0.00 B)\n"
      ]
     },
     "metadata": {},
     "output_type": "display_data"
    }
   ],
   "source": [
    "model.summary()"
   ]
  },
  {
   "cell_type": "code",
   "execution_count": 26,
   "id": "2e66757b",
   "metadata": {},
   "outputs": [],
   "source": [
    "model.compile(loss = 'categorical_crossentropy', optimizer = Adam(0.01),\n",
    "              metrics = ['accuracy'])"
   ]
  },
  {
   "cell_type": "code",
   "execution_count": 29,
   "id": "add9e889",
   "metadata": {},
   "outputs": [
    {
     "name": "stdout",
     "output_type": "stream",
     "text": [
      "Epoch 1/7\n",
      "\u001b[1m23/23\u001b[0m \u001b[32m━━━━━━━━━━━━━━━━━━━━\u001b[0m\u001b[37m\u001b[0m \u001b[1m5s\u001b[0m 223ms/step - accuracy: 0.7027 - loss: 0.0587\n",
      "Epoch 2/7\n",
      "\u001b[1m23/23\u001b[0m \u001b[32m━━━━━━━━━━━━━━━━━━━━\u001b[0m\u001b[37m\u001b[0m \u001b[1m5s\u001b[0m 235ms/step - accuracy: 0.6960 - loss: 0.0504\n",
      "Epoch 3/7\n",
      "\u001b[1m23/23\u001b[0m \u001b[32m━━━━━━━━━━━━━━━━━━━━\u001b[0m\u001b[37m\u001b[0m \u001b[1m6s\u001b[0m 242ms/step - accuracy: 0.7088 - loss: 0.0458\n",
      "Epoch 4/7\n",
      "\u001b[1m23/23\u001b[0m \u001b[32m━━━━━━━━━━━━━━━━━━━━\u001b[0m\u001b[37m\u001b[0m \u001b[1m5s\u001b[0m 229ms/step - accuracy: 0.7053 - loss: 0.0402\n",
      "Epoch 5/7\n",
      "\u001b[1m23/23\u001b[0m \u001b[32m━━━━━━━━━━━━━━━━━━━━\u001b[0m\u001b[37m\u001b[0m \u001b[1m4s\u001b[0m 188ms/step - accuracy: 0.7053 - loss: 0.0378\n",
      "Epoch 6/7\n",
      "\u001b[1m23/23\u001b[0m \u001b[32m━━━━━━━━━━━━━━━━━━━━\u001b[0m\u001b[37m\u001b[0m \u001b[1m4s\u001b[0m 181ms/step - accuracy: 0.7019 - loss: 0.0348\n",
      "Epoch 7/7\n",
      "\u001b[1m23/23\u001b[0m \u001b[32m━━━━━━━━━━━━━━━━━━━━\u001b[0m\u001b[37m\u001b[0m \u001b[1m4s\u001b[0m 180ms/step - accuracy: 0.7162 - loss: 0.0337\n"
     ]
    },
    {
     "data": {
      "text/plain": [
       "<keras.src.callbacks.history.History at 0x2ac656c5a10>"
      ]
     },
     "execution_count": 29,
     "metadata": {},
     "output_type": "execute_result"
    }
   ],
   "source": [
    "model.fit(x_train, y_train, batch_size = 128, epochs = 7)"
   ]
  },
  {
   "cell_type": "code",
   "execution_count": 30,
   "id": "8a558dec",
   "metadata": {},
   "outputs": [
    {
     "name": "stdout",
     "output_type": "stream",
     "text": [
      "\u001b[1m23/23\u001b[0m \u001b[32m━━━━━━━━━━━━━━━━━━━━\u001b[0m\u001b[37m\u001b[0m \u001b[1m0s\u001b[0m 13ms/step - accuracy: 0.6770 - loss: 0.2791\n"
     ]
    },
    {
     "data": {
      "text/plain": [
       "[0.2905934154987335, 0.6663501858711243]"
      ]
     },
     "execution_count": 30,
     "metadata": {},
     "output_type": "execute_result"
    }
   ],
   "source": [
    "model.evaluate(x_test,y_test)"
   ]
  },
  {
   "cell_type": "markdown",
   "id": "e64fdacd",
   "metadata": {},
   "source": [
    "# 정리\n",
    "- BIO 태그는 실제 의미 있는 태그보다 의미없는 0 태그가 대부분을 차지하고 있기 때문에 실제 성능과 무관하게 높은 점수가 나올 수 있음 \n",
    "- 따라서 개체명 인식에서는 F1스코어가 주로 이용됨 \n",
    "- F1 스코어 : 정밀도와 재현율의 조화 평균 "
   ]
  },
  {
   "cell_type": "code",
   "execution_count": 57,
   "id": "35ec4a2e",
   "metadata": {},
   "outputs": [],
   "source": [
    "# model.predict(x_test[[0]])"
   ]
  },
  {
   "cell_type": "code",
   "execution_count": 56,
   "id": "ec9a247c",
   "metadata": {},
   "outputs": [],
   "source": [
    "# np.argmax(model.predict(x_test[[1]]), axis = -1)"
   ]
  },
  {
   "cell_type": "code",
   "execution_count": 33,
   "id": "c70dafce",
   "metadata": {},
   "outputs": [
    {
     "data": {
      "text/plain": [
       "array([[[0., 1., 0., 0., 0., 0., 0., 0.],\n",
       "        [0., 1., 0., 0., 0., 0., 0., 0.],\n",
       "        [0., 1., 0., 0., 0., 0., 0., 0.],\n",
       "        [0., 1., 0., 0., 0., 0., 0., 0.],\n",
       "        [0., 1., 0., 0., 0., 0., 0., 0.],\n",
       "        [0., 1., 0., 0., 0., 0., 0., 0.],\n",
       "        [0., 1., 0., 0., 0., 0., 0., 0.],\n",
       "        [0., 1., 0., 0., 0., 0., 0., 0.],\n",
       "        [0., 1., 0., 0., 0., 0., 0., 0.],\n",
       "        [0., 1., 0., 0., 0., 0., 0., 0.],\n",
       "        [0., 1., 0., 0., 0., 0., 0., 0.],\n",
       "        [0., 1., 0., 0., 0., 0., 0., 0.],\n",
       "        [0., 1., 0., 0., 0., 0., 0., 0.],\n",
       "        [0., 1., 0., 0., 0., 0., 0., 0.],\n",
       "        [0., 1., 0., 0., 0., 0., 0., 0.],\n",
       "        [0., 1., 0., 0., 0., 0., 0., 0.],\n",
       "        [0., 1., 0., 0., 0., 0., 0., 0.],\n",
       "        [0., 1., 0., 0., 0., 0., 0., 0.],\n",
       "        [0., 1., 0., 0., 0., 0., 0., 0.],\n",
       "        [0., 1., 0., 0., 0., 0., 0., 0.],\n",
       "        [0., 1., 0., 0., 0., 0., 0., 0.],\n",
       "        [0., 1., 0., 0., 0., 0., 0., 0.],\n",
       "        [0., 1., 0., 0., 0., 0., 0., 0.],\n",
       "        [0., 1., 0., 0., 0., 0., 0., 0.],\n",
       "        [0., 1., 0., 0., 0., 0., 0., 0.],\n",
       "        [0., 1., 0., 0., 0., 0., 0., 0.],\n",
       "        [0., 1., 0., 0., 0., 0., 0., 0.],\n",
       "        [0., 1., 0., 0., 0., 0., 0., 0.],\n",
       "        [0., 1., 0., 0., 0., 0., 0., 0.],\n",
       "        [0., 1., 0., 0., 0., 0., 0., 0.],\n",
       "        [0., 1., 0., 0., 0., 0., 0., 0.],\n",
       "        [0., 1., 0., 0., 0., 0., 0., 0.],\n",
       "        [0., 1., 0., 0., 0., 0., 0., 0.],\n",
       "        [0., 1., 0., 0., 0., 0., 0., 0.],\n",
       "        [0., 1., 0., 0., 0., 0., 0., 0.],\n",
       "        [0., 1., 0., 0., 0., 0., 0., 0.],\n",
       "        [0., 1., 0., 0., 0., 0., 0., 0.],\n",
       "        [0., 1., 0., 0., 0., 0., 0., 0.],\n",
       "        [0., 1., 0., 0., 0., 0., 0., 0.],\n",
       "        [0., 1., 0., 0., 0., 0., 0., 0.]]])"
      ]
     },
     "execution_count": 33,
     "metadata": {},
     "output_type": "execute_result"
    }
   ],
   "source": [
    "y_test[[0]]"
   ]
  },
  {
   "cell_type": "code",
   "execution_count": 58,
   "id": "c1435f1b",
   "metadata": {},
   "outputs": [],
   "source": [
    "# np.argmax(model.predict(x_test[[3]]), axis = -1)"
   ]
  },
  {
   "cell_type": "code",
   "execution_count": 36,
   "id": "9eb2ee15",
   "metadata": {},
   "outputs": [
    {
     "data": {
      "text/plain": [
       "array([[1, 1, 1, 1, 1, 1, 1, 1, 1, 5, 2, 2, 2, 1, 1, 1, 1, 1, 1, 1, 1, 1,\n",
       "        1, 1, 1, 1, 1, 1, 1, 1, 1, 1, 0, 0, 0, 0, 0, 0, 0, 0]],\n",
       "      dtype=int64)"
      ]
     },
     "execution_count": 36,
     "metadata": {},
     "output_type": "execute_result"
    }
   ],
   "source": [
    "np.argmax(y_test[[3]], axis = -1)"
   ]
  },
  {
   "cell_type": "code",
   "execution_count": 65,
   "id": "54dc3cef",
   "metadata": {},
   "outputs": [],
   "source": [
    "# 시퀀스를 NER 태그로 변환\n",
    "def sequences_to_tag(sequences):  # 예측값을 index_to_ner를 사용하여 태깅 정보로 변경하는 함수.\n",
    "    result = []\n",
    "    for sequence in sequences:  # 전체 시퀀스로부터 시퀀스를 하나씩 꺼낸다.\n",
    "        temp = []\n",
    "        for pred in sequence:  # 시퀀스로부터 예측값을 하나씩 꺼낸다.\n",
    "            pred_index = np.argmax(pred)  # 예를 들어 [0, 0, 1, 0 ,0]라면 1의 인덱스인 2를 리턴한다.\n",
    "            temp.append(index_to_ner[pred_index].replace(\"PAD\", \"O\"))  # 'PAD'는 'O'로 변경\n",
    "        result.append(temp)\n",
    "    return result"
   ]
  },
  {
   "cell_type": "code",
   "execution_count": 66,
   "id": "6f848757",
   "metadata": {},
   "outputs": [
    {
     "data": {
      "text/plain": [
       "(711, 40)"
      ]
     },
     "execution_count": 66,
     "metadata": {},
     "output_type": "execute_result"
    }
   ],
   "source": [
    "x_test.shape"
   ]
  },
  {
   "cell_type": "code",
   "execution_count": 67,
   "id": "a9ef95a9",
   "metadata": {},
   "outputs": [
    {
     "name": "stdout",
     "output_type": "stream",
     "text": [
      "\u001b[1m23/23\u001b[0m \u001b[32m━━━━━━━━━━━━━━━━━━━━\u001b[0m\u001b[37m\u001b[0m \u001b[1m0s\u001b[0m 14ms/step\n"
     ]
    }
   ],
   "source": [
    "# 테스트 데이터셋의 NER 예측\n",
    "y_predicted = model.predict(x_test) # (7111, 40) -> model -> (711, 40, 8)\n",
    "pred_tags = sequences_to_tag(y_predicted) # 예측된 NER\n",
    "test_tags = sequences_to_tag(y_test) # 실제 NER"
   ]
  },
  {
   "cell_type": "code",
   "execution_count": 68,
   "id": "7cbd4bcf",
   "metadata": {},
   "outputs": [
    {
     "data": {
      "text/plain": [
       "array([[1.52789312e-07, 9.99980211e-01, 5.68153200e-06, 2.24245653e-07,\n",
       "        1.30293247e-05, 4.66310695e-07, 2.44705603e-07, 3.52866785e-08],\n",
       "       [1.49558247e-07, 9.99971390e-01, 1.80202562e-07, 1.00539147e-07,\n",
       "        2.63592647e-05, 5.25433848e-07, 1.35604182e-06, 6.44301679e-08],\n",
       "       [1.00390452e-07, 9.99998093e-01, 7.02780625e-08, 4.67123783e-07,\n",
       "        5.70374766e-07, 1.20995196e-07, 4.70382673e-07, 9.59735615e-08],\n",
       "       [2.77037593e-08, 9.99995589e-01, 3.76256025e-07, 1.38723371e-08,\n",
       "        3.81430937e-06, 3.10499431e-08, 2.48023554e-07, 6.77546330e-09],\n",
       "       [1.55153515e-07, 9.99678850e-01, 1.23935627e-06, 6.28491023e-07,\n",
       "        3.18656152e-04, 1.05779456e-07, 2.30635436e-07, 3.52250140e-08],\n",
       "       [1.43770791e-08, 9.99997973e-01, 1.61242917e-06, 1.80353723e-08,\n",
       "        3.46893984e-07, 3.25588232e-08, 6.50911991e-09, 2.81508878e-08],\n",
       "       [1.70026766e-07, 9.99975085e-01, 5.87331851e-06, 2.55147347e-06,\n",
       "        1.56744045e-05, 2.65014734e-07, 3.78695461e-07, 6.86348756e-08],\n",
       "       [3.77661102e-09, 9.99998927e-01, 5.16477712e-07, 1.16862260e-07,\n",
       "        3.76632073e-07, 7.93879984e-09, 1.42375924e-08, 5.79301274e-10],\n",
       "       [4.10378732e-07, 9.99943733e-01, 2.11080646e-06, 9.50667345e-06,\n",
       "        4.19452481e-05, 1.08792710e-06, 7.63512958e-07, 4.76872401e-07],\n",
       "       [3.35270087e-08, 9.99996305e-01, 1.08481132e-07, 6.40514344e-08,\n",
       "        2.75118964e-06, 7.94185908e-08, 5.64478057e-07, 1.26406512e-08],\n",
       "       [1.26569830e-06, 9.99865294e-01, 8.18974968e-07, 4.99127964e-06,\n",
       "        1.04709441e-04, 4.08782807e-06, 1.62512897e-05, 2.57964666e-06],\n",
       "       [7.83259946e-09, 9.99998927e-01, 4.74311094e-07, 2.04193995e-08,\n",
       "        5.01139596e-07, 6.50197896e-09, 3.28442127e-08, 1.02207942e-09],\n",
       "       [1.77011373e-07, 9.99975562e-01, 6.42105647e-07, 1.86901360e-07,\n",
       "        2.17775032e-05, 5.11763744e-07, 8.89926753e-07, 2.91029124e-07],\n",
       "       [1.27057849e-08, 9.99982119e-01, 1.77525071e-05, 3.05652321e-08,\n",
       "        1.28466411e-07, 5.52658967e-08, 1.25012871e-08, 1.61926561e-08],\n",
       "       [5.48024914e-08, 9.99988437e-01, 6.63118999e-06, 1.39436247e-06,\n",
       "        2.68804456e-06, 6.45999478e-07, 2.18790575e-07, 8.84222473e-08],\n",
       "       [1.45696031e-05, 9.98106480e-01, 9.88845932e-05, 3.72693430e-05,\n",
       "        1.02019892e-03, 5.48047246e-04, 6.39573773e-05, 1.10636451e-04],\n",
       "       [5.46693180e-08, 9.99823272e-01, 1.75492678e-04, 5.80410187e-07,\n",
       "        4.49291377e-07, 1.84373246e-08, 1.07019567e-07, 1.15260814e-08],\n",
       "       [1.88081788e-06, 9.99919534e-01, 8.10325218e-06, 3.12730299e-05,\n",
       "        1.04850087e-05, 5.15654733e-07, 2.68832227e-05, 1.37276413e-06],\n",
       "       [3.60217611e-09, 9.99998927e-01, 9.59875251e-07, 1.75468404e-08,\n",
       "        1.21880561e-07, 3.03334757e-09, 1.99045793e-08, 5.10739340e-10],\n",
       "       [2.38348449e-07, 9.99985218e-01, 8.22260120e-07, 9.58637088e-07,\n",
       "        1.04146002e-05, 9.65201593e-07, 8.09822552e-07, 5.52438507e-07],\n",
       "       [1.97903717e-07, 9.99994993e-01, 5.72449210e-07, 1.11887189e-07,\n",
       "        2.84004273e-06, 5.49818083e-07, 4.91425055e-07, 2.04111103e-07],\n",
       "       [7.62963737e-08, 9.99998927e-01, 1.72272181e-07, 7.87948906e-08,\n",
       "        3.32809265e-07, 2.89809520e-07, 7.36436760e-08, 1.59786339e-07],\n",
       "       [2.26525174e-07, 9.99989986e-01, 1.18012360e-06, 1.11329108e-07,\n",
       "        5.62168589e-06, 8.51854907e-07, 7.33046249e-07, 1.31832473e-06],\n",
       "       [1.57900411e-06, 9.99831080e-01, 1.59090778e-04, 1.31972953e-07,\n",
       "        3.51641211e-06, 2.34399636e-07, 2.47655794e-06, 1.87921887e-06],\n",
       "       [1.48640344e-09, 9.99997854e-01, 2.15878822e-06, 1.30204549e-08,\n",
       "        3.55115333e-08, 7.48860363e-10, 3.52668339e-09, 3.96727984e-10],\n",
       "       [8.32982607e-07, 9.99807179e-01, 8.41100871e-07, 8.00801104e-07,\n",
       "        1.68485203e-04, 8.97712198e-07, 1.96742312e-05, 1.27500994e-06],\n",
       "       [4.14669588e-09, 9.99998927e-01, 7.85459065e-07, 5.47187717e-08,\n",
       "        2.58168086e-07, 3.65637653e-09, 1.37321736e-08, 5.03839637e-10],\n",
       "       [2.02159342e-07, 9.99984503e-01, 5.36240385e-08, 4.32624830e-07,\n",
       "        8.37327661e-06, 4.18054583e-07, 5.58728789e-06, 4.22992571e-07],\n",
       "       [7.70261810e-09, 9.99999881e-01, 6.50829151e-08, 4.55757831e-09,\n",
       "        2.40314701e-08, 1.36222553e-08, 7.68474440e-09, 5.32417399e-09],\n",
       "       [2.89427589e-07, 9.99986768e-01, 2.45567037e-07, 8.89142342e-08,\n",
       "        8.43638463e-06, 1.14192790e-06, 1.25014787e-06, 1.69196608e-06],\n",
       "       [6.68510722e-07, 9.99909043e-01, 8.76669947e-05, 3.61937360e-08,\n",
       "        6.20552726e-07, 5.44896324e-08, 1.25289853e-06, 6.51434902e-07],\n",
       "       [2.26367747e-09, 9.99999642e-01, 2.01826055e-07, 4.68526729e-09,\n",
       "        1.23465853e-07, 1.14533716e-09, 1.27317712e-08, 3.50335677e-10],\n",
       "       [1.23646240e-08, 9.99993443e-01, 2.88985333e-08, 6.21910212e-09,\n",
       "        6.22706420e-06, 1.25187523e-08, 2.63964466e-07, 5.00653918e-09],\n",
       "       [3.30625055e-10, 1.00000000e+00, 3.18636246e-08, 4.56521571e-10,\n",
       "        6.57915633e-09, 8.26053170e-10, 7.04076075e-10, 1.51884824e-10],\n",
       "       [2.64217476e-07, 9.99379039e-01, 3.65787940e-07, 2.25384088e-06,\n",
       "        6.16714417e-04, 2.91988329e-07, 9.36003687e-07, 1.30925798e-07],\n",
       "       [8.66909122e-09, 9.99999523e-01, 3.62960350e-07, 4.31736469e-09,\n",
       "        1.02357539e-07, 9.17045551e-09, 2.17047820e-08, 3.56632834e-09],\n",
       "       [1.25824604e-08, 9.99996066e-01, 9.03874806e-08, 1.14398995e-06,\n",
       "        2.53785447e-06, 1.22967805e-08, 5.89484408e-08, 2.55482502e-09],\n",
       "       [2.47335619e-09, 9.99999881e-01, 5.57717783e-08, 3.80435505e-09,\n",
       "        6.89870134e-08, 5.24474997e-09, 7.72946240e-09, 1.23267407e-09],\n",
       "       [3.29705578e-08, 9.99994993e-01, 3.24378789e-07, 6.39671072e-08,\n",
       "        3.77434071e-06, 1.47888130e-07, 6.63069386e-07, 2.36538646e-08],\n",
       "       [4.03625251e-07, 9.99986053e-01, 2.78275274e-06, 4.38237237e-07,\n",
       "        6.61198101e-07, 7.03491060e-06, 6.32182093e-07, 1.91747972e-06]],\n",
       "      dtype=float32)"
      ]
     },
     "execution_count": 68,
     "metadata": {},
     "output_type": "execute_result"
    }
   ],
   "source": [
    "y_predicted[0]"
   ]
  },
  {
   "cell_type": "code",
   "execution_count": 69,
   "id": "7f86564f",
   "metadata": {},
   "outputs": [
    {
     "data": {
      "text/plain": [
       "['O',\n",
       " 'O',\n",
       " 'O',\n",
       " 'O',\n",
       " 'O',\n",
       " 'O',\n",
       " 'O',\n",
       " 'O',\n",
       " 'O',\n",
       " 'O',\n",
       " 'O',\n",
       " 'O',\n",
       " 'O',\n",
       " 'O',\n",
       " 'O',\n",
       " 'O',\n",
       " 'O',\n",
       " 'O',\n",
       " 'O',\n",
       " 'O',\n",
       " 'O',\n",
       " 'O',\n",
       " 'O',\n",
       " 'O',\n",
       " 'O',\n",
       " 'O',\n",
       " 'O',\n",
       " 'O',\n",
       " 'O',\n",
       " 'O',\n",
       " 'O',\n",
       " 'O',\n",
       " 'O',\n",
       " 'O',\n",
       " 'O',\n",
       " 'O',\n",
       " 'O',\n",
       " 'O',\n",
       " 'O',\n",
       " 'O']"
      ]
     },
     "execution_count": 69,
     "metadata": {},
     "output_type": "execute_result"
    }
   ],
   "source": [
    "pred_tags[0]"
   ]
  },
  {
   "cell_type": "code",
   "execution_count": 70,
   "id": "a593fff1",
   "metadata": {},
   "outputs": [
    {
     "data": {
      "text/plain": [
       "['O',\n",
       " 'O',\n",
       " 'O',\n",
       " 'O',\n",
       " 'O',\n",
       " 'O',\n",
       " 'O',\n",
       " 'O',\n",
       " 'O',\n",
       " 'O',\n",
       " 'O',\n",
       " 'O',\n",
       " 'O',\n",
       " 'O',\n",
       " 'O',\n",
       " 'O',\n",
       " 'O',\n",
       " 'O',\n",
       " 'O',\n",
       " 'O',\n",
       " 'O',\n",
       " 'O',\n",
       " 'O',\n",
       " 'O',\n",
       " 'O',\n",
       " 'O',\n",
       " 'O',\n",
       " 'O',\n",
       " 'O',\n",
       " 'O',\n",
       " 'O',\n",
       " 'O',\n",
       " 'O',\n",
       " 'O',\n",
       " 'O',\n",
       " 'O',\n",
       " 'O',\n",
       " 'O',\n",
       " 'O',\n",
       " 'O']"
      ]
     },
     "execution_count": 70,
     "metadata": {},
     "output_type": "execute_result"
    }
   ],
   "source": [
    "test_tags[0]"
   ]
  },
  {
   "cell_type": "code",
   "execution_count": 71,
   "id": "2dbcedfe",
   "metadata": {},
   "outputs": [
    {
     "name": "stderr",
     "output_type": "stream",
     "text": [
      "C:\\Users\\ITSC\\anaconda3\\Lib\\site-packages\\seqeval\\metrics\\sequence_labeling.py:171: UserWarning: B_LC seems not to be NE tag.\n",
      "  warnings.warn('{} seems not to be NE tag.'.format(chunk))\n",
      "C:\\Users\\ITSC\\anaconda3\\Lib\\site-packages\\seqeval\\metrics\\sequence_labeling.py:171: UserWarning: B_TI seems not to be NE tag.\n",
      "  warnings.warn('{} seems not to be NE tag.'.format(chunk))\n",
      "C:\\Users\\ITSC\\anaconda3\\Lib\\site-packages\\seqeval\\metrics\\sequence_labeling.py:171: UserWarning: B_OG seems not to be NE tag.\n",
      "  warnings.warn('{} seems not to be NE tag.'.format(chunk))\n",
      "C:\\Users\\ITSC\\anaconda3\\Lib\\site-packages\\seqeval\\metrics\\sequence_labeling.py:171: UserWarning: B_DT seems not to be NE tag.\n",
      "  warnings.warn('{} seems not to be NE tag.'.format(chunk))\n",
      "C:\\Users\\ITSC\\anaconda3\\Lib\\site-packages\\seqeval\\metrics\\sequence_labeling.py:171: UserWarning: B_PS seems not to be NE tag.\n",
      "  warnings.warn('{} seems not to be NE tag.'.format(chunk))\n"
     ]
    },
    {
     "name": "stdout",
     "output_type": "stream",
     "text": [
      "              precision    recall  f1-score   support\n",
      "\n",
      "           _       0.62      0.59      0.60       683\n",
      "         _DT       0.90      0.86      0.88       357\n",
      "         _LC       0.74      0.60      0.66       324\n",
      "         _OG       0.71      0.55      0.62       464\n",
      "         _PS       0.75      0.45      0.57       388\n",
      "         _TI       0.87      0.82      0.84        76\n",
      "\n",
      "   micro avg       0.73      0.61      0.66      2292\n",
      "   macro avg       0.76      0.64      0.70      2292\n",
      "weighted avg       0.73      0.61      0.66      2292\n",
      "\n"
     ]
    }
   ],
   "source": [
    "print(classification_report(test_tags, pred_tags))"
   ]
  },
  {
   "cell_type": "code",
   "execution_count": 72,
   "id": "c2b024ff",
   "metadata": {},
   "outputs": [
    {
     "name": "stdout",
     "output_type": "stream",
     "text": [
      "F1-score: 66.3%\n"
     ]
    },
    {
     "name": "stderr",
     "output_type": "stream",
     "text": [
      "C:\\Users\\ITSC\\anaconda3\\Lib\\site-packages\\seqeval\\metrics\\sequence_labeling.py:171: UserWarning: B_LC seems not to be NE tag.\n",
      "  warnings.warn('{} seems not to be NE tag.'.format(chunk))\n",
      "C:\\Users\\ITSC\\anaconda3\\Lib\\site-packages\\seqeval\\metrics\\sequence_labeling.py:171: UserWarning: B_TI seems not to be NE tag.\n",
      "  warnings.warn('{} seems not to be NE tag.'.format(chunk))\n",
      "C:\\Users\\ITSC\\anaconda3\\Lib\\site-packages\\seqeval\\metrics\\sequence_labeling.py:171: UserWarning: B_OG seems not to be NE tag.\n",
      "  warnings.warn('{} seems not to be NE tag.'.format(chunk))\n",
      "C:\\Users\\ITSC\\anaconda3\\Lib\\site-packages\\seqeval\\metrics\\sequence_labeling.py:171: UserWarning: B_DT seems not to be NE tag.\n",
      "  warnings.warn('{} seems not to be NE tag.'.format(chunk))\n",
      "C:\\Users\\ITSC\\anaconda3\\Lib\\site-packages\\seqeval\\metrics\\sequence_labeling.py:171: UserWarning: B_PS seems not to be NE tag.\n",
      "  warnings.warn('{} seems not to be NE tag.'.format(chunk))\n"
     ]
    }
   ],
   "source": [
    "print('F1-score: {:.1%}'.format(f1_score(test_tags, pred_tags)))"
   ]
  },
  {
   "cell_type": "code",
   "execution_count": 77,
   "id": "c0994065",
   "metadata": {},
   "outputs": [],
   "source": [
    "# 새로운 유형의 문장 NER 예측\n",
    "word_to_index = sent_tokenizer.word_index\n",
    "new_sentences = '삼성전자 출시 스마트폰 오늘 애플 도전장 내밀다'.split()\n",
    "new_x = []\n",
    "for w in new_sentences:\n",
    "    try:\n",
    "        new_x.append(word_to_index.get(w, 1))\n",
    "    except KeyError:\n",
    "        # 모르는 단어의 경우 OOV\n",
    "        new_x.append(word_to_index['OOV'])"
   ]
  },
  {
   "cell_type": "code",
   "execution_count": 78,
   "id": "a1b98713",
   "metadata": {},
   "outputs": [
    {
     "name": "stdout",
     "output_type": "stream",
     "text": [
      "새로운 유형의 시퀀스 : [531, 307, 1476, 286, 1507, 6766, 1]\n"
     ]
    }
   ],
   "source": [
    "print('새로운 유형의 시퀀스 :', new_x)\n",
    "new_padded_seqs = preprocessing.sequence.pad_sequences([new_x], padding = 'post',\n",
    "                                                       maxlen = max_len)"
   ]
  },
  {
   "cell_type": "code",
   "execution_count": 76,
   "id": "2245567f",
   "metadata": {},
   "outputs": [
    {
     "name": "stdout",
     "output_type": "stream",
     "text": [
      "\u001b[1m1/1\u001b[0m \u001b[32m━━━━━━━━━━━━━━━━━━━━\u001b[0m\u001b[37m\u001b[0m \u001b[1m0s\u001b[0m 19ms/step\n",
      "단어         예측된 NER\n",
      "--------------------------------------------------\n",
      "삼성전자       B_OG \n",
      "출시         O    \n",
      "스마트폰       O    \n",
      "오늘         B_DT \n",
      "애플         B_OG \n",
      "도전장        I    \n",
      "내밀다        I    \n"
     ]
    }
   ],
   "source": [
    "# NER 예측 \n",
    "p = model.predict(np.array([new_padded_seqs[0]]))\n",
    "p = np.argmax(p, axis = -1) # 에측된 NER 인덱스값 추출\n",
    "print('{:10} {:5}'.format('단어', '예측된 NER'))\n",
    "print('-' * 50)\n",
    "\n",
    "for w, pred in zip(new_sentences, p[0]):\n",
    "    print('{:10} {:5}'.format(w, index_to_ner[pred]))"
   ]
  },
  {
   "cell_type": "code",
   "execution_count": null,
   "id": "4326abcd",
   "metadata": {},
   "outputs": [],
   "source": []
  }
 ],
 "metadata": {
  "kernelspec": {
   "display_name": "Python 3 (ipykernel)",
   "language": "python",
   "name": "python3"
  },
  "language_info": {
   "codemirror_mode": {
    "name": "ipython",
    "version": 3
   },
   "file_extension": ".py",
   "mimetype": "text/x-python",
   "name": "python",
   "nbconvert_exporter": "python",
   "pygments_lexer": "ipython3",
   "version": "3.11.5"
  }
 },
 "nbformat": 4,
 "nbformat_minor": 5
}
