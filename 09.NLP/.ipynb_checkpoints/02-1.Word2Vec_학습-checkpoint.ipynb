{
 "cells": [
  {
   "cell_type": "code",
   "execution_count": 1,
   "id": "36358f31",
   "metadata": {},
   "outputs": [],
   "source": [
    "from gensim.models import Word2Vec\n",
    "from konlpy.tag import Komoran\n",
    "import time\n",
    "import pandas as pd"
   ]
  },
  {
   "cell_type": "code",
   "execution_count": 2,
   "id": "f42dd291",
   "metadata": {},
   "outputs": [],
   "source": [
    "df = pd.read_csv(r'C:\\Users\\ITSC\\Desktop\\project\\08.DL\\data\\nsmc\\ratings.txt', sep = '\\t')"
   ]
  },
  {
   "cell_type": "code",
   "execution_count": 3,
   "id": "314b4d3c",
   "metadata": {
    "scrolled": true
   },
   "outputs": [
    {
     "data": {
      "text/html": [
       "<div>\n",
       "<style scoped>\n",
       "    .dataframe tbody tr th:only-of-type {\n",
       "        vertical-align: middle;\n",
       "    }\n",
       "\n",
       "    .dataframe tbody tr th {\n",
       "        vertical-align: top;\n",
       "    }\n",
       "\n",
       "    .dataframe thead th {\n",
       "        text-align: right;\n",
       "    }\n",
       "</style>\n",
       "<table border=\"1\" class=\"dataframe\">\n",
       "  <thead>\n",
       "    <tr style=\"text-align: right;\">\n",
       "      <th></th>\n",
       "      <th>id</th>\n",
       "      <th>document</th>\n",
       "      <th>label</th>\n",
       "    </tr>\n",
       "  </thead>\n",
       "  <tbody>\n",
       "    <tr>\n",
       "      <th>0</th>\n",
       "      <td>8112052</td>\n",
       "      <td>어릴때보고 지금다시봐도 재밌어요ㅋㅋ</td>\n",
       "      <td>1</td>\n",
       "    </tr>\n",
       "    <tr>\n",
       "      <th>1</th>\n",
       "      <td>8132799</td>\n",
       "      <td>디자인을 배우는 학생으로, 외국디자이너와 그들이 일군 전통을 통해 발전해가는 문화산...</td>\n",
       "      <td>1</td>\n",
       "    </tr>\n",
       "    <tr>\n",
       "      <th>2</th>\n",
       "      <td>4655635</td>\n",
       "      <td>폴리스스토리 시리즈는 1부터 뉴까지 버릴께 하나도 없음.. 최고.</td>\n",
       "      <td>1</td>\n",
       "    </tr>\n",
       "    <tr>\n",
       "      <th>3</th>\n",
       "      <td>9251303</td>\n",
       "      <td>와.. 연기가 진짜 개쩔구나.. 지루할거라고 생각했는데 몰입해서 봤다.. 그래 이런...</td>\n",
       "      <td>1</td>\n",
       "    </tr>\n",
       "    <tr>\n",
       "      <th>4</th>\n",
       "      <td>10067386</td>\n",
       "      <td>안개 자욱한 밤하늘에 떠 있는 초승달 같은 영화.</td>\n",
       "      <td>1</td>\n",
       "    </tr>\n",
       "  </tbody>\n",
       "</table>\n",
       "</div>"
      ],
      "text/plain": [
       "         id                                           document  label\n",
       "0   8112052                                어릴때보고 지금다시봐도 재밌어요ㅋㅋ      1\n",
       "1   8132799  디자인을 배우는 학생으로, 외국디자이너와 그들이 일군 전통을 통해 발전해가는 문화산...      1\n",
       "2   4655635               폴리스스토리 시리즈는 1부터 뉴까지 버릴께 하나도 없음.. 최고.      1\n",
       "3   9251303  와.. 연기가 진짜 개쩔구나.. 지루할거라고 생각했는데 몰입해서 봤다.. 그래 이런...      1\n",
       "4  10067386                        안개 자욱한 밤하늘에 떠 있는 초승달 같은 영화.      1"
      ]
     },
     "execution_count": 3,
     "metadata": {},
     "output_type": "execute_result"
    }
   ],
   "source": [
    "df.head()"
   ]
  },
  {
   "cell_type": "code",
   "execution_count": 4,
   "id": "024fbd3d",
   "metadata": {},
   "outputs": [
    {
     "data": {
      "text/plain": [
       "(200000, 3)"
      ]
     },
     "execution_count": 4,
     "metadata": {},
     "output_type": "execute_result"
    }
   ],
   "source": [
    "df.shape"
   ]
  },
  {
   "cell_type": "code",
   "execution_count": 5,
   "id": "20a0a136",
   "metadata": {
    "scrolled": true
   },
   "outputs": [
    {
     "name": "stdout",
     "output_type": "stream",
     "text": [
      "<class 'pandas.core.frame.DataFrame'>\n",
      "RangeIndex: 200000 entries, 0 to 199999\n",
      "Data columns (total 3 columns):\n",
      " #   Column    Non-Null Count   Dtype \n",
      "---  ------    --------------   ----- \n",
      " 0   id        200000 non-null  int64 \n",
      " 1   document  199992 non-null  object\n",
      " 2   label     200000 non-null  int64 \n",
      "dtypes: int64(2), object(1)\n",
      "memory usage: 4.6+ MB\n"
     ]
    }
   ],
   "source": [
    "df.info()"
   ]
  },
  {
   "cell_type": "markdown",
   "id": "98715426",
   "metadata": {},
   "source": [
    "- 결측치가 있으니 제거를 해야 함"
   ]
  },
  {
   "cell_type": "code",
   "execution_count": 6,
   "id": "b3470fb1",
   "metadata": {},
   "outputs": [],
   "source": [
    "df = df.dropna()"
   ]
  },
  {
   "cell_type": "code",
   "execution_count": 7,
   "id": "5e2d2ad7",
   "metadata": {},
   "outputs": [
    {
     "data": {
      "text/html": [
       "<div>\n",
       "<style scoped>\n",
       "    .dataframe tbody tr th:only-of-type {\n",
       "        vertical-align: middle;\n",
       "    }\n",
       "\n",
       "    .dataframe tbody tr th {\n",
       "        vertical-align: top;\n",
       "    }\n",
       "\n",
       "    .dataframe thead th {\n",
       "        text-align: right;\n",
       "    }\n",
       "</style>\n",
       "<table border=\"1\" class=\"dataframe\">\n",
       "  <thead>\n",
       "    <tr style=\"text-align: right;\">\n",
       "      <th></th>\n",
       "      <th>id</th>\n",
       "      <th>document</th>\n",
       "      <th>label</th>\n",
       "    </tr>\n",
       "  </thead>\n",
       "  <tbody>\n",
       "    <tr>\n",
       "      <th>0</th>\n",
       "      <td>8112052</td>\n",
       "      <td>어릴때보고 지금다시봐도 재밌어요ㅋㅋ</td>\n",
       "      <td>1</td>\n",
       "    </tr>\n",
       "    <tr>\n",
       "      <th>1</th>\n",
       "      <td>8132799</td>\n",
       "      <td>디자인을 배우는 학생으로, 외국디자이너와 그들이 일군 전통을 통해 발전해가는 문화산...</td>\n",
       "      <td>1</td>\n",
       "    </tr>\n",
       "    <tr>\n",
       "      <th>2</th>\n",
       "      <td>4655635</td>\n",
       "      <td>폴리스스토리 시리즈는 1부터 뉴까지 버릴께 하나도 없음.. 최고.</td>\n",
       "      <td>1</td>\n",
       "    </tr>\n",
       "    <tr>\n",
       "      <th>3</th>\n",
       "      <td>9251303</td>\n",
       "      <td>와.. 연기가 진짜 개쩔구나.. 지루할거라고 생각했는데 몰입해서 봤다.. 그래 이런...</td>\n",
       "      <td>1</td>\n",
       "    </tr>\n",
       "    <tr>\n",
       "      <th>4</th>\n",
       "      <td>10067386</td>\n",
       "      <td>안개 자욱한 밤하늘에 떠 있는 초승달 같은 영화.</td>\n",
       "      <td>1</td>\n",
       "    </tr>\n",
       "  </tbody>\n",
       "</table>\n",
       "</div>"
      ],
      "text/plain": [
       "         id                                           document  label\n",
       "0   8112052                                어릴때보고 지금다시봐도 재밌어요ㅋㅋ      1\n",
       "1   8132799  디자인을 배우는 학생으로, 외국디자이너와 그들이 일군 전통을 통해 발전해가는 문화산...      1\n",
       "2   4655635               폴리스스토리 시리즈는 1부터 뉴까지 버릴께 하나도 없음.. 최고.      1\n",
       "3   9251303  와.. 연기가 진짜 개쩔구나.. 지루할거라고 생각했는데 몰입해서 봤다.. 그래 이런...      1\n",
       "4  10067386                        안개 자욱한 밤하늘에 떠 있는 초승달 같은 영화.      1"
      ]
     },
     "execution_count": 7,
     "metadata": {},
     "output_type": "execute_result"
    }
   ],
   "source": [
    "df.head()"
   ]
  },
  {
   "cell_type": "code",
   "execution_count": 8,
   "id": "766b9606",
   "metadata": {},
   "outputs": [
    {
     "data": {
      "text/plain": [
       "(199992, 3)"
      ]
     },
     "execution_count": 8,
     "metadata": {},
     "output_type": "execute_result"
    }
   ],
   "source": [
    "df.shape"
   ]
  },
  {
   "cell_type": "code",
   "execution_count": 9,
   "id": "6b8bd636",
   "metadata": {},
   "outputs": [],
   "source": [
    "komoran = Komoran()"
   ]
  },
  {
   "cell_type": "code",
   "execution_count": 10,
   "id": "7a538e41",
   "metadata": {},
   "outputs": [
    {
     "name": "stdout",
     "output_type": "stream",
     "text": [
      "CPU times: total: 2min 11s\n",
      "Wall time: 1min 54s\n"
     ]
    }
   ],
   "source": [
    "%%time\n",
    "# 문장 단위로 명사만 추출해 학습 입력 데이터로 만듦 \n",
    "docs = df['document'].map(lambda x: komoran.nouns(x))"
   ]
  },
  {
   "cell_type": "code",
   "execution_count": 12,
   "id": "6cc770c9",
   "metadata": {},
   "outputs": [
    {
     "data": {
      "text/plain": [
       "id                  8548411\n",
       "document    포풍저그가나가신다영차영차영차\n",
       "label                     0\n",
       "Name: 199999, dtype: object"
      ]
     },
     "execution_count": 12,
     "metadata": {},
     "output_type": "execute_result"
    }
   ],
   "source": [
    "df.iloc[-1]"
   ]
  },
  {
   "cell_type": "code",
   "execution_count": 11,
   "id": "ed98c611",
   "metadata": {},
   "outputs": [
    {
     "data": {
      "text/plain": [
       "0                                                       [때]\n",
       "1         [디자인, 학생, 외국, 디자이너, 전통, 발전, 문화, 산업, 사실, 우리나라, ...\n",
       "2                                    [폴리스, 스토리, 시리즈, 뉴, 최고]\n",
       "3                                [연기, 것, 라고, 생각, 몰입, 영, 화지]\n",
       "4                                        [안개, 밤하늘, 초승달, 영화]\n",
       "                                ...                        \n",
       "199995                                         [포켓, 몬스터, 짜]\n",
       "199996                                                   []\n",
       "199997                            [완전, 사이코, 영화, 마지막, 영화, 질]\n",
       "199998                                          [라따뚜이, 스머프]\n",
       "199999                       [포, 풍, 저그, 가나, 신다영, 차영, 차영, 차]\n",
       "Name: document, Length: 199992, dtype: object"
      ]
     },
     "execution_count": 11,
     "metadata": {},
     "output_type": "execute_result"
    }
   ],
   "source": [
    "docs"
   ]
  },
  {
   "cell_type": "code",
   "execution_count": 13,
   "id": "380e8754",
   "metadata": {},
   "outputs": [],
   "source": [
    "# word2vec 모델 학습\n",
    "model = Word2Vec(sentences= docs, vector_size= 200, window= 4, min_count= 2, sg= 1)"
   ]
  },
  {
   "cell_type": "markdown",
   "id": "9d93466e",
   "metadata": {},
   "source": [
    "- word2vec의 주요 하이퍼파라미터\n",
    "    - sentences : Word2Vec 모델 학습에 필요한 문장 데이터 \n",
    "    - vector_size : 단어 임베딩 벡터의 차원(크기)\n",
    "    - window : 주변 단어 윈도우의 크기 \n",
    "    - min_count : 단어 최소 빈도 수 제한(설정된 min_count 빈도 수 미만의 단어들은 학습하지 않음) \n",
    "    - sg : 0(CBOW 모델), 1(skip gram 모델)"
   ]
  },
  {
   "cell_type": "code",
   "execution_count": 18,
   "id": "3ccf2a0b",
   "metadata": {},
   "outputs": [],
   "source": [
    "# 모델 저장\n",
    "model.save('./model/nsmc_w2v.model')"
   ]
  },
  {
   "cell_type": "code",
   "execution_count": 19,
   "id": "42526e03",
   "metadata": {},
   "outputs": [
    {
     "name": "stdout",
     "output_type": "stream",
     "text": [
      "corpus_count : 199992\n",
      "corpus_total_words : 1076840\n"
     ]
    }
   ],
   "source": [
    "# 학습된 말뭉치 개수, 코퍼스 내 전체 단어 개수\n",
    "print('corpus_count :', model.corpus_count)\n",
    "print('corpus_total_words :', model.corpus_total_words)"
   ]
  },
  {
   "cell_type": "markdown",
   "id": "ac9a3ee3",
   "metadata": {},
   "source": [
    "# word2vec 모델 활용"
   ]
  },
  {
   "cell_type": "code",
   "execution_count": 20,
   "id": "65dbe2be",
   "metadata": {},
   "outputs": [
    {
     "name": "stdout",
     "output_type": "stream",
     "text": [
      "1076840\n"
     ]
    }
   ],
   "source": [
    "# 모델 로딩\n",
    "model = Word2Vec.load('./model/nsmc_w2v.model')\n",
    "print(model.corpus_total_words)"
   ]
  },
  {
   "cell_type": "code",
   "execution_count": 21,
   "id": "57f17437",
   "metadata": {},
   "outputs": [
    {
     "name": "stdout",
     "output_type": "stream",
     "text": [
      "사랑 : [ 0.0373017  -0.35084715  0.45483956  0.3296866  -0.16116355 -0.2692437\n",
      " -0.12032978  0.0154362   0.07584948  0.47460327  0.13526835 -0.1679363\n",
      "  0.22463788 -0.00849538  0.11562859  0.5645117  -0.0160762  -0.29301378\n",
      " -0.26827842 -0.44970235  0.19681568  0.25663257 -0.04284914 -0.10023733\n",
      " -0.2856752   0.11311447  0.32814875 -0.03218634 -0.25222886 -0.38759047\n",
      "  0.19051795  0.23350807 -0.09898081 -0.01578355  0.09551468  0.14253227\n",
      " -0.09646736 -0.0292216  -0.20397596  0.1385932  -0.339563    0.04493412\n",
      "  0.26270938 -0.4123445   0.35169622  0.2379046  -0.21466078 -0.15512599\n",
      "  0.2120809   0.13879716  0.22535323 -0.3451745  -0.21840538  0.19201872\n",
      " -0.20065373 -0.18804576 -0.12423304  0.12848455 -0.15699199  0.09948257\n",
      " -0.00868144 -0.24378668 -0.5169212   0.34777933 -0.0455278   0.19611384\n",
      " -0.29127598  0.26489645 -0.02906821  0.5834027   0.01262125 -0.13387702\n",
      "  0.4481956   0.07308577  0.0943917  -0.2244936   0.12805781 -0.3870468\n",
      " -0.5731003  -0.40683544  0.12131705 -0.09892675 -0.46089843  0.3770615\n",
      " -0.432013    0.07123052 -0.21114273  0.32557517  0.06860881 -0.1988267\n",
      "  0.3054028   0.25366145  0.4159888   0.25352344  0.21099     0.22989815\n",
      " -0.05627185 -0.08198199 -0.10123933  0.15660323 -0.5209672   0.70807946\n",
      "  0.21136738  0.21310389 -0.06969419 -0.495023   -0.11058354  0.2148187\n",
      " -0.35856295 -0.27496588  0.08643456 -0.30905423  0.05592964  0.24922964\n",
      "  0.18639047 -0.296973   -0.00358168  0.00181084  0.07604288 -0.04609469\n",
      "  0.28671587 -0.1036244   0.08188935 -0.11662489  0.04498136  0.3332816\n",
      " -0.1614864  -0.01491054 -0.34034368  0.07989359 -0.06571812  0.5963652\n",
      "  0.03659255  0.09533237 -0.03947574  0.04783792 -0.06758574  0.27798027\n",
      " -0.2013751  -0.19788036  0.35479197  0.16164635 -0.0977895  -0.10421953\n",
      " -0.12152601 -0.01795194 -0.05022482 -0.10941541  0.29479888 -0.24343972\n",
      " -0.10994304 -0.32808527  0.00764725  0.0313716   0.03319877  0.01133493\n",
      "  0.06815277  0.07044871  0.23599504  0.05493914  0.42534295  0.23699908\n",
      "  0.00826581  0.02568162  0.21372283  0.5848192  -0.00605838 -0.5894262\n",
      " -0.2420266  -0.06387369 -0.46349737 -0.2823123   0.38632652 -0.38737026\n",
      " -0.04034314 -0.09017587 -0.12439139 -0.01489889  0.18649034 -0.09888973\n",
      " -0.11655734  0.43484747  0.14976744 -0.09325346 -0.27393648 -0.01863572\n",
      " -0.03505123 -0.0435236   0.14576139  0.1098565   0.16851757  0.12635525\n",
      " -0.10859624 -0.2913536   0.1485555  -0.01085033  0.05738491 -0.48001495\n",
      " -0.16795641 -0.06791025]\n"
     ]
    }
   ],
   "source": [
    "# '사랑'이란 단어로 생성한 단어 임베딩 벡터\n",
    "print('사랑 :', model.wv['사랑'])"
   ]
  },
  {
   "cell_type": "markdown",
   "id": "fedbc5bb",
   "metadata": {},
   "source": [
    "- 모델을 학습할 때 설정한 vector_size 하이퍼파라미터 만큼 단어 임베딩 벡터 차원 크기가 결정됨  "
   ]
  },
  {
   "cell_type": "markdown",
   "id": "7d4d802b",
   "metadata": {},
   "source": [
    "- model.wv.similarity()함수 : 두 단어간의 유사도를 계산 "
   ]
  },
  {
   "cell_type": "code",
   "execution_count": 22,
   "id": "db923a25",
   "metadata": {},
   "outputs": [
    {
     "name": "stdout",
     "output_type": "stream",
     "text": [
      "일요일 = 월요일\t0.9109708\n"
     ]
    }
   ],
   "source": [
    "# 단어 유사도 계산\n",
    "print('일요일 = 월요일', model.wv.similarity(w1 = '일요일', w2 = '월요일'), sep = '\\t')"
   ]
  },
  {
   "cell_type": "code",
   "execution_count": 23,
   "id": "7b2c8600",
   "metadata": {},
   "outputs": [
    {
     "name": "stdout",
     "output_type": "stream",
     "text": [
      "대기업 = 삼성\t0.8949914\n"
     ]
    }
   ],
   "source": [
    "print('대기업 = 삼성', model.wv.similarity(w1 = '대기업', w2 = '삼성'), sep = '\\t')"
   ]
  },
  {
   "cell_type": "code",
   "execution_count": 24,
   "id": "369bbe36",
   "metadata": {},
   "outputs": [
    {
     "name": "stdout",
     "output_type": "stream",
     "text": [
      "일요일 = 삼성\t0.6590837\n"
     ]
    }
   ],
   "source": [
    "print('일요일 = 삼성', model.wv.similarity(w1 = '일요일', w2 = '삼성'), sep = '\\t')"
   ]
  },
  {
   "cell_type": "markdown",
   "id": "a2ab5db1",
   "metadata": {},
   "source": [
    "- model.wv.most_similar()함수 : 인자로 사용한 단어와 가장 유사한 단어를 리스트로 반환\n",
    "    - 벡터 공간에서 가장 가까운 거리에 있는 단어들을 반환\n",
    "    - topn : 반환되는 유사한 단어 수\n",
    "- 유사도가 1에 가까울수록 두 단어는 동일한 의미이거나 문법적으로 관련이 있을 가능성이 높음 "
   ]
  },
  {
   "cell_type": "code",
   "execution_count": 28,
   "id": "954b9c83",
   "metadata": {},
   "outputs": [
    {
     "name": "stdout",
     "output_type": "stream",
     "text": [
      "[('엑스맨', 0.8057758212089539), ('스타워즈', 0.7975889444351196), ('반지의 제왕', 0.7968295216560364), ('미이라', 0.7928451299667358), ('포터', 0.7918878197669983)]\n"
     ]
    }
   ],
   "source": [
    "# 가장 유사한 단어 추출\n",
    "print(model.wv.most_similar('시리즈', topn = 5))"
   ]
  },
  {
   "cell_type": "code",
   "execution_count": 29,
   "id": "9a501431",
   "metadata": {
    "scrolled": true
   },
   "outputs": [
    {
     "name": "stdout",
     "output_type": "stream",
     "text": [
      "[('끝판', 0.7935803532600403), ('죤', 0.7612923979759216), ('피노키오', 0.7436968684196472), ('동', 0.7429763674736023), ('지대', 0.7364911437034607)]\n"
     ]
    }
   ],
   "source": [
    "print(model.wv.most_similar('왕', topn = 5))"
   ]
  },
  {
   "cell_type": "code",
   "execution_count": 33,
   "id": "cdca2b5e",
   "metadata": {},
   "outputs": [],
   "source": [
    "import gensim"
   ]
  },
  {
   "cell_type": "code",
   "execution_count": 38,
   "id": "9071129f",
   "metadata": {},
   "outputs": [],
   "source": [
    "sentences = gensim.models.word2vec.Text8Corpus('./data/text8.txt')"
   ]
  },
  {
   "cell_type": "code",
   "execution_count": 40,
   "id": "61bb682c",
   "metadata": {},
   "outputs": [],
   "source": [
    "model = Word2Vec(sentences, vector_size= 200)"
   ]
  },
  {
   "cell_type": "code",
   "execution_count": 42,
   "id": "daca7f38",
   "metadata": {},
   "outputs": [
    {
     "data": {
      "text/plain": [
       "[('queen', 0.6336023807525635),\n",
       " ('throne', 0.558576762676239),\n",
       " ('daughter', 0.5444065928459167),\n",
       " ('elizabeth', 0.5411271452903748),\n",
       " ('empress', 0.5410109162330627),\n",
       " ('kings', 0.5354481339454651),\n",
       " ('son', 0.5277135968208313),\n",
       " ('pharaoh', 0.5267598628997803),\n",
       " ('princess', 0.5218906402587891),\n",
       " ('wife', 0.5154953598976135)]"
      ]
     },
     "execution_count": 42,
     "metadata": {},
     "output_type": "execute_result"
    }
   ],
   "source": [
    "model.wv.most_similar(positive = ['woman', 'king'], negative = 'man')"
   ]
  },
  {
   "cell_type": "code",
   "execution_count": null,
   "id": "6ef153cf",
   "metadata": {},
   "outputs": [],
   "source": []
  }
 ],
 "metadata": {
  "kernelspec": {
   "display_name": "Python 3 (ipykernel)",
   "language": "python",
   "name": "python3"
  },
  "language_info": {
   "codemirror_mode": {
    "name": "ipython",
    "version": 3
   },
   "file_extension": ".py",
   "mimetype": "text/x-python",
   "name": "python",
   "nbconvert_exporter": "python",
   "pygments_lexer": "ipython3",
   "version": "3.11.5"
  }
 },
 "nbformat": 4,
 "nbformat_minor": 5
}
