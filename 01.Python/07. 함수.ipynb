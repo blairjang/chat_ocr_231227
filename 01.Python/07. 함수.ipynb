{
 "cells": [
  {
   "cell_type": "markdown",
   "id": "91746234",
   "metadata": {},
   "source": [
    "# 파이썬 함수의 구조\n",
    "\n",
    "```\n",
    "def 함수명(매개변수):\n",
    "    수행할 문장\n",
    "```\n",
    "    \n",
    "  "
   ]
  },
  {
   "cell_type": "code",
   "execution_count": 1,
   "id": "ea52b6e2",
   "metadata": {},
   "outputs": [],
   "source": [
    "# welcome 함수 정의 # 함수는 동사가 나오는 경우가 많음\n",
    "def welcome():\n",
    "    print(\"Hello!\")\n",
    "    print(\"Nice to meet you\")"
   ]
  },
  {
   "cell_type": "code",
   "execution_count": 4,
   "id": "ec3c2bc2",
   "metadata": {},
   "outputs": [
    {
     "name": "stdout",
     "output_type": "stream",
     "text": [
      "Hello!\n",
      "Nice to meet you\n"
     ]
    }
   ],
   "source": [
    "welcome()  # 함수 호출 (call funcion)"
   ]
  },
  {
   "cell_type": "code",
   "execution_count": 10,
   "id": "59892705",
   "metadata": {},
   "outputs": [],
   "source": [
    "# add 함수 정의\n",
    "def add(a, b):\n",
    "    return a+b"
   ]
  },
  {
   "cell_type": "code",
   "execution_count": 11,
   "id": "fbea2a90",
   "metadata": {},
   "outputs": [
    {
     "name": "stdout",
     "output_type": "stream",
     "text": [
      "7\n"
     ]
    }
   ],
   "source": [
    "c = add(3, 4)\n",
    "\n",
    "print(c)"
   ]
  },
  {
   "cell_type": "markdown",
   "id": "43f79ba3",
   "metadata": {},
   "source": [
    "## 함수 사용의 장점\n",
    "\n",
    "- 코드의 용도를 구분\n",
    "- 코드 재사용이 용이\n",
    "- 실수를 방지(오타 등)\n"
   ]
  },
  {
   "cell_type": "markdown",
   "id": "4a9449a6",
   "metadata": {},
   "source": [
    "#### 코드 만들기\n",
    "- 일단 돌아가는 코드\n",
    "- 반복되는 패턴 파악\n",
    "- 함수 작성"
   ]
  },
  {
   "cell_type": "markdown",
   "id": "e1ead500",
   "metadata": {},
   "source": [
    "# 매개변수와 인수\n",
    "\n",
    "- 매개변수 : 함수에 입력으로 전달된 값을 받는 변수\n",
    "- 인수 : 함수를 호출할 때 전달하는 입력값\n",
    "\n",
    "- 인수와 매개변수는 다른 개념이지만 함수가 호출된 뒤에는 구분이 모호해져서 구분하지 않는 경우도 많음\n",
    "\n",
    "- 함수의 처리과정\n",
    "    - 입력값 -> 함수 -> 결과값\n",
    "    \n",
    "- 함수의 사용법\n",
    "    - 결과값을 받을 변수 = 함수이름(입력인수 1, 입력인수 2, .....)"
   ]
  },
  {
   "cell_type": "code",
   "execution_count": 3,
   "id": "67df3b59",
   "metadata": {},
   "outputs": [],
   "source": [
    "def print_n_times(value, n):\n",
    "    for _ in range(n): #for 다음 변수가 안나올 수 없는데 _는 실제 사용하지 않는 변수다\n",
    "        print(value)"
   ]
  },
  {
   "cell_type": "code",
   "execution_count": 4,
   "id": "bedfdfc7",
   "metadata": {},
   "outputs": [
    {
     "ename": "TypeError",
     "evalue": "print_n_times() missing 1 required positional argument: 'n'",
     "output_type": "error",
     "traceback": [
      "\u001b[1;31m---------------------------------------------------------------------------\u001b[0m",
      "\u001b[1;31mTypeError\u001b[0m                                 Traceback (most recent call last)",
      "Cell \u001b[1;32mIn[4], line 2\u001b[0m\n\u001b[0;32m      1\u001b[0m \u001b[38;5;66;03m# 매개변수를 2개 지정하고 인수를 하나만 넣는다면 에러발생\u001b[39;00m\n\u001b[1;32m----> 2\u001b[0m print_n_times(\u001b[38;5;124m\"\u001b[39m\u001b[38;5;124m안녕하세요\u001b[39m\u001b[38;5;124m\"\u001b[39m)\n",
      "\u001b[1;31mTypeError\u001b[0m: print_n_times() missing 1 required positional argument: 'n'"
     ]
    }
   ],
   "source": [
    "# 매개변수를 2개 지정하고 인수를 하나만 넣는다면 에러발생\n",
    "print_n_times(\"안녕하세요\")"
   ]
  },
  {
   "cell_type": "code",
   "execution_count": 7,
   "id": "0e497646",
   "metadata": {
    "scrolled": true
   },
   "outputs": [
    {
     "ename": "TypeError",
     "evalue": "print_n_times() takes 2 positional arguments but 3 were given",
     "output_type": "error",
     "traceback": [
      "\u001b[1;31m---------------------------------------------------------------------------\u001b[0m",
      "\u001b[1;31mTypeError\u001b[0m                                 Traceback (most recent call last)",
      "Cell \u001b[1;32mIn[7], line 3\u001b[0m\n\u001b[0;32m      1\u001b[0m \u001b[38;5;66;03m# 지정한 매개변수보다 인수를 많이 넣으면 에러 발생\u001b[39;00m\n\u001b[1;32m----> 3\u001b[0m print_n_times(\u001b[38;5;124m\"\u001b[39m\u001b[38;5;124m안녕하세요\u001b[39m\u001b[38;5;124m\"\u001b[39m, \u001b[38;5;241m10\u001b[39m, \u001b[38;5;241m20\u001b[39m)\n",
      "\u001b[1;31mTypeError\u001b[0m: print_n_times() takes 2 positional arguments but 3 were given"
     ]
    }
   ],
   "source": [
    "# 지정한 매개변수보다 인수를 많이 넣으면 에러 발생\n",
    "\n",
    "print_n_times(\"안녕하세요\", 10, 20)"
   ]
  },
  {
   "cell_type": "markdown",
   "id": "df7f4bd2",
   "metadata": {},
   "source": [
    "### 입력값이 없고 결과값이 있는 함수\n",
    "\n",
    "- 함수 사용법\n",
    "    - 결과값을 받을 변수 = 함수이름()\n",
    "    "
   ]
  },
  {
   "cell_type": "code",
   "execution_count": 8,
   "id": "72106551",
   "metadata": {},
   "outputs": [],
   "source": [
    "def say():\n",
    "    return \"Hi\""
   ]
  },
  {
   "cell_type": "code",
   "execution_count": 11,
   "id": "f607433b",
   "metadata": {},
   "outputs": [
    {
     "name": "stdout",
     "output_type": "stream",
     "text": [
      "Hi\n"
     ]
    }
   ],
   "source": [
    "a = say()\n",
    "print(a)"
   ]
  },
  {
   "cell_type": "markdown",
   "id": "7611dfcc",
   "metadata": {},
   "source": [
    "### 결과값이 없고 입력값이 있는 함수\n",
    "\n",
    "- 함수 사용법\n",
    "    - 함수이름(입력인수1, 입력인수2....)"
   ]
  },
  {
   "cell_type": "code",
   "execution_count": 13,
   "id": "a4f05f4a",
   "metadata": {},
   "outputs": [],
   "source": [
    "def add(a,b):\n",
    "    print(f\"{a}, {b}의 합은 {a+b}입니다\")  #return 으로 안써서 결과값이 없음"
   ]
  },
  {
   "cell_type": "code",
   "execution_count": 15,
   "id": "7461002d",
   "metadata": {},
   "outputs": [
    {
     "name": "stdout",
     "output_type": "stream",
     "text": [
      "3, 4의 합은 7입니다\n"
     ]
    }
   ],
   "source": [
    "add(3,4) # 출력값"
   ]
  },
  {
   "cell_type": "code",
   "execution_count": 18,
   "id": "02ed22bc",
   "metadata": {},
   "outputs": [
    {
     "name": "stdout",
     "output_type": "stream",
     "text": [
      "3, 4의 합은 7입니다\n",
      "None\n"
     ]
    }
   ],
   "source": [
    "#결과값 확인\n",
    "\n",
    "a = add(3,4)\n",
    "print(a)"
   ]
  },
  {
   "cell_type": "markdown",
   "id": "48dae09b",
   "metadata": {},
   "source": [
    "### 입력값도 결과값도 없는 함수\n",
    "\n",
    "- 사용법\n",
    "    - 함수이름()\n",
    "    "
   ]
  },
  {
   "cell_type": "code",
   "execution_count": 23,
   "id": "47ea95bf",
   "metadata": {},
   "outputs": [],
   "source": [
    "def say():\n",
    "    print(\"Hi\")"
   ]
  },
  {
   "cell_type": "code",
   "execution_count": 26,
   "id": "ac45009a",
   "metadata": {},
   "outputs": [
    {
     "name": "stdout",
     "output_type": "stream",
     "text": [
      "Hi\n",
      "Hi\n",
      "None\n"
     ]
    }
   ],
   "source": [
    "say()\n",
    "print(say())"
   ]
  },
  {
   "cell_type": "markdown",
   "id": "96ea5ed2",
   "metadata": {},
   "source": [
    "## 매개변후 지정하여 호출하기"
   ]
  },
  {
   "cell_type": "code",
   "execution_count": 27,
   "id": "3cf0a73d",
   "metadata": {},
   "outputs": [],
   "source": [
    "def add(a,b):\n",
    "    print(f\"{a}, {b}의 합은 {a+b}입니다\")"
   ]
  },
  {
   "cell_type": "code",
   "execution_count": 28,
   "id": "ed15b967",
   "metadata": {},
   "outputs": [
    {
     "name": "stdout",
     "output_type": "stream",
     "text": [
      "3, 7의 합은 10입니다\n"
     ]
    }
   ],
   "source": [
    "add(a=3, b=7)"
   ]
  },
  {
   "cell_type": "code",
   "execution_count": 29,
   "id": "db3cedc7",
   "metadata": {},
   "outputs": [
    {
     "name": "stdout",
     "output_type": "stream",
     "text": [
      "7, 3의 합은 10입니다\n"
     ]
    }
   ],
   "source": [
    "add(a = 7, b=3)"
   ]
  },
  {
   "cell_type": "code",
   "execution_count": 30,
   "id": "b5a47319",
   "metadata": {},
   "outputs": [
    {
     "name": "stdout",
     "output_type": "stream",
     "text": [
      "3, 5의 합은 8입니다\n"
     ]
    }
   ],
   "source": [
    "add(b=5, a=3)"
   ]
  },
  {
   "cell_type": "markdown",
   "id": "3bd360e7",
   "metadata": {},
   "source": [
    "# 함수의 결과값 "
   ]
  },
  {
   "cell_type": "code",
   "execution_count": 31,
   "id": "15583b5c",
   "metadata": {},
   "outputs": [],
   "source": [
    "def add_and_mul(a,b):\n",
    "    return a+b, a*b"
   ]
  },
  {
   "cell_type": "code",
   "execution_count": 33,
   "id": "56dd003d",
   "metadata": {},
   "outputs": [
    {
     "name": "stdout",
     "output_type": "stream",
     "text": [
      "(7, 12)\n"
     ]
    }
   ],
   "source": [
    "result = add_and_mul(3,4)\n",
    "\n",
    "# 결과값은 하나,하나의 튜플로 반환됨\n",
    "print(result)"
   ]
  },
  {
   "cell_type": "code",
   "execution_count": 34,
   "id": "6e8a113c",
   "metadata": {},
   "outputs": [
    {
     "name": "stdout",
     "output_type": "stream",
     "text": [
      "7 12\n"
     ]
    }
   ],
   "source": [
    "# 2개의 결과값처럼 받을 수 있음\n",
    "result1, result2 = add_and_mul(3,4)\n",
    "print(result1, result2)"
   ]
  },
  {
   "cell_type": "code",
   "execution_count": 35,
   "id": "28a7e968",
   "metadata": {},
   "outputs": [],
   "source": [
    "def add_and_mul(a,b):\n",
    "    return a + b\n",
    "    return a * b"
   ]
  },
  {
   "cell_type": "code",
   "execution_count": 37,
   "id": "b7049ff7",
   "metadata": {},
   "outputs": [
    {
     "name": "stdout",
     "output_type": "stream",
     "text": [
      "5\n"
     ]
    }
   ],
   "source": [
    "# 함수는 return을 만나는 순간 함수 실행이 종료됨\n",
    "\n",
    "\n",
    "result = add_and_mul(2,3)\n",
    "print(result)"
   ]
  },
  {
   "cell_type": "markdown",
   "id": "5f1e0e36",
   "metadata": {},
   "source": [
    "### return\n",
    "\n",
    "- 함수를 종료시키고 싶을 때 사용할 수도 있음\n"
   ]
  },
  {
   "cell_type": "code",
   "execution_count": 38,
   "id": "d8f269f4",
   "metadata": {},
   "outputs": [],
   "source": [
    "def say_nick(nick):\n",
    "    if nick == \"바보\":\n",
    "        return\n",
    "    print(f\"나의 별명은 {nick} 입니다\")"
   ]
  },
  {
   "cell_type": "code",
   "execution_count": 42,
   "id": "4f87980d",
   "metadata": {},
   "outputs": [
    {
     "name": "stdout",
     "output_type": "stream",
     "text": [
      "나의 별명은 멍청이 입니다\n"
     ]
    }
   ],
   "source": [
    "say_nick(\"멍청이\")"
   ]
  },
  {
   "cell_type": "code",
   "execution_count": 43,
   "id": "54e9fc43",
   "metadata": {},
   "outputs": [],
   "source": [
    "say_nick(\"바보\")"
   ]
  },
  {
   "cell_type": "markdown",
   "id": "ef8874e2",
   "metadata": {},
   "source": [
    "# 디폴트 매개변수\n",
    "\n",
    "- 매개변수로 전달되는 인수가 없는 경우에 기본적으로 사용하는 값"
   ]
  },
  {
   "cell_type": "code",
   "execution_count": 97,
   "id": "820440e6",
   "metadata": {},
   "outputs": [],
   "source": [
    "def say_myself(name, old, man = True):\n",
    "    print(f\"나의 이름은 {name}입니다\")\n",
    "    print(f\"나이는 {old} 살입니다\")\n",
    "    \n",
    "    if man:\n",
    "        print(\"남자입니다\")\n",
    "    else:\n",
    "        print(\"여자입니다\")"
   ]
  },
  {
   "cell_type": "code",
   "execution_count": 46,
   "id": "4db2f41f",
   "metadata": {},
   "outputs": [
    {
     "name": "stdout",
     "output_type": "stream",
     "text": [
      "나의 이름은 파이썬입니다\n",
      "나이는 27 살입니다\n",
      "남자입니다\n"
     ]
    }
   ],
   "source": [
    "say_myself(\"파이썬\",27)"
   ]
  },
  {
   "cell_type": "code",
   "execution_count": 48,
   "id": "a976c3ca",
   "metadata": {},
   "outputs": [
    {
     "name": "stdout",
     "output_type": "stream",
     "text": [
      "나의 이름은 파이썬입니다\n",
      "나이는 27 살입니다\n",
      "남자입니다\n"
     ]
    }
   ],
   "source": [
    "say_myself(\"파이썬\",27, True)"
   ]
  },
  {
   "cell_type": "code",
   "execution_count": 49,
   "id": "594c0ebf",
   "metadata": {},
   "outputs": [
    {
     "name": "stdout",
     "output_type": "stream",
     "text": [
      "나의 이름은 파이썬입니다\n",
      "나이는 27 살입니다\n",
      "여자입니다\n"
     ]
    }
   ],
   "source": [
    "say_myself(\"파이썬\", 27, False)"
   ]
  },
  {
   "cell_type": "code",
   "execution_count": 52,
   "id": "3a660eb6",
   "metadata": {},
   "outputs": [],
   "source": [
    "def print_n_times(value, n = 2):\n",
    "    for _ in range(n):\n",
    "        print(value)"
   ]
  },
  {
   "cell_type": "code",
   "execution_count": 53,
   "id": "2464040e",
   "metadata": {},
   "outputs": [
    {
     "name": "stdout",
     "output_type": "stream",
     "text": [
      "안녕하세요\n",
      "안녕하세요\n"
     ]
    }
   ],
   "source": [
    "print_n_times(\"안녕하세요\")"
   ]
  },
  {
   "cell_type": "markdown",
   "id": "2a122ec9",
   "metadata": {},
   "source": [
    "## 디폴트 매개변수의 위치 "
   ]
  },
  {
   "cell_type": "code",
   "execution_count": 56,
   "id": "2260adc6",
   "metadata": {},
   "outputs": [
    {
     "ename": "SyntaxError",
     "evalue": "non-default argument follows default argument (1622474856.py, line 3)",
     "output_type": "error",
     "traceback": [
      "\u001b[1;36m  Cell \u001b[1;32mIn[56], line 3\u001b[1;36m\u001b[0m\n\u001b[1;33m    def say_myself(name, old, man = True, old):\u001b[0m\n\u001b[1;37m                                          ^\u001b[0m\n\u001b[1;31mSyntaxError\u001b[0m\u001b[1;31m:\u001b[0m non-default argument follows default argument\n"
     ]
    }
   ],
   "source": [
    "# 파이썬은 인수를 어디에 대입해야 할 지 알 수 없음. 기본변수 뒤에 매개변수X\n",
    "\n",
    "def say_myself(name, old, man = True, old):\n",
    "    print(f\"나의 이름은 {name}입니다\")\n",
    "    print(f\"나이는 {old} 살입니다\")\n",
    "    \n",
    "    if man:\n",
    "        print(\"남자입니다\")\n",
    "    else:\n",
    "        print(\"여자입니다\")"
   ]
  },
  {
   "cell_type": "markdown",
   "id": "a1d6f785",
   "metadata": {},
   "source": [
    "# 지역변수와 전역변수\n",
    "\n",
    "- 지역변수\n",
    "    - 함수 내부에서 선언한 변수는 함수 내부에서만 사용할 수 있는 변수가 됨\n",
    "    - 함수 외부에서는 지역변수 접근할 수 없음\n",
    "    \n",
    "- 전역변수\n",
    "     - 함수 외부에서 선언한 변수는 함수 내부에서도 사용 가능\n",
    "     \n",
    "    "
   ]
  },
  {
   "cell_type": "code",
   "execution_count": 61,
   "id": "d8f1e3d0",
   "metadata": {},
   "outputs": [],
   "source": [
    "def vartest():\n",
    "    d = 10\n",
    "    print(d)"
   ]
  },
  {
   "cell_type": "code",
   "execution_count": 62,
   "id": "30d42860",
   "metadata": {},
   "outputs": [
    {
     "name": "stdout",
     "output_type": "stream",
     "text": [
      "10\n"
     ]
    }
   ],
   "source": [
    "vartest()"
   ]
  },
  {
   "cell_type": "code",
   "execution_count": 65,
   "id": "11670f85",
   "metadata": {},
   "outputs": [
    {
     "ename": "NameError",
     "evalue": "name 'd' is not defined",
     "output_type": "error",
     "traceback": [
      "\u001b[1;31m---------------------------------------------------------------------------\u001b[0m",
      "\u001b[1;31mNameError\u001b[0m                                 Traceback (most recent call last)",
      "Cell \u001b[1;32mIn[65], line 1\u001b[0m\n\u001b[1;32m----> 1\u001b[0m \u001b[38;5;28mprint\u001b[39m(d)\n",
      "\u001b[1;31mNameError\u001b[0m: name 'd' is not defined"
     ]
    }
   ],
   "source": [
    "print(d)"
   ]
  },
  {
   "cell_type": "code",
   "execution_count": 66,
   "id": "9886a3e6",
   "metadata": {},
   "outputs": [],
   "source": [
    "e=10\n",
    "\n",
    "def etest():\n",
    "    print(e)"
   ]
  },
  {
   "cell_type": "code",
   "execution_count": 67,
   "id": "be290e3a",
   "metadata": {},
   "outputs": [
    {
     "name": "stdout",
     "output_type": "stream",
     "text": [
      "10\n"
     ]
    }
   ],
   "source": [
    "etest()"
   ]
  },
  {
   "cell_type": "code",
   "execution_count": 68,
   "id": "2ca84bbe",
   "metadata": {},
   "outputs": [
    {
     "name": "stdout",
     "output_type": "stream",
     "text": [
      "10\n"
     ]
    }
   ],
   "source": [
    "print(e)"
   ]
  },
  {
   "cell_type": "markdown",
   "id": "1ce5d1a2",
   "metadata": {},
   "source": [
    "### 전역변수를 함수 내부에서 사용하는 2가지 경우\n",
    "\n",
    "- 단순 참조\n",
    "- 전역변수의 값을 변경하고 싶은 경우"
   ]
  },
  {
   "cell_type": "code",
   "execution_count": 69,
   "id": "2ba32393",
   "metadata": {},
   "outputs": [],
   "source": [
    "a = 0\n",
    "\n",
    "def f():\n",
    "    a = 10\n",
    "    print(a)"
   ]
  },
  {
   "cell_type": "code",
   "execution_count": 70,
   "id": "ee88ecfc",
   "metadata": {},
   "outputs": [
    {
     "name": "stdout",
     "output_type": "stream",
     "text": [
      "10\n"
     ]
    }
   ],
   "source": [
    "f()"
   ]
  },
  {
   "cell_type": "code",
   "execution_count": 73,
   "id": "2045a0f2",
   "metadata": {},
   "outputs": [
    {
     "name": "stdout",
     "output_type": "stream",
     "text": [
      "0\n"
     ]
    }
   ],
   "source": [
    "print(a)  #함수밖에서 사용한 a가 우선"
   ]
  },
  {
   "cell_type": "code",
   "execution_count": 74,
   "id": "e4e9e833",
   "metadata": {},
   "outputs": [],
   "source": [
    "def f():\n",
    "    global a # 전역변수 a 사용\n",
    "    a = 10\n",
    "    print(a)"
   ]
  },
  {
   "cell_type": "code",
   "execution_count": 75,
   "id": "7a21a7f6",
   "metadata": {},
   "outputs": [
    {
     "name": "stdout",
     "output_type": "stream",
     "text": [
      "10\n"
     ]
    }
   ],
   "source": [
    "f()"
   ]
  },
  {
   "cell_type": "code",
   "execution_count": 77,
   "id": "17deac87",
   "metadata": {},
   "outputs": [
    {
     "name": "stdout",
     "output_type": "stream",
     "text": [
      "10\n"
     ]
    }
   ],
   "source": [
    "print(a)"
   ]
  },
  {
   "cell_type": "markdown",
   "id": "0f9cd6ab",
   "metadata": {},
   "source": [
    "# 가변 매개변수(여러 개의 입력값을 받는 함수)\n",
    "\n",
    "- 함수로 전달해야하는 인수의 개수가 정해지지 않은 매개변수\n",
    "- 함수 정의시 매개변수 앞에 * 를 붙이면 가변 매개변수가 됨\n",
    "- 전달되는 인수는 하나의 튜플 형태로 전달\n",
    "\n",
    "- 가변 매개변후의 제약\n",
    "    - 가변 매개변수 뒤에는 일반 매개변수가 올 수 없음\n",
    "    - 가변 매개변수는 하나만 사용할 수 있음\n",
    "    "
   ]
  },
  {
   "cell_type": "code",
   "execution_count": 78,
   "id": "38c617a1",
   "metadata": {},
   "outputs": [],
   "source": [
    "def show(*args):\n",
    "    print(args)"
   ]
  },
  {
   "cell_type": "code",
   "execution_count": 79,
   "id": "d5d7eed7",
   "metadata": {},
   "outputs": [
    {
     "name": "stdout",
     "output_type": "stream",
     "text": [
      "('Python',)\n"
     ]
    }
   ],
   "source": [
    "show(\"Python\")"
   ]
  },
  {
   "cell_type": "code",
   "execution_count": 80,
   "id": "20e0aa9d",
   "metadata": {},
   "outputs": [
    {
     "name": "stdout",
     "output_type": "stream",
     "text": [
      "('happy', 'birthday')\n"
     ]
    }
   ],
   "source": [
    "show(\"happy\", \"birthday\")"
   ]
  },
  {
   "cell_type": "code",
   "execution_count": 82,
   "id": "bd7879ef",
   "metadata": {},
   "outputs": [
    {
     "name": "stdout",
     "output_type": "stream",
     "text": [
      "('Hi', 2, 3)\n"
     ]
    }
   ],
   "source": [
    "show(\"Hi\", 2, 3)"
   ]
  },
  {
   "cell_type": "code",
   "execution_count": 94,
   "id": "b0541f34",
   "metadata": {},
   "outputs": [],
   "source": [
    "def add_many(*args):\n",
    "    result = 0\n",
    "    \n",
    "    for i in args:\n",
    "        result += i\n",
    "        \n",
    "    return result"
   ]
  },
  {
   "cell_type": "code",
   "execution_count": 95,
   "id": "d9d615fb",
   "metadata": {},
   "outputs": [
    {
     "name": "stdout",
     "output_type": "stream",
     "text": [
      "6\n"
     ]
    }
   ],
   "source": [
    "result = add_many(1, 2, 3)\n",
    "print(result)"
   ]
  },
  {
   "cell_type": "code",
   "execution_count": 96,
   "id": "6ad6193e",
   "metadata": {},
   "outputs": [
    {
     "name": "stdout",
     "output_type": "stream",
     "text": [
      "55\n"
     ]
    }
   ],
   "source": [
    "result = add_many(1,2,3,4,5,6,7,8,9,10)\n",
    "print(result)"
   ]
  },
  {
   "cell_type": "code",
   "execution_count": 91,
   "id": "be9a415d",
   "metadata": {},
   "outputs": [],
   "source": [
    "def add_mul(choice, *args):\n",
    "    if choice == \"add\":\n",
    "        result = 0\n",
    "        for i in args:\n",
    "            result = result + i\n",
    "            \n",
    "    elif choice == \"mul\":\n",
    "        result = 1\n",
    "        for i in args:\n",
    "            result = result * i\n",
    "            \n",
    "    return result\n",
    "            "
   ]
  },
  {
   "cell_type": "code",
   "execution_count": 92,
   "id": "77849ffa",
   "metadata": {},
   "outputs": [
    {
     "name": "stdout",
     "output_type": "stream",
     "text": [
      "15\n"
     ]
    }
   ],
   "source": [
    "result = add_mul(\"add\", 1,2,3,4,5)\n",
    "print(result)"
   ]
  },
  {
   "cell_type": "code",
   "execution_count": 93,
   "id": "5411deb4",
   "metadata": {},
   "outputs": [
    {
     "name": "stdout",
     "output_type": "stream",
     "text": [
      "120\n"
     ]
    }
   ],
   "source": [
    "result = add_mul(\"mul\", 1,2,3,4,5)\n",
    "print(result)"
   ]
  },
  {
   "cell_type": "markdown",
   "id": "9f576d93",
   "metadata": {},
   "source": [
    "# 함수 매개변수 순서\n",
    "\n",
    "1. 일반 매개변수\n",
    "2. 디폴트 매개변수\n",
    "3. 가변 매개변수\n",
    "4. 키워드 매개변수\n"
   ]
  },
  {
   "cell_type": "markdown",
   "id": "672d9847",
   "metadata": {},
   "source": [
    "# 키워드 매개변수\n"
   ]
  },
  {
   "cell_type": "code",
   "execution_count": 101,
   "id": "7a42aaab",
   "metadata": {},
   "outputs": [],
   "source": [
    "def print_kwargs(**kwargs):  # ** 는 키워드 매개변수\n",
    "    print(kwargs)"
   ]
  },
  {
   "cell_type": "code",
   "execution_count": 102,
   "id": "7245bc28",
   "metadata": {},
   "outputs": [
    {
     "name": "stdout",
     "output_type": "stream",
     "text": [
      "{'a': 1}\n"
     ]
    }
   ],
   "source": [
    "print_kwargs(a = 1)"
   ]
  },
  {
   "cell_type": "code",
   "execution_count": 103,
   "id": "fe06b19e",
   "metadata": {},
   "outputs": [
    {
     "name": "stdout",
     "output_type": "stream",
     "text": [
      "{'name': 'foo', 'age': 3}\n"
     ]
    }
   ],
   "source": [
    "print_kwargs(name = \"foo\", age = 3)"
   ]
  },
  {
   "cell_type": "code",
   "execution_count": null,
   "id": "c12fd5ff",
   "metadata": {},
   "outputs": [],
   "source": []
  },
  {
   "cell_type": "code",
   "execution_count": null,
   "id": "c3ef06a1",
   "metadata": {},
   "outputs": [],
   "source": []
  },
  {
   "cell_type": "code",
   "execution_count": null,
   "id": "64c21394",
   "metadata": {},
   "outputs": [],
   "source": []
  },
  {
   "cell_type": "code",
   "execution_count": null,
   "id": "f1ff5ca2",
   "metadata": {},
   "outputs": [],
   "source": [
    "\n",
    "# 다음과 같은 데이터를 출력하는 파이썬 프로그램을 제어문으로 작성하시오\n",
    "\n",
    " \n",
    "\n",
    " \n",
    "*\n",
    "***\n",
    "*****\n",
    "***\n",
    "*"
   ]
  },
  {
   "cell_type": "code",
   "execution_count": 25,
   "id": "21b3c4f4",
   "metadata": {},
   "outputs": [
    {
     "name": "stdout",
     "output_type": "stream",
     "text": [
      "*\n",
      "***\n",
      "*****\n",
      "***\n",
      "*\n"
     ]
    }
   ],
   "source": [
    "print(\"*\" * 1)\n",
    "print(\"*\" * 3)\n",
    "print(\"*\" * 5)\n",
    "print(\"*\" * 3)\n",
    "print(\"*\" * 1)"
   ]
  },
  {
   "cell_type": "code",
   "execution_count": 32,
   "id": "6689f2c3",
   "metadata": {},
   "outputs": [
    {
     "name": "stdout",
     "output_type": "stream",
     "text": [
      "*\n",
      "***\n",
      "*****\n"
     ]
    }
   ],
   "source": [
    "for i in range(1,6):\n",
    "    \n",
    "     if i % 2 ==1:\n",
    "        print(i * \"*\")\n"
   ]
  },
  {
   "cell_type": "markdown",
   "id": "5cbfedb6",
   "metadata": {},
   "source": [
    "\t\n",
    "아래에 주어진 numbers와 output을 활용하여 output이\n",
    "\n",
    "[[1, 4, 7], [2, 5, 8], [3, 6, 9]]\n",
    "\n",
    "로 구성되도록 파이썬 제어문으로 코드를 작성하시오\n",
    "\n",
    " \n",
    "\n",
    "numbers = [1, 2, 3, 4, 5, 6, 7, 8, 9]\n",
    "\n",
    "output = [[], [], []]"
   ]
  },
  {
   "cell_type": "code",
   "execution_count": 86,
   "id": "bda90042",
   "metadata": {},
   "outputs": [
    {
     "name": "stdout",
     "output_type": "stream",
     "text": [
      "[[1, 4, 7], [2, 5, 8], [3, 6, 9]]\n"
     ]
    }
   ],
   "source": [
    "numbers = [1, 2, 3, 4, 5, 6, 7, 8, 9]\n",
    "\n",
    "result = []\n",
    "\n",
    "for a in numbers[0:10:3]:\n",
    "   result.append(a)\n",
    "   \n",
    "\n",
    "result1 = []\n",
    "for b in numbers[1:10:3]:\n",
    "   result1.append(b)\n",
    "   \n",
    "result2 = []\n",
    "for c in numbers[2:10:3]:\n",
    "   result2.append(c)\n",
    "   \n",
    "d = [result, result1, result2]\n",
    "\n",
    "print(d)"
   ]
  },
  {
   "cell_type": "code",
   "execution_count": 87,
   "id": "afa0d882",
   "metadata": {},
   "outputs": [],
   "source": [
    "numbers = [1, 2, 3, 4, 5, 6, 7, 8, 9]\n",
    "output = [[],[],[]]\n",
    "\n",
    "for i in numbers:\n",
    "    for j in range(3):\n",
    "        if i % 3 == j:\n",
    "            output[j - 1].append(i)"
   ]
  },
  {
   "cell_type": "code",
   "execution_count": null,
   "id": "a2a83803",
   "metadata": {},
   "outputs": [],
   "source": []
  },
  {
   "cell_type": "code",
   "execution_count": null,
   "id": "79857189",
   "metadata": {},
   "outputs": [],
   "source": []
  },
  {
   "cell_type": "code",
   "execution_count": null,
   "id": "aee2bad1",
   "metadata": {},
   "outputs": [],
   "source": []
  },
  {
   "cell_type": "code",
   "execution_count": null,
   "id": "01d30b31",
   "metadata": {},
   "outputs": [],
   "source": []
  },
  {
   "cell_type": "code",
   "execution_count": null,
   "id": "535addc7",
   "metadata": {},
   "outputs": [],
   "source": []
  },
  {
   "cell_type": "code",
   "execution_count": null,
   "id": "734c4950",
   "metadata": {},
   "outputs": [],
   "source": []
  },
  {
   "cell_type": "code",
   "execution_count": null,
   "id": "35a23b19",
   "metadata": {},
   "outputs": [],
   "source": []
  },
  {
   "cell_type": "code",
   "execution_count": null,
   "id": "679754ca",
   "metadata": {},
   "outputs": [],
   "source": []
  },
  {
   "cell_type": "code",
   "execution_count": null,
   "id": "c69817fa",
   "metadata": {},
   "outputs": [],
   "source": []
  },
  {
   "cell_type": "code",
   "execution_count": null,
   "id": "016a8ab7",
   "metadata": {},
   "outputs": [],
   "source": []
  }
 ],
 "metadata": {
  "kernelspec": {
   "display_name": "Python 3 (ipykernel)",
   "language": "python",
   "name": "python3"
  },
  "language_info": {
   "codemirror_mode": {
    "name": "ipython",
    "version": 3
   },
   "file_extension": ".py",
   "mimetype": "text/x-python",
   "name": "python",
   "nbconvert_exporter": "python",
   "pygments_lexer": "ipython3",
   "version": "3.11.5"
  }
 },
 "nbformat": 4,
 "nbformat_minor": 5
}
