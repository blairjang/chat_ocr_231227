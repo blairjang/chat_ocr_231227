{
 "cells": [
  {
   "cell_type": "code",
   "execution_count": 30,
   "id": "5afb4df7",
   "metadata": {},
   "outputs": [
    {
     "name": "stdout",
     "output_type": "stream",
     "text": [
      "166833\n"
     ]
    }
   ],
   "source": [
    "# 1. 1부터 1000까지의 자연수 중 3배수의 합 구하기\n",
    "# 166833\n",
    "\n",
    "result = [num for num in range(1, 1000) if num % 3 == 0]\n",
    "\n",
    "result\n",
    "\n",
    "tot = 0\n",
    "for n in result:\n",
    "    tot += n\n",
    "    \n",
    "print(tot)"
   ]
  },
  {
   "cell_type": "code",
   "execution_count": 46,
   "id": "646fc86e",
   "metadata": {},
   "outputs": [
    {
     "name": "stdout",
     "output_type": "stream",
     "text": [
      "166833\n"
     ]
    }
   ],
   "source": [
    "result = 0\n",
    "\n",
    "for i in range(1,1001):\n",
    "    if i % 3 == 0:\n",
    "        result += i\n",
    "        \n",
    "print(result)"
   ]
  },
  {
   "cell_type": "code",
   "execution_count": 47,
   "id": "4a2060e2",
   "metadata": {},
   "outputs": [
    {
     "name": "stdout",
     "output_type": "stream",
     "text": [
      "166833\n"
     ]
    }
   ],
   "source": [
    "result = 0\n",
    "\n",
    "for i in range(3, 1001, 3):\n",
    "    result += i\n",
    "    \n",
    "print(result)"
   ]
  },
  {
   "cell_type": "code",
   "execution_count": 48,
   "id": "8a2f5f36",
   "metadata": {},
   "outputs": [],
   "source": [
    "# 2. 계단식으로 별 출력하기(첫 줄에는 *1개, 두번째 줄에는 *2개, ... 다섯번째 *5개)\n",
    "\n",
    "# *\n",
    "# **\n",
    "# ***\n",
    "# ****\n",
    "# *****"
   ]
  },
  {
   "cell_type": "code",
   "execution_count": 86,
   "id": "21762356",
   "metadata": {},
   "outputs": [
    {
     "name": "stdout",
     "output_type": "stream",
     "text": [
      "*\n",
      "**\n",
      "***\n",
      "****\n",
      "*****\n"
     ]
    }
   ],
   "source": [
    "s = \"*\"\n",
    "\n",
    "for n in range(1,6):\n",
    "\n",
    "    print(s * n)\n",
    "\n",
    "\n",
    "# s * 1\n",
    "# s * 2"
   ]
  },
  {
   "cell_type": "code",
   "execution_count": 93,
   "id": "afd80adf",
   "metadata": {},
   "outputs": [
    {
     "name": "stdout",
     "output_type": "stream",
     "text": [
      "*\n",
      "**\n",
      "***\n",
      "****\n",
      "*****\n",
      "*\n",
      "**\n",
      "***\n",
      "****\n",
      "*****\n"
     ]
    }
   ],
   "source": [
    "## 2-2\n",
    "\n",
    "print(\"*\" *1)\n",
    "print(\"*\" *2)\n",
    "print(\"*\" *3)\n",
    "print(\"*\" *4)\n",
    "print(\"*\" *5)\n",
    "\n",
    "for i in range(1,6):\n",
    "    print(\"*\" * i)"
   ]
  },
  {
   "cell_type": "code",
   "execution_count": 94,
   "id": "e57ed087",
   "metadata": {},
   "outputs": [
    {
     "name": "stdout",
     "output_type": "stream",
     "text": [
      "*\n",
      "**\n",
      "***\n",
      "****\n",
      "*****\n"
     ]
    }
   ],
   "source": [
    "## 2-3\n",
    "\n",
    "star = \"\"\n",
    "\n",
    "for _ in range(5):\n",
    "    star += \"*\"\n",
    "    print(star)"
   ]
  },
  {
   "cell_type": "code",
   "execution_count": 123,
   "id": "21a91480",
   "metadata": {},
   "outputs": [
    {
     "name": "stdout",
     "output_type": "stream",
     "text": [
      "*\n",
      "**\n",
      "***\n",
      "****\n",
      "*****\n"
     ]
    }
   ],
   "source": [
    "## 2-1\n",
    "\n",
    "for i in range(1,6):  # 줄에 대한 연산\n",
    "    for j in range(1,6):  # 열에 대한 연산\n",
    "        if j <= i:\n",
    "            print(\"*\", end = \"\")\n",
    "\n",
    "    print() # 각 줄에 대한 연산이 끝난 후 줄바꿈"
   ]
  },
  {
   "cell_type": "code",
   "execution_count": 131,
   "id": "d8a2a561",
   "metadata": {},
   "outputs": [
    {
     "name": "stdout",
     "output_type": "stream",
     "text": [
      "[2, 6, 10, 14, 18]\n"
     ]
    }
   ],
   "source": [
    "# 3. 1부터 10까지의 자연수 중 홀수만 2를 곱해서 리스트로 저장하기\n",
    "\n",
    "result = [num * 2 for num in range(1,10) if num % 2 == 1]\n",
    "\n",
    "print(result)"
   ]
  },
  {
   "cell_type": "code",
   "execution_count": 132,
   "id": "9b6be9aa",
   "metadata": {},
   "outputs": [
    {
     "name": "stdout",
     "output_type": "stream",
     "text": [
      "[2, 6, 10, 14, 18]\n"
     ]
    }
   ],
   "source": [
    "result=[]\n",
    "\n",
    "for i in range(1,11):  # 1부터 10까지 자연수 만들기\n",
    "    if i % 2 ==1: # 홀수인지 검사\n",
    "        result.append(i * 2)\n",
    "print(result)"
   ]
  },
  {
   "cell_type": "code",
   "execution_count": 134,
   "id": "1427e76e",
   "metadata": {},
   "outputs": [
    {
     "data": {
      "text/plain": [
       "[2, 6, 10, 14, 18]"
      ]
     },
     "execution_count": 134,
     "metadata": {},
     "output_type": "execute_result"
    }
   ],
   "source": [
    "# 위 코드를 리스트 내포로 구현\n",
    "[i*2 for i in range(1,11) if i % 2 == 1]"
   ]
  },
  {
   "cell_type": "code",
   "execution_count": 133,
   "id": "adcae1f1",
   "metadata": {},
   "outputs": [
    {
     "name": "stdout",
     "output_type": "stream",
     "text": [
      "[2, 6, 10, 14, 18]\n"
     ]
    }
   ],
   "source": [
    "result = []\n",
    "for i in range(1,11,2):  # 1부터 10까지의 홀수\n",
    "    result.append(i * 2)\n",
    "    \n",
    "print(result)"
   ]
  },
  {
   "cell_type": "code",
   "execution_count": 135,
   "id": "5c849275",
   "metadata": {},
   "outputs": [
    {
     "data": {
      "text/plain": [
       "[2, 6, 10, 14, 18]"
      ]
     },
     "execution_count": 135,
     "metadata": {},
     "output_type": "execute_result"
    }
   ],
   "source": [
    "# 위 코드를 리스트 내포로 구현\n",
    "[i * 2 for i in range(1,11,2)]"
   ]
  },
  {
   "cell_type": "code",
   "execution_count": 28,
   "id": "aec10e31",
   "metadata": {},
   "outputs": [],
   "source": [
    "# 4.화폐매수 구하기\n",
    "\n",
    "a = 156780 #원 => 50000*3, 10000*0, 5000*1 ...\n",
    "b = [50000, 10000, 5000, 1000, 500, 100, 50, 10]\n",
    "\n",
    "b1 = a // b[0]\n",
    "b2 = (a - (b1 * b[0])) // b[1]\n",
    "b3 = (a - (b1 * b[0])) // b[2]\n",
    "b4 = (a - (b1 * b[0])-(b3 * b[2])) // b[3]\n",
    "b5 = (a - (b1 * b[0])-(b3 * b[2])-(b4 * b[3])) // b[4]\n",
    "b6 = (a - (b1 * b[0])-(b3 * b[2])-(b4 * b[3])-(b5 * b[4])) // b[5]\n",
    "b7 = (a - (b1 * b[0])-(b3 * b[2])-(b4 * b[3])-(b5 * b[4])-(b6 * b[5])) // b[6]\n",
    "b8 = (a - (b1 * b[0])-(b3 * b[2])-(b4 * b[3])-(b5 * b[4])-(b6 * b[5])- (b7 * b[6])) // b[7]\n"
   ]
  },
  {
   "cell_type": "code",
   "execution_count": 30,
   "id": "517b4bee",
   "metadata": {
    "scrolled": true
   },
   "outputs": [
    {
     "name": "stdout",
     "output_type": "stream",
     "text": [
      "3\n",
      "0\n",
      "1\n",
      "1\n",
      "1\n",
      "2\n",
      "1\n",
      "3\n"
     ]
    }
   ],
   "source": [
    "print(b1)\n",
    "print(b2)\n",
    "print(b3)\n",
    "print(b4)\n",
    "print(b5)\n",
    "print(b6)\n",
    "print(b7)\n",
    "print(b8)"
   ]
  },
  {
   "cell_type": "code",
   "execution_count": 53,
   "id": "2a7d6183",
   "metadata": {},
   "outputs": [
    {
     "name": "stdout",
     "output_type": "stream",
     "text": [
      "50000 - 3\n",
      "10000 - 0\n",
      "5000 - 1\n",
      "1000 - 1\n",
      "500 - 1\n",
      "100 - 2\n",
      "50 - 1\n",
      "10 - 3\n"
     ]
    }
   ],
   "source": [
    "B = a\n",
    "for i in b:\n",
    "    A = B // i\n",
    "    B = a % i\n",
    "    \n",
    "    print(f\"{i} - {A}\")"
   ]
  },
  {
   "cell_type": "code",
   "execution_count": 67,
   "id": "a1387253",
   "metadata": {},
   "outputs": [
    {
     "name": "stdout",
     "output_type": "stream",
     "text": [
      "50000 - 3\n",
      "10000 - 0\n",
      "5000 - 1\n",
      "1000 - 1\n",
      "500 - 1\n",
      "100 - 2\n",
      "50 - 1\n",
      "10 - 3\n"
     ]
    }
   ],
   "source": [
    "a = 156780 #원 => 50000*3, 10000*0, 5000*1 ...\n",
    "b = [50000, 10000, 5000, 1000, 500, 100, 50, 10]\n",
    "\n",
    "for i in b:\n",
    "    n = a // i  # n은 몫\n",
    "    a -= (n * i)\n",
    "    print(f\"{i} - {n}\")"
   ]
  },
  {
   "cell_type": "code",
   "execution_count": 140,
   "id": "ee78a5e0",
   "metadata": {},
   "outputs": [],
   "source": [
    "# 5. name과 data를 각각 리스트에 담기\n",
    "\n",
    "q5 = [{\"name\" : \"y1\", \"data\" : \"123\"}, {\"name\" : \"y2\", \"data\" : \"234\"}]\n",
    "\n",
    "name = []\n",
    "data = []"
   ]
  },
  {
   "cell_type": "code",
   "execution_count": 141,
   "id": "e8435617",
   "metadata": {},
   "outputs": [
    {
     "name": "stdout",
     "output_type": "stream",
     "text": [
      "y1\n",
      "y2\n",
      "123\n",
      "234\n"
     ]
    }
   ],
   "source": [
    "print(q5[0][\"name\"])\n",
    "print(q5[1][\"name\"])\n",
    "print(q5[0][\"data\"])\n",
    "print(q5[1][\"data\"])"
   ]
  },
  {
   "cell_type": "code",
   "execution_count": 229,
   "id": "3d069d15",
   "metadata": {},
   "outputs": [
    {
     "data": {
      "text/plain": [
       "['y1', 'y2']"
      ]
     },
     "execution_count": 229,
     "metadata": {},
     "output_type": "execute_result"
    }
   ],
   "source": [
    "q5 = [{\"name\" : \"y1\", \"data\" : \"123\"}, {\"name\" : \"y2\", \"data\" : \"234\"}]\n",
    "\n",
    "name = []\n",
    "data = []\n",
    "\n",
    "for i in q5:\n",
    "    name.append(i[\"name\"])\n",
    "    data.append(i[\"data\"])\n",
    "    \n",
    "name"
   ]
  },
  {
   "cell_type": "code",
   "execution_count": 176,
   "id": "69bd2ba0",
   "metadata": {},
   "outputs": [
    {
     "name": "stdout",
     "output_type": "stream",
     "text": [
      "y1 123\n",
      "y2 234\n"
     ]
    }
   ],
   "source": [
    "for i in range(len(name)):\n",
    "    print(name[i], data[i])"
   ]
  },
  {
   "cell_type": "code",
   "execution_count": 178,
   "id": "590854d5",
   "metadata": {},
   "outputs": [
    {
     "name": "stdout",
     "output_type": "stream",
     "text": [
      "y1 123\n",
      "y2 234\n"
     ]
    }
   ],
   "source": [
    "for i in zip(name, data): \n",
    "    print(i[0], i[1])"
   ]
  },
  {
   "cell_type": "code",
   "execution_count": 182,
   "id": "5f5dd798",
   "metadata": {},
   "outputs": [
    {
     "name": "stdout",
     "output_type": "stream",
     "text": [
      "y1 123\n",
      "y2 234\n"
     ]
    }
   ],
   "source": [
    "for i in q5:\n",
    "    print(i[\"name\"], i[\"data\"])"
   ]
  },
  {
   "cell_type": "code",
   "execution_count": 263,
   "id": "baa9cab2",
   "metadata": {},
   "outputs": [],
   "source": [
    "# 6. id, name, age 를 각각 리스트에 담고 각각의 요소들을 짝지어 출력하기\n",
    "\n",
    "q6 = {\"ret\":{\"id\":\"a386\",\"name\":\"123\",\"age\":34},\"ret1\":{\"id\":\"a383\",\"name\":\"123\",\"age\":36}}\n",
    "\n",
    "id_list = []\n",
    "name = []\n",
    "age = []"
   ]
  },
  {
   "cell_type": "code",
   "execution_count": 264,
   "id": "7f87db21",
   "metadata": {},
   "outputs": [
    {
     "name": "stdout",
     "output_type": "stream",
     "text": [
      "<class 'dict'>\n"
     ]
    }
   ],
   "source": [
    "print(type(q6))"
   ]
  },
  {
   "cell_type": "code",
   "execution_count": 265,
   "id": "f0279241",
   "metadata": {},
   "outputs": [
    {
     "name": "stdout",
     "output_type": "stream",
     "text": [
      "a386\n",
      "123\n",
      "34\n",
      "a383\n",
      "123\n",
      "36\n"
     ]
    }
   ],
   "source": [
    "print(q6[\"ret\"][\"id\"])\n",
    "print(q6[\"ret\"][\"name\"])\n",
    "print(q6[\"ret\"][\"age\"])\n",
    "\n",
    "print(q6[\"ret1\"][\"id\"])\n",
    "print(q6[\"ret1\"][\"name\"])\n",
    "print(q6[\"ret1\"][\"age\"])"
   ]
  },
  {
   "cell_type": "code",
   "execution_count": 266,
   "id": "483d5889",
   "metadata": {},
   "outputs": [
    {
     "name": "stdout",
     "output_type": "stream",
     "text": [
      "['a386', 'a383']\n",
      "['123', '123']\n",
      "[34, 36]\n"
     ]
    }
   ],
   "source": [
    "for i in q6:\n",
    "    id_list.append(q6[i][\"id\"])\n",
    "    name.append(q6[i][\"name\"])\n",
    "    age.append(q6[i][\"age\"])\n",
    "    \n",
    "    \n",
    "print(id_list)\n",
    "print(name)\n",
    "print(age)                                  "
   ]
  },
  {
   "cell_type": "code",
   "execution_count": null,
   "id": "d538fdcf",
   "metadata": {},
   "outputs": [],
   "source": []
  },
  {
   "cell_type": "code",
   "execution_count": 267,
   "id": "d34184fa",
   "metadata": {},
   "outputs": [
    {
     "name": "stdout",
     "output_type": "stream",
     "text": [
      "a386\n",
      "123\n",
      "34\n",
      "a386 123 34\n",
      "a383\n",
      "123\n",
      "36\n",
      "a383 123 36\n"
     ]
    }
   ],
   "source": [
    "Q = q6[\"ret\"]\n",
    "print(Q[\"id\"])\n",
    "print(Q[\"name\"])\n",
    "print(Q[\"age\"])\n",
    "\n",
    "print(Q[\"id\"], Q[\"name\"], Q[\"age\"])\n",
    "\n",
    "Q1 = q6[\"ret1\"]\n",
    "print(Q1[\"id\"])\n",
    "print(Q1[\"name\"])\n",
    "print(Q1[\"age\"])\n",
    "\n",
    "print(Q1[\"id\"], Q1[\"name\"], Q1[\"age\"])"
   ]
  },
  {
   "cell_type": "code",
   "execution_count": 269,
   "id": "a516eb77",
   "metadata": {},
   "outputs": [],
   "source": [
    "# 7. id, name, age를 각각 리스트에 담고 각각의 요소들을 짝지어 출력하기\n",
    "\n",
    "q7 = {\"ret\":[{\"id\":\"a2001\",\"name\":\"123\",\"age\":34},\n",
    "             {\"id\":\"a2002\",\"name\":\"123\",\"age\":54},\n",
    "             {\"id\":\"a2003\",\"name\":\"123\",\"age\":36},\n",
    "             {\"id\":\"a2004\",\"name\":\"123\",\"age\":38}],\n",
    "      \"ret1\":[{\"id\":\"a2005\",\"name\":\"123\",\"age\":17},\n",
    "              {\"id\":\"a2006\",\"name\":\"123\",\"age\":52},\n",
    "             {\"id\":\"a2007\",\"name\":\"123\",\"age\":33}]}\n",
    "\n",
    "id_list = []\n",
    "name = []\n",
    "age = []"
   ]
  },
  {
   "cell_type": "code",
   "execution_count": 304,
   "id": "6e9b2bf7",
   "metadata": {},
   "outputs": [
    {
     "name": "stdout",
     "output_type": "stream",
     "text": [
      "{'id': 'a2001', 'name': '123', 'age': 34}\n",
      "{'id': 'a2002', 'name': '123', 'age': 54}\n",
      "{'id': 'a2003', 'name': '123', 'age': 36}\n",
      "{'id': 'a2004', 'name': '123', 'age': 38}\n",
      "{'id': 'a2005', 'name': '123', 'age': 17}\n",
      "{'id': 'a2006', 'name': '123', 'age': 52}\n",
      "{'id': 'a2007', 'name': '123', 'age': 33}\n",
      "['a2001', 'a2002', 'a2003', 'a2004', 'a2005', 'a2006', 'a2007', 'a2001', 'a2002', 'a2003', 'a2004', 'a2005', 'a2006', 'a2007']\n",
      "['123', '123', '123', '123', '123', '123', '123', '123', '123', '123', '123', '123', '123', '123']\n",
      "[34, 54, 36, 38, 17, 52, 33, 34, 54, 36, 38, 17, 52, 33]\n"
     ]
    }
   ],
   "source": [
    "for i in q7:\n",
    "    for item in q7[i]:\n",
    "        print(item)\n",
    "        id_list.append(item[\"id\"])\n",
    "        name.append(item[\"name\"])\n",
    "        age.append(item[\"age\"])\n",
    "        \n",
    "print(id_list)\n",
    "print(name)\n",
    "print(age)"
   ]
  },
  {
   "cell_type": "code",
   "execution_count": 305,
   "id": "93df315f",
   "metadata": {},
   "outputs": [
    {
     "name": "stdout",
     "output_type": "stream",
     "text": [
      "a2001 123 34\n",
      "a2002 123 54\n",
      "a2003 123 36\n",
      "a2004 123 38\n",
      "a2005 123 17\n",
      "a2006 123 52\n",
      "a2007 123 33\n",
      "a2001 123 34\n",
      "a2002 123 54\n",
      "a2003 123 36\n",
      "a2004 123 38\n",
      "a2005 123 17\n",
      "a2006 123 52\n",
      "a2007 123 33\n"
     ]
    }
   ],
   "source": [
    "for i in range(len(id_list)):\n",
    "    print(id_list[i], name[i], age[i])"
   ]
  },
  {
   "cell_type": "code",
   "execution_count": 43,
   "id": "84bde695",
   "metadata": {},
   "outputs": [],
   "source": [
    "# 8. name, species, likes, dislikes 를 각각 리스트에 담고 각각의 요소들을 짝지어 출력\n",
    "\n",
    "q8 = [{\"name\":\"AAA\",\"species\":\"cat\",\"foods\":{\"likes\":[\"tuna\",\"catnip\"],\"dislikes\":[\"ham\",\"zucchini\"]}},\n",
    "      {\"name\":\"BBB\",\"species\":\"dog\",\"foods\":{\"likes\":[\"bones\",\"carrots\"],\"dislikes\":[\"tuna\"]}},\n",
    "      {\"name\":\"CCC\",\"species\":\"cat\",\"foods\":{\"likes\":[\"mice\"],\"dislikes\":[\"cookies\"]}}]\n",
    "\n",
    "name = []\n",
    "species = []\n",
    "likes = []\n",
    "dislikes = []"
   ]
  },
  {
   "cell_type": "code",
   "execution_count": 55,
   "id": "7c6c8ccf",
   "metadata": {
    "scrolled": true
   },
   "outputs": [
    {
     "name": "stdout",
     "output_type": "stream",
     "text": [
      "{'name': 'AAA', 'species': 'cat', 'foods': {'likes': ['tuna', 'catnip'], 'dislikes': ['ham', 'zucchini']}}\n",
      "{'name': 'BBB', 'species': 'dog', 'foods': {'likes': ['bones', 'carrots'], 'dislikes': ['tuna']}}\n",
      "{'name': 'CCC', 'species': 'cat', 'foods': {'likes': ['mice'], 'dislikes': ['cookies']}}\n"
     ]
    }
   ],
   "source": [
    "for j in q8:\n",
    "    print(j)\n",
    "    name.append(j[\"name\"])\n",
    "    species.append(j[\"species\"])\n",
    "    likes.append(j[\"foods\"][\"likes\"])\n",
    "    dislikes.append(j[\"foods\"][\"dislikes\"])"
   ]
  },
  {
   "cell_type": "code",
   "execution_count": 56,
   "id": "20f08536",
   "metadata": {},
   "outputs": [
    {
     "name": "stdout",
     "output_type": "stream",
     "text": [
      "['AAA', 'BBB', 'CCC']\n",
      "['cat', 'dog', 'cat']\n",
      "[['tuna', 'catnip'], ['bones', 'carrots'], ['mice']]\n",
      "[['ham', 'zucchini'], ['tuna'], ['cookies']]\n"
     ]
    }
   ],
   "source": [
    "print(name)\n",
    "print(species)\n",
    "print(likes)\n",
    "print(dislikes)"
   ]
  },
  {
   "cell_type": "code",
   "execution_count": 57,
   "id": "78289f3e",
   "metadata": {},
   "outputs": [
    {
     "name": "stdout",
     "output_type": "stream",
     "text": [
      "AAA cat ['tuna', 'catnip'] ['ham', 'zucchini']\n",
      "BBB dog ['bones', 'carrots'] ['tuna']\n",
      "CCC cat ['mice'] ['cookies']\n"
     ]
    }
   ],
   "source": [
    "for i in range(len(name)):\n",
    "    print(name[i], species[i], likes[i], dislikes[i])"
   ]
  },
  {
   "cell_type": "code",
   "execution_count": 95,
   "id": "023034f9",
   "metadata": {},
   "outputs": [
    {
     "name": "stdout",
     "output_type": "stream",
     "text": [
      "dict_keys(['ret', 'data'])\n"
     ]
    }
   ],
   "source": [
    "# 9. id, name, age를 각각 리스트에 담고 각각의 요소들을 짝지어 출력하기\n",
    "\n",
    "q9 = {\"ret\":\"y\",\"data\":[{\"id\":\"id1\",\"name\":\"가나다1\",\"age\":31},\n",
    "                        {\"id\":\"id2\",\"name\":\"가나다2\",\"age\":32},\n",
    "                        {\"id\":\"id3\",\"name\":\"가나다3\",\"age\":33},\n",
    "                        {\"id\":\"id4\",\"name\":\"가나다4\",\"age\":34},\n",
    "                        {\"id\":\"id5\",\"name\":\"가나다5\",\"age\":35}]\n",
    "     }\n",
    "\n",
    "\n",
    "id_list = []\n",
    "name = []\n",
    "age= []\n",
    "\n",
    "print(q9.keys())"
   ]
  },
  {
   "cell_type": "code",
   "execution_count": 96,
   "id": "1f373fce",
   "metadata": {},
   "outputs": [
    {
     "data": {
      "text/plain": [
       "('id1', 'id2', 'id3', 'id4')"
      ]
     },
     "execution_count": 96,
     "metadata": {},
     "output_type": "execute_result"
    }
   ],
   "source": [
    "q9[\"data\"][0][\"id\"],q9[\"data\"][1][\"id\"],q9[\"data\"][2][\"id\"],q9[\"data\"][3][\"id\"]"
   ]
  },
  {
   "cell_type": "code",
   "execution_count": 97,
   "id": "d65b6bf2",
   "metadata": {},
   "outputs": [
    {
     "data": {
      "text/plain": [
       "('가나다1', '가나다2', '가나다3', '가나다4')"
      ]
     },
     "execution_count": 97,
     "metadata": {},
     "output_type": "execute_result"
    }
   ],
   "source": [
    "q9[\"data\"][0][\"name\"],q9[\"data\"][1][\"name\"],q9[\"data\"][2][\"name\"],q9[\"data\"][3][\"name\"]"
   ]
  },
  {
   "cell_type": "code",
   "execution_count": 98,
   "id": "9c111bc4",
   "metadata": {},
   "outputs": [
    {
     "data": {
      "text/plain": [
       "(31, 32, 33, 34)"
      ]
     },
     "execution_count": 98,
     "metadata": {},
     "output_type": "execute_result"
    }
   ],
   "source": [
    "q9[\"data\"][0][\"age\"],q9[\"data\"][1][\"age\"],q9[\"data\"][2][\"age\"],q9[\"data\"][3][\"age\"]"
   ]
  },
  {
   "cell_type": "code",
   "execution_count": 99,
   "id": "4c2a9fa8",
   "metadata": {},
   "outputs": [
    {
     "name": "stdout",
     "output_type": "stream",
     "text": [
      "['id1', 'id2', 'id3', 'id4', 'id5']\n",
      "['가나다1', '가나다2', '가나다3', '가나다4', '가나다5']\n",
      "[31, 32, 33, 34, 35]\n"
     ]
    }
   ],
   "source": [
    "for i in q9[\"data\"]:\n",
    "    id_list.append(i[\"id\"])\n",
    "    name.append(i[\"name\"])\n",
    "    age.append(i[\"age\"])\n",
    "    \n",
    "    \n",
    "print(id_list)\n",
    "print(name)\n",
    "print(age)\n",
    "\n",
    "\n",
    "# 바뀌는 것이 data의 인덱스 숫자만 바뀜 =>  for은 하나만 쓰면됨"
   ]
  },
  {
   "cell_type": "code",
   "execution_count": 100,
   "id": "71f8484c",
   "metadata": {},
   "outputs": [
    {
     "name": "stdout",
     "output_type": "stream",
     "text": [
      "id1 가나다1 31\n",
      "id2 가나다2 32\n",
      "id3 가나다3 33\n",
      "id4 가나다4 34\n",
      "id5 가나다5 35\n"
     ]
    }
   ],
   "source": [
    "for i in range(len(id_list)):\n",
    "    print(id_list[i], name[i], age[i])"
   ]
  },
  {
   "cell_type": "code",
   "execution_count": 160,
   "id": "f9243057",
   "metadata": {},
   "outputs": [],
   "source": [
    "#10. id, name, age, math, eng, kor,(math, eng, kor)합계를 각각 리스트에 담고\n",
    "# 각각의 요소를 짝지어 출력하기\n",
    "\n",
    "q10 = {\"ret\":\"y\",\"data\":[{\"id\":\"id1\",\"name\":\"가나다1\",\"age\":31,\"score\":{\"math\":50,\"eng\":90,\"kor\":69}},\n",
    "                         {\"id\":\"id2\",\"name\":\"가나다2\",\"age\":32,\"score\":{\"math\":90,\"eng\":68,\"kor\":80}},\n",
    "                         {\"id\":\"id3\",\"name\":\"가나다3\",\"age\":33,\"score\":{\"math\":70,\"eng\":76,\"kor\":60}},\n",
    "                         {\"id\":\"id4\",\"name\":\"가나다4\",\"age\":34,\"score\":{\"math\":80,\"eng\":79,\"kor\":50}},\n",
    "                         {\"id\":\"id5\",\"name\":\"가나다5\",\"age\":35,\"score\":{\"math\":80,\"eng\":78,\"kor\":90}}]\n",
    "      }\n",
    "\n",
    "\n",
    "id_list = []\n",
    "name = []\n",
    "age = []\n",
    "math = []\n",
    "eng = []\n",
    "kor = []\n",
    "total = []\n"
   ]
  },
  {
   "cell_type": "code",
   "execution_count": 161,
   "id": "54a05f05",
   "metadata": {
    "scrolled": true
   },
   "outputs": [],
   "source": [
    "for i in q10[\"data\"]:\n",
    "   \n",
    "    id_list.append(i[\"id\"])\n",
    "    name.append(i[\"name\"])\n",
    "    age.append(i[\"age\"])\n",
    "    math.append(i[\"score\"][\"math\"])\n",
    "    eng.append(i[\"score\"][\"eng\"])\n",
    "    kor.append(i[\"score\"][\"kor\"])\n",
    "    total.append(i[\"score\"][\"math\"]+i[\"score\"][\"eng\"]+i[\"score\"][\"kor\"])\n"
   ]
  },
  {
   "cell_type": "code",
   "execution_count": 162,
   "id": "a86b8707",
   "metadata": {},
   "outputs": [
    {
     "name": "stdout",
     "output_type": "stream",
     "text": [
      "['id1', 'id2', 'id3', 'id4', 'id5']\n",
      "['가나다1', '가나다2', '가나다3', '가나다4', '가나다5']\n",
      "[31, 32, 33, 34, 35]\n",
      "[50, 90, 70, 80, 80]\n",
      "[90, 68, 76, 79, 78]\n",
      "[69, 80, 60, 50, 90]\n",
      "[209, 238, 206, 209, 248]\n"
     ]
    }
   ],
   "source": [
    "print(id_list)\n",
    "print(name)\n",
    "print(age)\n",
    "print(math)\n",
    "print(eng)\n",
    "print(kor)\n",
    "print(total)\n"
   ]
  },
  {
   "cell_type": "code",
   "execution_count": 163,
   "id": "0f77abf6",
   "metadata": {},
   "outputs": [
    {
     "name": "stdout",
     "output_type": "stream",
     "text": [
      "id1 가나다1 31 50 90 69 209\n",
      "id2 가나다2 32 90 68 80 238\n",
      "id3 가나다3 33 70 76 60 206\n",
      "id4 가나다4 34 80 79 50 209\n",
      "id5 가나다5 35 80 78 90 248\n"
     ]
    }
   ],
   "source": [
    "for j in range(len(id_list)):\n",
    "    print(id_list[j], name[j], age[j], math[j], eng[j], kor[j], total[j])"
   ]
  },
  {
   "cell_type": "code",
   "execution_count": 164,
   "id": "45a126a4",
   "metadata": {},
   "outputs": [
    {
     "name": "stdout",
     "output_type": "stream",
     "text": [
      "[50, 90, 70, 80, 80, 50]\n",
      "[90, 68, 76, 79, 78, 90]\n",
      "[69, 80, 60, 50, 90, 69]\n",
      "[209, 238, 206, 209, 248, 209]\n",
      "[50, 90, 70, 80, 80, 50, 90]\n",
      "[90, 68, 76, 79, 78, 90, 68]\n",
      "[69, 80, 60, 50, 90, 69, 80]\n",
      "[209, 238, 206, 209, 248, 209, 238]\n",
      "[50, 90, 70, 80, 80, 50, 90, 70]\n",
      "[90, 68, 76, 79, 78, 90, 68, 76]\n",
      "[69, 80, 60, 50, 90, 69, 80, 60]\n",
      "[209, 238, 206, 209, 248, 209, 238, 206]\n",
      "[50, 90, 70, 80, 80, 50, 90, 70, 80]\n",
      "[90, 68, 76, 79, 78, 90, 68, 76, 79]\n",
      "[69, 80, 60, 50, 90, 69, 80, 60, 50]\n",
      "[209, 238, 206, 209, 248, 209, 238, 206, 209]\n",
      "[50, 90, 70, 80, 80, 50, 90, 70, 80, 80]\n",
      "[90, 68, 76, 79, 78, 90, 68, 76, 79, 78]\n",
      "[69, 80, 60, 50, 90, 69, 80, 60, 50, 90]\n",
      "[209, 238, 206, 209, 248, 209, 238, 206, 209, 248]\n",
      "id1 가나다1 31 50 90 69 209\n",
      "id2 가나다2 32 90 68 80 238\n",
      "id3 가나다3 33 70 76 60 206\n",
      "id4 가나다4 34 80 79 50 209\n",
      "id5 가나다5 35 80 78 90 248\n",
      "id1 가나다1 31 50 90 69 209\n",
      "id2 가나다2 32 90 68 80 238\n",
      "id3 가나다3 33 70 76 60 206\n",
      "id4 가나다4 34 80 79 50 209\n",
      "id5 가나다5 35 80 78 90 248\n"
     ]
    }
   ],
   "source": [
    "for i in q10[\"data\"]:\n",
    "   \n",
    "    id_list.append(i[\"id\"])\n",
    "    name.append(i[\"name\"])\n",
    "    age.append(i[\"age\"])\n",
    "    math.append(i[\"score\"][\"math\"])\n",
    "    eng.append(i[\"score\"][\"eng\"])\n",
    "    kor.append(i[\"score\"][\"kor\"])\n",
    "    total.append(math[-1] + eng[-1] + kor[-1])\n",
    "    print(math)\n",
    "    print(eng)\n",
    "    print(kor)\n",
    "    print(total)\n",
    "    \n",
    "for i in range(len(id_list)):\n",
    "    print(id_list[i], name[i], age[i], math[i], eng[i], kor[i], total[i])"
   ]
  },
  {
   "cell_type": "code",
   "execution_count": 172,
   "id": "340836cf",
   "metadata": {},
   "outputs": [],
   "source": [
    "# 11. 영화 제목만 추출된 리스트 생성하기\n",
    "\n",
    "q11 = {\"boxOfficeResult\":{\"boxofficeType\":\"일별 박스오피스\",\"showRange\":\"20120101~20120101\",\"dailyBoxOfficeList\":[{\"rnum\":\"1\",\"rank\":\"1\",\"rankInten\":\"0\",\"rankOldAndNew\":\"OLD\",\"movieCd\":\"20112207\",\"movieNm\":\"미션임파서블:고스트프로토콜\",\"openDt\":\"2011-12-15\",\"salesAmt\":\"2776060500\",\"salesShare\":\"36.3\",\"salesInten\":\"-415699000\",\"salesChange\":\"-13\",\"salesAcc\":\"40541108500\",\"audiCnt\":\"353274\",\"audiInten\":\"-60106\",\"audiChange\":\"-14.5\",\"audiAcc\":\"5328435\",\"scrnCnt\":\"697\",\"showCnt\":\"3223\"},\n",
    "                                                                                                           {\"rnum\":\"2\",\"rank\":\"2\",\"rankInten\":\"1\",\"rankOldAndNew\":\"OLD\",\"movieCd\":\"20110295\",\"movieNm\":\"마이 웨이\",\"openDt\":\"2011-12-21\",\"salesAmt\":\"1189058500\",\"salesShare\":\"15.6\",\"salesInten\":\"-105894500\",\"salesChange\":\"-8.2\",\"salesAcc\":\"13002897500\",\"audiCnt\":\"153501\",\"audiInten\":\"-16465\",\"audiChange\":\"-9.7\",\"audiAcc\":\"1739543\",\"scrnCnt\":\"588\",\"showCnt\":\"2321\"},\n",
    "                                                                                                           {\"rnum\":\"3\",\"rank\":\"3\",\"rankInten\":\"-1\",\"rankOldAndNew\":\"OLD\",\"movieCd\":\"20112621\",\"movieNm\":\"셜록홈즈 : 그림자 게임\",\"openDt\":\"2011-12-21\",\"salesAmt\":\"1176022500\",\"salesShare\":\"15.4\",\"salesInten\":\"-210328500\",\"salesChange\":\"-15.2\",\"salesAcc\":\"10678327500\",\"audiCnt\":\"153004\",\"audiInten\":\"-31283\",\"audiChange\":\"-17\",\"audiAcc\":\"1442861\",\"scrnCnt\":\"360\",\"showCnt\":\"1832\"},\n",
    "                                                                                                           {\"rnum\":\"4\",\"rank\":\"4\",\"rankInten\":\"0\",\"rankOldAndNew\":\"OLD\",\"movieCd\":\"20113260\",\"movieNm\":\"퍼펙트 게임\",\"openDt\":\"2011-12-21\",\"salesAmt\":\"644532000\",\"salesShare\":\"8.4\",\"salesInten\":\"-75116500\",\"salesChange\":\"-10.4\",\"salesAcc\":\"6640940000\",\"audiCnt\":\"83644\",\"audiInten\":\"-12225\",\"audiChange\":\"-12.8\",\"audiAcc\":\"895416\",\"scrnCnt\":\"396\",\"showCnt\":\"1364\"},\n",
    "                                                                                                           {\"rnum\":\"5\",\"rank\":\"5\",\"rankInten\":\"0\",\"rankOldAndNew\":\"OLD\",\"movieCd\":\"20113271\",\"movieNm\":\"프렌즈: 몬스터섬의비밀 \",\"openDt\":\"2011-12-29\",\"salesAmt\":\"436753500\",\"salesShare\":\"5.7\",\"salesInten\":\"-89051000\",\"salesChange\":\"-16.9\",\"salesAcc\":\"1523037000\",\"audiCnt\":\"55092\",\"audiInten\":\"-15568\",\"audiChange\":\"-22\",\"audiAcc\":\"202909\",\"scrnCnt\":\"290\",\"showCnt\":\"838\"},\n",
    "                                                                                                           {\"rnum\":\"6\",\"rank\":\"6\",\"rankInten\":\"1\",\"rankOldAndNew\":\"OLD\",\"movieCd\":\"19940256\",\"movieNm\":\"라이온 킹\",\"openDt\":\"1994-07-02\",\"salesAmt\":\"507115500\",\"salesShare\":\"6.6\",\"salesInten\":\"-114593500\",\"salesChange\":\"-18.4\",\"salesAcc\":\"1841625000\",\"audiCnt\":\"45750\",\"audiInten\":\"-11699\",\"audiChange\":\"-20.4\",\"audiAcc\":\"171285\",\"scrnCnt\":\"244\",\"showCnt\":\"895\"},\n",
    "                                                                                                           {\"rnum\":\"7\",\"rank\":\"7\",\"rankInten\":\"-1\",\"rankOldAndNew\":\"OLD\",\"movieCd\":\"20113381\",\"movieNm\":\"오싹한 연애\",\"openDt\":\"2011-12-01\",\"salesAmt\":\"344871000\",\"salesShare\":\"4.5\",\"salesInten\":\"-107005500\",\"salesChange\":\"-23.7\",\"salesAcc\":\"20634684500\",\"audiCnt\":\"45062\",\"audiInten\":\"-15926\",\"audiChange\":\"-26.1\",\"audiAcc\":\"2823060\",\"scrnCnt\":\"243\",\"showCnt\":\"839\"},\n",
    "                                                                                                           {\"rnum\":\"8\",\"rank\":\"8\",\"rankInten\":\"0\",\"rankOldAndNew\":\"OLD\",\"movieCd\":\"20112709\",\"movieNm\":\"극장판 포켓몬스터 베스트 위시「비크티니와 백의 영웅 레시라무」\",\"openDt\":\"2011-12-22\",\"salesAmt\":\"167809500\",\"salesShare\":\"2.2\",\"salesInten\":\"-45900500\",\"salesChange\":\"-21.5\",\"salesAcc\":\"1897120000\",\"audiCnt\":\"24202\",\"audiInten\":\"-7756\",\"audiChange\":\"-24.3\",\"audiAcc\":\"285959\",\"scrnCnt\":\"186\",\"showCnt\":\"348\"},\n",
    "                                                                                                           {\"rnum\":\"9\",\"rank\":\"9\",\"rankInten\":\"0\",\"rankOldAndNew\":\"OLD\",\"movieCd\":\"20113311\",\"movieNm\":\"앨빈과 슈퍼밴드3\",\"openDt\":\"2011-12-15\",\"salesAmt\":\"137030000\",\"salesShare\":\"1.8\",\"salesInten\":\"-35408000\",\"salesChange\":\"-20.5\",\"salesAcc\":\"3416675000\",\"audiCnt\":\"19729\",\"audiInten\":\"-6461\",\"audiChange\":\"-24.7\",\"audiAcc\":\"516289\",\"scrnCnt\":\"169\",\"showCnt\":\"359\"},\n",
    "                                                                                                           {\"rnum\":\"10\",\"rank\":\"10\",\"rankInten\":\"0\",\"rankOldAndNew\":\"OLD\",\"movieCd\":\"20112708\",\"movieNm\":\"극장판 포켓몬스터 베스트 위시 「비크티니와 흑의 영웅 제크로무」\",\"openDt\":\"2011-12-22\",\"salesAmt\":\"125535500\",\"salesShare\":\"1.6\",\"salesInten\":\"-40756000\",\"salesChange\":\"-24.5\",\"salesAcc\":\"1595695000\",\"audiCnt\":\"17817\",\"audiInten\":\"-6554\",\"audiChange\":\"-26.9\",\"audiAcc\":\"235070\",\"scrnCnt\":\"175\",\"showCnt\":\"291\"}]}\n",
    "      }"
   ]
  },
  {
   "cell_type": "code",
   "execution_count": 178,
   "id": "14c49220",
   "metadata": {},
   "outputs": [
    {
     "name": "stdout",
     "output_type": "stream",
     "text": [
      "미션임파서블:고스트프로토콜\n",
      "마이 웨이\n",
      "셜록홈즈 : 그림자 게임\n",
      "퍼펙트 게임\n",
      "프렌즈: 몬스터섬의비밀 \n",
      "라이온 킹\n",
      "오싹한 연애\n",
      "극장판 포켓몬스터 베스트 위시「비크티니와 백의 영웅 레시라무」\n",
      "앨빈과 슈퍼밴드3\n",
      "극장판 포켓몬스터 베스트 위시 「비크티니와 흑의 영웅 제크로무」\n"
     ]
    }
   ],
   "source": [
    "for i in q11[\"boxOfficeResult\"][\"dailyBoxOfficeList\"]:\n",
    "    print(i[\"movieNm\"])"
   ]
  },
  {
   "cell_type": "code",
   "execution_count": 180,
   "id": "9ec08973",
   "metadata": {},
   "outputs": [
    {
     "data": {
      "text/plain": [
       "['미션임파서블:고스트프로토콜',\n",
       " '마이 웨이',\n",
       " '셜록홈즈 : 그림자 게임',\n",
       " '퍼펙트 게임',\n",
       " '프렌즈: 몬스터섬의비밀 ',\n",
       " '라이온 킹',\n",
       " '오싹한 연애',\n",
       " '극장판 포켓몬스터 베스트 위시「비크티니와 백의 영웅 레시라무」',\n",
       " '앨빈과 슈퍼밴드3',\n",
       " '극장판 포켓몬스터 베스트 위시 「비크티니와 흑의 영웅 제크로무」']"
      ]
     },
     "execution_count": 180,
     "metadata": {},
     "output_type": "execute_result"
    }
   ],
   "source": [
    "title = [i[\"movieNm\"] for i in q11[\"boxOfficeResult\"][\"dailyBoxOfficeList\"]]\n",
    "\n",
    "title"
   ]
  },
  {
   "cell_type": "code",
   "execution_count": 326,
   "id": "f6849896",
   "metadata": {},
   "outputs": [],
   "source": [
    "# 12. 두 리스트를 조합해 하나의 딕셔너리를 만들기\n",
    "\n",
    "key_list = [\"name\", \"hp\", \"mp\", \"level\"]\n",
    "value_list = [\"기사\", 200, 30, 5]\n",
    "character = dic()"
   ]
  },
  {
   "cell_type": "code",
   "execution_count": 327,
   "id": "fd7e8ece",
   "metadata": {
    "scrolled": true
   },
   "outputs": [
    {
     "name": "stdout",
     "output_type": "stream",
     "text": [
      "name : 기사\n",
      "hp : 200\n",
      "mp : 30\n",
      "level : 5\n",
      "<class 'tuple'>\n"
     ]
    }
   ],
   "source": [
    "a = key_list\n",
    "b = value_list\n",
    "\n",
    "print(f\"{a[0]} : {b[0]}\")\n",
    "print(f\"{a[1]} : {b[1]}\")\n",
    "print(f\"{a[2]} : {b[2]}\")\n",
    "print(f\"{a[3]} : {b[3]}\")\n",
    "\n",
    "c = (f\"{a[0]} : {b[0]}\",f\"{a[1]} : {b[1]}\",f\"{a[2]} : {b[2]}\",f\"{a[3]} : {b[3]}\")\n",
    "\n",
    "print(type(c))"
   ]
  },
  {
   "cell_type": "code",
   "execution_count": 342,
   "id": "844c502b",
   "metadata": {
    "scrolled": true
   },
   "outputs": [
    {
     "name": "stdout",
     "output_type": "stream",
     "text": [
      "0\n",
      "1\n",
      "2\n",
      "3\n",
      "{'name': '기사', 'hp': 200, 'mp': 30, 'level': 5}\n"
     ]
    }
   ],
   "source": [
    "key_list = [\"name\", \"hp\", \"mp\", \"level\"]\n",
    "value_list = [\"기사\", 200, 30, 5]\n",
    "\n",
    "character = dict()\n",
    "\n",
    "# character[key_list[0]]= value_list[0]\n",
    "# character[key_list[1]] = value_list[1]\n",
    "# character[key_list[2]] = value_list[2]\n",
    "# character[key_list[3]] = value_list[3]\n",
    "\n",
    "# character\n",
    "\n",
    "for i in range(4):  # for i in range(len(key_list)):\n",
    "    print(i)\n",
    "    character[key_list[i]]= value_list[i]\n",
    "    \n",
    "print(character)"
   ]
  },
  {
   "cell_type": "code",
   "execution_count": 366,
   "id": "939e23b0",
   "metadata": {},
   "outputs": [
    {
     "data": {
      "text/plain": [
       "{1: 5, 2: 6, 3: 7, 4: 8}"
      ]
     },
     "execution_count": 366,
     "metadata": {},
     "output_type": "execute_result"
    }
   ],
   "source": [
    "A = [1,2,3,4]\n",
    "B = [5,6,7,8]\n",
    "\n",
    "item = dict()\n",
    "\n",
    "item[1] = 5\n",
    "item[2] = 6\n",
    "item[3] = 7\n",
    "item[4] = 8\n",
    "\n",
    "item"
   ]
  },
  {
   "cell_type": "code",
   "execution_count": 367,
   "id": "22fed61d",
   "metadata": {},
   "outputs": [
    {
     "data": {
      "text/plain": [
       "{1: 5, 2: 6, 3: 7, 4: 8}"
      ]
     },
     "execution_count": 367,
     "metadata": {},
     "output_type": "execute_result"
    }
   ],
   "source": [
    "item[A[0]] = B[0]\n",
    "item[A[1]] = B[1]\n",
    "item[A[2]] = B[2]\n",
    "item[A[3]] = B[3]\n",
    "\n",
    "item"
   ]
  },
  {
   "cell_type": "code",
   "execution_count": 372,
   "id": "08f2da25",
   "metadata": {},
   "outputs": [
    {
     "name": "stdout",
     "output_type": "stream",
     "text": [
      "0\n",
      "1\n",
      "2\n",
      "3\n",
      "{2: 6, 3: 7, 4: 8, 1: 5}\n"
     ]
    }
   ],
   "source": [
    "for i in range(len(A)):\n",
    "    print(i)\n",
    "    item[A[i]] = B[i]\n",
    "    \n",
    "print(item)"
   ]
  },
  {
   "cell_type": "code",
   "execution_count": 369,
   "id": "22de29f6",
   "metadata": {},
   "outputs": [],
   "source": [
    "del item[1]"
   ]
  },
  {
   "cell_type": "code",
   "execution_count": 371,
   "id": "02b6008a",
   "metadata": {},
   "outputs": [
    {
     "data": {
      "text/plain": [
       "{2: 6, 3: 7, 4: 8}"
      ]
     },
     "execution_count": 371,
     "metadata": {},
     "output_type": "execute_result"
    }
   ],
   "source": [
    "item"
   ]
  },
  {
   "cell_type": "code",
   "execution_count": 393,
   "id": "c7426572",
   "metadata": {},
   "outputs": [
    {
     "data": {
      "text/plain": [
       "[1, 1, 1, 2, 2, 2, 2, 3, 3, 3, 4, 4, 4, 5, 5, 6, 7, 7, 8, 8, 9, 9, 9]"
      ]
     },
     "execution_count": 393,
     "metadata": {},
     "output_type": "execute_result"
    }
   ],
   "source": [
    "# 13. 리스트의 각 숫자가 몇 번 등장하는지 출력하는 코드 작성하기\n",
    "\n",
    "numbers = [1, 2, 6, 8, 4, 3, 2, 1, 9, 5, 4, 9, 7, 2, 1, 3, 5, 4, 8, 9, 7, 2, 3]\n",
    "counter = dict()\n",
    "\n",
    "numbers.sort()\n",
    "\n",
    "\n",
    "numbers"
   ]
  },
  {
   "cell_type": "code",
   "execution_count": 394,
   "id": "7e277a71",
   "metadata": {},
   "outputs": [
    {
     "data": {
      "text/plain": [
       "{1: 3, 2: 4, 3: 3, 4: 3, 5: 2, 6: 1, 7: 2, 8: 2, 9: 3}"
      ]
     },
     "execution_count": 394,
     "metadata": {},
     "output_type": "execute_result"
    }
   ],
   "source": [
    "\n",
    "\n",
    "counter[1] = numbers.count(1)\n",
    "counter[2] = numbers.count(2)\n",
    "counter[3] = numbers.count(3)\n",
    "counter[4] = numbers.count(4)\n",
    "counter[5] = numbers.count(5)\n",
    "counter[6] = numbers.count(6)\n",
    "counter[7] = numbers.count(7)\n",
    "counter[8] = numbers.count(8)\n",
    "counter[9] = numbers.count(9)\n",
    "\n",
    "counter\n"
   ]
  },
  {
   "cell_type": "code",
   "execution_count": 397,
   "id": "b0c8a4b7",
   "metadata": {
    "scrolled": true
   },
   "outputs": [
    {
     "name": "stdout",
     "output_type": "stream",
     "text": [
      "1\n",
      "2\n",
      "3\n",
      "4\n",
      "5\n",
      "6\n",
      "7\n",
      "8\n",
      "9\n"
     ]
    },
    {
     "data": {
      "text/plain": [
       "{1: 3, 2: 4, 3: 3, 4: 3, 5: 2, 7: 2, 8: 2, 9: 3}"
      ]
     },
     "execution_count": 397,
     "metadata": {},
     "output_type": "execute_result"
    }
   ],
   "source": [
    "numbers = [1, 2, 8, 4, 3, 2, 1, 9, 5, 4, 9, 7, 2, 1, 3, 5, 4, 8, 9, 7, 2, 3]\n",
    "counter = dict()\n",
    "\n",
    "for i in range(1,10):\n",
    "    print(i)\n",
    "    if i not in numbers:\n",
    "        continue\n",
    "        \n",
    "    counter[i] = numbers.count(i)\n",
    "    \n",
    "    \n",
    "counter"
   ]
  },
  {
   "cell_type": "code",
   "execution_count": 405,
   "id": "f35b923d",
   "metadata": {},
   "outputs": [
    {
     "name": "stdout",
     "output_type": "stream",
     "text": [
      "{1: 3, 2: 4, 3: 3, 4: 3, 5: 2, 6: 1, 7: 2, 8: 2, 9: 3}\n"
     ]
    }
   ],
   "source": [
    "numbers = [1, 2, 6, 8, 4, 3, 2, 1, 9, 5, 4, 9, 7, 2, 1, 3, 5, 4, 8, 9, 7, 2, 3]\n",
    "counter = dict()\n",
    "\n",
    "# count() 함수 이용 방식\n",
    "set(numbers)\n",
    "for i in set(numbers):\n",
    "    counter[i] = numbers.count(i)\n",
    "    \n",
    "print(counter)"
   ]
  },
  {
   "cell_type": "code",
   "execution_count": 406,
   "id": "4df6081c",
   "metadata": {},
   "outputs": [
    {
     "name": "stdout",
     "output_type": "stream",
     "text": [
      "{1: 3, 2: 4, 3: 3, 4: 3, 5: 2, 6: 1, 7: 2, 8: 2, 9: 3}\n"
     ]
    }
   ],
   "source": [
    "# 딕셔너리 내포\n",
    "\n",
    "counter = {i : numbers.count(i) for i in set(numbers)}\n",
    "\n",
    "print(counter)"
   ]
  },
  {
   "cell_type": "code",
   "execution_count": 411,
   "id": "54c381c4",
   "metadata": {},
   "outputs": [
    {
     "ename": "KeyError",
     "evalue": "1",
     "output_type": "error",
     "traceback": [
      "\u001b[1;31m---------------------------------------------------------------------------\u001b[0m",
      "\u001b[1;31mKeyError\u001b[0m                                  Traceback (most recent call last)",
      "Cell \u001b[1;32mIn[411], line 10\u001b[0m\n\u001b[0;32m      5\u001b[0m counter \u001b[38;5;241m=\u001b[39m \u001b[38;5;28mdict\u001b[39m()\n\u001b[0;32m      9\u001b[0m \u001b[38;5;28;01mfor\u001b[39;00m num \u001b[38;5;129;01min\u001b[39;00m numbers:\n\u001b[1;32m---> 10\u001b[0m     counter[num] \u001b[38;5;241m=\u001b[39m counter[num] \u001b[38;5;241m+\u001b[39m \u001b[38;5;241m1\u001b[39m\n",
      "\u001b[1;31mKeyError\u001b[0m: 1"
     ]
    }
   ],
   "source": [
    "# 하나하나 뒤로 가면서 1의 개수가 몇개, 2의 개수가 몇개 늘려나가는 방식\n",
    "# 하나하나 세는 방식\n",
    "\n",
    "numbers = [1, 2, 6, 8, 4, 3, 2, 1, 9, 5, 4, 9, 7, 2, 1, 3, 5, 4, 8, 9, 7, 2, 3]\n",
    "counter = dict()\n",
    "\n",
    "\n",
    "\n",
    "for num in numbers:\n",
    "    counter[num] = counter[num] + 1\n",
    "    # 오류가 나는 이유 : dict() 에 생성된 값이 없어서 오류\n",
    "    # counter[1] = counter[1] + 1 ->1이라는 숫자를 세면서 하나하나 찾을때마다 +1"
   ]
  },
  {
   "cell_type": "code",
   "execution_count": 412,
   "id": "2f69bc4b",
   "metadata": {},
   "outputs": [
    {
     "name": "stdout",
     "output_type": "stream",
     "text": [
      "{1: 3, 2: 4, 6: 1, 8: 2, 4: 3, 3: 3, 9: 3, 5: 2, 7: 2}\n"
     ]
    }
   ],
   "source": [
    "for num in numbers:\n",
    "    if num in counter: # 해당 key가 딕셔너리 안에 있다면\n",
    "        counter[num] = counter[num] + 1 # 값 수정\n",
    "        \n",
    "    else:  # 해당 key가 딕셔너리 안에 없다면\n",
    "        counter[num] = 1 # 요소 추가\n",
    "        \n",
    "print(counter)"
   ]
  },
  {
   "cell_type": "code",
   "execution_count": 417,
   "id": "d8e56941",
   "metadata": {},
   "outputs": [
    {
     "name": "stdout",
     "output_type": "stream",
     "text": [
      "{1: 3, 2: 4, 6: 1, 8: 2, 4: 3, 3: 3, 9: 3, 5: 2, 7: 2}\n"
     ]
    }
   ],
   "source": [
    "# 위 코드를 get() 메소드로 개선\n",
    "\n",
    "numbers = [1, 2, 6, 8, 4, 3, 2, 1, 9, 5, 4, 9, 7, 2, 1, 3, 5, 4, 8, 9, 7, 2, 3]\n",
    "counter = dict()\n",
    "\n",
    "for num in numbers:\n",
    "    counter[num] = counter.get(num, 0) +1\n",
    "    \n",
    "print(counter)"
   ]
  },
  {
   "cell_type": "code",
   "execution_count": null,
   "id": "41d7b692",
   "metadata": {},
   "outputs": [],
   "source": []
  },
  {
   "cell_type": "code",
   "execution_count": null,
   "id": "dc190d06",
   "metadata": {},
   "outputs": [],
   "source": []
  },
  {
   "cell_type": "code",
   "execution_count": null,
   "id": "c36e896b",
   "metadata": {},
   "outputs": [],
   "source": []
  },
  {
   "cell_type": "code",
   "execution_count": null,
   "id": "de9b4bb9",
   "metadata": {},
   "outputs": [],
   "source": []
  },
  {
   "cell_type": "code",
   "execution_count": null,
   "id": "f7d266fe",
   "metadata": {},
   "outputs": [],
   "source": []
  }
 ],
 "metadata": {
  "kernelspec": {
   "display_name": "Python 3 (ipykernel)",
   "language": "python",
   "name": "python3"
  },
  "language_info": {
   "codemirror_mode": {
    "name": "ipython",
    "version": 3
   },
   "file_extension": ".py",
   "mimetype": "text/x-python",
   "name": "python",
   "nbconvert_exporter": "python",
   "pygments_lexer": "ipython3",
   "version": "3.11.5"
  }
 },
 "nbformat": 4,
 "nbformat_minor": 5
}
