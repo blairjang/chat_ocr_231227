{
 "cells": [
  {
   "cell_type": "markdown",
   "id": "fc08c994",
   "metadata": {},
   "source": [
    "# 조건문\n",
    "\n",
    "- 특정 조건을 만족하는지 여부에 따라 실행하는 코드가 달라야 할 때 사용"
   ]
  },
  {
   "cell_type": "code",
   "execution_count": 1,
   "id": "ff3976df",
   "metadata": {},
   "outputs": [
    {
     "name": "stdout",
     "output_type": "stream",
     "text": [
      "True입니다\n"
     ]
    }
   ],
   "source": [
    "if True:\n",
    "    print(\"True입니다\")\n",
    "    \n",
    "# if 조건식 -> (조건식을 실행할 부분은 tab) 실행문(조건식의 결과가 True일 때)"
   ]
  },
  {
   "cell_type": "code",
   "execution_count": 4,
   "id": "78b6357b",
   "metadata": {},
   "outputs": [
    {
     "data": {
      "text/plain": [
       "False"
      ]
     },
     "execution_count": 4,
     "metadata": {},
     "output_type": "execute_result"
    }
   ],
   "source": [
    "if False:\n",
    "    print(\"False입니다\")\n",
    "    \n",
    "False"
   ]
  },
  {
   "cell_type": "markdown",
   "id": "e750d6e9",
   "metadata": {},
   "source": [
    "## if-else \n",
    "\n",
    "- 조건식을 만족하는 경우와 만족하지 않는 경우를 구분하여 코드를 작성할 때 사용\n",
    "- 조건문이 두가지로만 구분될 때 if-else 사용하면 비교를 한번만 하기 때문에 if만 사용할 때보다 더 효율적\n",
    "- 조건식 : 참과 거짓을 판단하는 문장"
   ]
  },
  {
   "cell_type": "code",
   "execution_count": 5,
   "id": "f666c711",
   "metadata": {},
   "outputs": [
    {
     "name": "stdout",
     "output_type": "stream",
     "text": [
      "걸어가라\n"
     ]
    }
   ],
   "source": [
    "money = False\n",
    "\n",
    "if money:\n",
    "    print(\"택시를 타고 가라\")\n",
    "    \n",
    "else:\n",
    "    print(\"걸어가라\")\n",
    "    "
   ]
  },
  {
   "cell_type": "code",
   "execution_count": 6,
   "id": "35d2c544",
   "metadata": {},
   "outputs": [
    {
     "name": "stdout",
     "output_type": "stream",
     "text": [
      "False\n",
      "True\n",
      "False\n",
      "True\n"
     ]
    }
   ],
   "source": [
    "# 비교 연산자\n",
    "\n",
    "print(3<2)\n",
    "print(3>2)\n",
    "print(3==2)\n",
    "print(3!=2)"
   ]
  },
  {
   "cell_type": "code",
   "execution_count": 7,
   "id": "0e8421a4",
   "metadata": {},
   "outputs": [
    {
     "name": "stdout",
     "output_type": "stream",
     "text": [
      "걸어 가라\n"
     ]
    }
   ],
   "source": [
    "money = 20000\n",
    "pay = 30000\n",
    "\n",
    "if money >= pay:\n",
    "    print(\"택시를 타라\")\n",
    "    \n",
    "else:\n",
    "    print(\"걸어 가라\")"
   ]
  },
  {
   "cell_type": "markdown",
   "id": "abe625be",
   "metadata": {},
   "source": [
    "- 논리 연산자\n",
    "    - x or y\n",
    "        - x 와 y 둘 중에 하나만 참이어도 참\n",
    "    - x and y\n",
    "        - x 와 y 모두 참이어야 참\n",
    "    - notx\n",
    "        - x가 거짓이면 참"
   ]
  },
  {
   "cell_type": "code",
   "execution_count": 9,
   "id": "6a8846ee",
   "metadata": {},
   "outputs": [
    {
     "name": "stdout",
     "output_type": "stream",
     "text": [
      "택시를 타라\n"
     ]
    }
   ],
   "source": [
    "money = 20000\n",
    "pay = 30000\n",
    "card = True\n",
    "\n",
    "if money >= pay or card: # money >= pay ->False / card -> True => False or True\n",
    "    print(\"택시를 타라\")\n",
    "    \n",
    "else:\n",
    "    print(\"걸어 가라\")"
   ]
  },
  {
   "cell_type": "markdown",
   "id": "b2217fc4",
   "metadata": {},
   "source": [
    "- in, not in\n",
    "    - x in 반복가능한 객체\n",
    "    - x not in 반복불가능한 객체"
   ]
  },
  {
   "cell_type": "code",
   "execution_count": 10,
   "id": "2fcc0ac2",
   "metadata": {},
   "outputs": [
    {
     "name": "stdout",
     "output_type": "stream",
     "text": [
      "True\n"
     ]
    }
   ],
   "source": [
    "print(1 in [1,2,3])"
   ]
  },
  {
   "cell_type": "code",
   "execution_count": 11,
   "id": "73497133",
   "metadata": {},
   "outputs": [
    {
     "name": "stdout",
     "output_type": "stream",
     "text": [
      "False\n"
     ]
    }
   ],
   "source": [
    "print(1 not in [1,2,3])"
   ]
  },
  {
   "cell_type": "code",
   "execution_count": 12,
   "id": "ea9d4501",
   "metadata": {},
   "outputs": [
    {
     "name": "stdout",
     "output_type": "stream",
     "text": [
      "True\n"
     ]
    }
   ],
   "source": [
    "print(\"a\" in (\"a\", \"b\", \"c\"))"
   ]
  },
  {
   "cell_type": "code",
   "execution_count": 13,
   "id": "a49ff58e",
   "metadata": {},
   "outputs": [
    {
     "name": "stdout",
     "output_type": "stream",
     "text": [
      "True\n"
     ]
    }
   ],
   "source": [
    "print(\"j\" not in \"python\")"
   ]
  },
  {
   "cell_type": "code",
   "execution_count": 14,
   "id": "ec9663ae",
   "metadata": {},
   "outputs": [
    {
     "name": "stdout",
     "output_type": "stream",
     "text": [
      "택시 타라\n"
     ]
    }
   ],
   "source": [
    "pocket = [\"cellphone\", \"money\"]\n",
    "\n",
    "if \"money\" in pocket:\n",
    "    print(\"택시 타라\")\n",
    "    \n",
    "else:\n",
    "    print(\"걸어 가라\")"
   ]
  },
  {
   "cell_type": "markdown",
   "id": "feb23b70",
   "metadata": {},
   "source": [
    "## if-elif \n",
    "\n",
    "- 특정 조건에 따라 3가지 이상으로 구분해야 할 때 사용\n",
    "```\n",
    "     if 조건식1:\n",
    "         조건식1 결과가 True 일 때 실행\n",
    "     elif 조건식2:\n",
    "        조건식1 결과가 False, 조건식 2의 결과가 True일 때 실행\n",
    "     elif 조건식3:\n",
    "         조건식1,2 모두 False, 조건식3의 결과가 True일 때 실행\n",
    "     else:\n",
    "         조건식1,2,3 모두 False일 때 실행\n",
    " ```"
   ]
  },
  {
   "cell_type": "code",
   "execution_count": 16,
   "id": "ef6f5655",
   "metadata": {},
   "outputs": [
    {
     "name": "stdout",
     "output_type": "stream",
     "text": [
      "택시를 타라\n"
     ]
    }
   ],
   "source": [
    "pocket = [\"cellphone\"]\n",
    "card = True\n",
    "\n",
    "if \"money\" in pocket:\n",
    "    print(\"택시를 타라\")\n",
    "    \n",
    "elif card:\n",
    "    print(\"택시를 타라\")\n",
    "    \n",
    "else:\n",
    "    print(\"걸어 가라\")"
   ]
  },
  {
   "cell_type": "markdown",
   "id": "4c419dbf",
   "metadata": {},
   "source": [
    "- if 조건문에 불이 아닌 다른 값이 올 때는 자동으로 불로 변환해서 처리함\n",
    "    - 따라서 어떤 값이 True로 변환되고 어떤 값이 False로 변환되는지 파악하고 있어야 함"
   ]
  },
  {
   "cell_type": "code",
   "execution_count": 17,
   "id": "2e02ec7e",
   "metadata": {},
   "outputs": [
    {
     "name": "stdout",
     "output_type": "stream",
     "text": [
      "거짓\n"
     ]
    }
   ],
   "source": [
    "if None:\n",
    "    print(\"참\")\n",
    "    \n",
    "else:\n",
    "    print(\"거짓\")"
   ]
  },
  {
   "cell_type": "code",
   "execution_count": 18,
   "id": "bdaea1b6",
   "metadata": {},
   "outputs": [
    {
     "data": {
      "text/plain": [
       "False"
      ]
     },
     "execution_count": 18,
     "metadata": {},
     "output_type": "execute_result"
    }
   ],
   "source": [
    "bool(None)"
   ]
  },
  {
   "cell_type": "code",
   "execution_count": 19,
   "id": "508afac2",
   "metadata": {},
   "outputs": [
    {
     "name": "stdout",
     "output_type": "stream",
     "text": [
      "참\n"
     ]
    }
   ],
   "source": [
    "if 3.5:\n",
    "    print(\"참\")\n",
    "    \n",
    "else:\n",
    "    print(\"거짓\")"
   ]
  },
  {
   "cell_type": "markdown",
   "id": "32564081",
   "metadata": {},
   "source": [
    "# pass\n",
    "\n",
    "- 일단 프로그램의 전체 골격을 잡아 놓고 내부에서 처리할 내용은 차근차근 만들어가고 싶은 경우에 사용\n",
    "    - \"아무것도 안함\" 또는 \"곧 개발하겠음\"의 의미"
   ]
  },
  {
   "cell_type": "code",
   "execution_count": 20,
   "id": "c70c9b93",
   "metadata": {},
   "outputs": [],
   "source": [
    "if True:\n",
    "    pass\n",
    "\n",
    "else:\n",
    "    pass"
   ]
  },
  {
   "cell_type": "markdown",
   "id": "f66e2ec5",
   "metadata": {},
   "source": [
    "# 조건부 표현식\n",
    "\n",
    "- <조건문이 참인 경우의 값> if <조건문> else <조건문이 거짓인 경우의 값>"
   ]
  },
  {
   "cell_type": "code",
   "execution_count": 1,
   "id": "d4648c4d",
   "metadata": {},
   "outputs": [
    {
     "name": "stdout",
     "output_type": "stream",
     "text": [
      "success\n"
     ]
    }
   ],
   "source": [
    "score = 60\n",
    "\n",
    "if score >= 60:\n",
    "    message = \"success\"\n",
    "    \n",
    "else:\n",
    "    message = \"failure\"\n",
    "    \n",
    "print(message)"
   ]
  },
  {
   "cell_type": "code",
   "execution_count": 3,
   "id": "7d3d065d",
   "metadata": {},
   "outputs": [
    {
     "name": "stdout",
     "output_type": "stream",
     "text": [
      "failure\n"
     ]
    }
   ],
   "source": [
    "score = 50\n",
    "message = \"success\" if score >= 60 else \"failure\"\n",
    "print(message)"
   ]
  },
  {
   "cell_type": "markdown",
   "id": "ddbf35c5",
   "metadata": {},
   "source": [
    "# 확인문제"
   ]
  },
  {
   "cell_type": "code",
   "execution_count": 4,
   "id": "48988a8d",
   "metadata": {},
   "outputs": [
    {
     "name": "stdout",
     "output_type": "stream",
     "text": [
      "일반인\n"
     ]
    }
   ],
   "source": [
    "score = 3.4\n",
    "\n",
    "if score >= 4.2:\n",
    "    message = \"교수님의 사랑\"\n",
    "    \n",
    "elif score >= 2.8:\n",
    "    message = \"일반인\"\n",
    "    \n",
    "else:\n",
    "    message = \"오락\"\n",
    "    \n",
    "print(message)"
   ]
  },
  {
   "cell_type": "markdown",
   "id": "655f5602",
   "metadata": {},
   "source": [
    "# while \n",
    "\n",
    "- 특정 조건을 만족하는 동안 반복해서 수행해야 할 때 사용\n",
    "- 조건이 True인 동안 반복해서 실행\n",
    "- 반복해야 하는 횟수나 값의 범위가 명확하지 않은 경우에 주로 사용\n",
    "\n",
    "```\n",
    "while 조건식:\n",
    "    반복 실행문\n",
    "```"
   ]
  },
  {
   "cell_type": "code",
   "execution_count": 5,
   "id": "d555b1a7",
   "metadata": {},
   "outputs": [
    {
     "name": "stdout",
     "output_type": "stream",
     "text": [
      "나무를 1번째 찍었습니다\n",
      "나무를 2번째 찍었습니다\n",
      "나무를 3번째 찍었습니다\n",
      "나무를 4번째 찍었습니다\n",
      "나무를 5번째 찍었습니다\n",
      "나무를 6번째 찍었습니다\n",
      "나무를 7번째 찍었습니다\n",
      "나무를 8번째 찍었습니다\n",
      "나무를 9번째 찍었습니다\n",
      "나무를 10번째 찍었습니다\n",
      "나무가 넘어갑니다\n"
     ]
    }
   ],
   "source": [
    "hits = 0\n",
    "tree_hp = 10\n",
    "\n",
    "while hits < tree_hp:\n",
    "    hits += 1 \n",
    "    print(f\"나무를 {hits}번째 찍었습니다\")\n",
    "    \n",
    "    if hits ==10:\n",
    "        print(\"나무가 넘어갑니다\")"
   ]
  },
  {
   "cell_type": "code",
   "execution_count": 6,
   "id": "c2700918",
   "metadata": {},
   "outputs": [
    {
     "data": {
      "text/plain": [
       "10"
      ]
     },
     "execution_count": 6,
     "metadata": {},
     "output_type": "execute_result"
    }
   ],
   "source": [
    "hits"
   ]
  },
  {
   "cell_type": "markdown",
   "id": "418ca494",
   "metadata": {},
   "source": [
    "## while 중첩"
   ]
  },
  {
   "cell_type": "code",
   "execution_count": 10,
   "id": "a1e84f57",
   "metadata": {},
   "outputs": [
    {
     "name": "stdout",
     "output_type": "stream",
     "text": [
      "1일차 1교시입니다\n",
      "1일차 2교시입니다\n",
      "1일차 3교시입니다\n",
      "2일차 1교시입니다\n",
      "2일차 2교시입니다\n",
      "2일차 3교시입니다\n",
      "3일차 1교시입니다\n",
      "3일차 2교시입니다\n",
      "3일차 3교시입니다\n",
      "4일차 1교시입니다\n",
      "4일차 2교시입니다\n",
      "4일차 3교시입니다\n",
      "5일차 1교시입니다\n",
      "5일차 2교시입니다\n",
      "5일차 3교시입니다\n"
     ]
    }
   ],
   "source": [
    "day = 1\n",
    "\n",
    "while day <= 5:\n",
    "    hour = 1\n",
    "    \n",
    "    while hour <= 3:\n",
    "        print(f\"{day}일차 {hour}교시입니다\")\n",
    "        hour += 1\n",
    "    \n",
    "    day += 1"
   ]
  },
  {
   "cell_type": "code",
   "execution_count": 11,
   "id": "5f4beab8",
   "metadata": {},
   "outputs": [
    {
     "data": {
      "text/plain": [
       "(6, 4)"
      ]
     },
     "execution_count": 11,
     "metadata": {},
     "output_type": "execute_result"
    }
   ],
   "source": [
    "day, hour"
   ]
  },
  {
   "cell_type": "markdown",
   "id": "252ef5e5",
   "metadata": {},
   "source": [
    "## break\n",
    "- 반복문을 강제로 종료시킬 때"
   ]
  },
  {
   "cell_type": "code",
   "execution_count": 12,
   "id": "36dbe82b",
   "metadata": {},
   "outputs": [
    {
     "name": "stdout",
     "output_type": "stream",
     "text": [
      "1\n",
      "2\n",
      "3\n",
      "4\n",
      "5\n",
      "6\n",
      "7\n",
      "8\n",
      "9\n",
      "10\n"
     ]
    }
   ],
   "source": [
    "n = 1 \n",
    "\n",
    "while True:\n",
    "    print(n)\n",
    "    \n",
    "    if n == 10:\n",
    "        break\n",
    "        \n",
    "    n += 1"
   ]
  },
  {
   "cell_type": "code",
   "execution_count": 13,
   "id": "b2472e78",
   "metadata": {},
   "outputs": [
    {
     "name": "stdout",
     "output_type": "stream",
     "text": [
      "1일차 1교시입니다\n",
      "1일차 2교시입니다\n",
      "1일차 3교시입니다\n",
      "2일차 1교시입니다\n",
      "2일차 2교시입니다\n",
      "2일차 3교시입니다\n",
      "3일차 1교시입니다\n",
      "3일차 2교시입니다\n",
      "3일차 3교시입니다\n"
     ]
    }
   ],
   "source": [
    "day = 1\n",
    "\n",
    "while day:\n",
    "    hour = 1\n",
    "    \n",
    "    while hour <= 3:\n",
    "        print(f\"{day}일차 {hour}교시입니다\")\n",
    "        hour += 1\n",
    "    \n",
    "    if day == 3:\n",
    "        break\n",
    "        \n",
    "    day +=1"
   ]
  },
  {
   "cell_type": "markdown",
   "id": "72ae2a1f",
   "metadata": {},
   "source": [
    "## continue \n",
    "\n",
    "- 반복문의 시작 지점으로 이동\n",
    "- 반복에서 제외하거나 생략하고 싶은 코드가 있을 때 사용"
   ]
  },
  {
   "cell_type": "code",
   "execution_count": 14,
   "id": "eec30223",
   "metadata": {},
   "outputs": [
    {
     "name": "stdout",
     "output_type": "stream",
     "text": [
      "1\n",
      "3\n",
      "5\n",
      "7\n",
      "9\n"
     ]
    }
   ],
   "source": [
    "a = 0\n",
    "\n",
    "while a < 10:\n",
    "    a += 1\n",
    "    \n",
    "    if a % 2 == 0:\n",
    "        continue\n",
    "        \n",
    "    print(a)"
   ]
  },
  {
   "cell_type": "code",
   "execution_count": 15,
   "id": "9e377296",
   "metadata": {},
   "outputs": [
    {
     "data": {
      "text/plain": [
       "10"
      ]
     },
     "execution_count": 15,
     "metadata": {},
     "output_type": "execute_result"
    }
   ],
   "source": [
    "a"
   ]
  },
  {
   "cell_type": "markdown",
   "id": "d446b625",
   "metadata": {},
   "source": [
    "# for \n",
    "\n",
    "- 값의 범위나 반복 횟수가 정해져 있을때 주로 사용하는 반복문\n",
    "```\n",
    "for 변수 in 반복가능객체:\n",
    "    반복실행문\n",
    "```\n",
    "- 반복가능 객체 : 문자열, 리스트, 튜플, range, 세트, 딕셔너리"
   ]
  },
  {
   "cell_type": "code",
   "execution_count": 16,
   "id": "a8c4d973",
   "metadata": {},
   "outputs": [
    {
     "name": "stdout",
     "output_type": "stream",
     "text": [
      "one\n",
      "two\n",
      "three\n"
     ]
    }
   ],
   "source": [
    "test = [\"one\", \"two\", \"three\"]\n",
    "\n",
    "for i in test:\n",
    "    print(i)"
   ]
  },
  {
   "cell_type": "code",
   "execution_count": 17,
   "id": "8c57e66e",
   "metadata": {},
   "outputs": [
    {
     "name": "stdout",
     "output_type": "stream",
     "text": [
      "안\n",
      "녕\n",
      "하\n",
      "세\n",
      "요\n"
     ]
    }
   ],
   "source": [
    "# for 반복문은 문자열을 함께 사용할 수도 있음\n",
    "\n",
    "for i in \"안녕하세요\":\n",
    "    print(i)"
   ]
  },
  {
   "cell_type": "code",
   "execution_count": 18,
   "id": "e20cff6c",
   "metadata": {},
   "outputs": [
    {
     "name": "stdout",
     "output_type": "stream",
     "text": [
      "1번째 학생은 합격입니다.\n",
      "2번째 학생은 불합격입니다.\n",
      "3번째 학생은 합격입니다.\n",
      "4번째 학생은 불합격입니다.\n",
      "5번째 학생은 합격입니다.\n"
     ]
    }
   ],
   "source": [
    "scores = [90,25,67,45,80]\n",
    "number = 0\n",
    "\n",
    "for i in scores:\n",
    "    number += 1\n",
    "    \n",
    "    if i >= 60:\n",
    "        print(f\"{number}번째 학생은 합격입니다.\")\n",
    "        \n",
    "    else:\n",
    "        print(f\"{number}번째 학생은 불합격입니다.\")"
   ]
  },
  {
   "cell_type": "markdown",
   "id": "c5d15e22",
   "metadata": {},
   "source": [
    "## for  중첩\n",
    "\n",
    "- 일반적으로 n차원 처리를 할때 사용\n",
    "    - 리스트가 한 겹으로 감싸지면 1차원 리스트\n",
    "        - 예) [1,2,3]\n",
    "        \n",
    "    - 리스트가 두겹으로 감싸지면 2차원 리스트\n",
    "        - 예) [[1,2,3], [4,5,6]]\n",
    "        \n",
    "    - 위와 같은 n차원 리스트 요소를 모두 확인하려면 반복문을 n번 중첩해야함"
   ]
  },
  {
   "cell_type": "code",
   "execution_count": 21,
   "id": "56e5a21e",
   "metadata": {},
   "outputs": [
    {
     "name": "stdout",
     "output_type": "stream",
     "text": [
      "1\n",
      "2\n",
      "3\n",
      "4\n",
      "5\n",
      "6\n",
      "7\n",
      "8\n",
      "9\n"
     ]
    }
   ],
   "source": [
    "over_list = [\n",
    "    [1,2,3],\n",
    "    [4,5,6],\n",
    "    [7,8,9]\n",
    "]\n",
    "\n",
    "for j in over_list:\n",
    "    for i in j:\n",
    "        print(i)"
   ]
  },
  {
   "cell_type": "markdown",
   "id": "b3156cdc",
   "metadata": {},
   "source": [
    "## continue "
   ]
  },
  {
   "cell_type": "code",
   "execution_count": 22,
   "id": "5b3a4ffe",
   "metadata": {},
   "outputs": [
    {
     "name": "stdout",
     "output_type": "stream",
     "text": [
      "1번째 학생은 합격입니다\n",
      "3번째 학생은 합격입니다\n",
      "5번째 학생은 합격입니다\n"
     ]
    }
   ],
   "source": [
    "scores = [90,25,67,45,80]\n",
    "number = 0\n",
    "\n",
    "for score in scores:\n",
    "    number += 1\n",
    "    \n",
    "    if score < 60:\n",
    "        continue\n",
    "        \n",
    "    print(f\"{number}번째 학생은 합격입니다\")"
   ]
  },
  {
   "cell_type": "markdown",
   "id": "f3543da3",
   "metadata": {},
   "source": [
    "## range\n",
    "\n",
    "- 수열을 자동으로 만들어주는 함수\n",
    "- range(시작, 종료(종료+1), 증감)"
   ]
  },
  {
   "cell_type": "code",
   "execution_count": 23,
   "id": "b51352ae",
   "metadata": {},
   "outputs": [
    {
     "name": "stdout",
     "output_type": "stream",
     "text": [
      "0123456789"
     ]
    }
   ],
   "source": [
    "for i in range(10):\n",
    "    print(i,end = \"\")"
   ]
  },
  {
   "cell_type": "code",
   "execution_count": 25,
   "id": "e0a6b3e2",
   "metadata": {},
   "outputs": [
    {
     "name": "stdout",
     "output_type": "stream",
     "text": [
      "1 2 3 4 5 6 7 8 9 10 "
     ]
    }
   ],
   "source": [
    "for i in range(1,11):\n",
    "    print(i,end=\" \")"
   ]
  },
  {
   "cell_type": "code",
   "execution_count": 26,
   "id": "68b2ea8b",
   "metadata": {},
   "outputs": [
    {
     "name": "stdout",
     "output_type": "stream",
     "text": [
      "1 3 5 7 9 "
     ]
    }
   ],
   "source": [
    "for i in range (1,11,2):\n",
    "    print(i, end = \" \")"
   ]
  },
  {
   "cell_type": "code",
   "execution_count": 27,
   "id": "7b2f00c5",
   "metadata": {},
   "outputs": [
    {
     "name": "stdout",
     "output_type": "stream",
     "text": [
      "55\n"
     ]
    }
   ],
   "source": [
    "tot = 0\n",
    "\n",
    "for i in range (1, 11):\n",
    "    tot += i \n",
    "    \n",
    "print(tot)"
   ]
  },
  {
   "cell_type": "code",
   "execution_count": 29,
   "id": "3d761cfc",
   "metadata": {},
   "outputs": [
    {
     "name": "stdout",
     "output_type": "stream",
     "text": [
      "2 * 1 = 2\n",
      "2 * 2 = 4\n",
      "2 * 3 = 6\n",
      "2 * 4 = 8\n",
      "2 * 5 = 10\n",
      "2 * 6 = 12\n",
      "2 * 7 = 14\n",
      "2 * 8 = 16\n",
      "2 * 9 = 18\n"
     ]
    }
   ],
   "source": [
    "dan = 2\n",
    "\n",
    "for i in range(1,10):\n",
    "    b = dan * i\n",
    "    \n",
    "    print(f\"{dan} * {i} = {b}\")"
   ]
  },
  {
   "cell_type": "markdown",
   "id": "8c1c9328",
   "metadata": {},
   "source": [
    "## for 반복문과 딕셔너리 조합\n",
    "- for 반복문과 딕셔너리 조합하면 딕셔너리의 키가 변수로 들어감"
   ]
  },
  {
   "cell_type": "code",
   "execution_count": 30,
   "id": "6380fda4",
   "metadata": {},
   "outputs": [
    {
     "name": "stdout",
     "output_type": "stream",
     "text": [
      "name\n",
      "type\n",
      "ingredient\n",
      "origin\n"
     ]
    }
   ],
   "source": [
    "dic1 = {\"name\" : \"건조 망고\", \n",
    "       \"type\" : \"당절임\",\n",
    "       \"ingredient\" : [\"망고\", \"설탕\", \"나트륨\", \"색소\"],\n",
    "        \"origin\" : \"필리핀\"}\n",
    "\n",
    "for i in dic1:\n",
    "    print(i)"
   ]
  },
  {
   "cell_type": "code",
   "execution_count": 31,
   "id": "a1955dcd",
   "metadata": {},
   "outputs": [
    {
     "data": {
      "text/plain": [
       "'건조 망고'"
      ]
     },
     "execution_count": 31,
     "metadata": {},
     "output_type": "execute_result"
    }
   ],
   "source": [
    "dic1[\"name\"]"
   ]
  },
  {
   "cell_type": "code",
   "execution_count": 32,
   "id": "da55e209",
   "metadata": {},
   "outputs": [
    {
     "data": {
      "text/plain": [
       "'필리핀'"
      ]
     },
     "execution_count": 32,
     "metadata": {},
     "output_type": "execute_result"
    }
   ],
   "source": [
    "dic1[i]"
   ]
  },
  {
   "cell_type": "code",
   "execution_count": 34,
   "id": "32897646",
   "metadata": {},
   "outputs": [
    {
     "name": "stdout",
     "output_type": "stream",
     "text": [
      "name\n",
      "건조 망고\n",
      "----------\n",
      "type\n",
      "당절임\n",
      "----------\n",
      "ingredient\n",
      "['망고', '설탕', '나트륨', '색소']\n",
      "----------\n",
      "origin\n",
      "필리핀\n",
      "----------\n"
     ]
    }
   ],
   "source": [
    "for i in dic1:\n",
    "    print(i)\n",
    "    print(dic1[i])\n",
    "    print(\"-\" * 10)"
   ]
  },
  {
   "cell_type": "markdown",
   "id": "94c09d19",
   "metadata": {},
   "source": [
    "## enumerate 함수\n",
    "\n",
    "- 리스트의 요소를 반복할 때 요소의 인덱스를 함께 반환\n",
    "- 현재 인덱스가 몇 번째인지 확인하고 싶은 경우 사용\n"
   ]
  },
  {
   "cell_type": "code",
   "execution_count": 36,
   "id": "3a70ae10",
   "metadata": {},
   "outputs": [
    {
     "name": "stdout",
     "output_type": "stream",
     "text": [
      "0번째 요소는 요소1입니다\n",
      "1번째 요소는 요소2입니다\n",
      "2번째 요소는 요소3입니다\n"
     ]
    }
   ],
   "source": [
    "example_list = [\"요소1\", \"요소2\", \"요소3\"]\n",
    "\n",
    "for idx, value in enumerate(example_list):\n",
    "    print(f\"{idx}번째 요소는 {value}입니다\")"
   ]
  },
  {
   "cell_type": "code",
   "execution_count": 37,
   "id": "2162105c",
   "metadata": {},
   "outputs": [
    {
     "name": "stdout",
     "output_type": "stream",
     "text": [
      "(0, '요소1')\n",
      "(1, '요소2')\n",
      "(2, '요소3')\n"
     ]
    }
   ],
   "source": [
    "for i in enumerate(example_list):\n",
    "    print(i)"
   ]
  },
  {
   "cell_type": "code",
   "execution_count": 40,
   "id": "a1d17e06",
   "metadata": {},
   "outputs": [
    {
     "name": "stdout",
     "output_type": "stream",
     "text": [
      "1번째 학생은 합격입니다\n",
      "2번째 학생은 불합격입니다\n",
      "3번째 학생은 합격입니다\n",
      "4번째 학생은 불합격입니다\n",
      "5번째 학생은 합격입니다\n"
     ]
    }
   ],
   "source": [
    "scores = [90,25,67,45,80]\n",
    "number = 0\n",
    "\n",
    "for number, score in enumerate(scores):\n",
    "    number+=1\n",
    "    \n",
    "    if score >= 60:\n",
    "        print(f\"{number}번째 학생은 합격입니다\")\n",
    "        \n",
    "    else:\n",
    "        print(f\"{number}번째 학생은 불합격입니다\")\n",
    "    "
   ]
  },
  {
   "cell_type": "markdown",
   "id": "c0b0ac59",
   "metadata": {},
   "source": [
    "# 리스트 내포(list comprehension)"
   ]
  },
  {
   "cell_type": "code",
   "execution_count": 42,
   "id": "e34b470f",
   "metadata": {},
   "outputs": [
    {
     "name": "stdout",
     "output_type": "stream",
     "text": [
      "[0, 3, 6, 9, 12, 15, 18, 21, 24, 27]\n"
     ]
    }
   ],
   "source": [
    "# 리스트 내포 쓰지 않을 때\n",
    "\n",
    "result1=[]\n",
    "\n",
    "for num in range(10):\n",
    "    result1.append(num*3)\n",
    "    \n",
    "print(result1)"
   ]
  },
  {
   "cell_type": "code",
   "execution_count": 44,
   "id": "bd89a840",
   "metadata": {},
   "outputs": [
    {
     "data": {
      "text/plain": [
       "[0, 3, 6, 9, 12, 15, 18, 21, 24, 27]"
      ]
     },
     "execution_count": 44,
     "metadata": {},
     "output_type": "execute_result"
    }
   ],
   "source": [
    "# 리스트 내포 사용\n",
    "\n",
    "result1 = [num*3 for num in range(10)]\n",
    "\n",
    "result1"
   ]
  },
  {
   "cell_type": "code",
   "execution_count": 45,
   "id": "97094c70",
   "metadata": {},
   "outputs": [
    {
     "data": {
      "text/plain": [
       "[0, 6, 12, 18, 24]"
      ]
     },
     "execution_count": 45,
     "metadata": {},
     "output_type": "execute_result"
    }
   ],
   "source": [
    "# 리스트 내포에 if 조건식 추가\n",
    "\n",
    "result = [num*3 for num in range(10) if num % 2 == 0]\n",
    "\n",
    "result"
   ]
  },
  {
   "cell_type": "code",
   "execution_count": null,
   "id": "223edc51",
   "metadata": {},
   "outputs": [],
   "source": []
  },
  {
   "cell_type": "code",
   "execution_count": null,
   "id": "32339064",
   "metadata": {},
   "outputs": [],
   "source": []
  },
  {
   "cell_type": "code",
   "execution_count": null,
   "id": "bf02fb36",
   "metadata": {},
   "outputs": [],
   "source": []
  },
  {
   "cell_type": "code",
   "execution_count": null,
   "id": "9a6479d9",
   "metadata": {},
   "outputs": [],
   "source": []
  }
 ],
 "metadata": {
  "kernelspec": {
   "display_name": "Python 3 (ipykernel)",
   "language": "python",
   "name": "python3"
  },
  "language_info": {
   "codemirror_mode": {
    "name": "ipython",
    "version": 3
   },
   "file_extension": ".py",
   "mimetype": "text/x-python",
   "name": "python",
   "nbconvert_exporter": "python",
   "pygments_lexer": "ipython3",
   "version": "3.11.5"
  }
 },
 "nbformat": 4,
 "nbformat_minor": 5
}
