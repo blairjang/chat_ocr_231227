{
 "cells": [
  {
   "cell_type": "markdown",
   "id": "39d0a4e3",
   "metadata": {},
   "source": [
    "# 감성 분류\n",
    "\n",
    "- 분류 모델의 가장 대표적인 활용 방법 중 하나\n",
    "- 텍스트 데이터를 긍정 또는 부정으로 나누어 분류하는 것 "
   ]
  },
  {
   "cell_type": "code",
   "execution_count": 1,
   "id": "ab715bf1",
   "metadata": {},
   "outputs": [],
   "source": [
    "import pandas as pd\n",
    "import numpy as np\n",
    "import matplotlib.pyplot as plt\n",
    "import seaborn as sns\n",
    "from selenium import webdriver\n",
    "from bs4 import BeautifulSoup\n",
    "import re\n",
    "import time\n",
    "from selenium.webdriver.common.by import By\n",
    "from selenium.webdriver.common.keys import Keys\n",
    "import requests\n",
    "from sklearn.feature_extraction.text import TfidfVectorizer\n",
    "from sklearn.model_selection import train_test_split\n",
    "from sklearn.linear_model import LogisticRegression\n",
    "from sklearn.metrics import accuracy_score, f1_score, confusion_matrix\n",
    "from konlpy.tag import Okt"
   ]
  },
  {
   "cell_type": "code",
   "execution_count": 3,
   "id": "19cf1739",
   "metadata": {
    "scrolled": true
   },
   "outputs": [
    {
     "data": {
      "text/plain": [
       "['집', '에', '가고싶당']"
      ]
     },
     "execution_count": 3,
     "metadata": {},
     "output_type": "execute_result"
    }
   ],
   "source": [
    "okt.morphs(\"집에가고싶당\")"
   ]
  },
  {
   "cell_type": "markdown",
   "id": "2167104d",
   "metadata": {},
   "source": [
    "<img src = \"./image/형태소분석기비교_만.png\">"
   ]
  },
  {
   "cell_type": "markdown",
   "id": "d05c588c",
   "metadata": {},
   "source": [
    "- komoran 은 느리고 형태소 분석은 잘해주지만 프로그램화하기가 문제가 많음 \n",
    "- 데이터를 10000개 정도 수집한 다음에 okt 가지고 형태소 분석돌리면 결과물 보기까지 20분정도 걸림 \n",
    "- mecab은 거의 바로 됨 \n",
    "- 윈도우는 mecab 못씀 "
   ]
  },
  {
   "cell_type": "markdown",
   "id": "896edbfc",
   "metadata": {},
   "source": [
    "# 맛집 상세페이지 url 정보 크롤링 "
   ]
  },
  {
   "cell_type": "code",
   "execution_count": 8,
   "id": "fa981f1a",
   "metadata": {},
   "outputs": [],
   "source": [
    "# 크롤링할 주소\n",
    "url = \"https://map.kakao.com/\""
   ]
  },
  {
   "cell_type": "code",
   "execution_count": 13,
   "id": "e7cb7d42",
   "metadata": {},
   "outputs": [
    {
     "ename": "TypeError",
     "evalue": "WebDriver.__init__() got an unexpected keyword argument 'service'",
     "output_type": "error",
     "traceback": [
      "\u001b[1;31m---------------------------------------------------------------------------\u001b[0m",
      "\u001b[1;31mTypeError\u001b[0m                                 Traceback (most recent call last)",
      "Cell \u001b[1;32mIn[13], line 5\u001b[0m\n\u001b[0;32m      2\u001b[0m \u001b[38;5;28;01mfrom\u001b[39;00m \u001b[38;5;21;01mselenium\u001b[39;00m\u001b[38;5;21;01m.\u001b[39;00m\u001b[38;5;21;01mwebdriver\u001b[39;00m\u001b[38;5;21;01m.\u001b[39;00m\u001b[38;5;21;01mchrome\u001b[39;00m\u001b[38;5;21;01m.\u001b[39;00m\u001b[38;5;21;01mservice\u001b[39;00m \u001b[38;5;28;01mimport\u001b[39;00m Service \u001b[38;5;28;01mas\u001b[39;00m ChromeService\n\u001b[0;32m      3\u001b[0m \u001b[38;5;28;01mfrom\u001b[39;00m \u001b[38;5;21;01mwebdriver_manager\u001b[39;00m\u001b[38;5;21;01m.\u001b[39;00m\u001b[38;5;21;01mchrome\u001b[39;00m \u001b[38;5;28;01mimport\u001b[39;00m ChromeDriverManager\n\u001b[1;32m----> 5\u001b[0m driver \u001b[38;5;241m=\u001b[39m webdriver\u001b[38;5;241m.\u001b[39mChrome(service\u001b[38;5;241m=\u001b[39mChromeService(ChromeDriverManager()\u001b[38;5;241m.\u001b[39minstall()))\n",
      "\u001b[1;31mTypeError\u001b[0m: WebDriver.__init__() got an unexpected keyword argument 'service'"
     ]
    }
   ],
   "source": [
    "from selenium import webdriver\n",
    "from selenium.webdriver.chrome.service import Service as ChromeService\n",
    "from webdriver_manager.chrome import ChromeDriverManager\n",
    "\n",
    "driver = webdriver.Chrome(service=ChromeService(ChromeDriverManager().install()))"
   ]
  },
  {
   "cell_type": "code",
   "execution_count": 20,
   "id": "f3e1b2de",
   "metadata": {},
   "outputs": [],
   "source": [
    "# driver = webdriver.Chrome()\n",
    "driver = webdriver.Chrome(ChromeDriverManager().install())\n",
    "\n",
    "# 카카오지도 접속\n",
    "driver.get(url)\n",
    "\n",
    "# 검색창에 검색어 입력 \n",
    "searchbox = driver.find_element(By.CSS_SELECTOR, \"input.query\")\n",
    "searchbox.send_keys(\"신촌 맛집\")\n",
    "\n",
    "# 엔터 눌러서 결과 받아오기\n",
    "searchbox.send_keys(Keys.ENTER)\n",
    "\n",
    "# 검색 결과를 가져올 시간 대기 \n",
    "time.sleep(1)\n",
    "\n",
    "# html 정보 파싱 \n",
    "soup = BeautifulSoup(driver.page_source, \"lxml\")\n",
    "moreviews = soup.select(\"a.moreview\")\n",
    "\n",
    "# 크롤링할 페이지 리스트 생성 \n",
    "page_urls = []\n",
    "\n",
    "for more in moreviews:\n",
    "    page = more.get(\"href\")\n",
    "    page_urls.append(page)\n",
    "    \n",
    "driver.close()"
   ]
  },
  {
   "cell_type": "code",
   "execution_count": 21,
   "id": "6ede3de5",
   "metadata": {},
   "outputs": [
    {
     "data": {
      "text/plain": [
       "['https://place.map.kakao.com/1165755646',\n",
       " 'https://place.map.kakao.com/15937430',\n",
       " 'https://place.map.kakao.com/27144649',\n",
       " 'https://place.map.kakao.com/1011256721',\n",
       " 'https://place.map.kakao.com/26976526',\n",
       " 'https://place.map.kakao.com/26522526',\n",
       " 'https://place.map.kakao.com/7892863',\n",
       " 'https://place.map.kakao.com/17505297',\n",
       " 'https://place.map.kakao.com/18826661',\n",
       " 'https://place.map.kakao.com/1705674698',\n",
       " 'https://place.map.kakao.com/15847929',\n",
       " 'https://place.map.kakao.com/10621045',\n",
       " 'https://place.map.kakao.com/1227036908',\n",
       " 'https://place.map.kakao.com/10386326',\n",
       " 'https://place.map.kakao.com/12502450']"
      ]
     },
     "execution_count": 21,
     "metadata": {},
     "output_type": "execute_result"
    }
   ],
   "source": [
    "page_urls"
   ]
  },
  {
   "cell_type": "markdown",
   "id": "7b4f6d83",
   "metadata": {},
   "source": [
    "# 상세페이지에서 리뷰 크롤링 "
   ]
  },
  {
   "cell_type": "code",
   "execution_count": 22,
   "id": "c02d07a7",
   "metadata": {},
   "outputs": [],
   "source": [
    "res = requests.get(\"https://place.map.kakao.com/commentlist/v/1165755646/\")"
   ]
  },
  {
   "cell_type": "code",
   "execution_count": 23,
   "id": "7ab0021d",
   "metadata": {},
   "outputs": [],
   "source": [
    "data = res.json()"
   ]
  },
  {
   "cell_type": "code",
   "execution_count": 29,
   "id": "5bbb0b06",
   "metadata": {},
   "outputs": [
    {
     "data": {
      "text/plain": [
       "4"
      ]
     },
     "execution_count": 29,
     "metadata": {},
     "output_type": "execute_result"
    }
   ],
   "source": [
    "# 별점\n",
    "data[\"comment\"][\"list\"][0][\"point\"]"
   ]
  },
  {
   "cell_type": "code",
   "execution_count": 30,
   "id": "1a7367b7",
   "metadata": {},
   "outputs": [
    {
     "data": {
      "text/plain": [
       "'마늘바게트 맛있지만 너무 달아서 아쉬웠어요'"
      ]
     },
     "execution_count": 30,
     "metadata": {},
     "output_type": "execute_result"
    }
   ],
   "source": [
    "# 댓글\n",
    "data[\"comment\"][\"list\"][0][\"contents\"]"
   ]
  },
  {
   "cell_type": "code",
   "execution_count": 31,
   "id": "1ad52023",
   "metadata": {},
   "outputs": [
    {
     "data": {
      "text/plain": [
       "5"
      ]
     },
     "execution_count": 31,
     "metadata": {},
     "output_type": "execute_result"
    }
   ],
   "source": [
    "# 한번 더보기를 할 때 마다 5개씩 들어옴 \n",
    "len(data[\"comment\"][\"list\"])"
   ]
  },
  {
   "cell_type": "code",
   "execution_count": 32,
   "id": "af1633e3",
   "metadata": {},
   "outputs": [
    {
     "data": {
      "text/plain": [
       "'9744583'"
      ]
     },
     "execution_count": 32,
     "metadata": {},
     "output_type": "execute_result"
    }
   ],
   "source": [
    "# 마지막 댓글 id 까지 받아옴\n",
    "data[\"comment\"][\"list\"][-1][\"commentid\"]"
   ]
  },
  {
   "cell_type": "code",
   "execution_count": 38,
   "id": "502ef58e",
   "metadata": {},
   "outputs": [],
   "source": [
    "stars = []\n",
    "reviews = []\n",
    "\n",
    "# 댓글 정보 url # 맨끝 숫자는 가게아이디 비워둘것임 (1165755646)\n",
    "base_url = \"https://place.map.kakao.com/commentlist/v/\"\n",
    "\n",
    "# 위에서 수집한 15개 가게에 대해서 수집\n",
    "# page_urls : 상세보기 페이지 -> 제일 뒷번호 : 가게 id\n",
    "for url in page_urls:\n",
    "    last_id = \"\"\n",
    "    \n",
    "    # 5번 더보기 수행 \n",
    "    for _ in range(5):\n",
    "        res = requests.get(base_url + url[28:] + \"/\" + last_id)\n",
    "        data = res.json()\n",
    "        \n",
    "        # 별점, 리뷰 수집 \n",
    "        for review in data[\"comment\"][\"list\"]:\n",
    "            stars.append(review[\"point\"])\n",
    "            reviews.append(review.get(\"contents\", \"\"))\n",
    "            \n",
    "        # 더보기 시에 사용할 마지막 id \n",
    "        last_id = review[\"commentid\"]\n",
    "        time.sleep(1)"
   ]
  },
  {
   "cell_type": "code",
   "execution_count": 39,
   "id": "82e55400",
   "metadata": {},
   "outputs": [
    {
     "data": {
      "text/plain": [
       "375"
      ]
     },
     "execution_count": 39,
     "metadata": {},
     "output_type": "execute_result"
    }
   ],
   "source": [
    "len(reviews)"
   ]
  },
  {
   "cell_type": "code",
   "execution_count": 40,
   "id": "05b98286",
   "metadata": {},
   "outputs": [],
   "source": [
    "# 로지스틱 분류에 사용되는 녀석\n",
    "df = pd.DataFrame({\"score\" : stars, \"review\" : reviews})"
   ]
  },
  {
   "cell_type": "code",
   "execution_count": 41,
   "id": "ee3e8ac0",
   "metadata": {},
   "outputs": [
    {
     "data": {
      "text/html": [
       "<div>\n",
       "<style scoped>\n",
       "    .dataframe tbody tr th:only-of-type {\n",
       "        vertical-align: middle;\n",
       "    }\n",
       "\n",
       "    .dataframe tbody tr th {\n",
       "        vertical-align: top;\n",
       "    }\n",
       "\n",
       "    .dataframe thead th {\n",
       "        text-align: right;\n",
       "    }\n",
       "</style>\n",
       "<table border=\"1\" class=\"dataframe\">\n",
       "  <thead>\n",
       "    <tr style=\"text-align: right;\">\n",
       "      <th></th>\n",
       "      <th>score</th>\n",
       "      <th>review</th>\n",
       "    </tr>\n",
       "  </thead>\n",
       "  <tbody>\n",
       "    <tr>\n",
       "      <th>0</th>\n",
       "      <td>4</td>\n",
       "      <td>마늘바게트 맛있지만 너무 달아서 아쉬웠어요</td>\n",
       "    </tr>\n",
       "    <tr>\n",
       "      <th>1</th>\n",
       "      <td>5</td>\n",
       "      <td>여기 밤식빵 진짜 밤 많이 들어가고 맛있는데 사진은 거의 마늘빵이네</td>\n",
       "    </tr>\n",
       "    <tr>\n",
       "      <th>2</th>\n",
       "      <td>5</td>\n",
       "      <td>마늘바게트 진짜 개ㅐ개ㅐㅐㅐ맛있어요 \\n저녁에 방문했는데도 마늘바게트는 충분했습니다...</td>\n",
       "    </tr>\n",
       "    <tr>\n",
       "      <th>3</th>\n",
       "      <td>5</td>\n",
       "      <td>현재 기준, 맛으로 종합 1위 인정합니다. 다만, 마늘 바게트가 다른 곳보다 맛있지...</td>\n",
       "    </tr>\n",
       "    <tr>\n",
       "      <th>4</th>\n",
       "      <td>5</td>\n",
       "      <td>맛있음 ㅜㅜ 오픈때가야 따듯하고 진짜 존맛</td>\n",
       "    </tr>\n",
       "  </tbody>\n",
       "</table>\n",
       "</div>"
      ],
      "text/plain": [
       "   score                                             review\n",
       "0      4                            마늘바게트 맛있지만 너무 달아서 아쉬웠어요\n",
       "1      5              여기 밤식빵 진짜 밤 많이 들어가고 맛있는데 사진은 거의 마늘빵이네\n",
       "2      5  마늘바게트 진짜 개ㅐ개ㅐㅐㅐ맛있어요 \\n저녁에 방문했는데도 마늘바게트는 충분했습니다...\n",
       "3      5  현재 기준, 맛으로 종합 1위 인정합니다. 다만, 마늘 바게트가 다른 곳보다 맛있지...\n",
       "4      5                            맛있음 ㅜㅜ 오픈때가야 따듯하고 진짜 존맛"
      ]
     },
     "execution_count": 41,
     "metadata": {},
     "output_type": "execute_result"
    }
   ],
   "source": [
    "df.head()"
   ]
  },
  {
   "cell_type": "code",
   "execution_count": 43,
   "id": "da8be092",
   "metadata": {},
   "outputs": [
    {
     "data": {
      "text/plain": [
       "score\n",
       "5    153\n",
       "4     90\n",
       "3     56\n",
       "1     51\n",
       "2     25\n",
       "Name: count, dtype: int64"
      ]
     },
     "execution_count": 43,
     "metadata": {},
     "output_type": "execute_result"
    }
   ],
   "source": [
    "# 5,4점이 제일 많고 2점이 젤 적음 (긍정)\n",
    "# 1,2 가 부정 \n",
    "df[\"score\"].value_counts()"
   ]
  },
  {
   "cell_type": "code",
   "execution_count": 44,
   "id": "78e3bafa",
   "metadata": {},
   "outputs": [],
   "source": [
    "# 4점 이상 리뷰는 긍정 리뷰, 3점 이하는 부정 리뷰로 평가\n",
    "df[\"y\"] = df[\"score\"].map(lambda x: 1 if x > 3 else 0)"
   ]
  },
  {
   "cell_type": "code",
   "execution_count": 46,
   "id": "c25626d4",
   "metadata": {},
   "outputs": [
    {
     "data": {
      "text/html": [
       "<div>\n",
       "<style scoped>\n",
       "    .dataframe tbody tr th:only-of-type {\n",
       "        vertical-align: middle;\n",
       "    }\n",
       "\n",
       "    .dataframe tbody tr th {\n",
       "        vertical-align: top;\n",
       "    }\n",
       "\n",
       "    .dataframe thead th {\n",
       "        text-align: right;\n",
       "    }\n",
       "</style>\n",
       "<table border=\"1\" class=\"dataframe\">\n",
       "  <thead>\n",
       "    <tr style=\"text-align: right;\">\n",
       "      <th></th>\n",
       "      <th>score</th>\n",
       "      <th>review</th>\n",
       "      <th>y</th>\n",
       "    </tr>\n",
       "  </thead>\n",
       "  <tbody>\n",
       "    <tr>\n",
       "      <th>0</th>\n",
       "      <td>4</td>\n",
       "      <td>마늘바게트 맛있지만 너무 달아서 아쉬웠어요</td>\n",
       "      <td>1</td>\n",
       "    </tr>\n",
       "    <tr>\n",
       "      <th>1</th>\n",
       "      <td>5</td>\n",
       "      <td>여기 밤식빵 진짜 밤 많이 들어가고 맛있는데 사진은 거의 마늘빵이네</td>\n",
       "      <td>1</td>\n",
       "    </tr>\n",
       "    <tr>\n",
       "      <th>2</th>\n",
       "      <td>5</td>\n",
       "      <td>마늘바게트 진짜 개ㅐ개ㅐㅐㅐ맛있어요 \\n저녁에 방문했는데도 마늘바게트는 충분했습니다...</td>\n",
       "      <td>1</td>\n",
       "    </tr>\n",
       "    <tr>\n",
       "      <th>3</th>\n",
       "      <td>5</td>\n",
       "      <td>현재 기준, 맛으로 종합 1위 인정합니다. 다만, 마늘 바게트가 다른 곳보다 맛있지...</td>\n",
       "      <td>1</td>\n",
       "    </tr>\n",
       "    <tr>\n",
       "      <th>4</th>\n",
       "      <td>5</td>\n",
       "      <td>맛있음 ㅜㅜ 오픈때가야 따듯하고 진짜 존맛</td>\n",
       "      <td>1</td>\n",
       "    </tr>\n",
       "    <tr>\n",
       "      <th>5</th>\n",
       "      <td>5</td>\n",
       "      <td></td>\n",
       "      <td>1</td>\n",
       "    </tr>\n",
       "    <tr>\n",
       "      <th>6</th>\n",
       "      <td>5</td>\n",
       "      <td>마늘바게트 이외에 다른빵도 다 맛나요!\\n강릉점이랑 맛도 똑같아용</td>\n",
       "      <td>1</td>\n",
       "    </tr>\n",
       "    <tr>\n",
       "      <th>7</th>\n",
       "      <td>3</td>\n",
       "      <td>마늘바게트 정말 달고 기름져서 한번에 많이는 못 먹을 거 같아요! 그래도 맛있습니다</td>\n",
       "      <td>0</td>\n",
       "    </tr>\n",
       "    <tr>\n",
       "      <th>8</th>\n",
       "      <td>5</td>\n",
       "      <td></td>\n",
       "      <td>1</td>\n",
       "    </tr>\n",
       "    <tr>\n",
       "      <th>9</th>\n",
       "      <td>5</td>\n",
       "      <td></td>\n",
       "      <td>1</td>\n",
       "    </tr>\n",
       "  </tbody>\n",
       "</table>\n",
       "</div>"
      ],
      "text/plain": [
       "   score                                             review  y\n",
       "0      4                            마늘바게트 맛있지만 너무 달아서 아쉬웠어요  1\n",
       "1      5              여기 밤식빵 진짜 밤 많이 들어가고 맛있는데 사진은 거의 마늘빵이네  1\n",
       "2      5  마늘바게트 진짜 개ㅐ개ㅐㅐㅐ맛있어요 \\n저녁에 방문했는데도 마늘바게트는 충분했습니다...  1\n",
       "3      5  현재 기준, 맛으로 종합 1위 인정합니다. 다만, 마늘 바게트가 다른 곳보다 맛있지...  1\n",
       "4      5                            맛있음 ㅜㅜ 오픈때가야 따듯하고 진짜 존맛  1\n",
       "5      5                                                     1\n",
       "6      5               마늘바게트 이외에 다른빵도 다 맛나요!\\n강릉점이랑 맛도 똑같아용  1\n",
       "7      3     마늘바게트 정말 달고 기름져서 한번에 많이는 못 먹을 거 같아요! 그래도 맛있습니다  0\n",
       "8      5                                                     1\n",
       "9      5                                                     1"
      ]
     },
     "execution_count": 46,
     "metadata": {},
     "output_type": "execute_result"
    }
   ],
   "source": [
    "# ~3점까지 부정, 나머진 긍정 리뷰\n",
    "df.head(10)"
   ]
  },
  {
   "cell_type": "code",
   "execution_count": 47,
   "id": "158ab20c",
   "metadata": {},
   "outputs": [
    {
     "data": {
      "text/plain": [
       "y\n",
       "1    243\n",
       "0    132\n",
       "Name: count, dtype: int64"
      ]
     },
     "execution_count": 47,
     "metadata": {},
     "output_type": "execute_result"
    }
   ],
   "source": [
    "# 레이블값 비율 확인\n",
    "df[\"y\"].value_counts()"
   ]
  },
  {
   "cell_type": "markdown",
   "id": "864e259d",
   "metadata": {},
   "source": [
    "# 텍스트 전처리"
   ]
  },
  {
   "cell_type": "markdown",
   "id": "d237ea19",
   "metadata": {},
   "source": [
    "## 한글 추출 \n",
    "- 영어 제거하다보면 느낌표 컴마 숫자 등등 많은 것들이 제외됨 \n",
    "- shift + tab : 쓴 함수 뜻 나옴 "
   ]
  },
  {
   "cell_type": "code",
   "execution_count": 49,
   "id": "9ebc1365",
   "metadata": {},
   "outputs": [],
   "source": [
    "# -> 뜻 반환값 \n",
    "# 3중 따옴표 : 함수에 대한 설명 \n",
    "def text_cleaning(text:str)-> str:\n",
    "    '''\n",
    "    텍스트 정제 함수.\n",
    "    한글 이외의 문자는 전부 제거.\n",
    "    '''\n",
    "    # 한글 이외의 문자들 추출\n",
    "    # re 정규 표현식 (regex) : NLP 에서 기본 \n",
    "    # ㄱ ~ ㅣ 자음부터 모음까지 전부 포함 됨 \n",
    "    # 한글 조합 맨처음 : 가 / 맨마지막 : 힣 (한글 자음 모합 되는 모든 경우의 수)\n",
    "    # ^  얘네들을 제외한 나머지 (한글이 아닌 모든것들을 찾아냄 )\n",
    "    han = re.compile(\"[^ ㄱ - ㅣ 가-힣]+\")\n",
    "    # 한글 이외의 문자들 제거 #substitute  바꿔줌 \n",
    "    text = han.sub(\" \", text)\n",
    "    \n",
    "    return text"
   ]
  },
  {
   "cell_type": "code",
   "execution_count": 50,
   "id": "1f9c20b0",
   "metadata": {},
   "outputs": [
    {
     "data": {
      "text/plain": [
       "'테스트용 텍스트 정제 잘하고 있니     '"
      ]
     },
     "execution_count": 50,
     "metadata": {},
     "output_type": "execute_result"
    }
   ],
   "source": [
    "text_cleaning(\"테스트용 텍스트 정제 잘하고 있니?????help me 1234567\")"
   ]
  },
  {
   "cell_type": "code",
   "execution_count": 52,
   "id": "c11454aa",
   "metadata": {},
   "outputs": [],
   "source": [
    "# korean text\n",
    "df[\"ko_text\"] = df[\"review\"].map(text_cleaning)"
   ]
  },
  {
   "cell_type": "code",
   "execution_count": 58,
   "id": "77421532",
   "metadata": {},
   "outputs": [
    {
     "data": {
      "text/html": [
       "<div>\n",
       "<style scoped>\n",
       "    .dataframe tbody tr th:only-of-type {\n",
       "        vertical-align: middle;\n",
       "    }\n",
       "\n",
       "    .dataframe tbody tr th {\n",
       "        vertical-align: top;\n",
       "    }\n",
       "\n",
       "    .dataframe thead th {\n",
       "        text-align: right;\n",
       "    }\n",
       "</style>\n",
       "<table border=\"1\" class=\"dataframe\">\n",
       "  <thead>\n",
       "    <tr style=\"text-align: right;\">\n",
       "      <th></th>\n",
       "      <th>score</th>\n",
       "      <th>review</th>\n",
       "      <th>y</th>\n",
       "      <th>ko_text</th>\n",
       "    </tr>\n",
       "  </thead>\n",
       "  <tbody>\n",
       "    <tr>\n",
       "      <th>0</th>\n",
       "      <td>4</td>\n",
       "      <td>마늘바게트 맛있지만 너무 달아서 아쉬웠어요</td>\n",
       "      <td>1</td>\n",
       "      <td>마늘바게트 맛있지만 너무 달아서 아쉬웠어요</td>\n",
       "    </tr>\n",
       "    <tr>\n",
       "      <th>1</th>\n",
       "      <td>5</td>\n",
       "      <td>여기 밤식빵 진짜 밤 많이 들어가고 맛있는데 사진은 거의 마늘빵이네</td>\n",
       "      <td>1</td>\n",
       "      <td>여기 밤식빵 진짜 밤 많이 들어가고 맛있는데 사진은 거의 마늘빵이네</td>\n",
       "    </tr>\n",
       "    <tr>\n",
       "      <th>2</th>\n",
       "      <td>5</td>\n",
       "      <td>마늘바게트 진짜 개ㅐ개ㅐㅐㅐ맛있어요 \\n저녁에 방문했는데도 마늘바게트는 충분했습니다...</td>\n",
       "      <td>1</td>\n",
       "      <td>마늘바게트 진짜 개 개 맛있어요  저녁에 방문했는데도 마늘바게트는 충분했습니다 좀 ...</td>\n",
       "    </tr>\n",
       "    <tr>\n",
       "      <th>3</th>\n",
       "      <td>5</td>\n",
       "      <td>현재 기준, 맛으로 종합 1위 인정합니다. 다만, 마늘 바게트가 다른 곳보다 맛있지...</td>\n",
       "      <td>1</td>\n",
       "      <td>현재 기준  맛으로 종합  위 인정합니다  다만  마늘 바게트가 다른 곳보다 맛있지...</td>\n",
       "    </tr>\n",
       "    <tr>\n",
       "      <th>4</th>\n",
       "      <td>5</td>\n",
       "      <td>맛있음 ㅜㅜ 오픈때가야 따듯하고 진짜 존맛</td>\n",
       "      <td>1</td>\n",
       "      <td>맛있음   오픈때가야 따듯하고 진짜 존맛</td>\n",
       "    </tr>\n",
       "  </tbody>\n",
       "</table>\n",
       "</div>"
      ],
      "text/plain": [
       "   score                                             review  y  \\\n",
       "0      4                            마늘바게트 맛있지만 너무 달아서 아쉬웠어요  1   \n",
       "1      5              여기 밤식빵 진짜 밤 많이 들어가고 맛있는데 사진은 거의 마늘빵이네  1   \n",
       "2      5  마늘바게트 진짜 개ㅐ개ㅐㅐㅐ맛있어요 \\n저녁에 방문했는데도 마늘바게트는 충분했습니다...  1   \n",
       "3      5  현재 기준, 맛으로 종합 1위 인정합니다. 다만, 마늘 바게트가 다른 곳보다 맛있지...  1   \n",
       "4      5                            맛있음 ㅜㅜ 오픈때가야 따듯하고 진짜 존맛  1   \n",
       "\n",
       "                                             ko_text  \n",
       "0                            마늘바게트 맛있지만 너무 달아서 아쉬웠어요  \n",
       "1              여기 밤식빵 진짜 밤 많이 들어가고 맛있는데 사진은 거의 마늘빵이네  \n",
       "2  마늘바게트 진짜 개 개 맛있어요  저녁에 방문했는데도 마늘바게트는 충분했습니다 좀 ...  \n",
       "3  현재 기준  맛으로 종합  위 인정합니다  다만  마늘 바게트가 다른 곳보다 맛있지...  \n",
       "4                             맛있음   오픈때가야 따듯하고 진짜 존맛  "
      ]
     },
     "execution_count": 58,
     "metadata": {},
     "output_type": "execute_result"
    }
   ],
   "source": [
    "# 전처리로 인해 비어있는 텍스트가 많아짐 \n",
    "df.head()"
   ]
  },
  {
   "cell_type": "code",
   "execution_count": 56,
   "id": "2b1a26bf",
   "metadata": {},
   "outputs": [
    {
     "data": {
      "text/plain": [
       "(375, 4)"
      ]
     },
     "execution_count": 56,
     "metadata": {},
     "output_type": "execute_result"
    }
   ],
   "source": [
    "df.shape"
   ]
  },
  {
   "cell_type": "code",
   "execution_count": 59,
   "id": "275e777d",
   "metadata": {},
   "outputs": [],
   "source": [
    "# 내용이 없는 데이터 제거\n",
    "# text 길이가 0을 초과하는 경우에만 살려둠 \n",
    "df = df[df[\"ko_text\"].str.len() > 0]"
   ]
  },
  {
   "cell_type": "code",
   "execution_count": 62,
   "id": "4a67e154",
   "metadata": {},
   "outputs": [
    {
     "data": {
      "text/html": [
       "<div>\n",
       "<style scoped>\n",
       "    .dataframe tbody tr th:only-of-type {\n",
       "        vertical-align: middle;\n",
       "    }\n",
       "\n",
       "    .dataframe tbody tr th {\n",
       "        vertical-align: top;\n",
       "    }\n",
       "\n",
       "    .dataframe thead th {\n",
       "        text-align: right;\n",
       "    }\n",
       "</style>\n",
       "<table border=\"1\" class=\"dataframe\">\n",
       "  <thead>\n",
       "    <tr style=\"text-align: right;\">\n",
       "      <th></th>\n",
       "      <th>score</th>\n",
       "      <th>review</th>\n",
       "      <th>y</th>\n",
       "      <th>ko_text</th>\n",
       "    </tr>\n",
       "  </thead>\n",
       "  <tbody>\n",
       "    <tr>\n",
       "      <th>0</th>\n",
       "      <td>4</td>\n",
       "      <td>마늘바게트 맛있지만 너무 달아서 아쉬웠어요</td>\n",
       "      <td>1</td>\n",
       "      <td>마늘바게트 맛있지만 너무 달아서 아쉬웠어요</td>\n",
       "    </tr>\n",
       "    <tr>\n",
       "      <th>1</th>\n",
       "      <td>5</td>\n",
       "      <td>여기 밤식빵 진짜 밤 많이 들어가고 맛있는데 사진은 거의 마늘빵이네</td>\n",
       "      <td>1</td>\n",
       "      <td>여기 밤식빵 진짜 밤 많이 들어가고 맛있는데 사진은 거의 마늘빵이네</td>\n",
       "    </tr>\n",
       "    <tr>\n",
       "      <th>2</th>\n",
       "      <td>5</td>\n",
       "      <td>마늘바게트 진짜 개ㅐ개ㅐㅐㅐ맛있어요 \\n저녁에 방문했는데도 마늘바게트는 충분했습니다...</td>\n",
       "      <td>1</td>\n",
       "      <td>마늘바게트 진짜 개 개 맛있어요  저녁에 방문했는데도 마늘바게트는 충분했습니다 좀 ...</td>\n",
       "    </tr>\n",
       "    <tr>\n",
       "      <th>3</th>\n",
       "      <td>5</td>\n",
       "      <td>현재 기준, 맛으로 종합 1위 인정합니다. 다만, 마늘 바게트가 다른 곳보다 맛있지...</td>\n",
       "      <td>1</td>\n",
       "      <td>현재 기준  맛으로 종합  위 인정합니다  다만  마늘 바게트가 다른 곳보다 맛있지...</td>\n",
       "    </tr>\n",
       "    <tr>\n",
       "      <th>4</th>\n",
       "      <td>5</td>\n",
       "      <td>맛있음 ㅜㅜ 오픈때가야 따듯하고 진짜 존맛</td>\n",
       "      <td>1</td>\n",
       "      <td>맛있음   오픈때가야 따듯하고 진짜 존맛</td>\n",
       "    </tr>\n",
       "    <tr>\n",
       "      <th>6</th>\n",
       "      <td>5</td>\n",
       "      <td>마늘바게트 이외에 다른빵도 다 맛나요!\\n강릉점이랑 맛도 똑같아용</td>\n",
       "      <td>1</td>\n",
       "      <td>마늘바게트 이외에 다른빵도 다 맛나요 강릉점이랑 맛도 똑같아용</td>\n",
       "    </tr>\n",
       "    <tr>\n",
       "      <th>7</th>\n",
       "      <td>3</td>\n",
       "      <td>마늘바게트 정말 달고 기름져서 한번에 많이는 못 먹을 거 같아요! 그래도 맛있습니다</td>\n",
       "      <td>0</td>\n",
       "      <td>마늘바게트 정말 달고 기름져서 한번에 많이는 못 먹을 거 같아요  그래도 맛있습니다</td>\n",
       "    </tr>\n",
       "    <tr>\n",
       "      <th>11</th>\n",
       "      <td>5</td>\n",
       "      <td>여기서 먹은 마늘빵이 자꾸 생각나요&amp;hellip;</td>\n",
       "      <td>1</td>\n",
       "      <td>여기서 먹은 마늘빵이 자꾸 생각나요</td>\n",
       "    </tr>\n",
       "    <tr>\n",
       "      <th>12</th>\n",
       "      <td>5</td>\n",
       "      <td>맛있네요 ㅎ</td>\n",
       "      <td>1</td>\n",
       "      <td>맛있네요</td>\n",
       "    </tr>\n",
       "    <tr>\n",
       "      <th>13</th>\n",
       "      <td>5</td>\n",
       "      <td>모든 이들의 입맛을 맞추기 어려울 수 있지만\\n모든 손님에게 친절한.</td>\n",
       "      <td>1</td>\n",
       "      <td>모든 이들의 입맛을 맞추기 어려울 수 있지만 모든 손님에게 친절한</td>\n",
       "    </tr>\n",
       "  </tbody>\n",
       "</table>\n",
       "</div>"
      ],
      "text/plain": [
       "    score                                             review  y  \\\n",
       "0       4                            마늘바게트 맛있지만 너무 달아서 아쉬웠어요  1   \n",
       "1       5              여기 밤식빵 진짜 밤 많이 들어가고 맛있는데 사진은 거의 마늘빵이네  1   \n",
       "2       5  마늘바게트 진짜 개ㅐ개ㅐㅐㅐ맛있어요 \\n저녁에 방문했는데도 마늘바게트는 충분했습니다...  1   \n",
       "3       5  현재 기준, 맛으로 종합 1위 인정합니다. 다만, 마늘 바게트가 다른 곳보다 맛있지...  1   \n",
       "4       5                            맛있음 ㅜㅜ 오픈때가야 따듯하고 진짜 존맛  1   \n",
       "6       5               마늘바게트 이외에 다른빵도 다 맛나요!\\n강릉점이랑 맛도 똑같아용  1   \n",
       "7       3     마늘바게트 정말 달고 기름져서 한번에 많이는 못 먹을 거 같아요! 그래도 맛있습니다  0   \n",
       "11      5                        여기서 먹은 마늘빵이 자꾸 생각나요&hellip;  1   \n",
       "12      5                                             맛있네요 ㅎ  1   \n",
       "13      5             모든 이들의 입맛을 맞추기 어려울 수 있지만\\n모든 손님에게 친절한.  1   \n",
       "\n",
       "                                              ko_text  \n",
       "0                             마늘바게트 맛있지만 너무 달아서 아쉬웠어요  \n",
       "1               여기 밤식빵 진짜 밤 많이 들어가고 맛있는데 사진은 거의 마늘빵이네  \n",
       "2   마늘바게트 진짜 개 개 맛있어요  저녁에 방문했는데도 마늘바게트는 충분했습니다 좀 ...  \n",
       "3   현재 기준  맛으로 종합  위 인정합니다  다만  마늘 바게트가 다른 곳보다 맛있지...  \n",
       "4                              맛있음   오픈때가야 따듯하고 진짜 존맛  \n",
       "6                  마늘바게트 이외에 다른빵도 다 맛나요 강릉점이랑 맛도 똑같아용  \n",
       "7      마늘바게트 정말 달고 기름져서 한번에 많이는 못 먹을 거 같아요  그래도 맛있습니다  \n",
       "11                               여기서 먹은 마늘빵이 자꾸 생각나요   \n",
       "12                                             맛있네요    \n",
       "13              모든 이들의 입맛을 맞추기 어려울 수 있지만 모든 손님에게 친절한   "
      ]
     },
     "execution_count": 62,
     "metadata": {},
     "output_type": "execute_result"
    }
   ],
   "source": [
    "# 공백이 있는 데이터는 사라짐 \n",
    "df.head(10)"
   ]
  },
  {
   "cell_type": "code",
   "execution_count": 61,
   "id": "84d05487",
   "metadata": {},
   "outputs": [
    {
     "data": {
      "text/plain": [
       "(297, 4)"
      ]
     },
     "execution_count": 61,
     "metadata": {},
     "output_type": "execute_result"
    }
   ],
   "source": [
    "# 전처리 후 297개 남음 \n",
    "df.shape"
   ]
  },
  {
   "cell_type": "markdown",
   "id": "5093092e",
   "metadata": {},
   "source": [
    "## 형태소 추출 "
   ]
  },
  {
   "cell_type": "code",
   "execution_count": 63,
   "id": "76524dbc",
   "metadata": {},
   "outputs": [],
   "source": [
    "def get_pos(x):\n",
    "    '''\n",
    "    텍스트 데이터에서 형태소 추출하는 함수\n",
    "    '''\n",
    "    okt = Okt()\n",
    "    pos = okt.pos(x)\n",
    "    \n",
    "    # 텍스트 정보로 가공을 함 왼쪽은 단어 \n",
    "    pos = [f\"{word}/{tag}\" for word, tag in pos]\n",
    "    \n",
    "    return pos"
   ]
  },
  {
   "cell_type": "code",
   "execution_count": 64,
   "id": "be2c388e",
   "metadata": {},
   "outputs": [
    {
     "data": {
      "text/plain": [
       "[('집', 'Noun'), ('에', 'Josa'), ('가고', 'Verb'), ('싶다', 'Verb')]"
      ]
     },
     "execution_count": 64,
     "metadata": {},
     "output_type": "execute_result"
    }
   ],
   "source": [
    "okt.pos(\"집에 가고 싶다\")"
   ]
  },
  {
   "cell_type": "code",
   "execution_count": 65,
   "id": "12c56583",
   "metadata": {},
   "outputs": [
    {
     "data": {
      "text/plain": [
       "['마늘/Noun',\n",
       " '바게트/Noun',\n",
       " '맛있지만/Adjective',\n",
       " '너무/Adverb',\n",
       " '달아서/Verb',\n",
       " '아쉬웠어요/Adjective']"
      ]
     },
     "execution_count": 65,
     "metadata": {},
     "output_type": "execute_result"
    }
   ],
   "source": [
    "# 텍스트2\n",
    "result = get_pos(df[\"ko_text\"].values[0])\n",
    "result"
   ]
  },
  {
   "cell_type": "markdown",
   "id": "bf26623f",
   "metadata": {},
   "source": [
    "- 단어가 너무 많기 때문에 one-hot encoding 은 불가"
   ]
  },
  {
   "cell_type": "markdown",
   "id": "8a12cf64",
   "metadata": {},
   "source": [
    "## 텍스트 임베딩 \n",
    "\n",
    "- 텍스트 데이터를 연산이 가능한 피처로 변환 "
   ]
  },
  {
   "cell_type": "code",
   "execution_count": 66,
   "id": "e233f7f1",
   "metadata": {},
   "outputs": [
    {
     "data": {
      "text/plain": [
       "(297, 4)"
      ]
     },
     "execution_count": 66,
     "metadata": {},
     "output_type": "execute_result"
    }
   ],
   "source": [
    "# 297개의 문서\n",
    "df.shape"
   ]
  },
  {
   "cell_type": "markdown",
   "id": "c2d3d986",
   "metadata": {},
   "source": [
    "### TF-IDF(Term Frequency-Inverse Document Frequency)\n",
    "\n",
    "- 단어의 빈도와 역문서 빈도를 사용하여 각 단어들의 중요도를 가중치로 주는 방법 \n",
    "- TF : 1개의 문서(문장) 내에서 특정 단어의 등장 빈도\n",
    "- DF : 특정 단어가 등장한 문서 수\n",
    "- IDF : DF에 반비례하는 수\n",
    "- 다른 문서들에서는 많이 등장하지 않았지만 현재 문서에서는 많이 등장하는 단어를 의미\n",
    "    - 해당 단어가 현재 문서에서 얼마나 중요한지를 계산하는 방법 "
   ]
  },
  {
   "cell_type": "code",
   "execution_count": 67,
   "id": "66b3abe3",
   "metadata": {},
   "outputs": [],
   "source": [
    "x = df[\"ko_text\"]\n",
    "y = df[\"y\"]"
   ]
  },
  {
   "cell_type": "code",
   "execution_count": 68,
   "id": "44fc8c24",
   "metadata": {},
   "outputs": [],
   "source": [
    "# 실제로 서비스에 적용한다고 치면 테스트하게 되는 데이터는 TF -IDF 계산될수 없는 녀석들\n",
    "x_train, x_test, y_train, y_test = train_test_split(x, y, test_size = 0.3, random_state = 11)"
   ]
  },
  {
   "cell_type": "code",
   "execution_count": 69,
   "id": "582ee1fd",
   "metadata": {},
   "outputs": [
    {
     "data": {
      "text/plain": [
       "207"
      ]
     },
     "execution_count": 69,
     "metadata": {},
     "output_type": "execute_result"
    }
   ],
   "source": [
    "# 훈련 데이터 207개\n",
    "len(x_train)"
   ]
  },
  {
   "cell_type": "code",
   "execution_count": 70,
   "id": "43e5697b",
   "metadata": {},
   "outputs": [],
   "source": [
    "tfidf = TfidfVectorizer() # tfidf객체를 만들고\n",
    "tf_train = tfidf.fit_transform(x_train)\n",
    "tf_test = tfidf.transform(x_test)"
   ]
  },
  {
   "cell_type": "code",
   "execution_count": 72,
   "id": "4e4ab8f4",
   "metadata": {},
   "outputs": [
    {
     "data": {
      "text/plain": [
       "(207, 1949)"
      ]
     },
     "execution_count": 72,
     "metadata": {},
     "output_type": "execute_result"
    }
   ],
   "source": [
    "tf_train.shape"
   ]
  },
  {
   "cell_type": "code",
   "execution_count": 73,
   "id": "f44ed8c2",
   "metadata": {},
   "outputs": [
    {
     "data": {
      "text/plain": [
       "scipy.sparse._csr.csr_matrix"
      ]
     },
     "execution_count": 73,
     "metadata": {},
     "output_type": "execute_result"
    }
   ],
   "source": [
    "# sparse_csr_matrix 는 눈으로 확인하기가 힘듦\n",
    "type(tf_train)"
   ]
  },
  {
   "cell_type": "code",
   "execution_count": 75,
   "id": "1aacbbf5",
   "metadata": {},
   "outputs": [
    {
     "data": {
      "text/html": [
       "<div>\n",
       "<style scoped>\n",
       "    .dataframe tbody tr th:only-of-type {\n",
       "        vertical-align: middle;\n",
       "    }\n",
       "\n",
       "    .dataframe tbody tr th {\n",
       "        vertical-align: top;\n",
       "    }\n",
       "\n",
       "    .dataframe thead th {\n",
       "        text-align: right;\n",
       "    }\n",
       "</style>\n",
       "<table border=\"1\" class=\"dataframe\">\n",
       "  <thead>\n",
       "    <tr style=\"text-align: right;\">\n",
       "      <th></th>\n",
       "      <th>0</th>\n",
       "    </tr>\n",
       "  </thead>\n",
       "  <tbody>\n",
       "    <tr>\n",
       "      <th>0</th>\n",
       "      <td>(0, 1892)\\t0.16309887472276624\\n  (0, 1820)\\...</td>\n",
       "    </tr>\n",
       "    <tr>\n",
       "      <th>1</th>\n",
       "      <td>(0, 681)\\t0.18916594627701047\\n  (0, 1289)\\t...</td>\n",
       "    </tr>\n",
       "    <tr>\n",
       "      <th>2</th>\n",
       "      <td>(0, 1020)\\t0.45362392188471173\\n  (0, 242)\\t...</td>\n",
       "    </tr>\n",
       "    <tr>\n",
       "      <th>3</th>\n",
       "      <td>(0, 842)\\t1.0</td>\n",
       "    </tr>\n",
       "    <tr>\n",
       "      <th>4</th>\n",
       "      <td>(0, 1058)\\t0.22896267707609386\\n  (0, 643)\\t...</td>\n",
       "    </tr>\n",
       "    <tr>\n",
       "      <th>...</th>\n",
       "      <td>...</td>\n",
       "    </tr>\n",
       "    <tr>\n",
       "      <th>202</th>\n",
       "      <td>(0, 536)\\t0.4472135954999579\\n  (0, 1299)\\t0...</td>\n",
       "    </tr>\n",
       "    <tr>\n",
       "      <th>203</th>\n",
       "      <td>(0, 1620)\\t0.37202186878579785\\n  (0, 1812)\\...</td>\n",
       "    </tr>\n",
       "    <tr>\n",
       "      <th>204</th>\n",
       "      <td>(0, 963)\\t0.17682047602423914\\n  (0, 668)\\t0...</td>\n",
       "    </tr>\n",
       "    <tr>\n",
       "      <th>205</th>\n",
       "      <td>(0, 1804)\\t0.7208689837258179\\n  (0, 597)\\t0...</td>\n",
       "    </tr>\n",
       "    <tr>\n",
       "      <th>206</th>\n",
       "      <td>(0, 1240)\\t0.41772910803605684\\n  (0, 752)\\t...</td>\n",
       "    </tr>\n",
       "  </tbody>\n",
       "</table>\n",
       "<p>207 rows × 1 columns</p>\n",
       "</div>"
      ],
      "text/plain": [
       "                                                     0\n",
       "0      (0, 1892)\\t0.16309887472276624\\n  (0, 1820)\\...\n",
       "1      (0, 681)\\t0.18916594627701047\\n  (0, 1289)\\t...\n",
       "2      (0, 1020)\\t0.45362392188471173\\n  (0, 242)\\t...\n",
       "3                                        (0, 842)\\t1.0\n",
       "4      (0, 1058)\\t0.22896267707609386\\n  (0, 643)\\t...\n",
       "..                                                 ...\n",
       "202    (0, 536)\\t0.4472135954999579\\n  (0, 1299)\\t0...\n",
       "203    (0, 1620)\\t0.37202186878579785\\n  (0, 1812)\\...\n",
       "204    (0, 963)\\t0.17682047602423914\\n  (0, 668)\\t0...\n",
       "205    (0, 1804)\\t0.7208689837258179\\n  (0, 597)\\t0...\n",
       "206    (0, 1240)\\t0.41772910803605684\\n  (0, 752)\\t...\n",
       "\n",
       "[207 rows x 1 columns]"
      ]
     },
     "execution_count": 75,
     "metadata": {},
     "output_type": "execute_result"
    }
   ],
   "source": [
    "# 눈으로 봐도 잘 이해가 안됨 원래그런거임 \n",
    "pd.DataFrame(tf_train)"
   ]
  },
  {
   "cell_type": "markdown",
   "id": "813082dd",
   "metadata": {},
   "source": [
    "- tfidf로 데이터로 잘 전환했다면 전부 다 숫자형의 데이터로 바뀜, 이제는 문제없이 모델훈련 가능 "
   ]
  },
  {
   "cell_type": "markdown",
   "id": "35e25634",
   "metadata": {},
   "source": [
    "## 모델 훈련"
   ]
  },
  {
   "cell_type": "code",
   "execution_count": 76,
   "id": "94914b97",
   "metadata": {},
   "outputs": [
    {
     "data": {
      "text/html": [
       "<style>#sk-container-id-1 {color: black;}#sk-container-id-1 pre{padding: 0;}#sk-container-id-1 div.sk-toggleable {background-color: white;}#sk-container-id-1 label.sk-toggleable__label {cursor: pointer;display: block;width: 100%;margin-bottom: 0;padding: 0.3em;box-sizing: border-box;text-align: center;}#sk-container-id-1 label.sk-toggleable__label-arrow:before {content: \"▸\";float: left;margin-right: 0.25em;color: #696969;}#sk-container-id-1 label.sk-toggleable__label-arrow:hover:before {color: black;}#sk-container-id-1 div.sk-estimator:hover label.sk-toggleable__label-arrow:before {color: black;}#sk-container-id-1 div.sk-toggleable__content {max-height: 0;max-width: 0;overflow: hidden;text-align: left;background-color: #f0f8ff;}#sk-container-id-1 div.sk-toggleable__content pre {margin: 0.2em;color: black;border-radius: 0.25em;background-color: #f0f8ff;}#sk-container-id-1 input.sk-toggleable__control:checked~div.sk-toggleable__content {max-height: 200px;max-width: 100%;overflow: auto;}#sk-container-id-1 input.sk-toggleable__control:checked~label.sk-toggleable__label-arrow:before {content: \"▾\";}#sk-container-id-1 div.sk-estimator input.sk-toggleable__control:checked~label.sk-toggleable__label {background-color: #d4ebff;}#sk-container-id-1 div.sk-label input.sk-toggleable__control:checked~label.sk-toggleable__label {background-color: #d4ebff;}#sk-container-id-1 input.sk-hidden--visually {border: 0;clip: rect(1px 1px 1px 1px);clip: rect(1px, 1px, 1px, 1px);height: 1px;margin: -1px;overflow: hidden;padding: 0;position: absolute;width: 1px;}#sk-container-id-1 div.sk-estimator {font-family: monospace;background-color: #f0f8ff;border: 1px dotted black;border-radius: 0.25em;box-sizing: border-box;margin-bottom: 0.5em;}#sk-container-id-1 div.sk-estimator:hover {background-color: #d4ebff;}#sk-container-id-1 div.sk-parallel-item::after {content: \"\";width: 100%;border-bottom: 1px solid gray;flex-grow: 1;}#sk-container-id-1 div.sk-label:hover label.sk-toggleable__label {background-color: #d4ebff;}#sk-container-id-1 div.sk-serial::before {content: \"\";position: absolute;border-left: 1px solid gray;box-sizing: border-box;top: 0;bottom: 0;left: 50%;z-index: 0;}#sk-container-id-1 div.sk-serial {display: flex;flex-direction: column;align-items: center;background-color: white;padding-right: 0.2em;padding-left: 0.2em;position: relative;}#sk-container-id-1 div.sk-item {position: relative;z-index: 1;}#sk-container-id-1 div.sk-parallel {display: flex;align-items: stretch;justify-content: center;background-color: white;position: relative;}#sk-container-id-1 div.sk-item::before, #sk-container-id-1 div.sk-parallel-item::before {content: \"\";position: absolute;border-left: 1px solid gray;box-sizing: border-box;top: 0;bottom: 0;left: 50%;z-index: -1;}#sk-container-id-1 div.sk-parallel-item {display: flex;flex-direction: column;z-index: 1;position: relative;background-color: white;}#sk-container-id-1 div.sk-parallel-item:first-child::after {align-self: flex-end;width: 50%;}#sk-container-id-1 div.sk-parallel-item:last-child::after {align-self: flex-start;width: 50%;}#sk-container-id-1 div.sk-parallel-item:only-child::after {width: 0;}#sk-container-id-1 div.sk-dashed-wrapped {border: 1px dashed gray;margin: 0 0.4em 0.5em 0.4em;box-sizing: border-box;padding-bottom: 0.4em;background-color: white;}#sk-container-id-1 div.sk-label label {font-family: monospace;font-weight: bold;display: inline-block;line-height: 1.2em;}#sk-container-id-1 div.sk-label-container {text-align: center;}#sk-container-id-1 div.sk-container {/* jupyter's `normalize.less` sets `[hidden] { display: none; }` but bootstrap.min.css set `[hidden] { display: none !important; }` so we also need the `!important` here to be able to override the default hidden behavior on the sphinx rendered scikit-learn.org. See: https://github.com/scikit-learn/scikit-learn/issues/21755 */display: inline-block !important;position: relative;}#sk-container-id-1 div.sk-text-repr-fallback {display: none;}</style><div id=\"sk-container-id-1\" class=\"sk-top-container\"><div class=\"sk-text-repr-fallback\"><pre>LogisticRegression()</pre><b>In a Jupyter environment, please rerun this cell to show the HTML representation or trust the notebook. <br />On GitHub, the HTML representation is unable to render, please try loading this page with nbviewer.org.</b></div><div class=\"sk-container\" hidden><div class=\"sk-item\"><div class=\"sk-estimator sk-toggleable\"><input class=\"sk-toggleable__control sk-hidden--visually\" id=\"sk-estimator-id-1\" type=\"checkbox\" checked><label for=\"sk-estimator-id-1\" class=\"sk-toggleable__label sk-toggleable__label-arrow\">LogisticRegression</label><div class=\"sk-toggleable__content\"><pre>LogisticRegression()</pre></div></div></div></div></div>"
      ],
      "text/plain": [
       "LogisticRegression()"
      ]
     },
     "execution_count": 76,
     "metadata": {},
     "output_type": "execute_result"
    }
   ],
   "source": [
    "# 정답값이 부정적인지 긍정인지 \n",
    "logi = LogisticRegression()\n",
    "logi.fit(tf_train, y_train)"
   ]
  },
  {
   "cell_type": "code",
   "execution_count": 77,
   "id": "6ec50227",
   "metadata": {},
   "outputs": [],
   "source": [
    "# 예측치 (결정확률까지 proba)\n",
    "pred = logi.predict(tf_test)\n",
    "proba = logi.predict_proba(tf_test)[:, 1]"
   ]
  },
  {
   "cell_type": "code",
   "execution_count": 78,
   "id": "ff6383c4",
   "metadata": {},
   "outputs": [
    {
     "name": "stdout",
     "output_type": "stream",
     "text": [
      "0.6444444444444445\n",
      "0.7808219178082192\n"
     ]
    }
   ],
   "source": [
    "# 처참한 정확도 \n",
    "print(accuracy_score(y_test, pred))\n",
    "print(f1_score(y_test, pred))"
   ]
  },
  {
   "cell_type": "code",
   "execution_count": 79,
   "id": "d4e6bf8e",
   "metadata": {},
   "outputs": [
    {
     "name": "stdout",
     "output_type": "stream",
     "text": [
      "[[ 1 32]\n",
      " [ 0 57]]\n"
     ]
    }
   ],
   "source": [
    "# 혼동행렬 \n",
    "comat = confusion_matrix(y_test, pred)\n",
    "print(comat)"
   ]
  },
  {
   "cell_type": "code",
   "execution_count": 80,
   "id": "8a4609c0",
   "metadata": {},
   "outputs": [
    {
     "data": {
      "text/html": [
       "<div>\n",
       "<style scoped>\n",
       "    .dataframe tbody tr th:only-of-type {\n",
       "        vertical-align: middle;\n",
       "    }\n",
       "\n",
       "    .dataframe tbody tr th {\n",
       "        vertical-align: top;\n",
       "    }\n",
       "\n",
       "    .dataframe thead th {\n",
       "        text-align: right;\n",
       "    }\n",
       "</style>\n",
       "<table border=\"1\" class=\"dataframe\">\n",
       "  <thead>\n",
       "    <tr style=\"text-align: right;\">\n",
       "      <th></th>\n",
       "      <th>text</th>\n",
       "      <th>pred</th>\n",
       "    </tr>\n",
       "  </thead>\n",
       "  <tbody>\n",
       "    <tr>\n",
       "      <th>325</th>\n",
       "      <td>우래옥 냉면 맛이 변해서 슬펐는데 여기로 갈아탑니다</td>\n",
       "      <td>1</td>\n",
       "    </tr>\n",
       "    <tr>\n",
       "      <th>282</th>\n",
       "      <td>간짜장 좋아요</td>\n",
       "      <td>1</td>\n",
       "    </tr>\n",
       "    <tr>\n",
       "      <th>92</th>\n",
       "      <td>많이 달지않고 숙숙 들어가요 하나만 시켜먹어봤는데 다른 파이도 먹어보고 싶어요</td>\n",
       "      <td>1</td>\n",
       "    </tr>\n",
       "    <tr>\n",
       "      <th>152</th>\n",
       "      <td>바퀴로 보이는 벌레</td>\n",
       "      <td>1</td>\n",
       "    </tr>\n",
       "    <tr>\n",
       "      <th>83</th>\n",
       "      <td>디저트 추천</td>\n",
       "      <td>1</td>\n",
       "    </tr>\n",
       "    <tr>\n",
       "      <th>...</th>\n",
       "      <td>...</td>\n",
       "      <td>...</td>\n",
       "    </tr>\n",
       "    <tr>\n",
       "      <th>24</th>\n",
       "      <td>나의  년  월  일 첫 먹방은 그간 너무너무너무 먹고 싶었던  만동제과 마늘바게트...</td>\n",
       "      <td>1</td>\n",
       "    </tr>\n",
       "    <tr>\n",
       "      <th>274</th>\n",
       "      <td>부추곱창  배바위양곱창 없을땐 자주 갔지만 이젠 굳이 위생 별로  강매 별로 밀건 ...</td>\n",
       "      <td>1</td>\n",
       "    </tr>\n",
       "    <tr>\n",
       "      <th>56</th>\n",
       "      <td>돈까스 고기는 괜찮아요  야채소스  미소국이 묽어서 맛이 안 남  물도 천원에  병...</td>\n",
       "      <td>1</td>\n",
       "    </tr>\n",
       "    <tr>\n",
       "      <th>272</th>\n",
       "      <td>여긴 막창이 진리</td>\n",
       "      <td>1</td>\n",
       "    </tr>\n",
       "    <tr>\n",
       "      <th>36</th>\n",
       "      <td>맛없음  불친절함  위생 더러움 그냥 여기는 절대 가지마세요 주변에 가격 비슷한...</td>\n",
       "      <td>1</td>\n",
       "    </tr>\n",
       "  </tbody>\n",
       "</table>\n",
       "<p>90 rows × 2 columns</p>\n",
       "</div>"
      ],
      "text/plain": [
       "                                                  text  pred\n",
       "325                       우래옥 냉면 맛이 변해서 슬펐는데 여기로 갈아탑니다     1\n",
       "282                                            간짜장 좋아요     1\n",
       "92         많이 달지않고 숙숙 들어가요 하나만 시켜먹어봤는데 다른 파이도 먹어보고 싶어요     1\n",
       "152                                         바퀴로 보이는 벌레     1\n",
       "83                                              디저트 추천     1\n",
       "..                                                 ...   ...\n",
       "24   나의  년  월  일 첫 먹방은 그간 너무너무너무 먹고 싶었던  만동제과 마늘바게트...     1\n",
       "274  부추곱창  배바위양곱창 없을땐 자주 갔지만 이젠 굳이 위생 별로  강매 별로 밀건 ...     1\n",
       "56   돈까스 고기는 괜찮아요  야채소스  미소국이 묽어서 맛이 안 남  물도 천원에  병...     1\n",
       "272                                          여긴 막창이 진리     1\n",
       "36     맛없음  불친절함  위생 더러움 그냥 여기는 절대 가지마세요 주변에 가격 비슷한...     1\n",
       "\n",
       "[90 rows x 2 columns]"
      ]
     },
     "execution_count": 80,
     "metadata": {},
     "output_type": "execute_result"
    }
   ],
   "source": [
    "# 1긍정\n",
    "# 바선생이 보이는데도 불구하고 1 \n",
    "# 절대가지마세요도 긍정 ㄷ ㄷ\n",
    "pd.DataFrame({\"text\" : x_test, \"pred\": pred})"
   ]
  },
  {
   "cell_type": "markdown",
   "id": "2aa8ef67",
   "metadata": {},
   "source": [
    "# 모델 최적화 "
   ]
  },
  {
   "cell_type": "code",
   "execution_count": 81,
   "id": "cc371047",
   "metadata": {},
   "outputs": [
    {
     "data": {
      "text/plain": [
       "y\n",
       "1    186\n",
       "0    111\n",
       "Name: count, dtype: int64"
      ]
     },
     "execution_count": 81,
     "metadata": {},
     "output_type": "execute_result"
    }
   ],
   "source": [
    "# 1 :1 비율로 랜덤샘플링 수행 \n",
    "# 긍정이 186, 부정이 111개 -> 이것을 1:1 비율로 맞출것임 \n",
    "df[\"y\"].value_counts()"
   ]
  },
  {
   "cell_type": "code",
   "execution_count": 82,
   "id": "37b3b7ea",
   "metadata": {},
   "outputs": [],
   "source": [
    "# sample : 표본 추출, 랜덤으로 값을 추출하는 것 \n",
    "pos_idx = df[df[\"y\"] == 1].sample(111, random_state = 11).index.tolist()\n",
    "neg_idx = df[df[\"y\"] == 0].index.tolist()"
   ]
  },
  {
   "cell_type": "code",
   "execution_count": 84,
   "id": "761f08e5",
   "metadata": {},
   "outputs": [],
   "source": [
    "# 긍정적인 문장들의 index와 부정적 index 를 1:! 섞음 \n",
    "random_idx = pos_idx + neg_idx\n",
    "sample_x = df[\"ko_text\"][random_idx]\n",
    "sample_y = df[\"y\"][random_idx]"
   ]
  },
  {
   "cell_type": "code",
   "execution_count": 85,
   "id": "35f4189a",
   "metadata": {},
   "outputs": [
    {
     "data": {
      "text/plain": [
       "(222, 222)"
      ]
     },
     "execution_count": 85,
     "metadata": {},
     "output_type": "execute_result"
    }
   ],
   "source": [
    "# 1:1 비율 성공 \n",
    "len(sample_x), len(sample_y)"
   ]
  },
  {
   "cell_type": "code",
   "execution_count": 86,
   "id": "83bc8d0f",
   "metadata": {},
   "outputs": [],
   "source": [
    "x_train, x_test, y_train, y_test = train_test_split(sample_x, sample_y, test_size = 0.3, \n",
    "                                                    stratify = sample_y, random_state = 11)"
   ]
  },
  {
   "cell_type": "code",
   "execution_count": 89,
   "id": "714d1c48",
   "metadata": {},
   "outputs": [
    {
     "data": {
      "text/plain": [
       "195                           괜찮긴 한데  가격보다 뛰어난 맛은 아님 혼밥 \n",
       "197                                  생선구이 맛있음  오징어볶음 맛도리\n",
       "189    비린내 없이 맛있고 대 주차 가능한데 갈 때마다 자리 있어서 편하게 주차함 신촌에서...\n",
       "362    불친절하고 위생적이지 않다는 분들 근처에 바지락 수제비 파는곳 한번 가보시길 언급한...\n",
       "179                  가성비는 좀 아쉽지만 그래도 맛있어요  집밥 생각날 때 좋아요 \n",
       "                             ...                        \n",
       "314                      맛있고 가격도 합리적이에요 다만 친절함은 기대하지 마세요\n",
       "323    가성비 맛집  직원들도 친절해요  무엇보다 맛있어요  특히 저 꽃게 로제는 정말 맛...\n",
       "112               라구가 생소하니까 신선할 수 있음 근데 라구하는 곳 중에선 그냥 그럼\n",
       "286    첫 식사로 먹다가 매워서 힘듦 매운 홍합 볶음 양념은 맛있으나 홍합살이 작아서 실망...\n",
       "332                            양곰탕은 양도 많고 맛있어요  소고기는 비추 \n",
       "Name: ko_text, Length: 155, dtype: object"
      ]
     },
     "execution_count": 89,
     "metadata": {},
     "output_type": "execute_result"
    }
   ],
   "source": [
    "x_train"
   ]
  },
  {
   "cell_type": "code",
   "execution_count": 87,
   "id": "0f83db93",
   "metadata": {},
   "outputs": [],
   "source": [
    "tfidf = TfidfVectorizer()\n",
    "tf_train = tfidf.fit_transform(x_train)\n",
    "tf_test = tfidf.transform(x_test)"
   ]
  },
  {
   "cell_type": "code",
   "execution_count": 88,
   "id": "77782091",
   "metadata": {},
   "outputs": [
    {
     "data": {
      "text/html": [
       "<style>#sk-container-id-2 {color: black;}#sk-container-id-2 pre{padding: 0;}#sk-container-id-2 div.sk-toggleable {background-color: white;}#sk-container-id-2 label.sk-toggleable__label {cursor: pointer;display: block;width: 100%;margin-bottom: 0;padding: 0.3em;box-sizing: border-box;text-align: center;}#sk-container-id-2 label.sk-toggleable__label-arrow:before {content: \"▸\";float: left;margin-right: 0.25em;color: #696969;}#sk-container-id-2 label.sk-toggleable__label-arrow:hover:before {color: black;}#sk-container-id-2 div.sk-estimator:hover label.sk-toggleable__label-arrow:before {color: black;}#sk-container-id-2 div.sk-toggleable__content {max-height: 0;max-width: 0;overflow: hidden;text-align: left;background-color: #f0f8ff;}#sk-container-id-2 div.sk-toggleable__content pre {margin: 0.2em;color: black;border-radius: 0.25em;background-color: #f0f8ff;}#sk-container-id-2 input.sk-toggleable__control:checked~div.sk-toggleable__content {max-height: 200px;max-width: 100%;overflow: auto;}#sk-container-id-2 input.sk-toggleable__control:checked~label.sk-toggleable__label-arrow:before {content: \"▾\";}#sk-container-id-2 div.sk-estimator input.sk-toggleable__control:checked~label.sk-toggleable__label {background-color: #d4ebff;}#sk-container-id-2 div.sk-label input.sk-toggleable__control:checked~label.sk-toggleable__label {background-color: #d4ebff;}#sk-container-id-2 input.sk-hidden--visually {border: 0;clip: rect(1px 1px 1px 1px);clip: rect(1px, 1px, 1px, 1px);height: 1px;margin: -1px;overflow: hidden;padding: 0;position: absolute;width: 1px;}#sk-container-id-2 div.sk-estimator {font-family: monospace;background-color: #f0f8ff;border: 1px dotted black;border-radius: 0.25em;box-sizing: border-box;margin-bottom: 0.5em;}#sk-container-id-2 div.sk-estimator:hover {background-color: #d4ebff;}#sk-container-id-2 div.sk-parallel-item::after {content: \"\";width: 100%;border-bottom: 1px solid gray;flex-grow: 1;}#sk-container-id-2 div.sk-label:hover label.sk-toggleable__label {background-color: #d4ebff;}#sk-container-id-2 div.sk-serial::before {content: \"\";position: absolute;border-left: 1px solid gray;box-sizing: border-box;top: 0;bottom: 0;left: 50%;z-index: 0;}#sk-container-id-2 div.sk-serial {display: flex;flex-direction: column;align-items: center;background-color: white;padding-right: 0.2em;padding-left: 0.2em;position: relative;}#sk-container-id-2 div.sk-item {position: relative;z-index: 1;}#sk-container-id-2 div.sk-parallel {display: flex;align-items: stretch;justify-content: center;background-color: white;position: relative;}#sk-container-id-2 div.sk-item::before, #sk-container-id-2 div.sk-parallel-item::before {content: \"\";position: absolute;border-left: 1px solid gray;box-sizing: border-box;top: 0;bottom: 0;left: 50%;z-index: -1;}#sk-container-id-2 div.sk-parallel-item {display: flex;flex-direction: column;z-index: 1;position: relative;background-color: white;}#sk-container-id-2 div.sk-parallel-item:first-child::after {align-self: flex-end;width: 50%;}#sk-container-id-2 div.sk-parallel-item:last-child::after {align-self: flex-start;width: 50%;}#sk-container-id-2 div.sk-parallel-item:only-child::after {width: 0;}#sk-container-id-2 div.sk-dashed-wrapped {border: 1px dashed gray;margin: 0 0.4em 0.5em 0.4em;box-sizing: border-box;padding-bottom: 0.4em;background-color: white;}#sk-container-id-2 div.sk-label label {font-family: monospace;font-weight: bold;display: inline-block;line-height: 1.2em;}#sk-container-id-2 div.sk-label-container {text-align: center;}#sk-container-id-2 div.sk-container {/* jupyter's `normalize.less` sets `[hidden] { display: none; }` but bootstrap.min.css set `[hidden] { display: none !important; }` so we also need the `!important` here to be able to override the default hidden behavior on the sphinx rendered scikit-learn.org. See: https://github.com/scikit-learn/scikit-learn/issues/21755 */display: inline-block !important;position: relative;}#sk-container-id-2 div.sk-text-repr-fallback {display: none;}</style><div id=\"sk-container-id-2\" class=\"sk-top-container\"><div class=\"sk-text-repr-fallback\"><pre>LogisticRegression()</pre><b>In a Jupyter environment, please rerun this cell to show the HTML representation or trust the notebook. <br />On GitHub, the HTML representation is unable to render, please try loading this page with nbviewer.org.</b></div><div class=\"sk-container\" hidden><div class=\"sk-item\"><div class=\"sk-estimator sk-toggleable\"><input class=\"sk-toggleable__control sk-hidden--visually\" id=\"sk-estimator-id-2\" type=\"checkbox\" checked><label for=\"sk-estimator-id-2\" class=\"sk-toggleable__label sk-toggleable__label-arrow\">LogisticRegression</label><div class=\"sk-toggleable__content\"><pre>LogisticRegression()</pre></div></div></div></div></div>"
      ],
      "text/plain": [
       "LogisticRegression()"
      ]
     },
     "execution_count": 88,
     "metadata": {},
     "output_type": "execute_result"
    }
   ],
   "source": [
    "logi = LogisticRegression()\n",
    "logi.fit(tf_train, y_train)"
   ]
  },
  {
   "cell_type": "code",
   "execution_count": 90,
   "id": "eaf3d6ba",
   "metadata": {},
   "outputs": [],
   "source": [
    "pred = logi.predict(tf_test)\n",
    "proba = logi.predict_proba(tf_test)[:, 1]"
   ]
  },
  {
   "cell_type": "code",
   "execution_count": 91,
   "id": "76ba64d6",
   "metadata": {},
   "outputs": [
    {
     "name": "stdout",
     "output_type": "stream",
     "text": [
      "0.6417910447761194\n",
      "0.5862068965517241\n"
     ]
    }
   ],
   "source": [
    "print(accuracy_score(y_test, pred))\n",
    "print(f1_score(y_test, pred))"
   ]
  },
  {
   "cell_type": "code",
   "execution_count": 92,
   "id": "b7b71d9a",
   "metadata": {},
   "outputs": [
    {
     "name": "stdout",
     "output_type": "stream",
     "text": [
      "[[26  7]\n",
      " [17 17]]\n"
     ]
    }
   ],
   "source": [
    "comat = confusion_matrix(y_test, pred)\n",
    "print(comat)"
   ]
  },
  {
   "cell_type": "code",
   "execution_count": 93,
   "id": "84f629bd",
   "metadata": {},
   "outputs": [
    {
     "data": {
      "text/html": [
       "<div>\n",
       "<style scoped>\n",
       "    .dataframe tbody tr th:only-of-type {\n",
       "        vertical-align: middle;\n",
       "    }\n",
       "\n",
       "    .dataframe tbody tr th {\n",
       "        vertical-align: top;\n",
       "    }\n",
       "\n",
       "    .dataframe thead th {\n",
       "        text-align: right;\n",
       "    }\n",
       "</style>\n",
       "<table border=\"1\" class=\"dataframe\">\n",
       "  <thead>\n",
       "    <tr style=\"text-align: right;\">\n",
       "      <th></th>\n",
       "      <th>text</th>\n",
       "      <th>pred</th>\n",
       "    </tr>\n",
       "  </thead>\n",
       "  <tbody>\n",
       "    <tr>\n",
       "      <th>274</th>\n",
       "      <td>부추곱창  배바위양곱창 없을땐 자주 갔지만 이젠 굳이 위생 별로  강매 별로 밀건 ...</td>\n",
       "      <td>0</td>\n",
       "    </tr>\n",
       "    <tr>\n",
       "      <th>266</th>\n",
       "      <td>대창 막창 보다는 곱창이 맛있어요 다만 토요일에는 볶음밥 주문 안된다고 하시는데 물...</td>\n",
       "      <td>1</td>\n",
       "    </tr>\n",
       "    <tr>\n",
       "      <th>200</th>\n",
       "      <td>음료 비싸지만 공부하기 조음</td>\n",
       "      <td>0</td>\n",
       "    </tr>\n",
       "    <tr>\n",
       "      <th>120</th>\n",
       "      <td>말모 존맛탱임 양은 조금 적은게 단점  메뉴가 딱 라구파스타 라자냐 두개지만 둘 다...</td>\n",
       "      <td>1</td>\n",
       "    </tr>\n",
       "    <tr>\n",
       "      <th>77</th>\n",
       "      <td>맛있어서 종종 사먹는데 사먹을 때마다 위생 장갑 낀 손으로 카드 받고 진동벨 주심 ...</td>\n",
       "      <td>0</td>\n",
       "    </tr>\n",
       "    <tr>\n",
       "      <th>...</th>\n",
       "      <td>...</td>\n",
       "      <td>...</td>\n",
       "    </tr>\n",
       "    <tr>\n",
       "      <th>32</th>\n",
       "      <td>갈비를 정말 맛있는 굽기로 구워주셔서 좋았던 가게입니다 고기의 질도 좋았고 전체적으...</td>\n",
       "      <td>0</td>\n",
       "    </tr>\n",
       "    <tr>\n",
       "      <th>298</th>\n",
       "      <td>와 가게 입구부터 너무 지저분해요  전체적으로  낡았는데 전혀 관리되지 않은 느낌입...</td>\n",
       "      <td>0</td>\n",
       "    </tr>\n",
       "    <tr>\n",
       "      <th>4</th>\n",
       "      <td>맛있음   오픈때가야 따듯하고 진짜 존맛</td>\n",
       "      <td>1</td>\n",
       "    </tr>\n",
       "    <tr>\n",
       "      <th>264</th>\n",
       "      <td>유명하다길래 한번 가보고 두번은 안가는곳 지나갈때마다 손님들 많은거보면 신기함</td>\n",
       "      <td>1</td>\n",
       "    </tr>\n",
       "    <tr>\n",
       "      <th>89</th>\n",
       "      <td>파이가 맛있고 커피도 괜찮아요  주문하고 메뉴 나오는데 항상 오래걸리는 편이긴합니다...</td>\n",
       "      <td>1</td>\n",
       "    </tr>\n",
       "  </tbody>\n",
       "</table>\n",
       "<p>67 rows × 2 columns</p>\n",
       "</div>"
      ],
      "text/plain": [
       "                                                  text  pred\n",
       "274  부추곱창  배바위양곱창 없을땐 자주 갔지만 이젠 굳이 위생 별로  강매 별로 밀건 ...     0\n",
       "266  대창 막창 보다는 곱창이 맛있어요 다만 토요일에는 볶음밥 주문 안된다고 하시는데 물...     1\n",
       "200                                    음료 비싸지만 공부하기 조음     0\n",
       "120  말모 존맛탱임 양은 조금 적은게 단점  메뉴가 딱 라구파스타 라자냐 두개지만 둘 다...     1\n",
       "77   맛있어서 종종 사먹는데 사먹을 때마다 위생 장갑 낀 손으로 카드 받고 진동벨 주심 ...     0\n",
       "..                                                 ...   ...\n",
       "32   갈비를 정말 맛있는 굽기로 구워주셔서 좋았던 가게입니다 고기의 질도 좋았고 전체적으...     0\n",
       "298  와 가게 입구부터 너무 지저분해요  전체적으로  낡았는데 전혀 관리되지 않은 느낌입...     0\n",
       "4                               맛있음   오픈때가야 따듯하고 진짜 존맛     1\n",
       "264        유명하다길래 한번 가보고 두번은 안가는곳 지나갈때마다 손님들 많은거보면 신기함     1\n",
       "89   파이가 맛있고 커피도 괜찮아요  주문하고 메뉴 나오는데 항상 오래걸리는 편이긴합니다...     1\n",
       "\n",
       "[67 rows x 2 columns]"
      ]
     },
     "execution_count": 93,
     "metadata": {},
     "output_type": "execute_result"
    }
   ],
   "source": [
    "# 이제는 강매는 부정이라고 나옴 \n",
    "# 하지만 토요일에 볶음밥 부정이여야 되는데 긍정이라 나옴 \n",
    "pd.DataFrame({\"text\" : x_test, \"pred\" : pred})"
   ]
  },
  {
   "cell_type": "code",
   "execution_count": 94,
   "id": "a3500eb5",
   "metadata": {},
   "outputs": [
    {
     "data": {
      "text/plain": [
       "'갈비를 정말 맛있는 굽기로 구워주셔서 좋았던 가게입니다 고기의 질도 좋았고 전체적으로 아주 만족스러웠습니다'"
      ]
     },
     "execution_count": 94,
     "metadata": {},
     "output_type": "execute_result"
    }
   ],
   "source": [
    "x_test.loc[32]"
   ]
  },
  {
   "cell_type": "markdown",
   "id": "f6a5b5eb",
   "metadata": {},
   "source": [
    "- 모델 만들었으면 원하는 문장을 예측할 수 있어야 함 "
   ]
  },
  {
   "cell_type": "code",
   "execution_count": 95,
   "id": "5c0af5e7",
   "metadata": {},
   "outputs": [
    {
     "data": {
      "text/plain": [
       "array([0], dtype=int64)"
      ]
     },
     "execution_count": 95,
     "metadata": {},
     "output_type": "execute_result"
    }
   ],
   "source": [
    "# 테스트\n",
    "# 부정이 나와야 함 \n",
    "query = tfidf.transform([\"잘도 그러겠다\"])\n",
    "logi.predict(query) # predict 넣어야 모델의 예측이 정확하게 나옴 "
   ]
  },
  {
   "cell_type": "markdown",
   "id": "fa7ff746",
   "metadata": {},
   "source": [
    "# 키워드 분석\n",
    "\n",
    "- 로지스틱 회귀 모델의 피처 영향력으로 가장 높은 영향력을 가지고 있는 단어 찾기 "
   ]
  },
  {
   "cell_type": "code",
   "execution_count": 98,
   "id": "ac3765bf",
   "metadata": {},
   "outputs": [
    {
     "data": {
      "image/png": "[encoded data removed]",
      "text/plain": [
       "<Figure size 640x480 with 1 Axes>"
      ]
     },
     "metadata": {},
     "output_type": "display_data"
    }
   ],
   "source": [
    "# 긍정적이라고 판단되는 단어도 있고 부정이라고 판단되는 단어도 있음 \n",
    "plt.figure()\n",
    "\n",
    "plt.bar(range(len(logi.coef_.flatten())), logi.coef_.flatten())\n",
    "plt.show()"
   ]
  },
  {
   "cell_type": "code",
   "execution_count": 99,
   "id": "955c2430",
   "metadata": {},
   "outputs": [],
   "source": [
    "# 회귀 모델의 계수를 내림차순으로 정렬\n",
    "# 기울 기값을 value 받고\n",
    "# value 튜플에 넣음 \n",
    "coef_pos_idx = sorted(((value, idx) for idx, value in enumerate(logi.coef_.flatten())),\n",
    "                      reverse = True)"
   ]
  },
  {
   "cell_type": "code",
   "execution_count": 100,
   "id": "5cd582c4",
   "metadata": {},
   "outputs": [
    {
     "data": {
      "text/plain": [
       "[(0.7607873086496152, 551),\n",
       " (0.6806635141902271, 560),\n",
       " (0.6546102028820375, 111),\n",
       " (0.5443320866784581, 464),\n",
       " (0.5146740920426202, 317),\n",
       " (0.4584170889486101, 543),\n",
       " (0.405015613998052, 1598),\n",
       " (0.405015613998052, 365),\n",
       " (0.39641245191412866, 1135),\n",
       " (0.3546948770407023, 776),\n",
       " (0.35121832769781464, 885),\n",
       " (0.3490860081029731, 47),\n",
       " (0.33615551069064664, 996),\n",
       " (0.31873698783057275, 941),\n",
       " (0.31800372700999857, 33),\n",
       " (0.31492906252623487, 124),\n",
       " (0.31406409438552635, 556),\n",
       " (0.3000474585581209, 1475),\n",
       " (0.29993857013480446, 1599),\n",
       " (0.29449966912274333, 561),\n",
       " (0.29155036442706306, 1463),\n",
       " (0.2899768214677659, 434),\n",
       " (0.2895607097018925, 1516),\n",
       " (0.28905102217385603, 483),\n",
       " (0.2863892871444557, 1710),\n",
       " (0.2863892871444557, 1594),\n",
       " (0.2863892871444557, 1401),\n",
       " (0.2863892871444557, 1275),\n",
       " (0.2863892871444557, 759),\n",
       " (0.2863892871444557, 663),\n",
       " (0.2863892871444557, 383),\n",
       " (0.2863892871444557, 256),\n",
       " (0.28429633348112193, 298),\n",
       " (0.28330726255493205, 548),\n",
       " (0.2826087851351758, 1462),\n",
       " (0.27860262382162493, 366),\n",
       " (0.27191138599800535, 1280),\n",
       " (0.26555473134152446, 64),\n",
       " (0.2649106870385983, 896),\n",
       " (0.2599350849697402, 600),\n",
       " (0.25687210598044613, 31),\n",
       " (0.25473806384282277, 1399),\n",
       " (0.25443681399345436, 1786),\n",
       " (0.252826470882157, 1264),\n",
       " (0.252826470882157, 1225),\n",
       " (0.24851913375195694, 1481),\n",
       " (0.2443762289089702, 35),\n",
       " (0.24436816407849402, 588),\n",
       " (0.2424371390247941, 321),\n",
       " (0.23958734208069601, 542),\n",
       " (0.23435034508599376, 1052),\n",
       " (0.23379802709808403, 227),\n",
       " (0.22824576627176513, 510),\n",
       " (0.22099955352925896, 1602),\n",
       " (0.21993199013832643, 1008),\n",
       " (0.21530731370440626, 950),\n",
       " (0.21530731370440626, 709),\n",
       " (0.2151009270501914, 1206),\n",
       " (0.2151009270501914, 790),\n",
       " (0.21434436361238599, 717),\n",
       " (0.21166654892367673, 459),\n",
       " (0.2115366033817721, 1649),\n",
       " (0.2115366033817721, 1092),\n",
       " (0.21148455386206025, 1456),\n",
       " (0.21073880018383764, 477),\n",
       " (0.20982583660119333, 821),\n",
       " (0.20683829885133587, 564),\n",
       " (0.20427487434013292, 1396),\n",
       " (0.20253185003276677, 1735),\n",
       " (0.20253185003276677, 1411),\n",
       " (0.20243852781464183, 832),\n",
       " (0.20029377023222142, 1505),\n",
       " (0.20029377023222142, 531),\n",
       " (0.19206155074926143, 1365),\n",
       " (0.1911426685365257, 1208),\n",
       " (0.1911426685365257, 530),\n",
       " (0.18700551868259907, 1713),\n",
       " (0.18700551868259907, 1313),\n",
       " (0.18700551868259907, 486),\n",
       " (0.18575999485269884, 1228),\n",
       " (0.18575999485269884, 1227),\n",
       " (0.18575999485269884, 115),\n",
       " (0.1808172023391652, 1755),\n",
       " (0.1808172023391652, 1222),\n",
       " (0.1808172023391652, 990),\n",
       " (0.18012898355794454, 1254),\n",
       " (0.1775416191963945, 1373),\n",
       " (0.1775416191963945, 1184),\n",
       " (0.1775416191963945, 488),\n",
       " (0.17622300797457438, 1190),\n",
       " (0.17622300797457438, 1158),\n",
       " (0.17622300797457438, 699),\n",
       " (0.17268932985796265, 640),\n",
       " (0.1706129790317204, 856),\n",
       " (0.1689617640416837, 1705),\n",
       " (0.1689617640416837, 1646),\n",
       " (0.1689617640416837, 1395),\n",
       " (0.16789498021278362, 1238),\n",
       " (0.16789498021278362, 1183),\n",
       " (0.16789498021278362, 956),\n",
       " (0.16789498021278362, 732),\n",
       " (0.16789498021278362, 55),\n",
       " (0.16721524968470847, 593),\n",
       " (0.16512267983876827, 350),\n",
       " (0.1636047966772474, 1479),\n",
       " (0.1636047966772474, 1273),\n",
       " (0.1636047966772474, 511),\n",
       " (0.1636047966772474, 328),\n",
       " (0.1615660107273842, 1724),\n",
       " (0.1615660107273842, 673),\n",
       " (0.1615660107273842, 637),\n",
       " (0.1615660107273842, 520),\n",
       " (0.1615660107273842, 481),\n",
       " (0.1615660107273842, 381),\n",
       " (0.16080591539983005, 1354),\n",
       " (0.1598197641744194, 1314),\n",
       " (0.1598197641744194, 527),\n",
       " (0.1598197641744194, 451),\n",
       " (0.1598197641744194, 320),\n",
       " (0.1598197641744194, 62),\n",
       " (0.15683939157129914, 1761),\n",
       " (0.15683939157129914, 1626),\n",
       " (0.15683939157129914, 195),\n",
       " (0.15678658771249124, 1545),\n",
       " (0.15678658771249124, 886),\n",
       " (0.15629879219898388, 1806),\n",
       " (0.15629879219898388, 1376),\n",
       " (0.15629879219898388, 545),\n",
       " (0.15629879219898388, 286),\n",
       " (0.15452621866283944, 1486),\n",
       " (0.15308151310528234, 1604),\n",
       " (0.15308151310528234, 1589),\n",
       " (0.15308151310528234, 1511),\n",
       " (0.15308151310528234, 845),\n",
       " (0.15308151310528234, 736),\n",
       " (0.15308151310528234, 482),\n",
       " (0.15308151310528234, 480),\n",
       " (0.15008986632257437, 901),\n",
       " (0.14959931923071285, 598),\n",
       " (0.14895358251368032, 1619),\n",
       " (0.1478858736692801, 1643),\n",
       " (0.1478858736692801, 1577),\n",
       " (0.1478858736692801, 1474),\n",
       " (0.1478858736692801, 1472),\n",
       " (0.1478858736692801, 1013),\n",
       " (0.1478858736692801, 544),\n",
       " (0.14484535598336237, 774),\n",
       " (0.1438982771548819, 1509),\n",
       " (0.1421810369606404, 1672),\n",
       " (0.1421810369606404, 1243),\n",
       " (0.1421810369606404, 1214),\n",
       " (0.1421810369606404, 684),\n",
       " (0.1421810369606404, 555),\n",
       " (0.1421810369606404, 141),\n",
       " (0.1421810369606404, 113),\n",
       " (0.14097180885116808, 875),\n",
       " (0.14097180885116808, 662),\n",
       " (0.14097180885116808, 411),\n",
       " (0.14097180885116808, 380),\n",
       " (0.13788462539243274, 1480),\n",
       " (0.13779950625197332, 1450),\n",
       " (0.13779950625197332, 1309),\n",
       " (0.13779950625197332, 1126),\n",
       " (0.13779950625197332, 1100),\n",
       " (0.13779950625197332, 824),\n",
       " (0.13779950625197332, 439),\n",
       " (0.13546730905861992, 1478),\n",
       " (0.13546730905861992, 1408),\n",
       " (0.13546730905861992, 1358),\n",
       " (0.13546730905861992, 982),\n",
       " (0.13546730905861992, 304),\n",
       " (0.13546730905861992, 265),\n",
       " (0.13546730905861992, 34),\n",
       " (0.135264732977749, 1590),\n",
       " (0.135264732977749, 1112),\n",
       " (0.135264732977749, 999),\n",
       " (0.135264732977749, 669),\n",
       " (0.135264732977749, 622),\n",
       " (0.135264732977749, 382),\n",
       " (0.13033328775078573, 1606),\n",
       " (0.13033328775078573, 1019),\n",
       " (0.13033328775078573, 943),\n",
       " (0.13033328775078573, 502),\n",
       " (0.13033328775078573, 235),\n",
       " (0.13033328775078573, 214),\n",
       " (0.13033328775078573, 208),\n",
       " (0.13033328775078573, 204),\n",
       " (0.12940894351425813, 1760),\n",
       " (0.12940894351425813, 691),\n",
       " (0.12918249365728368, 1460),\n",
       " (0.12918249365728368, 490),\n",
       " (0.12918249365728368, 218),\n",
       " (0.12918249365728368, 128),\n",
       " (0.1265803497766532, 1694),\n",
       " (0.1265803497766532, 967),\n",
       " (0.1265803497766532, 946),\n",
       " (0.1265803497766532, 421),\n",
       " (0.1265803497766532, 344),\n",
       " (0.12654324558859284, 106),\n",
       " (0.12471401950150189, 170),\n",
       " (0.12432504496610644, 1644),\n",
       " (0.12432504496610644, 827),\n",
       " (0.12432504496610644, 552),\n",
       " (0.12432504496610644, 475),\n",
       " (0.12432504496610644, 470),\n",
       " (0.12432504496610644, 76),\n",
       " (0.12303077950605379, 1296),\n",
       " (0.12303077950605379, 1065),\n",
       " (0.12303077950605379, 831),\n",
       " (0.12303077950605379, 716),\n",
       " (0.12303077950605379, 629),\n",
       " (0.12303077950605379, 602),\n",
       " (0.12303077950605379, 73),\n",
       " (0.12226033794511838, 1058),\n",
       " (0.12064390231594012, 90),\n",
       " (0.11873117367808778, 1730),\n",
       " (0.11873117367808778, 1610),\n",
       " (0.11873117367808778, 1438),\n",
       " (0.11873117367808778, 1329),\n",
       " (0.11873117367808778, 1134),\n",
       " (0.11873117367808778, 398),\n",
       " (0.11873117367808778, 74),\n",
       " (0.11873117367808778, 17),\n",
       " (0.11620429679765619, 1627),\n",
       " (0.11620429679765619, 639),\n",
       " (0.11620429679765619, 468),\n",
       " (0.11620429679765619, 230),\n",
       " (0.11379989271686014, 1485),\n",
       " (0.11279787442253424, 519),\n",
       " (0.11255415857827622, 515),\n",
       " (0.11242770256690153, 342),\n",
       " (0.11136221572947791, 1605),\n",
       " (0.11136221572947791, 1403),\n",
       " (0.11136221572947791, 834),\n",
       " (0.11136221572947791, 718),\n",
       " (0.11136221572947791, 577),\n",
       " (0.11136221572947791, 484),\n",
       " (0.11136221572947791, 463),\n",
       " (0.11076307700386842, 1794),\n",
       " (0.11076307700386842, 1269),\n",
       " (0.11076307700386842, 1253),\n",
       " (0.11076307700386842, 927),\n",
       " (0.11076307700386842, 819),\n",
       " (0.11076307700386842, 763),\n",
       " (0.11076307700386842, 586),\n",
       " (0.11076307700386842, 424),\n",
       " (0.11076307700386842, 310),\n",
       " (0.11076307700386842, 176),\n",
       " (0.11076307700386842, 158),\n",
       " (0.10888518224383352, 1414),\n",
       " (0.10757231452049029, 1795),\n",
       " (0.10757231452049029, 1612),\n",
       " (0.10757231452049029, 1566),\n",
       " (0.10757231452049029, 1543),\n",
       " (0.10757231452049029, 1517),\n",
       " (0.10757231452049029, 1455),\n",
       " (0.10757231452049029, 550),\n",
       " (0.10757231452049029, 429),\n",
       " (0.10757231452049029, 20),\n",
       " (0.10619497742880483, 1642),\n",
       " (0.10554327620226706, 997),\n",
       " (0.10552889540494109, 1732),\n",
       " (0.10545130473551988, 1353),\n",
       " (0.10545130473551988, 1295),\n",
       " (0.10545130473551988, 1216),\n",
       " (0.10545130473551988, 837),\n",
       " (0.10545130473551988, 672),\n",
       " (0.10545130473551988, 609),\n",
       " (0.10545130473551988, 528),\n",
       " (0.10545130473551988, 457),\n",
       " (0.10545130473551988, 404),\n",
       " (0.10545130473551988, 167),\n",
       " (0.10297288970948482, 1814),\n",
       " (0.10297288970948482, 1262),\n",
       " (0.10297288970948482, 1181),\n",
       " (0.10297288970948482, 1151),\n",
       " (0.10297288970948482, 1101),\n",
       " (0.10297288970948482, 841),\n",
       " (0.10297288970948482, 795),\n",
       " (0.10297288970948482, 685),\n",
       " (0.10297288970948482, 255),\n",
       " (0.10297288970948482, 188),\n",
       " (0.10297288970948482, 119),\n",
       " (0.10297288970948482, 30),\n",
       " (0.10249598022824337, 1768),\n",
       " (0.10249598022824337, 1453),\n",
       " (0.10249598022824337, 1412),\n",
       " (0.10249598022824337, 1088),\n",
       " (0.10249598022824337, 1081),\n",
       " (0.10249598022824337, 991),\n",
       " (0.10249598022824337, 641),\n",
       " (0.10249598022824337, 587),\n",
       " (0.10249598022824337, 580),\n",
       " (0.10249598022824337, 285),\n",
       " (0.10249598022824337, 89),\n",
       " (0.10247614113812059, 1721),\n",
       " (0.10247614113812059, 1717),\n",
       " (0.10247614113812059, 1274),\n",
       " (0.10247614113812059, 1050),\n",
       " (0.10247614113812059, 1021),\n",
       " (0.10247614113812059, 916),\n",
       " (0.10247614113812059, 893),\n",
       " (0.10247614113812059, 746),\n",
       " (0.10247614113812059, 646),\n",
       " (0.10122226619247394, 801),\n",
       " (0.10087197710107358, 1471),\n",
       " (0.0988140371606675, 1715),\n",
       " (0.0988140371606675, 1714),\n",
       " (0.0988140371606675, 1249),\n",
       " (0.0988140371606675, 1245),\n",
       " (0.0988140371606675, 891),\n",
       " (0.0988140371606675, 871),\n",
       " (0.0988140371606675, 858),\n",
       " (0.0988140371606675, 539),\n",
       " (0.0988140371606675, 503),\n",
       " (0.0988140371606675, 19),\n",
       " (0.09767648895169743, 1816),\n",
       " (0.09767648895169743, 1689),\n",
       " (0.09767648895169743, 1169),\n",
       " (0.09767648895169743, 1017),\n",
       " (0.09767648895169743, 884),\n",
       " (0.09767648895169743, 769),\n",
       " (0.09767648895169743, 731),\n",
       " (0.09767648895169743, 608),\n",
       " (0.09767648895169743, 466),\n",
       " (0.09767648895169743, 80),\n",
       " (0.09767648895169743, 67),\n",
       " (0.09767648895169743, 0),\n",
       " (0.09590739354198534, 905),\n",
       " (0.09546196985332782, 1765),\n",
       " (0.09546196985332782, 1703),\n",
       " (0.09546196985332782, 1571),\n",
       " (0.09546196985332782, 1375),\n",
       " (0.09546196985332782, 1207),\n",
       " (0.09546196985332782, 947),\n",
       " (0.09546196985332782, 843),\n",
       " (0.09546196985332782, 469),\n",
       " (0.09546196985332782, 189),\n",
       " (0.09546196985332782, 142),\n",
       " (0.09546196985332782, 140),\n",
       " (0.0926321378966524, 1800),\n",
       " (0.0926321378966524, 1733),\n",
       " (0.0926321378966524, 1351),\n",
       " (0.0926321378966524, 1347),\n",
       " (0.0926321378966524, 1259),\n",
       " (0.0926321378966524, 1106),\n",
       " (0.0926321378966524, 798),\n",
       " (0.0926321378966524, 643),\n",
       " (0.0926321378966524, 611),\n",
       " (0.0926321378966524, 435),\n",
       " (0.0926321378966524, 386),\n",
       " (0.0926321378966524, 323),\n",
       " (0.0926321378966524, 213),\n",
       " (0.0926321378966524, 63),\n",
       " (0.09227049209791752, 1799),\n",
       " (0.09227049209791752, 1782),\n",
       " (0.09227049209791752, 1747),\n",
       " (0.09227049209791752, 1702),\n",
       " (0.09227049209791752, 1548),\n",
       " (0.09227049209791752, 1542),\n",
       " (0.09227049209791752, 1361),\n",
       " (0.09227049209791752, 1348),\n",
       " (0.09227049209791752, 1271),\n",
       " (0.09227049209791752, 578),\n",
       " (0.09227049209791752, 354),\n",
       " (0.09227049209791752, 150),\n",
       " (0.09227049209791752, 126),\n",
       " (0.09174407023890399, 1818),\n",
       " (0.09174407023890399, 1704),\n",
       " (0.09174407023890399, 1567),\n",
       " (0.09174407023890399, 1513),\n",
       " (0.09174407023890399, 1512),\n",
       " (0.09174407023890399, 1178),\n",
       " (0.09174407023890399, 754),\n",
       " (0.09174407023890399, 711),\n",
       " (0.09174407023890399, 524),\n",
       " (0.09174407023890399, 441),\n",
       " (0.09174407023890399, 21),\n",
       " (0.09004827192123305, 442),\n",
       " (0.08935609247855592, 1035),\n",
       " (0.08905859847657903, 1656),\n",
       " (0.08905859847657903, 1369),\n",
       " (0.08905859847657903, 1362),\n",
       " (0.08905859847657903, 1034),\n",
       " (0.08905859847657903, 939),\n",
       " (0.08905859847657903, 913),\n",
       " (0.08905859847657903, 621),\n",
       " (0.08905859847657903, 489),\n",
       " (0.08905859847657903, 358),\n",
       " (0.08905859847657903, 260),\n",
       " (0.08905859847657903, 196),\n",
       " (0.08905859847657903, 174),\n",
       " (0.08905859847657903, 94),\n",
       " (0.08831647642039234, 1200),\n",
       " (0.08811249872073522, 1698),\n",
       " (0.08811249872073522, 1551),\n",
       " (0.08811249872073522, 1537),\n",
       " (0.08811249872073522, 1272),\n",
       " (0.08811249872073522, 1233),\n",
       " (0.08811249872073522, 1196),\n",
       " (0.08811249872073522, 1173),\n",
       " (0.08811249872073522, 1077),\n",
       " (0.08811249872073522, 1054),\n",
       " (0.08811249872073522, 986),\n",
       " (0.08811249872073522, 694),\n",
       " (0.08811249872073522, 664),\n",
       " (0.08811249872073522, 575),\n",
       " (0.08811249872073522, 418),\n",
       " (0.08811249872073522, 401),\n",
       " (0.08811249872073522, 289),\n",
       " (0.08811249872073522, 49),\n",
       " (0.08811249872073522, 42),\n",
       " (0.0873225156479815, 1099),\n",
       " (0.08279876113733577, 1813),\n",
       " (0.08279876113733577, 1774),\n",
       " (0.08279876113733577, 1712),\n",
       " (0.08279876113733577, 1636),\n",
       " (0.08279876113733577, 1526),\n",
       " (0.08279876113733577, 1327),\n",
       " (0.08279876113733577, 1319),\n",
       " (0.08279876113733577, 993),\n",
       " (0.08279876113733577, 992),\n",
       " (0.08279876113733577, 848),\n",
       " (0.08279876113733577, 768),\n",
       " (0.08279876113733577, 615),\n",
       " (0.08279876113733577, 599),\n",
       " (0.08279876113733577, 449),\n",
       " (0.08279876113733577, 318),\n",
       " (0.08279876113733577, 311),\n",
       " (0.08279876113733577, 275),\n",
       " (0.08279876113733577, 162),\n",
       " (0.08279876113733577, 117),\n",
       " (0.08279876113733577, 110),\n",
       " (0.08138814472157241, 1177),\n",
       " (0.07970329577280366, 68),\n",
       " (0.07862883844620222, 583),\n",
       " (0.07856970513485653, 10),\n",
       " (0.0774261318451669, 1748),\n",
       " (0.0774261318451669, 1711),\n",
       " (0.0774261318451669, 1603),\n",
       " (0.0774261318451669, 1563),\n",
       " (0.0774261318451669, 1555),\n",
       " (0.0774261318451669, 1380),\n",
       " (0.0774261318451669, 1315),\n",
       " (0.0774261318451669, 1041),\n",
       " (0.0774261318451669, 1018),\n",
       " (0.0774261318451669, 988),\n",
       " (0.0774261318451669, 853),\n",
       " (0.0774261318451669, 836),\n",
       " (0.0774261318451669, 805),\n",
       " (0.0774261318451669, 741),\n",
       " (0.0774261318451669, 319),\n",
       " (0.0774261318451669, 302),\n",
       " (0.0774261318451669, 294),\n",
       " (0.0774261318451669, 268),\n",
       " (0.0774261318451669, 127),\n",
       " (0.0774261318451669, 79),\n",
       " (0.0774261318451669, 4),\n",
       " (0.07614885465627129, 1801),\n",
       " (0.07614885465627129, 1670),\n",
       " (0.07614885465627129, 1616),\n",
       " (0.07614885465627129, 1550),\n",
       " (0.07614885465627129, 1523),\n",
       " (0.07614885465627129, 1494),\n",
       " (0.07614885465627129, 1256),\n",
       " (0.07614885465627129, 1209),\n",
       " (0.07614885465627129, 1163),\n",
       " (0.07614885465627129, 980),\n",
       " (0.07614885465627129, 728),\n",
       " (0.07614885465627129, 652),\n",
       " (0.07614885465627129, 642),\n",
       " (0.07614885465627129, 594),\n",
       " (0.07614885465627129, 592),\n",
       " (0.07614885465627129, 581),\n",
       " (0.07614885465627129, 574),\n",
       " (0.07614885465627129, 448),\n",
       " (0.07614885465627129, 432),\n",
       " (0.07614885465627129, 69),\n",
       " (0.07431302070300738, 1053),\n",
       " (0.07386214787225505, 1622),\n",
       " (0.07021984993350537, 104),\n",
       " (0.06878286675602663, 771),\n",
       " (0.06699517949346574, 1539),\n",
       " (0.06493881003667654, 889),\n",
       " (0.06470447175712907, 1743),\n",
       " (0.06470447175712907, 1597),\n",
       " (0.06470447175712907, 1343),\n",
       " (0.06470447175712907, 1224),\n",
       " (0.06470447175712907, 1002),\n",
       " (0.06470447175712907, 963),\n",
       " (0.06470447175712907, 921),\n",
       " (0.06470447175712907, 917),\n",
       " (0.06470447175712907, 883),\n",
       " (0.06470447175712907, 882),\n",
       " (0.06470447175712907, 612),\n",
       " (0.06470447175712907, 610),\n",
       " (0.06470447175712907, 541),\n",
       " (0.06470447175712907, 487),\n",
       " (0.06470447175712907, 133),\n",
       " (0.06393826236132356, 1809),\n",
       " (0.06393826236132356, 1628),\n",
       " (0.06393826236132356, 1230),\n",
       " (0.06393826236132356, 1226),\n",
       " (0.06393826236132356, 1059),\n",
       " (0.06393826236132356, 472),\n",
       " (0.06393826236132356, 66),\n",
       " (0.06072283608643646, 969),\n",
       " (0.059343475692564, 6),\n",
       " (0.05659378802986072, 3),\n",
       " (0.05639893721126712, 1817),\n",
       " (0.05639893721126712, 1803),\n",
       " (0.05639893721126712, 1738),\n",
       " (0.05639893721126712, 1653),\n",
       " (0.05639893721126712, 1645),\n",
       " (0.05639893721126712, 1639),\n",
       " (0.05639893721126712, 1591),\n",
       " (0.05639893721126712, 1454),\n",
       " (0.05639893721126712, 1385),\n",
       " (0.05639893721126712, 1326),\n",
       " (0.05639893721126712, 1247),\n",
       " (0.05639893721126712, 1242),\n",
       " (0.05639893721126712, 1241),\n",
       " (0.05639893721126712, 1179),\n",
       " (0.05639893721126712, 1141),\n",
       " (0.05639893721126712, 1136),\n",
       " (0.05639893721126712, 975),\n",
       " (0.05639893721126712, 964),\n",
       " (0.05639893721126712, 953),\n",
       " (0.05639893721126712, 900),\n",
       " (0.05639893721126712, 862),\n",
       " (0.05639893721126712, 846),\n",
       " (0.05639893721126712, 844),\n",
       " (0.05639893721126712, 811),\n",
       " (0.05639893721126712, 730),\n",
       " (0.05639893721126712, 707),\n",
       " (0.05639893721126712, 683),\n",
       " (0.05639893721126712, 667),\n",
       " (0.05639893721126712, 485),\n",
       " (0.05639893721126712, 426),\n",
       " (0.05639893721126712, 345),\n",
       " (0.05639893721126712, 339),\n",
       " (0.05639893721126712, 336),\n",
       " (0.05639893721126712, 303),\n",
       " (0.05639893721126712, 287),\n",
       " (0.05639893721126712, 149),\n",
       " (0.05639893721126712, 95),\n",
       " (0.05309748871440242, 1669),\n",
       " (0.05309748871440242, 1654),\n",
       " (0.05309748871440242, 1609),\n",
       " (0.05309748871440242, 1514),\n",
       " (0.05309748871440242, 1489),\n",
       " (0.05309748871440242, 1421),\n",
       " (0.05309748871440242, 1384),\n",
       " (0.05309748871440242, 1383),\n",
       " (0.05309748871440242, 1357),\n",
       " (0.05309748871440242, 1282),\n",
       " (0.05309748871440242, 1265),\n",
       " (0.05309748871440242, 1203),\n",
       " (0.05309748871440242, 1192),\n",
       " (0.05309748871440242, 1138),\n",
       " (0.05309748871440242, 1107),\n",
       " (0.05309748871440242, 1056),\n",
       " (0.05309748871440242, 1055),\n",
       " (0.05309748871440242, 1029),\n",
       " (0.05309748871440242, 955),\n",
       " (0.05309748871440242, 879),\n",
       " (0.05309748871440242, 859),\n",
       " (0.05309748871440242, 829),\n",
       " (0.05309748871440242, 818),\n",
       " (0.05309748871440242, 756),\n",
       " (0.05309748871440242, 751),\n",
       " (0.05309748871440242, 747),\n",
       " (0.05309748871440242, 744),\n",
       " (0.05309748871440242, 713),\n",
       " (0.05309748871440242, 506),\n",
       " (0.05309748871440242, 462),\n",
       " (0.05309748871440242, 431),\n",
       " (0.05309748871440242, 347),\n",
       " (0.05309748871440242, 243),\n",
       " (0.05309748871440242, 239),\n",
       " (0.05309748871440242, 182),\n",
       " (0.05309748871440242, 132),\n",
       " (0.05309748871440242, 114),\n",
       " (0.05309748871440242, 98),\n",
       " (0.05309748871440242, 13),\n",
       " (0.050561129612623136, 549),\n",
       " (0.04946424490007378, 1752),\n",
       " (0.04783544707293142, 1360),\n",
       " (0.04703709361105251, 1469),\n",
       " (0.042516557669461406, 1785),\n",
       " (0.0414456246332736, 1195),\n",
       " (0.04087201440186714, 92),\n",
       " (0.040220833836828875, 1520),\n",
       " (0.03948342397789144, 1693),\n",
       " (0.03660316745599457, 1048),\n",
       " (0.036370002245452664, 647),\n",
       " (0.03531601940819548, 465),\n",
       " (0.035119050819704165, 280),\n",
       " (0.03196913118066178, 1822),\n",
       " (0.03196913118066178, 1781),\n",
       " (0.03196913118066178, 1770),\n",
       " (0.03196913118066178, 1766),\n",
       " (0.03196913118066178, 1723),\n",
       " (0.03196913118066178, 1666),\n",
       " (0.03196913118066178, 1641),\n",
       " (0.03196913118066178, 1635),\n",
       " (0.03196913118066178, 1617),\n",
       " (0.03196913118066178, 1583),\n",
       " (0.03196913118066178, 1570),\n",
       " (0.03196913118066178, 1525),\n",
       " (0.03196913118066178, 1495),\n",
       " (0.03196913118066178, 1461),\n",
       " (0.03196913118066178, 1404),\n",
       " (0.03196913118066178, 1388),\n",
       " (0.03196913118066178, 1379),\n",
       " (0.03196913118066178, 1378),\n",
       " (0.03196913118066178, 1350),\n",
       " (0.03196913118066178, 1338),\n",
       " (0.03196913118066178, 1333),\n",
       " (0.03196913118066178, 1292),\n",
       " (0.03196913118066178, 1291),\n",
       " (0.03196913118066178, 1287),\n",
       " (0.03196913118066178, 1240),\n",
       " (0.03196913118066178, 1239),\n",
       " (0.03196913118066178, 1223),\n",
       " (0.03196913118066178, 1221),\n",
       " (0.03196913118066178, 1212),\n",
       " (0.03196913118066178, 1194),\n",
       " (0.03196913118066178, 1175),\n",
       " (0.03196913118066178, 1167),\n",
       " (0.03196913118066178, 1152),\n",
       " (0.03196913118066178, 1149),\n",
       " (0.03196913118066178, 1110),\n",
       " (0.03196913118066178, 1104),\n",
       " (0.03196913118066178, 1063),\n",
       " (0.03196913118066178, 1062),\n",
       " (0.03196913118066178, 1060),\n",
       " (0.03196913118066178, 1057),\n",
       " (0.03196913118066178, 1047),\n",
       " (0.03196913118066178, 1046),\n",
       " (0.03196913118066178, 1031),\n",
       " (0.03196913118066178, 983),\n",
       " (0.03196913118066178, 970),\n",
       " (0.03196913118066178, 932),\n",
       " (0.03196913118066178, 894),\n",
       " (0.03196913118066178, 890),\n",
       " (0.03196913118066178, 789),\n",
       " (0.03196913118066178, 788),\n",
       " (0.03196913118066178, 787),\n",
       " (0.03196913118066178, 779),\n",
       " (0.03196913118066178, 766),\n",
       " (0.03196913118066178, 761),\n",
       " (0.03196913118066178, 760),\n",
       " (0.03196913118066178, 719),\n",
       " (0.03196913118066178, 708),\n",
       " (0.03196913118066178, 702),\n",
       " (0.03196913118066178, 696),\n",
       " (0.03196913118066178, 692),\n",
       " (0.03196913118066178, 680),\n",
       " (0.03196913118066178, 678),\n",
       " (0.03196913118066178, 649),\n",
       " (0.03196913118066178, 636),\n",
       " (0.03196913118066178, 595),\n",
       " (0.03196913118066178, 523),\n",
       " (0.03196913118066178, 517),\n",
       " (0.03196913118066178, 501),\n",
       " (0.03196913118066178, 471),\n",
       " (0.03196913118066178, 444),\n",
       " (0.03196913118066178, 415),\n",
       " (0.03196913118066178, 403),\n",
       " (0.03196913118066178, 402),\n",
       " (0.03196913118066178, 353),\n",
       " (0.03196913118066178, 334),\n",
       " (0.03196913118066178, 330),\n",
       " (0.03196913118066178, 264),\n",
       " (0.03196913118066178, 252),\n",
       " (0.03196913118066178, 246),\n",
       " (0.03196913118066178, 229),\n",
       " (0.03196913118066178, 193),\n",
       " (0.03196913118066178, 191),\n",
       " (0.03196913118066178, 172),\n",
       " (0.03196913118066178, 165),\n",
       " (0.03196913118066178, 153),\n",
       " (0.03196913118066178, 147),\n",
       " (0.03196913118066178, 134),\n",
       " (0.03196913118066178, 88),\n",
       " (0.03196913118066178, 46),\n",
       " (0.03196913118066178, 40),\n",
       " (0.030743667862587434, 1180),\n",
       " (0.02962473375333006, 1638),\n",
       " (0.029461873641392335, 1595),\n",
       " (0.029377883270267257, 1349),\n",
       " (0.029377883270267257, 630),\n",
       " (0.027106233761564635, 1483),\n",
       " (0.02585119657166696, 851),\n",
       " (0.02510613080666804, 1418),\n",
       " (0.02395863589359851, 1763),\n",
       " (0.021921801439096642, 1528),\n",
       " (0.019071206269757265, 493),\n",
       " (0.017640442671868307, 1685),\n",
       " (0.015194514531640313, 186),\n",
       " (0.01506346225661899, 725),\n",
       " (0.014633321549599955, 1691),\n",
       " (0.007333574666669873, 178),\n",
       " (0.003312016920282586, 102),\n",
       " (0.002825343285707212, 205),\n",
       " (0.001110527484828341, 873),\n",
       " (0.0010143623934055174, 695),\n",
       " (-0.0002210042352106861, 546),\n",
       " (-0.0013755626464193654, 1769),\n",
       " (-0.0033232414394611318, 1477),\n",
       " (-0.005939286378036229, 1688),\n",
       " (-0.006882617671889949, 562),\n",
       " (-0.006928947563781889, 1690),\n",
       " (-0.009904517723304251, 1700),\n",
       " (-0.01002342957882293, 245),\n",
       " (-0.010424239619267871, 1127),\n",
       " (-0.01080650278756233, 412),\n",
       " (-0.010854820080554103, 876),\n",
       " (-0.011747610774248423, 1775),\n",
       " (-0.012406654167344404, 1130),\n",
       " (-0.016165029489433637, 1427),\n",
       " (-0.019616509368666223, 274),\n",
       " (-0.020680932289081484, 529),\n",
       " (-0.02292334858920861, 1448),\n",
       " (-0.026383106087684783, 1257),\n",
       " (-0.028557286192680793, 1807),\n",
       " (-0.028557286192680793, 1792),\n",
       " (-0.028557286192680793, 1790),\n",
       " (-0.028557286192680793, 1789),\n",
       " (-0.028557286192680793, 1773),\n",
       " (-0.028557286192680793, 1762),\n",
       " (-0.028557286192680793, 1725),\n",
       " (-0.028557286192680793, 1682),\n",
       " (-0.028557286192680793, 1681),\n",
       " (-0.028557286192680793, 1680),\n",
       " (-0.028557286192680793, 1677),\n",
       " (-0.028557286192680793, 1675),\n",
       " (-0.028557286192680793, 1659),\n",
       " (-0.028557286192680793, 1631),\n",
       " (-0.028557286192680793, 1630),\n",
       " (-0.028557286192680793, 1611),\n",
       " (-0.028557286192680793, 1592),\n",
       " (-0.028557286192680793, 1587),\n",
       " (-0.028557286192680793, 1578),\n",
       " (-0.028557286192680793, 1574),\n",
       " (-0.028557286192680793, 1573),\n",
       " (-0.028557286192680793, 1518),\n",
       " (-0.028557286192680793, 1501),\n",
       " (-0.028557286192680793, 1476),\n",
       " (-0.028557286192680793, 1466),\n",
       " (-0.028557286192680793, 1444),\n",
       " (-0.028557286192680793, 1434),\n",
       " (-0.028557286192680793, 1406),\n",
       " (-0.028557286192680793, 1400),\n",
       " (-0.028557286192680793, 1370),\n",
       " (-0.028557286192680793, 1345),\n",
       " (-0.028557286192680793, 1335),\n",
       " (-0.028557286192680793, 1328),\n",
       " (-0.028557286192680793, 1317),\n",
       " (-0.028557286192680793, 1316),\n",
       " (-0.028557286192680793, 1276),\n",
       " (-0.028557286192680793, 1267),\n",
       " (-0.028557286192680793, 1258),\n",
       " (-0.028557286192680793, 1248),\n",
       " (-0.028557286192680793, 1234),\n",
       " (-0.028557286192680793, 1220),\n",
       " (-0.028557286192680793, 1219),\n",
       " (-0.028557286192680793, 1217),\n",
       " (-0.028557286192680793, 1211),\n",
       " (-0.028557286192680793, 1198),\n",
       " (-0.028557286192680793, 1166),\n",
       " (-0.028557286192680793, 1154),\n",
       " (-0.028557286192680793, 1132),\n",
       " (-0.028557286192680793, 1120),\n",
       " (-0.028557286192680793, 1115),\n",
       " (-0.028557286192680793, 1085),\n",
       " (-0.028557286192680793, 1080),\n",
       " (-0.028557286192680793, 1075),\n",
       " (-0.028557286192680793, 1074),\n",
       " (-0.028557286192680793, 1070),\n",
       " (-0.028557286192680793, 1022),\n",
       " (-0.028557286192680793, 1012),\n",
       " (-0.028557286192680793, 985),\n",
       " (-0.028557286192680793, 976),\n",
       " (-0.028557286192680793, 965),\n",
       " (-0.028557286192680793, 952),\n",
       " (-0.028557286192680793, 940),\n",
       " (-0.028557286192680793, 930),\n",
       " (-0.028557286192680793, 929),\n",
       " (-0.028557286192680793, 909),\n",
       " (-0.028557286192680793, 860),\n",
       " (-0.028557286192680793, 838),\n",
       " (-0.028557286192680793, 816),\n",
       " (-0.028557286192680793, 813),\n",
       " (-0.028557286192680793, 786),\n",
       " (-0.028557286192680793, 772),\n",
       " (-0.028557286192680793, 765),\n",
       " (-0.028557286192680793, 749),\n",
       " (-0.028557286192680793, 720),\n",
       " (-0.028557286192680793, 701),\n",
       " (-0.028557286192680793, 697),\n",
       " (-0.028557286192680793, 679),\n",
       " (-0.028557286192680793, 670),\n",
       " (-0.028557286192680793, 656),\n",
       " (-0.028557286192680793, 624),\n",
       " (-0.028557286192680793, 569),\n",
       " (-0.028557286192680793, 504),\n",
       " (-0.028557286192680793, 495),\n",
       " (-0.028557286192680793, 478),\n",
       " (-0.028557286192680793, 455),\n",
       " (-0.028557286192680793, 454),\n",
       " (-0.028557286192680793, 450),\n",
       " (-0.028557286192680793, 427),\n",
       " (-0.028557286192680793, 414),\n",
       " (-0.028557286192680793, 410),\n",
       " (-0.028557286192680793, 387),\n",
       " (-0.028557286192680793, 360),\n",
       " (-0.028557286192680793, 348),\n",
       " (-0.028557286192680793, 346),\n",
       " (-0.028557286192680793, 341),\n",
       " (-0.028557286192680793, 333),\n",
       " (-0.028557286192680793, 332),\n",
       " (-0.028557286192680793, 324),\n",
       " (-0.028557286192680793, 313),\n",
       " (-0.028557286192680793, 300),\n",
       " (-0.028557286192680793, 299),\n",
       " (-0.028557286192680793, 297),\n",
       " (-0.028557286192680793, 288),\n",
       " (-0.028557286192680793, 279),\n",
       " (-0.028557286192680793, 272),\n",
       " (-0.028557286192680793, 250),\n",
       " (-0.028557286192680793, 249),\n",
       " (-0.028557286192680793, 236),\n",
       " (-0.028557286192680793, 225),\n",
       " (-0.028557286192680793, 224),\n",
       " (-0.028557286192680793, 223),\n",
       " (-0.028557286192680793, 222),\n",
       " (-0.028557286192680793, 221),\n",
       " (-0.028557286192680793, 173),\n",
       " (-0.028557286192680793, 171),\n",
       " (-0.028557286192680793, 137),\n",
       " (-0.028557286192680793, 135),\n",
       " (-0.028557286192680793, 125),\n",
       " (-0.028557286192680793, 121),\n",
       " (-0.028557286192680793, 99),\n",
       " (-0.028557286192680793, 97),\n",
       " (-0.028557286192680793, 93),\n",
       " (-0.028557286192680793, 86),\n",
       " (-0.028557286192680793, 85),\n",
       " (-0.028557286192680793, 54),\n",
       " (-0.03226838811922562, 537),\n",
       " (-0.03407693328552423, 644),\n",
       " (-0.034938274567940894, 1073),\n",
       " (-0.03680045592490058, 1798),\n",
       " (-0.03680045592490058, 1586),\n",
       " (-0.03680045592490058, 1585),\n",
       " (-0.03680045592490058, 1581),\n",
       " (-0.03680045592490058, 1536),\n",
       " (-0.03680045592490058, 1502),\n",
       " (-0.03680045592490058, 1451),\n",
       " (-0.03680045592490058, 1447),\n",
       " (-0.03680045592490058, 1364),\n",
       " (-0.03680045592490058, 1356),\n",
       " (-0.03680045592490058, 1342),\n",
       " (-0.03680045592490058, 1300),\n",
       " (-0.03680045592490058, 1290),\n",
       " (-0.03680045592490058, 1193),\n",
       " (-0.03680045592490058, 1168),\n",
       " (-0.03680045592490058, 1156),\n",
       " (-0.03680045592490058, 1113),\n",
       " (-0.03680045592490058, 1087),\n",
       " (-0.03680045592490058, 1086),\n",
       " (-0.03680045592490058, 1071),\n",
       " (-0.03680045592490058, 1023),\n",
       " (-0.03680045592490058, 1014),\n",
       " (-0.03680045592490058, 935),\n",
       " (-0.03680045592490058, 867),\n",
       " (-0.03680045592490058, 866),\n",
       " (-0.03680045592490058, 806),\n",
       " (-0.03680045592490058, 800),\n",
       " (-0.03680045592490058, 785),\n",
       " (-0.03680045592490058, 742),\n",
       " (-0.03680045592490058, 726),\n",
       " (-0.03680045592490058, 705),\n",
       " (-0.03680045592490058, 703),\n",
       " (-0.03680045592490058, 688),\n",
       " (-0.03680045592490058, 682),\n",
       " (-0.03680045592490058, 681),\n",
       " (-0.03680045592490058, 648),\n",
       " (-0.03680045592490058, 645),\n",
       " (-0.03680045592490058, 638),\n",
       " (-0.03680045592490058, 605),\n",
       " (-0.03680045592490058, 409),\n",
       " (-0.03680045592490058, 389),\n",
       " (-0.03680045592490058, 375),\n",
       " (-0.03680045592490058, 355),\n",
       " (-0.03680045592490058, 349),\n",
       " (-0.03680045592490058, 290),\n",
       " (-0.03680045592490058, 278),\n",
       " (-0.03680045592490058, 271),\n",
       " (-0.03680045592490058, 257),\n",
       " (-0.03680045592490058, 242),\n",
       " (-0.03680045592490058, 217),\n",
       " (-0.03680045592490058, 216),\n",
       " (-0.03680045592490058, 209),\n",
       " (-0.03680045592490058, 207),\n",
       " (-0.03680045592490058, 181),\n",
       " (-0.03680045592490058, 70),\n",
       " (-0.03680045592490058, 57),\n",
       " (-0.03680045592490058, 32),\n",
       " (-0.03680045592490058, 25),\n",
       " (-0.03680045592490058, 15),\n",
       " (-0.03697568773766095, 1125),\n",
       " (-0.03805392738054217, 557),\n",
       " (-0.038982739022006094, 936),\n",
       " (-0.041440800063597495, 1278),\n",
       " (-0.04437602801774701, 833),\n",
       " (-0.04481946731918071, 51),\n",
       " (-0.046690005565206034, 1535),\n",
       " (-0.04686683101394083, 312),\n",
       " (-0.04945794027013957, 1678),\n",
       " (-0.04945794027013957, 1640),\n",
       " (-0.04945794027013957, 1618),\n",
       " (-0.04945794027013957, 1572),\n",
       " (-0.04945794027013957, 1564),\n",
       " (-0.04945794027013957, 1541),\n",
       " (-0.04945794027013957, 1540),\n",
       " (-0.04945794027013957, 1452),\n",
       " (-0.04945794027013957, 1435),\n",
       " (-0.04945794027013957, 1305),\n",
       " (-0.04945794027013957, 1298),\n",
       " (-0.04945794027013957, 1277),\n",
       " (-0.04945794027013957, 1266),\n",
       " (-0.04945794027013957, 1161),\n",
       " (-0.04945794027013957, 1116),\n",
       " (-0.04945794027013957, 1079),\n",
       " (-0.04945794027013957, 1015),\n",
       " (-0.04945794027013957, 1010),\n",
       " (-0.04945794027013957, 974),\n",
       " (-0.04945794027013957, 920),\n",
       " (-0.04945794027013957, 919),\n",
       " (-0.04945794027013957, 888),\n",
       " (-0.04945794027013957, 887),\n",
       " (-0.04945794027013957, 881),\n",
       " (-0.04945794027013957, 877),\n",
       " (-0.04945794027013957, 839),\n",
       " (-0.04945794027013957, 815),\n",
       " (-0.04945794027013957, 631),\n",
       " (-0.04945794027013957, 627),\n",
       " (-0.04945794027013957, 505),\n",
       " (-0.04945794027013957, 496),\n",
       " (-0.04945794027013957, 494),\n",
       " (-0.04945794027013957, 408),\n",
       " (-0.04945794027013957, 407),\n",
       " (-0.04945794027013957, 363),\n",
       " (-0.04945794027013957, 307),\n",
       " (-0.04945794027013957, 247),\n",
       " (-0.04945794027013957, 200),\n",
       " (-0.04945794027013957, 164),\n",
       " (-0.04945794027013957, 116),\n",
       " (-0.04945794027013957, 29),\n",
       " (-0.04945794027013957, 18),\n",
       " (-0.05024422421564777, 71),\n",
       " (-0.05046340762941115, 1811),\n",
       " (-0.05046340762941115, 1771),\n",
       " (-0.05046340762941115, 1722),\n",
       " (-0.05046340762941115, 1660),\n",
       " (-0.05046340762941115, 1651),\n",
       " (-0.05046340762941115, 1600),\n",
       " (-0.05046340762941115, 1593),\n",
       " (-0.05046340762941115, 1492),\n",
       " (-0.05046340762941115, 1443),\n",
       " (-0.05046340762941115, 1436),\n",
       " (-0.05046340762941115, 1420),\n",
       " (-0.05046340762941115, 1413),\n",
       " (-0.05046340762941115, 1397),\n",
       " (-0.05046340762941115, 1381),\n",
       " (-0.05046340762941115, 1285),\n",
       " (-0.05046340762941115, 1263),\n",
       " (-0.05046340762941115, 1250),\n",
       " (-0.05046340762941115, 1232),\n",
       " (-0.05046340762941115, 1229),\n",
       " (-0.05046340762941115, 1109),\n",
       " (-0.05046340762941115, 1011),\n",
       " (-0.05046340762941115, 995),\n",
       " (-0.05046340762941115, 984),\n",
       " (-0.05046340762941115, 958),\n",
       " (-0.05046340762941115, 948),\n",
       " (-0.05046340762941115, 938),\n",
       " (-0.05046340762941115, 915),\n",
       " (-0.05046340762941115, 810),\n",
       " (-0.05046340762941115, 783),\n",
       " (-0.05046340762941115, 721),\n",
       " (-0.05046340762941115, 714),\n",
       " (-0.05046340762941115, 658),\n",
       " (-0.05046340762941115, 385),\n",
       " (-0.05046340762941115, 259),\n",
       " (-0.05046340762941115, 258),\n",
       " (-0.05046340762941115, 240),\n",
       " ...]"
      ]
     },
     "execution_count": 100,
     "metadata": {},
     "output_type": "execute_result"
    }
   ],
   "source": [
    "# 0. : 긍정 / -0. : 부정\n",
    "coef_pos_idx"
   ]
  },
  {
   "cell_type": "code",
   "execution_count": 101,
   "id": "708b6ed6",
   "metadata": {},
   "outputs": [
    {
     "name": "stdout",
     "output_type": "stream",
     "text": [
      "맛있어요 0.7607873086496152\n",
      "맛있음 0.6806635141902271\n",
      "고등어 0.6546102028820375\n",
      "라자냐 0.5443320866784581\n",
      "다른 0.5146740920426202\n",
      "맛있고 0.4584170889486101\n",
      "추억 0.405015613998052\n",
      "대존맛 0.405015613998052\n",
      "양이 0.39641245191412866\n",
      "분위기도 0.3546948770407023\n",
      "생각나요 0.35121832769781464\n",
      "간짜장 0.3490860081029731\n",
      "신촌에 0.33615551069064664\n",
      "수제비 0.31873698783057275\n",
      "가성비 0.31800372700999857\n",
      "공간 0.31492906252623487\n",
      "맛있었어요 0.31406409438552635\n",
      "좋네요 0.3000474585581209\n",
      "추억의 0.29993857013480446\n",
      "맛있지는 0.29449966912274333\n"
     ]
    }
   ],
   "source": [
    "# 상위 20개 긍정 형태소\n",
    "# for value :기울기값, 몇번 idx 인지 \n",
    "for value, idx in coef_pos_idx[:20]:\n",
    "    print(tfidf.get_feature_names_out()[idx], value)"
   ]
  },
  {
   "cell_type": "code",
   "execution_count": 102,
   "id": "e28faf99",
   "metadata": {
    "scrolled": true
   },
   "outputs": [
    {
     "name": "stdout",
     "output_type": "stream",
     "text": [
      "별로 -0.5578499849810312\n",
      "그냥 -0.42875637578906195\n",
      "계좌이체 -0.4155885659840812\n",
      "카드 -0.4155885659840812\n",
      "맛이변함 -0.39712398309454217\n",
      "그리고 -0.3781716392477315\n",
      "올라서 -0.3230633870134198\n",
      "굳이 -0.3175752777372293\n",
      "돈까스 -0.30505925754256985\n",
      "만원 -0.3040385446997316\n",
      "너무 -0.30220106436545663\n",
      "한식집같아요 -0.2976398531621641\n",
      "않아요 -0.2881936613559662\n",
      "음식 -0.2869119677147765\n",
      "가격은 -0.2864921810020634\n",
      "가격이면 -0.28080906141796275\n",
      "광고 -0.28080906141796275\n",
      "괜찮은집 -0.28080906141796275\n",
      "말그대로 -0.28080906141796275\n"
     ]
    }
   ],
   "source": [
    "# 상위 20개 부정 형태소\n",
    "# 돈까스가 들어간곳에 어떤 부정적인 문장인지 시간날때 확인하기 \n",
    "for value, idx in coef_pos_idx[:-20:-1]:\n",
    "    print(tfidf.get_feature_names_out()[idx], value)"
   ]
  },
  {
   "cell_type": "code",
   "execution_count": null,
   "id": "9dea6853",
   "metadata": {},
   "outputs": [],
   "source": []
  }
 ],
 "metadata": {
  "kernelspec": {
   "display_name": "Python 3 (ipykernel)",
   "language": "python",
   "name": "python3"
  },
  "language_info": {
   "codemirror_mode": {
    "name": "ipython",
    "version": 3
   },
   "file_extension": ".py",
   "mimetype": "text/x-python",
   "name": "python",
   "nbconvert_exporter": "python",
   "pygments_lexer": "ipython3",
   "version": "3.11.5"
  }
 },
 "nbformat": 4,
 "nbformat_minor": 5
}
