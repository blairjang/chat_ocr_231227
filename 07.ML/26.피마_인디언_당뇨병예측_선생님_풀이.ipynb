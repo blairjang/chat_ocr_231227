{
 "cells": [
  {
   "cell_type": "markdown",
   "id": "a0f10ed4",
   "metadata": {},
   "source": [
    "### ROC : Reciever Operating Characteristic curve and\n",
    "### AUC:  Area Under the Curve"
   ]
  },
  {
   "cell_type": "markdown",
   "id": "71404254",
   "metadata": {},
   "source": [
    "<img src = './image/threshold.png'>"
   ]
  },
  {
   "cell_type": "markdown",
   "id": "42b58909",
   "metadata": {},
   "source": [
    "# 피마 인디언 당뇨병 데이터\n",
    "\n",
    "- 데이터 활용 목적 : 당뇨병 여부를 판단하는 머신러닝 예측 모델을 개발 \n",
    "- 데이터 개요\n",
    "    - 북아메리카 피마 지역 원주민의 Type-2 당뇨병 결과 데이터 \n",
    "    - 일반적으로 알려진 당뇨병의 원인은 식습관과 유전 \n",
    "        - 피마 지역은 고립된 지역에서 인디언 고유의 혈통이 지속됨 \n",
    "        - 20세기 후반 서구화된 식습관으로 많은 당뇨 환자가 발생 \n",
    "        \n",
    "    - 피처\n",
    "        - Pregnancies : 임신 횟수\n",
    "        - Glucose : 포도당 부하 검사 수치\n",
    "        - BloodPressure : 혈압(mm Hg)\n",
    "        - SkinTickness : 팔 삼두근 뒤쪽의 피하지방 측정값(mm)\n",
    "        - Insulin : 혈청 인슐린(mm U/ml)\n",
    "        - BMI : 체질량 지수(체중(kg) / 키(m))^2\n",
    "        - DiabetesPedigreeFunction : 당뇨 내력 가중치 값\n",
    "        - Age : 나이\n",
    "        - Outcome : 클래스 결정 값(0 또는 1)"
   ]
  },
  {
   "cell_type": "code",
   "execution_count": 16,
   "id": "634728d7",
   "metadata": {},
   "outputs": [],
   "source": [
    "import pandas as pd\n",
    "import numpy as np\n",
    "import matplotlib.pyplot as plt\n",
    "\n",
    "# 머신러닝 import\n",
    "# Binarizer: 예측 확률값을 특정 index에따라 0과 1로 변환 \n",
    "from sklearn.preprocessing import StandardScaler, Binarizer\n",
    "\n",
    "# StratifiedKFold : 2진분류를 할거니까 종속변수의 비율을 맞춰야함 \n",
    "from sklearn.model_selection import train_test_split,StratifiedKFold, GridSearchCV\n",
    "from sklearn.linear_model import LogisticRegression\n",
    "\n",
    "# 평가지표들 \n",
    "# roc_auc_score: AUC \n",
    "# precision_recall_curve: 정밀도 재현율 \n",
    "# roc_curve : 시각화 \n",
    "from sklearn.metrics import (accuracy_score, precision_score, recall_score, roc_auc_score,\n",
    "                             f1_score, confusion_matrix, precision_recall_curve, roc_curve)\n",
    "\n",
    "import warnings\n",
    "warnings.filterwarnings('ignore')"
   ]
  },
  {
   "cell_type": "code",
   "execution_count": 2,
   "id": "1a4058a4",
   "metadata": {},
   "outputs": [],
   "source": [
    "from matplotlib import font_manager, rc\n",
    "import matplotlib\n",
    "font_path = 'C:/Windows/Fonts/malgun.ttf'\n",
    "font_name = font_manager.FontProperties(fname = font_path).get_name()\n",
    "rc('font', family=font_name)\n",
    "plt.rcParams['axes.unicode_minus'] = False"
   ]
  },
  {
   "cell_type": "code",
   "execution_count": 4,
   "id": "96cb1b7a",
   "metadata": {},
   "outputs": [],
   "source": [
    "df = pd.read_csv('./data/diabetes.csv')"
   ]
  },
  {
   "cell_type": "code",
   "execution_count": 5,
   "id": "a834da0f",
   "metadata": {},
   "outputs": [
    {
     "data": {
      "text/html": [
       "<div>\n",
       "<style scoped>\n",
       "    .dataframe tbody tr th:only-of-type {\n",
       "        vertical-align: middle;\n",
       "    }\n",
       "\n",
       "    .dataframe tbody tr th {\n",
       "        vertical-align: top;\n",
       "    }\n",
       "\n",
       "    .dataframe thead th {\n",
       "        text-align: right;\n",
       "    }\n",
       "</style>\n",
       "<table border=\"1\" class=\"dataframe\">\n",
       "  <thead>\n",
       "    <tr style=\"text-align: right;\">\n",
       "      <th></th>\n",
       "      <th>Pregnancies</th>\n",
       "      <th>Glucose</th>\n",
       "      <th>BloodPressure</th>\n",
       "      <th>SkinThickness</th>\n",
       "      <th>Insulin</th>\n",
       "      <th>BMI</th>\n",
       "      <th>DiabetesPedigreeFunction</th>\n",
       "      <th>Age</th>\n",
       "      <th>Outcome</th>\n",
       "    </tr>\n",
       "  </thead>\n",
       "  <tbody>\n",
       "    <tr>\n",
       "      <th>0</th>\n",
       "      <td>6</td>\n",
       "      <td>148</td>\n",
       "      <td>72</td>\n",
       "      <td>35</td>\n",
       "      <td>0</td>\n",
       "      <td>33.6</td>\n",
       "      <td>0.627</td>\n",
       "      <td>50</td>\n",
       "      <td>1</td>\n",
       "    </tr>\n",
       "    <tr>\n",
       "      <th>1</th>\n",
       "      <td>1</td>\n",
       "      <td>85</td>\n",
       "      <td>66</td>\n",
       "      <td>29</td>\n",
       "      <td>0</td>\n",
       "      <td>26.6</td>\n",
       "      <td>0.351</td>\n",
       "      <td>31</td>\n",
       "      <td>0</td>\n",
       "    </tr>\n",
       "    <tr>\n",
       "      <th>2</th>\n",
       "      <td>8</td>\n",
       "      <td>183</td>\n",
       "      <td>64</td>\n",
       "      <td>0</td>\n",
       "      <td>0</td>\n",
       "      <td>23.3</td>\n",
       "      <td>0.672</td>\n",
       "      <td>32</td>\n",
       "      <td>1</td>\n",
       "    </tr>\n",
       "    <tr>\n",
       "      <th>3</th>\n",
       "      <td>1</td>\n",
       "      <td>89</td>\n",
       "      <td>66</td>\n",
       "      <td>23</td>\n",
       "      <td>94</td>\n",
       "      <td>28.1</td>\n",
       "      <td>0.167</td>\n",
       "      <td>21</td>\n",
       "      <td>0</td>\n",
       "    </tr>\n",
       "    <tr>\n",
       "      <th>4</th>\n",
       "      <td>0</td>\n",
       "      <td>137</td>\n",
       "      <td>40</td>\n",
       "      <td>35</td>\n",
       "      <td>168</td>\n",
       "      <td>43.1</td>\n",
       "      <td>2.288</td>\n",
       "      <td>33</td>\n",
       "      <td>1</td>\n",
       "    </tr>\n",
       "  </tbody>\n",
       "</table>\n",
       "</div>"
      ],
      "text/plain": [
       "   Pregnancies  Glucose  BloodPressure  SkinThickness  Insulin   BMI  \\\n",
       "0            6      148             72             35        0  33.6   \n",
       "1            1       85             66             29        0  26.6   \n",
       "2            8      183             64              0        0  23.3   \n",
       "3            1       89             66             23       94  28.1   \n",
       "4            0      137             40             35      168  43.1   \n",
       "\n",
       "   DiabetesPedigreeFunction  Age  Outcome  \n",
       "0                     0.627   50        1  \n",
       "1                     0.351   31        0  \n",
       "2                     0.672   32        1  \n",
       "3                     0.167   21        0  \n",
       "4                     2.288   33        1  "
      ]
     },
     "execution_count": 5,
     "metadata": {},
     "output_type": "execute_result"
    }
   ],
   "source": [
    "df.head()"
   ]
  },
  {
   "cell_type": "code",
   "execution_count": 6,
   "id": "45464f08",
   "metadata": {},
   "outputs": [
    {
     "data": {
      "text/plain": [
       "Outcome\n",
       "0    500\n",
       "1    268\n",
       "Name: count, dtype: int64"
      ]
     },
     "execution_count": 6,
     "metadata": {},
     "output_type": "execute_result"
    }
   ],
   "source": [
    "# 비율이 맘에 안듦 \n",
    "# 안걸린 애들이 많다 \n",
    "df['Outcome'].value_counts()"
   ]
  },
  {
   "cell_type": "markdown",
   "id": "f2d7f3b9",
   "metadata": {},
   "source": [
    "- 상대적으로 0인 데이터가 더 많음 "
   ]
  },
  {
   "cell_type": "code",
   "execution_count": 7,
   "id": "44198b62",
   "metadata": {},
   "outputs": [
    {
     "data": {
      "text/plain": [
       "(768, 9)"
      ]
     },
     "execution_count": 7,
     "metadata": {},
     "output_type": "execute_result"
    }
   ],
   "source": [
    "df.shape"
   ]
  },
  {
   "cell_type": "markdown",
   "id": "4fac27d9",
   "metadata": {},
   "source": [
    "- 데이터량 적음, 연습용으로 딱"
   ]
  },
  {
   "cell_type": "code",
   "execution_count": 8,
   "id": "b96c5315",
   "metadata": {},
   "outputs": [
    {
     "data": {
      "text/plain": [
       "Pregnancies                   int64\n",
       "Glucose                       int64\n",
       "BloodPressure                 int64\n",
       "SkinThickness                 int64\n",
       "Insulin                       int64\n",
       "BMI                         float64\n",
       "DiabetesPedigreeFunction    float64\n",
       "Age                           int64\n",
       "Outcome                       int64\n",
       "dtype: object"
      ]
     },
     "execution_count": 8,
     "metadata": {},
     "output_type": "execute_result"
    }
   ],
   "source": [
    "df.dtypes"
   ]
  },
  {
   "cell_type": "code",
   "execution_count": 9,
   "id": "794ed877",
   "metadata": {},
   "outputs": [
    {
     "name": "stdout",
     "output_type": "stream",
     "text": [
      "<class 'pandas.core.frame.DataFrame'>\n",
      "RangeIndex: 768 entries, 0 to 767\n",
      "Data columns (total 9 columns):\n",
      " #   Column                    Non-Null Count  Dtype  \n",
      "---  ------                    --------------  -----  \n",
      " 0   Pregnancies               768 non-null    int64  \n",
      " 1   Glucose                   768 non-null    int64  \n",
      " 2   BloodPressure             768 non-null    int64  \n",
      " 3   SkinThickness             768 non-null    int64  \n",
      " 4   Insulin                   768 non-null    int64  \n",
      " 5   BMI                       768 non-null    float64\n",
      " 6   DiabetesPedigreeFunction  768 non-null    float64\n",
      " 7   Age                       768 non-null    int64  \n",
      " 8   Outcome                   768 non-null    int64  \n",
      "dtypes: float64(2), int64(7)\n",
      "memory usage: 54.1 KB\n"
     ]
    }
   ],
   "source": [
    "df.info()"
   ]
  },
  {
   "cell_type": "markdown",
   "id": "e513996d",
   "metadata": {},
   "source": [
    "- 결측치는 없고 피처의 타입은 모두 숫자형"
   ]
  },
  {
   "cell_type": "markdown",
   "id": "32db1132",
   "metadata": {},
   "source": [
    "- pred_proba : predict probability 예측확률 "
   ]
  },
  {
   "cell_type": "code",
   "execution_count": 30,
   "id": "694df3d7",
   "metadata": {},
   "outputs": [],
   "source": [
    "# 요구사항: 정밀도를 더 신경써달라 \n",
    "# 정답값 , pred : 예측값, pred_proba : 예측확률을 받을 것임 \n",
    "def get_clf_eval(y_test, pred = None, pred_proba = None):\n",
    "    \n",
    "    # 혼동행렬 \n",
    "    confusion = confusion_matrix(y_test, pred)\n",
    "    # 정확도\n",
    "    accuracy = accuracy_score(y_test,pred)\n",
    "    # 정밀도 비율 \n",
    "    precision = precision_score(y_test,pred)\n",
    "    # 재현율 (실제 True 인것중 모델이 True라고 인식한 것)\n",
    "    recall = recall_score(y_test, pred)\n",
    "    \n",
    "    #  F1 score는 precision과 recall을 조합하여 하나의 통계치를 반환\n",
    "    f1 = f1_score(y_test, pred)\n",
    "    roc_auc = roc_auc_score(y_test, pred_proba)\n",
    "    print('오차 행렬')\n",
    "    print(confusion)\n",
    "    print(f'정확도: {accuracy:.4f}, 정밀도: {precision:.4f}. 재현율: {recall:.4f}, F1: {f1:.4f}, AUC: {roc_auc:.4f}')\n",
    "    "
   ]
  },
  {
   "cell_type": "code",
   "execution_count": 40,
   "id": "ca8554e3",
   "metadata": {},
   "outputs": [],
   "source": [
    "# thresholds : 임계값 \n",
    "\n",
    "def precision_recall_curve_plot(y_test = None, pred_proba_c1 = None):\n",
    "    # threshold ndarray와 treshold에 따른 정밀도, 재현율 ndarray 추출\n",
    "    precisions, recalls, thresholds = precision_recall_curve(y_test, pred_proba_c1)\n",
    "\n",
    "    \n",
    "    # x축을 threshold 값으로, y축은 정밀도, 재현율 값으로 각각 시각화 수행\n",
    "    plt.figure(figsize = (8, 6))\n",
    "    threshold_boundary = thresholds.shape[0]\n",
    "    plt.plot(thresholds, precisions[:threshold_boundary], linestyle = \"--\", label = \"precision\") # 임계값이 어떨 때 정밀도가 어땠다\n",
    "    plt.plot(thresholds, recalls[:threshold_boundary], label = \"recall\") # 임계값이 어떨 때 재현율이 어땠다\n",
    "\n",
    "    \n",
    "    # threshold 값 x 축의 단위를 0.1 단위로 변경\n",
    "    start, end = plt.xlim() #plot에다가 임계값이 자동으로 x축의 범위를 잡음, x축의 범위를 end로 잡음 \n",
    "    plt.xticks(np.round(np.arange(start, end, 0.1), 2))\n",
    "    \n",
    "    # x축, y축 label과 legend, grid 설정\n",
    "    plt.xlabel('Threshold value')\n",
    "    plt.ylabel('Precision & Recall value')\n",
    "    plt.legend()\n",
    "    plt.grid()\n",
    "    plt.show()"
   ]
  },
  {
   "cell_type": "markdown",
   "id": "2155e26d",
   "metadata": {},
   "source": [
    "## baseline 모델 "
   ]
  },
  {
   "cell_type": "code",
   "execution_count": 41,
   "id": "3eed45bf",
   "metadata": {},
   "outputs": [],
   "source": [
    "x = df.iloc[:, :-1]\n",
    "y = df.iloc[:, -1]"
   ]
  },
  {
   "cell_type": "code",
   "execution_count": 42,
   "id": "475334c8",
   "metadata": {},
   "outputs": [],
   "source": [
    "x_train, x_test, y_train, y_test = train_test_split(x, y, test_size=0.2, random_state=11, stratify= y)"
   ]
  },
  {
   "cell_type": "code",
   "execution_count": 43,
   "id": "4933ac18",
   "metadata": {},
   "outputs": [
    {
     "data": {
      "text/plain": [
       "((614, 8), (154, 8))"
      ]
     },
     "execution_count": 43,
     "metadata": {},
     "output_type": "execute_result"
    }
   ],
   "source": [
    "x_train.shape, x_test.shape"
   ]
  },
  {
   "cell_type": "code",
   "execution_count": 44,
   "id": "c82dd4ba",
   "metadata": {},
   "outputs": [],
   "source": [
    "# baseline 로지스틱 회귀\n",
    "lr_clf1 = LogisticRegression(random_state=11)\n",
    "lr_clf1.fit(x_train, y_train)\n",
    "pred1 = lr_clf1.predict(x_test)\n",
    "pred_proba1 = lr_clf1.predict_proba(x_test)[:, 1]"
   ]
  },
  {
   "cell_type": "code",
   "execution_count": 45,
   "id": "7446c734",
   "metadata": {},
   "outputs": [
    {
     "name": "stdout",
     "output_type": "stream",
     "text": [
      "오차 행렬\n",
      "[[89 11]\n",
      " [24 30]]\n",
      "정확도: 0.7727, 정밀도: 0.7317. 재현율: 0.5556, F1: 0.6316, AUC: 0.8461\n"
     ]
    }
   ],
   "source": [
    "get_clf_eval(y_test, pred1, pred_proba1)"
   ]
  },
  {
   "cell_type": "code",
   "execution_count": 46,
   "id": "c71c7520",
   "metadata": {},
   "outputs": [
    {
     "data": {
      "image/png": "[encoded data removed]",
      "text/plain": [
       "<Figure size 800x600 with 1 Axes>"
      ]
     },
     "metadata": {},
     "output_type": "display_data"
    }
   ],
   "source": [
    "pred_proba_c1 = lr_clf1.predict_proba(x_test)[:, 1]\n",
    "precision_recall_curve_plot(y_test, pred_proba_c1)"
   ]
  },
  {
   "cell_type": "markdown",
   "id": "a3d9a83b",
   "metadata": {},
   "source": [
    "- 임계값이 대략 0.44 정도에서 정밀도와 재현율이 균형을 맞출 것으로 보임\n",
    "- 점수를 더 높이기 위해 데이터 전처리 수행 "
   ]
  },
  {
   "cell_type": "markdown",
   "id": "babd0f74",
   "metadata": {},
   "source": [
    "# 데이터 전처리"
   ]
  },
  {
   "cell_type": "code",
   "execution_count": 47,
   "id": "911fd51a",
   "metadata": {},
   "outputs": [
    {
     "data": {
      "text/html": [
       "<div>\n",
       "<style scoped>\n",
       "    .dataframe tbody tr th:only-of-type {\n",
       "        vertical-align: middle;\n",
       "    }\n",
       "\n",
       "    .dataframe tbody tr th {\n",
       "        vertical-align: top;\n",
       "    }\n",
       "\n",
       "    .dataframe thead th {\n",
       "        text-align: right;\n",
       "    }\n",
       "</style>\n",
       "<table border=\"1\" class=\"dataframe\">\n",
       "  <thead>\n",
       "    <tr style=\"text-align: right;\">\n",
       "      <th></th>\n",
       "      <th>Pregnancies</th>\n",
       "      <th>Glucose</th>\n",
       "      <th>BloodPressure</th>\n",
       "      <th>SkinThickness</th>\n",
       "      <th>Insulin</th>\n",
       "      <th>BMI</th>\n",
       "      <th>DiabetesPedigreeFunction</th>\n",
       "      <th>Age</th>\n",
       "      <th>Outcome</th>\n",
       "    </tr>\n",
       "  </thead>\n",
       "  <tbody>\n",
       "    <tr>\n",
       "      <th>count</th>\n",
       "      <td>768.000000</td>\n",
       "      <td>768.000000</td>\n",
       "      <td>768.000000</td>\n",
       "      <td>768.000000</td>\n",
       "      <td>768.000000</td>\n",
       "      <td>768.000000</td>\n",
       "      <td>768.000000</td>\n",
       "      <td>768.000000</td>\n",
       "      <td>768.000000</td>\n",
       "    </tr>\n",
       "    <tr>\n",
       "      <th>mean</th>\n",
       "      <td>3.845052</td>\n",
       "      <td>120.894531</td>\n",
       "      <td>69.105469</td>\n",
       "      <td>20.536458</td>\n",
       "      <td>79.799479</td>\n",
       "      <td>31.992578</td>\n",
       "      <td>0.471876</td>\n",
       "      <td>33.240885</td>\n",
       "      <td>0.348958</td>\n",
       "    </tr>\n",
       "    <tr>\n",
       "      <th>std</th>\n",
       "      <td>3.369578</td>\n",
       "      <td>31.972618</td>\n",
       "      <td>19.355807</td>\n",
       "      <td>15.952218</td>\n",
       "      <td>115.244002</td>\n",
       "      <td>7.884160</td>\n",
       "      <td>0.331329</td>\n",
       "      <td>11.760232</td>\n",
       "      <td>0.476951</td>\n",
       "    </tr>\n",
       "    <tr>\n",
       "      <th>min</th>\n",
       "      <td>0.000000</td>\n",
       "      <td>0.000000</td>\n",
       "      <td>0.000000</td>\n",
       "      <td>0.000000</td>\n",
       "      <td>0.000000</td>\n",
       "      <td>0.000000</td>\n",
       "      <td>0.078000</td>\n",
       "      <td>21.000000</td>\n",
       "      <td>0.000000</td>\n",
       "    </tr>\n",
       "    <tr>\n",
       "      <th>25%</th>\n",
       "      <td>1.000000</td>\n",
       "      <td>99.000000</td>\n",
       "      <td>62.000000</td>\n",
       "      <td>0.000000</td>\n",
       "      <td>0.000000</td>\n",
       "      <td>27.300000</td>\n",
       "      <td>0.243750</td>\n",
       "      <td>24.000000</td>\n",
       "      <td>0.000000</td>\n",
       "    </tr>\n",
       "    <tr>\n",
       "      <th>50%</th>\n",
       "      <td>3.000000</td>\n",
       "      <td>117.000000</td>\n",
       "      <td>72.000000</td>\n",
       "      <td>23.000000</td>\n",
       "      <td>30.500000</td>\n",
       "      <td>32.000000</td>\n",
       "      <td>0.372500</td>\n",
       "      <td>29.000000</td>\n",
       "      <td>0.000000</td>\n",
       "    </tr>\n",
       "    <tr>\n",
       "      <th>75%</th>\n",
       "      <td>6.000000</td>\n",
       "      <td>140.250000</td>\n",
       "      <td>80.000000</td>\n",
       "      <td>32.000000</td>\n",
       "      <td>127.250000</td>\n",
       "      <td>36.600000</td>\n",
       "      <td>0.626250</td>\n",
       "      <td>41.000000</td>\n",
       "      <td>1.000000</td>\n",
       "    </tr>\n",
       "    <tr>\n",
       "      <th>max</th>\n",
       "      <td>17.000000</td>\n",
       "      <td>199.000000</td>\n",
       "      <td>122.000000</td>\n",
       "      <td>99.000000</td>\n",
       "      <td>846.000000</td>\n",
       "      <td>67.100000</td>\n",
       "      <td>2.420000</td>\n",
       "      <td>81.000000</td>\n",
       "      <td>1.000000</td>\n",
       "    </tr>\n",
       "  </tbody>\n",
       "</table>\n",
       "</div>"
      ],
      "text/plain": [
       "       Pregnancies     Glucose  BloodPressure  SkinThickness     Insulin  \\\n",
       "count   768.000000  768.000000     768.000000     768.000000  768.000000   \n",
       "mean      3.845052  120.894531      69.105469      20.536458   79.799479   \n",
       "std       3.369578   31.972618      19.355807      15.952218  115.244002   \n",
       "min       0.000000    0.000000       0.000000       0.000000    0.000000   \n",
       "25%       1.000000   99.000000      62.000000       0.000000    0.000000   \n",
       "50%       3.000000  117.000000      72.000000      23.000000   30.500000   \n",
       "75%       6.000000  140.250000      80.000000      32.000000  127.250000   \n",
       "max      17.000000  199.000000     122.000000      99.000000  846.000000   \n",
       "\n",
       "              BMI  DiabetesPedigreeFunction         Age     Outcome  \n",
       "count  768.000000                768.000000  768.000000  768.000000  \n",
       "mean    31.992578                  0.471876   33.240885    0.348958  \n",
       "std      7.884160                  0.331329   11.760232    0.476951  \n",
       "min      0.000000                  0.078000   21.000000    0.000000  \n",
       "25%     27.300000                  0.243750   24.000000    0.000000  \n",
       "50%     32.000000                  0.372500   29.000000    0.000000  \n",
       "75%     36.600000                  0.626250   41.000000    1.000000  \n",
       "max     67.100000                  2.420000   81.000000    1.000000  "
      ]
     },
     "execution_count": 47,
     "metadata": {},
     "output_type": "execute_result"
    }
   ],
   "source": [
    "df.describe()"
   ]
  },
  {
   "cell_type": "markdown",
   "id": "e5b32b67",
   "metadata": {},
   "source": [
    "- std : 단위 안맞음 \n",
    "- min : 0 (사자)\n",
    "\n",
    "- 데이터 값의 최솟값이 0인 피처가 존재\n",
    "    - 포도압, 혈압, 피하지방, 인슐링, BMI가 0인 것은 납득하기 어려움"
   ]
  },
  {
   "cell_type": "code",
   "execution_count": 49,
   "id": "06ca336a",
   "metadata": {},
   "outputs": [
    {
     "data": {
      "image/png": "[encoded data removed]",
      "text/plain": [
       "<Figure size 640x480 with 1 Axes>"
      ]
     },
     "metadata": {},
     "output_type": "display_data"
    }
   ],
   "source": [
    "# 포도당이 0이면 사람이 죽음 \n",
    "plt.hist(df['Glucose'], bins = 100)\n",
    "plt.show()"
   ]
  },
  {
   "cell_type": "markdown",
   "id": "0ee315fa",
   "metadata": {},
   "source": [
    "- bins 20 했다가 알아보기 힘들어 100으로 맞춤 \n",
    "- 글루코스 분포도 이정도면 예쁜 편 \n",
    "- 포도당이 0인 데이터가 5개 존재"
   ]
  },
  {
   "cell_type": "code",
   "execution_count": 50,
   "id": "be49800c",
   "metadata": {},
   "outputs": [],
   "source": [
    "# 0값을 검사할 피처명 리스트 \n",
    "zero_features = ['Glucose', 'BloodPressure', 'SkinThickness', 'Insulin', 'BMI']"
   ]
  },
  {
   "cell_type": "code",
   "execution_count": 51,
   "id": "dc8fae81",
   "metadata": {},
   "outputs": [],
   "source": [
    "# 전체 데이터 건수\n",
    "total_count = df['Glucose'].count()"
   ]
  },
  {
   "cell_type": "code",
   "execution_count": 53,
   "id": "63a817f6",
   "metadata": {},
   "outputs": [
    {
     "name": "stdout",
     "output_type": "stream",
     "text": [
      "Glucose 0 건수는 5, 비율은 0.65\n",
      "BloodPressure 0 건수는 35, 비율은 4.56\n",
      "SkinThickness 0 건수는 227, 비율은 29.56\n",
      "Insulin 0 건수는 374, 비율은 48.70\n",
      "BMI 0 건수는 11, 비율은 1.43\n"
     ]
    }
   ],
   "source": [
    "# 피처별로 반복하면서 데이터 값이 0인 데이터 건수 추출하고, 비율 계산\n",
    "for feature in zero_features:\n",
    "    zero_count = df[df[feature] == 0][feature].count()\n",
    "    print(f'{feature} 0 건수는 {zero_count}, 비율은 {100 * zero_count / total_count:.2f}')"
   ]
  },
  {
   "cell_type": "markdown",
   "id": "f433bc90",
   "metadata": {},
   "source": [
    "- SkinThickness 와 Insulin  의 0값 비율이 꽤 높은 편이어서 데이터 일괄 삭제 시 오히려 모델 학습에 악영향을 줄 수 있음 \n",
    "    - 이상치를 평균값으로 대체 "
   ]
  },
  {
   "cell_type": "code",
   "execution_count": 54,
   "id": "c1f49604",
   "metadata": {},
   "outputs": [
    {
     "data": {
      "text/plain": [
       "Glucose          120.894531\n",
       "BloodPressure     69.105469\n",
       "SkinThickness     20.536458\n",
       "Insulin           79.799479\n",
       "BMI               31.992578\n",
       "dtype: float64"
      ]
     },
     "execution_count": 54,
     "metadata": {},
     "output_type": "execute_result"
    }
   ],
   "source": [
    "# zero_features 리스트 내부에 저장된 개별 피처들에 대해서 0값을 평균값으로 대체\n",
    "mean_zero_features = df[zero_features].mean()\n",
    "mean_zero_features"
   ]
  },
  {
   "cell_type": "code",
   "execution_count": 55,
   "id": "5bb81fa4",
   "metadata": {},
   "outputs": [],
   "source": [
    "df[zero_features] = df[zero_features].replace(0, mean_zero_features)"
   ]
  },
  {
   "cell_type": "code",
   "execution_count": 56,
   "id": "38aa8aaf",
   "metadata": {},
   "outputs": [
    {
     "data": {
      "text/html": [
       "<div>\n",
       "<style scoped>\n",
       "    .dataframe tbody tr th:only-of-type {\n",
       "        vertical-align: middle;\n",
       "    }\n",
       "\n",
       "    .dataframe tbody tr th {\n",
       "        vertical-align: top;\n",
       "    }\n",
       "\n",
       "    .dataframe thead th {\n",
       "        text-align: right;\n",
       "    }\n",
       "</style>\n",
       "<table border=\"1\" class=\"dataframe\">\n",
       "  <thead>\n",
       "    <tr style=\"text-align: right;\">\n",
       "      <th></th>\n",
       "      <th>Pregnancies</th>\n",
       "      <th>Glucose</th>\n",
       "      <th>BloodPressure</th>\n",
       "      <th>SkinThickness</th>\n",
       "      <th>Insulin</th>\n",
       "      <th>BMI</th>\n",
       "      <th>DiabetesPedigreeFunction</th>\n",
       "      <th>Age</th>\n",
       "      <th>Outcome</th>\n",
       "    </tr>\n",
       "  </thead>\n",
       "  <tbody>\n",
       "    <tr>\n",
       "      <th>count</th>\n",
       "      <td>768.000000</td>\n",
       "      <td>768.000000</td>\n",
       "      <td>768.000000</td>\n",
       "      <td>768.000000</td>\n",
       "      <td>768.000000</td>\n",
       "      <td>768.000000</td>\n",
       "      <td>768.000000</td>\n",
       "      <td>768.000000</td>\n",
       "      <td>768.000000</td>\n",
       "    </tr>\n",
       "    <tr>\n",
       "      <th>mean</th>\n",
       "      <td>3.845052</td>\n",
       "      <td>121.681605</td>\n",
       "      <td>72.254807</td>\n",
       "      <td>26.606479</td>\n",
       "      <td>118.660163</td>\n",
       "      <td>32.450805</td>\n",
       "      <td>0.471876</td>\n",
       "      <td>33.240885</td>\n",
       "      <td>0.348958</td>\n",
       "    </tr>\n",
       "    <tr>\n",
       "      <th>std</th>\n",
       "      <td>3.369578</td>\n",
       "      <td>30.436016</td>\n",
       "      <td>12.115932</td>\n",
       "      <td>9.631241</td>\n",
       "      <td>93.080358</td>\n",
       "      <td>6.875374</td>\n",
       "      <td>0.331329</td>\n",
       "      <td>11.760232</td>\n",
       "      <td>0.476951</td>\n",
       "    </tr>\n",
       "    <tr>\n",
       "      <th>min</th>\n",
       "      <td>0.000000</td>\n",
       "      <td>44.000000</td>\n",
       "      <td>24.000000</td>\n",
       "      <td>7.000000</td>\n",
       "      <td>14.000000</td>\n",
       "      <td>18.200000</td>\n",
       "      <td>0.078000</td>\n",
       "      <td>21.000000</td>\n",
       "      <td>0.000000</td>\n",
       "    </tr>\n",
       "    <tr>\n",
       "      <th>25%</th>\n",
       "      <td>1.000000</td>\n",
       "      <td>99.750000</td>\n",
       "      <td>64.000000</td>\n",
       "      <td>20.536458</td>\n",
       "      <td>79.799479</td>\n",
       "      <td>27.500000</td>\n",
       "      <td>0.243750</td>\n",
       "      <td>24.000000</td>\n",
       "      <td>0.000000</td>\n",
       "    </tr>\n",
       "    <tr>\n",
       "      <th>50%</th>\n",
       "      <td>3.000000</td>\n",
       "      <td>117.000000</td>\n",
       "      <td>72.000000</td>\n",
       "      <td>23.000000</td>\n",
       "      <td>79.799479</td>\n",
       "      <td>32.000000</td>\n",
       "      <td>0.372500</td>\n",
       "      <td>29.000000</td>\n",
       "      <td>0.000000</td>\n",
       "    </tr>\n",
       "    <tr>\n",
       "      <th>75%</th>\n",
       "      <td>6.000000</td>\n",
       "      <td>140.250000</td>\n",
       "      <td>80.000000</td>\n",
       "      <td>32.000000</td>\n",
       "      <td>127.250000</td>\n",
       "      <td>36.600000</td>\n",
       "      <td>0.626250</td>\n",
       "      <td>41.000000</td>\n",
       "      <td>1.000000</td>\n",
       "    </tr>\n",
       "    <tr>\n",
       "      <th>max</th>\n",
       "      <td>17.000000</td>\n",
       "      <td>199.000000</td>\n",
       "      <td>122.000000</td>\n",
       "      <td>99.000000</td>\n",
       "      <td>846.000000</td>\n",
       "      <td>67.100000</td>\n",
       "      <td>2.420000</td>\n",
       "      <td>81.000000</td>\n",
       "      <td>1.000000</td>\n",
       "    </tr>\n",
       "  </tbody>\n",
       "</table>\n",
       "</div>"
      ],
      "text/plain": [
       "       Pregnancies     Glucose  BloodPressure  SkinThickness     Insulin  \\\n",
       "count   768.000000  768.000000     768.000000     768.000000  768.000000   \n",
       "mean      3.845052  121.681605      72.254807      26.606479  118.660163   \n",
       "std       3.369578   30.436016      12.115932       9.631241   93.080358   \n",
       "min       0.000000   44.000000      24.000000       7.000000   14.000000   \n",
       "25%       1.000000   99.750000      64.000000      20.536458   79.799479   \n",
       "50%       3.000000  117.000000      72.000000      23.000000   79.799479   \n",
       "75%       6.000000  140.250000      80.000000      32.000000  127.250000   \n",
       "max      17.000000  199.000000     122.000000      99.000000  846.000000   \n",
       "\n",
       "              BMI  DiabetesPedigreeFunction         Age     Outcome  \n",
       "count  768.000000                768.000000  768.000000  768.000000  \n",
       "mean    32.450805                  0.471876   33.240885    0.348958  \n",
       "std      6.875374                  0.331329   11.760232    0.476951  \n",
       "min     18.200000                  0.078000   21.000000    0.000000  \n",
       "25%     27.500000                  0.243750   24.000000    0.000000  \n",
       "50%     32.000000                  0.372500   29.000000    0.000000  \n",
       "75%     36.600000                  0.626250   41.000000    1.000000  \n",
       "max     67.100000                  2.420000   81.000000    1.000000  "
      ]
     },
     "execution_count": 56,
     "metadata": {},
     "output_type": "execute_result"
    }
   ],
   "source": [
    "df.describe()"
   ]
  },
  {
   "cell_type": "markdown",
   "id": "74d5e2a2",
   "metadata": {},
   "source": [
    "# 모델 학습 테스트"
   ]
  },
  {
   "cell_type": "code",
   "execution_count": 57,
   "id": "f8413cf0",
   "metadata": {},
   "outputs": [],
   "source": [
    "x = df.iloc[:, :-1]\n",
    "y = df.iloc[:, -1]"
   ]
  },
  {
   "cell_type": "code",
   "execution_count": 58,
   "id": "117d1a91",
   "metadata": {},
   "outputs": [],
   "source": [
    "x_train, x_test, y_train, y_test = train_test_split(x, y, test_size= 0.2, random_state= 11, stratify= y)"
   ]
  },
  {
   "cell_type": "code",
   "execution_count": 59,
   "id": "d3400e66",
   "metadata": {},
   "outputs": [],
   "source": [
    "# StandardScaler 를 통해 스케일링 적용\n",
    "scaler = StandardScaler()\n",
    "scaled_train = scaler.fit_transform(x_train)\n",
    "scaled_test = scaler.transform(x_test)"
   ]
  },
  {
   "cell_type": "code",
   "execution_count": 60,
   "id": "7a3eba89",
   "metadata": {},
   "outputs": [],
   "source": [
    "# 로지스틱 회귀 학습, 예측, 평가\n",
    "lr_clf2 = LogisticRegression(random_state=11)\n",
    "lr_clf2.fit(scaled_train, y_train)\n",
    "pred2 = lr_clf2.predict(scaled_test)\n",
    "pred_proba2 = lr_clf2.predict_proba(scaled_test)[:, 1]"
   ]
  },
  {
   "cell_type": "code",
   "execution_count": 61,
   "id": "f16773ea",
   "metadata": {},
   "outputs": [
    {
     "name": "stdout",
     "output_type": "stream",
     "text": [
      "오차 행렬\n",
      "[[88 12]\n",
      " [25 29]]\n",
      "정확도: 0.7597, 정밀도: 0.7073. 재현율: 0.5370, F1: 0.6105, AUC: 0.8461\n"
     ]
    }
   ],
   "source": [
    "get_clf_eval(y_test, pred2, pred_proba2)"
   ]
  },
  {
   "cell_type": "markdown",
   "id": "41c7d488",
   "metadata": {},
   "source": [
    "- 바로위의 random_state와 baseline의 random_state 를 맞춰야 한다."
   ]
  },
  {
   "cell_type": "code",
   "execution_count": 63,
   "id": "461b17fa",
   "metadata": {},
   "outputs": [
    {
     "data": {
      "text/html": [
       "<style>#sk-container-id-1 {color: black;background-color: white;}#sk-container-id-1 pre{padding: 0;}#sk-container-id-1 div.sk-toggleable {background-color: white;}#sk-container-id-1 label.sk-toggleable__label {cursor: pointer;display: block;width: 100%;margin-bottom: 0;padding: 0.3em;box-sizing: border-box;text-align: center;}#sk-container-id-1 label.sk-toggleable__label-arrow:before {content: \"▸\";float: left;margin-right: 0.25em;color: #696969;}#sk-container-id-1 label.sk-toggleable__label-arrow:hover:before {color: black;}#sk-container-id-1 div.sk-estimator:hover label.sk-toggleable__label-arrow:before {color: black;}#sk-container-id-1 div.sk-toggleable__content {max-height: 0;max-width: 0;overflow: hidden;text-align: left;background-color: #f0f8ff;}#sk-container-id-1 div.sk-toggleable__content pre {margin: 0.2em;color: black;border-radius: 0.25em;background-color: #f0f8ff;}#sk-container-id-1 input.sk-toggleable__control:checked~div.sk-toggleable__content {max-height: 200px;max-width: 100%;overflow: auto;}#sk-container-id-1 input.sk-toggleable__control:checked~label.sk-toggleable__label-arrow:before {content: \"▾\";}#sk-container-id-1 div.sk-estimator input.sk-toggleable__control:checked~label.sk-toggleable__label {background-color: #d4ebff;}#sk-container-id-1 div.sk-label input.sk-toggleable__control:checked~label.sk-toggleable__label {background-color: #d4ebff;}#sk-container-id-1 input.sk-hidden--visually {border: 0;clip: rect(1px 1px 1px 1px);clip: rect(1px, 1px, 1px, 1px);height: 1px;margin: -1px;overflow: hidden;padding: 0;position: absolute;width: 1px;}#sk-container-id-1 div.sk-estimator {font-family: monospace;background-color: #f0f8ff;border: 1px dotted black;border-radius: 0.25em;box-sizing: border-box;margin-bottom: 0.5em;}#sk-container-id-1 div.sk-estimator:hover {background-color: #d4ebff;}#sk-container-id-1 div.sk-parallel-item::after {content: \"\";width: 100%;border-bottom: 1px solid gray;flex-grow: 1;}#sk-container-id-1 div.sk-label:hover label.sk-toggleable__label {background-color: #d4ebff;}#sk-container-id-1 div.sk-serial::before {content: \"\";position: absolute;border-left: 1px solid gray;box-sizing: border-box;top: 0;bottom: 0;left: 50%;z-index: 0;}#sk-container-id-1 div.sk-serial {display: flex;flex-direction: column;align-items: center;background-color: white;padding-right: 0.2em;padding-left: 0.2em;position: relative;}#sk-container-id-1 div.sk-item {position: relative;z-index: 1;}#sk-container-id-1 div.sk-parallel {display: flex;align-items: stretch;justify-content: center;background-color: white;position: relative;}#sk-container-id-1 div.sk-item::before, #sk-container-id-1 div.sk-parallel-item::before {content: \"\";position: absolute;border-left: 1px solid gray;box-sizing: border-box;top: 0;bottom: 0;left: 50%;z-index: -1;}#sk-container-id-1 div.sk-parallel-item {display: flex;flex-direction: column;z-index: 1;position: relative;background-color: white;}#sk-container-id-1 div.sk-parallel-item:first-child::after {align-self: flex-end;width: 50%;}#sk-container-id-1 div.sk-parallel-item:last-child::after {align-self: flex-start;width: 50%;}#sk-container-id-1 div.sk-parallel-item:only-child::after {width: 0;}#sk-container-id-1 div.sk-dashed-wrapped {border: 1px dashed gray;margin: 0 0.4em 0.5em 0.4em;box-sizing: border-box;padding-bottom: 0.4em;background-color: white;}#sk-container-id-1 div.sk-label label {font-family: monospace;font-weight: bold;display: inline-block;line-height: 1.2em;}#sk-container-id-1 div.sk-label-container {text-align: center;}#sk-container-id-1 div.sk-container {/* jupyter's `normalize.less` sets `[hidden] { display: none; }` but bootstrap.min.css set `[hidden] { display: none !important; }` so we also need the `!important` here to be able to override the default hidden behavior on the sphinx rendered scikit-learn.org. See: https://github.com/scikit-learn/scikit-learn/issues/21755 */display: inline-block !important;position: relative;}#sk-container-id-1 div.sk-text-repr-fallback {display: none;}</style><div id=\"sk-container-id-1\" class=\"sk-top-container\"><div class=\"sk-text-repr-fallback\"><pre>GridSearchCV(cv=StratifiedKFold(n_splits=5, random_state=11, shuffle=True),\n",
       "             estimator=LogisticRegression(random_state=11), n_jobs=-1,\n",
       "             param_grid={&#x27;C&#x27;: [0.01, 0.1, 1, 10, 100],\n",
       "                         &#x27;penalty&#x27;: [&#x27;l1&#x27;, &#x27;l2&#x27;, &#x27;elasticnet&#x27;, None],\n",
       "                         &#x27;solver&#x27;: [&#x27;lbfgs&#x27;, &#x27;liblinear&#x27;, &#x27;newton-cg&#x27;,\n",
       "                                    &#x27;newton-cholesky&#x27;, &#x27;sag&#x27;, &#x27;saga&#x27;]},\n",
       "             scoring=&#x27;roc_auc&#x27;)</pre><b>In a Jupyter environment, please rerun this cell to show the HTML representation or trust the notebook. <br />On GitHub, the HTML representation is unable to render, please try loading this page with nbviewer.org.</b></div><div class=\"sk-container\" hidden><div class=\"sk-item sk-dashed-wrapped\"><div class=\"sk-label-container\"><div class=\"sk-label sk-toggleable\"><input class=\"sk-toggleable__control sk-hidden--visually\" id=\"sk-estimator-id-1\" type=\"checkbox\" ><label for=\"sk-estimator-id-1\" class=\"sk-toggleable__label sk-toggleable__label-arrow\">GridSearchCV</label><div class=\"sk-toggleable__content\"><pre>GridSearchCV(cv=StratifiedKFold(n_splits=5, random_state=11, shuffle=True),\n",
       "             estimator=LogisticRegression(random_state=11), n_jobs=-1,\n",
       "             param_grid={&#x27;C&#x27;: [0.01, 0.1, 1, 10, 100],\n",
       "                         &#x27;penalty&#x27;: [&#x27;l1&#x27;, &#x27;l2&#x27;, &#x27;elasticnet&#x27;, None],\n",
       "                         &#x27;solver&#x27;: [&#x27;lbfgs&#x27;, &#x27;liblinear&#x27;, &#x27;newton-cg&#x27;,\n",
       "                                    &#x27;newton-cholesky&#x27;, &#x27;sag&#x27;, &#x27;saga&#x27;]},\n",
       "             scoring=&#x27;roc_auc&#x27;)</pre></div></div></div><div class=\"sk-parallel\"><div class=\"sk-parallel-item\"><div class=\"sk-item\"><div class=\"sk-label-container\"><div class=\"sk-label sk-toggleable\"><input class=\"sk-toggleable__control sk-hidden--visually\" id=\"sk-estimator-id-2\" type=\"checkbox\" ><label for=\"sk-estimator-id-2\" class=\"sk-toggleable__label sk-toggleable__label-arrow\">estimator: LogisticRegression</label><div class=\"sk-toggleable__content\"><pre>LogisticRegression(random_state=11)</pre></div></div></div><div class=\"sk-serial\"><div class=\"sk-item\"><div class=\"sk-estimator sk-toggleable\"><input class=\"sk-toggleable__control sk-hidden--visually\" id=\"sk-estimator-id-3\" type=\"checkbox\" ><label for=\"sk-estimator-id-3\" class=\"sk-toggleable__label sk-toggleable__label-arrow\">LogisticRegression</label><div class=\"sk-toggleable__content\"><pre>LogisticRegression(random_state=11)</pre></div></div></div></div></div></div></div></div></div></div>"
      ],
      "text/plain": [
       "GridSearchCV(cv=StratifiedKFold(n_splits=5, random_state=11, shuffle=True),\n",
       "             estimator=LogisticRegression(random_state=11), n_jobs=-1,\n",
       "             param_grid={'C': [0.01, 0.1, 1, 10, 100],\n",
       "                         'penalty': ['l1', 'l2', 'elasticnet', None],\n",
       "                         'solver': ['lbfgs', 'liblinear', 'newton-cg',\n",
       "                                    'newton-cholesky', 'sag', 'saga']},\n",
       "             scoring='roc_auc')"
      ]
     },
     "execution_count": 63,
     "metadata": {},
     "output_type": "execute_result"
    }
   ],
   "source": [
    "logi = LogisticRegression(random_state=11)\n",
    "\n",
    "param = {'penalty' : ['l1', 'l2', 'elasticnet', None],\n",
    "         'C' : [0.01, 0.1, 1, 10, 100],\n",
    "         'solver' : ['lbfgs', 'liblinear', 'newton-cg', 'newton-cholesky', 'sag', 'saga']}\n",
    "\n",
    "splitter = StratifiedKFold(n_splits=5, shuffle= True, random_state=11)\n",
    "\n",
    "gs = GridSearchCV(logi, param, scoring = 'roc_auc', cv = splitter, n_jobs=-1)\n",
    "gs.fit(scaled_train, y_train)"
   ]
  },
  {
   "cell_type": "code",
   "execution_count": 64,
   "id": "e82b6917",
   "metadata": {},
   "outputs": [
    {
     "data": {
      "text/plain": [
       "{'C': 0.1, 'penalty': 'l1', 'solver': 'liblinear'}"
      ]
     },
     "execution_count": 64,
     "metadata": {},
     "output_type": "execute_result"
    }
   ],
   "source": [
    "gs.best_params_"
   ]
  },
  {
   "cell_type": "code",
   "execution_count": 65,
   "id": "96dcc70e",
   "metadata": {},
   "outputs": [],
   "source": [
    "lr_clf3 = gs.best_estimator_"
   ]
  },
  {
   "cell_type": "code",
   "execution_count": 66,
   "id": "630d973f",
   "metadata": {},
   "outputs": [],
   "source": [
    "pred3 = lr_clf3.predict(scaled_test)\n",
    "pred_proba3 = lr_clf3.predict_proba(scaled_test)[:, 1]"
   ]
  },
  {
   "cell_type": "code",
   "execution_count": 67,
   "id": "ae0fc3ea",
   "metadata": {},
   "outputs": [
    {
     "name": "stdout",
     "output_type": "stream",
     "text": [
      "오차 행렬\n",
      "[[88 12]\n",
      " [23 31]]\n",
      "정확도: 0.7727, 정밀도: 0.7209. 재현율: 0.5741, F1: 0.6392, AUC: 0.8400\n"
     ]
    }
   ],
   "source": [
    "get_clf_eval(y_test, pred3, pred_proba3)"
   ]
  },
  {
   "cell_type": "markdown",
   "id": "cef7daac",
   "metadata": {},
   "source": [
    "- 성능이 더 안좋아짐 "
   ]
  },
  {
   "cell_type": "markdown",
   "id": "c017be7e",
   "metadata": {},
   "source": [
    "## 모델 성능 평가 "
   ]
  },
  {
   "cell_type": "code",
   "execution_count": 68,
   "id": "77f185b4",
   "metadata": {},
   "outputs": [
    {
     "data": {
      "image/png": "[encoded data removed]",
      "text/plain": [
       "<Figure size 1000x1000 with 1 Axes>"
      ]
     },
     "metadata": {},
     "output_type": "display_data"
    }
   ],
   "source": [
    "fpr1, tpr1, threshold1 = roc_curve(y_test, pred_proba1)\n",
    "fpr2, tpr2, threshold2 = roc_curve(y_test, pred_proba2)\n",
    "fpr3, tpr3, threshold3 = roc_curve(y_test, pred_proba3)\n",
    "\n",
    "plt.figure(figsize = (10, 10))\n",
    "\n",
    "plt.plot([0, 1], [0, 1], label = 'random')\n",
    "plt.plot(fpr1, tpr1, label = 'baseline')\n",
    "plt.plot(fpr2, tpr2, label = 'standard')\n",
    "plt.plot(fpr3, tpr3, label = 'hyperparam')\n",
    "\n",
    "plt.xlabel('FPR')\n",
    "plt.ylabel('TPR')\n",
    "plt.xlim(0,1)\n",
    "plt.ylim(0,1)\n",
    "plt.legend()\n",
    "plt.show()"
   ]
  },
  {
   "cell_type": "markdown",
   "id": "30d28aa2",
   "metadata": {},
   "source": [
    "- 그래프로 봤을 때는 비슷하지만 베이스라인이 제일 괜찮음 "
   ]
  },
  {
   "cell_type": "code",
   "execution_count": 89,
   "id": "87cd8ae0",
   "metadata": {},
   "outputs": [],
   "source": [
    "# y_test: 정답값, pred_proba_c1: 예측확률값 , thresholds: 임곗값 \n",
    "def get_eval_by_threshold(y_test, pred_proba_c1, thresholds):\n",
    "    # thresholds 리스트 내의 값을 차례로 반복하면서 검증\n",
    "    for custom_threshold in thresholds:\n",
    "        \n",
    "        # binarizer : 숫자를 1 & 0 으로나누는데 숫자조절 가능 \n",
    "        # 2진값으로 나눠주는 클래스임 \n",
    "        binarizer = Binarizer(threshold = custom_threshold)\n",
    "        # 2진값 클래스로 예측확률값 훈련 시키기 \n",
    "        binarizer.fit(pred_proba_c1)\n",
    "        custom_predict = binarizer.transform(pred_proba_c1)\n",
    "        print('임곗값:', custom_threshold)\n",
    "        get_clf_eval(y_test, custom_predict, pred_proba_c1)\n",
    "        print('-' * 80)"
   ]
  },
  {
   "cell_type": "code",
   "execution_count": 90,
   "id": "91a5e2cc",
   "metadata": {},
   "outputs": [],
   "source": [
    "thresholds = [0.3, 0.33, 0.36, 0.39, 0.42, 0.45, 0.48, 0.5]"
   ]
  },
  {
   "cell_type": "code",
   "execution_count": 91,
   "id": "b6b34d7b",
   "metadata": {},
   "outputs": [
    {
     "name": "stdout",
     "output_type": "stream",
     "text": [
      "임곗값: 0.3\n",
      "오차 행렬\n",
      "[[72 28]\n",
      " [13 41]]\n",
      "정확도: 0.7338, 정밀도: 0.5942. 재현율: 0.7593, F1: 0.6667, AUC: 0.8461\n",
      "--------------------------------------------------------------------------------\n",
      "임곗값: 0.33\n",
      "오차 행렬\n",
      "[[78 22]\n",
      " [14 40]]\n",
      "정확도: 0.7662, 정밀도: 0.6452. 재현율: 0.7407, F1: 0.6897, AUC: 0.8461\n",
      "--------------------------------------------------------------------------------\n",
      "임곗값: 0.36\n",
      "오차 행렬\n",
      "[[80 20]\n",
      " [15 39]]\n",
      "정확도: 0.7727, 정밀도: 0.6610. 재현율: 0.7222, F1: 0.6903, AUC: 0.8461\n",
      "--------------------------------------------------------------------------------\n",
      "임곗값: 0.39\n",
      "오차 행렬\n",
      "[[82 18]\n",
      " [15 39]]\n",
      "정확도: 0.7857, 정밀도: 0.6842. 재현율: 0.7222, F1: 0.7027, AUC: 0.8461\n",
      "--------------------------------------------------------------------------------\n",
      "임곗값: 0.42\n",
      "오차 행렬\n",
      "[[82 18]\n",
      " [17 37]]\n",
      "정확도: 0.7727, 정밀도: 0.6727. 재현율: 0.6852, F1: 0.6789, AUC: 0.8461\n",
      "--------------------------------------------------------------------------------\n",
      "임곗값: 0.45\n",
      "오차 행렬\n",
      "[[85 15]\n",
      " [21 33]]\n",
      "정확도: 0.7662, 정밀도: 0.6875. 재현율: 0.6111, F1: 0.6471, AUC: 0.8461\n",
      "--------------------------------------------------------------------------------\n",
      "임곗값: 0.48\n",
      "오차 행렬\n",
      "[[87 13]\n",
      " [23 31]]\n",
      "정확도: 0.7662, 정밀도: 0.7045. 재현율: 0.5741, F1: 0.6327, AUC: 0.8461\n",
      "--------------------------------------------------------------------------------\n",
      "임곗값: 0.5\n",
      "오차 행렬\n",
      "[[89 11]\n",
      " [24 30]]\n",
      "정확도: 0.7727, 정밀도: 0.7317. 재현율: 0.5556, F1: 0.6316, AUC: 0.8461\n",
      "--------------------------------------------------------------------------------\n"
     ]
    }
   ],
   "source": [
    "get_eval_by_threshold(y_test, pred_proba1.reshape(-1, 1), thresholds)"
   ]
  },
  {
   "cell_type": "markdown",
   "id": "ba01545e",
   "metadata": {},
   "source": [
    "#"
   ]
  },
  {
   "cell_type": "code",
   "execution_count": 92,
   "id": "c076bd56",
   "metadata": {},
   "outputs": [],
   "source": [
    "# 임곗값을 0.39로 설정한 Binarizer 생성\n",
    "binarizer = Binarizer(threshold=0.39)\n",
    "\n",
    "pred_th = binarizer.fit_transform(pred_proba1.reshape(-1, 1))"
   ]
  },
  {
   "cell_type": "code",
   "execution_count": 93,
   "id": "6a75ac64",
   "metadata": {},
   "outputs": [
    {
     "data": {
      "text/plain": [
       "array([0.99605002, 0.19416019, 0.79259314, 0.78995613, 0.1098497 ,\n",
       "       0.48089568, 0.05003827, 0.92184951, 0.87704569, 0.63242327,\n",
       "       0.0488461 , 0.77931847, 0.30661041, 0.22667927, 0.23235833,\n",
       "       0.76438639, 0.71816147, 0.87143568, 0.49533258, 0.36507685,\n",
       "       0.08643452, 0.04380665, 0.30396635, 0.15992721, 0.26565071,\n",
       "       0.21141633, 0.44455288, 0.20607925, 0.32797705, 0.0838227 ,\n",
       "       0.42413556, 0.93567833, 0.10454971, 0.31319763, 0.63752404,\n",
       "       0.41680625, 0.25646708, 0.47584684, 0.03405123, 0.04434571,\n",
       "       0.08739603, 0.43082122, 0.83272362, 0.26890695, 0.22732014,\n",
       "       0.79092338, 0.09084826, 0.47381555, 0.09063911, 0.01208768,\n",
       "       0.07488491, 0.11495263, 0.00202736, 0.16883386, 0.00895655,\n",
       "       0.20178235, 0.15658339, 0.0988359 , 0.70209417, 0.04796807,\n",
       "       0.55440969, 0.4458734 , 0.03668699, 0.93007928, 0.06331337,\n",
       "       0.21118397, 0.09896696, 0.10816802, 0.40219199, 0.11655347,\n",
       "       0.47747183, 0.18822167, 0.30157335, 0.92761213, 0.08683825,\n",
       "       0.50802707, 0.55675596, 0.73911053, 0.12787988, 0.94270369,\n",
       "       0.11242825, 0.19082268, 0.043263  , 0.07326592, 0.77268387,\n",
       "       0.33171234, 0.1408892 , 0.19720666, 0.75913762, 0.35387373,\n",
       "       0.19318709, 0.10386763, 0.36579848, 0.25897817, 0.67347368,\n",
       "       0.53608564, 0.43879348, 0.57021089, 0.61740706, 0.07015012,\n",
       "       0.04539247, 0.28005456, 0.20758765, 0.05559054, 0.96848769,\n",
       "       0.24117943, 0.22982915, 0.08676351, 0.73516811, 0.35242864,\n",
       "       0.02334885, 0.3076797 , 0.84616005, 0.28255187, 0.268613  ,\n",
       "       0.12338923, 0.17421469, 0.86272691, 0.03743472, 0.64860833,\n",
       "       0.32211592, 0.56566242, 0.56103628, 0.24629833, 0.71820094,\n",
       "       0.01697903, 0.06096309, 0.97549507, 0.71153758, 0.44606652,\n",
       "       0.19012503, 0.12680283, 0.20487985, 0.23934708, 0.47019786,\n",
       "       0.1149776 , 0.16683473, 0.69732565, 0.4846451 , 0.12623109,\n",
       "       0.08283798, 0.22661251, 0.05692414, 0.22541598, 0.2685589 ,\n",
       "       0.14398999, 0.81893203, 0.21565149, 0.09059158, 0.59062622,\n",
       "       0.07801291, 0.42835166, 0.05586456, 0.1024012 ])"
      ]
     },
     "execution_count": 93,
     "metadata": {},
     "output_type": "execute_result"
    }
   ],
   "source": [
    "pred_proba1"
   ]
  },
  {
   "cell_type": "code",
   "execution_count": 94,
   "id": "dee4806a",
   "metadata": {},
   "outputs": [
    {
     "name": "stdout",
     "output_type": "stream",
     "text": [
      "오차 행렬\n",
      "[[82 18]\n",
      " [15 39]]\n",
      "정확도: 0.7857, 정밀도: 0.6842. 재현율: 0.7222, F1: 0.7027, AUC: 0.8461\n"
     ]
    }
   ],
   "source": [
    "get_clf_eval(y_test, pred_th, pred_proba1)"
   ]
  },
  {
   "cell_type": "code",
   "execution_count": null,
   "id": "1d9276c9",
   "metadata": {},
   "outputs": [],
   "source": []
  },
  {
   "cell_type": "code",
   "execution_count": null,
   "id": "dbafbd3b",
   "metadata": {},
   "outputs": [],
   "source": []
  },
  {
   "cell_type": "code",
   "execution_count": null,
   "id": "e3d213b4",
   "metadata": {},
   "outputs": [],
   "source": []
  }
 ],
 "metadata": {
  "kernelspec": {
   "display_name": "Python 3 (ipykernel)",
   "language": "python",
   "name": "python3"
  },
  "language_info": {
   "codemirror_mode": {
    "name": "ipython",
    "version": 3
   },
   "file_extension": ".py",
   "mimetype": "text/x-python",
   "name": "python",
   "nbconvert_exporter": "python",
   "pygments_lexer": "ipython3",
   "version": "3.11.5"
  }
 },
 "nbformat": 4,
 "nbformat_minor": 5
}
