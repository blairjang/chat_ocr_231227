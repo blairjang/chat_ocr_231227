{
 "cells": [
  {
   "cell_type": "markdown",
   "metadata": {},
   "source": [
    "# 분류 분석"
   ]
  },
  {
   "cell_type": "markdown",
   "metadata": {},
   "source": [
    "## 이진 고객 이탈\n",
    "\n",
    "- 쓸 수 있는 가짓수가 많음 \n",
    "- logi가능, 분류\n",
    "- 머신러닝 엔지니어로써 실무적으로 가장 많이 사용하는 문제"
   ]
  },
  {
   "cell_type": "markdown",
   "metadata": {},
   "source": [
    "고객의 웹사이트 광고를 제공하는 마케팅 대행사에서 당사의 고객이탈율이 꽤 높다는 사실을 알게됐습니다.<br>\n",
    "그 회사에서는 즉시 고객 관리자들을 할당했지만(분류기준이 없음), 어떤 고객이 이탈 할 것인지 예측하는 기계학습 모델을 만들어서 가장 이탈확률이 높은 고객에게 우선적으로 고객 관리자를 배치할 수 있기를 원합니다.<br>\n",
    "고객이 잠재적 이탈 고객인지 여부를 분류하는 분류모델을 만드세요."
   ]
  },
  {
   "cell_type": "markdown",
   "metadata": {},
   "source": [
    "- 어떤 고객이 이탈확률이 높은지\n",
    "- 이탈 확률이 높은 고객을 우선고객으로 배치해야 한다 "
   ]
  },
  {
   "cell_type": "markdown",
   "metadata": {},
   "source": [
    "데이터는 customer_churn.csv로 저장돼있습니다. 아래는 각 컬럼의 정의입니다.\n",
    "- Name : 회사의 최근 담당자의 이름\n",
    "- Age : 고객의 나이\n",
    "- Total_Purchase : 구매한 총 광고\n",
    "- Account_Manager : 바이너리 0 = 고객 관리자 없음, 1 = 고객 관리자 할당됨\n",
    "- Years : 거래 유지 연도수\n",
    "- Num_sites : 서비스를 이용 중인 웹사이트 수\n",
    "- Onboard_date : 마지막 연락처가 등록된 날짜\n",
    "- Location : 고객 사무실 주소\n",
    "- Company : 고객 회사의 이름"
   ]
  },
  {
   "cell_type": "markdown",
   "metadata": {},
   "source": [
    "모델 생성 후에는 고객이 제공하는 new_customers.csv 파일에 저장된 새로운 데이터에 대한 예측값을 제시하세요. <br>\n",
    "고객은 이 데이터를 통해 관리가 필요한 고객들을 알고 싶어 합니다.\n",
    "종속값 Churn"
   ]
  },
  {
   "cell_type": "code",
   "execution_count": 198,
   "metadata": {},
   "outputs": [],
   "source": [
    "import numpy as np\n",
    "import pandas as pd\n",
    "import matplotlib.pyplot as plt\n",
    "import seaborn as sns\n",
    "\n",
    "from sklearn.model_selection import train_test_split, cross_validate\n",
    "from sklearn.linear_model import LogisticRegression\n",
    "\n",
    "# 랜덤 포레스트랑~ 전부 앙상블 기반의 모델 \n",
    "from sklearn.ensemble import (RandomForestClassifier, ExtraTreesClassifier,\n",
    "                               GradientBoostingClassifier)\n",
    "from sklearn.metrics import roc_auc_score, roc_curve, confusion_matrix, f1_score\n",
    "from sklearn.preprocessing import OneHotEncoder\n",
    "from sklearn.preprocessing import StandardScaler"
   ]
  },
  {
   "cell_type": "markdown",
   "metadata": {},
   "source": [
    "### 데이터 불러오기"
   ]
  },
  {
   "cell_type": "code",
   "execution_count": 201,
   "metadata": {},
   "outputs": [
    {
     "data": {
      "text/html": [
       "<div>\n",
       "<style scoped>\n",
       "    .dataframe tbody tr th:only-of-type {\n",
       "        vertical-align: middle;\n",
       "    }\n",
       "\n",
       "    .dataframe tbody tr th {\n",
       "        vertical-align: top;\n",
       "    }\n",
       "\n",
       "    .dataframe thead th {\n",
       "        text-align: right;\n",
       "    }\n",
       "</style>\n",
       "<table border=\"1\" class=\"dataframe\">\n",
       "  <thead>\n",
       "    <tr style=\"text-align: right;\">\n",
       "      <th></th>\n",
       "      <th>Names</th>\n",
       "      <th>Age</th>\n",
       "      <th>Total_Purchase</th>\n",
       "      <th>Account_Manager</th>\n",
       "      <th>Years</th>\n",
       "      <th>Num_Sites</th>\n",
       "      <th>Onboard_date</th>\n",
       "      <th>Location</th>\n",
       "      <th>Company</th>\n",
       "      <th>Churn</th>\n",
       "    </tr>\n",
       "  </thead>\n",
       "  <tbody>\n",
       "    <tr>\n",
       "      <th>0</th>\n",
       "      <td>Cameron Williams</td>\n",
       "      <td>42.0</td>\n",
       "      <td>11066.80</td>\n",
       "      <td>0</td>\n",
       "      <td>7.22</td>\n",
       "      <td>8.0</td>\n",
       "      <td>2013-08-30 07:00:40</td>\n",
       "      <td>10265 Elizabeth Mission Barkerburgh, AK 89518</td>\n",
       "      <td>Harvey LLC</td>\n",
       "      <td>1</td>\n",
       "    </tr>\n",
       "    <tr>\n",
       "      <th>1</th>\n",
       "      <td>Kevin Mueller</td>\n",
       "      <td>41.0</td>\n",
       "      <td>11916.22</td>\n",
       "      <td>0</td>\n",
       "      <td>6.50</td>\n",
       "      <td>11.0</td>\n",
       "      <td>2013-08-13 00:38:46</td>\n",
       "      <td>6157 Frank Gardens Suite 019 Carloshaven, RI 1...</td>\n",
       "      <td>Wilson PLC</td>\n",
       "      <td>1</td>\n",
       "    </tr>\n",
       "    <tr>\n",
       "      <th>2</th>\n",
       "      <td>Eric Lozano</td>\n",
       "      <td>38.0</td>\n",
       "      <td>12884.75</td>\n",
       "      <td>0</td>\n",
       "      <td>6.67</td>\n",
       "      <td>12.0</td>\n",
       "      <td>2016-06-29 06:20:07</td>\n",
       "      <td>1331 Keith Court Alyssahaven, DE 90114</td>\n",
       "      <td>Miller, Johnson and Wallace</td>\n",
       "      <td>1</td>\n",
       "    </tr>\n",
       "    <tr>\n",
       "      <th>3</th>\n",
       "      <td>Phillip White</td>\n",
       "      <td>42.0</td>\n",
       "      <td>8010.76</td>\n",
       "      <td>0</td>\n",
       "      <td>6.71</td>\n",
       "      <td>10.0</td>\n",
       "      <td>2014-04-22 12:43:12</td>\n",
       "      <td>13120 Daniel Mount Angelabury, WY 30645-4695</td>\n",
       "      <td>Smith Inc</td>\n",
       "      <td>1</td>\n",
       "    </tr>\n",
       "    <tr>\n",
       "      <th>4</th>\n",
       "      <td>Cynthia Norton</td>\n",
       "      <td>37.0</td>\n",
       "      <td>9191.58</td>\n",
       "      <td>0</td>\n",
       "      <td>5.56</td>\n",
       "      <td>9.0</td>\n",
       "      <td>2016-01-19 15:31:15</td>\n",
       "      <td>765 Tricia Row Karenshire, MH 71730</td>\n",
       "      <td>Love-Jones</td>\n",
       "      <td>1</td>\n",
       "    </tr>\n",
       "  </tbody>\n",
       "</table>\n",
       "</div>"
      ],
      "text/plain": [
       "              Names   Age  Total_Purchase  Account_Manager  Years  Num_Sites  \\\n",
       "0  Cameron Williams  42.0        11066.80                0   7.22        8.0   \n",
       "1     Kevin Mueller  41.0        11916.22                0   6.50       11.0   \n",
       "2       Eric Lozano  38.0        12884.75                0   6.67       12.0   \n",
       "3     Phillip White  42.0         8010.76                0   6.71       10.0   \n",
       "4    Cynthia Norton  37.0         9191.58                0   5.56        9.0   \n",
       "\n",
       "          Onboard_date                                           Location  \\\n",
       "0  2013-08-30 07:00:40      10265 Elizabeth Mission Barkerburgh, AK 89518   \n",
       "1  2013-08-13 00:38:46  6157 Frank Gardens Suite 019 Carloshaven, RI 1...   \n",
       "2  2016-06-29 06:20:07             1331 Keith Court Alyssahaven, DE 90114   \n",
       "3  2014-04-22 12:43:12       13120 Daniel Mount Angelabury, WY 30645-4695   \n",
       "4  2016-01-19 15:31:15                765 Tricia Row Karenshire, MH 71730   \n",
       "\n",
       "                       Company  Churn  \n",
       "0                   Harvey LLC      1  \n",
       "1                   Wilson PLC      1  \n",
       "2  Miller, Johnson and Wallace      1  \n",
       "3                    Smith Inc      1  \n",
       "4                   Love-Jones      1  "
      ]
     },
     "execution_count": 201,
     "metadata": {},
     "output_type": "execute_result"
    }
   ],
   "source": [
    "df = pd.read_csv('./data/customer_churn.csv')\n",
    "df.head()"
   ]
  },
  {
   "cell_type": "code",
   "execution_count": 202,
   "metadata": {
    "scrolled": true
   },
   "outputs": [
    {
     "data": {
      "text/html": [
       "<div>\n",
       "<style scoped>\n",
       "    .dataframe tbody tr th:only-of-type {\n",
       "        vertical-align: middle;\n",
       "    }\n",
       "\n",
       "    .dataframe tbody tr th {\n",
       "        vertical-align: top;\n",
       "    }\n",
       "\n",
       "    .dataframe thead th {\n",
       "        text-align: right;\n",
       "    }\n",
       "</style>\n",
       "<table border=\"1\" class=\"dataframe\">\n",
       "  <thead>\n",
       "    <tr style=\"text-align: right;\">\n",
       "      <th></th>\n",
       "      <th>Age</th>\n",
       "      <th>Total_Purchase</th>\n",
       "      <th>Account_Manager</th>\n",
       "      <th>Years</th>\n",
       "      <th>Num_Sites</th>\n",
       "      <th>Onboard_date</th>\n",
       "      <th>Location</th>\n",
       "      <th>Company</th>\n",
       "      <th>Churn</th>\n",
       "    </tr>\n",
       "  </thead>\n",
       "  <tbody>\n",
       "    <tr>\n",
       "      <th>0</th>\n",
       "      <td>42.0</td>\n",
       "      <td>11066.80</td>\n",
       "      <td>0</td>\n",
       "      <td>7.22</td>\n",
       "      <td>8.0</td>\n",
       "      <td>2013-08-30 07:00:40</td>\n",
       "      <td>10265 Elizabeth Mission Barkerburgh, AK 89518</td>\n",
       "      <td>Harvey LLC</td>\n",
       "      <td>1</td>\n",
       "    </tr>\n",
       "    <tr>\n",
       "      <th>1</th>\n",
       "      <td>41.0</td>\n",
       "      <td>11916.22</td>\n",
       "      <td>0</td>\n",
       "      <td>6.50</td>\n",
       "      <td>11.0</td>\n",
       "      <td>2013-08-13 00:38:46</td>\n",
       "      <td>6157 Frank Gardens Suite 019 Carloshaven, RI 1...</td>\n",
       "      <td>Wilson PLC</td>\n",
       "      <td>1</td>\n",
       "    </tr>\n",
       "    <tr>\n",
       "      <th>2</th>\n",
       "      <td>38.0</td>\n",
       "      <td>12884.75</td>\n",
       "      <td>0</td>\n",
       "      <td>6.67</td>\n",
       "      <td>12.0</td>\n",
       "      <td>2016-06-29 06:20:07</td>\n",
       "      <td>1331 Keith Court Alyssahaven, DE 90114</td>\n",
       "      <td>Miller, Johnson and Wallace</td>\n",
       "      <td>1</td>\n",
       "    </tr>\n",
       "    <tr>\n",
       "      <th>3</th>\n",
       "      <td>42.0</td>\n",
       "      <td>8010.76</td>\n",
       "      <td>0</td>\n",
       "      <td>6.71</td>\n",
       "      <td>10.0</td>\n",
       "      <td>2014-04-22 12:43:12</td>\n",
       "      <td>13120 Daniel Mount Angelabury, WY 30645-4695</td>\n",
       "      <td>Smith Inc</td>\n",
       "      <td>1</td>\n",
       "    </tr>\n",
       "    <tr>\n",
       "      <th>4</th>\n",
       "      <td>37.0</td>\n",
       "      <td>9191.58</td>\n",
       "      <td>0</td>\n",
       "      <td>5.56</td>\n",
       "      <td>9.0</td>\n",
       "      <td>2016-01-19 15:31:15</td>\n",
       "      <td>765 Tricia Row Karenshire, MH 71730</td>\n",
       "      <td>Love-Jones</td>\n",
       "      <td>1</td>\n",
       "    </tr>\n",
       "  </tbody>\n",
       "</table>\n",
       "</div>"
      ],
      "text/plain": [
       "    Age  Total_Purchase  Account_Manager  Years  Num_Sites  \\\n",
       "0  42.0        11066.80                0   7.22        8.0   \n",
       "1  41.0        11916.22                0   6.50       11.0   \n",
       "2  38.0        12884.75                0   6.67       12.0   \n",
       "3  42.0         8010.76                0   6.71       10.0   \n",
       "4  37.0         9191.58                0   5.56        9.0   \n",
       "\n",
       "          Onboard_date                                           Location  \\\n",
       "0  2013-08-30 07:00:40      10265 Elizabeth Mission Barkerburgh, AK 89518   \n",
       "1  2013-08-13 00:38:46  6157 Frank Gardens Suite 019 Carloshaven, RI 1...   \n",
       "2  2016-06-29 06:20:07             1331 Keith Court Alyssahaven, DE 90114   \n",
       "3  2014-04-22 12:43:12       13120 Daniel Mount Angelabury, WY 30645-4695   \n",
       "4  2016-01-19 15:31:15                765 Tricia Row Karenshire, MH 71730   \n",
       "\n",
       "                       Company  Churn  \n",
       "0                   Harvey LLC      1  \n",
       "1                   Wilson PLC      1  \n",
       "2  Miller, Johnson and Wallace      1  \n",
       "3                    Smith Inc      1  \n",
       "4                   Love-Jones      1  "
      ]
     },
     "execution_count": 202,
     "metadata": {},
     "output_type": "execute_result"
    }
   ],
   "source": [
    "df = df.drop(\"Names\", axis = 1)\n",
    "df.head()"
   ]
  },
  {
   "cell_type": "code",
   "execution_count": 267,
   "metadata": {},
   "outputs": [
    {
     "data": {
      "text/html": [
       "<div>\n",
       "<style scoped>\n",
       "    .dataframe tbody tr th:only-of-type {\n",
       "        vertical-align: middle;\n",
       "    }\n",
       "\n",
       "    .dataframe tbody tr th {\n",
       "        vertical-align: top;\n",
       "    }\n",
       "\n",
       "    .dataframe thead th {\n",
       "        text-align: right;\n",
       "    }\n",
       "</style>\n",
       "<table border=\"1\" class=\"dataframe\">\n",
       "  <thead>\n",
       "    <tr style=\"text-align: right;\">\n",
       "      <th></th>\n",
       "      <th>Names</th>\n",
       "      <th>Age</th>\n",
       "      <th>Total_Purchase</th>\n",
       "      <th>Account_Manager</th>\n",
       "      <th>Years</th>\n",
       "      <th>Num_Sites</th>\n",
       "      <th>Onboard_date</th>\n",
       "      <th>Location</th>\n",
       "      <th>Company</th>\n",
       "    </tr>\n",
       "  </thead>\n",
       "  <tbody>\n",
       "    <tr>\n",
       "      <th>Andrew Mccall</th>\n",
       "      <td>37.0</td>\n",
       "      <td>9935.53</td>\n",
       "      <td>1</td>\n",
       "      <td>7.71</td>\n",
       "      <td>8.0</td>\n",
       "      <td>2011-08-29 18:37:54</td>\n",
       "      <td>38612 Johnny Stravenue Nataliebury, WI 15717-8316</td>\n",
       "      <td>King Ltd</td>\n",
       "      <td>NaN</td>\n",
       "    </tr>\n",
       "    <tr>\n",
       "      <th>Michele Wright</th>\n",
       "      <td>23.0</td>\n",
       "      <td>7526.94</td>\n",
       "      <td>1</td>\n",
       "      <td>9.28</td>\n",
       "      <td>15.0</td>\n",
       "      <td>2013-07-22 18:19:54</td>\n",
       "      <td>21083 Nicole Junction Suite 332, Youngport, ME...</td>\n",
       "      <td>Cannon-Benson</td>\n",
       "      <td>NaN</td>\n",
       "    </tr>\n",
       "    <tr>\n",
       "      <th>Jeremy Chang</th>\n",
       "      <td>65.0</td>\n",
       "      <td>100.00</td>\n",
       "      <td>1</td>\n",
       "      <td>1.00</td>\n",
       "      <td>15.0</td>\n",
       "      <td>2006-12-11 07:48:13</td>\n",
       "      <td>085 Austin Views Lake Julialand, WY 63726-4298</td>\n",
       "      <td>Barron-Robertson</td>\n",
       "      <td>NaN</td>\n",
       "    </tr>\n",
       "    <tr>\n",
       "      <th>Megan Ferguson</th>\n",
       "      <td>32.0</td>\n",
       "      <td>6487.50</td>\n",
       "      <td>0</td>\n",
       "      <td>9.40</td>\n",
       "      <td>14.0</td>\n",
       "      <td>2016-10-28 05:32:13</td>\n",
       "      <td>922 Wright Branch North Cynthialand, NC 64721</td>\n",
       "      <td>Sexton-Golden</td>\n",
       "      <td>NaN</td>\n",
       "    </tr>\n",
       "    <tr>\n",
       "      <th>Taylor Young</th>\n",
       "      <td>32.0</td>\n",
       "      <td>13147.71</td>\n",
       "      <td>1</td>\n",
       "      <td>10.00</td>\n",
       "      <td>8.0</td>\n",
       "      <td>2012-03-20 00:36:46</td>\n",
       "      <td>Unit 0789 Box 0734 DPO AP 39702</td>\n",
       "      <td>Wood LLC</td>\n",
       "      <td>NaN</td>\n",
       "    </tr>\n",
       "  </tbody>\n",
       "</table>\n",
       "</div>"
      ],
      "text/plain": [
       "                Names       Age  Total_Purchase  Account_Manager  Years  \\\n",
       "Andrew Mccall    37.0   9935.53               1             7.71    8.0   \n",
       "Michele Wright   23.0   7526.94               1             9.28   15.0   \n",
       "Jeremy Chang     65.0    100.00               1             1.00   15.0   \n",
       "Megan Ferguson   32.0   6487.50               0             9.40   14.0   \n",
       "Taylor Young     32.0  13147.71               1            10.00    8.0   \n",
       "\n",
       "                          Num_Sites  \\\n",
       "Andrew Mccall   2011-08-29 18:37:54   \n",
       "Michele Wright  2013-07-22 18:19:54   \n",
       "Jeremy Chang    2006-12-11 07:48:13   \n",
       "Megan Ferguson  2016-10-28 05:32:13   \n",
       "Taylor Young    2012-03-20 00:36:46   \n",
       "\n",
       "                                                     Onboard_date  \\\n",
       "Andrew Mccall   38612 Johnny Stravenue Nataliebury, WI 15717-8316   \n",
       "Michele Wright  21083 Nicole Junction Suite 332, Youngport, ME...   \n",
       "Jeremy Chang       085 Austin Views Lake Julialand, WY 63726-4298   \n",
       "Megan Ferguson      922 Wright Branch North Cynthialand, NC 64721   \n",
       "Taylor Young                      Unit 0789 Box 0734 DPO AP 39702   \n",
       "\n",
       "                        Location  Company  \n",
       "Andrew Mccall           King Ltd      NaN  \n",
       "Michele Wright     Cannon-Benson      NaN  \n",
       "Jeremy Chang    Barron-Robertson      NaN  \n",
       "Megan Ferguson     Sexton-Golden      NaN  \n",
       "Taylor Young            Wood LLC      NaN  "
      ]
     },
     "execution_count": 267,
     "metadata": {},
     "output_type": "execute_result"
    }
   ],
   "source": [
    "new_df = pd.read_csv('./data/new_customers.csv')\n",
    "new_df.head()"
   ]
  },
  {
   "cell_type": "code",
   "execution_count": 240,
   "metadata": {},
   "outputs": [
    {
     "data": {
      "text/plain": [
       "(6, 9)"
      ]
     },
     "execution_count": 240,
     "metadata": {},
     "output_type": "execute_result"
    }
   ],
   "source": [
    "new_df.shape"
   ]
  },
  {
   "cell_type": "markdown",
   "metadata": {},
   "source": [
    "### 데이터 확인"
   ]
  },
  {
   "cell_type": "code",
   "execution_count": 203,
   "metadata": {},
   "outputs": [
    {
     "data": {
      "text/plain": [
       "(900, 9)"
      ]
     },
     "execution_count": 203,
     "metadata": {},
     "output_type": "execute_result"
    }
   ],
   "source": [
    "df.shape"
   ]
  },
  {
   "cell_type": "code",
   "execution_count": 48,
   "metadata": {
    "scrolled": true
   },
   "outputs": [
    {
     "name": "stdout",
     "output_type": "stream",
     "text": [
      "<class 'pandas.core.frame.DataFrame'>\n",
      "RangeIndex: 900 entries, 0 to 899\n",
      "Data columns (total 9 columns):\n",
      " #   Column           Non-Null Count  Dtype  \n",
      "---  ------           --------------  -----  \n",
      " 0   Age              900 non-null    float64\n",
      " 1   Total_Purchase   900 non-null    float64\n",
      " 2   Account_Manager  900 non-null    int64  \n",
      " 3   Years            900 non-null    float64\n",
      " 4   Num_Sites        900 non-null    float64\n",
      " 5   Onboard_date     900 non-null    object \n",
      " 6   Location         900 non-null    object \n",
      " 7   Company          900 non-null    object \n",
      " 8   Churn            900 non-null    int64  \n",
      "dtypes: float64(4), int64(2), object(3)\n",
      "memory usage: 63.4+ KB\n"
     ]
    }
   ],
   "source": [
    "df.info()"
   ]
  },
  {
   "cell_type": "code",
   "execution_count": 49,
   "metadata": {
    "scrolled": true
   },
   "outputs": [
    {
     "data": {
      "text/plain": [
       "Age                0\n",
       "Total_Purchase     0\n",
       "Account_Manager    0\n",
       "Years              0\n",
       "Num_Sites          0\n",
       "Onboard_date       0\n",
       "Location           0\n",
       "Company            0\n",
       "Churn              0\n",
       "dtype: int64"
      ]
     },
     "execution_count": 49,
     "metadata": {},
     "output_type": "execute_result"
    }
   ],
   "source": [
    "df.isna().sum()"
   ]
  },
  {
   "cell_type": "markdown",
   "metadata": {},
   "source": [
    "- 결측치 없음"
   ]
  },
  {
   "cell_type": "code",
   "execution_count": 50,
   "metadata": {},
   "outputs": [
    {
     "data": {
      "text/html": [
       "<div>\n",
       "<style scoped>\n",
       "    .dataframe tbody tr th:only-of-type {\n",
       "        vertical-align: middle;\n",
       "    }\n",
       "\n",
       "    .dataframe tbody tr th {\n",
       "        vertical-align: top;\n",
       "    }\n",
       "\n",
       "    .dataframe thead th {\n",
       "        text-align: right;\n",
       "    }\n",
       "</style>\n",
       "<table border=\"1\" class=\"dataframe\">\n",
       "  <thead>\n",
       "    <tr style=\"text-align: right;\">\n",
       "      <th></th>\n",
       "      <th>Age</th>\n",
       "      <th>Total_Purchase</th>\n",
       "      <th>Account_Manager</th>\n",
       "      <th>Years</th>\n",
       "      <th>Num_Sites</th>\n",
       "      <th>Churn</th>\n",
       "    </tr>\n",
       "  </thead>\n",
       "  <tbody>\n",
       "    <tr>\n",
       "      <th>count</th>\n",
       "      <td>900.000000</td>\n",
       "      <td>900.000000</td>\n",
       "      <td>900.000000</td>\n",
       "      <td>900.000000</td>\n",
       "      <td>900.000000</td>\n",
       "      <td>900.000000</td>\n",
       "    </tr>\n",
       "    <tr>\n",
       "      <th>mean</th>\n",
       "      <td>41.816667</td>\n",
       "      <td>10062.824033</td>\n",
       "      <td>0.481111</td>\n",
       "      <td>5.273156</td>\n",
       "      <td>8.587778</td>\n",
       "      <td>0.166667</td>\n",
       "    </tr>\n",
       "    <tr>\n",
       "      <th>std</th>\n",
       "      <td>6.127560</td>\n",
       "      <td>2408.644532</td>\n",
       "      <td>0.499921</td>\n",
       "      <td>1.274449</td>\n",
       "      <td>1.764836</td>\n",
       "      <td>0.372885</td>\n",
       "    </tr>\n",
       "    <tr>\n",
       "      <th>min</th>\n",
       "      <td>22.000000</td>\n",
       "      <td>100.000000</td>\n",
       "      <td>0.000000</td>\n",
       "      <td>1.000000</td>\n",
       "      <td>3.000000</td>\n",
       "      <td>0.000000</td>\n",
       "    </tr>\n",
       "    <tr>\n",
       "      <th>25%</th>\n",
       "      <td>38.000000</td>\n",
       "      <td>8497.122500</td>\n",
       "      <td>0.000000</td>\n",
       "      <td>4.450000</td>\n",
       "      <td>7.000000</td>\n",
       "      <td>0.000000</td>\n",
       "    </tr>\n",
       "    <tr>\n",
       "      <th>50%</th>\n",
       "      <td>42.000000</td>\n",
       "      <td>10045.870000</td>\n",
       "      <td>0.000000</td>\n",
       "      <td>5.215000</td>\n",
       "      <td>8.000000</td>\n",
       "      <td>0.000000</td>\n",
       "    </tr>\n",
       "    <tr>\n",
       "      <th>75%</th>\n",
       "      <td>46.000000</td>\n",
       "      <td>11760.105000</td>\n",
       "      <td>1.000000</td>\n",
       "      <td>6.110000</td>\n",
       "      <td>10.000000</td>\n",
       "      <td>0.000000</td>\n",
       "    </tr>\n",
       "    <tr>\n",
       "      <th>max</th>\n",
       "      <td>65.000000</td>\n",
       "      <td>18026.010000</td>\n",
       "      <td>1.000000</td>\n",
       "      <td>9.150000</td>\n",
       "      <td>14.000000</td>\n",
       "      <td>1.000000</td>\n",
       "    </tr>\n",
       "  </tbody>\n",
       "</table>\n",
       "</div>"
      ],
      "text/plain": [
       "              Age  Total_Purchase  Account_Manager       Years   Num_Sites  \\\n",
       "count  900.000000      900.000000       900.000000  900.000000  900.000000   \n",
       "mean    41.816667    10062.824033         0.481111    5.273156    8.587778   \n",
       "std      6.127560     2408.644532         0.499921    1.274449    1.764836   \n",
       "min     22.000000      100.000000         0.000000    1.000000    3.000000   \n",
       "25%     38.000000     8497.122500         0.000000    4.450000    7.000000   \n",
       "50%     42.000000    10045.870000         0.000000    5.215000    8.000000   \n",
       "75%     46.000000    11760.105000         1.000000    6.110000   10.000000   \n",
       "max     65.000000    18026.010000         1.000000    9.150000   14.000000   \n",
       "\n",
       "            Churn  \n",
       "count  900.000000  \n",
       "mean     0.166667  \n",
       "std      0.372885  \n",
       "min      0.000000  \n",
       "25%      0.000000  \n",
       "50%      0.000000  \n",
       "75%      0.000000  \n",
       "max      1.000000  "
      ]
     },
     "execution_count": 50,
     "metadata": {},
     "output_type": "execute_result"
    }
   ],
   "source": [
    "df.describe()"
   ]
  },
  {
   "cell_type": "code",
   "execution_count": 51,
   "metadata": {
    "scrolled": true
   },
   "outputs": [
    {
     "data": {
      "text/plain": [
       "Age                float64\n",
       "Total_Purchase     float64\n",
       "Account_Manager      int64\n",
       "Years              float64\n",
       "Num_Sites          float64\n",
       "Onboard_date        object\n",
       "Location            object\n",
       "Company             object\n",
       "Churn                int64\n",
       "dtype: object"
      ]
     },
     "execution_count": 51,
     "metadata": {},
     "output_type": "execute_result"
    }
   ],
   "source": [
    "df.dtypes"
   ]
  },
  {
   "cell_type": "markdown",
   "metadata": {},
   "source": [
    "### 머신러닝용 데이터 전처리"
   ]
  },
  {
   "cell_type": "markdown",
   "metadata": {},
   "source": [
    "우리는 수치형 데이터만 이용할 예정입니다. Account_Manager는 다루기 어렵지 않기 때문에 모델학습에 포함할 수도 있겠지만 무작위로 할당된 것이기 때문에 큰 의미가 없을 수 있습니다.(분류기준이 없음)"
   ]
  },
  {
   "cell_type": "markdown",
   "metadata": {},
   "source": [
    "#### 3. 교차검증(ccross_validate) 사용하기\n",
    "\n",
    "- 정확도 90%는 의미가 없다.\n",
    "- 1. 교차검증으로 **AVC** 를 계산하여라 (AVC 계산식) 공식홈페이지에 있음\n",
    "- 2. 해당 모델로 **new customer 예측값**을 보내드리기 "
   ]
  },
  {
   "cell_type": "code",
   "execution_count": 53,
   "metadata": {},
   "outputs": [
    {
     "data": {
      "text/plain": [
       "array([11066.8 , 11916.22, 12884.75,  8010.76,  9191.58, 10356.02,\n",
       "       11331.58,  9885.12, 14062.6 ,  8066.94, 11575.37,  8771.02,\n",
       "        8988.67,  8283.32,  6569.87, 10494.82,  8213.41, 11226.88,\n",
       "        5515.09,  8046.4 ,  9771.22, 12217.95,  9381.12, 10474.94,\n",
       "       11158.5 ,  8207.1 , 12403.81, 10041.13, 12721.55,  8284.89,\n",
       "       10661.48, 10793.11,  9322.44,  9814.22, 11740.  , 14383.36,\n",
       "       11887.39, 10367.08,  8198.06,  7777.37, 11699.26, 16838.94,\n",
       "       10484.33,  8736.06, 10850.78,  8601.01, 11170.06, 11185.62,\n",
       "        9793.42, 12524.68, 12682.9 , 14036.28, 10179.92, 12772.72,\n",
       "       12122.19,  9922.3 ,  4771.65, 10827.96,  8642.01,  6749.49,\n",
       "        6447.99, 11091.21,  5024.52, 12376.37, 12458.8 ,  7222.35,\n",
       "       11758.69,  8772.  ,  7351.38,  7960.64, 13365.66,  8617.98,\n",
       "       11849.13, 11145.95,  9577.42, 10110.4 ,  8024.08,  8563.24,\n",
       "        9403.58, 12520.53, 13655.59, 12680.46,  8429.65, 11424.  ,\n",
       "       13725.55,  7396.1 ,  8100.43, 10400.88,  8625.96,  5192.38,\n",
       "       12455.38, 10522.21,  9624.18, 11628.1 , 13190.3 , 13173.8 ,\n",
       "        8688.17, 11434.61, 12309.39, 10744.14, 12104.25, 11599.27,\n",
       "        6635.19, 10978.16, 13743.27, 10271.19,  6715.23, 10199.44,\n",
       "       11386.56, 12112.53,  9228.84,  6330.43, 11611.51,  8397.41,\n",
       "        9714.47, 11602.11, 12871.79,  9923.79,  8787.39, 12200.31,\n",
       "        8825.87,  8615.52,  9766.95, 11550.29,  6244.75,  9459.52,\n",
       "       11222.48, 14693.45, 15005.43, 10276.33,  8474.11,  8235.74,\n",
       "        6495.01,  8099.29, 11775.75,  8667.02,  9000.31, 14398.89,\n",
       "       10863.05,  7287.57,  6992.09,  6351.79, 11297.57,  7460.05,\n",
       "       14429.41, 12983.26,  8801.86,  9703.93, 11177.08,  8560.76,\n",
       "       15571.26, 10268.87, 12328.03,  9782.83,  9378.24, 10314.67,\n",
       "        8403.78,  5570.45,  8042.76, 10309.15, 12357.31, 11306.1 ,\n",
       "       13630.93, 12284.58,  8930.49, 10578.14, 10364.82,  7750.54,\n",
       "       10963.5 , 12547.91, 14069.41,  9723.71,  6298.75, 12107.03,\n",
       "       11674.12, 12502.81,  9617.59, 13472.79,  9805.7 , 11743.24,\n",
       "       12788.37,  5218.49, 10526.18,  8583.5 , 11008.  ,  9625.89,\n",
       "       11119.11,  9982.55, 11159.46, 12668.26,  9087.9 ,  9091.21,\n",
       "        8755.02,  6362.93, 13189.35, 10584.71,  9853.64, 10448.09,\n",
       "       11473.38,  8986.28, 13314.19,  9918.77, 12783.21,  7026.18,\n",
       "        9706.88, 10236.95, 13157.08,  8588.46,  7778.73, 10268.  ,\n",
       "        9845.35, 11912.13, 12115.91, 10801.37, 13173.82,  9940.76,\n",
       "       12261.79, 12987.28,  4523.91,  6172.23,  6283.67,  7232.06,\n",
       "        6683.82,  9408.96,  8291.93, 10017.82,  7320.49,  8817.29,\n",
       "        8948.86,  3689.95,  8185.22,  9347.89, 12888.85,  5387.41,\n",
       "        7605.49,  8480.93, 11274.46, 13116.73,  7896.65, 12086.92,\n",
       "       10500.77,  7673.  , 14242.7 ,  6590.63, 15070.32, 13717.41,\n",
       "        9219.95, 10430.5 ,  5200.06, 11197.42, 13650.64,  7351.72,\n",
       "       10306.21, 10147.22, 10528.71, 10054.6 ,  8595.24,  6681.61,\n",
       "       10203.18, 10427.12, 10388.38,  9353.38, 11756.06, 12295.95,\n",
       "        7819.46, 10674.92, 10989.43,  7504.79,  9306.05, 11523.63,\n",
       "        9613.84, 13298.38,  8614.75,  9951.97, 11343.33, 10026.44,\n",
       "        8473.65, 12989.06, 12893.47,  7324.32,  8530.23, 10675.86,\n",
       "       10300.24, 10921.54, 10527.52,  8338.05,  9593.71, 11537.69,\n",
       "       12936.64,  8815.24, 12300.94, 11830.36, 14715.53,  9214.98,\n",
       "        8092.13, 12008.34, 11803.58, 13498.28,  9601.95, 13184.51,\n",
       "        4690.57, 11416.56,  9940.54, 13680.25,  5900.78, 10339.05,\n",
       "       11538.57,  7178.92,  8840.51, 14154.26, 10583.76, 11401.63,\n",
       "        7495.6 ,  8878.96, 11111.59,  8519.64, 12361.42,  9014.9 ,\n",
       "        6081.5 , 10944.65, 11764.35, 12155.91, 11971.75, 14080.95,\n",
       "        6204.86,  4994.48, 11047.43, 12925.64,  8233.25,  9282.33,\n",
       "       13383.25,  8911.91,  8783.13, 12654.35,  6773.23,  9574.89,\n",
       "        9722.92,  9516.87,  6638.87, 10960.52, 11093.87, 10323.07,\n",
       "       15858.91, 11309.18, 12142.99, 10965.95, 10877.81,  7491.55,\n",
       "        9324.49,  9034.21, 11856.28,  9191.02, 10617.16, 11321.2 ,\n",
       "       15516.52,  5647.92,  8677.28, 15423.03,  8097.01,  9148.74,\n",
       "       12374.97,  8646.72, 10338.09, 13019.89, 13743.42,  8646.2 ,\n",
       "        6523.74,  8626.48,  5191.08,  7097.52, 13277.82,  3263.  ,\n",
       "       14669.61, 13359.2 , 12078.39,  8513.75,  9557.2 ,  6517.22,\n",
       "        4762.81,  6452.83,  8688.21, 12254.75,  5914.3 , 11486.53,\n",
       "        6114.85, 11828.78, 10166.67, 12691.45,  9903.78, 10363.63,\n",
       "        8475.8 , 13091.92, 13036.52,  9521.35,  5039.46, 13762.79,\n",
       "        8941.92, 12479.72,  9139.73, 10406.58, 11768.65, 14664.  ,\n",
       "        8418.81,  6461.86, 14317.2 ,  4492.44, 13240.01,  7814.68,\n",
       "       11255.38, 13165.68, 12713.9 , 11527.08,  8375.73, 11968.78,\n",
       "        7761.2 ,  6367.22,  7599.36,  7642.2 , 11621.67,  9365.92,\n",
       "       12711.15,  8243.28, 10269.97, 13366.66, 12401.58,  8950.33,\n",
       "       10806.13,  7713.12, 12455.75,  7492.9 , 12068.39,  7837.67,\n",
       "        9721.59, 10028.23, 10466.56, 12879.7 , 13078.28, 11584.59,\n",
       "        9874.69, 11585.16, 10643.67, 12397.49, 10780.71,  8801.13,\n",
       "        7325.93,  7342.14, 12154.25,  9472.72,  3676.68,  6857.29,\n",
       "       10133.36,  4992.6 , 12941.12, 11040.16,  8058.73, 10638.65,\n",
       "       10226.43, 12020.62, 12780.22,  6662.59, 10298.29,  9065.28,\n",
       "        8817.22, 11391.46, 12531.39,  9200.69, 13368.21, 15878.11,\n",
       "        7720.61,  9270.9 ,  8274.32,  9347.47, 12453.72,  8644.07,\n",
       "       11575.84,  8268.74, 12147.83,  8093.03,  9090.43,  9552.57,\n",
       "        9004.44, 14361.38,  8972.54, 11611.28,  9399.92,  7982.38,\n",
       "        6930.95, 11667.01,  5387.75, 10709.39, 11623.42,  9683.85,\n",
       "        8819.13,  7736.13,  7158.66,  9248.87, 11916.26,  9641.61,\n",
       "       12309.23, 11362.95, 10074.4 , 10762.29,  8874.83,  5830.99,\n",
       "        8297.87,  5738.82, 11655.82,  7362.18, 10938.11,  8514.8 ,\n",
       "        8772.26,  7656.02, 10375.39,  7684.02,  6805.48,  6744.87,\n",
       "       10058.87,  9133.36, 11580.56, 10631.84, 10716.75, 10919.81,\n",
       "       10241.32,  9171.56,  7675.52, 13308.01,  7961.21, 12403.6 ,\n",
       "       10814.59,  8829.83,  7170.66, 10332.16, 14722.35, 13532.85,\n",
       "        7683.97,  6398.91, 14595.51,  6783.99,  8190.27,  9317.12,\n",
       "       10370.72, 12277.9 , 10056.55, 12398.62, 10290.14,  9957.26,\n",
       "       13480.91, 11670.73,  7073.61,  9852.25,  6402.3 ,  9282.99,\n",
       "        8884.39, 13296.89,  7361.92,  8092.55,  9528.99,  8122.34,\n",
       "       14738.09, 11687.29,  7948.18,  7915.44, 10180.59,  8748.36,\n",
       "        8021.05, 10445.76,  9919.38, 10741.9 ,  7380.48,  9649.26,\n",
       "        9349.99, 12849.1 , 10770.82,  8828.59,  9921.89,  6977.56,\n",
       "        8580.85, 10469.5 ,  8907.17, 10050.61, 10522.6 ,  9265.59,\n",
       "       10930.16, 10668.91, 11335.97, 12247.91,  9303.43,  9826.29,\n",
       "       10565.59,  9855.18,  7810.06, 11144.51,  8931.09,  8929.88,\n",
       "        9435.2 , 11553.65,  9621.04, 11401.42, 10491.4 , 10585.86,\n",
       "       10697.72, 11430.75,  8465.53,  7759.15, 13081.64,  4711.89,\n",
       "       12252.57, 13029.61, 10746.69,  8665.79,  5447.16,  9772.95,\n",
       "        7464.08,  6168.66, 12567.53,  8280.03, 11274.98,  9635.87,\n",
       "       13743.12,  8871.53,  8818.03,  9788.78,  6131.92, 12043.27,\n",
       "       12919.92, 10367.14,  9063.16, 10606.97,  8558.52, 11375.25,\n",
       "        8514.24, 12019.93,  9419.66, 10309.71, 10313.06, 13460.92,\n",
       "       10216.59, 12766.24, 11360.99,  9166.22,  8996.04,  9743.57,\n",
       "        7686.13, 13255.05,  8403.02,  7277.27,  8575.71,  9844.79,\n",
       "        7529.23,  4111.4 ,  8389.84,  7864.63,  8677.62,  9672.03,\n",
       "       11370.28, 13915.9 , 10999.05,  7636.98,  9461.83,   100.  ,\n",
       "        9655.25, 15188.65, 14124.  , 14155.97, 11294.26, 14241.75,\n",
       "       11334.3 ,  7818.13, 11520.18,  7996.78,  8628.8 , 10292.19,\n",
       "       11540.86,  7490.92,  4316.73, 11738.88, 15509.97, 12010.74,\n",
       "        5907.07, 10510.95,  8914.46,  5353.97, 12495.15, 13118.56,\n",
       "        5846.65,  7239.49, 14003.88,  9891.3 ,  9655.42,  7904.67,\n",
       "       10598.35, 10182.6 , 11316.69,  6065.64,  8907.76,  9773.22,\n",
       "        9036.27,  8193.77, 10183.98,  9815.03,  6098.15, 13100.75,\n",
       "       10638.66,  9519.64, 10358.08,  7638.13, 10807.46, 11945.5 ,\n",
       "       13597.5 ,  7364.12,  8934.99, 13672.54,  9446.84, 11082.13,\n",
       "       10005.91, 11227.39, 13574.25,  7876.84, 10413.93, 11079.61,\n",
       "       12192.94,  9101.71, 12978.81,  8007.18,  6471.68, 14160.05,\n",
       "       11490.75, 11338.94, 11245.38, 13987.59, 12810.16, 10976.03,\n",
       "        7737.57,  7748.34,  8270.52, 11715.72,  9219.4 ,  5347.74,\n",
       "        9261.41, 11789.33, 14023.22,  9993.5 ,  6535.91, 12835.19,\n",
       "       11654.34, 12200.96, 12813.91, 10345.19,  8232.11, 14838.84,\n",
       "        9541.45,  7424.11,  7062.59, 10776.82, 13247.31,  8610.43,\n",
       "        8863.36, 13574.53, 14216.37, 11555.21,  5720.98,  8370.15,\n",
       "        9060.28,  7193.84, 11225.96, 12893.19, 13896.99, 12378.57,\n",
       "       11768.71,  8011.38, 16955.76, 10530.33, 11783.81,  8824.84,\n",
       "        9737.34,  8131.64, 12264.68,  3825.7 , 11597.38,  5977.46,\n",
       "        9608.45, 10348.37, 13135.26, 12760.01,  9848.4 , 11517.19,\n",
       "        8316.89,  7762.73, 13510.96, 10442.37, 10550.87,  5304.6 ,\n",
       "       10157.21, 12975.35,  6574.25, 12638.51, 10746.37, 12873.63,\n",
       "       12681.35,  7730.53,  8603.6 ,  8218.63,  9401.99,  6127.84,\n",
       "       11794.91,  8143.38, 11873.76, 11254.38,  8951.42,  8662.18,\n",
       "        8427.12, 11555.42, 11670.32,  8918.52, 13976.64,  6498.85,\n",
       "        9303.36,  8083.76, 16371.42,  5756.12,  9574.64,  6623.97,\n",
       "        8670.98, 10399.19, 12542.76, 11832.86, 12249.96, 11695.04,\n",
       "        9000.05, 12400.33, 13473.35, 12227.39, 10788.67, 10076.71,\n",
       "       11204.23, 14425.74,  9988.68,  8261.89,  9779.12, 10328.42,\n",
       "       12913.55,  7189.31, 18026.01,  8939.61, 11294.45,  8271.02,\n",
       "        5002.58, 11187.93,  9764.39,  8917.57,  9499.3 ,  8502.52,\n",
       "        9576.07,  9451.03,  9722.23, 11227.48, 10718.97, 11799.72,\n",
       "       13074.81,  9000.36, 13731.45,  8556.73, 12410.67, 11316.41,\n",
       "       13035.91,  5695.21,  6411.25,  9091.99, 11680.91,  8841.3 ,\n",
       "        7985.76, 11814.59,  7077.34,  9879.37, 11128.95, 11575.55,\n",
       "       13268.55,  9351.88,  9735.41,  9598.03,  5805.53, 14099.03,\n",
       "        8523.04,  6406.38,  5622.5 ,  6670.37, 13547.39,  9182.81,\n",
       "        9741.19,  8880.17, 13122.89, 12659.88,  8286.87,  9229.96,\n",
       "        4863.73, 12800.82,  9893.92, 12056.18,  6517.93,  9315.6 ])"
      ]
     },
     "execution_count": 53,
     "metadata": {},
     "output_type": "execute_result"
    }
   ],
   "source": [
    "df['Total_Purchase'].unique()"
   ]
  },
  {
   "cell_type": "code",
   "execution_count": 54,
   "metadata": {},
   "outputs": [
    {
     "data": {
      "text/plain": [
       "2"
      ]
     },
     "execution_count": 54,
     "metadata": {},
     "output_type": "execute_result"
    }
   ],
   "source": [
    "df['Account_Manager'].nunique()"
   ]
  },
  {
   "cell_type": "code",
   "execution_count": 55,
   "metadata": {},
   "outputs": [
    {
     "data": {
      "text/plain": [
       "array([0, 1], dtype=int64)"
      ]
     },
     "execution_count": 55,
     "metadata": {},
     "output_type": "execute_result"
    }
   ],
   "source": [
    "df['Account_Manager'].unique()"
   ]
  },
  {
   "cell_type": "code",
   "execution_count": 56,
   "metadata": {
    "scrolled": true
   },
   "outputs": [
    {
     "data": {
      "text/plain": [
       "Churn\n",
       "0    750\n",
       "1    150\n",
       "Name: count, dtype: int64"
      ]
     },
     "execution_count": 56,
     "metadata": {},
     "output_type": "execute_result"
    }
   ],
   "source": [
    "# 대상 변수 분포 확인 \n",
    "# 이탈 고객에 비해 활성고객의 비율이 높아, 데이터 균형이 맞지 않음 \n",
    "df['Churn'].value_counts()"
   ]
  },
  {
   "cell_type": "code",
   "execution_count": 72,
   "metadata": {},
   "outputs": [
    {
     "data": {
      "text/plain": [
       "900"
      ]
     },
     "execution_count": 72,
     "metadata": {},
     "output_type": "execute_result"
    }
   ],
   "source": [
    "len(df['Company'])"
   ]
  },
  {
   "cell_type": "code",
   "execution_count": 57,
   "metadata": {},
   "outputs": [
    {
     "data": {
      "text/html": [
       "<div>\n",
       "<style scoped>\n",
       "    .dataframe tbody tr th:only-of-type {\n",
       "        vertical-align: middle;\n",
       "    }\n",
       "\n",
       "    .dataframe tbody tr th {\n",
       "        vertical-align: top;\n",
       "    }\n",
       "\n",
       "    .dataframe thead th {\n",
       "        text-align: right;\n",
       "    }\n",
       "</style>\n",
       "<table border=\"1\" class=\"dataframe\">\n",
       "  <thead>\n",
       "    <tr style=\"text-align: right;\">\n",
       "      <th></th>\n",
       "      <th>Age</th>\n",
       "      <th>Total_Purchase</th>\n",
       "      <th>Account_Manager</th>\n",
       "      <th>Years</th>\n",
       "      <th>Num_Sites</th>\n",
       "      <th>Onboard_date</th>\n",
       "      <th>Location</th>\n",
       "      <th>Company</th>\n",
       "      <th>Churn</th>\n",
       "    </tr>\n",
       "  </thead>\n",
       "  <tbody>\n",
       "    <tr>\n",
       "      <th>0</th>\n",
       "      <td>42.0</td>\n",
       "      <td>11066.80</td>\n",
       "      <td>0</td>\n",
       "      <td>7.22</td>\n",
       "      <td>8.0</td>\n",
       "      <td>2013-08-30 07:00:40</td>\n",
       "      <td>10265 Elizabeth Mission Barkerburgh, AK 89518</td>\n",
       "      <td>Harvey LLC</td>\n",
       "      <td>1</td>\n",
       "    </tr>\n",
       "    <tr>\n",
       "      <th>1</th>\n",
       "      <td>41.0</td>\n",
       "      <td>11916.22</td>\n",
       "      <td>0</td>\n",
       "      <td>6.50</td>\n",
       "      <td>11.0</td>\n",
       "      <td>2013-08-13 00:38:46</td>\n",
       "      <td>6157 Frank Gardens Suite 019 Carloshaven, RI 1...</td>\n",
       "      <td>Wilson PLC</td>\n",
       "      <td>1</td>\n",
       "    </tr>\n",
       "    <tr>\n",
       "      <th>2</th>\n",
       "      <td>38.0</td>\n",
       "      <td>12884.75</td>\n",
       "      <td>0</td>\n",
       "      <td>6.67</td>\n",
       "      <td>12.0</td>\n",
       "      <td>2016-06-29 06:20:07</td>\n",
       "      <td>1331 Keith Court Alyssahaven, DE 90114</td>\n",
       "      <td>Miller, Johnson and Wallace</td>\n",
       "      <td>1</td>\n",
       "    </tr>\n",
       "    <tr>\n",
       "      <th>3</th>\n",
       "      <td>42.0</td>\n",
       "      <td>8010.76</td>\n",
       "      <td>0</td>\n",
       "      <td>6.71</td>\n",
       "      <td>10.0</td>\n",
       "      <td>2014-04-22 12:43:12</td>\n",
       "      <td>13120 Daniel Mount Angelabury, WY 30645-4695</td>\n",
       "      <td>Smith Inc</td>\n",
       "      <td>1</td>\n",
       "    </tr>\n",
       "    <tr>\n",
       "      <th>4</th>\n",
       "      <td>37.0</td>\n",
       "      <td>9191.58</td>\n",
       "      <td>0</td>\n",
       "      <td>5.56</td>\n",
       "      <td>9.0</td>\n",
       "      <td>2016-01-19 15:31:15</td>\n",
       "      <td>765 Tricia Row Karenshire, MH 71730</td>\n",
       "      <td>Love-Jones</td>\n",
       "      <td>1</td>\n",
       "    </tr>\n",
       "  </tbody>\n",
       "</table>\n",
       "</div>"
      ],
      "text/plain": [
       "    Age  Total_Purchase  Account_Manager  Years  Num_Sites  \\\n",
       "0  42.0        11066.80                0   7.22        8.0   \n",
       "1  41.0        11916.22                0   6.50       11.0   \n",
       "2  38.0        12884.75                0   6.67       12.0   \n",
       "3  42.0         8010.76                0   6.71       10.0   \n",
       "4  37.0         9191.58                0   5.56        9.0   \n",
       "\n",
       "          Onboard_date                                           Location  \\\n",
       "0  2013-08-30 07:00:40      10265 Elizabeth Mission Barkerburgh, AK 89518   \n",
       "1  2013-08-13 00:38:46  6157 Frank Gardens Suite 019 Carloshaven, RI 1...   \n",
       "2  2016-06-29 06:20:07             1331 Keith Court Alyssahaven, DE 90114   \n",
       "3  2014-04-22 12:43:12       13120 Daniel Mount Angelabury, WY 30645-4695   \n",
       "4  2016-01-19 15:31:15                765 Tricia Row Karenshire, MH 71730   \n",
       "\n",
       "                       Company  Churn  \n",
       "0                   Harvey LLC      1  \n",
       "1                   Wilson PLC      1  \n",
       "2  Miller, Johnson and Wallace      1  \n",
       "3                    Smith Inc      1  \n",
       "4                   Love-Jones      1  "
      ]
     },
     "execution_count": 57,
     "metadata": {},
     "output_type": "execute_result"
    }
   ],
   "source": [
    "df.head()"
   ]
  },
  {
   "cell_type": "code",
   "execution_count": 58,
   "metadata": {},
   "outputs": [
    {
     "name": "stderr",
     "output_type": "stream",
     "text": [
      "C:\\Users\\ITSC\\anaconda3\\Lib\\site-packages\\seaborn\\axisgrid.py:118: UserWarning: The figure layout has changed to tight\n",
      "  self._figure.tight_layout(*args, **kwargs)\n"
     ]
    },
    {
     "data": {
      "text/plain": [
       "<seaborn.axisgrid.PairGrid at 0x1c8c49b38d0>"
      ]
     },
     "execution_count": 58,
     "metadata": {},
     "output_type": "execute_result"
    },
    {
     "data": {
      "image/png": "[encoded data removed]",
      "text/plain": [
       "<Figure size 1200x1200 with 42 Axes>"
      ]
     },
     "metadata": {},
     "output_type": "display_data"
    }
   ],
   "source": [
    "sns.pairplot(df, kind='reg', height = 2)"
   ]
  },
  {
   "cell_type": "code",
   "execution_count": 59,
   "metadata": {},
   "outputs": [
    {
     "data": {
      "text/html": [
       "<div>\n",
       "<style scoped>\n",
       "    .dataframe tbody tr th:only-of-type {\n",
       "        vertical-align: middle;\n",
       "    }\n",
       "\n",
       "    .dataframe tbody tr th {\n",
       "        vertical-align: top;\n",
       "    }\n",
       "\n",
       "    .dataframe thead th {\n",
       "        text-align: right;\n",
       "    }\n",
       "</style>\n",
       "<table border=\"1\" class=\"dataframe\">\n",
       "  <thead>\n",
       "    <tr style=\"text-align: right;\">\n",
       "      <th></th>\n",
       "      <th>Age</th>\n",
       "      <th>Total_Purchase</th>\n",
       "      <th>Account_Manager</th>\n",
       "      <th>Years</th>\n",
       "      <th>Num_Sites</th>\n",
       "      <th>Churn</th>\n",
       "    </tr>\n",
       "  </thead>\n",
       "  <tbody>\n",
       "    <tr>\n",
       "      <th>Age</th>\n",
       "      <td>1.000000</td>\n",
       "      <td>-0.037208</td>\n",
       "      <td>-0.014749</td>\n",
       "      <td>0.005625</td>\n",
       "      <td>-0.006070</td>\n",
       "      <td>0.085926</td>\n",
       "    </tr>\n",
       "    <tr>\n",
       "      <th>Total_Purchase</th>\n",
       "      <td>-0.037208</td>\n",
       "      <td>1.000000</td>\n",
       "      <td>0.015856</td>\n",
       "      <td>-0.005623</td>\n",
       "      <td>-0.003390</td>\n",
       "      <td>0.024031</td>\n",
       "    </tr>\n",
       "    <tr>\n",
       "      <th>Account_Manager</th>\n",
       "      <td>-0.014749</td>\n",
       "      <td>0.015856</td>\n",
       "      <td>1.000000</td>\n",
       "      <td>0.022930</td>\n",
       "      <td>0.033401</td>\n",
       "      <td>0.070611</td>\n",
       "    </tr>\n",
       "    <tr>\n",
       "      <th>Years</th>\n",
       "      <td>0.005625</td>\n",
       "      <td>-0.005623</td>\n",
       "      <td>0.022930</td>\n",
       "      <td>1.000000</td>\n",
       "      <td>0.051642</td>\n",
       "      <td>0.214329</td>\n",
       "    </tr>\n",
       "    <tr>\n",
       "      <th>Num_Sites</th>\n",
       "      <td>-0.006070</td>\n",
       "      <td>-0.003390</td>\n",
       "      <td>0.033401</td>\n",
       "      <td>0.051642</td>\n",
       "      <td>1.000000</td>\n",
       "      <td>0.525398</td>\n",
       "    </tr>\n",
       "    <tr>\n",
       "      <th>Churn</th>\n",
       "      <td>0.085926</td>\n",
       "      <td>0.024031</td>\n",
       "      <td>0.070611</td>\n",
       "      <td>0.214329</td>\n",
       "      <td>0.525398</td>\n",
       "      <td>1.000000</td>\n",
       "    </tr>\n",
       "  </tbody>\n",
       "</table>\n",
       "</div>"
      ],
      "text/plain": [
       "                      Age  Total_Purchase  Account_Manager     Years  \\\n",
       "Age              1.000000       -0.037208        -0.014749  0.005625   \n",
       "Total_Purchase  -0.037208        1.000000         0.015856 -0.005623   \n",
       "Account_Manager -0.014749        0.015856         1.000000  0.022930   \n",
       "Years            0.005625       -0.005623         0.022930  1.000000   \n",
       "Num_Sites       -0.006070       -0.003390         0.033401  0.051642   \n",
       "Churn            0.085926        0.024031         0.070611  0.214329   \n",
       "\n",
       "                 Num_Sites     Churn  \n",
       "Age              -0.006070  0.085926  \n",
       "Total_Purchase   -0.003390  0.024031  \n",
       "Account_Manager   0.033401  0.070611  \n",
       "Years             0.051642  0.214329  \n",
       "Num_Sites         1.000000  0.525398  \n",
       "Churn             0.525398  1.000000  "
      ]
     },
     "execution_count": 59,
     "metadata": {},
     "output_type": "execute_result"
    }
   ],
   "source": [
    "df.corr(numeric_only=True)"
   ]
  },
  {
   "cell_type": "code",
   "execution_count": 66,
   "metadata": {
    "scrolled": true
   },
   "outputs": [
    {
     "data": {
      "text/plain": [
       "0      11066.80\n",
       "1      11916.22\n",
       "2      12884.75\n",
       "3       8010.76\n",
       "4       9191.58\n",
       "         ...   \n",
       "895    12800.82\n",
       "896     9893.92\n",
       "897    12056.18\n",
       "898     6517.93\n",
       "899     9315.60\n",
       "Name: Total_Purchase, Length: 900, dtype: float64"
      ]
     },
     "execution_count": 66,
     "metadata": {},
     "output_type": "execute_result"
    }
   ],
   "source": [
    "df['Total_Purchase']"
   ]
  },
  {
   "cell_type": "code",
   "execution_count": 204,
   "metadata": {},
   "outputs": [
    {
     "data": {
      "text/plain": [
       "Index(['Age', 'Total_Purchase', 'Account_Manager', 'Years', 'Num_Sites',\n",
       "       'Onboard_date', 'Location', 'Company', 'Churn'],\n",
       "      dtype='object')"
      ]
     },
     "execution_count": 204,
     "metadata": {},
     "output_type": "execute_result"
    }
   ],
   "source": [
    "df.columns"
   ]
  },
  {
   "cell_type": "code",
   "execution_count": 205,
   "metadata": {},
   "outputs": [
    {
     "data": {
      "text/plain": [
       "['Onboard_date', 'Location', 'Company']"
      ]
     },
     "execution_count": 205,
     "metadata": {},
     "output_type": "execute_result"
    }
   ],
   "source": [
    "# 숫자가 아닌 컬럼들\n",
    "notnum =  [col for col in df.columns if df[col].dtype == \"object\"]\n",
    "\n",
    "notnum"
   ]
  },
  {
   "cell_type": "code",
   "execution_count": 206,
   "metadata": {},
   "outputs": [
    {
     "data": {
      "text/plain": [
       "['Age', 'Total_Purchase', 'Account_Manager', 'Years', 'Num_Sites', 'Churn']"
      ]
     },
     "execution_count": 206,
     "metadata": {},
     "output_type": "execute_result"
    }
   ],
   "source": [
    "# 숫자인 컬럼들\n",
    "num = [col for col in df.columns if df[col].dtype != \"object\"]\n",
    "num"
   ]
  },
  {
   "cell_type": "code",
   "execution_count": 207,
   "metadata": {},
   "outputs": [
    {
     "data": {
      "text/plain": [
       "Account_Manager\n",
       "0    467\n",
       "1    433\n",
       "Name: count, dtype: int64"
      ]
     },
     "execution_count": 207,
     "metadata": {},
     "output_type": "execute_result"
    }
   ],
   "source": [
    "df['Account_Manager'].value_counts()"
   ]
  },
  {
   "cell_type": "code",
   "execution_count": 208,
   "metadata": {},
   "outputs": [
    {
     "data": {
      "text/plain": [
       "0       True\n",
       "1       True\n",
       "2       True\n",
       "3       True\n",
       "4       True\n",
       "       ...  \n",
       "895    False\n",
       "896    False\n",
       "897    False\n",
       "898    False\n",
       "899    False\n",
       "Name: Churn, Length: 900, dtype: bool"
      ]
     },
     "execution_count": 208,
     "metadata": {},
     "output_type": "execute_result"
    }
   ],
   "source": [
    "df.iloc[:, 8] == 1"
   ]
  },
  {
   "cell_type": "code",
   "execution_count": 209,
   "metadata": {},
   "outputs": [],
   "source": [
    "# 1 무이탈 \n",
    "not_churn1 = df.loc[df[\"Churn\"]==1]"
   ]
  },
  {
   "cell_type": "code",
   "execution_count": 210,
   "metadata": {},
   "outputs": [],
   "source": [
    "# 0 이탈 \n",
    "churn0 = df.loc[df[\"Churn\"]==0]"
   ]
  },
  {
   "cell_type": "code",
   "execution_count": 211,
   "metadata": {},
   "outputs": [
    {
     "data": {
      "text/html": [
       "<div>\n",
       "<style scoped>\n",
       "    .dataframe tbody tr th:only-of-type {\n",
       "        vertical-align: middle;\n",
       "    }\n",
       "\n",
       "    .dataframe tbody tr th {\n",
       "        vertical-align: top;\n",
       "    }\n",
       "\n",
       "    .dataframe thead th {\n",
       "        text-align: right;\n",
       "    }\n",
       "</style>\n",
       "<table border=\"1\" class=\"dataframe\">\n",
       "  <thead>\n",
       "    <tr style=\"text-align: right;\">\n",
       "      <th></th>\n",
       "      <th>Age</th>\n",
       "      <th>Total_Purchase</th>\n",
       "      <th>Account_Manager</th>\n",
       "      <th>Years</th>\n",
       "      <th>Num_Sites</th>\n",
       "      <th>Onboard_date</th>\n",
       "      <th>Location</th>\n",
       "      <th>Company</th>\n",
       "      <th>Churn</th>\n",
       "    </tr>\n",
       "  </thead>\n",
       "  <tbody>\n",
       "    <tr>\n",
       "      <th>150</th>\n",
       "      <td>35.0</td>\n",
       "      <td>15571.26</td>\n",
       "      <td>0</td>\n",
       "      <td>6.45</td>\n",
       "      <td>9.0</td>\n",
       "      <td>2011-12-02 20:13:49</td>\n",
       "      <td>5728 Michael Rue Riosland, NY 38804-1415</td>\n",
       "      <td>Petty and Sons</td>\n",
       "      <td>0</td>\n",
       "    </tr>\n",
       "    <tr>\n",
       "      <th>151</th>\n",
       "      <td>39.0</td>\n",
       "      <td>10268.87</td>\n",
       "      <td>1</td>\n",
       "      <td>3.68</td>\n",
       "      <td>6.0</td>\n",
       "      <td>2009-08-19 18:52:21</td>\n",
       "      <td>3324 Gomez Knolls Suite 591 Farmerchester, LA ...</td>\n",
       "      <td>Brown-Wagner</td>\n",
       "      <td>0</td>\n",
       "    </tr>\n",
       "    <tr>\n",
       "      <th>152</th>\n",
       "      <td>44.0</td>\n",
       "      <td>12328.03</td>\n",
       "      <td>1</td>\n",
       "      <td>4.60</td>\n",
       "      <td>9.0</td>\n",
       "      <td>2006-08-29 02:24:37</td>\n",
       "      <td>9436 Warner Mill Suite 265 Port Kenneth, OH 00...</td>\n",
       "      <td>Williams PLC</td>\n",
       "      <td>0</td>\n",
       "    </tr>\n",
       "    <tr>\n",
       "      <th>153</th>\n",
       "      <td>52.0</td>\n",
       "      <td>9782.83</td>\n",
       "      <td>0</td>\n",
       "      <td>3.96</td>\n",
       "      <td>7.0</td>\n",
       "      <td>2012-04-17 10:47:29</td>\n",
       "      <td>3479 Stewart Way Sandersside, ID 69317-8759</td>\n",
       "      <td>Bishop, Tran and Pope</td>\n",
       "      <td>0</td>\n",
       "    </tr>\n",
       "    <tr>\n",
       "      <th>154</th>\n",
       "      <td>29.0</td>\n",
       "      <td>9378.24</td>\n",
       "      <td>0</td>\n",
       "      <td>4.93</td>\n",
       "      <td>8.0</td>\n",
       "      <td>2015-08-06 22:29:28</td>\n",
       "      <td>8199 Christopher Tunnel Suite 537 Warnerside, ...</td>\n",
       "      <td>White, Jones and Nelson</td>\n",
       "      <td>0</td>\n",
       "    </tr>\n",
       "    <tr>\n",
       "      <th>...</th>\n",
       "      <td>...</td>\n",
       "      <td>...</td>\n",
       "      <td>...</td>\n",
       "      <td>...</td>\n",
       "      <td>...</td>\n",
       "      <td>...</td>\n",
       "      <td>...</td>\n",
       "      <td>...</td>\n",
       "      <td>...</td>\n",
       "    </tr>\n",
       "    <tr>\n",
       "      <th>895</th>\n",
       "      <td>42.0</td>\n",
       "      <td>12800.82</td>\n",
       "      <td>1</td>\n",
       "      <td>3.62</td>\n",
       "      <td>8.0</td>\n",
       "      <td>2007-12-01 13:29:34</td>\n",
       "      <td>9316 Julian Fort Suite 328 North Leslie, ME 43961</td>\n",
       "      <td>Evans-Lucero</td>\n",
       "      <td>0</td>\n",
       "    </tr>\n",
       "    <tr>\n",
       "      <th>896</th>\n",
       "      <td>52.0</td>\n",
       "      <td>9893.92</td>\n",
       "      <td>0</td>\n",
       "      <td>6.91</td>\n",
       "      <td>7.0</td>\n",
       "      <td>2008-12-28 15:23:58</td>\n",
       "      <td>8419 William Square Apt. 695 Martinville, RI 3...</td>\n",
       "      <td>Perry and Sons</td>\n",
       "      <td>0</td>\n",
       "    </tr>\n",
       "    <tr>\n",
       "      <th>897</th>\n",
       "      <td>45.0</td>\n",
       "      <td>12056.18</td>\n",
       "      <td>0</td>\n",
       "      <td>5.46</td>\n",
       "      <td>4.0</td>\n",
       "      <td>2014-06-20 05:10:09</td>\n",
       "      <td>Unit 8633 Box 8738 DPO AA 14126-5026</td>\n",
       "      <td>Schneider-Smith</td>\n",
       "      <td>0</td>\n",
       "    </tr>\n",
       "    <tr>\n",
       "      <th>898</th>\n",
       "      <td>51.0</td>\n",
       "      <td>6517.93</td>\n",
       "      <td>1</td>\n",
       "      <td>5.47</td>\n",
       "      <td>10.0</td>\n",
       "      <td>2012-05-30 00:15:43</td>\n",
       "      <td>49800 Torres Ways Suite 886 West Bradleybury, ...</td>\n",
       "      <td>Robles-Abbott</td>\n",
       "      <td>0</td>\n",
       "    </tr>\n",
       "    <tr>\n",
       "      <th>899</th>\n",
       "      <td>39.0</td>\n",
       "      <td>9315.60</td>\n",
       "      <td>1</td>\n",
       "      <td>5.02</td>\n",
       "      <td>10.0</td>\n",
       "      <td>2010-09-25 12:16:08</td>\n",
       "      <td>27252 Olivia Burgs Rivasmouth, MN 80121-6348</td>\n",
       "      <td>Davis Group</td>\n",
       "      <td>0</td>\n",
       "    </tr>\n",
       "  </tbody>\n",
       "</table>\n",
       "<p>750 rows × 9 columns</p>\n",
       "</div>"
      ],
      "text/plain": [
       "      Age  Total_Purchase  Account_Manager  Years  Num_Sites  \\\n",
       "150  35.0        15571.26                0   6.45        9.0   \n",
       "151  39.0        10268.87                1   3.68        6.0   \n",
       "152  44.0        12328.03                1   4.60        9.0   \n",
       "153  52.0         9782.83                0   3.96        7.0   \n",
       "154  29.0         9378.24                0   4.93        8.0   \n",
       "..    ...             ...              ...    ...        ...   \n",
       "895  42.0        12800.82                1   3.62        8.0   \n",
       "896  52.0         9893.92                0   6.91        7.0   \n",
       "897  45.0        12056.18                0   5.46        4.0   \n",
       "898  51.0         6517.93                1   5.47       10.0   \n",
       "899  39.0         9315.60                1   5.02       10.0   \n",
       "\n",
       "            Onboard_date                                           Location  \\\n",
       "150  2011-12-02 20:13:49           5728 Michael Rue Riosland, NY 38804-1415   \n",
       "151  2009-08-19 18:52:21  3324 Gomez Knolls Suite 591 Farmerchester, LA ...   \n",
       "152  2006-08-29 02:24:37  9436 Warner Mill Suite 265 Port Kenneth, OH 00...   \n",
       "153  2012-04-17 10:47:29        3479 Stewart Way Sandersside, ID 69317-8759   \n",
       "154  2015-08-06 22:29:28  8199 Christopher Tunnel Suite 537 Warnerside, ...   \n",
       "..                   ...                                                ...   \n",
       "895  2007-12-01 13:29:34  9316 Julian Fort Suite 328 North Leslie, ME 43961   \n",
       "896  2008-12-28 15:23:58  8419 William Square Apt. 695 Martinville, RI 3...   \n",
       "897  2014-06-20 05:10:09               Unit 8633 Box 8738 DPO AA 14126-5026   \n",
       "898  2012-05-30 00:15:43  49800 Torres Ways Suite 886 West Bradleybury, ...   \n",
       "899  2010-09-25 12:16:08       27252 Olivia Burgs Rivasmouth, MN 80121-6348   \n",
       "\n",
       "                     Company  Churn  \n",
       "150           Petty and Sons      0  \n",
       "151             Brown-Wagner      0  \n",
       "152             Williams PLC      0  \n",
       "153    Bishop, Tran and Pope      0  \n",
       "154  White, Jones and Nelson      0  \n",
       "..                       ...    ...  \n",
       "895             Evans-Lucero      0  \n",
       "896           Perry and Sons      0  \n",
       "897          Schneider-Smith      0  \n",
       "898            Robles-Abbott      0  \n",
       "899              Davis Group      0  \n",
       "\n",
       "[750 rows x 9 columns]"
      ]
     },
     "execution_count": 211,
     "metadata": {},
     "output_type": "execute_result"
    }
   ],
   "source": [
    "churn0"
   ]
  },
  {
   "cell_type": "code",
   "execution_count": 212,
   "metadata": {},
   "outputs": [
    {
     "data": {
      "text/html": [
       "<div>\n",
       "<style scoped>\n",
       "    .dataframe tbody tr th:only-of-type {\n",
       "        vertical-align: middle;\n",
       "    }\n",
       "\n",
       "    .dataframe tbody tr th {\n",
       "        vertical-align: top;\n",
       "    }\n",
       "\n",
       "    .dataframe thead th {\n",
       "        text-align: right;\n",
       "    }\n",
       "</style>\n",
       "<table border=\"1\" class=\"dataframe\">\n",
       "  <thead>\n",
       "    <tr style=\"text-align: right;\">\n",
       "      <th></th>\n",
       "      <th>Age</th>\n",
       "      <th>Total_Purchase</th>\n",
       "      <th>Account_Manager</th>\n",
       "      <th>Years</th>\n",
       "      <th>Num_Sites</th>\n",
       "      <th>Onboard_date</th>\n",
       "      <th>Location</th>\n",
       "      <th>Company</th>\n",
       "      <th>Churn</th>\n",
       "    </tr>\n",
       "  </thead>\n",
       "  <tbody>\n",
       "    <tr>\n",
       "      <th>0</th>\n",
       "      <td>42.0</td>\n",
       "      <td>11066.80</td>\n",
       "      <td>0</td>\n",
       "      <td>7.22</td>\n",
       "      <td>8.0</td>\n",
       "      <td>2013-08-30 07:00:40</td>\n",
       "      <td>10265 Elizabeth Mission Barkerburgh, AK 89518</td>\n",
       "      <td>Harvey LLC</td>\n",
       "      <td>1</td>\n",
       "    </tr>\n",
       "    <tr>\n",
       "      <th>1</th>\n",
       "      <td>41.0</td>\n",
       "      <td>11916.22</td>\n",
       "      <td>0</td>\n",
       "      <td>6.50</td>\n",
       "      <td>11.0</td>\n",
       "      <td>2013-08-13 00:38:46</td>\n",
       "      <td>6157 Frank Gardens Suite 019 Carloshaven, RI 1...</td>\n",
       "      <td>Wilson PLC</td>\n",
       "      <td>1</td>\n",
       "    </tr>\n",
       "    <tr>\n",
       "      <th>2</th>\n",
       "      <td>38.0</td>\n",
       "      <td>12884.75</td>\n",
       "      <td>0</td>\n",
       "      <td>6.67</td>\n",
       "      <td>12.0</td>\n",
       "      <td>2016-06-29 06:20:07</td>\n",
       "      <td>1331 Keith Court Alyssahaven, DE 90114</td>\n",
       "      <td>Miller, Johnson and Wallace</td>\n",
       "      <td>1</td>\n",
       "    </tr>\n",
       "    <tr>\n",
       "      <th>3</th>\n",
       "      <td>42.0</td>\n",
       "      <td>8010.76</td>\n",
       "      <td>0</td>\n",
       "      <td>6.71</td>\n",
       "      <td>10.0</td>\n",
       "      <td>2014-04-22 12:43:12</td>\n",
       "      <td>13120 Daniel Mount Angelabury, WY 30645-4695</td>\n",
       "      <td>Smith Inc</td>\n",
       "      <td>1</td>\n",
       "    </tr>\n",
       "    <tr>\n",
       "      <th>4</th>\n",
       "      <td>37.0</td>\n",
       "      <td>9191.58</td>\n",
       "      <td>0</td>\n",
       "      <td>5.56</td>\n",
       "      <td>9.0</td>\n",
       "      <td>2016-01-19 15:31:15</td>\n",
       "      <td>765 Tricia Row Karenshire, MH 71730</td>\n",
       "      <td>Love-Jones</td>\n",
       "      <td>1</td>\n",
       "    </tr>\n",
       "  </tbody>\n",
       "</table>\n",
       "</div>"
      ],
      "text/plain": [
       "    Age  Total_Purchase  Account_Manager  Years  Num_Sites  \\\n",
       "0  42.0        11066.80                0   7.22        8.0   \n",
       "1  41.0        11916.22                0   6.50       11.0   \n",
       "2  38.0        12884.75                0   6.67       12.0   \n",
       "3  42.0         8010.76                0   6.71       10.0   \n",
       "4  37.0         9191.58                0   5.56        9.0   \n",
       "\n",
       "          Onboard_date                                           Location  \\\n",
       "0  2013-08-30 07:00:40      10265 Elizabeth Mission Barkerburgh, AK 89518   \n",
       "1  2013-08-13 00:38:46  6157 Frank Gardens Suite 019 Carloshaven, RI 1...   \n",
       "2  2016-06-29 06:20:07             1331 Keith Court Alyssahaven, DE 90114   \n",
       "3  2014-04-22 12:43:12       13120 Daniel Mount Angelabury, WY 30645-4695   \n",
       "4  2016-01-19 15:31:15                765 Tricia Row Karenshire, MH 71730   \n",
       "\n",
       "                       Company  Churn  \n",
       "0                   Harvey LLC      1  \n",
       "1                   Wilson PLC      1  \n",
       "2  Miller, Johnson and Wallace      1  \n",
       "3                    Smith Inc      1  \n",
       "4                   Love-Jones      1  "
      ]
     },
     "execution_count": 212,
     "metadata": {},
     "output_type": "execute_result"
    }
   ],
   "source": [
    "df.head()"
   ]
  },
  {
   "cell_type": "code",
   "execution_count": 213,
   "metadata": {},
   "outputs": [
    {
     "data": {
      "text/plain": [
       "<bound method Series.sort_values of Total_Purchase\n",
       "11066.80    1\n",
       "13190.30    1\n",
       "8688.17     1\n",
       "11434.61    1\n",
       "12309.39    1\n",
       "           ..\n",
       "12682.90    1\n",
       "14036.28    1\n",
       "10179.92    1\n",
       "12772.72    1\n",
       "8560.76     1\n",
       "Name: count, Length: 150, dtype: int64>"
      ]
     },
     "execution_count": 213,
     "metadata": {},
     "output_type": "execute_result"
    }
   ],
   "source": [
    "not_churn1['Total_Purchase'].value_counts().sort_values"
   ]
  },
  {
   "cell_type": "code",
   "execution_count": 214,
   "metadata": {},
   "outputs": [
    {
     "data": {
      "text/plain": [
       "<bound method Series.sort_values of Total_Purchase\n",
       "15571.26    1\n",
       "9672.03     1\n",
       "8403.02     1\n",
       "7277.27     1\n",
       "8575.71     1\n",
       "           ..\n",
       "8418.81     1\n",
       "6461.86     1\n",
       "14317.20    1\n",
       "4492.44     1\n",
       "9315.60     1\n",
       "Name: count, Length: 750, dtype: int64>"
      ]
     },
     "execution_count": 214,
     "metadata": {},
     "output_type": "execute_result"
    }
   ],
   "source": [
    "churn0['Total_Purchase'].value_counts().sort_values"
   ]
  },
  {
   "cell_type": "code",
   "execution_count": 215,
   "metadata": {},
   "outputs": [
    {
     "data": {
      "text/plain": [
       "<bound method Series.sort_values of Account_Manager\n",
       "1    84\n",
       "0    66\n",
       "Name: count, dtype: int64>"
      ]
     },
     "execution_count": 215,
     "metadata": {},
     "output_type": "execute_result"
    }
   ],
   "source": [
    "# 이탈하지 않은 사람들의 관리 매니저 \n",
    "not_churn1['Account_Manager'].value_counts().sort_values"
   ]
  },
  {
   "cell_type": "code",
   "execution_count": 216,
   "metadata": {},
   "outputs": [
    {
     "data": {
      "text/plain": [
       "<bound method Series.sort_values of Account_Manager\n",
       "0    401\n",
       "1    349\n",
       "Name: count, dtype: int64>"
      ]
     },
     "execution_count": 216,
     "metadata": {},
     "output_type": "execute_result"
    }
   ],
   "source": [
    "# 이탈한 사람들의 \n",
    "\n",
    "churn0['Account_Manager'].value_counts().sort_values"
   ]
  },
  {
   "cell_type": "code",
   "execution_count": 217,
   "metadata": {},
   "outputs": [
    {
     "data": {
      "text/plain": [
       "count      150.000000\n",
       "mean     10192.179933\n",
       "std       2283.594792\n",
       "min       4771.650000\n",
       "25%       8572.682500\n",
       "50%      10273.760000\n",
       "75%      11754.017500\n",
       "max      16838.940000\n",
       "Name: Total_Purchase, dtype: float64"
      ]
     },
     "execution_count": 217,
     "metadata": {},
     "output_type": "execute_result"
    }
   ],
   "source": [
    "not_churn1['Total_Purchase'].describe()"
   ]
  },
  {
   "cell_type": "code",
   "execution_count": 218,
   "metadata": {},
   "outputs": [
    {
     "data": {
      "image/png": "[encoded data removed]",
      "text/plain": [
       "<Figure size 800x600 with 1 Axes>"
      ]
     },
     "metadata": {},
     "output_type": "display_data"
    }
   ],
   "source": [
    "plt.figure(figsize=(8,6))\n",
    "plt.xlabel('Total_Purchase')\n",
    "plt.hist(not_churn1[\"Total_Purchase\"],bins=15, alpha=0.7, label='Not Churn')\n",
    "plt.legend(loc='upper right')\n",
    "plt.show()"
   ]
  },
  {
   "cell_type": "code",
   "execution_count": 219,
   "metadata": {},
   "outputs": [
    {
     "data": {
      "image/png": "[encoded data removed]",
      "text/plain": [
       "<Figure size 800x600 with 1 Axes>"
      ]
     },
     "metadata": {},
     "output_type": "display_data"
    }
   ],
   "source": [
    "plt.figure(figsize=(8,6))\n",
    "plt.xlabel('Total_Purchase')\n",
    "plt.hist(churn0[\"Total_Purchase\"],bins=15, alpha=0.7, label='Churn')\n",
    "plt.legend(loc='upper right')\n",
    "plt.show()"
   ]
  },
  {
   "cell_type": "code",
   "execution_count": 220,
   "metadata": {},
   "outputs": [
    {
     "data": {
      "text/html": [
       "<div>\n",
       "<style scoped>\n",
       "    .dataframe tbody tr th:only-of-type {\n",
       "        vertical-align: middle;\n",
       "    }\n",
       "\n",
       "    .dataframe tbody tr th {\n",
       "        vertical-align: top;\n",
       "    }\n",
       "\n",
       "    .dataframe thead th {\n",
       "        text-align: right;\n",
       "    }\n",
       "</style>\n",
       "<table border=\"1\" class=\"dataframe\">\n",
       "  <thead>\n",
       "    <tr style=\"text-align: right;\">\n",
       "      <th></th>\n",
       "      <th>Age</th>\n",
       "      <th>Total_Purchase</th>\n",
       "      <th>Account_Manager</th>\n",
       "      <th>Years</th>\n",
       "      <th>Num_Sites</th>\n",
       "      <th>Onboard_date</th>\n",
       "      <th>Location</th>\n",
       "      <th>Company</th>\n",
       "      <th>Churn</th>\n",
       "    </tr>\n",
       "  </thead>\n",
       "  <tbody>\n",
       "    <tr>\n",
       "      <th>0</th>\n",
       "      <td>42.0</td>\n",
       "      <td>11066.80</td>\n",
       "      <td>0</td>\n",
       "      <td>7.22</td>\n",
       "      <td>8.0</td>\n",
       "      <td>2013-08-30 07:00:40</td>\n",
       "      <td>10265 Elizabeth Mission Barkerburgh, AK 89518</td>\n",
       "      <td>Harvey LLC</td>\n",
       "      <td>1</td>\n",
       "    </tr>\n",
       "    <tr>\n",
       "      <th>1</th>\n",
       "      <td>41.0</td>\n",
       "      <td>11916.22</td>\n",
       "      <td>0</td>\n",
       "      <td>6.50</td>\n",
       "      <td>11.0</td>\n",
       "      <td>2013-08-13 00:38:46</td>\n",
       "      <td>6157 Frank Gardens Suite 019 Carloshaven, RI 1...</td>\n",
       "      <td>Wilson PLC</td>\n",
       "      <td>1</td>\n",
       "    </tr>\n",
       "    <tr>\n",
       "      <th>2</th>\n",
       "      <td>38.0</td>\n",
       "      <td>12884.75</td>\n",
       "      <td>0</td>\n",
       "      <td>6.67</td>\n",
       "      <td>12.0</td>\n",
       "      <td>2016-06-29 06:20:07</td>\n",
       "      <td>1331 Keith Court Alyssahaven, DE 90114</td>\n",
       "      <td>Miller, Johnson and Wallace</td>\n",
       "      <td>1</td>\n",
       "    </tr>\n",
       "    <tr>\n",
       "      <th>3</th>\n",
       "      <td>42.0</td>\n",
       "      <td>8010.76</td>\n",
       "      <td>0</td>\n",
       "      <td>6.71</td>\n",
       "      <td>10.0</td>\n",
       "      <td>2014-04-22 12:43:12</td>\n",
       "      <td>13120 Daniel Mount Angelabury, WY 30645-4695</td>\n",
       "      <td>Smith Inc</td>\n",
       "      <td>1</td>\n",
       "    </tr>\n",
       "    <tr>\n",
       "      <th>4</th>\n",
       "      <td>37.0</td>\n",
       "      <td>9191.58</td>\n",
       "      <td>0</td>\n",
       "      <td>5.56</td>\n",
       "      <td>9.0</td>\n",
       "      <td>2016-01-19 15:31:15</td>\n",
       "      <td>765 Tricia Row Karenshire, MH 71730</td>\n",
       "      <td>Love-Jones</td>\n",
       "      <td>1</td>\n",
       "    </tr>\n",
       "    <tr>\n",
       "      <th>5</th>\n",
       "      <td>48.0</td>\n",
       "      <td>10356.02</td>\n",
       "      <td>0</td>\n",
       "      <td>5.12</td>\n",
       "      <td>8.0</td>\n",
       "      <td>2009-03-03 23:13:37</td>\n",
       "      <td>6187 Olson Mountains East Vincentborough, PR 7...</td>\n",
       "      <td>Kelly-Warren</td>\n",
       "      <td>1</td>\n",
       "    </tr>\n",
       "    <tr>\n",
       "      <th>6</th>\n",
       "      <td>44.0</td>\n",
       "      <td>11331.58</td>\n",
       "      <td>1</td>\n",
       "      <td>5.23</td>\n",
       "      <td>11.0</td>\n",
       "      <td>2016-12-05 03:35:43</td>\n",
       "      <td>4846 Savannah Road West Justin, IA 87713-3460</td>\n",
       "      <td>Reynolds-Sheppard</td>\n",
       "      <td>1</td>\n",
       "    </tr>\n",
       "    <tr>\n",
       "      <th>7</th>\n",
       "      <td>32.0</td>\n",
       "      <td>9885.12</td>\n",
       "      <td>1</td>\n",
       "      <td>6.92</td>\n",
       "      <td>9.0</td>\n",
       "      <td>2006-03-09 14:50:20</td>\n",
       "      <td>25271 Roy Expressway Suite 147 Brownport, FM 5...</td>\n",
       "      <td>Singh-Cole</td>\n",
       "      <td>1</td>\n",
       "    </tr>\n",
       "    <tr>\n",
       "      <th>8</th>\n",
       "      <td>43.0</td>\n",
       "      <td>14062.60</td>\n",
       "      <td>1</td>\n",
       "      <td>5.46</td>\n",
       "      <td>11.0</td>\n",
       "      <td>2011-09-29 05:47:23</td>\n",
       "      <td>3725 Caroline Stravenue South Christineview, M...</td>\n",
       "      <td>Lopez PLC</td>\n",
       "      <td>1</td>\n",
       "    </tr>\n",
       "    <tr>\n",
       "      <th>9</th>\n",
       "      <td>40.0</td>\n",
       "      <td>8066.94</td>\n",
       "      <td>1</td>\n",
       "      <td>7.11</td>\n",
       "      <td>11.0</td>\n",
       "      <td>2006-03-28 15:42:45</td>\n",
       "      <td>363 Sandra Lodge Suite 144 South Ann, WI 51655...</td>\n",
       "      <td>Reed-Martinez</td>\n",
       "      <td>1</td>\n",
       "    </tr>\n",
       "    <tr>\n",
       "      <th>10</th>\n",
       "      <td>30.0</td>\n",
       "      <td>11575.37</td>\n",
       "      <td>1</td>\n",
       "      <td>5.22</td>\n",
       "      <td>8.0</td>\n",
       "      <td>2016-11-13 13:13:01</td>\n",
       "      <td>Unit 8120 Box 9160 DPO AA 43432</td>\n",
       "      <td>Briggs, Lamb and Mathews</td>\n",
       "      <td>1</td>\n",
       "    </tr>\n",
       "    <tr>\n",
       "      <th>11</th>\n",
       "      <td>45.0</td>\n",
       "      <td>8771.02</td>\n",
       "      <td>1</td>\n",
       "      <td>6.64</td>\n",
       "      <td>11.0</td>\n",
       "      <td>2015-05-28 12:14:03</td>\n",
       "      <td>Unit 1895 Box 0949 DPO AA 40249</td>\n",
       "      <td>Figueroa-Maynard</td>\n",
       "      <td>1</td>\n",
       "    </tr>\n",
       "    <tr>\n",
       "      <th>12</th>\n",
       "      <td>45.0</td>\n",
       "      <td>8988.67</td>\n",
       "      <td>1</td>\n",
       "      <td>4.84</td>\n",
       "      <td>11.0</td>\n",
       "      <td>2011-02-16 08:10:47</td>\n",
       "      <td>897 Kelley Overpass Suite 349 West Rebekahport...</td>\n",
       "      <td>Abbott-Thompson</td>\n",
       "      <td>1</td>\n",
       "    </tr>\n",
       "    <tr>\n",
       "      <th>13</th>\n",
       "      <td>40.0</td>\n",
       "      <td>8283.32</td>\n",
       "      <td>1</td>\n",
       "      <td>5.10</td>\n",
       "      <td>13.0</td>\n",
       "      <td>2012-11-22 05:35:03</td>\n",
       "      <td>11488 Weaver Cape Hernandezberg, WI 63417-8544</td>\n",
       "      <td>Smith, Kim and Marshall</td>\n",
       "      <td>1</td>\n",
       "    </tr>\n",
       "    <tr>\n",
       "      <th>14</th>\n",
       "      <td>41.0</td>\n",
       "      <td>6569.87</td>\n",
       "      <td>1</td>\n",
       "      <td>4.30</td>\n",
       "      <td>11.0</td>\n",
       "      <td>2015-03-28 02:13:44</td>\n",
       "      <td>1774 Peter Row Apt. 712 New Autumn, MT 18782</td>\n",
       "      <td>Snyder, Lee and Morris</td>\n",
       "      <td>1</td>\n",
       "    </tr>\n",
       "    <tr>\n",
       "      <th>15</th>\n",
       "      <td>38.0</td>\n",
       "      <td>10494.82</td>\n",
       "      <td>1</td>\n",
       "      <td>6.81</td>\n",
       "      <td>12.0</td>\n",
       "      <td>2015-07-22 08:38:40</td>\n",
       "      <td>45408 David Path East Kimberlyshire, HI 54903-...</td>\n",
       "      <td>Sanders-Pierce</td>\n",
       "      <td>1</td>\n",
       "    </tr>\n",
       "    <tr>\n",
       "      <th>16</th>\n",
       "      <td>45.0</td>\n",
       "      <td>8213.41</td>\n",
       "      <td>1</td>\n",
       "      <td>7.35</td>\n",
       "      <td>11.0</td>\n",
       "      <td>2006-09-03 06:13:55</td>\n",
       "      <td>28216 Wright Mount Apt. 356 Alichester, DE 409...</td>\n",
       "      <td>Andrews, Adams and Davis</td>\n",
       "      <td>1</td>\n",
       "    </tr>\n",
       "    <tr>\n",
       "      <th>17</th>\n",
       "      <td>43.0</td>\n",
       "      <td>11226.88</td>\n",
       "      <td>0</td>\n",
       "      <td>8.08</td>\n",
       "      <td>12.0</td>\n",
       "      <td>2006-10-22 04:42:38</td>\n",
       "      <td>Unit 4948 Box 4814 DPO AP 42669</td>\n",
       "      <td>Morgan, Phillips and Harrell</td>\n",
       "      <td>1</td>\n",
       "    </tr>\n",
       "    <tr>\n",
       "      <th>18</th>\n",
       "      <td>53.0</td>\n",
       "      <td>5515.09</td>\n",
       "      <td>0</td>\n",
       "      <td>6.85</td>\n",
       "      <td>8.0</td>\n",
       "      <td>2015-10-07 00:27:10</td>\n",
       "      <td>69203 Crosby Divide Apt. 878 Parkerview, CO 87064</td>\n",
       "      <td>Villanueva LLC</td>\n",
       "      <td>1</td>\n",
       "    </tr>\n",
       "    <tr>\n",
       "      <th>19</th>\n",
       "      <td>46.0</td>\n",
       "      <td>8046.40</td>\n",
       "      <td>1</td>\n",
       "      <td>5.69</td>\n",
       "      <td>8.0</td>\n",
       "      <td>2014-11-06 23:47:14</td>\n",
       "      <td>9569 Caldwell Crescent Tanyaborough, RI 30637</td>\n",
       "      <td>Berry, Orr and Cabrera</td>\n",
       "      <td>1</td>\n",
       "    </tr>\n",
       "  </tbody>\n",
       "</table>\n",
       "</div>"
      ],
      "text/plain": [
       "     Age  Total_Purchase  Account_Manager  Years  Num_Sites  \\\n",
       "0   42.0        11066.80                0   7.22        8.0   \n",
       "1   41.0        11916.22                0   6.50       11.0   \n",
       "2   38.0        12884.75                0   6.67       12.0   \n",
       "3   42.0         8010.76                0   6.71       10.0   \n",
       "4   37.0         9191.58                0   5.56        9.0   \n",
       "5   48.0        10356.02                0   5.12        8.0   \n",
       "6   44.0        11331.58                1   5.23       11.0   \n",
       "7   32.0         9885.12                1   6.92        9.0   \n",
       "8   43.0        14062.60                1   5.46       11.0   \n",
       "9   40.0         8066.94                1   7.11       11.0   \n",
       "10  30.0        11575.37                1   5.22        8.0   \n",
       "11  45.0         8771.02                1   6.64       11.0   \n",
       "12  45.0         8988.67                1   4.84       11.0   \n",
       "13  40.0         8283.32                1   5.10       13.0   \n",
       "14  41.0         6569.87                1   4.30       11.0   \n",
       "15  38.0        10494.82                1   6.81       12.0   \n",
       "16  45.0         8213.41                1   7.35       11.0   \n",
       "17  43.0        11226.88                0   8.08       12.0   \n",
       "18  53.0         5515.09                0   6.85        8.0   \n",
       "19  46.0         8046.40                1   5.69        8.0   \n",
       "\n",
       "           Onboard_date                                           Location  \\\n",
       "0   2013-08-30 07:00:40      10265 Elizabeth Mission Barkerburgh, AK 89518   \n",
       "1   2013-08-13 00:38:46  6157 Frank Gardens Suite 019 Carloshaven, RI 1...   \n",
       "2   2016-06-29 06:20:07             1331 Keith Court Alyssahaven, DE 90114   \n",
       "3   2014-04-22 12:43:12       13120 Daniel Mount Angelabury, WY 30645-4695   \n",
       "4   2016-01-19 15:31:15                765 Tricia Row Karenshire, MH 71730   \n",
       "5   2009-03-03 23:13:37  6187 Olson Mountains East Vincentborough, PR 7...   \n",
       "6   2016-12-05 03:35:43      4846 Savannah Road West Justin, IA 87713-3460   \n",
       "7   2006-03-09 14:50:20  25271 Roy Expressway Suite 147 Brownport, FM 5...   \n",
       "8   2011-09-29 05:47:23  3725 Caroline Stravenue South Christineview, M...   \n",
       "9   2006-03-28 15:42:45  363 Sandra Lodge Suite 144 South Ann, WI 51655...   \n",
       "10  2016-11-13 13:13:01                    Unit 8120 Box 9160 DPO AA 43432   \n",
       "11  2015-05-28 12:14:03                    Unit 1895 Box 0949 DPO AA 40249   \n",
       "12  2011-02-16 08:10:47  897 Kelley Overpass Suite 349 West Rebekahport...   \n",
       "13  2012-11-22 05:35:03     11488 Weaver Cape Hernandezberg, WI 63417-8544   \n",
       "14  2015-03-28 02:13:44       1774 Peter Row Apt. 712 New Autumn, MT 18782   \n",
       "15  2015-07-22 08:38:40  45408 David Path East Kimberlyshire, HI 54903-...   \n",
       "16  2006-09-03 06:13:55  28216 Wright Mount Apt. 356 Alichester, DE 409...   \n",
       "17  2006-10-22 04:42:38                    Unit 4948 Box 4814 DPO AP 42669   \n",
       "18  2015-10-07 00:27:10  69203 Crosby Divide Apt. 878 Parkerview, CO 87064   \n",
       "19  2014-11-06 23:47:14      9569 Caldwell Crescent Tanyaborough, RI 30637   \n",
       "\n",
       "                         Company  Churn  \n",
       "0                     Harvey LLC      1  \n",
       "1                     Wilson PLC      1  \n",
       "2    Miller, Johnson and Wallace      1  \n",
       "3                      Smith Inc      1  \n",
       "4                     Love-Jones      1  \n",
       "5                   Kelly-Warren      1  \n",
       "6              Reynolds-Sheppard      1  \n",
       "7                     Singh-Cole      1  \n",
       "8                      Lopez PLC      1  \n",
       "9                  Reed-Martinez      1  \n",
       "10      Briggs, Lamb and Mathews      1  \n",
       "11              Figueroa-Maynard      1  \n",
       "12               Abbott-Thompson      1  \n",
       "13       Smith, Kim and Marshall      1  \n",
       "14        Snyder, Lee and Morris      1  \n",
       "15                Sanders-Pierce      1  \n",
       "16      Andrews, Adams and Davis      1  \n",
       "17  Morgan, Phillips and Harrell      1  \n",
       "18                Villanueva LLC      1  \n",
       "19        Berry, Orr and Cabrera      1  "
      ]
     },
     "execution_count": 220,
     "metadata": {},
     "output_type": "execute_result"
    }
   ],
   "source": [
    "df.head(20)"
   ]
  },
  {
   "cell_type": "code",
   "execution_count": 221,
   "metadata": {},
   "outputs": [
    {
     "data": {
      "text/html": [
       "<div>\n",
       "<style scoped>\n",
       "    .dataframe tbody tr th:only-of-type {\n",
       "        vertical-align: middle;\n",
       "    }\n",
       "\n",
       "    .dataframe tbody tr th {\n",
       "        vertical-align: top;\n",
       "    }\n",
       "\n",
       "    .dataframe thead th {\n",
       "        text-align: right;\n",
       "    }\n",
       "</style>\n",
       "<table border=\"1\" class=\"dataframe\">\n",
       "  <thead>\n",
       "    <tr style=\"text-align: right;\">\n",
       "      <th></th>\n",
       "      <th>Age</th>\n",
       "      <th>Total_Purchase</th>\n",
       "      <th>Account_Manager</th>\n",
       "      <th>Years</th>\n",
       "      <th>Num_Sites</th>\n",
       "      <th>Churn</th>\n",
       "    </tr>\n",
       "  </thead>\n",
       "  <tbody>\n",
       "    <tr>\n",
       "      <th>0</th>\n",
       "      <td>42.0</td>\n",
       "      <td>11066.80</td>\n",
       "      <td>0</td>\n",
       "      <td>7.22</td>\n",
       "      <td>8.0</td>\n",
       "      <td>1</td>\n",
       "    </tr>\n",
       "    <tr>\n",
       "      <th>1</th>\n",
       "      <td>41.0</td>\n",
       "      <td>11916.22</td>\n",
       "      <td>0</td>\n",
       "      <td>6.50</td>\n",
       "      <td>11.0</td>\n",
       "      <td>1</td>\n",
       "    </tr>\n",
       "    <tr>\n",
       "      <th>2</th>\n",
       "      <td>38.0</td>\n",
       "      <td>12884.75</td>\n",
       "      <td>0</td>\n",
       "      <td>6.67</td>\n",
       "      <td>12.0</td>\n",
       "      <td>1</td>\n",
       "    </tr>\n",
       "    <tr>\n",
       "      <th>3</th>\n",
       "      <td>42.0</td>\n",
       "      <td>8010.76</td>\n",
       "      <td>0</td>\n",
       "      <td>6.71</td>\n",
       "      <td>10.0</td>\n",
       "      <td>1</td>\n",
       "    </tr>\n",
       "    <tr>\n",
       "      <th>4</th>\n",
       "      <td>37.0</td>\n",
       "      <td>9191.58</td>\n",
       "      <td>0</td>\n",
       "      <td>5.56</td>\n",
       "      <td>9.0</td>\n",
       "      <td>1</td>\n",
       "    </tr>\n",
       "    <tr>\n",
       "      <th>...</th>\n",
       "      <td>...</td>\n",
       "      <td>...</td>\n",
       "      <td>...</td>\n",
       "      <td>...</td>\n",
       "      <td>...</td>\n",
       "      <td>...</td>\n",
       "    </tr>\n",
       "    <tr>\n",
       "      <th>895</th>\n",
       "      <td>42.0</td>\n",
       "      <td>12800.82</td>\n",
       "      <td>1</td>\n",
       "      <td>3.62</td>\n",
       "      <td>8.0</td>\n",
       "      <td>0</td>\n",
       "    </tr>\n",
       "    <tr>\n",
       "      <th>896</th>\n",
       "      <td>52.0</td>\n",
       "      <td>9893.92</td>\n",
       "      <td>0</td>\n",
       "      <td>6.91</td>\n",
       "      <td>7.0</td>\n",
       "      <td>0</td>\n",
       "    </tr>\n",
       "    <tr>\n",
       "      <th>897</th>\n",
       "      <td>45.0</td>\n",
       "      <td>12056.18</td>\n",
       "      <td>0</td>\n",
       "      <td>5.46</td>\n",
       "      <td>4.0</td>\n",
       "      <td>0</td>\n",
       "    </tr>\n",
       "    <tr>\n",
       "      <th>898</th>\n",
       "      <td>51.0</td>\n",
       "      <td>6517.93</td>\n",
       "      <td>1</td>\n",
       "      <td>5.47</td>\n",
       "      <td>10.0</td>\n",
       "      <td>0</td>\n",
       "    </tr>\n",
       "    <tr>\n",
       "      <th>899</th>\n",
       "      <td>39.0</td>\n",
       "      <td>9315.60</td>\n",
       "      <td>1</td>\n",
       "      <td>5.02</td>\n",
       "      <td>10.0</td>\n",
       "      <td>0</td>\n",
       "    </tr>\n",
       "  </tbody>\n",
       "</table>\n",
       "<p>900 rows × 6 columns</p>\n",
       "</div>"
      ],
      "text/plain": [
       "      Age  Total_Purchase  Account_Manager  Years  Num_Sites  Churn\n",
       "0    42.0        11066.80                0   7.22        8.0      1\n",
       "1    41.0        11916.22                0   6.50       11.0      1\n",
       "2    38.0        12884.75                0   6.67       12.0      1\n",
       "3    42.0         8010.76                0   6.71       10.0      1\n",
       "4    37.0         9191.58                0   5.56        9.0      1\n",
       "..    ...             ...              ...    ...        ...    ...\n",
       "895  42.0        12800.82                1   3.62        8.0      0\n",
       "896  52.0         9893.92                0   6.91        7.0      0\n",
       "897  45.0        12056.18                0   5.46        4.0      0\n",
       "898  51.0         6517.93                1   5.47       10.0      0\n",
       "899  39.0         9315.60                1   5.02       10.0      0\n",
       "\n",
       "[900 rows x 6 columns]"
      ]
     },
     "execution_count": 221,
     "metadata": {},
     "output_type": "execute_result"
    }
   ],
   "source": [
    "df = df.drop(['Company', 'Location', 'Onboard_date'], axis = 1)\n",
    "df"
   ]
  },
  {
   "cell_type": "code",
   "execution_count": 222,
   "metadata": {},
   "outputs": [
    {
     "data": {
      "text/plain": [
       "Age                float64\n",
       "Total_Purchase     float64\n",
       "Account_Manager      int64\n",
       "Years              float64\n",
       "Num_Sites          float64\n",
       "Churn                int64\n",
       "dtype: object"
      ]
     },
     "execution_count": 222,
     "metadata": {},
     "output_type": "execute_result"
    }
   ],
   "source": [
    "df.dtypes"
   ]
  },
  {
   "cell_type": "code",
   "execution_count": 223,
   "metadata": {},
   "outputs": [
    {
     "data": {
      "text/plain": [
       "0      0\n",
       "1      0\n",
       "2      0\n",
       "3      0\n",
       "4      0\n",
       "      ..\n",
       "895    1\n",
       "896    0\n",
       "897    0\n",
       "898    1\n",
       "899    1\n",
       "Name: Account_Manager, Length: 900, dtype: int64"
      ]
     },
     "execution_count": 223,
     "metadata": {},
     "output_type": "execute_result"
    }
   ],
   "source": [
    "df['Account_Manager']"
   ]
  },
  {
   "cell_type": "code",
   "execution_count": 224,
   "metadata": {},
   "outputs": [
    {
     "data": {
      "text/html": [
       "<div>\n",
       "<style scoped>\n",
       "    .dataframe tbody tr th:only-of-type {\n",
       "        vertical-align: middle;\n",
       "    }\n",
       "\n",
       "    .dataframe tbody tr th {\n",
       "        vertical-align: top;\n",
       "    }\n",
       "\n",
       "    .dataframe thead th {\n",
       "        text-align: right;\n",
       "    }\n",
       "</style>\n",
       "<table border=\"1\" class=\"dataframe\">\n",
       "  <thead>\n",
       "    <tr style=\"text-align: right;\">\n",
       "      <th></th>\n",
       "      <th>Age</th>\n",
       "      <th>Total_Purchase</th>\n",
       "      <th>Account_Manager</th>\n",
       "      <th>Years</th>\n",
       "      <th>Num_Sites</th>\n",
       "      <th>Churn</th>\n",
       "    </tr>\n",
       "  </thead>\n",
       "  <tbody>\n",
       "    <tr>\n",
       "      <th>0</th>\n",
       "      <td>42.0</td>\n",
       "      <td>11066.80</td>\n",
       "      <td>0</td>\n",
       "      <td>7.22</td>\n",
       "      <td>8.0</td>\n",
       "      <td>1</td>\n",
       "    </tr>\n",
       "    <tr>\n",
       "      <th>1</th>\n",
       "      <td>41.0</td>\n",
       "      <td>11916.22</td>\n",
       "      <td>0</td>\n",
       "      <td>6.50</td>\n",
       "      <td>11.0</td>\n",
       "      <td>1</td>\n",
       "    </tr>\n",
       "    <tr>\n",
       "      <th>2</th>\n",
       "      <td>38.0</td>\n",
       "      <td>12884.75</td>\n",
       "      <td>0</td>\n",
       "      <td>6.67</td>\n",
       "      <td>12.0</td>\n",
       "      <td>1</td>\n",
       "    </tr>\n",
       "    <tr>\n",
       "      <th>3</th>\n",
       "      <td>42.0</td>\n",
       "      <td>8010.76</td>\n",
       "      <td>0</td>\n",
       "      <td>6.71</td>\n",
       "      <td>10.0</td>\n",
       "      <td>1</td>\n",
       "    </tr>\n",
       "    <tr>\n",
       "      <th>4</th>\n",
       "      <td>37.0</td>\n",
       "      <td>9191.58</td>\n",
       "      <td>0</td>\n",
       "      <td>5.56</td>\n",
       "      <td>9.0</td>\n",
       "      <td>1</td>\n",
       "    </tr>\n",
       "    <tr>\n",
       "      <th>...</th>\n",
       "      <td>...</td>\n",
       "      <td>...</td>\n",
       "      <td>...</td>\n",
       "      <td>...</td>\n",
       "      <td>...</td>\n",
       "      <td>...</td>\n",
       "    </tr>\n",
       "    <tr>\n",
       "      <th>895</th>\n",
       "      <td>42.0</td>\n",
       "      <td>12800.82</td>\n",
       "      <td>1</td>\n",
       "      <td>3.62</td>\n",
       "      <td>8.0</td>\n",
       "      <td>0</td>\n",
       "    </tr>\n",
       "    <tr>\n",
       "      <th>896</th>\n",
       "      <td>52.0</td>\n",
       "      <td>9893.92</td>\n",
       "      <td>0</td>\n",
       "      <td>6.91</td>\n",
       "      <td>7.0</td>\n",
       "      <td>0</td>\n",
       "    </tr>\n",
       "    <tr>\n",
       "      <th>897</th>\n",
       "      <td>45.0</td>\n",
       "      <td>12056.18</td>\n",
       "      <td>0</td>\n",
       "      <td>5.46</td>\n",
       "      <td>4.0</td>\n",
       "      <td>0</td>\n",
       "    </tr>\n",
       "    <tr>\n",
       "      <th>898</th>\n",
       "      <td>51.0</td>\n",
       "      <td>6517.93</td>\n",
       "      <td>1</td>\n",
       "      <td>5.47</td>\n",
       "      <td>10.0</td>\n",
       "      <td>0</td>\n",
       "    </tr>\n",
       "    <tr>\n",
       "      <th>899</th>\n",
       "      <td>39.0</td>\n",
       "      <td>9315.60</td>\n",
       "      <td>1</td>\n",
       "      <td>5.02</td>\n",
       "      <td>10.0</td>\n",
       "      <td>0</td>\n",
       "    </tr>\n",
       "  </tbody>\n",
       "</table>\n",
       "<p>900 rows × 6 columns</p>\n",
       "</div>"
      ],
      "text/plain": [
       "      Age  Total_Purchase  Account_Manager  Years  Num_Sites  Churn\n",
       "0    42.0        11066.80                0   7.22        8.0      1\n",
       "1    41.0        11916.22                0   6.50       11.0      1\n",
       "2    38.0        12884.75                0   6.67       12.0      1\n",
       "3    42.0         8010.76                0   6.71       10.0      1\n",
       "4    37.0         9191.58                0   5.56        9.0      1\n",
       "..    ...             ...              ...    ...        ...    ...\n",
       "895  42.0        12800.82                1   3.62        8.0      0\n",
       "896  52.0         9893.92                0   6.91        7.0      0\n",
       "897  45.0        12056.18                0   5.46        4.0      0\n",
       "898  51.0         6517.93                1   5.47       10.0      0\n",
       "899  39.0         9315.60                1   5.02       10.0      0\n",
       "\n",
       "[900 rows x 6 columns]"
      ]
     },
     "execution_count": 224,
     "metadata": {},
     "output_type": "execute_result"
    }
   ],
   "source": [
    "nf = df.copy()\n",
    "nf"
   ]
  },
  {
   "cell_type": "code",
   "execution_count": 227,
   "metadata": {},
   "outputs": [],
   "source": [
    "nf['Account_Manager'] =nf['Account_Manager'].apply(lambda x: 1 if pd.notnull(x) else 0)\n",
    "\n",
    "# 독립 변수와 종속 변수 선택\n",
    "x = nf.drop(['Churn', 'Total_Purchase'], axis = 1)\n",
    "y = nf['Churn']\n"
   ]
  },
  {
   "cell_type": "code",
   "execution_count": 228,
   "metadata": {},
   "outputs": [],
   "source": [
    "x_train, x_test, y_train, y_test = train_test_split(x, y, test_size = 0.2, stratify = y,\n",
    "                                                    random_state = 11)"
   ]
  },
  {
   "cell_type": "code",
   "execution_count": 229,
   "metadata": {},
   "outputs": [],
   "source": [
    "rf = RandomForestClassifier(n_jobs = -1, random_state = 11)"
   ]
  },
  {
   "cell_type": "code",
   "execution_count": 230,
   "metadata": {},
   "outputs": [],
   "source": [
    "# return_train_score : 교차 검증 시 훈련 세트에 대한 점수도 함께 변환\n",
    "scores = cross_validate(rf, x_train, y_train, return_train_score = True, n_jobs = -1)"
   ]
  },
  {
   "cell_type": "code",
   "execution_count": 231,
   "metadata": {},
   "outputs": [
    {
     "name": "stdout",
     "output_type": "stream",
     "text": [
      "1.0 0.8833333333333334\n"
     ]
    }
   ],
   "source": [
    "print(np.mean(scores[\"train_score\"]), np.mean(scores[\"test_score\"]))"
   ]
  },
  {
   "cell_type": "code",
   "execution_count": 232,
   "metadata": {},
   "outputs": [
    {
     "data": {
      "text/html": [
       "<style>#sk-container-id-3 {color: black;background-color: white;}#sk-container-id-3 pre{padding: 0;}#sk-container-id-3 div.sk-toggleable {background-color: white;}#sk-container-id-3 label.sk-toggleable__label {cursor: pointer;display: block;width: 100%;margin-bottom: 0;padding: 0.3em;box-sizing: border-box;text-align: center;}#sk-container-id-3 label.sk-toggleable__label-arrow:before {content: \"▸\";float: left;margin-right: 0.25em;color: #696969;}#sk-container-id-3 label.sk-toggleable__label-arrow:hover:before {color: black;}#sk-container-id-3 div.sk-estimator:hover label.sk-toggleable__label-arrow:before {color: black;}#sk-container-id-3 div.sk-toggleable__content {max-height: 0;max-width: 0;overflow: hidden;text-align: left;background-color: #f0f8ff;}#sk-container-id-3 div.sk-toggleable__content pre {margin: 0.2em;color: black;border-radius: 0.25em;background-color: #f0f8ff;}#sk-container-id-3 input.sk-toggleable__control:checked~div.sk-toggleable__content {max-height: 200px;max-width: 100%;overflow: auto;}#sk-container-id-3 input.sk-toggleable__control:checked~label.sk-toggleable__label-arrow:before {content: \"▾\";}#sk-container-id-3 div.sk-estimator input.sk-toggleable__control:checked~label.sk-toggleable__label {background-color: #d4ebff;}#sk-container-id-3 div.sk-label input.sk-toggleable__control:checked~label.sk-toggleable__label {background-color: #d4ebff;}#sk-container-id-3 input.sk-hidden--visually {border: 0;clip: rect(1px 1px 1px 1px);clip: rect(1px, 1px, 1px, 1px);height: 1px;margin: -1px;overflow: hidden;padding: 0;position: absolute;width: 1px;}#sk-container-id-3 div.sk-estimator {font-family: monospace;background-color: #f0f8ff;border: 1px dotted black;border-radius: 0.25em;box-sizing: border-box;margin-bottom: 0.5em;}#sk-container-id-3 div.sk-estimator:hover {background-color: #d4ebff;}#sk-container-id-3 div.sk-parallel-item::after {content: \"\";width: 100%;border-bottom: 1px solid gray;flex-grow: 1;}#sk-container-id-3 div.sk-label:hover label.sk-toggleable__label {background-color: #d4ebff;}#sk-container-id-3 div.sk-serial::before {content: \"\";position: absolute;border-left: 1px solid gray;box-sizing: border-box;top: 0;bottom: 0;left: 50%;z-index: 0;}#sk-container-id-3 div.sk-serial {display: flex;flex-direction: column;align-items: center;background-color: white;padding-right: 0.2em;padding-left: 0.2em;position: relative;}#sk-container-id-3 div.sk-item {position: relative;z-index: 1;}#sk-container-id-3 div.sk-parallel {display: flex;align-items: stretch;justify-content: center;background-color: white;position: relative;}#sk-container-id-3 div.sk-item::before, #sk-container-id-3 div.sk-parallel-item::before {content: \"\";position: absolute;border-left: 1px solid gray;box-sizing: border-box;top: 0;bottom: 0;left: 50%;z-index: -1;}#sk-container-id-3 div.sk-parallel-item {display: flex;flex-direction: column;z-index: 1;position: relative;background-color: white;}#sk-container-id-3 div.sk-parallel-item:first-child::after {align-self: flex-end;width: 50%;}#sk-container-id-3 div.sk-parallel-item:last-child::after {align-self: flex-start;width: 50%;}#sk-container-id-3 div.sk-parallel-item:only-child::after {width: 0;}#sk-container-id-3 div.sk-dashed-wrapped {border: 1px dashed gray;margin: 0 0.4em 0.5em 0.4em;box-sizing: border-box;padding-bottom: 0.4em;background-color: white;}#sk-container-id-3 div.sk-label label {font-family: monospace;font-weight: bold;display: inline-block;line-height: 1.2em;}#sk-container-id-3 div.sk-label-container {text-align: center;}#sk-container-id-3 div.sk-container {/* jupyter's `normalize.less` sets `[hidden] { display: none; }` but bootstrap.min.css set `[hidden] { display: none !important; }` so we also need the `!important` here to be able to override the default hidden behavior on the sphinx rendered scikit-learn.org. See: https://github.com/scikit-learn/scikit-learn/issues/21755 */display: inline-block !important;position: relative;}#sk-container-id-3 div.sk-text-repr-fallback {display: none;}</style><div id=\"sk-container-id-3\" class=\"sk-top-container\"><div class=\"sk-text-repr-fallback\"><pre>RandomForestClassifier(n_jobs=-1, random_state=11)</pre><b>In a Jupyter environment, please rerun this cell to show the HTML representation or trust the notebook. <br />On GitHub, the HTML representation is unable to render, please try loading this page with nbviewer.org.</b></div><div class=\"sk-container\" hidden><div class=\"sk-item\"><div class=\"sk-estimator sk-toggleable\"><input class=\"sk-toggleable__control sk-hidden--visually\" id=\"sk-estimator-id-3\" type=\"checkbox\" checked><label for=\"sk-estimator-id-3\" class=\"sk-toggleable__label sk-toggleable__label-arrow\">RandomForestClassifier</label><div class=\"sk-toggleable__content\"><pre>RandomForestClassifier(n_jobs=-1, random_state=11)</pre></div></div></div></div></div>"
      ],
      "text/plain": [
       "RandomForestClassifier(n_jobs=-1, random_state=11)"
      ]
     },
     "execution_count": 232,
     "metadata": {},
     "output_type": "execute_result"
    }
   ],
   "source": [
    "rf.fit(x_train, y_train)"
   ]
  },
  {
   "cell_type": "code",
   "execution_count": 233,
   "metadata": {},
   "outputs": [
    {
     "data": {
      "text/plain": [
       "array([0.20048839, 0.        , 0.41876573, 0.38074588])"
      ]
     },
     "execution_count": 233,
     "metadata": {},
     "output_type": "execute_result"
    }
   ],
   "source": [
    "rf.feature_importances_"
   ]
  },
  {
   "cell_type": "code",
   "execution_count": 234,
   "metadata": {},
   "outputs": [
    {
     "data": {
      "text/html": [
       "<style>#sk-container-id-4 {color: black;background-color: white;}#sk-container-id-4 pre{padding: 0;}#sk-container-id-4 div.sk-toggleable {background-color: white;}#sk-container-id-4 label.sk-toggleable__label {cursor: pointer;display: block;width: 100%;margin-bottom: 0;padding: 0.3em;box-sizing: border-box;text-align: center;}#sk-container-id-4 label.sk-toggleable__label-arrow:before {content: \"▸\";float: left;margin-right: 0.25em;color: #696969;}#sk-container-id-4 label.sk-toggleable__label-arrow:hover:before {color: black;}#sk-container-id-4 div.sk-estimator:hover label.sk-toggleable__label-arrow:before {color: black;}#sk-container-id-4 div.sk-toggleable__content {max-height: 0;max-width: 0;overflow: hidden;text-align: left;background-color: #f0f8ff;}#sk-container-id-4 div.sk-toggleable__content pre {margin: 0.2em;color: black;border-radius: 0.25em;background-color: #f0f8ff;}#sk-container-id-4 input.sk-toggleable__control:checked~div.sk-toggleable__content {max-height: 200px;max-width: 100%;overflow: auto;}#sk-container-id-4 input.sk-toggleable__control:checked~label.sk-toggleable__label-arrow:before {content: \"▾\";}#sk-container-id-4 div.sk-estimator input.sk-toggleable__control:checked~label.sk-toggleable__label {background-color: #d4ebff;}#sk-container-id-4 div.sk-label input.sk-toggleable__control:checked~label.sk-toggleable__label {background-color: #d4ebff;}#sk-container-id-4 input.sk-hidden--visually {border: 0;clip: rect(1px 1px 1px 1px);clip: rect(1px, 1px, 1px, 1px);height: 1px;margin: -1px;overflow: hidden;padding: 0;position: absolute;width: 1px;}#sk-container-id-4 div.sk-estimator {font-family: monospace;background-color: #f0f8ff;border: 1px dotted black;border-radius: 0.25em;box-sizing: border-box;margin-bottom: 0.5em;}#sk-container-id-4 div.sk-estimator:hover {background-color: #d4ebff;}#sk-container-id-4 div.sk-parallel-item::after {content: \"\";width: 100%;border-bottom: 1px solid gray;flex-grow: 1;}#sk-container-id-4 div.sk-label:hover label.sk-toggleable__label {background-color: #d4ebff;}#sk-container-id-4 div.sk-serial::before {content: \"\";position: absolute;border-left: 1px solid gray;box-sizing: border-box;top: 0;bottom: 0;left: 50%;z-index: 0;}#sk-container-id-4 div.sk-serial {display: flex;flex-direction: column;align-items: center;background-color: white;padding-right: 0.2em;padding-left: 0.2em;position: relative;}#sk-container-id-4 div.sk-item {position: relative;z-index: 1;}#sk-container-id-4 div.sk-parallel {display: flex;align-items: stretch;justify-content: center;background-color: white;position: relative;}#sk-container-id-4 div.sk-item::before, #sk-container-id-4 div.sk-parallel-item::before {content: \"\";position: absolute;border-left: 1px solid gray;box-sizing: border-box;top: 0;bottom: 0;left: 50%;z-index: -1;}#sk-container-id-4 div.sk-parallel-item {display: flex;flex-direction: column;z-index: 1;position: relative;background-color: white;}#sk-container-id-4 div.sk-parallel-item:first-child::after {align-self: flex-end;width: 50%;}#sk-container-id-4 div.sk-parallel-item:last-child::after {align-self: flex-start;width: 50%;}#sk-container-id-4 div.sk-parallel-item:only-child::after {width: 0;}#sk-container-id-4 div.sk-dashed-wrapped {border: 1px dashed gray;margin: 0 0.4em 0.5em 0.4em;box-sizing: border-box;padding-bottom: 0.4em;background-color: white;}#sk-container-id-4 div.sk-label label {font-family: monospace;font-weight: bold;display: inline-block;line-height: 1.2em;}#sk-container-id-4 div.sk-label-container {text-align: center;}#sk-container-id-4 div.sk-container {/* jupyter's `normalize.less` sets `[hidden] { display: none; }` but bootstrap.min.css set `[hidden] { display: none !important; }` so we also need the `!important` here to be able to override the default hidden behavior on the sphinx rendered scikit-learn.org. See: https://github.com/scikit-learn/scikit-learn/issues/21755 */display: inline-block !important;position: relative;}#sk-container-id-4 div.sk-text-repr-fallback {display: none;}</style><div id=\"sk-container-id-4\" class=\"sk-top-container\"><div class=\"sk-text-repr-fallback\"><pre>RandomForestClassifier(n_jobs=-1, oob_score=True, random_state=11)</pre><b>In a Jupyter environment, please rerun this cell to show the HTML representation or trust the notebook. <br />On GitHub, the HTML representation is unable to render, please try loading this page with nbviewer.org.</b></div><div class=\"sk-container\" hidden><div class=\"sk-item\"><div class=\"sk-estimator sk-toggleable\"><input class=\"sk-toggleable__control sk-hidden--visually\" id=\"sk-estimator-id-4\" type=\"checkbox\" checked><label for=\"sk-estimator-id-4\" class=\"sk-toggleable__label sk-toggleable__label-arrow\">RandomForestClassifier</label><div class=\"sk-toggleable__content\"><pre>RandomForestClassifier(n_jobs=-1, oob_score=True, random_state=11)</pre></div></div></div></div></div>"
      ],
      "text/plain": [
       "RandomForestClassifier(n_jobs=-1, oob_score=True, random_state=11)"
      ]
     },
     "execution_count": 234,
     "metadata": {},
     "output_type": "execute_result"
    }
   ],
   "source": [
    "rf = RandomForestClassifier(oob_score = True, n_jobs = -1, random_state = 11)\n",
    "rf.fit(x_train, y_train)"
   ]
  },
  {
   "cell_type": "code",
   "execution_count": 235,
   "metadata": {},
   "outputs": [
    {
     "data": {
      "text/plain": [
       "0.8708333333333333"
      ]
     },
     "execution_count": 235,
     "metadata": {},
     "output_type": "execute_result"
    }
   ],
   "source": [
    "rf.oob_score_"
   ]
  },
  {
   "cell_type": "code",
   "execution_count": 236,
   "metadata": {},
   "outputs": [
    {
     "data": {
      "text/plain": [
       "0.8833333333333333"
      ]
     },
     "execution_count": 236,
     "metadata": {},
     "output_type": "execute_result"
    }
   ],
   "source": [
    "rf.score(x_test, y_test)"
   ]
  },
  {
   "cell_type": "code",
   "execution_count": 237,
   "metadata": {},
   "outputs": [],
   "source": [
    "y_pred = rf.predict(x)"
   ]
  },
  {
   "cell_type": "code",
   "execution_count": 238,
   "metadata": {},
   "outputs": [
    {
     "data": {
      "text/plain": [
       "array([1, 1, 1, 1, 1, 1, 1, 1, 1, 1, 1, 1, 1, 1, 1, 1, 1, 1, 1, 1, 1, 1,\n",
       "       1, 1, 1, 1, 0, 1, 1, 1, 1, 1, 1, 1, 1, 1, 1, 1, 1, 1, 1, 1, 1, 1,\n",
       "       1, 1, 1, 1, 0, 1, 1, 1, 1, 1, 1, 1, 1, 0, 1, 1, 1, 1, 1, 1, 1, 1,\n",
       "       1, 1, 1, 1, 0, 1, 1, 1, 1, 1, 1, 1, 1, 1, 0, 1, 1, 1, 1, 1, 1, 1,\n",
       "       1, 0, 1, 1, 1, 1, 1, 1, 0, 1, 1, 1, 1, 1, 1, 1, 1, 1, 1, 1, 0, 1,\n",
       "       1, 1, 1, 1, 0, 1, 1, 1, 1, 1, 1, 1, 1, 1, 1, 1, 1, 1, 1, 1, 1, 0,\n",
       "       1, 1, 1, 1, 1, 1, 1, 1, 1, 1, 1, 1, 1, 1, 1, 1, 1, 1, 0, 0, 0, 0,\n",
       "       0, 0, 0, 0, 0, 0, 0, 0, 0, 0, 0, 0, 0, 0, 0, 0, 0, 0, 0, 0, 0, 0,\n",
       "       0, 0, 0, 0, 0, 0, 0, 0, 0, 0, 0, 0, 0, 0, 0, 0, 0, 0, 0, 0, 0, 0,\n",
       "       0, 0, 0, 0, 0, 0, 0, 0, 0, 0, 0, 0, 0, 0, 0, 0, 0, 0, 0, 0, 0, 0,\n",
       "       0, 0, 0, 0, 0, 0, 0, 0, 0, 1, 0, 0, 0, 0, 1, 0, 0, 0, 0, 0, 0, 0,\n",
       "       0, 0, 0, 0, 0, 0, 0, 0, 0, 0, 0, 0, 0, 0, 0, 0, 0, 0, 0, 0, 0, 0,\n",
       "       0, 0, 0, 0, 0, 0, 0, 0, 0, 0, 0, 0, 0, 0, 0, 0, 0, 0, 0, 0, 0, 0,\n",
       "       0, 0, 0, 0, 1, 0, 0, 0, 0, 0, 0, 0, 0, 0, 0, 0, 0, 0, 0, 0, 0, 0,\n",
       "       0, 0, 0, 0, 0, 0, 0, 0, 0, 0, 0, 0, 0, 0, 0, 0, 0, 0, 0, 0, 0, 0,\n",
       "       0, 0, 0, 0, 0, 0, 0, 0, 0, 0, 0, 0, 0, 0, 0, 0, 0, 0, 0, 0, 0, 0,\n",
       "       0, 0, 0, 0, 0, 0, 0, 0, 0, 0, 0, 0, 0, 0, 0, 0, 0, 0, 0, 0, 0, 0,\n",
       "       0, 0, 0, 1, 0, 0, 0, 0, 0, 0, 0, 0, 0, 0, 0, 0, 0, 0, 0, 0, 0, 1,\n",
       "       0, 0, 0, 0, 0, 0, 0, 0, 0, 0, 0, 0, 0, 0, 0, 0, 0, 0, 0, 0, 0, 0,\n",
       "       0, 0, 0, 0, 0, 0, 0, 0, 0, 0, 0, 0, 0, 0, 0, 0, 0, 0, 0, 0, 0, 0,\n",
       "       0, 0, 0, 0, 0, 0, 0, 0, 0, 0, 0, 0, 0, 0, 0, 0, 0, 0, 0, 0, 0, 0,\n",
       "       0, 0, 0, 0, 0, 0, 0, 0, 0, 0, 0, 0, 0, 0, 0, 0, 0, 0, 0, 0, 0, 0,\n",
       "       0, 0, 0, 0, 0, 0, 0, 0, 0, 0, 0, 0, 0, 0, 0, 0, 0, 0, 0, 0, 0, 0,\n",
       "       0, 0, 0, 0, 0, 0, 0, 0, 0, 0, 0, 0, 0, 0, 0, 0, 0, 0, 0, 0, 0, 0,\n",
       "       0, 0, 0, 0, 0, 0, 0, 0, 0, 0, 0, 0, 0, 0, 0, 0, 0, 0, 0, 0, 0, 0,\n",
       "       0, 0, 0, 0, 0, 0, 0, 0, 0, 0, 0, 0, 0, 0, 0, 0, 0, 0, 0, 0, 0, 0,\n",
       "       0, 0, 0, 0, 0, 0, 1, 0, 0, 0, 0, 0, 0, 0, 0, 0, 0, 0, 0, 0, 0, 0,\n",
       "       0, 0, 1, 0, 0, 0, 0, 0, 0, 0, 0, 0, 0, 0, 0, 0, 0, 0, 0, 0, 0, 0,\n",
       "       0, 0, 0, 0, 0, 0, 0, 0, 0, 0, 0, 0, 0, 0, 0, 0, 0, 0, 0, 0, 0, 0,\n",
       "       0, 0, 0, 0, 0, 0, 0, 0, 0, 0, 0, 0, 0, 0, 0, 0, 0, 0, 0, 0, 0, 0,\n",
       "       0, 0, 0, 0, 0, 0, 0, 0, 0, 0, 0, 0, 0, 0, 0, 0, 0, 0, 0, 0, 0, 0,\n",
       "       0, 0, 0, 0, 0, 0, 0, 0, 0, 0, 0, 0, 0, 0, 1, 0, 0, 0, 0, 0, 0, 0,\n",
       "       0, 0, 0, 0, 0, 0, 0, 0, 0, 0, 0, 0, 0, 0, 0, 0, 0, 0, 0, 0, 0, 0,\n",
       "       0, 0, 0, 0, 0, 0, 0, 0, 0, 0, 0, 0, 0, 0, 0, 0, 0, 0, 0, 0, 0, 0,\n",
       "       0, 0, 0, 0, 0, 0, 0, 0, 0, 0, 0, 0, 0, 0, 0, 0, 0, 0, 0, 0, 0, 0,\n",
       "       0, 0, 0, 0, 0, 0, 0, 0, 0, 0, 0, 0, 0, 0, 0, 0, 0, 0, 0, 0, 0, 0,\n",
       "       0, 0, 0, 0, 0, 0, 0, 0, 0, 0, 0, 0, 0, 0, 0, 0, 0, 0, 0, 1, 0, 0,\n",
       "       0, 0, 0, 0, 0, 0, 0, 0, 0, 1, 0, 0, 0, 0, 0, 0, 0, 0, 0, 0, 0, 0,\n",
       "       0, 0, 0, 0, 0, 1, 0, 0, 0, 0, 0, 0, 0, 0, 0, 0, 0, 0, 0, 0, 0, 0,\n",
       "       0, 0, 0, 0, 0, 0, 0, 0, 0, 0, 0, 0, 0, 0, 0, 0, 0, 0, 0, 0, 0, 0,\n",
       "       0, 0, 0, 0, 0, 0, 0, 0, 0, 0, 0, 0, 0, 0, 0, 0, 0, 0, 0, 0],\n",
       "      dtype=int64)"
      ]
     },
     "execution_count": 238,
     "metadata": {},
     "output_type": "execute_result"
    }
   ],
   "source": [
    "y_pred"
   ]
  },
  {
   "cell_type": "code",
   "execution_count": 244,
   "metadata": {},
   "outputs": [
    {
     "data": {
      "text/plain": [
       "array([0.56, 0.93, 0.94, 0.65, 0.6 , 0.69, 0.85, 0.69, 0.87, 0.93, 0.65,\n",
       "       0.71, 0.79, 0.99, 0.6 , 0.96, 0.77, 0.92, 0.65, 0.72, 0.83, 0.84,\n",
       "       0.85, 0.98, 0.85, 0.74, 0.14, 0.96, 0.83, 0.7 , 0.66, 0.75, 0.82,\n",
       "       0.97, 0.69, 0.79, 0.83, 0.89, 0.92, 0.93, 1.  , 0.72, 0.84, 0.98,\n",
       "       0.8 , 0.55, 0.74, 0.94, 0.01, 0.51, 0.73, 0.95, 0.65, 0.64, 0.86,\n",
       "       0.57, 0.78, 0.  , 0.84, 0.96, 0.85, 0.75, 0.85, 0.9 , 0.65, 0.76,\n",
       "       0.97, 0.83, 0.7 , 0.71, 0.06, 0.8 , 0.88, 0.73, 0.84, 0.95, 0.54,\n",
       "       0.88, 0.51, 0.94, 0.06, 0.96, 0.83, 0.53, 0.73, 0.7 , 0.99, 0.6 ,\n",
       "       0.99, 0.35, 0.66, 0.95, 0.95, 0.8 , 0.77, 0.91, 0.  , 0.8 , 0.76,\n",
       "       0.78, 0.7 , 0.92, 0.97, 0.78, 0.9 , 1.  , 0.66, 0.76, 0.17, 0.8 ,\n",
       "       0.95, 0.63, 0.9 , 0.97, 0.23, 0.66, 0.69, 0.99, 0.83, 0.67, 0.96,\n",
       "       0.71, 0.78, 0.99, 0.84, 0.59, 0.66, 0.54, 0.97, 0.9 , 0.97, 0.1 ,\n",
       "       0.97, 0.69, 0.79, 0.84, 0.98, 0.8 , 0.81, 0.93, 0.93, 0.67, 0.86,\n",
       "       0.91, 0.84, 0.97, 0.69, 0.98, 0.9 , 0.75, 0.  , 0.01, 0.  , 0.  ,\n",
       "       0.  , 0.09, 0.01, 0.  , 0.  , 0.01, 0.  , 0.01, 0.02, 0.02, 0.02,\n",
       "       0.07, 0.01, 0.  , 0.03, 0.41, 0.02, 0.  , 0.  , 0.  , 0.  , 0.05,\n",
       "       0.02, 0.  , 0.02, 0.03, 0.15, 0.  , 0.5 , 0.01, 0.  , 0.02, 0.27,\n",
       "       0.  , 0.01, 0.26, 0.13, 0.14, 0.05, 0.01, 0.  , 0.  , 0.  , 0.  ,\n",
       "       0.04, 0.  , 0.03, 0.  , 0.06, 0.  , 0.01, 0.01, 0.03, 0.09, 0.03,\n",
       "       0.  , 0.  , 0.08, 0.01, 0.19, 0.11, 0.08, 0.  , 0.09, 0.  , 0.  ,\n",
       "       0.22, 0.  , 0.  , 0.  , 0.  , 0.02, 0.03, 0.  , 0.23, 0.91, 0.16,\n",
       "       0.38, 0.  , 0.  , 0.54, 0.  , 0.02, 0.  , 0.13, 0.2 , 0.07, 0.08,\n",
       "       0.14, 0.  , 0.01, 0.  , 0.01, 0.07, 0.01, 0.  , 0.01, 0.  , 0.03,\n",
       "       0.  , 0.16, 0.  , 0.14, 0.04, 0.02, 0.21, 0.01, 0.  , 0.  , 0.07,\n",
       "       0.  , 0.  , 0.12, 0.01, 0.  , 0.  , 0.  , 0.  , 0.  , 0.  , 0.  ,\n",
       "       0.12, 0.  , 0.  , 0.03, 0.12, 0.  , 0.  , 0.  , 0.  , 0.05, 0.23,\n",
       "       0.  , 0.  , 0.  , 0.  , 0.77, 0.  , 0.03, 0.  , 0.  , 0.  , 0.02,\n",
       "       0.08, 0.05, 0.03, 0.06, 0.  , 0.1 , 0.  , 0.02, 0.01, 0.46, 0.  ,\n",
       "       0.02, 0.01, 0.12, 0.  , 0.01, 0.  , 0.  , 0.  , 0.  , 0.  , 0.  ,\n",
       "       0.  , 0.02, 0.  , 0.01, 0.  , 0.  , 0.  , 0.  , 0.  , 0.  , 0.08,\n",
       "       0.07, 0.22, 0.  , 0.  , 0.05, 0.25, 0.  , 0.  , 0.02, 0.02, 0.  ,\n",
       "       0.13, 0.01, 0.  , 0.  , 0.05, 0.07, 0.32, 0.  , 0.17, 0.03, 0.01,\n",
       "       0.  , 0.14, 0.  , 0.  , 0.11, 0.  , 0.  , 0.  , 0.  , 0.  , 0.04,\n",
       "       0.02, 0.  , 0.  , 0.02, 0.02, 0.  , 0.  , 0.  , 0.01, 0.03, 0.  ,\n",
       "       0.07, 0.47, 0.  , 0.55, 0.01, 0.  , 0.  , 0.04, 0.  , 0.  , 0.01,\n",
       "       0.11, 0.1 , 0.07, 0.01, 0.15, 0.03, 0.  , 0.  , 0.  , 0.  , 0.55,\n",
       "       0.03, 0.01, 0.  , 0.29, 0.  , 0.02, 0.04, 0.  , 0.  , 0.  , 0.  ,\n",
       "       0.04, 0.  , 0.04, 0.03, 0.01, 0.04, 0.  , 0.24, 0.08, 0.  , 0.03,\n",
       "       0.  , 0.  , 0.01, 0.  , 0.  , 0.11, 0.01, 0.09, 0.  , 0.01, 0.07,\n",
       "       0.  , 0.  , 0.08, 0.  , 0.  , 0.07, 0.  , 0.  , 0.  , 0.  , 0.  ,\n",
       "       0.07, 0.  , 0.  , 0.  , 0.01, 0.03, 0.01, 0.07, 0.  , 0.  , 0.01,\n",
       "       0.  , 0.29, 0.  , 0.06, 0.  , 0.  , 0.  , 0.  , 0.09, 0.  , 0.  ,\n",
       "       0.09, 0.17, 0.02, 0.19, 0.  , 0.  , 0.02, 0.  , 0.13, 0.02, 0.01,\n",
       "       0.  , 0.03, 0.1 , 0.13, 0.  , 0.41, 0.  , 0.  , 0.  , 0.03, 0.28,\n",
       "       0.  , 0.  , 0.05, 0.  , 0.47, 0.04, 0.  , 0.05, 0.01, 0.  , 0.  ,\n",
       "       0.09, 0.  , 0.  , 0.  , 0.02, 0.03, 0.  , 0.03, 0.02, 0.07, 0.  ,\n",
       "       0.12, 0.  , 0.  , 0.01, 0.  , 0.  , 0.02, 0.  , 0.05, 0.01, 0.03,\n",
       "       0.  , 0.  , 0.  , 0.1 , 0.01, 0.09, 0.04, 0.04, 0.  , 0.  , 0.  ,\n",
       "       0.01, 0.01, 0.01, 0.04, 0.01, 0.  , 0.  , 0.05, 0.12, 0.  , 0.  ,\n",
       "       0.01, 0.  , 0.  , 0.05, 0.05, 0.05, 0.  , 0.  , 0.  , 0.  , 0.  ,\n",
       "       0.  , 0.  , 0.  , 0.  , 0.  , 0.23, 0.01, 0.  , 0.01, 0.  , 0.02,\n",
       "       0.  , 0.07, 0.09, 0.  , 0.  , 0.03, 0.  , 0.01, 0.  , 0.  , 0.04,\n",
       "       0.  , 0.03, 0.  , 0.33, 0.06, 0.21, 0.96, 0.02, 0.04, 0.  , 0.01,\n",
       "       0.13, 0.01, 0.  , 0.01, 0.  , 0.05, 0.01, 0.07, 0.01, 0.  , 0.17,\n",
       "       0.  , 0.  , 0.56, 0.  , 0.08, 0.01, 0.08, 0.04, 0.14, 0.03, 0.  ,\n",
       "       0.  , 0.  , 0.  , 0.14, 0.08, 0.  , 0.  , 0.  , 0.  , 0.03, 0.1 ,\n",
       "       0.01, 0.  , 0.01, 0.  , 0.  , 0.03, 0.  , 0.01, 0.06, 0.  , 0.  ,\n",
       "       0.  , 0.  , 0.  , 0.  , 0.01, 0.01, 0.  , 0.01, 0.  , 0.02, 0.  ,\n",
       "       0.  , 0.  , 0.01, 0.05, 0.09, 0.  , 0.18, 0.  , 0.01, 0.21, 0.44,\n",
       "       0.  , 0.  , 0.  , 0.01, 0.05, 0.  , 0.  , 0.03, 0.07, 0.  , 0.  ,\n",
       "       0.1 , 0.02, 0.05, 0.01, 0.02, 0.22, 0.  , 0.  , 0.45, 0.01, 0.09,\n",
       "       0.  , 0.  , 0.  , 0.  , 0.21, 0.01, 0.02, 0.02, 0.  , 0.07, 0.  ,\n",
       "       0.  , 0.  , 0.01, 0.  , 0.  , 0.16, 0.  , 0.01, 0.02, 0.01, 0.08,\n",
       "       0.02, 0.01, 0.01, 0.73, 0.12, 0.01, 0.01, 0.01, 0.35, 0.02, 0.02,\n",
       "       0.04, 0.35, 0.01, 0.05, 0.01, 0.  , 0.  , 0.  , 0.09, 0.  , 0.  ,\n",
       "       0.  , 0.  , 0.07, 0.01, 0.  , 0.07, 0.  , 0.  , 0.  , 0.02, 0.  ,\n",
       "       0.  , 0.02, 0.05, 0.05, 0.1 , 0.06, 0.01, 0.01, 0.17, 0.01, 0.01,\n",
       "       0.33, 0.  , 0.  , 0.  , 0.01, 0.34, 0.02, 0.  , 0.  , 0.  , 0.02,\n",
       "       0.05, 0.11, 0.  , 0.1 , 0.  , 0.02, 0.  , 0.  , 0.  , 0.02, 0.  ,\n",
       "       0.  , 0.3 , 0.01, 0.01, 0.  , 0.03, 0.02, 0.  , 0.11, 0.  , 0.19,\n",
       "       0.01, 0.21, 0.  , 0.01, 0.1 , 0.01, 0.  , 0.  , 0.  , 0.02, 0.17,\n",
       "       0.01, 0.  , 0.  , 0.27, 0.33, 0.  , 0.1 , 0.07, 0.01, 0.  , 0.01,\n",
       "       0.  , 0.  , 0.  , 0.  , 0.  , 0.11, 0.  , 0.03, 0.12, 0.01, 0.03,\n",
       "       0.01, 0.  , 0.  , 0.02, 0.05, 0.03, 0.31, 0.  , 0.85, 0.01, 0.  ,\n",
       "       0.01, 0.01, 0.04, 0.  , 0.  , 0.  , 0.  , 0.  , 0.  , 0.77, 0.  ,\n",
       "       0.01, 0.  , 0.14, 0.03, 0.  , 0.16, 0.03, 0.  , 0.  , 0.02, 0.07,\n",
       "       0.04, 0.5 , 0.  , 0.02, 0.  , 0.79, 0.  , 0.06, 0.23, 0.  , 0.22,\n",
       "       0.06, 0.  , 0.  , 0.02, 0.15, 0.01, 0.18, 0.01, 0.28, 0.09, 0.  ,\n",
       "       0.  , 0.21, 0.37, 0.  , 0.  , 0.15, 0.06, 0.  , 0.01, 0.13, 0.01,\n",
       "       0.  , 0.  , 0.01, 0.01, 0.07, 0.09, 0.02, 0.  , 0.  , 0.  , 0.  ,\n",
       "       0.01, 0.  , 0.03, 0.  , 0.  , 0.  , 0.01, 0.23, 0.  , 0.  , 0.05,\n",
       "       0.  , 0.  , 0.  , 0.02, 0.  , 0.03, 0.  , 0.25, 0.01])"
      ]
     },
     "execution_count": 244,
     "metadata": {},
     "output_type": "execute_result"
    }
   ],
   "source": [
    "score = rf.predict_proba(x)[:, 1]\n",
    "score"
   ]
  },
  {
   "cell_type": "code",
   "execution_count": 245,
   "metadata": {},
   "outputs": [],
   "source": [
    "fpr, tpr, cut = roc_curve(y, score)"
   ]
  },
  {
   "cell_type": "code",
   "execution_count": 252,
   "metadata": {},
   "outputs": [],
   "source": [
    "scores = cross_validate(rf, x_train, y_train, scoring = \"roc_auc\", n_jobs = -1)"
   ]
  },
  {
   "cell_type": "code",
   "execution_count": 253,
   "metadata": {},
   "outputs": [
    {
     "data": {
      "text/plain": [
       "0.8561805555555557"
      ]
     },
     "execution_count": 253,
     "metadata": {},
     "output_type": "execute_result"
    }
   ],
   "source": [
    "np.mean(scores[\"test_score\"])"
   ]
  },
  {
   "cell_type": "code",
   "execution_count": 264,
   "metadata": {},
   "outputs": [],
   "source": [
    "a = np.mean(scores[\"test_score\"])"
   ]
  },
  {
   "cell_type": "code",
   "execution_count": 265,
   "metadata": {},
   "outputs": [
    {
     "data": {
      "text/html": [
       "<div>\n",
       "<style scoped>\n",
       "    .dataframe tbody tr th:only-of-type {\n",
       "        vertical-align: middle;\n",
       "    }\n",
       "\n",
       "    .dataframe tbody tr th {\n",
       "        vertical-align: top;\n",
       "    }\n",
       "\n",
       "    .dataframe thead th {\n",
       "        text-align: right;\n",
       "    }\n",
       "</style>\n",
       "<table border=\"1\" class=\"dataframe\">\n",
       "  <thead>\n",
       "    <tr style=\"text-align: right;\">\n",
       "      <th></th>\n",
       "      <th>Total_Purchase</th>\n",
       "      <th>Account_Manager</th>\n",
       "      <th>Years</th>\n",
       "      <th>Num_Sites</th>\n",
       "    </tr>\n",
       "  </thead>\n",
       "  <tbody>\n",
       "    <tr>\n",
       "      <th>Andrew Mccall</th>\n",
       "      <td>1</td>\n",
       "      <td>7.71</td>\n",
       "      <td>8.0</td>\n",
       "      <td>2011-08-29 18:37:54</td>\n",
       "    </tr>\n",
       "    <tr>\n",
       "      <th>Michele Wright</th>\n",
       "      <td>1</td>\n",
       "      <td>9.28</td>\n",
       "      <td>15.0</td>\n",
       "      <td>2013-07-22 18:19:54</td>\n",
       "    </tr>\n",
       "    <tr>\n",
       "      <th>Jeremy Chang</th>\n",
       "      <td>1</td>\n",
       "      <td>1.00</td>\n",
       "      <td>15.0</td>\n",
       "      <td>2006-12-11 07:48:13</td>\n",
       "    </tr>\n",
       "    <tr>\n",
       "      <th>Megan Ferguson</th>\n",
       "      <td>0</td>\n",
       "      <td>9.40</td>\n",
       "      <td>14.0</td>\n",
       "      <td>2016-10-28 05:32:13</td>\n",
       "    </tr>\n",
       "    <tr>\n",
       "      <th>Taylor Young</th>\n",
       "      <td>1</td>\n",
       "      <td>10.00</td>\n",
       "      <td>8.0</td>\n",
       "      <td>2012-03-20 00:36:46</td>\n",
       "    </tr>\n",
       "  </tbody>\n",
       "</table>\n",
       "</div>"
      ],
      "text/plain": [
       "                Total_Purchase  Account_Manager  Years            Num_Sites\n",
       "Andrew Mccall                1             7.71    8.0  2011-08-29 18:37:54\n",
       "Michele Wright               1             9.28   15.0  2013-07-22 18:19:54\n",
       "Jeremy Chang                 1             1.00   15.0  2006-12-11 07:48:13\n",
       "Megan Ferguson               0             9.40   14.0  2016-10-28 05:32:13\n",
       "Taylor Young                 1            10.00    8.0  2012-03-20 00:36:46"
      ]
     },
     "execution_count": 265,
     "metadata": {},
     "output_type": "execute_result"
    }
   ],
   "source": [
    "new_df.head()"
   ]
  },
  {
   "cell_type": "code",
   "execution_count": 268,
   "metadata": {},
   "outputs": [
    {
     "data": {
      "text/html": [
       "<div>\n",
       "<style scoped>\n",
       "    .dataframe tbody tr th:only-of-type {\n",
       "        vertical-align: middle;\n",
       "    }\n",
       "\n",
       "    .dataframe tbody tr th {\n",
       "        vertical-align: top;\n",
       "    }\n",
       "\n",
       "    .dataframe thead th {\n",
       "        text-align: right;\n",
       "    }\n",
       "</style>\n",
       "<table border=\"1\" class=\"dataframe\">\n",
       "  <thead>\n",
       "    <tr style=\"text-align: right;\">\n",
       "      <th></th>\n",
       "      <th>Age</th>\n",
       "      <th>Total_Purchase</th>\n",
       "      <th>Account_Manager</th>\n",
       "      <th>Years</th>\n",
       "      <th>Num_Sites</th>\n",
       "      <th>Onboard_date</th>\n",
       "      <th>Location</th>\n",
       "      <th>Company</th>\n",
       "    </tr>\n",
       "  </thead>\n",
       "  <tbody>\n",
       "    <tr>\n",
       "      <th>Andrew Mccall</th>\n",
       "      <td>9935.53</td>\n",
       "      <td>1</td>\n",
       "      <td>7.71</td>\n",
       "      <td>8.0</td>\n",
       "      <td>2011-08-29 18:37:54</td>\n",
       "      <td>38612 Johnny Stravenue Nataliebury, WI 15717-8316</td>\n",
       "      <td>King Ltd</td>\n",
       "      <td>NaN</td>\n",
       "    </tr>\n",
       "    <tr>\n",
       "      <th>Michele Wright</th>\n",
       "      <td>7526.94</td>\n",
       "      <td>1</td>\n",
       "      <td>9.28</td>\n",
       "      <td>15.0</td>\n",
       "      <td>2013-07-22 18:19:54</td>\n",
       "      <td>21083 Nicole Junction Suite 332, Youngport, ME...</td>\n",
       "      <td>Cannon-Benson</td>\n",
       "      <td>NaN</td>\n",
       "    </tr>\n",
       "    <tr>\n",
       "      <th>Jeremy Chang</th>\n",
       "      <td>100.00</td>\n",
       "      <td>1</td>\n",
       "      <td>1.00</td>\n",
       "      <td>15.0</td>\n",
       "      <td>2006-12-11 07:48:13</td>\n",
       "      <td>085 Austin Views Lake Julialand, WY 63726-4298</td>\n",
       "      <td>Barron-Robertson</td>\n",
       "      <td>NaN</td>\n",
       "    </tr>\n",
       "    <tr>\n",
       "      <th>Megan Ferguson</th>\n",
       "      <td>6487.50</td>\n",
       "      <td>0</td>\n",
       "      <td>9.40</td>\n",
       "      <td>14.0</td>\n",
       "      <td>2016-10-28 05:32:13</td>\n",
       "      <td>922 Wright Branch North Cynthialand, NC 64721</td>\n",
       "      <td>Sexton-Golden</td>\n",
       "      <td>NaN</td>\n",
       "    </tr>\n",
       "    <tr>\n",
       "      <th>Taylor Young</th>\n",
       "      <td>13147.71</td>\n",
       "      <td>1</td>\n",
       "      <td>10.00</td>\n",
       "      <td>8.0</td>\n",
       "      <td>2012-03-20 00:36:46</td>\n",
       "      <td>Unit 0789 Box 0734 DPO AP 39702</td>\n",
       "      <td>Wood LLC</td>\n",
       "      <td>NaN</td>\n",
       "    </tr>\n",
       "  </tbody>\n",
       "</table>\n",
       "</div>"
      ],
      "text/plain": [
       "                     Age  Total_Purchase  Account_Manager  Years  \\\n",
       "Andrew Mccall    9935.53               1             7.71    8.0   \n",
       "Michele Wright   7526.94               1             9.28   15.0   \n",
       "Jeremy Chang      100.00               1             1.00   15.0   \n",
       "Megan Ferguson   6487.50               0             9.40   14.0   \n",
       "Taylor Young    13147.71               1            10.00    8.0   \n",
       "\n",
       "                          Num_Sites  \\\n",
       "Andrew Mccall   2011-08-29 18:37:54   \n",
       "Michele Wright  2013-07-22 18:19:54   \n",
       "Jeremy Chang    2006-12-11 07:48:13   \n",
       "Megan Ferguson  2016-10-28 05:32:13   \n",
       "Taylor Young    2012-03-20 00:36:46   \n",
       "\n",
       "                                                     Onboard_date  \\\n",
       "Andrew Mccall   38612 Johnny Stravenue Nataliebury, WI 15717-8316   \n",
       "Michele Wright  21083 Nicole Junction Suite 332, Youngport, ME...   \n",
       "Jeremy Chang       085 Austin Views Lake Julialand, WY 63726-4298   \n",
       "Megan Ferguson      922 Wright Branch North Cynthialand, NC 64721   \n",
       "Taylor Young                      Unit 0789 Box 0734 DPO AP 39702   \n",
       "\n",
       "                        Location  Company  \n",
       "Andrew Mccall           King Ltd      NaN  \n",
       "Michele Wright     Cannon-Benson      NaN  \n",
       "Jeremy Chang    Barron-Robertson      NaN  \n",
       "Megan Ferguson     Sexton-Golden      NaN  \n",
       "Taylor Young            Wood LLC      NaN  "
      ]
     },
     "execution_count": 268,
     "metadata": {},
     "output_type": "execute_result"
    }
   ],
   "source": [
    "new_df = new_df.drop(\"Names\", axis = 1)\n",
    "new_df.head()"
   ]
  },
  {
   "cell_type": "code",
   "execution_count": 269,
   "metadata": {},
   "outputs": [],
   "source": [
    "new_df = new_df.iloc[:, 1:5]"
   ]
  },
  {
   "cell_type": "code",
   "execution_count": 270,
   "metadata": {},
   "outputs": [
    {
     "data": {
      "text/plain": [
       "Total_Purchase     0\n",
       "Account_Manager    0\n",
       "Years              0\n",
       "Num_Sites          0\n",
       "dtype: int64"
      ]
     },
     "execution_count": 270,
     "metadata": {},
     "output_type": "execute_result"
    }
   ],
   "source": [
    "new_df.isna().sum()"
   ]
  },
  {
   "cell_type": "code",
   "execution_count": null,
   "metadata": {},
   "outputs": [],
   "source": [
    "new_df = pd.concat([new_df, pd.DataFrame()])"
   ]
  }
 ],
 "metadata": {
  "kernelspec": {
   "display_name": "Python 3 (ipykernel)",
   "language": "python",
   "name": "python3"
  },
  "language_info": {
   "codemirror_mode": {
    "name": "ipython",
    "version": 3
   },
   "file_extension": ".py",
   "mimetype": "text/x-python",
   "name": "python",
   "nbconvert_exporter": "python",
   "pygments_lexer": "ipython3",
   "version": "3.11.5"
  }
 },
 "nbformat": 4,
 "nbformat_minor": 4
}
