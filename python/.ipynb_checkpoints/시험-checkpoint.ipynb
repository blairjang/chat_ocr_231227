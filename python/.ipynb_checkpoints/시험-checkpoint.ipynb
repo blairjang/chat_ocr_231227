{
 "cells": [
  {
   "cell_type": "code",
   "execution_count": 37,
   "id": "18efff42",
   "metadata": {},
   "outputs": [],
   "source": [
    "# while True :\n",
    "   \n",
    "    # menu = int(input('1 : 추가, 2 : 수정, 3 : 삭제, 4 : 목록조회, 0 : 종료'))\n"
   ]
  },
  {
   "cell_type": "code",
   "execution_count": 38,
   "id": "0a437246",
   "metadata": {},
   "outputs": [],
   "source": [
    "\n",
    "member = {\"ret\":\"y\",\"data\":[{\"id\":\"a\",\"name\":\"가나다1\",\"age\":61,\"height\":165.4,\"weight\":60.2},\n",
    "                            {\"id\":\"b\",\"name\":\"가나다2\",\"age\":32,\"height\":185.4,\"weight\":80.3},\n",
    "                            {\"id\":\"c\",\"name\":\"가나다3\",\"age\":13,\"height\":145.8,\"weight\":60.6},\n",
    "                            {\"id\":\"d\",\"name\":\"가나다4\",\"age\":44,\"height\":165.7,\"weight\":44.5},\n",
    "                            {\"id\":\"e\",\"name\":\"가나다5\",\"age\":85,\"height\":165.2,\"weight\":42.3}]}"
   ]
  },
  {
   "cell_type": "code",
   "execution_count": 39,
   "id": "67d8e4f7",
   "metadata": {},
   "outputs": [],
   "source": [
    "class Customer:\n",
    "    def __init__(self, id, name, age, height, weight):\n",
    "        self.id = id\n",
    "        self.name = name\n",
    "        self.age = age\n",
    "        self.height = height\n",
    "        self.weight = weight\n",
    "        \n",
    "    def print_info(self):\n",
    "        print(self.id, self.name, self.age, self.height, self.weight, sep=\"\\t\")"
   ]
  },
  {
   "cell_type": "code",
   "execution_count": 40,
   "id": "99a8c488",
   "metadata": {},
   "outputs": [],
   "source": [
    "db = []\n",
    "\n",
    "for i in member[\"data\"]:\n",
    "    db.append(Customer(i[\"id\"], i[\"name\"], i[\"age\"], i[\"height\"], i[\"weight\"]))"
   ]
  },
  {
   "cell_type": "code",
   "execution_count": null,
   "id": "d3351bed",
   "metadata": {
    "scrolled": true
   },
   "outputs": [
    {
     "name": "stdout",
     "output_type": "stream",
     "text": [
      "1 : 추가, 2 : 수정, 3 : 삭제, 4 : 목록조회, 0 : 종료3\n",
      "삭제할 id 입력a\n",
      "a 가나다1 61 165.4 60.2\n",
      "1 : 추가, 2 : 수정, 3 : 삭제, 4 : 목록조회, 0 : 종료4\n",
      "b 가나다2 32 185.4 80.3\n",
      "c 가나다3 13 145.8 60.6\n",
      "d 가나다4 44 165.7 44.5\n",
      "e 가나다5 85 165.2 42.3\n",
      "1 : 추가, 2 : 수정, 3 : 삭제, 4 : 목록조회, 0 : 종료1\n"
     ]
    }
   ],
   "source": [
    "while True:\n",
    "    menu = int(input('1 : 추가, 2 : 수정, 3 : 삭제, 4 : 목록조회, 0 : 종료'))\n",
    "    \n",
    "    if menu == 0: #  종료\n",
    "        break\n",
    "    elif menu == 1: # 추가\n",
    "        id, name, age, height, weight = map(str, input(\"아이디, 이름, 키, 몸무게 입력하세요\").split(\",\"))\n",
    "        db.appended(Customer(id, name, int(age), float(height), float(weight)))\n",
    "        \n",
    "    elif menu == 2: # 수정\n",
    "        id = input(\"수정 id 입력\")\n",
    "        name = input(\"이름\")\n",
    "        age = int(input(\"나이\"))\n",
    "        height = float(input(\"키\"))\n",
    "        weight = float(input(\"몸무게\"))\n",
    "        \n",
    "        for idx, cus in enumerate(db):\n",
    "            if cus.id == id:\n",
    "                db[idx] = Customer(id, name, age, height, weight)\n",
    "                break\n",
    "                \n",
    "    elif menu == 3: # 삭제\n",
    "        s = input(\"삭제할 id 입력\")\n",
    "        for idx, cus in enumerate(db):\n",
    "            if cus.id == s:\n",
    "                cus.print_info()\n",
    "                del db[idx]\n",
    "                break\n",
    "                \n",
    "    elif menu == 4: # 목록\n",
    "        for i in db:\n",
    "            i.print_info()\n",
    "        \n"
   ]
  },
  {
   "cell_type": "code",
   "execution_count": null,
   "id": "1142945e",
   "metadata": {},
   "outputs": [],
   "source": []
  },
  {
   "cell_type": "code",
   "execution_count": null,
   "id": "18e5de99",
   "metadata": {},
   "outputs": [],
   "source": []
  },
  {
   "cell_type": "code",
   "execution_count": null,
   "id": "09f52370",
   "metadata": {},
   "outputs": [],
   "source": []
  },
  {
   "cell_type": "code",
   "execution_count": null,
   "id": "1a00e1a3",
   "metadata": {},
   "outputs": [],
   "source": []
  },
  {
   "cell_type": "code",
   "execution_count": null,
   "id": "f8a0fc87",
   "metadata": {},
   "outputs": [],
   "source": []
  },
  {
   "cell_type": "code",
   "execution_count": null,
   "id": "c236a6e1",
   "metadata": {},
   "outputs": [],
   "source": []
  },
  {
   "cell_type": "code",
   "execution_count": null,
   "id": "a3a5fbba",
   "metadata": {},
   "outputs": [],
   "source": []
  },
  {
   "cell_type": "code",
   "execution_count": null,
   "id": "3580c337",
   "metadata": {},
   "outputs": [],
   "source": []
  },
  {
   "cell_type": "code",
   "execution_count": null,
   "id": "43e3629e",
   "metadata": {},
   "outputs": [],
   "source": []
  },
  {
   "cell_type": "code",
   "execution_count": null,
   "id": "5db6422d",
   "metadata": {},
   "outputs": [],
   "source": []
  },
  {
   "cell_type": "code",
   "execution_count": null,
   "id": "4aa54edb",
   "metadata": {},
   "outputs": [],
   "source": []
  },
  {
   "cell_type": "code",
   "execution_count": null,
   "id": "d36f99b1",
   "metadata": {},
   "outputs": [],
   "source": []
  },
  {
   "cell_type": "code",
   "execution_count": null,
   "id": "34e75a3d",
   "metadata": {},
   "outputs": [],
   "source": []
  }
 ],
 "metadata": {
  "kernelspec": {
   "display_name": "Python 3 (ipykernel)",
   "language": "python",
   "name": "python3"
  },
  "language_info": {
   "codemirror_mode": {
    "name": "ipython",
    "version": 3
   },
   "file_extension": ".py",
   "mimetype": "text/x-python",
   "name": "python",
   "nbconvert_exporter": "python",
   "pygments_lexer": "ipython3",
   "version": "3.11.5"
  }
 },
 "nbformat": 4,
 "nbformat_minor": 5
}
