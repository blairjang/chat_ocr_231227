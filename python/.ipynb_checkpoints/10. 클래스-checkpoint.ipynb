{
 "cells": [
  {
   "cell_type": "markdown",
   "id": "12b653f5",
   "metadata": {},
   "source": [
    "#  객체\n",
    "\n",
    "- 프로그램을 만들때는 우선 \"어떤 데이터를 활용하는가?\"를 생각해야함\n",
    "    - 예) 병원 업무 프로그램을 만든다면 의사, 환자, 예약기록, 진료기록, 입퇴원 기록 과 같은 데이터를 고려해야함\n",
    "    \n",
    "- 여러가지 속성을 가질 수 있는 대상을 객체(object)라고 함\n"
   ]
  },
  {
   "cell_type": "markdown",
   "id": "0ab79821",
   "metadata": {},
   "source": [
    "# 클래스의 개념\n",
    "\n",
    "- 객체를 만드는 도구\n",
    "- 클래스를 통해 여러 개의 객체를 만들 수 있음\n",
    "- 동일한 클래스에서도 서로 다른 값을 가진 객체가 만들어질 수 있음"
   ]
  },
  {
   "cell_type": "code",
   "execution_count": 4,
   "id": "c9ba95fc",
   "metadata": {},
   "outputs": [
    {
     "name": "stdout",
     "output_type": "stream",
     "text": [
      "3\n",
      "7\n"
     ]
    }
   ],
   "source": [
    "# 계산기 예시 코드\n",
    "\n",
    "result = 0\n",
    "\n",
    "def cal_add(num):\n",
    "    global result\n",
    "    result += num\n",
    "    return result\n",
    "\n",
    "print(cal_add(3))\n",
    "print(cal_add(4))"
   ]
  },
  {
   "cell_type": "code",
   "execution_count": 10,
   "id": "9220b138",
   "metadata": {},
   "outputs": [],
   "source": [
    "# 만약에 2개의 계산기가 필요한 상황이라면\n",
    "# 별도의 변수, 별도의 함수를 만들어야 하는 상황\n",
    "\n",
    "# result1 = 0\n",
    "\n",
    "# def cal_add1(num):\n",
    "    # global result1\n",
    "    # result1 += num\n",
    "    # return result1\n",
    "    \n",
    "class Calculator:\n",
    "    def __init__(self):\n",
    "        self.result = 0\n",
    "        \n",
    "        \n",
    "    def add(self, num):\n",
    "        self.result += num\n",
    "        return self.result"
   ]
  },
  {
   "cell_type": "code",
   "execution_count": 11,
   "id": "6d8a3f1e",
   "metadata": {},
   "outputs": [
    {
     "name": "stdout",
     "output_type": "stream",
     "text": [
      "3\n",
      "7\n",
      "3\n",
      "10\n"
     ]
    }
   ],
   "source": [
    "cal1 = Calculator()\n",
    "cal2 = Calculator()\n",
    "\n",
    "print(cal1.add(3))\n",
    "print(cal1.add(4))\n",
    "print(cal2.add(3))\n",
    "print(cal2.add(7))"
   ]
  },
  {
   "cell_type": "markdown",
   "id": "e0caf309",
   "metadata": {},
   "source": [
    "- 클래스 생성"
   ]
  },
  {
   "cell_type": "code",
   "execution_count": 12,
   "id": "6fbb477f",
   "metadata": {},
   "outputs": [],
   "source": [
    "class WaffleMachine:\n",
    "    pass\n"
   ]
  },
  {
   "cell_type": "code",
   "execution_count": 13,
   "id": "f89aea1a",
   "metadata": {},
   "outputs": [],
   "source": [
    "# 객체      클래스()\n",
    "waffle = WaffleMachine() #클래스 함수 호출X, 객체 생성()"
   ]
  },
  {
   "cell_type": "code",
   "execution_count": 15,
   "id": "0ff7366e",
   "metadata": {},
   "outputs": [
    {
     "data": {
      "text/plain": [
       "<__main__.WaffleMachine at 0x2b2e9e492d0>"
      ]
     },
     "execution_count": 15,
     "metadata": {},
     "output_type": "execute_result"
    }
   ],
   "source": [
    "# 메모리의 0x2b2e9e492d0에 저장된 WaffleMachine 객체\n",
    "waffle"
   ]
  },
  {
   "cell_type": "markdown",
   "id": "2f460c79",
   "metadata": {},
   "source": [
    "## 클래스의 구성\n",
    "\n",
    "- 클래스는 설계도\n",
    "- 클래스는 객체가 가져야 할 모든 구성요소를 가지고 있어야 한다\n",
    "    - 객체가 가져야할 값, 기능\n",
    "        - 값 : 이름, 나이, 연락처, 주소 등(변수)\n",
    "        - 기능 : 잔다. 먹는다. 공부한다. 달린다. 등(함수)\n",
    "        "
   ]
  },
  {
   "cell_type": "code",
   "execution_count": 16,
   "id": "40d21301",
   "metadata": {},
   "outputs": [],
   "source": [
    "# 사칙연산 클래스\n",
    "class FourCal:\n",
    "    pass"
   ]
  },
  {
   "cell_type": "code",
   "execution_count": 17,
   "id": "d8538f13",
   "metadata": {},
   "outputs": [
    {
     "data": {
      "text/plain": [
       "__main__.FourCal"
      ]
     },
     "execution_count": 17,
     "metadata": {},
     "output_type": "execute_result"
    }
   ],
   "source": [
    "cal = FourCal()\n",
    "type(cal)"
   ]
  },
  {
   "cell_type": "markdown",
   "id": "3d3836d0",
   "metadata": {},
   "source": [
    "### 인스턴스 변수와 인스턴스 메소드\n",
    "\n",
    "- 인스턴스 변수 : 클래스를 기반으로 만들어지는 모든 객체들이 각각 따로 저장하는 변수\n",
    "    - 모든 인스턴스 변수는 self라는 키워드를 붙임\n",
    "    - self는 자기자신을 나타내는 의미\n",
    "        - 자신이 가지고 있는 속성과 기능에 접근할 때는 self.식별자(변수이름) 형태로 접근\n",
    "\n",
    "- 인스턴스 메소드 : 클래스 내부에서 정의되는 함수\n",
    "    - 인스턴스 변수값에 따라서 각 객체마다 다르게 동작\n",
    "        - 첫 번째 매개변수로 self를 추가"
   ]
  },
  {
   "cell_type": "code",
   "execution_count": 3,
   "id": "a45b69de",
   "metadata": {},
   "outputs": [],
   "source": [
    "# 예시 1. Person 클래스 정의\n",
    "\n",
    "class Person:\n",
    "    def who_am_i(self, name, age, tel, address):\n",
    "        # 인스턴스 메소드 who_am_i\n",
    "        # 모든 Person 클래스의 객체는 who_am_i() 메소드를 호출 가능\n",
    "        # self를 제외한 나머지 매개변수에 실제로 사용될 데이터가 전달\n",
    "        \n",
    "        self.name = name\n",
    "        # 인스턴스 변수 name\n",
    "        # = 오른쪽은 매개변수의 name\n",
    "        # who_am_i() 메소드를 호출할 때 전달된 name이 객체의 name이 됨\n",
    "        \n",
    "        self.age = age\n",
    "        self.tel = tel\n",
    "        self.address = address"
   ]
  },
  {
   "cell_type": "code",
   "execution_count": 4,
   "id": "a0a49e04",
   "metadata": {},
   "outputs": [],
   "source": [
    "# boy 객체 생성\n",
    "boy = Person()"
   ]
  },
  {
   "cell_type": "code",
   "execution_count": 5,
   "id": "c5a05068",
   "metadata": {},
   "outputs": [],
   "source": [
    "boy.who_am_i(\"john\", 15, \"123-1234\", \"seoul\") # self는 값입력X 자기자신의 의미"
   ]
  },
  {
   "cell_type": "code",
   "execution_count": 6,
   "id": "f8135049",
   "metadata": {},
   "outputs": [],
   "source": [
    "boy.name = \"john\""
   ]
  },
  {
   "cell_type": "code",
   "execution_count": 7,
   "id": "336b39cf",
   "metadata": {},
   "outputs": [
    {
     "data": {
      "text/plain": [
       "15"
      ]
     },
     "execution_count": 7,
     "metadata": {},
     "output_type": "execute_result"
    }
   ],
   "source": [
    "boy.age"
   ]
  },
  {
   "cell_type": "code",
   "execution_count": 8,
   "id": "10d64c51",
   "metadata": {},
   "outputs": [
    {
     "data": {
      "text/plain": [
       "'123-1234'"
      ]
     },
     "execution_count": 8,
     "metadata": {},
     "output_type": "execute_result"
    }
   ],
   "source": [
    "boy.tel"
   ]
  },
  {
   "cell_type": "code",
   "execution_count": 9,
   "id": "dea0d4ad",
   "metadata": {},
   "outputs": [
    {
     "data": {
      "text/plain": [
       "'seoul'"
      ]
     },
     "execution_count": 9,
     "metadata": {},
     "output_type": "execute_result"
    }
   ],
   "source": [
    "boy.address"
   ]
  },
  {
   "cell_type": "code",
   "execution_count": 10,
   "id": "9a875f66",
   "metadata": {},
   "outputs": [],
   "source": [
    "girl = Person()\n"
   ]
  },
  {
   "cell_type": "code",
   "execution_count": 11,
   "id": "68decb39",
   "metadata": {},
   "outputs": [],
   "source": [
    "girl.who_am_i (\"jyupyhter\",29,\"234-578\",\"busan\")"
   ]
  },
  {
   "cell_type": "code",
   "execution_count": 12,
   "id": "4c3ddfb8",
   "metadata": {},
   "outputs": [
    {
     "name": "stdout",
     "output_type": "stream",
     "text": [
      "john\n",
      "jyupyhter\n"
     ]
    }
   ],
   "source": [
    "print(boy.name)\n",
    "print(girl.name)"
   ]
  },
  {
   "cell_type": "code",
   "execution_count": 20,
   "id": "898170aa",
   "metadata": {},
   "outputs": [],
   "source": [
    "# 예시2\n",
    "\n",
    "class Computer:\n",
    "    def set_spec(self, cpu, ram, vga, ssd):\n",
    "        self.cpu = cpu\n",
    "        self.ram = ram\n",
    "        self.vga = vga\n",
    "        self.ssd = ssd\n",
    "        \n",
    "    def hardware_info(self):\n",
    "        print(f\"cpu = {self.cpu}\")\n",
    "        print(f\"ram = {self.ram}\")\n",
    "        print(f\"vga = {self.vga}\")\n",
    "        print(f\"ssd = {self.ssd}\")\n",
    "        \n",
    "        "
   ]
  },
  {
   "cell_type": "code",
   "execution_count": 21,
   "id": "378f0b96",
   "metadata": {},
   "outputs": [],
   "source": [
    "desktop = Computer()"
   ]
  },
  {
   "cell_type": "code",
   "execution_count": 22,
   "id": "ca3c1bfc",
   "metadata": {},
   "outputs": [],
   "source": [
    "desktop.set_spec(\"i9\", \"16GB\", \"GTX4060\", \"512GB\")"
   ]
  },
  {
   "cell_type": "code",
   "execution_count": 23,
   "id": "f578a929",
   "metadata": {},
   "outputs": [
    {
     "name": "stdout",
     "output_type": "stream",
     "text": [
      "cpu = i9\n",
      "ram = 16GB\n",
      "vga = GTX4060\n",
      "ssd = 512GB\n"
     ]
    }
   ],
   "source": [
    "desktop.hardware_info()"
   ]
  },
  {
   "cell_type": "code",
   "execution_count": 24,
   "id": "5862fc5f",
   "metadata": {},
   "outputs": [],
   "source": [
    "notebook = Computer()"
   ]
  },
  {
   "cell_type": "code",
   "execution_count": 25,
   "id": "b14227e3",
   "metadata": {},
   "outputs": [],
   "source": [
    "notebook.set_spec(\"i3\", \"4GB\", \"MX300\", \"256GB\")"
   ]
  },
  {
   "cell_type": "code",
   "execution_count": 27,
   "id": "b2f4d3f8",
   "metadata": {},
   "outputs": [
    {
     "name": "stdout",
     "output_type": "stream",
     "text": [
      "cpu = i3\n",
      "ram = 4GB\n",
      "vga = MX300\n",
      "ssd = 256GB\n"
     ]
    }
   ],
   "source": [
    "notebook.hardware_info()"
   ]
  },
  {
   "cell_type": "code",
   "execution_count": 29,
   "id": "9b093a7d",
   "metadata": {},
   "outputs": [],
   "source": [
    "# 객체에서 사용할 인스턴스 변수 생성\n",
    "\n",
    "class Fourcal:\n",
    "    def set_data(self, first, second):  # 메소드의 매개변수\n",
    "        self.first = first # 메소드의 수행문\n",
    "        self.second = second\n",
    "        "
   ]
  },
  {
   "cell_type": "code",
   "execution_count": 30,
   "id": "e480ee83",
   "metadata": {},
   "outputs": [],
   "source": [
    "cal = Fourcal()\n",
    "\n",
    "cal.set_data(4,2)"
   ]
  },
  {
   "cell_type": "code",
   "execution_count": 31,
   "id": "a33bc2e1",
   "metadata": {},
   "outputs": [
    {
     "name": "stdout",
     "output_type": "stream",
     "text": [
      "4\n",
      "2\n"
     ]
    }
   ],
   "source": [
    "print(cal.first)\n",
    "print(cal.second)"
   ]
  },
  {
   "cell_type": "code",
   "execution_count": 32,
   "id": "03ff01d0",
   "metadata": {},
   "outputs": [
    {
     "name": "stdout",
     "output_type": "stream",
     "text": [
      "3\n",
      "7\n"
     ]
    }
   ],
   "source": [
    "test_cal = Fourcal()\n",
    "test_cal.set_data(3,7)\n",
    "print(test_cal.first)\n",
    "print(test_cal.second)"
   ]
  },
  {
   "cell_type": "code",
   "execution_count": 34,
   "id": "b4631090",
   "metadata": {},
   "outputs": [
    {
     "name": "stdout",
     "output_type": "stream",
     "text": [
      "4\n"
     ]
    }
   ],
   "source": [
    "# 다른 객체의 영향을 받지 않고 원래의 값을 유지함\n",
    "print(cal.first)"
   ]
  },
  {
   "cell_type": "code",
   "execution_count": 43,
   "id": "1a952e1d",
   "metadata": {},
   "outputs": [],
   "source": [
    "# 더하기 기능 추가하기\n",
    "\n",
    "class Fourcal:\n",
    "    def set_data(self, first, second):\n",
    "        self.first = first\n",
    "        self.second = second\n",
    "        \n",
    "    # add 메소드 추가\n",
    "    # 각 객체의 first와 second 합을 리턴\n",
    "        \n",
    "    def add(self):\n",
    "        return self.first + self.second\n",
    "        \n",
    "\n"
   ]
  },
  {
   "cell_type": "code",
   "execution_count": 45,
   "id": "4c591795",
   "metadata": {},
   "outputs": [
    {
     "name": "stdout",
     "output_type": "stream",
     "text": [
      "6\n"
     ]
    }
   ],
   "source": [
    "cal = Fourcal()\n",
    "cal.set_data(4,2)\n",
    "print(cal.add())"
   ]
  },
  {
   "cell_type": "code",
   "execution_count": 51,
   "id": "85162883",
   "metadata": {},
   "outputs": [],
   "source": [
    "# 사칙연산 기능 추가하기\n",
    "\n",
    "class Fourcal:\n",
    "    def set_data(self, first, second):\n",
    "        self.first = first\n",
    "        self.second = second\n",
    "        \n",
    "    # add 메소드 추가\n",
    "    # 각 객체의 first와 second 합을 리턴\n",
    "        \n",
    "    def add(self):\n",
    "        return self.first + self.second\n",
    "    \n",
    "    def sub(self):\n",
    "        return self.first - self.second    \n",
    "        \n",
    "    def mul(self):\n",
    "        return self.first * self.second\n",
    "    \n",
    "    def div(self):\n",
    "        return self.first / self.second\n",
    "    \n",
    "    "
   ]
  },
  {
   "cell_type": "code",
   "execution_count": 52,
   "id": "8ced2cda",
   "metadata": {},
   "outputs": [],
   "source": [
    "cal1 = Fourcal()\n",
    "cal2 = Fourcal()\n",
    "\n",
    "cal1.set_data(4,2)\n",
    "cal2.set_data(3,8)"
   ]
  },
  {
   "cell_type": "code",
   "execution_count": 54,
   "id": "e3eab3a1",
   "metadata": {},
   "outputs": [
    {
     "name": "stdout",
     "output_type": "stream",
     "text": [
      "6\n",
      "2\n",
      "8\n",
      "2.0\n"
     ]
    }
   ],
   "source": [
    "print(cal1.add())\n",
    "print(cal1.sub())\n",
    "print(cal1.mul())\n",
    "print(cal1.div())\n"
   ]
  },
  {
   "cell_type": "code",
   "execution_count": 55,
   "id": "eaf75dc6",
   "metadata": {},
   "outputs": [
    {
     "name": "stdout",
     "output_type": "stream",
     "text": [
      "11\n",
      "-5\n",
      "24\n",
      "0.375\n"
     ]
    }
   ],
   "source": [
    "\n",
    "print(cal2.add())\n",
    "print(cal2.sub())\n",
    "print(cal2.mul())\n",
    "print(cal2.div())"
   ]
  },
  {
   "cell_type": "markdown",
   "id": "617cec1c",
   "metadata": {},
   "source": [
    "# 생성자\n",
    "\n",
    "- 객체가 생성되면서 set data 나올 수있게 설정하기(답이 자동 호출)\n"
   ]
  },
  {
   "cell_type": "code",
   "execution_count": 56,
   "id": "1d86ec13",
   "metadata": {},
   "outputs": [
    {
     "ename": "AttributeError",
     "evalue": "'Fourcal' object has no attribute 'first'",
     "output_type": "error",
     "traceback": [
      "\u001b[1;31m---------------------------------------------------------------------------\u001b[0m",
      "\u001b[1;31mAttributeError\u001b[0m                            Traceback (most recent call last)",
      "Cell \u001b[1;32mIn[56], line 4\u001b[0m\n\u001b[0;32m      1\u001b[0m \u001b[38;5;66;03m# set_data 메소드를 실행해야만 first와 second가 생성됨\u001b[39;00m\n\u001b[0;32m      3\u001b[0m test_const \u001b[38;5;241m=\u001b[39m Fourcal()\n\u001b[1;32m----> 4\u001b[0m test_const\u001b[38;5;241m.\u001b[39madd()\n",
      "Cell \u001b[1;32mIn[51], line 12\u001b[0m, in \u001b[0;36mFourcal.add\u001b[1;34m(self)\u001b[0m\n\u001b[0;32m     11\u001b[0m \u001b[38;5;28;01mdef\u001b[39;00m \u001b[38;5;21madd\u001b[39m(\u001b[38;5;28mself\u001b[39m):\n\u001b[1;32m---> 12\u001b[0m     \u001b[38;5;28;01mreturn\u001b[39;00m \u001b[38;5;28mself\u001b[39m\u001b[38;5;241m.\u001b[39mfirst \u001b[38;5;241m+\u001b[39m \u001b[38;5;28mself\u001b[39m\u001b[38;5;241m.\u001b[39msecond\n",
      "\u001b[1;31mAttributeError\u001b[0m: 'Fourcal' object has no attribute 'first'"
     ]
    }
   ],
   "source": [
    "# set_data 메소드를 실행해야만 first와 second가 생성됨\n",
    "\n",
    "test_const = Fourcal()\n",
    "test_const.add()"
   ]
  },
  {
   "cell_type": "code",
   "execution_count": 57,
   "id": "f5740192",
   "metadata": {},
   "outputs": [],
   "source": [
    "# 생성자 추가하기\n",
    "\n",
    "class Fourcal:\n",
    "    def __init__(self, first, second):\n",
    "        self.set_data(first, second)\n",
    "        \n",
    "        \n",
    "    def set_data(self, first, second):\n",
    "        self.first = first\n",
    "        self.second = second\n",
    "        \n",
    "        \n",
    "  \n",
    "    # add 메소드 추가\n",
    "    # 각 객체의 first와 second 합을 리턴\n",
    "        \n",
    "    def add(self):\n",
    "        return self.first + self.second\n",
    "    \n",
    "    def sub(self):\n",
    "        return self.first - self.second    \n",
    "        \n",
    "    def mul(self):\n",
    "        return self.first * self.second\n",
    "    \n",
    "    def div(self):\n",
    "        return self.first / self.second\n",
    "    "
   ]
  },
  {
   "cell_type": "code",
   "execution_count": 58,
   "id": "6520aa9f",
   "metadata": {},
   "outputs": [
    {
     "ename": "TypeError",
     "evalue": "Fourcal.__init__() missing 2 required positional arguments: 'first' and 'second'",
     "output_type": "error",
     "traceback": [
      "\u001b[1;31m---------------------------------------------------------------------------\u001b[0m",
      "\u001b[1;31mTypeError\u001b[0m                                 Traceback (most recent call last)",
      "Cell \u001b[1;32mIn[58], line 3\u001b[0m\n\u001b[0;32m      1\u001b[0m \u001b[38;5;66;03m# 생성자의 매개변수를 전달해야 객체를 생성할 수 있음\u001b[39;00m\n\u001b[1;32m----> 3\u001b[0m test_const \u001b[38;5;241m=\u001b[39m Fourcal()\n",
      "\u001b[1;31mTypeError\u001b[0m: Fourcal.__init__() missing 2 required positional arguments: 'first' and 'second'"
     ]
    }
   ],
   "source": [
    "# 생성자의 매개변수를 전달해야 객체를 생성할 수 있음\n",
    "\n",
    "test_const = Fourcal()"
   ]
  },
  {
   "cell_type": "code",
   "execution_count": 59,
   "id": "b4d87d58",
   "metadata": {},
   "outputs": [],
   "source": [
    "test_const = Fourcal(4,2)"
   ]
  },
  {
   "cell_type": "code",
   "execution_count": 60,
   "id": "71d5491c",
   "metadata": {},
   "outputs": [
    {
     "name": "stdout",
     "output_type": "stream",
     "text": [
      "4\n",
      "2\n"
     ]
    }
   ],
   "source": [
    "print(test_const.first)\n",
    "print(test_const.second)"
   ]
  },
  {
   "cell_type": "code",
   "execution_count": 61,
   "id": "ec2b5277",
   "metadata": {},
   "outputs": [
    {
     "name": "stdout",
     "output_type": "stream",
     "text": [
      "6\n",
      "2.0\n"
     ]
    }
   ],
   "source": [
    "print(test_const.add())\n",
    "print(test_const.div())"
   ]
  },
  {
   "cell_type": "code",
   "execution_count": null,
   "id": "d42d02c6",
   "metadata": {},
   "outputs": [],
   "source": []
  },
  {
   "cell_type": "code",
   "execution_count": null,
   "id": "04232c34",
   "metadata": {},
   "outputs": [],
   "source": []
  },
  {
   "cell_type": "code",
   "execution_count": null,
   "id": "dc478368",
   "metadata": {},
   "outputs": [],
   "source": []
  },
  {
   "cell_type": "code",
   "execution_count": null,
   "id": "3d6dbd9b",
   "metadata": {},
   "outputs": [],
   "source": []
  }
 ],
 "metadata": {
  "kernelspec": {
   "display_name": "Python 3 (ipykernel)",
   "language": "python",
   "name": "python3"
  },
  "language_info": {
   "codemirror_mode": {
    "name": "ipython",
    "version": 3
   },
   "file_extension": ".py",
   "mimetype": "text/x-python",
   "name": "python",
   "nbconvert_exporter": "python",
   "pygments_lexer": "ipython3",
   "version": "3.11.5"
  }
 },
 "nbformat": 4,
 "nbformat_minor": 5
}
