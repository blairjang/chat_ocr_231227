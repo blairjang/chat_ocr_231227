{
 "cells": [
  {
   "cell_type": "code",
   "execution_count": 1,
   "id": "aa9d6423",
   "metadata": {},
   "outputs": [
    {
     "name": "stdout",
     "output_type": "stream",
     "text": [
      "[1, 4, 3]\n"
     ]
    }
   ],
   "source": [
    "a = [1,2,3]\n",
    "b = a\n",
    "\n",
    "a[1] = 4\n",
    "print(b)"
   ]
  },
  {
   "cell_type": "code",
   "execution_count": 10,
   "id": "62ef43da",
   "metadata": {},
   "outputs": [
    {
     "name": "stdout",
     "output_type": "stream",
     "text": [
      "youneedpython\n"
     ]
    }
   ],
   "source": [
    "print(\"\".join([\"you\",\"need\",\"python\"]))"
   ]
  },
  {
   "cell_type": "code",
   "execution_count": 4,
   "id": "e8586c99",
   "metadata": {},
   "outputs": [
    {
     "data": {
      "text/plain": [
       "'youneedpython'"
      ]
     },
     "execution_count": 4,
     "metadata": {},
     "output_type": "execute_result"
    }
   ],
   "source": [
    "\"you\" + \"need\" + \"python\""
   ]
  },
  {
   "cell_type": "code",
   "execution_count": 8,
   "id": "c45a1107",
   "metadata": {},
   "outputs": [
    {
     "name": "stdout",
     "output_type": "stream",
     "text": [
      "you need python\n"
     ]
    }
   ],
   "source": [
    "print(\"you\",\"need\",\"python\")"
   ]
  },
  {
   "cell_type": "code",
   "execution_count": 17,
   "id": "09c21025",
   "metadata": {},
   "outputs": [
    {
     "name": "stdout",
     "output_type": "stream",
     "text": [
      "<class 'list'>\n"
     ]
    }
   ],
   "source": [
    "a = [1,2,3]\n",
    "\n",
    "print(type(a + [4,5]))"
   ]
  },
  {
   "cell_type": "code",
   "execution_count": 16,
   "id": "ba2c3add",
   "metadata": {},
   "outputs": [
    {
     "data": {
      "text/plain": [
       "[1, 2, 3]"
      ]
     },
     "execution_count": 16,
     "metadata": {},
     "output_type": "execute_result"
    }
   ],
   "source": []
  },
  {
   "cell_type": "code",
   "execution_count": null,
   "id": "20e49f12",
   "metadata": {},
   "outputs": [],
   "source": []
  },
  {
   "cell_type": "code",
   "execution_count": 12,
   "id": "823a87eb",
   "metadata": {},
   "outputs": [],
   "source": [
    "a.extend([4,5])"
   ]
  },
  {
   "cell_type": "code",
   "execution_count": 18,
   "id": "ecbb67e5",
   "metadata": {},
   "outputs": [
    {
     "name": "stdout",
     "output_type": "stream",
     "text": [
      "<class 'list'>\n"
     ]
    }
   ],
   "source": [
    "print(type(a))"
   ]
  },
  {
   "cell_type": "code",
   "execution_count": null,
   "id": "21f485eb",
   "metadata": {},
   "outputs": [],
   "source": []
  },
  {
   "cell_type": "code",
   "execution_count": 21,
   "id": "aae0e86e",
   "metadata": {},
   "outputs": [
    {
     "name": "stdout",
     "output_type": "stream",
     "text": [
      "['a,가나다1,61,165.4,60.2\\n', 'b,가나다2,32,185.4,80.3\\n', 'c,가나다3,13,145.8,60.6\\n', 'd,가나다4,44,165.7,44.5\\n', 'e,가나다5,85,165.2,42.3\\n']\n"
     ]
    }
   ],
   "source": [
    "f = open(\"customer.txt\", \"r\")\n",
    "line = f.readlines()\n",
    "print(line)"
   ]
  },
  {
   "cell_type": "code",
   "execution_count": 22,
   "id": "9ac0fb14",
   "metadata": {},
   "outputs": [],
   "source": [
    "member = ['a,가나다1,61,165.4,60.2\\n', \n",
    " 'b,가나다2,32,185.4,80.3\\n', \n",
    " 'c,가나다3,13,145.8,60.6\\n', \n",
    " 'd,가나다4,44,165.7,44.5\\n', \n",
    " 'e,가나다5,85,165.2,42.3\\n']"
   ]
  },
  {
   "cell_type": "code",
   "execution_count": 23,
   "id": "8a0662fa",
   "metadata": {},
   "outputs": [],
   "source": [
    "class Customer:\n",
    "    def __init__(self, id, name, age, height, weight):\n",
    "        self.id = id\n",
    "        self.name = name\n",
    "        self.age = age\n",
    "        self.height = height\n",
    "        self.weight = weight\n",
    "        \n",
    "    def print_info(self):\n",
    "        print(self.id, self.name, self.age, self.height, self.weight, sep = \" \")"
   ]
  },
  {
   "cell_type": "code",
   "execution_count": 25,
   "id": "a2b66086",
   "metadata": {},
   "outputs": [
    {
     "data": {
      "text/plain": [
       "__main__.Customer"
      ]
     },
     "execution_count": 25,
     "metadata": {},
     "output_type": "execute_result"
    }
   ],
   "source": [
    "Customer"
   ]
  },
  {
   "cell_type": "code",
   "execution_count": null,
   "id": "3538729d",
   "metadata": {},
   "outputs": [],
   "source": []
  },
  {
   "cell_type": "code",
   "execution_count": 27,
   "id": "a220d346",
   "metadata": {},
   "outputs": [],
   "source": [
    "db = []\n",
    "for i in member:\n",
    "    db.append(Customer(i[0],i[1],i[2],i[3],i[4]))"
   ]
  },
  {
   "cell_type": "code",
   "execution_count": 28,
   "id": "aaa91f94",
   "metadata": {},
   "outputs": [
    {
     "data": {
      "text/plain": [
       "[<__main__.Customer at 0x212713cba10>,\n",
       " <__main__.Customer at 0x212718c0190>,\n",
       " <__main__.Customer at 0x212712ec610>,\n",
       " <__main__.Customer at 0x212712ec450>,\n",
       " <__main__.Customer at 0x212712f9b90>]"
      ]
     },
     "execution_count": 28,
     "metadata": {},
     "output_type": "execute_result"
    }
   ],
   "source": [
    "db"
   ]
  },
  {
   "cell_type": "code",
   "execution_count": null,
   "id": "ffb857e0",
   "metadata": {},
   "outputs": [
    {
     "name": "stdout",
     "output_type": "stream",
     "text": [
      "1 : 추가, 2 : 수정, 3 : 삭제, 4 : 목록조회, 0 : 종료3\n",
      "삭제할 ida\n",
      "a , 가 나 다\n",
      "1 : 추가, 2 : 수정, 3 : 삭제, 4 : 목록조회, 0 : 종료7\n",
      "1 : 추가, 2 : 수정, 3 : 삭제, 4 : 목록조회, 0 : 종료4\n",
      "b , 가 나 다\n",
      "c , 가 나 다\n",
      "d , 가 나 다\n",
      "e , 가 나 다\n"
     ]
    }
   ],
   "source": [
    "while True :\n",
    "    menu = int(input('1 : 추가, 2 : 수정, 3 : 삭제, 4 : 목록조회, 0 : 종료'))\n",
    "    \n",
    "    if menu == 0:\n",
    "        break\n",
    "        \n",
    "    elif menu == 1:\n",
    "        id, name, age, height, weight = map(str, input(\"id, 이름, 나이, 키, 몸무게를 입력하세요\").split(\",\"))\n",
    "        db.append(Customer(id, name, int(age), float(height), float(weight)))\n",
    "        \n",
    "    elif menu == 2:\n",
    "        id = input(\"바꿀 id 입력\")\n",
    "        name = input(\"이름 수정\")\n",
    "        age = int(input(\"나이 수정\"))\n",
    "        height = float(input(\"키 수정\"))\n",
    "        weight = float(input(\"몸무게 수정\"))\n",
    "        \n",
    "        for idx, cus in enumerate(db):\n",
    "            if cus.id == id:\n",
    "                db[idx] = Customer(id, name, age, height, weight)\n",
    "                break\n",
    "            \n",
    "    elif menu == 3:\n",
    "        s = input(\"삭제할 id\")\n",
    "        for idx, cus in enumerate(db):\n",
    "            if cus.id == s:\n",
    "                cus.print_info()\n",
    "                del db[idx]\n",
    "                break\n",
    "                \n",
    "    elif menu == 4:\n",
    "        for i in db:\n",
    "            i.print_info()"
   ]
  },
  {
   "cell_type": "code",
   "execution_count": null,
   "id": "7a9caa44",
   "metadata": {},
   "outputs": [],
   "source": []
  },
  {
   "cell_type": "code",
   "execution_count": null,
   "id": "6264c607",
   "metadata": {},
   "outputs": [],
   "source": []
  },
  {
   "cell_type": "code",
   "execution_count": null,
   "id": "125ae643",
   "metadata": {},
   "outputs": [],
   "source": []
  },
  {
   "cell_type": "code",
   "execution_count": null,
   "id": "e9a5bfe5",
   "metadata": {},
   "outputs": [],
   "source": []
  },
  {
   "cell_type": "code",
   "execution_count": null,
   "id": "c402665a",
   "metadata": {},
   "outputs": [],
   "source": []
  },
  {
   "cell_type": "code",
   "execution_count": null,
   "id": "4abe3f6f",
   "metadata": {},
   "outputs": [],
   "source": []
  },
  {
   "cell_type": "code",
   "execution_count": null,
   "id": "c2df8fc2",
   "metadata": {},
   "outputs": [],
   "source": []
  },
  {
   "cell_type": "code",
   "execution_count": null,
   "id": "0e714c7f",
   "metadata": {},
   "outputs": [],
   "source": []
  },
  {
   "cell_type": "code",
   "execution_count": null,
   "id": "962c9e0e",
   "metadata": {},
   "outputs": [],
   "source": []
  }
 ],
 "metadata": {
  "kernelspec": {
   "display_name": "Python 3 (ipykernel)",
   "language": "python",
   "name": "python3"
  },
  "language_info": {
   "codemirror_mode": {
    "name": "ipython",
    "version": 3
   },
   "file_extension": ".py",
   "mimetype": "text/x-python",
   "name": "python",
   "nbconvert_exporter": "python",
   "pygments_lexer": "ipython3",
   "version": "3.11.5"
  }
 },
 "nbformat": 4,
 "nbformat_minor": 5
}
