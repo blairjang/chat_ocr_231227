{
 "cells": [
  {
   "cell_type": "markdown",
   "id": "e02d3843",
   "metadata": {},
   "source": [
    "- mutable : 생성된 후에 변경이 가능한 자료형\n",
    "    - 리스트, 세트, 딕셔너리\n",
    "    \n",
    "- immutable : 생성된 후에는 변경이 불가능한 자료형\n",
    "    - 정수, 실수, 문자열, 튜플\n",
    "    "
   ]
  },
  {
   "cell_type": "markdown",
   "id": "bd7756e9",
   "metadata": {},
   "source": [
    "# mutable"
   ]
  },
  {
   "cell_type": "code",
   "execution_count": 1,
   "id": "68827e0a",
   "metadata": {},
   "outputs": [
    {
     "data": {
      "text/plain": [
       "1484463290176"
      ]
     },
     "execution_count": 1,
     "metadata": {},
     "output_type": "execute_result"
    }
   ],
   "source": [
    "# id() : 변수나 자료형의 메모리 주소를 확인\n",
    "me = [1,2,3]\n",
    "id(me)"
   ]
  },
  {
   "cell_type": "code",
   "execution_count": 3,
   "id": "d307c639",
   "metadata": {},
   "outputs": [
    {
     "data": {
      "text/plain": [
       "1484463290176"
      ]
     },
     "execution_count": 3,
     "metadata": {},
     "output_type": "execute_result"
    }
   ],
   "source": [
    "me.append(4)\n",
    "id(me)"
   ]
  },
  {
   "cell_type": "markdown",
   "id": "5bc1274e",
   "metadata": {},
   "source": [
    "# immutable"
   ]
  },
  {
   "cell_type": "code",
   "execution_count": 5,
   "id": "cfd52f25",
   "metadata": {},
   "outputs": [
    {
     "data": {
      "text/plain": [
       "140729169187912"
      ]
     },
     "execution_count": 5,
     "metadata": {},
     "output_type": "execute_result"
    }
   ],
   "source": [
    "me = 10\n",
    "id(me)"
   ]
  },
  {
   "cell_type": "code",
   "execution_count": 6,
   "id": "f9e9cfa9",
   "metadata": {},
   "outputs": [
    {
     "data": {
      "text/plain": [
       "140729169187944"
      ]
     },
     "execution_count": 6,
     "metadata": {},
     "output_type": "execute_result"
    }
   ],
   "source": [
    "me +=1\n",
    "id(me)"
   ]
  },
  {
   "cell_type": "markdown",
   "id": "54dd0229",
   "metadata": {},
   "source": [
    "# mutable 의 특징"
   ]
  },
  {
   "cell_type": "code",
   "execution_count": 7,
   "id": "57053a80",
   "metadata": {},
   "outputs": [],
   "source": [
    "me = [1,2,3]\n",
    "you = me"
   ]
  },
  {
   "cell_type": "code",
   "execution_count": 8,
   "id": "162be5f7",
   "metadata": {},
   "outputs": [
    {
     "name": "stdout",
     "output_type": "stream",
     "text": [
      "1484463212928\n",
      "1484463212928\n"
     ]
    }
   ],
   "source": [
    "print(id(me))\n",
    "print(id(you))"
   ]
  },
  {
   "cell_type": "code",
   "execution_count": 9,
   "id": "f7e56b2a",
   "metadata": {},
   "outputs": [],
   "source": [
    "you.append(4)"
   ]
  },
  {
   "cell_type": "code",
   "execution_count": 10,
   "id": "ff53f598",
   "metadata": {},
   "outputs": [
    {
     "name": "stdout",
     "output_type": "stream",
     "text": [
      "[1, 2, 3, 4]\n"
     ]
    }
   ],
   "source": [
    "print(you)"
   ]
  },
  {
   "cell_type": "code",
   "execution_count": 11,
   "id": "f61466e6",
   "metadata": {},
   "outputs": [
    {
     "name": "stdout",
     "output_type": "stream",
     "text": [
      "[1, 2, 3, 4]\n"
     ]
    }
   ],
   "source": [
    "print(me)"
   ]
  },
  {
   "cell_type": "markdown",
   "id": "871132a9",
   "metadata": {},
   "source": [
    "# 리스트의 복사 "
   ]
  },
  {
   "cell_type": "code",
   "execution_count": 12,
   "id": "03324c6d",
   "metadata": {},
   "outputs": [
    {
     "name": "stdout",
     "output_type": "stream",
     "text": [
      "[1, 2, 3, 4]\n",
      "1484463212928\n"
     ]
    }
   ],
   "source": [
    "print(me)\n",
    "print(id(me))"
   ]
  },
  {
   "cell_type": "code",
   "execution_count": 14,
   "id": "e0fc0291",
   "metadata": {},
   "outputs": [
    {
     "name": "stdout",
     "output_type": "stream",
     "text": [
      "[1, 2, 3, 4]\n",
      "1484463226240\n"
     ]
    }
   ],
   "source": [
    "you = me[:]\n",
    "print(you)\n",
    "print(id(you))"
   ]
  },
  {
   "cell_type": "code",
   "execution_count": 15,
   "id": "0f787001",
   "metadata": {},
   "outputs": [],
   "source": [
    "me.append(5)"
   ]
  },
  {
   "cell_type": "code",
   "execution_count": 16,
   "id": "cb272426",
   "metadata": {},
   "outputs": [
    {
     "name": "stdout",
     "output_type": "stream",
     "text": [
      "[1, 2, 3, 4, 5]\n",
      "[1, 2, 3, 4]\n"
     ]
    }
   ],
   "source": [
    "print(me)\n",
    "print(you)"
   ]
  },
  {
   "cell_type": "code",
   "execution_count": 17,
   "id": "9b4f8f76",
   "metadata": {},
   "outputs": [],
   "source": [
    "# copy 함수 사용\n",
    "\n",
    "you = me.copy()"
   ]
  },
  {
   "cell_type": "code",
   "execution_count": 19,
   "id": "cd6bb8b1",
   "metadata": {},
   "outputs": [
    {
     "name": "stdout",
     "output_type": "stream",
     "text": [
      "[1, 2, 3, 4, 5]\n",
      "1484463212928\n",
      "1484462588800\n"
     ]
    }
   ],
   "source": [
    "print(you)\n",
    "print(id(me))\n",
    "print(id(you))"
   ]
  },
  {
   "cell_type": "code",
   "execution_count": 21,
   "id": "233f3c12",
   "metadata": {},
   "outputs": [],
   "source": [
    "me.append(6)"
   ]
  },
  {
   "cell_type": "code",
   "execution_count": 22,
   "id": "a7dec73c",
   "metadata": {},
   "outputs": [
    {
     "name": "stdout",
     "output_type": "stream",
     "text": [
      "[1, 2, 3, 4, 5, 6]\n",
      "[1, 2, 3, 4, 5]\n"
     ]
    }
   ],
   "source": [
    "print(me)\n",
    "print(you)"
   ]
  },
  {
   "cell_type": "code",
   "execution_count": null,
   "id": "7535e89b",
   "metadata": {},
   "outputs": [],
   "source": []
  },
  {
   "cell_type": "code",
   "execution_count": null,
   "id": "2e36b56d",
   "metadata": {},
   "outputs": [],
   "source": []
  }
 ],
 "metadata": {
  "kernelspec": {
   "display_name": "Python 3 (ipykernel)",
   "language": "python",
   "name": "python3"
  },
  "language_info": {
   "codemirror_mode": {
    "name": "ipython",
    "version": 3
   },
   "file_extension": ".py",
   "mimetype": "text/x-python",
   "name": "python",
   "nbconvert_exporter": "python",
   "pygments_lexer": "ipython3",
   "version": "3.11.5"
  }
 },
 "nbformat": 4,
 "nbformat_minor": 5
}
