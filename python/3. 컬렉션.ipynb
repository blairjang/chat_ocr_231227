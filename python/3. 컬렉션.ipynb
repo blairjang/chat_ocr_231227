{
 "cells": [
  {
   "cell_type": "markdown",
   "id": "f33d02da",
   "metadata": {},
   "source": [
    "# 컬렉션\n",
    "\n",
    "- 여러 값을 하나의 이름으로 묶어서 관리하는 자료형\n",
    "\n",
    "- 컬렉션의 종류\n",
    "    - 리스트\n",
    "        - 생성 함수 : list()\n",
    "        - 특징 : 추가, 수정, 삭제가 언제나 가능\n",
    "        - 예) : a = [1, 2, 3]\n",
    "        \n",
    "    - 튜플\n",
    "        - 생성 함수 : tuple()\n",
    "        - 특징 : 생성되고 나면 변경 불가능\n",
    "        - 예) : a = (1, 2, 3)\n",
    "        \n",
    "    - 세트\n",
    "        - 생성 함수 : set()\n",
    "        - 특징 : 중복된 값의 저장 불가능\n",
    "        - 예) : a = {1, 2, 3}\n",
    "        \n",
    "    - 딕셔너리\n",
    "        - 생성 함수 : dict()\n",
    "        - 특징 : 키 + 값으로 관리\n",
    "        - 예) : a = {\"age\" : 25}\n",
    "        \n",
    "- 이 중에서 저장된 값들의 순서가 있는 컬렉션을 \"시퀀스(sequence)\"라고 부름\n",
    "    - 시퀀스 : 리스트, 튜플"
   ]
  },
  {
   "cell_type": "code",
   "execution_count": 2,
   "id": "adb7984e",
   "metadata": {},
   "outputs": [
    {
     "name": "stdout",
     "output_type": "stream",
     "text": [
      "[1, 2, 3, 4, 5]\n",
      "<class 'list'>\n",
      "{1, 2, 3, 4}\n",
      "<class 'set'>\n",
      "(2, 2, 3, 4, 5)\n",
      "<class 'tuple'>\n",
      "{'aaa': 1, 'bbb': 2, 'ccc': 3}\n",
      "<class 'dict'>\n"
     ]
    }
   ],
   "source": [
    "li = [1, 2, 3, 4, 5] # 리스트\n",
    "set_ = {1, 2, 3, 3, 4} # 세트\n",
    "tu = (2, 2, 3, 4, 5) # 튜플\n",
    "dic = {\"aaa\" : 1, \"bbb\" : 2, \"ccc\" : 3} # 딕셔너리\n",
    "\n",
    "print(li)\n",
    "print(type(li))\n",
    "print(set_)\n",
    "print(type(set_))\n",
    "print(tu)\n",
    "print(type(tu))\n",
    "print(dic)\n",
    "print(type(dic))"
   ]
  },
  {
   "cell_type": "markdown",
   "id": "abe88874",
   "metadata": {},
   "source": [
    "# 리스트(list)\n",
    "\n",
    "- 여러가지 자료를 저장할 수 있는 자료\n",
    "    - 지금까지 활용한 숫자나 문자, 수식 등이 개별적인 자료라면, 리스트는 이런 자료들을 모아서 사용할 수 있게 해주는 특별한 형태의 자료\n",
    "    \n",
    "- 리스트 생성하는 법 : 대괄호에 자료를 쉼표로 구분해서 입력\n",
    "    - [요소, 요소, 요소]\n",
    "    - 대괄호 내부에 넣는 자료를 요소(element)라고 함"
   ]
  },
  {
   "cell_type": "code",
   "execution_count": 3,
   "id": "8e59c06b",
   "metadata": {},
   "outputs": [],
   "source": [
    "# 숫자만으로 구성된 리스트\n",
    "list_num = [1, 2, 3, 4]\n",
    "\n",
    "# 문자열만으로 구성된 리스트\n",
    "list_str = [\"a\", \"b\", \"c\"]\n",
    "\n",
    "# 여러 자료형으로 구성된 리스트\n",
    "list_mix = [273, 32, 103, \"문자열\", True, False]"
   ]
  },
  {
   "cell_type": "code",
   "execution_count": 4,
   "id": "387d9682",
   "metadata": {},
   "outputs": [
    {
     "data": {
      "text/plain": [
       "1"
      ]
     },
     "execution_count": 4,
     "metadata": {},
     "output_type": "execute_result"
    }
   ],
   "source": [
    "# 인덱셍, 슬라이싱\n",
    "li[0]"
   ]
  },
  {
   "cell_type": "code",
   "execution_count": 5,
   "id": "ab61da88",
   "metadata": {},
   "outputs": [
    {
     "data": {
      "text/plain": [
       "5"
      ]
     },
     "execution_count": 5,
     "metadata": {},
     "output_type": "execute_result"
    }
   ],
   "source": [
    "li[-1]"
   ]
  },
  {
   "cell_type": "code",
   "execution_count": 6,
   "id": "2453064b",
   "metadata": {},
   "outputs": [
    {
     "data": {
      "text/plain": [
       "[1, 2, 3]"
      ]
     },
     "execution_count": 6,
     "metadata": {},
     "output_type": "execute_result"
    }
   ],
   "source": [
    "li[:3]"
   ]
  },
  {
   "cell_type": "code",
   "execution_count": 7,
   "id": "16d928a9",
   "metadata": {},
   "outputs": [],
   "source": [
    "# 이중리스트\n",
    "li=[1, 2, 3, [\"a\",\"b\",\"c\"]]"
   ]
  },
  {
   "cell_type": "code",
   "execution_count": 8,
   "id": "351c3394",
   "metadata": {},
   "outputs": [
    {
     "data": {
      "text/plain": [
       "['a', 'b', 'c']"
      ]
     },
     "execution_count": 8,
     "metadata": {},
     "output_type": "execute_result"
    }
   ],
   "source": [
    "li[-1]"
   ]
  },
  {
   "cell_type": "code",
   "execution_count": 9,
   "id": "28553f7e",
   "metadata": {},
   "outputs": [
    {
     "data": {
      "text/plain": [
       "'a'"
      ]
     },
     "execution_count": 9,
     "metadata": {},
     "output_type": "execute_result"
    }
   ],
   "source": [
    "['a', 'b', 'c'][0]"
   ]
  },
  {
   "cell_type": "code",
   "execution_count": 10,
   "id": "b9db428e",
   "metadata": {},
   "outputs": [
    {
     "data": {
      "text/plain": [
       "'a'"
      ]
     },
     "execution_count": 10,
     "metadata": {},
     "output_type": "execute_result"
    }
   ],
   "source": [
    "li[-1][0]"
   ]
  },
  {
   "cell_type": "code",
   "execution_count": 11,
   "id": "41c3792d",
   "metadata": {},
   "outputs": [
    {
     "data": {
      "text/plain": [
       "[3, ['a', 'b', 'c']]"
      ]
     },
     "execution_count": 11,
     "metadata": {},
     "output_type": "execute_result"
    }
   ],
   "source": [
    "li[2:]"
   ]
  },
  {
   "cell_type": "markdown",
   "id": "ffb34e36",
   "metadata": {},
   "source": [
    "## 리스트 연산\n",
    "\n",
    "- 문자열에 적용할 수 있는 연산자는 리스트에도 활용할 수 있음"
   ]
  },
  {
   "cell_type": "code",
   "execution_count": 12,
   "id": "497d1795",
   "metadata": {},
   "outputs": [
    {
     "data": {
      "text/plain": [
       "[1, 2, 3, 4, 5, 6]"
      ]
     },
     "execution_count": 12,
     "metadata": {},
     "output_type": "execute_result"
    }
   ],
   "source": [
    "# 리스트 병합\n",
    "a=[1,2,3]\n",
    "b=[4,5,6]\n",
    "\n",
    "a+b"
   ]
  },
  {
   "cell_type": "code",
   "execution_count": 13,
   "id": "7d395182",
   "metadata": {},
   "outputs": [
    {
     "data": {
      "text/plain": [
       "[1, 2, 3]"
      ]
     },
     "execution_count": 13,
     "metadata": {},
     "output_type": "execute_result"
    }
   ],
   "source": [
    "a"
   ]
  },
  {
   "cell_type": "code",
   "execution_count": 14,
   "id": "bbc4585b",
   "metadata": {},
   "outputs": [
    {
     "data": {
      "text/plain": [
       "[1, 2, 3, 1, 2, 3]"
      ]
     },
     "execution_count": 14,
     "metadata": {},
     "output_type": "execute_result"
    }
   ],
   "source": [
    "# 리스트 반복\n",
    "a*2"
   ]
  },
  {
   "cell_type": "markdown",
   "id": "b71f6b3c",
   "metadata": {},
   "source": [
    "## 리스트 수정, 삭제"
   ]
  },
  {
   "cell_type": "code",
   "execution_count": 23,
   "id": "fe077381",
   "metadata": {},
   "outputs": [],
   "source": [
    "li=[1, 2, 3, [\"a\",\"b\",\"c\"]]"
   ]
  },
  {
   "cell_type": "code",
   "execution_count": 24,
   "id": "f98b88f0",
   "metadata": {},
   "outputs": [],
   "source": [
    "# 요소를 인덱스로 삭제\n",
    "\n",
    "del li[-1] # 슬라이싱도 사용 가능"
   ]
  },
  {
   "cell_type": "code",
   "execution_count": 25,
   "id": "f89f9f48",
   "metadata": {},
   "outputs": [
    {
     "data": {
      "text/plain": [
       "[1, 2, 3]"
      ]
     },
     "execution_count": 25,
     "metadata": {},
     "output_type": "execute_result"
    }
   ],
   "source": [
    "li"
   ]
  },
  {
   "cell_type": "code",
   "execution_count": null,
   "id": "f29674a1",
   "metadata": {},
   "outputs": [],
   "source": [
    "# 파괴적 : 원본데이터를 바꾸는 것\n",
    "# 비파괴적(기본상태) : 원본상태 그대로 유지하는 것"
   ]
  },
  {
   "cell_type": "code",
   "execution_count": 27,
   "id": "1f9ac07d",
   "metadata": {},
   "outputs": [],
   "source": [
    "# 수정\n",
    "\n",
    "li[2] =4"
   ]
  },
  {
   "cell_type": "code",
   "execution_count": 28,
   "id": "e51a123a",
   "metadata": {},
   "outputs": [
    {
     "data": {
      "text/plain": [
       "[1, 2, 4]"
      ]
     },
     "execution_count": 28,
     "metadata": {},
     "output_type": "execute_result"
    }
   ],
   "source": [
    "li"
   ]
  },
  {
   "cell_type": "code",
   "execution_count": 29,
   "id": "77f7fbfe",
   "metadata": {},
   "outputs": [],
   "source": [
    "# remove 함수를 이용한 삭제 (특정값을 삭제)\n",
    "\n",
    "li.remove(4)"
   ]
  },
  {
   "cell_type": "code",
   "execution_count": 30,
   "id": "e2d1a14c",
   "metadata": {},
   "outputs": [
    {
     "data": {
      "text/plain": [
       "[1, 2]"
      ]
     },
     "execution_count": 30,
     "metadata": {},
     "output_type": "execute_result"
    }
   ],
   "source": [
    "li"
   ]
  },
  {
   "cell_type": "code",
   "execution_count": 31,
   "id": "037c608d",
   "metadata": {},
   "outputs": [
    {
     "data": {
      "text/plain": [
       "[1, 2, 1, 2, 3]"
      ]
     },
     "execution_count": 31,
     "metadata": {},
     "output_type": "execute_result"
    }
   ],
   "source": [
    "# remove 함수는 리스트에서 첫 번째로 나오는 특정 요소를 삭제하는 함수\n",
    "\n",
    "li = [1, 2, 3, 1, 2, 3]\n",
    "\n",
    "li.remove(3)\n",
    "\n",
    "li"
   ]
  },
  {
   "cell_type": "code",
   "execution_count": 32,
   "id": "156edfe7",
   "metadata": {},
   "outputs": [
    {
     "data": {
      "text/plain": [
       "3"
      ]
     },
     "execution_count": 32,
     "metadata": {},
     "output_type": "execute_result"
    }
   ],
   "source": [
    "# pop 함수를 이용한 삭제\n",
    "# 제거할 위치를 입력하지 않으면 기본값(-1)을 적용해서 리스트의 맨 마지막 요소를\n",
    "# 반환하고 해당 요소를 삭제\n",
    "\n",
    "li = [1,2,3]\n",
    "\n",
    "li.pop()"
   ]
  },
  {
   "cell_type": "code",
   "execution_count": 33,
   "id": "e1c44caa",
   "metadata": {},
   "outputs": [
    {
     "data": {
      "text/plain": [
       "[1, 2]"
      ]
     },
     "execution_count": 33,
     "metadata": {},
     "output_type": "execute_result"
    }
   ],
   "source": [
    "li"
   ]
  },
  {
   "cell_type": "code",
   "execution_count": 34,
   "id": "905a63e2",
   "metadata": {},
   "outputs": [
    {
     "data": {
      "text/plain": [
       "2"
      ]
     },
     "execution_count": 34,
     "metadata": {},
     "output_type": "execute_result"
    }
   ],
   "source": [
    "# 특정 인덱스의 요소를 반환하는 것도 가능\n",
    "\n",
    "li=[1,2,3]\n",
    "\n",
    "li.pop(1)"
   ]
  },
  {
   "cell_type": "code",
   "execution_count": 35,
   "id": "d9dba436",
   "metadata": {},
   "outputs": [
    {
     "data": {
      "text/plain": [
       "[1, 3]"
      ]
     },
     "execution_count": 35,
     "metadata": {},
     "output_type": "execute_result"
    }
   ],
   "source": [
    "li"
   ]
  },
  {
   "cell_type": "markdown",
   "id": "40f5f7eb",
   "metadata": {},
   "source": [
    "## 리스트 관련 함수"
   ]
  },
  {
   "cell_type": "code",
   "execution_count": 37,
   "id": "8e05fa7b",
   "metadata": {},
   "outputs": [],
   "source": [
    "# 요소 추가\n",
    "# 리스트 뒤에 요소를 추가\n",
    "\n",
    "li.append(5)"
   ]
  },
  {
   "cell_type": "code",
   "execution_count": 38,
   "id": "05d8953f",
   "metadata": {},
   "outputs": [
    {
     "data": {
      "text/plain": [
       "[1, 3, 5]"
      ]
     },
     "execution_count": 38,
     "metadata": {},
     "output_type": "execute_result"
    }
   ],
   "source": [
    "li"
   ]
  },
  {
   "cell_type": "code",
   "execution_count": 39,
   "id": "c43665c4",
   "metadata": {},
   "outputs": [],
   "source": [
    "li.append([1,2,3])"
   ]
  },
  {
   "cell_type": "code",
   "execution_count": 40,
   "id": "a0671d8d",
   "metadata": {},
   "outputs": [
    {
     "data": {
      "text/plain": [
       "[1, 3, 5, [1, 2, 3]]"
      ]
     },
     "execution_count": 40,
     "metadata": {},
     "output_type": "execute_result"
    }
   ],
   "source": [
    "li"
   ]
  },
  {
   "cell_type": "code",
   "execution_count": 41,
   "id": "bb243b03",
   "metadata": {},
   "outputs": [],
   "source": [
    "# 요소 삽입\n",
    "# 괄호 안에서 정한 위치에 요소를 삽입\n",
    "# 해당 위치의 요소는 뒤로 하나씩 밀림\n",
    "\n",
    "li = [1,2,3]\n",
    "\n",
    "li.insert(0,4)"
   ]
  },
  {
   "cell_type": "code",
   "execution_count": 42,
   "id": "56c937c5",
   "metadata": {},
   "outputs": [
    {
     "data": {
      "text/plain": [
       "[4, 1, 2, 3]"
      ]
     },
     "execution_count": 42,
     "metadata": {},
     "output_type": "execute_result"
    }
   ],
   "source": [
    "li  # 0번째 자리에 4추가"
   ]
  },
  {
   "cell_type": "code",
   "execution_count": 43,
   "id": "1b58f30c",
   "metadata": {},
   "outputs": [
    {
     "data": {
      "text/plain": [
       "[4, 1, 2, 3]"
      ]
     },
     "execution_count": 43,
     "metadata": {},
     "output_type": "execute_result"
    }
   ],
   "source": [
    "# 리스트 확장\n",
    "# 리스트 뒤에 새로운 리스트의 요소를 모두 추가\n",
    "# 한 번에 여러 요소를 추가하고 싶을 때 사용\n",
    "\n",
    "li"
   ]
  },
  {
   "cell_type": "code",
   "execution_count": 44,
   "id": "165366e1",
   "metadata": {},
   "outputs": [],
   "source": [
    "li.extend([4,5])"
   ]
  },
  {
   "cell_type": "code",
   "execution_count": 45,
   "id": "469412db",
   "metadata": {},
   "outputs": [
    {
     "data": {
      "text/plain": [
       "[4, 1, 2, 3, 4, 5]"
      ]
     },
     "execution_count": 45,
     "metadata": {},
     "output_type": "execute_result"
    }
   ],
   "source": [
    "li"
   ]
  },
  {
   "cell_type": "markdown",
   "id": "70cd830b",
   "metadata": {},
   "source": [
    "#### 리스트 연결 연산자와 리스트 확장의 차이\n",
    "\n",
    "- 공통점\n",
    "    - 리스트 연결 연산자와 extend() 함수는 비슷한 형태로 동작\n",
    "        - 리스트와 리스트를 연결\n",
    "\n",
    "- 차이점\n",
    "    - 리스트 연결 연산자(+)는 원본 리스트에 아무런 영향을 주지 않음\n",
    "        - 비파괴적\n",
    "    - extend() 함수는 원본 리스트에 직접적인 영향을 줌\n",
    "        - 파괴적\n",
    "       \n",
    "- 기본적으로 자료는 비파괴적으로 사용하는 것이 편리\n",
    "    - 원본으로도 활용할 수 있고 새로운 결과도 활용할 수 있으므로 선택지가 더 넓어서\n",
    "    - 따라서 기본 자료형(숫자, 문자열, 불)과 관련된 것을은 비파괴적으로 작동\n",
    "    \n",
    "- 하지만 리스트는 용량이 매우 커질 수 있음\n",
    "    - 용량이 얼마나 커질 지 알 수 없기 때문에 원본과 두가지 상태를 다 생성하는 것은 위험할 수 있음\n",
    "    - 이런 경우 원본 데이터를 직접 조작하는 기능을 통해 위험을 회피"
   ]
  },
  {
   "cell_type": "code",
   "execution_count": 46,
   "id": "52b97c71",
   "metadata": {},
   "outputs": [],
   "source": [
    "# 리스트 오름차순 정렬\n",
    "\n",
    "li = [1,4,3,2]\n",
    "li.sort()"
   ]
  },
  {
   "cell_type": "code",
   "execution_count": 47,
   "id": "a445e12e",
   "metadata": {},
   "outputs": [
    {
     "data": {
      "text/plain": [
       "[1, 2, 3, 4]"
      ]
     },
     "execution_count": 47,
     "metadata": {},
     "output_type": "execute_result"
    }
   ],
   "source": [
    "li"
   ]
  },
  {
   "cell_type": "code",
   "execution_count": 48,
   "id": "0f4738b8",
   "metadata": {},
   "outputs": [
    {
     "data": {
      "text/plain": [
       "[4, 3, 2, 1]"
      ]
     },
     "execution_count": 48,
     "metadata": {},
     "output_type": "execute_result"
    }
   ],
   "source": [
    "# 내림차순 정렬\n",
    "\n",
    "li.sort(reverse = True)\n",
    "li"
   ]
  },
  {
   "cell_type": "code",
   "execution_count": 49,
   "id": "e0e6436f",
   "metadata": {},
   "outputs": [],
   "source": [
    "# 리스트 뒤집기\n",
    "\n",
    "li = [\"a\", \"c\", \"b\", \"d\"]\n",
    "li.reverse()"
   ]
  },
  {
   "cell_type": "code",
   "execution_count": 50,
   "id": "aaa1782e",
   "metadata": {},
   "outputs": [
    {
     "data": {
      "text/plain": [
       "['d', 'b', 'c', 'a']"
      ]
     },
     "execution_count": 50,
     "metadata": {},
     "output_type": "execute_result"
    }
   ],
   "source": [
    "li"
   ]
  },
  {
   "cell_type": "code",
   "execution_count": 51,
   "id": "73bb7706",
   "metadata": {},
   "outputs": [
    {
     "data": {
      "text/plain": [
       "['a', 'c', 'b', 'd']"
      ]
     },
     "execution_count": 51,
     "metadata": {},
     "output_type": "execute_result"
    }
   ],
   "source": [
    "li[::-1]"
   ]
  },
  {
   "cell_type": "code",
   "execution_count": 52,
   "id": "8b3b1694",
   "metadata": {},
   "outputs": [
    {
     "data": {
      "text/plain": [
       "['d', 'b', 'c', 'a']"
      ]
     },
     "execution_count": 52,
     "metadata": {},
     "output_type": "execute_result"
    }
   ],
   "source": [
    "li"
   ]
  },
  {
   "cell_type": "code",
   "execution_count": 53,
   "id": "bad5bfdb",
   "metadata": {},
   "outputs": [
    {
     "data": {
      "text/plain": [
       "2"
      ]
     },
     "execution_count": 53,
     "metadata": {},
     "output_type": "execute_result"
    }
   ],
   "source": [
    "# 위치 반환\n",
    "li = [1,2,3]\n",
    "li.index(3)"
   ]
  },
  {
   "cell_type": "code",
   "execution_count": 54,
   "id": "01afb131",
   "metadata": {},
   "outputs": [
    {
     "data": {
      "text/plain": [
       "2"
      ]
     },
     "execution_count": 54,
     "metadata": {},
     "output_type": "execute_result"
    }
   ],
   "source": [
    "# 리스트에 포함된 요소의 개수\n",
    "\n",
    "li = [1,2,3,1]\n",
    "li.count(1)"
   ]
  },
  {
   "cell_type": "code",
   "execution_count": 55,
   "id": "88f6149d",
   "metadata": {},
   "outputs": [
    {
     "data": {
      "text/plain": [
       "4"
      ]
     },
     "execution_count": 55,
     "metadata": {},
     "output_type": "execute_result"
    }
   ],
   "source": [
    "# 리스트의 길이 구하기\n",
    "\n",
    "len(li)"
   ]
  },
  {
   "cell_type": "code",
   "execution_count": 56,
   "id": "4ecc8e06",
   "metadata": {},
   "outputs": [],
   "source": [
    "# 리스트 내부 요소를 모두 제거\n",
    "li.clear()"
   ]
  },
  {
   "cell_type": "code",
   "execution_count": 57,
   "id": "533867e7",
   "metadata": {},
   "outputs": [
    {
     "data": {
      "text/plain": [
       "[]"
      ]
     },
     "execution_count": 57,
     "metadata": {},
     "output_type": "execute_result"
    }
   ],
   "source": [
    "li"
   ]
  },
  {
   "cell_type": "markdown",
   "id": "55dc78e9",
   "metadata": {},
   "source": [
    "####  확인문제\n",
    "\n",
    "- list_a를 적절하게 가공하여 문제에서 제시하는 데이터 만들기\n"
   ]
  },
  {
   "cell_type": "code",
   "execution_count": 58,
   "id": "3f01a068",
   "metadata": {},
   "outputs": [
    {
     "data": {
      "text/plain": [
       "[0, 1, 2, 3, 4, 5, 0, 1, 2, 3, 4, 5]"
      ]
     },
     "execution_count": 58,
     "metadata": {},
     "output_type": "execute_result"
    }
   ],
   "source": [
    "# 1. [0,1,2,3,4,5,0,1,2,3,4,5]\n",
    "list_a=[0,1,2,3,4,5]\n",
    "\n",
    "list_a *2"
   ]
  },
  {
   "cell_type": "code",
   "execution_count": 77,
   "id": "140513df",
   "metadata": {},
   "outputs": [
    {
     "data": {
      "text/plain": [
       "[0, 1, 2, 3, 4, 5, 10]"
      ]
     },
     "execution_count": 77,
     "metadata": {},
     "output_type": "execute_result"
    }
   ],
   "source": [
    "# 2. [0,1,2,3,4,5,10]\n",
    "list_a=[0,1,2,3,4,5]\n",
    "\n",
    "list_a + [10]  # list.append(10)"
   ]
  },
  {
   "cell_type": "code",
   "execution_count": 69,
   "id": "4b4ea639",
   "metadata": {},
   "outputs": [
    {
     "data": {
      "text/plain": [
       "[0, 1, 2, 0, 3, 4, 5]"
      ]
     },
     "execution_count": 69,
     "metadata": {},
     "output_type": "execute_result"
    }
   ],
   "source": [
    "# 3. [0,1,2,0,3,4,5]\n",
    "list_a=[0,1,2,3,4,5]\n",
    "\n",
    "list_a.insert(3, 0)\n",
    "list_a"
   ]
  },
  {
   "cell_type": "code",
   "execution_count": 71,
   "id": "7dea46b8",
   "metadata": {},
   "outputs": [
    {
     "data": {
      "text/plain": [
       "[0, 1, 2, 4, 5]"
      ]
     },
     "execution_count": 71,
     "metadata": {},
     "output_type": "execute_result"
    }
   ],
   "source": [
    "# 4. [0,1,2,4,5]\n",
    "list_a=[0,1,2,3,4,5]\n",
    "\n",
    "list_a.remove(3)  # 3이라는 값을 지울 늬앙스\n",
    "\n",
    "list_a "
   ]
  },
  {
   "cell_type": "code",
   "execution_count": 75,
   "id": "3caba7d4",
   "metadata": {},
   "outputs": [
    {
     "data": {
      "text/plain": [
       "[0, 1, 2, 3, 4]"
      ]
     },
     "execution_count": 75,
     "metadata": {},
     "output_type": "execute_result"
    }
   ],
   "source": [
    "# 5. [0,1,2,3,4]\n",
    "list_a=[0,1,2,3,4,5]\n",
    "\n",
    "del list_a[-1] \n",
    "list_a   # list_a.pop() -> 끝 자리 수를 없애고 싶다 늬앙스"
   ]
  },
  {
   "cell_type": "markdown",
   "id": "bbf43da3",
   "metadata": {},
   "source": [
    "# 튜플\n",
    "\n",
    "- 리스트와 유사하지만 튜플은 값의 추가, 삭제, 수정이 불가하다\n",
    "    - 프로그램이 실행되는 동안 값이 변하면 안되는 경우 주로 사용"
   ]
  },
  {
   "cell_type": "code",
   "execution_count": 78,
   "id": "9cdb25a1",
   "metadata": {},
   "outputs": [
    {
     "data": {
      "text/plain": [
       "(2, 2, 3, 4, 5)"
      ]
     },
     "execution_count": 78,
     "metadata": {},
     "output_type": "execute_result"
    }
   ],
   "source": [
    "tu"
   ]
  },
  {
   "cell_type": "code",
   "execution_count": 79,
   "id": "27b605d3",
   "metadata": {},
   "outputs": [
    {
     "data": {
      "text/plain": [
       "int"
      ]
     },
     "execution_count": 79,
     "metadata": {},
     "output_type": "execute_result"
    }
   ],
   "source": [
    "type((2+3))"
   ]
  },
  {
   "cell_type": "code",
   "execution_count": 81,
   "id": "357467cb",
   "metadata": {},
   "outputs": [
    {
     "data": {
      "text/plain": [
       "tuple"
      ]
     },
     "execution_count": 81,
     "metadata": {},
     "output_type": "execute_result"
    }
   ],
   "source": [
    "type((2+3, ))"
   ]
  },
  {
   "cell_type": "code",
   "execution_count": 82,
   "id": "f2027cc7",
   "metadata": {},
   "outputs": [
    {
     "ename": "TypeError",
     "evalue": "'tuple' object doesn't support item deletion",
     "output_type": "error",
     "traceback": [
      "\u001b[1;31m---------------------------------------------------------------------------\u001b[0m",
      "\u001b[1;31mTypeError\u001b[0m                                 Traceback (most recent call last)",
      "Cell \u001b[1;32mIn[82], line 1\u001b[0m\n\u001b[1;32m----> 1\u001b[0m \u001b[38;5;28;01mdel\u001b[39;00m tu[\u001b[38;5;241m0\u001b[39m]\n",
      "\u001b[1;31mTypeError\u001b[0m: 'tuple' object doesn't support item deletion"
     ]
    }
   ],
   "source": [
    "del tu[0]"
   ]
  },
  {
   "cell_type": "code",
   "execution_count": 84,
   "id": "83d6e590",
   "metadata": {},
   "outputs": [
    {
     "ename": "TypeError",
     "evalue": "'tuple' object does not support item assignment",
     "output_type": "error",
     "traceback": [
      "\u001b[1;31m---------------------------------------------------------------------------\u001b[0m",
      "\u001b[1;31mTypeError\u001b[0m                                 Traceback (most recent call last)",
      "Cell \u001b[1;32mIn[84], line 1\u001b[0m\n\u001b[1;32m----> 1\u001b[0m tu[\u001b[38;5;241m0\u001b[39m] \u001b[38;5;241m=\u001b[39m \u001b[38;5;241m0\u001b[39m\n",
      "\u001b[1;31mTypeError\u001b[0m: 'tuple' object does not support item assignment"
     ]
    }
   ],
   "source": [
    "tu[0] = 0"
   ]
  },
  {
   "cell_type": "markdown",
   "id": "f206f0f2",
   "metadata": {},
   "source": [
    "## 인덱싱, 슬라이싱"
   ]
  },
  {
   "cell_type": "code",
   "execution_count": 85,
   "id": "3731c805",
   "metadata": {},
   "outputs": [
    {
     "data": {
      "text/plain": [
       "2"
      ]
     },
     "execution_count": 85,
     "metadata": {},
     "output_type": "execute_result"
    }
   ],
   "source": [
    "tu[0]"
   ]
  },
  {
   "cell_type": "code",
   "execution_count": 86,
   "id": "1d40eb93",
   "metadata": {},
   "outputs": [
    {
     "data": {
      "text/plain": [
       "(2, 3, 4, 5)"
      ]
     },
     "execution_count": 86,
     "metadata": {},
     "output_type": "execute_result"
    }
   ],
   "source": [
    "tu[1:]"
   ]
  },
  {
   "cell_type": "code",
   "execution_count": 87,
   "id": "d259ceb1",
   "metadata": {},
   "outputs": [
    {
     "data": {
      "text/plain": [
       "(2, 2, 3, 4, 5)"
      ]
     },
     "execution_count": 87,
     "metadata": {},
     "output_type": "execute_result"
    }
   ],
   "source": [
    "tu"
   ]
  },
  {
   "cell_type": "markdown",
   "id": "c2f8cc56",
   "metadata": {},
   "source": [
    "## 튜플 연산"
   ]
  },
  {
   "cell_type": "code",
   "execution_count": 88,
   "id": "193783fe",
   "metadata": {},
   "outputs": [
    {
     "data": {
      "text/plain": [
       "(1, 2, 3, 4)"
      ]
     },
     "execution_count": 88,
     "metadata": {},
     "output_type": "execute_result"
    }
   ],
   "source": [
    "tu1 = (1,2)\n",
    "tu2 = (3,4)\n",
    "\n",
    "tu1 + tu2"
   ]
  },
  {
   "cell_type": "code",
   "execution_count": 89,
   "id": "fe28a41c",
   "metadata": {},
   "outputs": [
    {
     "data": {
      "text/plain": [
       "(1, 2, 1, 2)"
      ]
     },
     "execution_count": 89,
     "metadata": {},
     "output_type": "execute_result"
    }
   ],
   "source": [
    "tu1 *2"
   ]
  },
  {
   "cell_type": "markdown",
   "id": "49d840d3",
   "metadata": {},
   "source": [
    "# 딕셔너리\n",
    "\n",
    "- 자료의 대응관계를 나타내는 자료형\n",
    "    - 연관 배열(Associative array) 또는 해시(Hash)\n",
    "    \n",
    "- 데이터를 조회할 때 key를 통해 value를 구함 {\"a\":1, \"b\" : 2}\n",
    "\n",
    "- 딕셔너리 선언\n",
    "    - 중괄호{}로 선언\n",
    "    - '키 : 값' 의 형태를 콤마(,)로 연결해서 만듦\n",
    "        - 키는 문자열, 숫자, 불 등으로 선언할 수 있지만 일반적으로는 문자열을 주로 사용\n",
    "        "
   ]
  },
  {
   "cell_type": "code",
   "execution_count": 91,
   "id": "73801a01",
   "metadata": {},
   "outputs": [],
   "source": [
    "dic = {\"name\" : \"andy\", \"birth\" : \"1118\"}"
   ]
  },
  {
   "cell_type": "code",
   "execution_count": 93,
   "id": "c02e55ce",
   "metadata": {},
   "outputs": [
    {
     "data": {
      "text/plain": [
       "'andy'"
      ]
     },
     "execution_count": 93,
     "metadata": {},
     "output_type": "execute_result"
    }
   ],
   "source": [
    "dic[\"name\"]"
   ]
  },
  {
   "cell_type": "code",
   "execution_count": 94,
   "id": "d086e060",
   "metadata": {},
   "outputs": [
    {
     "data": {
      "text/plain": [
       "'1118'"
      ]
     },
     "execution_count": 94,
     "metadata": {},
     "output_type": "execute_result"
    }
   ],
   "source": [
    "dic[\"birth\"]"
   ]
  },
  {
   "cell_type": "code",
   "execution_count": 96,
   "id": "95b8825f",
   "metadata": {},
   "outputs": [
    {
     "data": {
      "text/plain": [
       "{'a': [1, 2, 3]}"
      ]
     },
     "execution_count": 96,
     "metadata": {},
     "output_type": "execute_result"
    }
   ],
   "source": [
    "dic = {\"a\":[1,2,3]}\n",
    "dic"
   ]
  },
  {
   "cell_type": "code",
   "execution_count": 97,
   "id": "d8347f93",
   "metadata": {},
   "outputs": [
    {
     "data": {
      "text/plain": [
       "[1, 2, 3]"
      ]
     },
     "execution_count": 97,
     "metadata": {},
     "output_type": "execute_result"
    }
   ],
   "source": [
    "dic[\"a\"]"
   ]
  },
  {
   "cell_type": "code",
   "execution_count": 98,
   "id": "ccd1473d",
   "metadata": {},
   "outputs": [
    {
     "data": {
      "text/plain": [
       "3"
      ]
     },
     "execution_count": 98,
     "metadata": {},
     "output_type": "execute_result"
    }
   ],
   "source": [
    "dic[\"a\"][-1]"
   ]
  },
  {
   "cell_type": "markdown",
   "id": "4ac20dd8",
   "metadata": {},
   "source": [
    "## 딕셔너리 추가, 수정, 삭제 "
   ]
  },
  {
   "cell_type": "code",
   "execution_count": 99,
   "id": "52182216",
   "metadata": {},
   "outputs": [],
   "source": [
    "# 키를 기반으로 값을 입력\n",
    "dic[\"name\"] = \"andy\""
   ]
  },
  {
   "cell_type": "code",
   "execution_count": 100,
   "id": "9ce852a8",
   "metadata": {},
   "outputs": [
    {
     "data": {
      "text/plain": [
       "{'a': [1, 2, 3], 'name': 'andy'}"
      ]
     },
     "execution_count": 100,
     "metadata": {},
     "output_type": "execute_result"
    }
   ],
   "source": [
    "dic"
   ]
  },
  {
   "cell_type": "code",
   "execution_count": 102,
   "id": "e2318930",
   "metadata": {},
   "outputs": [],
   "source": [
    "# 이미 존재하는 키를 지정하고 값을 넣으면 기존의 값을 새로운 값으로 대체(수정)\n",
    "\n",
    "dic[\"name\"] = \"파인애플\"\n"
   ]
  },
  {
   "cell_type": "code",
   "execution_count": 103,
   "id": "ec5749a9",
   "metadata": {},
   "outputs": [
    {
     "data": {
      "text/plain": [
       "{'a': [1, 2, 3], 'name': '파인애플'}"
      ]
     },
     "execution_count": 103,
     "metadata": {},
     "output_type": "execute_result"
    }
   ],
   "source": [
    "dic"
   ]
  },
  {
   "cell_type": "code",
   "execution_count": 104,
   "id": "cd6e5434",
   "metadata": {},
   "outputs": [],
   "source": [
    "# 키의 값은 중복허용을 하지 않음"
   ]
  },
  {
   "cell_type": "code",
   "execution_count": 105,
   "id": "64b34c57",
   "metadata": {},
   "outputs": [],
   "source": [
    "# 삭제\n",
    "del dic[\"name\"]"
   ]
  },
  {
   "cell_type": "code",
   "execution_count": 106,
   "id": "ac23bdf8",
   "metadata": {},
   "outputs": [
    {
     "data": {
      "text/plain": [
       "{'a': [1, 2, 3]}"
      ]
     },
     "execution_count": 106,
     "metadata": {},
     "output_type": "execute_result"
    }
   ],
   "source": [
    "dic"
   ]
  },
  {
   "cell_type": "markdown",
   "id": "c37df24f",
   "metadata": {},
   "source": [
    "- 딕셔너리의 key는 고유한 값임\n",
    "    - 중복을 허용하지 않음\n",
    "    - 동일한 key가 존재하면 어떤 value를 불러와야할지 알 수 없기 때문에\n",
    "    "
   ]
  },
  {
   "cell_type": "code",
   "execution_count": 107,
   "id": "6ad286e3",
   "metadata": {},
   "outputs": [
    {
     "data": {
      "text/plain": [
       "{1: 'b'}"
      ]
     },
     "execution_count": 107,
     "metadata": {},
     "output_type": "execute_result"
    }
   ],
   "source": [
    "dic = {1 : \"a\", 1:\"b\"}\n",
    "\n",
    "dic"
   ]
  },
  {
   "cell_type": "markdown",
   "id": "47983c91",
   "metadata": {},
   "source": [
    "- 딕셔너리의 key 에 튜플은 쓸 수 있음\n",
    "    - 리스트는 쓸 수 없음\n",
    "    - 딕셔너리의 key의 요건은 변하지 않는 값(immutable)\n",
    "    "
   ]
  },
  {
   "cell_type": "code",
   "execution_count": 108,
   "id": "a97beccd",
   "metadata": {},
   "outputs": [
    {
     "ename": "TypeError",
     "evalue": "unhashable type: 'list'",
     "output_type": "error",
     "traceback": [
      "\u001b[1;31m---------------------------------------------------------------------------\u001b[0m",
      "\u001b[1;31mTypeError\u001b[0m                                 Traceback (most recent call last)",
      "Cell \u001b[1;32mIn[108], line 1\u001b[0m\n\u001b[1;32m----> 1\u001b[0m dic \u001b[38;5;241m=\u001b[39m {[\u001b[38;5;241m1\u001b[39m,\u001b[38;5;241m2\u001b[39m] : \u001b[38;5;124m\"\u001b[39m\u001b[38;5;124mhi\u001b[39m\u001b[38;5;124m\"\u001b[39m}\n",
      "\u001b[1;31mTypeError\u001b[0m: unhashable type: 'list'"
     ]
    }
   ],
   "source": [
    "dic = {[1,2] : \"hi\"}"
   ]
  },
  {
   "cell_type": "code",
   "execution_count": 109,
   "id": "86ff87d7",
   "metadata": {},
   "outputs": [],
   "source": [
    "dic ={(1,2) : \"hi\"}"
   ]
  },
  {
   "cell_type": "code",
   "execution_count": 110,
   "id": "33c3e329",
   "metadata": {},
   "outputs": [
    {
     "data": {
      "text/plain": [
       "{(1, 2): 'hi'}"
      ]
     },
     "execution_count": 110,
     "metadata": {},
     "output_type": "execute_result"
    }
   ],
   "source": [
    "dic"
   ]
  },
  {
   "cell_type": "code",
   "execution_count": 111,
   "id": "ea797071",
   "metadata": {},
   "outputs": [
    {
     "data": {
      "text/plain": [
       "'hi'"
      ]
     },
     "execution_count": 111,
     "metadata": {},
     "output_type": "execute_result"
    }
   ],
   "source": [
    "dic[(1,2)]"
   ]
  },
  {
   "cell_type": "markdown",
   "id": "9c997806",
   "metadata": {},
   "source": [
    "## 딕셔너리 관련 함수"
   ]
  },
  {
   "cell_type": "markdown",
   "id": "dd5b968c",
   "metadata": {},
   "source": [
    "- key, value, item 리스트"
   ]
  },
  {
   "cell_type": "code",
   "execution_count": 112,
   "id": "d8650041",
   "metadata": {},
   "outputs": [],
   "source": [
    "dic = {\"name\" : \"andy\", \"phone\" : \"01199991234\", \"birth\":\"1118\"}"
   ]
  },
  {
   "cell_type": "code",
   "execution_count": 113,
   "id": "8f138e6d",
   "metadata": {},
   "outputs": [
    {
     "data": {
      "text/plain": [
       "dict_keys(['name', 'phone', 'birth'])"
      ]
     },
     "execution_count": 113,
     "metadata": {},
     "output_type": "execute_result"
    }
   ],
   "source": [
    "dic.keys()"
   ]
  },
  {
   "cell_type": "code",
   "execution_count": 114,
   "id": "66b75f45",
   "metadata": {},
   "outputs": [
    {
     "data": {
      "text/plain": [
       "dict_values(['andy', '01199991234', '1118'])"
      ]
     },
     "execution_count": 114,
     "metadata": {},
     "output_type": "execute_result"
    }
   ],
   "source": [
    "dic.values()"
   ]
  },
  {
   "cell_type": "code",
   "execution_count": 115,
   "id": "5cfb5b66",
   "metadata": {},
   "outputs": [
    {
     "data": {
      "text/plain": [
       "dict_items([('name', 'andy'), ('phone', '01199991234'), ('birth', '1118')])"
      ]
     },
     "execution_count": 115,
     "metadata": {},
     "output_type": "execute_result"
    }
   ],
   "source": [
    "dic.items()"
   ]
  },
  {
   "cell_type": "markdown",
   "id": "0795410b",
   "metadata": {},
   "source": [
    "- get으로 value 얻기\n",
    "    - 존재하지 않는 키로 값을 가져오려고 할 경우 오류가 발생함\n",
    "        - get으로 key가 없을 경우 기본값을 대신 가져오게 할 수 있음"
   ]
  },
  {
   "cell_type": "code",
   "execution_count": 116,
   "id": "cea4501d",
   "metadata": {},
   "outputs": [
    {
     "ename": "KeyError",
     "evalue": "'foo'",
     "output_type": "error",
     "traceback": [
      "\u001b[1;31m---------------------------------------------------------------------------\u001b[0m",
      "\u001b[1;31mKeyError\u001b[0m                                  Traceback (most recent call last)",
      "Cell \u001b[1;32mIn[116], line 1\u001b[0m\n\u001b[1;32m----> 1\u001b[0m dic[\u001b[38;5;124m\"\u001b[39m\u001b[38;5;124mfoo\u001b[39m\u001b[38;5;124m\"\u001b[39m]\n",
      "\u001b[1;31mKeyError\u001b[0m: 'foo'"
     ]
    }
   ],
   "source": [
    "dic[\"foo\"]"
   ]
  },
  {
   "cell_type": "code",
   "execution_count": 117,
   "id": "fdad03f6",
   "metadata": {},
   "outputs": [
    {
     "data": {
      "text/plain": [
       "'bar'"
      ]
     },
     "execution_count": 117,
     "metadata": {},
     "output_type": "execute_result"
    }
   ],
   "source": [
    "dic.get(\"foo\", \"bar\")"
   ]
  },
  {
   "cell_type": "code",
   "execution_count": 118,
   "id": "53621d2f",
   "metadata": {},
   "outputs": [
    {
     "data": {
      "text/plain": [
       "'andy'"
      ]
     },
     "execution_count": 118,
     "metadata": {},
     "output_type": "execute_result"
    }
   ],
   "source": [
    "dic.get(\"name\", \"bar\")"
   ]
  },
  {
   "cell_type": "markdown",
   "id": "56030e0e",
   "metadata": {},
   "source": [
    "- 해당 key가 딕셔너리 안에 있는지 조사하기"
   ]
  },
  {
   "cell_type": "code",
   "execution_count": 119,
   "id": "98bb9061",
   "metadata": {},
   "outputs": [
    {
     "data": {
      "text/plain": [
       "{'name': 'andy', 'phone': '01199991234', 'birth': '1118'}"
      ]
     },
     "execution_count": 119,
     "metadata": {},
     "output_type": "execute_result"
    }
   ],
   "source": [
    "dic"
   ]
  },
  {
   "cell_type": "code",
   "execution_count": 120,
   "id": "ec529a25",
   "metadata": {},
   "outputs": [
    {
     "data": {
      "text/plain": [
       "True"
      ]
     },
     "execution_count": 120,
     "metadata": {},
     "output_type": "execute_result"
    }
   ],
   "source": [
    "\"name\" in dic"
   ]
  },
  {
   "cell_type": "code",
   "execution_count": 121,
   "id": "e4c47641",
   "metadata": {},
   "outputs": [
    {
     "data": {
      "text/plain": [
       "False"
      ]
     },
     "execution_count": 121,
     "metadata": {},
     "output_type": "execute_result"
    }
   ],
   "source": [
    "\"birth\" not in dic"
   ]
  },
  {
   "cell_type": "code",
   "execution_count": 122,
   "id": "d34bb374",
   "metadata": {},
   "outputs": [
    {
     "data": {
      "text/plain": [
       "False"
      ]
     },
     "execution_count": 122,
     "metadata": {},
     "output_type": "execute_result"
    }
   ],
   "source": [
    "\"email\" in dic"
   ]
  },
  {
   "cell_type": "markdown",
   "id": "fa8cc537",
   "metadata": {},
   "source": [
    " ##### 확인 문제"
   ]
  },
  {
   "cell_type": "code",
   "execution_count": 123,
   "id": "3b7d7153",
   "metadata": {},
   "outputs": [],
   "source": [
    "# 다음의 pets 데이터에서 \"구름\"과 3을 각각 출력해보기\n",
    "\n",
    "pets =[\n",
    "    {\"name\" : \"구름\", \"age\" : 5},\n",
    "    {\"name\" : \"초코\", \"age\" : 3},\n",
    "    {\"name\" : \"아지\", \"age\" : 1},\n",
    "    {\"name\" : \"호랑이\", \"age\" : 2}\n",
    "]"
   ]
  },
  {
   "cell_type": "code",
   "execution_count": 136,
   "id": "591ff1ca",
   "metadata": {},
   "outputs": [
    {
     "name": "stdout",
     "output_type": "stream",
     "text": [
      "<class 'list'>\n",
      "구름\n",
      "3\n"
     ]
    }
   ],
   "source": [
    "print(type(pets))\n",
    "print(pets[0][\"name\"])\n",
    "print(pets[1][\"age\"])"
   ]
  },
  {
   "cell_type": "markdown",
   "id": "2ab6c8b1",
   "metadata": {},
   "source": [
    "# 세트\n",
    "\n",
    "- 중복을 허용하지 않음\n",
    "- 순서가 없음"
   ]
  },
  {
   "cell_type": "code",
   "execution_count": 137,
   "id": "e6384ee5",
   "metadata": {},
   "outputs": [],
   "source": [
    "se1 = set(\"Hello\")"
   ]
  },
  {
   "cell_type": "code",
   "execution_count": 138,
   "id": "a6b07115",
   "metadata": {},
   "outputs": [
    {
     "data": {
      "text/plain": [
       "{'H', 'e', 'l', 'o'}"
      ]
     },
     "execution_count": 138,
     "metadata": {},
     "output_type": "execute_result"
    }
   ],
   "source": [
    "se1"
   ]
  },
  {
   "cell_type": "markdown",
   "id": "08a8fbb3",
   "metadata": {},
   "source": [
    "- 교집합, 합집합, 차집합"
   ]
  },
  {
   "cell_type": "code",
   "execution_count": 140,
   "id": "442c67ce",
   "metadata": {},
   "outputs": [],
   "source": [
    "set1 = {1,2,3,4,5,6}\n",
    "set2 = {4,5,6,7,8,9}"
   ]
  },
  {
   "cell_type": "code",
   "execution_count": 141,
   "id": "708ae115",
   "metadata": {},
   "outputs": [
    {
     "data": {
      "text/plain": [
       "{4, 5, 6}"
      ]
     },
     "execution_count": 141,
     "metadata": {},
     "output_type": "execute_result"
    }
   ],
   "source": [
    "# 교집합\n",
    "\n",
    "set1 & set2"
   ]
  },
  {
   "cell_type": "code",
   "execution_count": 144,
   "id": "0a59f77d",
   "metadata": {},
   "outputs": [
    {
     "data": {
      "text/plain": [
       "{4, 5, 6}"
      ]
     },
     "execution_count": 144,
     "metadata": {},
     "output_type": "execute_result"
    }
   ],
   "source": [
    "set1.intersection(set2)"
   ]
  },
  {
   "cell_type": "code",
   "execution_count": 145,
   "id": "75692cb8",
   "metadata": {},
   "outputs": [
    {
     "data": {
      "text/plain": [
       "{1, 2, 3, 4, 5, 6, 7, 8, 9}"
      ]
     },
     "execution_count": 145,
     "metadata": {},
     "output_type": "execute_result"
    }
   ],
   "source": [
    "# 합집합\n",
    "\n",
    "set1 | set2"
   ]
  },
  {
   "cell_type": "code",
   "execution_count": 146,
   "id": "443faaf5",
   "metadata": {},
   "outputs": [
    {
     "data": {
      "text/plain": [
       "{1, 2, 3, 4, 5, 6, 7, 8, 9}"
      ]
     },
     "execution_count": 146,
     "metadata": {},
     "output_type": "execute_result"
    }
   ],
   "source": [
    "set1.union(set2)"
   ]
  },
  {
   "cell_type": "code",
   "execution_count": 147,
   "id": "30b8c0c2",
   "metadata": {},
   "outputs": [
    {
     "data": {
      "text/plain": [
       "{1, 2, 3}"
      ]
     },
     "execution_count": 147,
     "metadata": {},
     "output_type": "execute_result"
    }
   ],
   "source": [
    "# 차집합\n",
    "\n",
    "set1 - set2"
   ]
  },
  {
   "cell_type": "code",
   "execution_count": 148,
   "id": "1fb9c900",
   "metadata": {},
   "outputs": [
    {
     "data": {
      "text/plain": [
       "{7, 8, 9}"
      ]
     },
     "execution_count": 148,
     "metadata": {},
     "output_type": "execute_result"
    }
   ],
   "source": [
    "set2- set1"
   ]
  },
  {
   "cell_type": "code",
   "execution_count": 151,
   "id": "e09e8e07",
   "metadata": {},
   "outputs": [
    {
     "data": {
      "text/plain": [
       "{1, 2, 3}"
      ]
     },
     "execution_count": 151,
     "metadata": {},
     "output_type": "execute_result"
    }
   ],
   "source": [
    "set1.difference(set2)"
   ]
  },
  {
   "cell_type": "code",
   "execution_count": 152,
   "id": "9ffff162",
   "metadata": {},
   "outputs": [
    {
     "data": {
      "text/plain": [
       "{7, 8, 9}"
      ]
     },
     "execution_count": 152,
     "metadata": {},
     "output_type": "execute_result"
    }
   ],
   "source": [
    "set2.difference(set1)"
   ]
  },
  {
   "cell_type": "markdown",
   "id": "097cf095",
   "metadata": {},
   "source": [
    "## 세트 관련 함수 "
   ]
  },
  {
   "cell_type": "code",
   "execution_count": 153,
   "id": "390f0b4c",
   "metadata": {},
   "outputs": [],
   "source": [
    "# 값 추가\n",
    "set1.add(7)"
   ]
  },
  {
   "cell_type": "code",
   "execution_count": 154,
   "id": "1b90e183",
   "metadata": {},
   "outputs": [
    {
     "data": {
      "text/plain": [
       "{1, 2, 3, 4, 5, 6, 7}"
      ]
     },
     "execution_count": 154,
     "metadata": {},
     "output_type": "execute_result"
    }
   ],
   "source": [
    "set1"
   ]
  },
  {
   "cell_type": "code",
   "execution_count": 155,
   "id": "cb3068d2",
   "metadata": {},
   "outputs": [],
   "source": [
    "# 제거\n",
    "set1.remove(2)"
   ]
  },
  {
   "cell_type": "code",
   "execution_count": 156,
   "id": "70447fd5",
   "metadata": {},
   "outputs": [
    {
     "data": {
      "text/plain": [
       "{1, 3, 4, 5, 6, 7}"
      ]
     },
     "execution_count": 156,
     "metadata": {},
     "output_type": "execute_result"
    }
   ],
   "source": [
    "set1"
   ]
  },
  {
   "cell_type": "code",
   "execution_count": null,
   "id": "dfd49333",
   "metadata": {},
   "outputs": [],
   "source": []
  },
  {
   "cell_type": "code",
   "execution_count": null,
   "id": "db2bae7c",
   "metadata": {},
   "outputs": [],
   "source": []
  },
  {
   "cell_type": "code",
   "execution_count": null,
   "id": "ae6a9a5f",
   "metadata": {},
   "outputs": [],
   "source": []
  }
 ],
 "metadata": {
  "kernelspec": {
   "display_name": "Python 3 (ipykernel)",
   "language": "python",
   "name": "python3"
  },
  "language_info": {
   "codemirror_mode": {
    "name": "ipython",
    "version": 3
   },
   "file_extension": ".py",
   "mimetype": "text/x-python",
   "name": "python",
   "nbconvert_exporter": "python",
   "pygments_lexer": "ipython3",
   "version": "3.11.5"
  }
 },
 "nbformat": 4,
 "nbformat_minor": 5
}
