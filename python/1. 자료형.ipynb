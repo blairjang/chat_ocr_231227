{
 "cells": [
  {
   "cell_type": "markdown",
   "id": "ce2bce1e",
   "metadata": {},
   "source": [
    "# 자료형\n",
    "\n",
    "- 자료(data) : 프로그램이 처리할 수 있는 모든 것\n",
    "- 자료형(data type) : 자료를 개발자들이 쉽게 사용할 수 있도록 기능과 역할에 따라서 구분한 종료\n",
    "    - 문자열(string) : 메일 제목, 메세지 내용 등\n",
    "        - 예) \"안녕하세요\", \"Hello, World!\"\n",
    "    -  숫자(number) : 물건의 가격, 학생의 성적 등\n",
    "        - 예) 52, 273 (# int), 103.32 (# float)\n",
    "    - 불(boolean) : 사용자의 로그인 상태 등\n",
    "        - 예) True, False"
   ]
  },
  {
   "cell_type": "markdown",
   "id": "11525a14",
   "metadata": {},
   "source": [
    "## 숫자 자료형\n",
    "\n",
    "- 숫자 자료형의 종류\n",
    "    - 정수형(integer) : 소수점이 없는 숫자\n",
    "        - 예) 0, 1, 273, -53\n",
    "    - 실수형(floating point) : 소수점이 있는 숫자\n",
    "        - 예) 0.0, 52.573, -1.2\n",
    "        \n",
    "- 주의점 \n",
    "    - 0과 0.0은 같은 크기를 표현하지만 소수점의 여부에 따라 숫자의 자료형이 달라짐"
   ]
  },
  {
   "cell_type": "code",
   "execution_count": 1,
   "id": "188e5eca",
   "metadata": {},
   "outputs": [
    {
     "data": {
      "text/plain": [
       "True"
      ]
     },
     "execution_count": 1,
     "metadata": {},
     "output_type": "execute_result"
    }
   ],
   "source": [
    "0==0.0"
   ]
  },
  {
   "cell_type": "code",
   "execution_count": 2,
   "id": "ba58774b",
   "metadata": {},
   "outputs": [
    {
     "name": "stderr",
     "output_type": "stream",
     "text": [
      "<>:1: SyntaxWarning: \"is\" with a literal. Did you mean \"==\"?\n",
      "<>:1: SyntaxWarning: \"is\" with a literal. Did you mean \"==\"?\n",
      "C:\\Users\\ITSC\\AppData\\Local\\Temp\\ipykernel_13176\\3964195525.py:1: SyntaxWarning: \"is\" with a literal. Did you mean \"==\"?\n",
      "  0 is 0.0\n"
     ]
    },
    {
     "data": {
      "text/plain": [
       "False"
      ]
     },
     "execution_count": 2,
     "metadata": {},
     "output_type": "execute_result"
    }
   ],
   "source": [
    "0 is 0.0"
   ]
  },
  {
   "cell_type": "markdown",
   "id": "af63bd7b",
   "metadata": {},
   "source": [
    "### 정수형(integer)"
   ]
  },
  {
   "cell_type": "code",
   "execution_count": 3,
   "id": "cc76d993",
   "metadata": {},
   "outputs": [
    {
     "name": "stdout",
     "output_type": "stream",
     "text": [
      "123\n",
      "-178\n",
      "0\n",
      "<class 'int'>\n",
      "<class 'int'>\n",
      "<class 'int'>\n"
     ]
    }
   ],
   "source": [
    "a = 123\n",
    "b = -178\n",
    "c = 0\n",
    "\n",
    "print(a)\n",
    "print(b)\n",
    "print(c)\n",
    "\n",
    "# type() : 자료형 확인하기\n",
    "# type 함수의 괄호 내부에 자료를 넣으면 그 자료가 어떤 자료형을 가지고 있는지 확인\n",
    "print(type(a))\n",
    "print(type(b))\n",
    "print(type(c))\n",
    "\n",
    "# type() 첫번째 출력 -> Print(1) 두번째 출력"
   ]
  },
  {
   "cell_type": "markdown",
   "id": "896d3527",
   "metadata": {},
   "source": [
    "1. 데이터에 이름을 붙이는 이유 \n",
    " - 데이터의 출처\n",
    " - 데이터의 목적\n",
    " - 데이터의 type\n",
    " \n",
    "2. 유지보수\n",
    " - 데이터의 재사용\n",
    " \n",
    "Camel(클래스명) - 띄어쓰기를 대문자로 표시\n",
    "    - AbcdEfg -> Abcd efg\n",
    "       \n",
    "Snakp(변수명, 함수명) - 띄어쓰기를 언더바로 표시\n",
    "    - abcd_efg -> abcd efg\n",
    "    - 변수명 : 명사_명사_*type\n",
    "    - 함수명 : 동사_동사"
   ]
  },
  {
   "cell_type": "markdown",
   "id": "9b464046",
   "metadata": {},
   "source": [
    "## 실수형(Floating - point)"
   ]
  },
  {
   "cell_type": "code",
   "execution_count": 5,
   "id": "08b56b93",
   "metadata": {},
   "outputs": [
    {
     "name": "stdout",
     "output_type": "stream",
     "text": [
      "1.2\n",
      "-3.45\n",
      "<class 'float'>\n",
      "<class 'float'>\n"
     ]
    }
   ],
   "source": [
    "a = 1.2\n",
    "b = -3.45\n",
    "\n",
    "print(a)\n",
    "print(b)\n",
    "print(type(a))\n",
    "print(type(b))"
   ]
  },
  {
   "cell_type": "markdown",
   "id": "0b69cfc6",
   "metadata": {},
   "source": [
    "### 실수형의 지수 표현 방식(과학적표기법)\n",
    " - 4.24e(+)4  -> 42400 (소수점이 오른쪽으로 4칸)\n",
    " - 4.24e-4  -> 0.000424 (소수점이 왼쪽으로 4칸)"
   ]
  },
  {
   "cell_type": "code",
   "execution_count": 7,
   "id": "38ab11d6",
   "metadata": {},
   "outputs": [
    {
     "name": "stdout",
     "output_type": "stream",
     "text": [
      "43240000.0\n",
      "0.000424\n",
      "<class 'float'>\n",
      "<class 'float'>\n"
     ]
    }
   ],
   "source": [
    "a = 4324e4\n",
    "b = 4.24e-4\n",
    "\n",
    "print(a)\n",
    "print(b)\n",
    "print(type(a))\n",
    "print(type(b))"
   ]
  },
  {
   "cell_type": "markdown",
   "id": "6429d26c",
   "metadata": {},
   "source": [
    "### 2진수, 8진수, 16진수"
   ]
  },
  {
   "cell_type": "code",
   "execution_count": 9,
   "id": "002c83c4",
   "metadata": {},
   "outputs": [
    {
     "name": "stdout",
     "output_type": "stream",
     "text": [
      "10\n"
     ]
    }
   ],
   "source": [
    "# 2진수\n",
    "bi = 0b1010\n",
    "\n",
    "print(bi)"
   ]
  },
  {
   "cell_type": "code",
   "execution_count": 10,
   "id": "9de2aa4b",
   "metadata": {},
   "outputs": [
    {
     "name": "stdout",
     "output_type": "stream",
     "text": [
      "127\n"
     ]
    }
   ],
   "source": [
    "# 8진수\n",
    "oc = 0o177\n",
    "\n",
    "print(oc)"
   ]
  },
  {
   "cell_type": "code",
   "execution_count": 11,
   "id": "222adb7d",
   "metadata": {},
   "outputs": [
    {
     "name": "stdout",
     "output_type": "stream",
     "text": [
      "375\n"
     ]
    }
   ],
   "source": [
    "# 16진수\n",
    "he = 0x177\n",
    "\n",
    "print(he)"
   ]
  },
  {
   "cell_type": "markdown",
   "id": "b63c7643",
   "metadata": {},
   "source": [
    "#### 숫자에서 다른 진수로 변환하기\n",
    "\n",
    "- int -> str"
   ]
  },
  {
   "cell_type": "code",
   "execution_count": 12,
   "id": "831b459e",
   "metadata": {},
   "outputs": [
    {
     "name": "stdout",
     "output_type": "stream",
     "text": [
      "0b101010\n",
      "<class 'str'>\n",
      "0o52\n",
      "<class 'str'>\n",
      "0x2a\n",
      "<class 'str'>\n"
     ]
    }
   ],
   "source": [
    "bi = bin(42)\n",
    "oc = oct(42)\n",
    "he = hex(42)\n",
    "\n",
    "print(bi)\n",
    "print(type(bi))\n",
    "\n",
    "print(oc)\n",
    "print(type(oc))\n",
    "\n",
    "print(he)\n",
    "print(type(he))"
   ]
  },
  {
   "cell_type": "markdown",
   "id": "879f50cb",
   "metadata": {},
   "source": [
    "#### 다른 진수의 문자열에서 숫자형으로 변환하기"
   ]
  },
  {
   "cell_type": "code",
   "execution_count": 13,
   "id": "3c3f8d47",
   "metadata": {},
   "outputs": [
    {
     "name": "stdout",
     "output_type": "stream",
     "text": [
      "42\n"
     ]
    }
   ],
   "source": [
    "print(int(bi, 2))"
   ]
  },
  {
   "cell_type": "code",
   "execution_count": 14,
   "id": "ded8bf9d",
   "metadata": {},
   "outputs": [
    {
     "name": "stdout",
     "output_type": "stream",
     "text": [
      "42\n"
     ]
    }
   ],
   "source": [
    "print(int(oc, 8))"
   ]
  },
  {
   "cell_type": "code",
   "execution_count": 15,
   "id": "038c6983",
   "metadata": {},
   "outputs": [
    {
     "name": "stdout",
     "output_type": "stream",
     "text": [
      "42\n"
     ]
    }
   ],
   "source": [
    "print(int(he, 16))"
   ]
  },
  {
   "cell_type": "markdown",
   "id": "2c624eb8",
   "metadata": {},
   "source": [
    "## 사칙연산"
   ]
  },
  {
   "cell_type": "code",
   "execution_count": 16,
   "id": "d2dd9bd0",
   "metadata": {},
   "outputs": [
    {
     "name": "stdout",
     "output_type": "stream",
     "text": [
      "7\n",
      "-1\n",
      "12\n",
      "0.75\n",
      "81\n",
      "0\n",
      "3\n"
     ]
    }
   ],
   "source": [
    "a = 3\n",
    "b = 4\n",
    "\n",
    "print(a + b) # 덧셈\n",
    "print(a - b) # 뺄셈\n",
    "print(a * b) # 곱셈\n",
    "print(a / b) # 나눗셈\n",
    "print(a ** b) # 제곱\n",
    "print(a // b) # 나누기의 몫\n",
    "print(a % b) # 나누기의 나머지"
   ]
  },
  {
   "cell_type": "markdown",
   "id": "ffe4f1a2",
   "metadata": {},
   "source": [
    "## 연산자의 우선순위\n",
    "\n",
    "- 숫자를 계산할 때는 곱셈과 나눗셈이 덧셈과 뺄셈보다 우선함\n",
    "- 같은 우선순위를 가지는 연산자는 왼쪽에서 오른쪽 순서로 계산"
   ]
  },
  {
   "cell_type": "code",
   "execution_count": 17,
   "id": "4cab0f5e",
   "metadata": {},
   "outputs": [
    {
     "name": "stdout",
     "output_type": "stream",
     "text": [
      "0.0\n"
     ]
    }
   ],
   "source": [
    "print(2 + 2 - 2 * 2 / 2 * 2)"
   ]
  },
  {
   "cell_type": "code",
   "execution_count": 20,
   "id": "f51ccc19",
   "metadata": {},
   "outputs": [
    {
     "name": "stdout",
     "output_type": "stream",
     "text": [
      "16\n",
      "11\n"
     ]
    }
   ],
   "source": [
    "# 먼저 연산하고 싶은 부분은 괄호로 표현\n",
    "print((5 + 3) * 2)\n",
    "print(5 + 3 * 2)"
   ]
  },
  {
   "cell_type": "code",
   "execution_count": 21,
   "id": "55a5f496",
   "metadata": {},
   "outputs": [
    {
     "data": {
      "text/plain": [
       "11"
      ]
     },
     "execution_count": 21,
     "metadata": {},
     "output_type": "execute_result"
    }
   ],
   "source": [
    "# 연산자 우선순위가 확실한 경우에도 명확하게 표현하기 위해 괄호를 사용하기도 함\n",
    "5 + ( 3 * 2)"
   ]
  },
  {
   "cell_type": "markdown",
   "id": "223a6ec1",
   "metadata": {},
   "source": [
    "# 문자열 자료형(string)\n",
    "\n",
    "- 문자열 : 글자들이 나열된 것"
   ]
  },
  {
   "cell_type": "code",
   "execution_count": 22,
   "id": "b8a4a648",
   "metadata": {},
   "outputs": [
    {
     "name": "stdout",
     "output_type": "stream",
     "text": [
      "Hello, World!\n",
      "<class 'str'>\n",
      "123\n",
      "<class 'str'>\n"
     ]
    }
   ],
   "source": [
    "a = \"Hello, World!\"\n",
    "b = \"123\"\n",
    "\n",
    "print(a)\n",
    "print(type(a))\n",
    "print(b)\n",
    "print(type(b))"
   ]
  },
  {
   "cell_type": "code",
   "execution_count": 23,
   "id": "40ca6257",
   "metadata": {},
   "outputs": [
    {
     "name": "stdout",
     "output_type": "stream",
     "text": [
      "Hello\n",
      "Hello\n",
      "Hello\n",
      "Hello\n"
     ]
    }
   ],
   "source": [
    "# 문자열 표기법\n",
    "print(\"Hello\")\n",
    "print('Hello')\n",
    "print(\"\"\"Hello\"\"\")\n",
    "print('''Hello''')"
   ]
  },
  {
   "cell_type": "markdown",
   "id": "6408a3bd",
   "metadata": {},
   "source": [
    "### 문자열에 따옴표 포함하기"
   ]
  },
  {
   "cell_type": "code",
   "execution_count": 26,
   "id": "5fb2de99",
   "metadata": {},
   "outputs": [
    {
     "name": "stdout",
     "output_type": "stream",
     "text": [
      "Python's favorite food is perl\n",
      "\"Python is very easy.\" he says\n"
     ]
    }
   ],
   "source": [
    "# 'Python's favorite food is perl'\n",
    "\n",
    "print(\"Python's favorite food is perl\")\n",
    "print('\"Python is very easy.\" he says')"
   ]
  },
  {
   "cell_type": "code",
   "execution_count": 28,
   "id": "12352eb6",
   "metadata": {},
   "outputs": [
    {
     "name": "stdout",
     "output_type": "stream",
     "text": [
      "Python' favorite food is perl\n",
      "\"Python is very easy.\"he says\n"
     ]
    }
   ],
   "source": [
    "#  백슬래시 이용하는 방법\n",
    "# \\와 큰 따옴표, 작은따옴표를 사용하면 문자열을 만드는 기호가 아니라 단순한 따옴표로 인식\n",
    "\n",
    "print('Python\\' favorite food is perl')\n",
    "print(\"\\\"Python is very easy.\\\"he says\")"
   ]
  },
  {
   "cell_type": "markdown",
   "id": "7aedce1a",
   "metadata": {},
   "source": [
    "### 여러 줄인 문자열"
   ]
  },
  {
   "cell_type": "code",
   "execution_count": 30,
   "id": "edd1cf14",
   "metadata": {},
   "outputs": [
    {
     "name": "stdout",
     "output_type": "stream",
     "text": [
      "Life is too short\n",
      "You need python\n"
     ]
    }
   ],
   "source": [
    "lines = \"Life is too short\\nYou need python\"\n",
    "print(lines)"
   ]
  },
  {
   "cell_type": "code",
   "execution_count": 32,
   "id": "89008522",
   "metadata": {},
   "outputs": [
    {
     "name": "stdout",
     "output_type": "stream",
     "text": [
      "Life is too short\n",
      "You need python\n"
     ]
    }
   ],
   "source": [
    "lines = '''Life is too short\n",
    "You need python'''\n",
    "print(lines)\n",
    "\n",
    "# 작은 삼중따옴표는 여러줄인것을 담을 수 있음"
   ]
  },
  {
   "cell_type": "markdown",
   "id": "a1dc8dcc",
   "metadata": {},
   "source": [
    "#### 이스케이프 코드\n",
    "\n",
    "- 특별한 의미를 가지는, 미리 정의된 문자 조합\n",
    "    - \\n : 줄바꿈\n",
    "    - \\t : 탭\n",
    "    - \\\\\\ : 역슬래시 문자열 입력"
   ]
  },
  {
   "cell_type": "code",
   "execution_count": 33,
   "id": "5f555ace",
   "metadata": {},
   "outputs": [
    {
     "name": "stdout",
     "output_type": "stream",
     "text": [
      "안녕하세요\t안녕하세요\n"
     ]
    }
   ],
   "source": [
    "print(\"안녕하세요\\t안녕하세요\")"
   ]
  },
  {
   "cell_type": "markdown",
   "id": "a564c2fb",
   "metadata": {},
   "source": [
    "## 문자열 연산자\n",
    "- 각각의 자료는 사용할 수 있는 연산자가 정해져 있음"
   ]
  },
  {
   "cell_type": "markdown",
   "id": "3d8030d6",
   "metadata": {},
   "source": [
    "### 문자열 연결 연산자\n",
    "\n",
    "- 두 문자열을 연결해서 새로운 문자열을 만들어냄"
   ]
  },
  {
   "cell_type": "code",
   "execution_count": 36,
   "id": "30fecb2f",
   "metadata": {},
   "outputs": [
    {
     "data": {
      "text/plain": [
       "'Hello, World!'"
      ]
     },
     "execution_count": 36,
     "metadata": {},
     "output_type": "execute_result"
    }
   ],
   "source": [
    "# 문자열은 + 연산자로 문자열 연결 연산 적용\n",
    "# 숫자 더하기 연산자와 문자열 연결 연산자 모두 + 기호를 사용하지만 완전히 다른 기능\n",
    "\"Hello, \" + \"World!\"\n"
   ]
  },
  {
   "cell_type": "code",
   "execution_count": 40,
   "id": "c8db6ed9",
   "metadata": {
    "scrolled": true
   },
   "outputs": [
    {
     "ename": "TypeError",
     "evalue": "can only concatenate str (not \"int\") to str",
     "output_type": "error",
     "traceback": [
      "\u001b[1;31m---------------------------------------------------------------------------\u001b[0m",
      "\u001b[1;31mTypeError\u001b[0m                                 Traceback (most recent call last)",
      "Cell \u001b[1;32mIn[40], line 2\u001b[0m\n\u001b[0;32m      1\u001b[0m \u001b[38;5;66;03m# 문자열과 숫자 사이에 문자열 연결 연산자를 사용하면 에러 발생\u001b[39;00m\n\u001b[1;32m----> 2\u001b[0m \u001b[38;5;28mprint\u001b[39m(\u001b[38;5;124m\"\u001b[39m\u001b[38;5;124m안녕하세요\u001b[39m\u001b[38;5;124m\"\u001b[39m \u001b[38;5;241m+\u001b[39m \u001b[38;5;241m1\u001b[39m)\n",
      "\u001b[1;31mTypeError\u001b[0m: can only concatenate str (not \"int\") to str"
     ]
    }
   ],
   "source": [
    "# 문자열과 숫자 사이에 문자열 연결 연산자를 사용하면 에러 발생\n",
    "print(\"안녕하세요\" + 1)"
   ]
  },
  {
   "cell_type": "code",
   "execution_count": 41,
   "id": "147262d3",
   "metadata": {},
   "outputs": [
    {
     "name": "stdout",
     "output_type": "stream",
     "text": [
      "안녕하세요1\n"
     ]
    }
   ],
   "source": [
    "# 안녕하세요1을 출력할 의도라면 숫자도 문자열로 인식시켜야함\n",
    "print(\"안녕하세요\" + \"1\")"
   ]
  },
  {
   "cell_type": "markdown",
   "id": "d114566e",
   "metadata": {},
   "source": [
    "### 문자열 반복 연산자\n",
    "\n",
    "- 문자열을 숫자와 * 연산자로 연결\n",
    "- 문자열을 숫자만큼 반복해서 출력"
   ]
  },
  {
   "cell_type": "code",
   "execution_count": 42,
   "id": "1fdcb31b",
   "metadata": {},
   "outputs": [
    {
     "data": {
      "text/plain": [
       "'HelloHelloHello'"
      ]
     },
     "execution_count": 42,
     "metadata": {},
     "output_type": "execute_result"
    }
   ],
   "source": [
    "\"Hello\" *3"
   ]
  },
  {
   "cell_type": "code",
   "execution_count": 43,
   "id": "5c924f7d",
   "metadata": {},
   "outputs": [
    {
     "data": {
      "text/plain": [
       "'HelloHelloHello'"
      ]
     },
     "execution_count": 43,
     "metadata": {},
     "output_type": "execute_result"
    }
   ],
   "source": [
    "3 * \"Hello\""
   ]
  },
  {
   "cell_type": "markdown",
   "id": "70577add",
   "metadata": {},
   "source": [
    "### 문자열 인덱싱(indexing)\n",
    "\n",
    "- 대괄호(문자 선택 연산자)는 문자열 내부의 문자 하나를 선택하는 연산자\n",
    "- 대괄호 안에 선택할 문자의 위치(인덱스(index))를 지정\n",
    "    - 파이썬은 인덱스를 0부터 셈"
   ]
  },
  {
   "cell_type": "code",
   "execution_count": 44,
   "id": "69beabaf",
   "metadata": {},
   "outputs": [],
   "source": [
    "str1 = \"Hello\"\n",
    "#       01234"
   ]
  },
  {
   "cell_type": "code",
   "execution_count": 45,
   "id": "982c13f0",
   "metadata": {},
   "outputs": [
    {
     "data": {
      "text/plain": [
       "'H'"
      ]
     },
     "execution_count": 45,
     "metadata": {},
     "output_type": "execute_result"
    }
   ],
   "source": [
    "str1[0]"
   ]
  },
  {
   "cell_type": "code",
   "execution_count": 46,
   "id": "90e6f751",
   "metadata": {},
   "outputs": [
    {
     "data": {
      "text/plain": [
       "'o'"
      ]
     },
     "execution_count": 46,
     "metadata": {},
     "output_type": "execute_result"
    }
   ],
   "source": [
    "str1[4]"
   ]
  },
  {
   "cell_type": "code",
   "execution_count": 47,
   "id": "6b088fea",
   "metadata": {},
   "outputs": [
    {
     "data": {
      "text/plain": [
       "'o'"
      ]
     },
     "execution_count": 47,
     "metadata": {},
     "output_type": "execute_result"
    }
   ],
   "source": [
    "str1[-1]"
   ]
  },
  {
   "cell_type": "code",
   "execution_count": 48,
   "id": "f48c842b",
   "metadata": {},
   "outputs": [
    {
     "data": {
      "text/plain": [
       "'H'"
      ]
     },
     "execution_count": 48,
     "metadata": {},
     "output_type": "execute_result"
    }
   ],
   "source": [
    "str1[-5]"
   ]
  },
  {
   "cell_type": "markdown",
   "id": "320b364b",
   "metadata": {},
   "source": [
    "### 문자열 슬라이싱(slicing)\n",
    "\n",
    "- 문자열의 범위를 지정\n",
    "- 대괄호 안에 위치를 콜론(:)으로 구분해서 지정\n",
    "    - 시작인덱스 : 종료인덱스 : 증감값 \n",
    "    - 파이썬은 범위 지정시 마지막 숫자를 포함하지 않음"
   ]
  },
  {
   "cell_type": "code",
   "execution_count": 50,
   "id": "2ca3e428",
   "metadata": {},
   "outputs": [
    {
     "data": {
      "text/plain": [
       "'Hell'"
      ]
     },
     "execution_count": 50,
     "metadata": {},
     "output_type": "execute_result"
    }
   ],
   "source": [
    "str1[0:4]"
   ]
  },
  {
   "cell_type": "code",
   "execution_count": 53,
   "id": "9e0b8887",
   "metadata": {},
   "outputs": [
    {
     "data": {
      "text/plain": [
       "'Hell'"
      ]
     },
     "execution_count": 53,
     "metadata": {},
     "output_type": "execute_result"
    }
   ],
   "source": [
    "# 대괄호 안에 넣는 숫자를 생략할 수 있음\n",
    "# 생략하면 자동으로 가장 최대 위치(첫 번째 글자 또는 마지막 글자)까지 지정\n",
    "\n",
    "str1[:4]"
   ]
  },
  {
   "cell_type": "code",
   "execution_count": 54,
   "id": "9d36faab",
   "metadata": {},
   "outputs": [
    {
     "data": {
      "text/plain": [
       "'Hell'"
      ]
     },
     "execution_count": 54,
     "metadata": {},
     "output_type": "execute_result"
    }
   ],
   "source": [
    "str1[:-1]"
   ]
  },
  {
   "cell_type": "code",
   "execution_count": 56,
   "id": "7db7f2eb",
   "metadata": {},
   "outputs": [
    {
     "data": {
      "text/plain": [
       "'ello'"
      ]
     },
     "execution_count": 56,
     "metadata": {},
     "output_type": "execute_result"
    }
   ],
   "source": [
    "str1[1:]"
   ]
  },
  {
   "cell_type": "code",
   "execution_count": 58,
   "id": "beaa7db3",
   "metadata": {},
   "outputs": [
    {
     "data": {
      "text/plain": [
       "'ello'"
      ]
     },
     "execution_count": 58,
     "metadata": {},
     "output_type": "execute_result"
    }
   ],
   "source": [
    "str1[1:6]"
   ]
  },
  {
   "cell_type": "code",
   "execution_count": 60,
   "id": "adeb615b",
   "metadata": {},
   "outputs": [
    {
     "data": {
      "text/plain": [
       "'Hello'"
      ]
     },
     "execution_count": 60,
     "metadata": {},
     "output_type": "execute_result"
    }
   ],
   "source": [
    "str1[:]"
   ]
  },
  {
   "cell_type": "markdown",
   "id": "bf865a26",
   "metadata": {},
   "source": [
    "## 문자열 포매팅(Foramtting)"
   ]
  },
  {
   "cell_type": "code",
   "execution_count": 65,
   "id": "915b4bd8",
   "metadata": {
    "scrolled": false
   },
   "outputs": [
    {
     "name": "stdout",
     "output_type": "stream",
     "text": [
      "a + b = a + b\n",
      "3 + 4 = 7\n",
      "3.1416\n",
      "    3\n",
      "00003\n"
     ]
    }
   ],
   "source": [
    "# 출력포맷 설정하기\n",
    "a = 3\n",
    "b = 4\n",
    "pi = 3.141592\n",
    "\n",
    "# 문자열 포맷 코드\n",
    "print(\"a + b = a + b\")\n",
    "print(\"%d + %d = %d\"%(a,b,a+b))\n",
    "\n",
    "# 문자열 포맷 코드에서 소수점 표현\n",
    "print(\"%0.4f\"%pi) # 소수점 밑 4번째까지 표현\n",
    "\n",
    "# 특정 칸에 출력하기\n",
    "print(\"%5d\"%(a)) # 5번째 자리에 a 표시 \n",
    "\n",
    "# 빈칸을 0으로 채우기\n",
    "print(\"%05d\"%a)\n",
    "\n",
    "# 데이터가 한개일 경우 () 생략가능"
   ]
  },
  {
   "cell_type": "code",
   "execution_count": 71,
   "id": "427c5e7c",
   "metadata": {},
   "outputs": [
    {
     "name": "stdout",
     "output_type": "stream",
     "text": [
      "3 + 4 = 7\n",
      "I ate 10 apples. so I was sick for 3 days\n",
      "3.1416\n",
      "    3\n",
      "00003\n"
     ]
    }
   ],
   "source": [
    "# format 함수\n",
    "print(\"{0} + {1} = {2}\".format(a, b, (a+b)))\n",
    "\n",
    "# 이름으로 값 넣기 가능\n",
    "print(\"I ate {num} apples. so I was sick for {day} days\".format(num=10, day=3))\n",
    "\n",
    "# 소수점 표현 \n",
    "print(\"{0:0.4f}\".format(pi)) # 0은 pi, pi를 소수점밑 4번째까지만 표현\n",
    "\n",
    "# 특정 칸에 출력하기\n",
    "print(\"{0:5d}\".format(a))\n",
    "\n",
    "# 빈칸을 0으로 채우기\n",
    "print(\"{0:05d}\".format(a))"
   ]
  },
  {
   "cell_type": "code",
   "execution_count": 74,
   "id": "cdea4680",
   "metadata": {},
   "outputs": [
    {
     "name": "stdout",
     "output_type": "stream",
     "text": [
      "3 + 4 = 7\n",
      "3.1416\n",
      "    3\n",
      "00003\n",
      "<class 'str'>\n"
     ]
    }
   ],
   "source": [
    "# f-string(3.6버전부터 가능)\n",
    "print(f\"{a} + {b} = {a+b}\")\n",
    "\n",
    "# 소수점 표현\n",
    "print(f\"{pi:0.4f}\")\n",
    "\n",
    "# 특정 칸에 출력\n",
    "print(f\"{a:5d}\")\n",
    "\n",
    "# 빈칸을 0으로 채우기\n",
    "print(f\"{a:05d}\")\n",
    "\n",
    "print(type(f\"{a:05d}\"))"
   ]
  },
  {
   "cell_type": "markdown",
   "id": "f3f69791",
   "metadata": {},
   "source": [
    "### 문자열 관련 함수"
   ]
  },
  {
   "cell_type": "code",
   "execution_count": 75,
   "id": "67506bb7",
   "metadata": {},
   "outputs": [],
   "source": [
    "str1 = \"hobby\""
   ]
  },
  {
   "cell_type": "code",
   "execution_count": 77,
   "id": "18badb92",
   "metadata": {},
   "outputs": [
    {
     "data": {
      "text/plain": [
       "2"
      ]
     },
     "execution_count": 77,
     "metadata": {},
     "output_type": "execute_result"
    }
   ],
   "source": [
    "# 문자 개수 세기 .count\n",
    "str1.count(\"b\")"
   ]
  },
  {
   "cell_type": "code",
   "execution_count": 80,
   "id": "28b4530e",
   "metadata": {},
   "outputs": [
    {
     "data": {
      "text/plain": [
       "2"
      ]
     },
     "execution_count": 80,
     "metadata": {},
     "output_type": "execute_result"
    }
   ],
   "source": [
    "# 위치 찾기1 .find\n",
    "# 검색하는 문자가 처음으로 나온 위치 반환\n",
    "str1.find(\"b\")"
   ]
  },
  {
   "cell_type": "code",
   "execution_count": 81,
   "id": "74aa7507",
   "metadata": {},
   "outputs": [
    {
     "data": {
      "text/plain": [
       "-1"
      ]
     },
     "execution_count": 81,
     "metadata": {},
     "output_type": "execute_result"
    }
   ],
   "source": [
    "# 검색하는 문자가 존재하지 않는 경우 -1 반환\n",
    "str1.find(\"a\")"
   ]
  },
  {
   "cell_type": "code",
   "execution_count": 82,
   "id": "7fe2f917",
   "metadata": {},
   "outputs": [
    {
     "data": {
      "text/plain": [
       "2"
      ]
     },
     "execution_count": 82,
     "metadata": {},
     "output_type": "execute_result"
    }
   ],
   "source": [
    "# 위치찾기2  .index\n",
    "str1.index(\"b\")"
   ]
  },
  {
   "cell_type": "code",
   "execution_count": 85,
   "id": "0e727c93",
   "metadata": {},
   "outputs": [
    {
     "ename": "ValueError",
     "evalue": "substring not found",
     "output_type": "error",
     "traceback": [
      "\u001b[1;31m---------------------------------------------------------------------------\u001b[0m",
      "\u001b[1;31mValueError\u001b[0m                                Traceback (most recent call last)",
      "Cell \u001b[1;32mIn[85], line 3\u001b[0m\n\u001b[0;32m      1\u001b[0m \u001b[38;5;66;03m# 검색하는 문자가 존재하지 않는 경우 에러 발생\u001b[39;00m\n\u001b[1;32m----> 3\u001b[0m str1\u001b[38;5;241m.\u001b[39mindex(\u001b[38;5;124m\"\u001b[39m\u001b[38;5;124ma\u001b[39m\u001b[38;5;124m\"\u001b[39m)\n",
      "\u001b[1;31mValueError\u001b[0m: substring not found"
     ]
    }
   ],
   "source": [
    "# 검색하는 문자가 존재하지 않는 경우 에러 발생\n",
    "\n",
    "str1.index(\"a\")"
   ]
  },
  {
   "cell_type": "code",
   "execution_count": 87,
   "id": "853aba58",
   "metadata": {},
   "outputs": [
    {
     "data": {
      "text/plain": [
       "'a,b,c,d'"
      ]
     },
     "execution_count": 87,
     "metadata": {},
     "output_type": "execute_result"
    }
   ],
   "source": [
    "# 문자열 삽입  .join\n",
    "\",\".join(\"abcd\")"
   ]
  },
  {
   "cell_type": "code",
   "execution_count": 90,
   "id": "6c748166",
   "metadata": {},
   "outputs": [
    {
     "data": {
      "text/plain": [
       "'a,b,c,d'"
      ]
     },
     "execution_count": 90,
     "metadata": {},
     "output_type": "execute_result"
    }
   ],
   "source": [
    "\",\".join([\"a\",\"b\",\"c\",\"d\"])  \n",
    "\n",
    "# 보통 문자사이에 구분자를 넣기 위해 사용 (| 잘 쓰이지 않는 것으로 사용)"
   ]
  },
  {
   "cell_type": "code",
   "execution_count": 91,
   "id": "550bfc33",
   "metadata": {},
   "outputs": [
    {
     "name": "stdout",
     "output_type": "stream",
     "text": [
      "HELLO\n",
      "hello\n"
     ]
    }
   ],
   "source": [
    "# 대소문자 변환\n",
    "print(\"hello\".upper())\n",
    "print(\"Hello\".lower())"
   ]
  },
  {
   "cell_type": "code",
   "execution_count": 93,
   "id": "a1313928",
   "metadata": {},
   "outputs": [
    {
     "data": {
      "text/plain": [
       "'hello'"
      ]
     },
     "execution_count": 93,
     "metadata": {},
     "output_type": "execute_result"
    }
   ],
   "source": [
    "# 공백 제거  .strip  (가운데 껴있는 공백제거는 못함)\n",
    "\" hello \".strip()"
   ]
  },
  {
   "cell_type": "code",
   "execution_count": 95,
   "id": "8318d350",
   "metadata": {},
   "outputs": [
    {
     "data": {
      "text/plain": [
       "'Pyyython'"
      ]
     },
     "execution_count": 95,
     "metadata": {},
     "output_type": "execute_result"
    }
   ],
   "source": [
    "# 문자열 치환\n",
    "str1 = \"Piiithon\"\n",
    "\n",
    "str1.replace(\"i\",\"y\")"
   ]
  },
  {
   "cell_type": "code",
   "execution_count": 96,
   "id": "b970e89e",
   "metadata": {},
   "outputs": [
    {
     "data": {
      "text/plain": [
       "['Life', 'is', 'too', 'short']"
      ]
     },
     "execution_count": 96,
     "metadata": {},
     "output_type": "execute_result"
    }
   ],
   "source": [
    "# 문자열 나누기  .split\n",
    "str1 = \"Life is too short\"\n",
    "\n",
    "str1.split()"
   ]
  },
  {
   "cell_type": "code",
   "execution_count": 97,
   "id": "b0012f35",
   "metadata": {},
   "outputs": [
    {
     "data": {
      "text/plain": [
       "['a', 'b', 'c', 'd']"
      ]
     },
     "execution_count": 97,
     "metadata": {},
     "output_type": "execute_result"
    }
   ],
   "source": [
    "str2 = \"a:b:c:d\"\n",
    "\n",
    "str2.split(\":\")"
   ]
  },
  {
   "cell_type": "code",
   "execution_count": 100,
   "id": "5bca13cb",
   "metadata": {},
   "outputs": [
    {
     "name": "stdout",
     "output_type": "stream",
     "text": [
      "5\n",
      "13\n"
     ]
    }
   ],
   "source": [
    "# 문자열의 길이 구하기\n",
    "print(len(\"안녕하세요\"))\n",
    "print(len(\"Hello, World!\"))"
   ]
  },
  {
   "cell_type": "markdown",
   "id": "e2580d0f",
   "metadata": {},
   "source": [
    "# 불 자료형(Boolean)\n",
    "\n",
    "- 참(True), 거짓(False)을 나타내는 자료형\n",
    "    - 어떤 명제의 결과를 표현\n",
    "- 불린 또는 불리언 이라는 발음으로 부름\n",
    "    - 프로그래밍에서는 짧게 Bool 이라고 쓰기도 함"
   ]
  },
  {
   "cell_type": "code",
   "execution_count": 103,
   "id": "207d3078",
   "metadata": {},
   "outputs": [
    {
     "name": "stdout",
     "output_type": "stream",
     "text": [
      "True\n",
      "<class 'bool'>\n",
      "False\n",
      "<class 'bool'>\n"
     ]
    }
   ],
   "source": [
    "a = True    # \"\"사용하면 문자열이됨\n",
    "b = False\n",
    "\n",
    "print(a)\n",
    "print(type(a))\n",
    "print(b)\n",
    "print(type(b))"
   ]
  },
  {
   "cell_type": "markdown",
   "id": "4418b9fb",
   "metadata": {},
   "source": [
    "## 불 연산"
   ]
  },
  {
   "cell_type": "markdown",
   "id": "92f69942",
   "metadata": {},
   "source": [
    "### 비교 연산자\n",
    "\n",
    "- == : 같다\n",
    "- != : 다르다\n",
    "- <,> : 크다, 작다\n",
    "- <=, >= : 작거나 같다, 크거나 같다"
   ]
  },
  {
   "cell_type": "code",
   "execution_count": 104,
   "id": "499c9c68",
   "metadata": {},
   "outputs": [
    {
     "data": {
      "text/plain": [
       "True"
      ]
     },
     "execution_count": 104,
     "metadata": {},
     "output_type": "execute_result"
    }
   ],
   "source": [
    "1==1"
   ]
  },
  {
   "cell_type": "code",
   "execution_count": 105,
   "id": "ae615646",
   "metadata": {},
   "outputs": [
    {
     "data": {
      "text/plain": [
       "False"
      ]
     },
     "execution_count": 105,
     "metadata": {},
     "output_type": "execute_result"
    }
   ],
   "source": [
    "1 != 1 "
   ]
  },
  {
   "cell_type": "code",
   "execution_count": 106,
   "id": "f8afeda9",
   "metadata": {},
   "outputs": [
    {
     "data": {
      "text/plain": [
       "True"
      ]
     },
     "execution_count": 106,
     "metadata": {},
     "output_type": "execute_result"
    }
   ],
   "source": [
    "2 > 1"
   ]
  },
  {
   "cell_type": "code",
   "execution_count": 108,
   "id": "4ba3e6da",
   "metadata": {},
   "outputs": [
    {
     "data": {
      "text/plain": [
       "False"
      ]
     },
     "execution_count": 108,
     "metadata": {},
     "output_type": "execute_result"
    }
   ],
   "source": [
    "1 > 2"
   ]
  },
  {
   "cell_type": "code",
   "execution_count": 109,
   "id": "98b7d126",
   "metadata": {},
   "outputs": [
    {
     "data": {
      "text/plain": [
       "True"
      ]
     },
     "execution_count": 109,
     "metadata": {},
     "output_type": "execute_result"
    }
   ],
   "source": [
    "1 < 2 <3"
   ]
  },
  {
   "cell_type": "code",
   "execution_count": 110,
   "id": "b4a8424f",
   "metadata": {},
   "outputs": [
    {
     "data": {
      "text/plain": [
       "True"
      ]
     },
     "execution_count": 110,
     "metadata": {},
     "output_type": "execute_result"
    }
   ],
   "source": [
    "2 >= 1"
   ]
  },
  {
   "cell_type": "code",
   "execution_count": 111,
   "id": "ee9cd075",
   "metadata": {},
   "outputs": [
    {
     "data": {
      "text/plain": [
       "False"
      ]
     },
     "execution_count": 111,
     "metadata": {},
     "output_type": "execute_result"
    }
   ],
   "source": [
    "2 <= 1 "
   ]
  },
  {
   "cell_type": "code",
   "execution_count": 112,
   "id": "2caa93a4",
   "metadata": {},
   "outputs": [
    {
     "name": "stdout",
     "output_type": "stream",
     "text": [
      "True\n",
      "False\n"
     ]
    }
   ],
   "source": [
    "# 문자열에 비교 연산자를 적용하면 한글은 사전순서로 앞에 있는 것이 작은 값을 가짐\n",
    "\n",
    "print(\"가방\" < \"하마\")\n",
    "print(\"가방\" > \"하마\")"
   ]
  },
  {
   "cell_type": "markdown",
   "id": "4a04204a",
   "metadata": {},
   "source": [
    "### 타입 변환 "
   ]
  },
  {
   "cell_type": "code",
   "execution_count": 113,
   "id": "c4b7c423",
   "metadata": {},
   "outputs": [
    {
     "data": {
      "text/plain": [
       "True"
      ]
     },
     "execution_count": 113,
     "metadata": {},
     "output_type": "execute_result"
    }
   ],
   "source": [
    "bool(\"python\")"
   ]
  },
  {
   "cell_type": "code",
   "execution_count": 115,
   "id": "2cd94a04",
   "metadata": {},
   "outputs": [
    {
     "data": {
      "text/plain": [
       "False"
      ]
     },
     "execution_count": 115,
     "metadata": {},
     "output_type": "execute_result"
    }
   ],
   "source": [
    "bool(\"\")  # 데이터의 크기가 있으면 True, 데이터 크기 0인 상태는 False"
   ]
  },
  {
   "cell_type": "code",
   "execution_count": 116,
   "id": "a06eac55",
   "metadata": {},
   "outputs": [
    {
     "data": {
      "text/plain": [
       "True"
      ]
     },
     "execution_count": 116,
     "metadata": {},
     "output_type": "execute_result"
    }
   ],
   "source": [
    "bool([1,2,3])"
   ]
  },
  {
   "cell_type": "code",
   "execution_count": 117,
   "id": "abb81bc3",
   "metadata": {},
   "outputs": [
    {
     "data": {
      "text/plain": [
       "False"
      ]
     },
     "execution_count": 117,
     "metadata": {},
     "output_type": "execute_result"
    }
   ],
   "source": [
    "bool([])"
   ]
  },
  {
   "cell_type": "code",
   "execution_count": 118,
   "id": "0a2a8664",
   "metadata": {},
   "outputs": [
    {
     "data": {
      "text/plain": [
       "True"
      ]
     },
     "execution_count": 118,
     "metadata": {},
     "output_type": "execute_result"
    }
   ],
   "source": [
    "bool(1)"
   ]
  },
  {
   "cell_type": "code",
   "execution_count": 120,
   "id": "c99951db",
   "metadata": {},
   "outputs": [
    {
     "data": {
      "text/plain": [
       "False"
      ]
     },
     "execution_count": 120,
     "metadata": {},
     "output_type": "execute_result"
    }
   ],
   "source": [
    "bool(0)  # 0 이외의 숫자는 True, 0은 False, 음수도 True"
   ]
  },
  {
   "cell_type": "code",
   "execution_count": 121,
   "id": "316d0a49",
   "metadata": {},
   "outputs": [
    {
     "data": {
      "text/plain": [
       "1"
      ]
     },
     "execution_count": 121,
     "metadata": {},
     "output_type": "execute_result"
    }
   ],
   "source": [
    "int(True)"
   ]
  },
  {
   "cell_type": "code",
   "execution_count": 122,
   "id": "ea865ddc",
   "metadata": {},
   "outputs": [
    {
     "data": {
      "text/plain": [
       "0"
      ]
     },
     "execution_count": 122,
     "metadata": {},
     "output_type": "execute_result"
    }
   ],
   "source": [
    "int(False)"
   ]
  },
  {
   "cell_type": "markdown",
   "id": "0ebd8a2e",
   "metadata": {},
   "source": [
    "###  논리 연산자\n",
    "\n",
    "- not : 불을 반대로 변환\n",
    "- and : 두 값이 모두 참일 때 True를 출력하고, 그 외에는 모두 False를 출력\n",
    "- or : 두 값 중 하나만 참이어도 True를 출력하고, 두개가 모두 거짓일때만 False"
   ]
  },
  {
   "cell_type": "code",
   "execution_count": 123,
   "id": "cad3e8fa",
   "metadata": {},
   "outputs": [
    {
     "name": "stdout",
     "output_type": "stream",
     "text": [
      "False\n",
      "True\n"
     ]
    }
   ],
   "source": [
    "print(not True)\n",
    "print(not False)"
   ]
  },
  {
   "cell_type": "code",
   "execution_count": 124,
   "id": "564010ea",
   "metadata": {},
   "outputs": [
    {
     "name": "stdout",
     "output_type": "stream",
     "text": [
      "True\n",
      "False\n",
      "False\n",
      "False\n"
     ]
    }
   ],
   "source": [
    "print(True and True)\n",
    "print(True and False)\n",
    "print(False and True)\n",
    "print(False and False)"
   ]
  },
  {
   "cell_type": "code",
   "execution_count": 125,
   "id": "58691978",
   "metadata": {},
   "outputs": [
    {
     "name": "stdout",
     "output_type": "stream",
     "text": [
      "True\n",
      "True\n",
      "True\n",
      "False\n"
     ]
    }
   ],
   "source": [
    "print(True or True)\n",
    "print(True or False)\n",
    "print(False or True)\n",
    "print(False or False)"
   ]
  },
  {
   "cell_type": "markdown",
   "id": "fdfe195b",
   "metadata": {},
   "source": [
    "# 연습문제"
   ]
  },
  {
   "cell_type": "code",
   "execution_count": 134,
   "id": "67825c3a",
   "metadata": {},
   "outputs": [
    {
     "data": {
      "text/plain": [
       "True"
      ]
     },
     "execution_count": 134,
     "metadata": {},
     "output_type": "execute_result"
    }
   ],
   "source": [
    "#1. 자연수를 입력받아 홀수인지 짝수인지 판별하기\n",
    "# 홀수는 False, 짝수는 True\n",
    "\n",
    "num = 52\n",
    "\n",
    "(num) % 2 == 0"
   ]
  },
  {
   "cell_type": "code",
   "execution_count": 175,
   "id": "b172872c",
   "metadata": {},
   "outputs": [
    {
     "name": "stdout",
     "output_type": "stream",
     "text": [
      "881220\n",
      "1\n"
     ]
    }
   ],
   "source": [
    "# 2. 주민등록번호에서 생년월일, 성별 추출하기\n",
    "\n",
    "hong = \"881220-1068234\"\n",
    "\n",
    "# print(생년월일) #881220\n",
    "# print(성별) #1\n",
    "\n",
    "print(hong[0:6])\n",
    "\n",
    "a = hong[7:8]\n",
    "print(a)"
   ]
  },
  {
   "cell_type": "code",
   "execution_count": 180,
   "id": "e6d4c975",
   "metadata": {},
   "outputs": [
    {
     "name": "stdout",
     "output_type": "stream",
     "text": [
      "naver.com\n",
      "naver\n",
      "nav51!\n"
     ]
    }
   ],
   "source": [
    "# 3. 비밀번호 만들기\n",
    "# 사이트별로 아래의 규칙에 따라 비밀번호를 생성하는 코드를 작성하기\n",
    "# 사이트 주소 예시 : \"http://naver.com\", \"http://daum.net\", \"http://google.com\", \n",
    "#\"http://youtube.com\"\n",
    "\n",
    "# 규칙1. http:// 부분은 제외한다\n",
    "# 규칙2. 처음만나는점(.) 이후 부분도 제외한다\n",
    "# 규칙3. 남은 글자 중 처음 세자리+글자개수+글자 내 \"e\"의 개수 + \"!\"로 비밀번호를 구성한다\n",
    "\n",
    "# 규칙에 따라 \"http://naver.com\"의 비밀번호를 생성하면 nav51!가 된다\n",
    "\n",
    "addr = \"http://naver.com\"\n",
    "\n",
    "a = addr.replace(\"http://\",\"\")\n",
    "print(a)\n",
    "b = a.replace(\".com\",\"\")\n",
    "print(b)\n",
    "\n",
    "password = b[0:3] + f\"{len(b)}\" + f'{b.count(\"e\")}' + \"!\"\n",
    "print(password)\n"
   ]
  },
  {
   "cell_type": "code",
   "execution_count": 208,
   "id": "44e459f2",
   "metadata": {},
   "outputs": [
    {
     "name": "stdout",
     "output_type": "stream",
     "text": [
      "naver\n",
      "nav51!\n"
     ]
    }
   ],
   "source": [
    "addr = \"http://naver.com\"\n",
    "addr.split(\":\")\n",
    "c = \"http\"\n",
    "d = \"//naver.com\"\n",
    "e = d.replace(\"//\",\"\")\n",
    "g = e[:-4]\n",
    "print(g)\n",
    "\n",
    "password = g[0:3] + f\"{len(g)}\" + f'{g.count(\"e\")}' + \"!\"\n",
    "print(password)"
   ]
  },
  {
   "cell_type": "code",
   "execution_count": 216,
   "id": "bc95c3df",
   "metadata": {},
   "outputs": [
    {
     "name": "stdout",
     "output_type": "stream",
     "text": [
      "daum.net\n",
      "dau40!\n"
     ]
    }
   ],
   "source": [
    "## 정답\n",
    "# addr = \"http://naver.com\"\n",
    "addr = \"http://daum.net\"\n",
    "\n",
    "addr = addr.replace(\"http://\", \"\")# 규칙 1번 적용\n",
    "print(addr)\n",
    "# 'naver.com'[점 이전까지만 추출] [시작인덱스:종료인덱스]\n",
    "\n",
    "addr = addr[:addr.index(\".\")]  # 규칙 2번 적용\n",
    "\n",
    "password = addr[:3] + str(len(addr)) + str(addr.count(\"e\")) + \"!\"\n",
    "\n",
    "print(password)"
   ]
  },
  {
   "cell_type": "code",
   "execution_count": 212,
   "id": "eceba3a2",
   "metadata": {},
   "outputs": [
    {
     "data": {
      "text/plain": [
       "5"
      ]
     },
     "execution_count": 212,
     "metadata": {},
     "output_type": "execute_result"
    }
   ],
   "source": [
    "len(addr)"
   ]
  },
  {
   "cell_type": "code",
   "execution_count": null,
   "id": "5b55dcbb",
   "metadata": {},
   "outputs": [],
   "source": []
  },
  {
   "cell_type": "code",
   "execution_count": null,
   "id": "a8d1eecd",
   "metadata": {},
   "outputs": [],
   "source": []
  },
  {
   "cell_type": "code",
   "execution_count": null,
   "id": "29f0beb3",
   "metadata": {},
   "outputs": [],
   "source": []
  }
 ],
 "metadata": {
  "kernelspec": {
   "display_name": "Python 3 (ipykernel)",
   "language": "python",
   "name": "python3"
  },
  "language_info": {
   "codemirror_mode": {
    "name": "ipython",
    "version": 3
   },
   "file_extension": ".py",
   "mimetype": "text/x-python",
   "name": "python",
   "nbconvert_exporter": "python",
   "pygments_lexer": "ipython3",
   "version": "3.11.5"
  }
 },
 "nbformat": 4,
 "nbformat_minor": 5
}
