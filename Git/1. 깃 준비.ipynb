{
 "cells": [
  {
   "cell_type": "markdown",
   "id": "b2a6cd50",
   "metadata": {},
   "source": [
    "# 깃을 사용하는 이유 \n",
    "\n",
    "1. 변경내역 확인\n",
    "    - 파일을 저장하게되면, 이전에 저장된 내용에서 현재 내용으로 덮어쓰게 됨\n",
    "        - 즉, 저장된 파일은 항상 최신의 상태만 갖게 됨\n",
    "        - 이런 방식은 현재 저장된 내용이 이전에 비해 무엇이 달라졌는지 알기 어려움(변경 내역을 추적하기 어려움)\n",
    "    - 매번 다른 이름으로 따로 파일을 저장하여 관리한다면 저장 공간의 낭비도 심하고 실수가 일어나기 쉬움\n",
    "    \n",
    "2. 롤백\n",
    "    - 파일을 덮어쓰거나 다른 이름으로 저장하는 방식으로는 과거의 특정시점으로 파일을 되돌리기 어려움\n",
    "    - 수정한 코드에 문제가 생기거나 사용자 반응이 영 좋지 않은 등 여러 문제로 이전의 모습으로 돌려야 하는 경우가 있을 수 있음\n",
    "    \n",
    "3. 협력\n",
    "    - 대부분의 소프트웨어는 여러 개발자가 협업하여 개발\n",
    "        - 예) 메뉴, 결제기능, 로그인 기능 등을 각자 개발하여 합침\n",
    "    - 이때, 모두가 작업한 파일을 덮어쓰는 방식으로 저장하면 서로의 작업내역을 합치기 매우 어려움\n",
    "    "
   ]
  },
  {
   "cell_type": "markdown",
   "id": "126778ad",
   "metadata": {},
   "source": [
    "# 버전과 버전 관리\n",
    "\n",
    "- 버전이란\n",
    "    - 새로운 기능이 추가되거나 크고 작은 버그가 수정되는 등 기존과는 다른 유의미한 변화가 결과물로 나온 것\n",
    "    \n",
    "- 버전 관리\n",
    "    - 유의미한 변화를 쌓아 올리며 소프트웨어를 만들어 나가는 과정\n",
    "        - 누가, 어떻게 변경했는지 변경 내역들을 기억하며\n",
    "        - 필요한 경우 특정 시점의 버전으로 되돌리며\n",
    "        - 여러명이 협업하는 과정에서 코드를 쉽게 나누고 합치며\n",
    "        - 개발하는 것\n",
    "        "
   ]
  },
  {
   "cell_type": "markdown",
   "id": "ceb9711d",
   "metadata": {},
   "source": [
    "# 깃, 소스트리, 깃허브\n",
    "\n",
    "- 깃\n",
    "    - 버전관리를 도와주는 소프트웨어\n",
    "    - 버전관리 시스템(version control system / VCS)\n",
    "    \n",
    "- 소스트리\n",
    "    - 깃은 편리하지만 모든 깃 명령어와 옵션을 숙지하거나 시각적으로 와닿지 않는 명령줄 인터페이스를 이용하는 과정이 어려움\n",
    "    - 그래서 아틀라시안이라는 회사에서 직관적이고 편리하게 사용할 수 있도록 소스트리 개발\n",
    "    \n",
    "- 깃허브\n",
    "    - 원격 저장소 호스팅 서비스\n",
    "    - 깃으로 버전 관리한 프로젝트를 깃허브에 업로드할 수 있고, 깃허브에 업로드한 프로젝트에 새 버전을 추가할 수 있음\n",
    "    "
   ]
  },
  {
   "cell_type": "markdown",
   "id": "1b7264b0",
   "metadata": {},
   "source": [
    "# 깃설치\n",
    "\n",
    "- https://git-scm.com\n",
    "- 다 기본 옵션으로 설치\n",
    "- 설치 후 편한 공간에 마우스 우클릭 / git bash here\n",
    "- $git\n",
    "    - 깃이 잘 설치되었는지 확인\n",
    "    \n"
   ]
  },
  {
   "cell_type": "markdown",
   "id": "0cca1620",
   "metadata": {},
   "source": [
    "# 깃 설정\n",
    "\n",
    "- 컴퓨터 사용자 이름과 이메일을 등록\n",
    "- 앞으로 깃을 사용해 만드는 모든 버전에 설정한 이름과 이메일이 명시됨\n",
    "- git config --global user.name \"이름\"\n",
    "- git config --global user.email 이메일\n",
    "\n",
    "- 깃 설정 사용자 이름과 이메일 확인\n",
    "    - git config user.name\n",
    "    - git config user.email\n",
    "    "
   ]
  },
  {
   "cell_type": "markdown",
   "id": "2d040299",
   "metadata": {},
   "source": [
    "# 소스트리 설정\n",
    "\n",
    "- https://www.sourcetreeapp.com/\n",
    "- 비트버킷 건너뛰기\n",
    "- mercurial 체크해제\n",
    "- ssh 키 아니오\n",
    "- 설치"
   ]
  },
  {
   "cell_type": "markdown",
   "id": "1d0b9698",
   "metadata": {},
   "source": [
    "## 소스트리 테스트\n",
    "\n",
    "- local create\n",
    "- 경로 : C:\\hello\n",
    "- 해당경로 .git 숨김폴더 생성되면 성공\n",
    "    - 해당 공간이 '버전이 관리되는 공간'"
   ]
  },
  {
   "cell_type": "code",
   "execution_count": null,
   "id": "c9dc76d0",
   "metadata": {},
   "outputs": [],
   "source": []
  },
  {
   "cell_type": "code",
   "execution_count": null,
   "id": "6f60d8cf",
   "metadata": {},
   "outputs": [],
   "source": []
  },
  {
   "cell_type": "code",
   "execution_count": null,
   "id": "3cd834c9",
   "metadata": {},
   "outputs": [],
   "source": []
  },
  {
   "cell_type": "code",
   "execution_count": null,
   "id": "ceb8344e",
   "metadata": {},
   "outputs": [],
   "source": []
  },
  {
   "cell_type": "code",
   "execution_count": null,
   "id": "e1776ead",
   "metadata": {},
   "outputs": [],
   "source": []
  },
  {
   "cell_type": "code",
   "execution_count": null,
   "id": "b4ec34e0",
   "metadata": {},
   "outputs": [],
   "source": []
  },
  {
   "cell_type": "code",
   "execution_count": null,
   "id": "2c6fa863",
   "metadata": {},
   "outputs": [],
   "source": []
  }
 ],
 "metadata": {
  "kernelspec": {
   "display_name": "Python 3 (ipykernel)",
   "language": "python",
   "name": "python3"
  },
  "language_info": {
   "codemirror_mode": {
    "name": "ipython",
    "version": 3
   },
   "file_extension": ".py",
   "mimetype": "text/x-python",
   "name": "python",
   "nbconvert_exporter": "python",
   "pygments_lexer": "ipython3",
   "version": "3.11.5"
  }
 },
 "nbformat": 4,
 "nbformat_minor": 5
}
