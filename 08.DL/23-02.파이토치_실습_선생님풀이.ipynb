{
 "cells": [
  {
   "cell_type": "code",
   "execution_count": 1,
   "id": "8eda3e68",
   "metadata": {},
   "outputs": [],
   "source": [
    "# 데이터복제를 의도치 않게 많이하면 터질때 이걸 쓰면 됨 \n",
    "# 파이토치와 matplotlib 의 충돌 \n",
    "import os\n",
    "os.environ[\"KMP_DUPLICATE_LIB_OK\"] = \"True\""
   ]
  },
  {
   "cell_type": "code",
   "execution_count": 2,
   "id": "d3a376c3",
   "metadata": {},
   "outputs": [],
   "source": [
    "import torch\n",
    "from torch.utils import data\n",
    "import torch.nn as nn\n",
    "from torch import optim\n",
    "import torch.nn.functional as F\n",
    "from torchvision import datasets, transforms\n",
    "import matplotlib.pyplot as plt\n",
    "import numpy as np\n",
    "import pandas as pd \n",
    "\n",
    "import warnings\n",
    "warnings.filterwarnings('ignore')"
   ]
  },
  {
   "cell_type": "code",
   "execution_count": 5,
   "id": "0fd09244",
   "metadata": {},
   "outputs": [],
   "source": [
    "# CPU 혹은 GPU 장치 확인\n",
    "DEVICE = torch.device('cuda:0' if torch.cuda.is_available() else 'cpu')"
   ]
  },
  {
   "cell_type": "code",
   "execution_count": 6,
   "id": "d9fed58e",
   "metadata": {},
   "outputs": [
    {
     "data": {
      "text/plain": [
       "device(type='cpu')"
      ]
     },
     "execution_count": 6,
     "metadata": {},
     "output_type": "execute_result"
    }
   ],
   "source": [
    "DEVICE"
   ]
  },
  {
   "cell_type": "code",
   "execution_count": 7,
   "id": "19087ab5",
   "metadata": {},
   "outputs": [],
   "source": [
    "# 이미지를 텐서로 변경\n",
    "transform = transforms.Compose([transforms.ToTensor()])"
   ]
  },
  {
   "cell_type": "code",
   "execution_count": 8,
   "id": "8f8776c0",
   "metadata": {},
   "outputs": [],
   "source": [
    "trainset= datasets.MNIST(\n",
    "    root = './data/',\n",
    "    train = True,\n",
    "    download = True,\n",
    "    transform = transform)\n",
    "\n",
    "testset = datasets.MNIST(\n",
    "    root = './data/',\n",
    "    train = False,\n",
    "    download = True,\n",
    "    transform = transform)"
   ]
  },
  {
   "cell_type": "code",
   "execution_count": 9,
   "id": "73265ca9",
   "metadata": {},
   "outputs": [],
   "source": [
    "batch_size = 32 "
   ]
  },
  {
   "cell_type": "code",
   "execution_count": 10,
   "id": "ae81bba7",
   "metadata": {},
   "outputs": [],
   "source": [
    "# 데이터 공급 객체 선언\n",
    "train_loader = data.DataLoader(\n",
    "    dataset = trainset,\n",
    "    batch_size = batch_size)\n",
    "\n",
    "test_loader = data.DataLoader(\n",
    "    dataset = testset,\n",
    "    batch_size = batch_size)"
   ]
  },
  {
   "cell_type": "code",
   "execution_count": 12,
   "id": "40ea5360",
   "metadata": {},
   "outputs": [],
   "source": [
    "class Net(nn.Module):\n",
    "    def __init__(self):\n",
    "        '''모델 구조 정의'''\n",
    "        super().__init__()\n",
    "        self.fc1 = nn.Linear(784, 100)\n",
    "        self.fc2 = nn.Linear(100 ,10)\n",
    "        \n",
    "    def forward(self, x):\n",
    "        # 입력 데이터 = x\n",
    "        # x.shape([배치사이즈, 채널, 높이, 너비])\n",
    "        x = x.view(-1, 28 * 28) # 2차원 입력받아서 1차원으로 변형 할것임 \n",
    "        \n",
    "        # x.shape([배치사이즈, 784])\n",
    "        x = F.relu(self.fc1(x)) # 바로 linear 통과 시킴 \n",
    "        \n",
    "        # x.shape([배치사이즈, 앞 레이어의 출력 개수])\n",
    "        x = self.fc2(x)\n",
    "        \n",
    "        return x "
   ]
  },
  {
   "cell_type": "code",
   "execution_count": 13,
   "id": "c8ffbb19",
   "metadata": {},
   "outputs": [],
   "source": [
    "# 모델 객체 선언 \n",
    "model = Net().to(DEVICE)"
   ]
  },
  {
   "cell_type": "code",
   "execution_count": 14,
   "id": "06b30d79",
   "metadata": {},
   "outputs": [],
   "source": [
    "# 옵티마이저 설정\n",
    "optimizer = optim.SGD(model.parameters(), lr = 0.01)"
   ]
  },
  {
   "cell_type": "code",
   "execution_count": 15,
   "id": "691cb8fb",
   "metadata": {},
   "outputs": [],
   "source": [
    "# 학습 함수 정의\n",
    "def train(model, train_loader, optimizer):\n",
    "    # 모델을 학습 모드로 전환\n",
    "    model.train()\n",
    "    \n",
    "    for batch_idx, (data,target) in enumerate(train_loader): # 하나의 배치(스텝), 에포크아님;\n",
    "        # 학습 데이터를 DEVICE로 보냄\n",
    "        data, target = data.to(DEVICE), target.to(DEVICE)\n",
    "        \n",
    "        # 매 이터레이션 마다 기울기를 계산하기 위해 zero_grad() 호출(순서 상관x)\n",
    "        optimizer.zero_grad() \n",
    "        \n",
    "        # 실제 모델의 예측값 받아오기\n",
    "        output = model(data)\n",
    "        \n",
    "        # 정답 데이터와의 cross entropy Loss 계산 \n",
    "        # loss는 mini batch의 클래스의 오차 평균값 \n",
    "        loss = F.cross_entropy(output, target)\n",
    "        \n",
    "        # 기울기 계산\n",
    "        loss.backward()\n",
    "        \n",
    "        # 가중치 수정\n",
    "        optimizer.step()"
   ]
  },
  {
   "cell_type": "code",
   "execution_count": 19,
   "id": "c2fe197f",
   "metadata": {},
   "outputs": [],
   "source": [
    "def evaluate(model, test_loader):\n",
    "    # 모델을 평가모드로 전환\n",
    "    model.eval()\n",
    "    \n",
    "    # 필요한 변수 초기화\n",
    "    # test 과정에서의 loss\n",
    "    # 실제 모델의 예측이 정답과 맞은 횟수(correct)\n",
    "    test_loss = 0\n",
    "    correct = 0\n",
    "    \n",
    "    with torch.no_grad(): # 평가 시에는 기울기를 계산하지 않으므로, no_grad를 명시\n",
    "        for data, target in test_loader:\n",
    "            data, target = data.to(DEVICE), target.to(DEVICE)\n",
    "            output = model(data)\n",
    "            \n",
    "            # 모든 오차 계산하기 \n",
    "            test_loss += F.cross_entropy(output, target, reduction = 'sum').item()\n",
    "            \n",
    "            # 가장 큰 값을 가진 클래스가 모델의 예측\n",
    "            # 예측과 정답을 비교하여 일치하면 correct에 1 더하기\n",
    "            pred = output.max(1, keepdim = True)[1]\n",
    "            \n",
    "            # eq(): 값이 일치하면 1, 아니면 0 \n",
    "            correct += pred.eq(target.view_as(pred)).sum().item() # 맞는것의 개수\n",
    "    test_loss /= len(test_loader.dataset)\n",
    "    \n",
    "    # 정확도 계산\n",
    "    test_accuracy = 100 * correct / len(test_loader.dataset)\n",
    "    \n",
    "    return test_loss, test_accuracy"
   ]
  },
  {
   "cell_type": "code",
   "execution_count": 20,
   "id": "09f0e940",
   "metadata": {},
   "outputs": [
    {
     "name": "stdout",
     "output_type": "stream",
     "text": [
      "[1] Test Loss : 0.1829, Accuracy : 94.62%\n",
      "[2] Test Loss : 0.1748, Accuracy : 94.85%\n",
      "[3] Test Loss : 0.1674, Accuracy : 95.06%\n",
      "[4] Test Loss : 0.1606, Accuracy : 95.26%\n",
      "[5] Test Loss : 0.1544, Accuracy : 95.39%\n"
     ]
    }
   ],
   "source": [
    "# 반환값 내기 \n",
    "for epoch in range(1, 6):\n",
    "    train(model, train_loader, optimizer)\n",
    "    test_loss, test_accuracy = evaluate(model, test_loader)\n",
    "    \n",
    "    print(f'[{epoch}] Test Loss : {test_loss:.4f}, Accuracy : {test_accuracy:.2f}%')"
   ]
  },
  {
   "cell_type": "code",
   "execution_count": null,
   "id": "4a8a8ca0",
   "metadata": {},
   "outputs": [],
   "source": []
  }
 ],
 "metadata": {
  "kernelspec": {
   "display_name": "Python 3 (ipykernel)",
   "language": "python",
   "name": "python3"
  },
  "language_info": {
   "codemirror_mode": {
    "name": "ipython",
    "version": 3
   },
   "file_extension": ".py",
   "mimetype": "text/x-python",
   "name": "python",
   "nbconvert_exporter": "python",
   "pygments_lexer": "ipython3",
   "version": "3.11.5"
  }
 },
 "nbformat": 4,
 "nbformat_minor": 5
}
