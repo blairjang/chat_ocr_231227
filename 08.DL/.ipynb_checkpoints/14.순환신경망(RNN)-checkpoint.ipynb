{
 "cells": [
  {
   "cell_type": "markdown",
   "id": "e83c6b05",
   "metadata": {},
   "source": [
    "# 순차 데이터(sequential data)\n",
    "\n",
    "\n",
    "- 텍스트나 시계열 데이터(time series data)와 같이 순서에 의미가 있는 데이터 \n",
    "    - 예) 'I am a boy'는 의미를 이해할 수 있지만 'boy am i a'는 의미를 이해할 수 없음 \n",
    "    - 일별 온도 데이터에서 날짜 순서가 뒤섞인다면 내일의 온도를 쉽게 예상하기 어려움 \n",
    "    \n",
    "- 감성분석에서는 이전에 입력된 데이터를 기억하는 기능이 중요할 수 있음\n",
    "    - 예) '별로지만 추천해요'에서 '추천해요'를 해석할 때 앞의 '별로지만'을 기억하고 있어야 무조건 긍정이라고 판단하지 않음 \n",
    "    - 퍼셉트론이나 CNN은 이런 기억장치가 없음 \n",
    "        - 하나의 배치를 사용하여 정방향 연산을 수행하고 나면 해당 샘플은 다음 샘플을 처리할 때 사용하지 않음 \n",
    "        - 이처럼 입력 데이터의 흐름이 앞으로만 전달되는 신경망을 피드포워드 신경망(feedforward neural network:FFNN)이라고 함 "
   ]
  },
  {
   "cell_type": "markdown",
   "id": "69a0fd33",
   "metadata": {},
   "source": [
    "# 순환 신경망(recurrent neural network : RNN)\n",
    "\n",
    "<img src = './image/rnn.png'>"
   ]
  },
  {
   "cell_type": "markdown",
   "id": "c33ef7bd",
   "metadata": {},
   "source": [
    "## 순환 신경망 구조\n",
    "\n",
    "- 피드포워드 신경망에 이전 데이터의 처리 흐름을 순환하는 고리 하나만 추가된 형태\n",
    "    - 바로 이전에 사용했던 데이터를 재사용하는 구조 "
   ]
  },
  {
   "cell_type": "markdown",
   "id": "e7843073",
   "metadata": {},
   "source": [
    "<img src = './image/rnn_image1.png'>"
   ]
  },
  {
   "cell_type": "markdown",
   "id": "b5a68799",
   "metadata": {},
   "source": [
    "1. 첫 번째 샘플 x0을 처리하고 출력 h0가 다시 유닛으로 입력됨 \n",
    "    - h0에는 x0에 대한 정보가 포함되어 있음 \n",
    "    \n",
    "2. x1을 처리할 때 h0를 함께 사용 \n",
    "    - h0와 x1을 사용해서 만든 h1에는 x0에 대한 정보가 어느 정도 포함되어 있음 \n",
    "    \n",
    "3. x2를 처리할 때 h1을 함께 사용 \n",
    "    - 결과물 h2에는 x1과 x0에 대한 정보도 담겨있음 \n",
    "    \n",
    "- 위의 과정처럼 샘플을 처리하는 각 단계를 타임스텝(timestep)이라고 말함 \n",
    "    - 순환 신경망은 이전 타임스텝의 샘플을 기억한다 \n",
    "    \n",
    "- 타임스텝이 오래될수록 순환되는 정보는 희미해짐 \n",
    "- 순환신경망에서는 layer를 셀(cell)이라고 부름 \n",
    "    - 하지만 입력에 가중치를 곱하고 활성화 함수를 통과시켜 다음 층으로 전달하는 기본구조는 똑같음 \n",
    "    - 한 셀에는 여러 개의 유닛이 있지만 일반적으로 모든 유닛을 표시하지 않고 하나의 셀로 층을 표현함 \n",
    "    \n",
    "- 셀의 출력은 은닉 상태(hidden state)라고 부름 "
   ]
  },
  {
   "cell_type": "code",
   "execution_count": null,
   "id": "e52b6216",
   "metadata": {},
   "outputs": [],
   "source": []
  },
  {
   "cell_type": "code",
   "execution_count": null,
   "id": "044c837f",
   "metadata": {},
   "outputs": [],
   "source": []
  },
  {
   "cell_type": "code",
   "execution_count": null,
   "id": "c5cf16f8",
   "metadata": {},
   "outputs": [],
   "source": []
  },
  {
   "cell_type": "code",
   "execution_count": null,
   "id": "20b2cc16",
   "metadata": {},
   "outputs": [],
   "source": []
  },
  {
   "cell_type": "code",
   "execution_count": null,
   "id": "2d4c912b",
   "metadata": {},
   "outputs": [],
   "source": []
  },
  {
   "cell_type": "code",
   "execution_count": null,
   "id": "6f19401b",
   "metadata": {},
   "outputs": [],
   "source": []
  },
  {
   "cell_type": "code",
   "execution_count": null,
   "id": "eb9fd663",
   "metadata": {},
   "outputs": [],
   "source": []
  },
  {
   "cell_type": "code",
   "execution_count": null,
   "id": "15647e3b",
   "metadata": {},
   "outputs": [],
   "source": []
  },
  {
   "cell_type": "code",
   "execution_count": null,
   "id": "afd214c0",
   "metadata": {},
   "outputs": [],
   "source": []
  },
  {
   "cell_type": "code",
   "execution_count": null,
   "id": "f1581151",
   "metadata": {},
   "outputs": [],
   "source": []
  },
  {
   "cell_type": "code",
   "execution_count": null,
   "id": "2d86d60e",
   "metadata": {},
   "outputs": [],
   "source": []
  },
  {
   "cell_type": "code",
   "execution_count": null,
   "id": "cc9373c0",
   "metadata": {},
   "outputs": [],
   "source": []
  },
  {
   "cell_type": "code",
   "execution_count": null,
   "id": "15637535",
   "metadata": {},
   "outputs": [],
   "source": []
  },
  {
   "cell_type": "code",
   "execution_count": null,
   "id": "0ecd3ca3",
   "metadata": {},
   "outputs": [],
   "source": []
  },
  {
   "cell_type": "code",
   "execution_count": null,
   "id": "da38efb7",
   "metadata": {},
   "outputs": [],
   "source": []
  },
  {
   "cell_type": "code",
   "execution_count": null,
   "id": "371c5a2d",
   "metadata": {},
   "outputs": [],
   "source": []
  },
  {
   "cell_type": "code",
   "execution_count": null,
   "id": "9422917c",
   "metadata": {},
   "outputs": [],
   "source": []
  },
  {
   "cell_type": "code",
   "execution_count": null,
   "id": "fb204e38",
   "metadata": {},
   "outputs": [],
   "source": []
  },
  {
   "cell_type": "code",
   "execution_count": null,
   "id": "f4838aa8",
   "metadata": {},
   "outputs": [],
   "source": []
  },
  {
   "cell_type": "code",
   "execution_count": null,
   "id": "b8a8a561",
   "metadata": {},
   "outputs": [],
   "source": []
  },
  {
   "cell_type": "code",
   "execution_count": null,
   "id": "bfb5ed66",
   "metadata": {},
   "outputs": [],
   "source": []
  },
  {
   "cell_type": "code",
   "execution_count": null,
   "id": "15cec076",
   "metadata": {},
   "outputs": [],
   "source": []
  },
  {
   "cell_type": "code",
   "execution_count": null,
   "id": "8d387b8f",
   "metadata": {},
   "outputs": [],
   "source": []
  },
  {
   "cell_type": "code",
   "execution_count": null,
   "id": "39cb5852",
   "metadata": {},
   "outputs": [],
   "source": []
  },
  {
   "cell_type": "code",
   "execution_count": null,
   "id": "55e648c1",
   "metadata": {},
   "outputs": [],
   "source": []
  },
  {
   "cell_type": "code",
   "execution_count": null,
   "id": "a27fa20b",
   "metadata": {},
   "outputs": [],
   "source": []
  },
  {
   "cell_type": "code",
   "execution_count": null,
   "id": "d032b095",
   "metadata": {},
   "outputs": [],
   "source": []
  },
  {
   "cell_type": "code",
   "execution_count": null,
   "id": "ef8acec5",
   "metadata": {},
   "outputs": [],
   "source": []
  },
  {
   "cell_type": "code",
   "execution_count": null,
   "id": "af7c240e",
   "metadata": {},
   "outputs": [],
   "source": []
  },
  {
   "cell_type": "code",
   "execution_count": null,
   "id": "3f9d0d1b",
   "metadata": {},
   "outputs": [],
   "source": []
  },
  {
   "cell_type": "code",
   "execution_count": null,
   "id": "62a8ee02",
   "metadata": {},
   "outputs": [],
   "source": []
  },
  {
   "cell_type": "code",
   "execution_count": null,
   "id": "efe9be84",
   "metadata": {},
   "outputs": [],
   "source": []
  },
  {
   "cell_type": "code",
   "execution_count": null,
   "id": "0ebdc1a6",
   "metadata": {},
   "outputs": [],
   "source": []
  },
  {
   "cell_type": "code",
   "execution_count": null,
   "id": "1547fbe0",
   "metadata": {},
   "outputs": [],
   "source": []
  },
  {
   "cell_type": "code",
   "execution_count": null,
   "id": "df4b8f2d",
   "metadata": {},
   "outputs": [],
   "source": []
  },
  {
   "cell_type": "code",
   "execution_count": null,
   "id": "d645a6d6",
   "metadata": {},
   "outputs": [],
   "source": []
  },
  {
   "cell_type": "code",
   "execution_count": null,
   "id": "e69013a6",
   "metadata": {},
   "outputs": [],
   "source": []
  },
  {
   "cell_type": "code",
   "execution_count": null,
   "id": "c44d6cf9",
   "metadata": {},
   "outputs": [],
   "source": []
  },
  {
   "cell_type": "code",
   "execution_count": null,
   "id": "ce2017fd",
   "metadata": {},
   "outputs": [],
   "source": []
  },
  {
   "cell_type": "code",
   "execution_count": null,
   "id": "4c09722e",
   "metadata": {},
   "outputs": [],
   "source": []
  }
 ],
 "metadata": {
  "kernelspec": {
   "display_name": "Python 3 (ipykernel)",
   "language": "python",
   "name": "python3"
  },
  "language_info": {
   "codemirror_mode": {
    "name": "ipython",
    "version": 3
   },
   "file_extension": ".py",
   "mimetype": "text/x-python",
   "name": "python",
   "nbconvert_exporter": "python",
   "pygments_lexer": "ipython3",
   "version": "3.11.5"
  }
 },
 "nbformat": 4,
 "nbformat_minor": 5
}
