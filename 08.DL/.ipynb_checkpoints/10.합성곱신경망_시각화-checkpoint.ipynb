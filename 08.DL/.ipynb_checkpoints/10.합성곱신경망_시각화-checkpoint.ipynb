{
 "cells": [
  {
   "cell_type": "code",
   "execution_count": 18,
   "id": "94a9818a",
   "metadata": {},
   "outputs": [],
   "source": [
    "from tensorflow import keras\n",
    "import matplotlib.pyplot as plt\n",
    "\n",
    "import warnings\n",
    "warnings.filterwarnings('ignore')"
   ]
  },
  {
   "cell_type": "markdown",
   "id": "f1e8c662",
   "metadata": {},
   "source": [
    "# 필터의 가중치\n",
    "\n",
    "- 입력 이미지의 2차원 영역에 적용되어 어떤 특징을 크게 두드러지게 표현하는 역할\n",
    "    - 예) 물건의 테두리같은 특징적인 부분의 가중치는 높고 그 외 영역은 가중치가 낮게 "
   ]
  },
  {
   "cell_type": "code",
   "execution_count": 2,
   "id": "04f92942",
   "metadata": {},
   "outputs": [],
   "source": [
    "# 저장해둔 CNN 모델 불러오기\n",
    "model = keras.models.load_model('./model/best-cnn-model.keras')"
   ]
  },
  {
   "cell_type": "code",
   "execution_count": 3,
   "id": "eac923a9",
   "metadata": {},
   "outputs": [
    {
     "data": {
      "text/plain": [
       "[<Conv2D name=conv2d_1, built=True>,\n",
       " <MaxPooling2D name=max_pooling2d_2, built=True>,\n",
       " <Conv2D name=conv2d_2, built=True>,\n",
       " <MaxPooling2D name=max_pooling2d_3, built=True>,\n",
       " <Flatten name=flatten_1, built=True>,\n",
       " <Dense name=dense_2, built=True>,\n",
       " <Dropout name=dropout_1, built=True>,\n",
       " <Dense name=dense_3, built=True>]"
      ]
     },
     "execution_count": 3,
     "metadata": {},
     "output_type": "execute_result"
    }
   ],
   "source": [
    "# 모델 층 확인\n",
    "model.layers"
   ]
  },
  {
   "cell_type": "code",
   "execution_count": 4,
   "id": "e8c2e126",
   "metadata": {},
   "outputs": [],
   "source": [
    "# 첫 번째 합성곱 층의 가중치 확인\n",
    "conv = model.layers[0]"
   ]
  },
  {
   "cell_type": "code",
   "execution_count": 8,
   "id": "b61d7336",
   "metadata": {
    "scrolled": true
   },
   "outputs": [
    {
     "data": {
      "text/plain": [
       "<tf.Tensor: shape=(3, 1, 32), dtype=float32, numpy=\n",
       "array([[[-0.19267856, -0.18556857, -0.31948006,  0.15063305,\n",
       "          0.00247132, -0.09422003, -0.12814507,  0.21650659,\n",
       "         -0.6322966 , -0.09114772,  0.09132703,  0.02765252,\n",
       "         -0.4119527 ,  0.1692646 ,  0.12964389,  0.09731767,\n",
       "         -0.08330709, -0.1926731 ,  0.14400697, -0.27317277,\n",
       "         -0.10383009,  0.14143027, -0.33515513,  0.16339183,\n",
       "         -0.07539035,  0.10940597,  0.02464085, -0.14464776,\n",
       "         -0.02967625, -0.02463762,  0.09768693, -0.00329836]],\n",
       "\n",
       "       [[ 0.16921571, -0.7325735 ,  0.1556859 , -0.278838  ,\n",
       "         -0.25992602, -0.63275063, -0.39189526,  0.24686126,\n",
       "         -1.135507  ,  0.16735016, -0.01241929,  0.15255293,\n",
       "         -0.22079156,  0.18742114,  0.04776847,  0.2620676 ,\n",
       "          0.2049263 , -0.06667225, -0.06705862, -1.4135504 ,\n",
       "         -0.06224138,  0.10987412, -0.24800718,  0.12790698,\n",
       "         -0.03606968, -0.06929073, -0.02172839,  0.1647504 ,\n",
       "          0.38200524,  0.06646618,  0.24773307,  0.16272679]],\n",
       "\n",
       "       [[ 0.0418065 , -0.8154881 ,  0.1571153 , -0.2296788 ,\n",
       "          0.33382335,  0.02828948,  0.07237379,  0.28203616,\n",
       "         -0.35925695, -0.09257936, -0.15835607, -0.26373222,\n",
       "          0.07844042,  0.10122613, -0.06958009, -0.18989418,\n",
       "         -0.11050809,  0.16229366,  0.16017553, -1.1007783 ,\n",
       "          0.04471351, -0.20498084,  0.17223184,  0.16929393,\n",
       "         -0.19529277, -0.17716807,  0.09415279, -0.00624819,\n",
       "         -0.02971509, -0.02719812, -0.16441868, -0.14775933]]],\n",
       "      dtype=float32)>"
      ]
     },
     "execution_count": 8,
     "metadata": {},
     "output_type": "execute_result"
    }
   ],
   "source": [
    "conv.weights[0][0]"
   ]
  },
  {
   "cell_type": "code",
   "execution_count": 10,
   "id": "90198944",
   "metadata": {},
   "outputs": [
    {
     "data": {
      "text/plain": [
       "<tf.Variable 'conv2d_1/kernel:0' shape=(3, 3, 1, 32) dtype=float32, numpy=\n",
       "array([[[[-1.92678556e-01, -1.85568571e-01, -3.19480062e-01,\n",
       "           1.50633052e-01,  2.47132313e-03, -9.42200348e-02,\n",
       "          -1.28145069e-01,  2.16506585e-01, -6.32296622e-01,\n",
       "          -9.11477208e-02,  9.13270265e-02,  2.76525188e-02,\n",
       "          -4.11952704e-01,  1.69264600e-01,  1.29643887e-01,\n",
       "           9.73176733e-02, -8.33070949e-02, -1.92673102e-01,\n",
       "           1.44006968e-01, -2.73172766e-01, -1.03830092e-01,\n",
       "           1.41430274e-01, -3.35155129e-01,  1.63391829e-01,\n",
       "          -7.53903538e-02,  1.09405972e-01,  2.46408470e-02,\n",
       "          -1.44647762e-01, -2.96762474e-02, -2.46376172e-02,\n",
       "           9.76869315e-02, -3.29836202e-03]],\n",
       "\n",
       "        [[ 1.69215709e-01, -7.32573509e-01,  1.55685902e-01,\n",
       "          -2.78838009e-01, -2.59926021e-01, -6.32750630e-01,\n",
       "          -3.91895264e-01,  2.46861264e-01, -1.13550699e+00,\n",
       "           1.67350158e-01, -1.24192862e-02,  1.52552933e-01,\n",
       "          -2.20791563e-01,  1.87421143e-01,  4.77684699e-02,\n",
       "           2.62067586e-01,  2.04926297e-01, -6.66722506e-02,\n",
       "          -6.70586154e-02, -1.41355038e+00, -6.22413754e-02,\n",
       "           1.09874122e-01, -2.48007178e-01,  1.27906978e-01,\n",
       "          -3.60696837e-02, -6.92907348e-02, -2.17283852e-02,\n",
       "           1.64750397e-01,  3.82005244e-01,  6.64661825e-02,\n",
       "           2.47733071e-01,  1.62726790e-01]],\n",
       "\n",
       "        [[ 4.18065004e-02, -8.15488100e-01,  1.57115296e-01,\n",
       "          -2.29678795e-01,  3.33823353e-01,  2.82894764e-02,\n",
       "           7.23737851e-02,  2.82036155e-01, -3.59256953e-01,\n",
       "          -9.25793648e-02, -1.58356071e-01, -2.63732225e-01,\n",
       "           7.84404203e-02,  1.01226129e-01, -6.95800930e-02,\n",
       "          -1.89894184e-01, -1.10508092e-01,  1.62293658e-01,\n",
       "           1.60175532e-01, -1.10077834e+00,  4.47135083e-02,\n",
       "          -2.04980835e-01,  1.72231838e-01,  1.69293925e-01,\n",
       "          -1.95292771e-01, -1.77168071e-01,  9.41527933e-02,\n",
       "          -6.24819333e-03, -2.97150854e-02, -2.71981191e-02,\n",
       "          -1.64418682e-01, -1.47759333e-01]]],\n",
       "\n",
       "\n",
       "       [[[-8.81754011e-02,  3.39194804e-01, -2.27356493e-01,\n",
       "           1.65973887e-01, -1.85141847e-01, -2.07078964e-01,\n",
       "           1.10967100e-01, -1.65318772e-01, -1.03445746e-01,\n",
       "           7.00848103e-02,  2.25524262e-01,  1.04024708e-01,\n",
       "           9.31399465e-02,  1.70266405e-01,  6.94205314e-02,\n",
       "           1.86021328e-01, -1.75092101e-01,  1.56376325e-02,\n",
       "           1.30337909e-01,  3.17497067e-02,  1.20041603e-02,\n",
       "           3.42658579e-01, -6.69488087e-02,  4.75552827e-02,\n",
       "          -1.11949071e-01,  2.08596617e-01, -2.23185375e-01,\n",
       "           3.25672060e-01,  3.00483197e-01, -2.91306585e-01,\n",
       "           1.07810631e-01,  1.21496432e-01]],\n",
       "\n",
       "        [[-1.84087381e-01, -4.79432568e-02,  1.66818142e-01,\n",
       "           1.29699651e-02, -1.17045313e-01, -5.84880590e-01,\n",
       "           3.26906353e-01, -3.51154983e-01, -2.55522192e-01,\n",
       "           4.08835374e-02, -3.22441533e-02,  2.09188536e-01,\n",
       "           1.90303460e-01, -3.13766062e-01,  1.90880299e-01,\n",
       "          -2.35364452e-01,  1.11691199e-01,  2.64077008e-01,\n",
       "          -2.29448020e-01, -6.15613580e-01,  9.53004435e-02,\n",
       "          -1.72970489e-01,  2.45923638e-01,  1.11014843e-01,\n",
       "           9.69844218e-03,  1.74358770e-01, -1.99480310e-01,\n",
       "          -1.13192402e-01, -6.49621129e-01,  2.65661836e-01,\n",
       "           9.43686217e-02,  1.88906997e-01]],\n",
       "\n",
       "        [[ 2.66219854e-01, -9.69722271e-02,  3.79414484e-02,\n",
       "          -6.88066632e-02,  2.80112982e-01, -2.21741088e-02,\n",
       "           2.42958650e-01, -2.70965368e-01,  3.52957435e-02,\n",
       "           8.05508420e-02, -1.66105926e-01, -2.10105836e-01,\n",
       "          -1.36094317e-01,  2.46217340e-01,  5.69654740e-02,\n",
       "          -1.37120835e-03,  7.76215047e-02, -2.40957856e-01,\n",
       "          -3.00144434e-01, -4.40879703e-01, -7.73495138e-02,\n",
       "          -2.07934394e-01,  7.88815618e-02, -2.09344447e-01,\n",
       "           1.61683500e-01, -2.86942899e-01,  2.50181139e-01,\n",
       "          -2.25996599e-01, -6.12242460e-01,  3.38250697e-02,\n",
       "           7.61557296e-02, -3.12680840e-01]]],\n",
       "\n",
       "\n",
       "       [[[-1.04722187e-01, -8.82565510e-03,  2.98675686e-01,\n",
       "           1.61709353e-01,  1.23234630e-01,  1.47637352e-01,\n",
       "          -5.47376694e-03,  7.80985355e-02, -4.42504548e-02,\n",
       "          -3.37765068e-02,  4.76794131e-03,  6.35155365e-02,\n",
       "           1.62861407e-01, -8.08581896e-03, -4.95945066e-02,\n",
       "          -1.56992808e-01, -3.81261379e-01,  1.73769128e-02,\n",
       "           9.81503502e-02,  3.59189153e-01,  1.12225622e-01,\n",
       "           1.16764009e-01, -5.59815345e-03,  1.62080422e-01,\n",
       "           1.12870097e-01,  3.19015384e-02, -1.95347771e-01,\n",
       "           1.84920430e-01,  5.59425615e-02, -2.96601176e-01,\n",
       "          -2.97246903e-01, -1.41300052e-01]],\n",
       "\n",
       "        [[-3.71294096e-03,  9.84275043e-02, -8.42321590e-02,\n",
       "           1.10314704e-01, -2.15375021e-01,  1.60611615e-01,\n",
       "           1.05405323e-01, -4.54850756e-02, -4.30885470e-03,\n",
       "           1.03603296e-01,  5.86539842e-02,  1.49725571e-01,\n",
       "           1.53748482e-01, -9.32221413e-01,  1.87258855e-01,\n",
       "          -2.49895662e-01,  1.64329603e-01, -2.02432916e-01,\n",
       "           2.09814385e-01,  9.05426741e-02,  2.11131200e-02,\n",
       "          -2.86891926e-02, -6.79014698e-02, -2.37398773e-01,\n",
       "           4.04970162e-02, -1.06116936e-01,  1.29450455e-01,\n",
       "          -3.58447611e-01, -9.84828949e-01,  1.94068834e-01,\n",
       "          -2.93147385e-01,  2.76533544e-01]],\n",
       "\n",
       "        [[ 1.19774103e-01,  1.45323977e-01, -2.34729126e-01,\n",
       "           1.49154691e-02,  7.32678697e-02,  2.20888481e-01,\n",
       "          -3.51014405e-01, -8.55173245e-02,  2.43983343e-01,\n",
       "          -1.92739874e-01,  2.15310276e-01, -1.97675630e-01,\n",
       "           4.55512740e-02, -7.07059056e-02,  4.17260937e-02,\n",
       "           2.45222017e-01,  2.19147608e-01,  4.45944816e-02,\n",
       "           1.37555422e-02, -1.17905755e-02,  1.73453420e-01,\n",
       "          -9.38387811e-02,  3.75113115e-02, -4.30703521e-01,\n",
       "           9.91375223e-02,  1.16628073e-01,  1.75398842e-01,\n",
       "           1.56084821e-01, -1.47909522e+00,  1.03023104e-01,\n",
       "           1.52906552e-01, -1.26651883e-01]]]], dtype=float32)>"
      ]
     },
     "execution_count": 10,
     "metadata": {},
     "output_type": "execute_result"
    }
   ],
   "source": [
    "conv.weights[0].value"
   ]
  },
  {
   "cell_type": "code",
   "execution_count": 7,
   "id": "dc240638",
   "metadata": {},
   "outputs": [
    {
     "data": {
      "text/plain": [
       "(TensorShape([3, 3, 1, 32]), TensorShape([32]))"
      ]
     },
     "execution_count": 7,
     "metadata": {},
     "output_type": "execute_result"
    }
   ],
   "source": [
    "conv.weights[0].shape, conv.weights[1].shape"
   ]
  },
  {
   "cell_type": "markdown",
   "id": "73abf9b9",
   "metadata": {},
   "source": [
    "- conv.weights[0]\n",
    "    - 가중치\n",
    "    - 가중치의 크기\n",
    "        - 커널의 크기 : (3, 3, 1)\n",
    "        - 필터의 개수 : 32\n",
    "        \n",
    "- conv.weights[1]\n",
    "    - 절편의 개수 = 필터의 개수 "
   ]
  },
  {
   "cell_type": "code",
   "execution_count": 11,
   "id": "7d73da5c",
   "metadata": {},
   "outputs": [
    {
     "data": {
      "text/plain": [
       "array([[[[-1.92678556e-01, -1.85568571e-01, -3.19480062e-01,\n",
       "           1.50633052e-01,  2.47132313e-03, -9.42200348e-02,\n",
       "          -1.28145069e-01,  2.16506585e-01, -6.32296622e-01,\n",
       "          -9.11477208e-02,  9.13270265e-02,  2.76525188e-02,\n",
       "          -4.11952704e-01,  1.69264600e-01,  1.29643887e-01,\n",
       "           9.73176733e-02, -8.33070949e-02, -1.92673102e-01,\n",
       "           1.44006968e-01, -2.73172766e-01, -1.03830092e-01,\n",
       "           1.41430274e-01, -3.35155129e-01,  1.63391829e-01,\n",
       "          -7.53903538e-02,  1.09405972e-01,  2.46408470e-02,\n",
       "          -1.44647762e-01, -2.96762474e-02, -2.46376172e-02,\n",
       "           9.76869315e-02, -3.29836202e-03]],\n",
       "\n",
       "        [[ 1.69215709e-01, -7.32573509e-01,  1.55685902e-01,\n",
       "          -2.78838009e-01, -2.59926021e-01, -6.32750630e-01,\n",
       "          -3.91895264e-01,  2.46861264e-01, -1.13550699e+00,\n",
       "           1.67350158e-01, -1.24192862e-02,  1.52552933e-01,\n",
       "          -2.20791563e-01,  1.87421143e-01,  4.77684699e-02,\n",
       "           2.62067586e-01,  2.04926297e-01, -6.66722506e-02,\n",
       "          -6.70586154e-02, -1.41355038e+00, -6.22413754e-02,\n",
       "           1.09874122e-01, -2.48007178e-01,  1.27906978e-01,\n",
       "          -3.60696837e-02, -6.92907348e-02, -2.17283852e-02,\n",
       "           1.64750397e-01,  3.82005244e-01,  6.64661825e-02,\n",
       "           2.47733071e-01,  1.62726790e-01]],\n",
       "\n",
       "        [[ 4.18065004e-02, -8.15488100e-01,  1.57115296e-01,\n",
       "          -2.29678795e-01,  3.33823353e-01,  2.82894764e-02,\n",
       "           7.23737851e-02,  2.82036155e-01, -3.59256953e-01,\n",
       "          -9.25793648e-02, -1.58356071e-01, -2.63732225e-01,\n",
       "           7.84404203e-02,  1.01226129e-01, -6.95800930e-02,\n",
       "          -1.89894184e-01, -1.10508092e-01,  1.62293658e-01,\n",
       "           1.60175532e-01, -1.10077834e+00,  4.47135083e-02,\n",
       "          -2.04980835e-01,  1.72231838e-01,  1.69293925e-01,\n",
       "          -1.95292771e-01, -1.77168071e-01,  9.41527933e-02,\n",
       "          -6.24819333e-03, -2.97150854e-02, -2.71981191e-02,\n",
       "          -1.64418682e-01, -1.47759333e-01]]],\n",
       "\n",
       "\n",
       "       [[[-8.81754011e-02,  3.39194804e-01, -2.27356493e-01,\n",
       "           1.65973887e-01, -1.85141847e-01, -2.07078964e-01,\n",
       "           1.10967100e-01, -1.65318772e-01, -1.03445746e-01,\n",
       "           7.00848103e-02,  2.25524262e-01,  1.04024708e-01,\n",
       "           9.31399465e-02,  1.70266405e-01,  6.94205314e-02,\n",
       "           1.86021328e-01, -1.75092101e-01,  1.56376325e-02,\n",
       "           1.30337909e-01,  3.17497067e-02,  1.20041603e-02,\n",
       "           3.42658579e-01, -6.69488087e-02,  4.75552827e-02,\n",
       "          -1.11949071e-01,  2.08596617e-01, -2.23185375e-01,\n",
       "           3.25672060e-01,  3.00483197e-01, -2.91306585e-01,\n",
       "           1.07810631e-01,  1.21496432e-01]],\n",
       "\n",
       "        [[-1.84087381e-01, -4.79432568e-02,  1.66818142e-01,\n",
       "           1.29699651e-02, -1.17045313e-01, -5.84880590e-01,\n",
       "           3.26906353e-01, -3.51154983e-01, -2.55522192e-01,\n",
       "           4.08835374e-02, -3.22441533e-02,  2.09188536e-01,\n",
       "           1.90303460e-01, -3.13766062e-01,  1.90880299e-01,\n",
       "          -2.35364452e-01,  1.11691199e-01,  2.64077008e-01,\n",
       "          -2.29448020e-01, -6.15613580e-01,  9.53004435e-02,\n",
       "          -1.72970489e-01,  2.45923638e-01,  1.11014843e-01,\n",
       "           9.69844218e-03,  1.74358770e-01, -1.99480310e-01,\n",
       "          -1.13192402e-01, -6.49621129e-01,  2.65661836e-01,\n",
       "           9.43686217e-02,  1.88906997e-01]],\n",
       "\n",
       "        [[ 2.66219854e-01, -9.69722271e-02,  3.79414484e-02,\n",
       "          -6.88066632e-02,  2.80112982e-01, -2.21741088e-02,\n",
       "           2.42958650e-01, -2.70965368e-01,  3.52957435e-02,\n",
       "           8.05508420e-02, -1.66105926e-01, -2.10105836e-01,\n",
       "          -1.36094317e-01,  2.46217340e-01,  5.69654740e-02,\n",
       "          -1.37120835e-03,  7.76215047e-02, -2.40957856e-01,\n",
       "          -3.00144434e-01, -4.40879703e-01, -7.73495138e-02,\n",
       "          -2.07934394e-01,  7.88815618e-02, -2.09344447e-01,\n",
       "           1.61683500e-01, -2.86942899e-01,  2.50181139e-01,\n",
       "          -2.25996599e-01, -6.12242460e-01,  3.38250697e-02,\n",
       "           7.61557296e-02, -3.12680840e-01]]],\n",
       "\n",
       "\n",
       "       [[[-1.04722187e-01, -8.82565510e-03,  2.98675686e-01,\n",
       "           1.61709353e-01,  1.23234630e-01,  1.47637352e-01,\n",
       "          -5.47376694e-03,  7.80985355e-02, -4.42504548e-02,\n",
       "          -3.37765068e-02,  4.76794131e-03,  6.35155365e-02,\n",
       "           1.62861407e-01, -8.08581896e-03, -4.95945066e-02,\n",
       "          -1.56992808e-01, -3.81261379e-01,  1.73769128e-02,\n",
       "           9.81503502e-02,  3.59189153e-01,  1.12225622e-01,\n",
       "           1.16764009e-01, -5.59815345e-03,  1.62080422e-01,\n",
       "           1.12870097e-01,  3.19015384e-02, -1.95347771e-01,\n",
       "           1.84920430e-01,  5.59425615e-02, -2.96601176e-01,\n",
       "          -2.97246903e-01, -1.41300052e-01]],\n",
       "\n",
       "        [[-3.71294096e-03,  9.84275043e-02, -8.42321590e-02,\n",
       "           1.10314704e-01, -2.15375021e-01,  1.60611615e-01,\n",
       "           1.05405323e-01, -4.54850756e-02, -4.30885470e-03,\n",
       "           1.03603296e-01,  5.86539842e-02,  1.49725571e-01,\n",
       "           1.53748482e-01, -9.32221413e-01,  1.87258855e-01,\n",
       "          -2.49895662e-01,  1.64329603e-01, -2.02432916e-01,\n",
       "           2.09814385e-01,  9.05426741e-02,  2.11131200e-02,\n",
       "          -2.86891926e-02, -6.79014698e-02, -2.37398773e-01,\n",
       "           4.04970162e-02, -1.06116936e-01,  1.29450455e-01,\n",
       "          -3.58447611e-01, -9.84828949e-01,  1.94068834e-01,\n",
       "          -2.93147385e-01,  2.76533544e-01]],\n",
       "\n",
       "        [[ 1.19774103e-01,  1.45323977e-01, -2.34729126e-01,\n",
       "           1.49154691e-02,  7.32678697e-02,  2.20888481e-01,\n",
       "          -3.51014405e-01, -8.55173245e-02,  2.43983343e-01,\n",
       "          -1.92739874e-01,  2.15310276e-01, -1.97675630e-01,\n",
       "           4.55512740e-02, -7.07059056e-02,  4.17260937e-02,\n",
       "           2.45222017e-01,  2.19147608e-01,  4.45944816e-02,\n",
       "           1.37555422e-02, -1.17905755e-02,  1.73453420e-01,\n",
       "          -9.38387811e-02,  3.75113115e-02, -4.30703521e-01,\n",
       "           9.91375223e-02,  1.16628073e-01,  1.75398842e-01,\n",
       "           1.56084821e-01, -1.47909522e+00,  1.03023104e-01,\n",
       "           1.52906552e-01, -1.26651883e-01]]]], dtype=float32)"
      ]
     },
     "execution_count": 11,
     "metadata": {},
     "output_type": "execute_result"
    }
   ],
   "source": [
    "conv_weights = conv.weights[0].numpy()\n",
    "conv_weights"
   ]
  },
  {
   "cell_type": "code",
   "execution_count": 12,
   "id": "be8b1701",
   "metadata": {},
   "outputs": [
    {
     "name": "stdout",
     "output_type": "stream",
     "text": [
      "-0.03694755 0.26615623\n"
     ]
    }
   ],
   "source": [
    "# 가중치의 평균과 표준편차\n",
    "print(conv_weights.mean(), conv_weights.std())"
   ]
  },
  {
   "cell_type": "code",
   "execution_count": 13,
   "id": "f379d4cc",
   "metadata": {},
   "outputs": [
    {
     "data": {
      "image/png": "[encoded data removed]",
      "text/plain": [
       "<Figure size 640x480 with 1 Axes>"
      ]
     },
     "metadata": {},
     "output_type": "display_data"
    }
   ],
   "source": [
    "# 가중치 히스토그램\n",
    "plt.figure()\n",
    "\n",
    "plt.hist(conv_weights.reshape(-1, 1))\n",
    "plt.xlabel('weight')\n",
    "plt.ylabel('count')\n",
    "plt.show()"
   ]
  },
  {
   "cell_type": "markdown",
   "id": "015b5c8b",
   "metadata": {},
   "source": [
    "- 0을 중심으로 종 모양의 분포 "
   ]
  },
  {
   "cell_type": "code",
   "execution_count": 15,
   "id": "db425b2c",
   "metadata": {},
   "outputs": [
    {
     "data": {
      "image/png": "[encoded data removed]",
      "text/plain": [
       "<Figure size 1500x200 with 32 Axes>"
      ]
     },
     "metadata": {},
     "output_type": "display_data"
    }
   ],
   "source": [
    "# 32개의 커널을 모두 시각화\n",
    "\n",
    "# 2행 16열로 \n",
    "fig, axs = plt.subplots(2, 16, figsize = (15, 2))\n",
    "\n",
    "for i in range(2):\n",
    "    for j in range(16):\n",
    "        axs[i, j].imshow(conv_weights[:, :, 0, i * 16 + j], vmin = -0.5, vmax = 0.5)\n",
    "        axs[i, j].axis('off')\n",
    "        \n",
    "plt.show()"
   ]
  },
  {
   "cell_type": "markdown",
   "id": "2852cd95",
   "metadata": {},
   "source": [
    "- 밝은 부분이 높은 값\n",
    "    - 가중치가 높은 영역에 이미지가 겹치면 크게 활성화됨\n",
    "        - 예) 오른쪽 세로로 한 줄의 가중치가 높다면 오른쪽에 놓인 직선을 만나면 크게 활성화 \n",
    "        \n",
    "- i : 행 인덱스(0 ~ 1)\n",
    "- j : 열 인덱스(0 ~ 15)\n",
    "    - conv_weights[:, :, 0, 0] 부터 conv_weights[:, :, 0, 31]까지 출력\n",
    "    \n",
    "- imshow()\n",
    "    - 배열의 최댓값과 최솟값으로 픽셀의 강도를 표현\n",
    "        - 배열의 최댓값은 가장 밝은색으로\n",
    "        - 배열의 최솟값은 가장 어두운 색으로 표현\n",
    "        \n",
    "    - vmax, vmin\n",
    "        - 컬러맵으로 표현할 색의 범위 지정 "
   ]
  },
  {
   "cell_type": "markdown",
   "id": "35c65554",
   "metadata": {},
   "source": [
    "# 훈련하지 않은 빈 합성곱 신경망과 비교 "
   ]
  },
  {
   "cell_type": "code",
   "execution_count": 19,
   "id": "dea9b802",
   "metadata": {},
   "outputs": [],
   "source": [
    "no_training_model = keras.Sequential()\n",
    "no_training_model.add(keras.layers.Conv2D(32, kernel_size = 3, activation = 'relu',\n",
    "                                          padding = 'same', input_shape = (28, 28, 1)))"
   ]
  },
  {
   "cell_type": "code",
   "execution_count": 20,
   "id": "3906003f",
   "metadata": {},
   "outputs": [
    {
     "name": "stdout",
     "output_type": "stream",
     "text": [
      "(3, 3, 1, 32)\n"
     ]
    }
   ],
   "source": [
    "# 훈련하지 않은 빈 합성곱 층의 가중치를 저장\n",
    "no_training_conv = no_training_model.layers[0]\n",
    "print(no_training_conv.weights[0].shape)"
   ]
  },
  {
   "cell_type": "code",
   "execution_count": 21,
   "id": "2f4b392e",
   "metadata": {},
   "outputs": [
    {
     "name": "stdout",
     "output_type": "stream",
     "text": [
      "-0.0018640573 0.08562804\n"
     ]
    }
   ],
   "source": [
    "no_training_weights = no_training_conv.weights[0].numpy()\n",
    "print(no_training_weights.mean(), no_training_weights.std())"
   ]
  },
  {
   "cell_type": "code",
   "execution_count": 23,
   "id": "cae1b8a2",
   "metadata": {},
   "outputs": [
    {
     "data": {
      "image/png": "[encoded data removed]",
      "text/plain": [
       "<Figure size 640x480 with 1 Axes>"
      ]
     },
     "metadata": {},
     "output_type": "display_data"
    }
   ],
   "source": [
    "# 빈 합성곱 층 히스토그램\n",
    "plt.figure()\n",
    "plt.hist(no_training_weights.reshape(-1, 1))\n",
    "\n",
    "plt.xlabel('weight')\n",
    "plt.ylabel('count')\n",
    "plt.show()"
   ]
  },
  {
   "cell_type": "markdown",
   "id": "4f545540",
   "metadata": {},
   "source": [
    "- 대부분의 가중치가 -0.15 부터 0.15 까지 고르게 분포함\n",
    "    - 텐서플로에서 가중치를 초기화할 때 균등 분포에서 랜덤하게 값을 선택하기 때문에"
   ]
  },
  {
   "cell_type": "code",
   "execution_count": 25,
   "id": "7e2c4d26",
   "metadata": {},
   "outputs": [
    {
     "data": {
      "image/png": "[encoded data removed]",
      "text/plain": [
       "<Figure size 1500x200 with 32 Axes>"
      ]
     },
     "metadata": {},
     "output_type": "display_data"
    }
   ],
   "source": [
    "# 32개의 터널을 모두 시각화\n",
    "fig, axs = plt.subplots(2, 16, figsize = (15, 2))\n",
    "\n",
    "for i in range(2):\n",
    "    for j in range(16):\n",
    "        axs[i, j].imshow(no_training_weights[:, :, 0, i * 16 + j], vmin = -0.5, vmax = 0.5)\n",
    "        axs[i, j].axis('off')\n",
    "        \n",
    "plt.show()"
   ]
  },
  {
   "cell_type": "markdown",
   "id": "6d496c24",
   "metadata": {},
   "source": [
    "- 훈련된 모델에 비해 패턴이 뚜렷하지 않음\n",
    "- 위에 그래프에 비해 뚜렷하지 않음"
   ]
  },
  {
   "cell_type": "markdown",
   "id": "0f1394fb",
   "metadata": {},
   "source": [
    "# 케라스의 함수형 API\n",
    "\n",
    "- Sequential 클래스 : 층을 차례대로 쌓은 단순한 모델을 구성\n",
    "- 복잡한 모델은 구성하기 힘들기 때문에 함수형 API(functional API)를 사용\n",
    "- 케라스의 Model 클래스를 사용하여 모델을 생성 \n",
    "- layers 객체를 함수처럼 호출하여 동작 "
   ]
  },
  {
   "cell_type": "markdown",
   "id": "a4442f0d",
   "metadata": {},
   "source": [
    "## 함수형 API로 다층 퍼셉트론 모델 구현 예제 "
   ]
  },
  {
   "cell_type": "code",
   "execution_count": 26,
   "id": "ee65e512",
   "metadata": {},
   "outputs": [],
   "source": [
    "# 입력층 생성\n",
    "inputs = keras.Input(shape = (784, ))"
   ]
  },
  {
   "cell_type": "markdown",
   "id": "58be5f12",
   "metadata": {},
   "source": [
    "- Sequential 클래스는 InputLayer 클래스를 자동으로 추가하고 호출\n",
    "- Model 클래스는 입력층을 수동으로 만들어서 호출해야 함 "
   ]
  },
  {
   "cell_type": "code",
   "execution_count": 27,
   "id": "27811cba",
   "metadata": {},
   "outputs": [],
   "source": [
    "# 은닉층과 출력층 객체 생성\n",
    "dense1 = keras.layers.Dense(100, activation = 'sigmoid')\n",
    "dense2 = keras.layers.Dense(10, activation = 'softmax')"
   ]
  },
  {
   "cell_type": "code",
   "execution_count": 28,
   "id": "b6a26678",
   "metadata": {},
   "outputs": [],
   "source": [
    "# 은닉층 호출\n",
    "hidden = dense1(inputs)"
   ]
  },
  {
   "cell_type": "markdown",
   "id": "6c141ebf",
   "metadata": {},
   "source": [
    "- inputs를 Dense층에 통과시킨 후 출력값 hidden을 만드는 구조 생성"
   ]
  },
  {
   "cell_type": "code",
   "execution_count": 29,
   "id": "1c6da4ba",
   "metadata": {},
   "outputs": [],
   "source": [
    "# 출력층 호출\n",
    "outputs = dense2(hidden)"
   ]
  },
  {
   "cell_type": "code",
   "execution_count": 30,
   "id": "9c9c12c4",
   "metadata": {},
   "outputs": [],
   "source": [
    "# Model 클래스로 inputs 와 outputs 를 연결 \n",
    "test_model = keras.Model(inputs, outputs)"
   ]
  },
  {
   "cell_type": "code",
   "execution_count": 31,
   "id": "9b4cf2ed",
   "metadata": {},
   "outputs": [
    {
     "data": {
      "text/html": [
       "<pre style=\"white-space:pre;overflow-x:auto;line-height:normal;font-family:Menlo,'DejaVu Sans Mono',consolas,'Courier New',monospace\"><span style=\"font-weight: bold\">Model: \"functional_11\"</span>\n",
       "</pre>\n"
      ],
      "text/plain": [
       "\u001b[1mModel: \"functional_11\"\u001b[0m\n"
      ]
     },
     "metadata": {},
     "output_type": "display_data"
    },
    {
     "data": {
      "text/html": [
       "<pre style=\"white-space:pre;overflow-x:auto;line-height:normal;font-family:Menlo,'DejaVu Sans Mono',consolas,'Courier New',monospace\">┏━━━━━━━━━━━━━━━━━━━━━━━━━━━━━━━━━━━━━━┳━━━━━━━━━━━━━━━━━━━━━━━━━━━━━┳━━━━━━━━━━━━━━━━━┓\n",
       "┃<span style=\"font-weight: bold\"> Layer (type)                         </span>┃<span style=\"font-weight: bold\"> Output Shape                </span>┃<span style=\"font-weight: bold\">         Param # </span>┃\n",
       "┡━━━━━━━━━━━━━━━━━━━━━━━━━━━━━━━━━━━━━━╇━━━━━━━━━━━━━━━━━━━━━━━━━━━━━╇━━━━━━━━━━━━━━━━━┩\n",
       "│ input_layer_2 (<span style=\"color: #0087ff; text-decoration-color: #0087ff\">InputLayer</span>)           │ (<span style=\"color: #00d7ff; text-decoration-color: #00d7ff\">None</span>, <span style=\"color: #00af00; text-decoration-color: #00af00\">784</span>)                 │               <span style=\"color: #00af00; text-decoration-color: #00af00\">0</span> │\n",
       "├──────────────────────────────────────┼─────────────────────────────┼─────────────────┤\n",
       "│ dense (<span style=\"color: #0087ff; text-decoration-color: #0087ff\">Dense</span>)                        │ (<span style=\"color: #00d7ff; text-decoration-color: #00d7ff\">None</span>, <span style=\"color: #00af00; text-decoration-color: #00af00\">100</span>)                 │          <span style=\"color: #00af00; text-decoration-color: #00af00\">78,500</span> │\n",
       "├──────────────────────────────────────┼─────────────────────────────┼─────────────────┤\n",
       "│ dense_1 (<span style=\"color: #0087ff; text-decoration-color: #0087ff\">Dense</span>)                      │ (<span style=\"color: #00d7ff; text-decoration-color: #00d7ff\">None</span>, <span style=\"color: #00af00; text-decoration-color: #00af00\">10</span>)                  │           <span style=\"color: #00af00; text-decoration-color: #00af00\">1,010</span> │\n",
       "└──────────────────────────────────────┴─────────────────────────────┴─────────────────┘\n",
       "</pre>\n"
      ],
      "text/plain": [
       "┏━━━━━━━━━━━━━━━━━━━━━━━━━━━━━━━━━━━━━━┳━━━━━━━━━━━━━━━━━━━━━━━━━━━━━┳━━━━━━━━━━━━━━━━━┓\n",
       "┃\u001b[1m \u001b[0m\u001b[1mLayer (type)                        \u001b[0m\u001b[1m \u001b[0m┃\u001b[1m \u001b[0m\u001b[1mOutput Shape               \u001b[0m\u001b[1m \u001b[0m┃\u001b[1m \u001b[0m\u001b[1m        Param #\u001b[0m\u001b[1m \u001b[0m┃\n",
       "┡━━━━━━━━━━━━━━━━━━━━━━━━━━━━━━━━━━━━━━╇━━━━━━━━━━━━━━━━━━━━━━━━━━━━━╇━━━━━━━━━━━━━━━━━┩\n",
       "│ input_layer_2 (\u001b[38;5;33mInputLayer\u001b[0m)           │ (\u001b[38;5;45mNone\u001b[0m, \u001b[38;5;34m784\u001b[0m)                 │               \u001b[38;5;34m0\u001b[0m │\n",
       "├──────────────────────────────────────┼─────────────────────────────┼─────────────────┤\n",
       "│ dense (\u001b[38;5;33mDense\u001b[0m)                        │ (\u001b[38;5;45mNone\u001b[0m, \u001b[38;5;34m100\u001b[0m)                 │          \u001b[38;5;34m78,500\u001b[0m │\n",
       "├──────────────────────────────────────┼─────────────────────────────┼─────────────────┤\n",
       "│ dense_1 (\u001b[38;5;33mDense\u001b[0m)                      │ (\u001b[38;5;45mNone\u001b[0m, \u001b[38;5;34m10\u001b[0m)                  │           \u001b[38;5;34m1,010\u001b[0m │\n",
       "└──────────────────────────────────────┴─────────────────────────────┴─────────────────┘\n"
      ]
     },
     "metadata": {},
     "output_type": "display_data"
    },
    {
     "data": {
      "text/html": [
       "<pre style=\"white-space:pre;overflow-x:auto;line-height:normal;font-family:Menlo,'DejaVu Sans Mono',consolas,'Courier New',monospace\"><span style=\"font-weight: bold\"> Total params: </span><span style=\"color: #00af00; text-decoration-color: #00af00\">79,510</span> (310.59 KB)\n",
       "</pre>\n"
      ],
      "text/plain": [
       "\u001b[1m Total params: \u001b[0m\u001b[38;5;34m79,510\u001b[0m (310.59 KB)\n"
      ]
     },
     "metadata": {},
     "output_type": "display_data"
    },
    {
     "data": {
      "text/html": [
       "<pre style=\"white-space:pre;overflow-x:auto;line-height:normal;font-family:Menlo,'DejaVu Sans Mono',consolas,'Courier New',monospace\"><span style=\"font-weight: bold\"> Trainable params: </span><span style=\"color: #00af00; text-decoration-color: #00af00\">79,510</span> (310.59 KB)\n",
       "</pre>\n"
      ],
      "text/plain": [
       "\u001b[1m Trainable params: \u001b[0m\u001b[38;5;34m79,510\u001b[0m (310.59 KB)\n"
      ]
     },
     "metadata": {},
     "output_type": "display_data"
    },
    {
     "data": {
      "text/html": [
       "<pre style=\"white-space:pre;overflow-x:auto;line-height:normal;font-family:Menlo,'DejaVu Sans Mono',consolas,'Courier New',monospace\"><span style=\"font-weight: bold\"> Non-trainable params: </span><span style=\"color: #00af00; text-decoration-color: #00af00\">0</span> (0.00 B)\n",
       "</pre>\n"
      ],
      "text/plain": [
       "\u001b[1m Non-trainable params: \u001b[0m\u001b[38;5;34m0\u001b[0m (0.00 B)\n"
      ]
     },
     "metadata": {},
     "output_type": "display_data"
    }
   ],
   "source": [
    "test_model.summary()"
   ]
  },
  {
   "cell_type": "markdown",
   "id": "b2dea446",
   "metadata": {},
   "source": [
    "## 합성곱 신경망 모델 특성맵 시각화 \n",
    "\n",
    "- 함수형 API를 이용해 첫 번째 합성곱 층의 출력(특성맵)을 시각화"
   ]
  },
  {
   "cell_type": "code",
   "execution_count": 35,
   "id": "6cfbf1af",
   "metadata": {},
   "outputs": [
    {
     "name": "stdout",
     "output_type": "stream",
     "text": [
      "[<KerasTensor shape=(None, 28, 28, 1), dtype=float32, sparse=False, name=input_layer>]\n"
     ]
    }
   ],
   "source": [
    "# 합성곱 모델의 입력\n",
    "print(model.inputs)"
   ]
  },
  {
   "cell_type": "code",
   "execution_count": 36,
   "id": "6657285d",
   "metadata": {},
   "outputs": [],
   "source": [
    "# 합성곱층과 입력층을 함수형 API로 연결\n",
    "conv_acti = keras.Model(model.inputs, model.layers[0].output)"
   ]
  },
  {
   "cell_type": "code",
   "execution_count": 37,
   "id": "f572cc3c",
   "metadata": {},
   "outputs": [
    {
     "data": {
      "text/html": [
       "<pre style=\"white-space:pre;overflow-x:auto;line-height:normal;font-family:Menlo,'DejaVu Sans Mono',consolas,'Courier New',monospace\"><span style=\"font-weight: bold\">Model: \"functional_13\"</span>\n",
       "</pre>\n"
      ],
      "text/plain": [
       "\u001b[1mModel: \"functional_13\"\u001b[0m\n"
      ]
     },
     "metadata": {},
     "output_type": "display_data"
    },
    {
     "data": {
      "text/html": [
       "<pre style=\"white-space:pre;overflow-x:auto;line-height:normal;font-family:Menlo,'DejaVu Sans Mono',consolas,'Courier New',monospace\">┏━━━━━━━━━━━━━━━━━━━━━━━━━━━━━━━━━━━━━━┳━━━━━━━━━━━━━━━━━━━━━━━━━━━━━┳━━━━━━━━━━━━━━━━━┓\n",
       "┃<span style=\"font-weight: bold\"> Layer (type)                         </span>┃<span style=\"font-weight: bold\"> Output Shape                </span>┃<span style=\"font-weight: bold\">         Param # </span>┃\n",
       "┡━━━━━━━━━━━━━━━━━━━━━━━━━━━━━━━━━━━━━━╇━━━━━━━━━━━━━━━━━━━━━━━━━━━━━╇━━━━━━━━━━━━━━━━━┩\n",
       "│ input_layer (<span style=\"color: #0087ff; text-decoration-color: #0087ff\">InputLayer</span>)             │ (<span style=\"color: #00d7ff; text-decoration-color: #00d7ff\">None</span>, <span style=\"color: #00af00; text-decoration-color: #00af00\">28</span>, <span style=\"color: #00af00; text-decoration-color: #00af00\">28</span>, <span style=\"color: #00af00; text-decoration-color: #00af00\">1</span>)           │               <span style=\"color: #00af00; text-decoration-color: #00af00\">0</span> │\n",
       "├──────────────────────────────────────┼─────────────────────────────┼─────────────────┤\n",
       "│ conv2d_1 (<span style=\"color: #0087ff; text-decoration-color: #0087ff\">Conv2D</span>)                    │ (<span style=\"color: #00d7ff; text-decoration-color: #00d7ff\">None</span>, <span style=\"color: #00af00; text-decoration-color: #00af00\">28</span>, <span style=\"color: #00af00; text-decoration-color: #00af00\">28</span>, <span style=\"color: #00af00; text-decoration-color: #00af00\">32</span>)          │             <span style=\"color: #00af00; text-decoration-color: #00af00\">320</span> │\n",
       "└──────────────────────────────────────┴─────────────────────────────┴─────────────────┘\n",
       "</pre>\n"
      ],
      "text/plain": [
       "┏━━━━━━━━━━━━━━━━━━━━━━━━━━━━━━━━━━━━━━┳━━━━━━━━━━━━━━━━━━━━━━━━━━━━━┳━━━━━━━━━━━━━━━━━┓\n",
       "┃\u001b[1m \u001b[0m\u001b[1mLayer (type)                        \u001b[0m\u001b[1m \u001b[0m┃\u001b[1m \u001b[0m\u001b[1mOutput Shape               \u001b[0m\u001b[1m \u001b[0m┃\u001b[1m \u001b[0m\u001b[1m        Param #\u001b[0m\u001b[1m \u001b[0m┃\n",
       "┡━━━━━━━━━━━━━━━━━━━━━━━━━━━━━━━━━━━━━━╇━━━━━━━━━━━━━━━━━━━━━━━━━━━━━╇━━━━━━━━━━━━━━━━━┩\n",
       "│ input_layer (\u001b[38;5;33mInputLayer\u001b[0m)             │ (\u001b[38;5;45mNone\u001b[0m, \u001b[38;5;34m28\u001b[0m, \u001b[38;5;34m28\u001b[0m, \u001b[38;5;34m1\u001b[0m)           │               \u001b[38;5;34m0\u001b[0m │\n",
       "├──────────────────────────────────────┼─────────────────────────────┼─────────────────┤\n",
       "│ conv2d_1 (\u001b[38;5;33mConv2D\u001b[0m)                    │ (\u001b[38;5;45mNone\u001b[0m, \u001b[38;5;34m28\u001b[0m, \u001b[38;5;34m28\u001b[0m, \u001b[38;5;34m32\u001b[0m)          │             \u001b[38;5;34m320\u001b[0m │\n",
       "└──────────────────────────────────────┴─────────────────────────────┴─────────────────┘\n"
      ]
     },
     "metadata": {},
     "output_type": "display_data"
    },
    {
     "data": {
      "text/html": [
       "<pre style=\"white-space:pre;overflow-x:auto;line-height:normal;font-family:Menlo,'DejaVu Sans Mono',consolas,'Courier New',monospace\"><span style=\"font-weight: bold\"> Total params: </span><span style=\"color: #00af00; text-decoration-color: #00af00\">320</span> (1.25 KB)\n",
       "</pre>\n"
      ],
      "text/plain": [
       "\u001b[1m Total params: \u001b[0m\u001b[38;5;34m320\u001b[0m (1.25 KB)\n"
      ]
     },
     "metadata": {},
     "output_type": "display_data"
    },
    {
     "data": {
      "text/html": [
       "<pre style=\"white-space:pre;overflow-x:auto;line-height:normal;font-family:Menlo,'DejaVu Sans Mono',consolas,'Courier New',monospace\"><span style=\"font-weight: bold\"> Trainable params: </span><span style=\"color: #00af00; text-decoration-color: #00af00\">320</span> (1.25 KB)\n",
       "</pre>\n"
      ],
      "text/plain": [
       "\u001b[1m Trainable params: \u001b[0m\u001b[38;5;34m320\u001b[0m (1.25 KB)\n"
      ]
     },
     "metadata": {},
     "output_type": "display_data"
    },
    {
     "data": {
      "text/html": [
       "<pre style=\"white-space:pre;overflow-x:auto;line-height:normal;font-family:Menlo,'DejaVu Sans Mono',consolas,'Courier New',monospace\"><span style=\"font-weight: bold\"> Non-trainable params: </span><span style=\"color: #00af00; text-decoration-color: #00af00\">0</span> (0.00 B)\n",
       "</pre>\n"
      ],
      "text/plain": [
       "\u001b[1m Non-trainable params: \u001b[0m\u001b[38;5;34m0\u001b[0m (0.00 B)\n"
      ]
     },
     "metadata": {},
     "output_type": "display_data"
    }
   ],
   "source": [
    "conv_acti.summary()"
   ]
  },
  {
   "cell_type": "code",
   "execution_count": 38,
   "id": "8f298165",
   "metadata": {},
   "outputs": [],
   "source": [
    "# 데이터 준비\n",
    "(x_train, y_train), (x_test, y_test) = keras.datasets.fashion_mnist.load_data()"
   ]
  },
  {
   "cell_type": "code",
   "execution_count": 39,
   "id": "87a05b69",
   "metadata": {},
   "outputs": [
    {
     "data": {
      "image/png": "[encoded data removed]",
      "text/plain": [
       "<Figure size 640x480 with 1 Axes>"
      ]
     },
     "metadata": {},
     "output_type": "display_data"
    }
   ],
   "source": [
    "plt.figure()\n",
    "plt.imshow(x_train[0], cmap = 'gray_r')\n",
    "plt.show()"
   ]
  },
  {
   "cell_type": "code",
   "execution_count": 40,
   "id": "a1c16afa",
   "metadata": {},
   "outputs": [],
   "source": [
    "# 위의 데이터를 첫 번째 합성곱 층에 통과 \n",
    "inputs = x_train[[0]].reshape(-1, 28, 28, 1) / 255"
   ]
  },
  {
   "cell_type": "code",
   "execution_count": 41,
   "id": "1ad3658f",
   "metadata": {},
   "outputs": [
    {
     "name": "stdout",
     "output_type": "stream",
     "text": [
      "\u001b[1m1/1\u001b[0m \u001b[32m━━━━━━━━━━━━━━━━━━━━\u001b[0m\u001b[37m\u001b[0m \u001b[1m0s\u001b[0m 53ms/step\n"
     ]
    }
   ],
   "source": [
    "feature_maps = conv_acti.predict(inputs)"
   ]
  },
  {
   "cell_type": "code",
   "execution_count": 42,
   "id": "0e464224",
   "metadata": {},
   "outputs": [
    {
     "name": "stdout",
     "output_type": "stream",
     "text": [
      "(1, 28, 28, 32)\n"
     ]
    }
   ],
   "source": [
    "print(feature_maps.shape)"
   ]
  },
  {
   "cell_type": "markdown",
   "id": "912cee9d",
   "metadata": {},
   "source": [
    "- 세임 패딩과 32개의 필터를 사용한 합성곱층의 출력이기 때문에 (28, 28, 32)\n",
    "- 첫 번째 차원은 배치 차원\n",
    "    - 샘플 하나만 입력했기 때문에 1 "
   ]
  },
  {
   "cell_type": "code",
   "execution_count": 47,
   "id": "6caf71b3",
   "metadata": {},
   "outputs": [
    {
     "data": {
      "image/png": "[encoded data removed]",
      "text/plain": [
       "<Figure size 1500x200 with 32 Axes>"
      ]
     },
     "metadata": {},
     "output_type": "display_data"
    }
   ],
   "source": [
    "# 32개의 커널을 모두 시각화\n",
    "\n",
    "# 2행 16열로 \n",
    "fig, axs = plt.subplots(2, 16, figsize = (15, 2))\n",
    "\n",
    "for i in range(2):\n",
    "    for j in range(16):\n",
    "        axs[i, j].imshow(conv_weights[:, :, 0, i * 16 + j], vmin = -0.5, vmax = 0.5)\n",
    "        axs[i, j].axis('off')\n",
    "        \n",
    "plt.show()"
   ]
  },
  {
   "cell_type": "code",
   "execution_count": 46,
   "id": "435691ad",
   "metadata": {},
   "outputs": [
    {
     "data": {
      "image/png": "[encoded data removed]",
      "text/plain": [
       "<Figure size 1500x800 with 32 Axes>"
      ]
     },
     "metadata": {},
     "output_type": "display_data"
    }
   ],
   "source": [
    "# 32개의 특성맵을 모두 시각화\n",
    "fig, axs = plt.subplots(4, 8, figsize = (15, 8))\n",
    "\n",
    "for i in range(4):\n",
    "    for j in range(8):\n",
    "        axs[i, j].imshow(feature_maps[0, :, :, i * 8 + j])\n",
    "        axs[i, j].axis('off')\n",
    "        \n",
    "plt.show()"
   ]
  },
  {
   "cell_type": "markdown",
   "id": "cf845120",
   "metadata": {},
   "source": [
    "- 32개의 필터로 인해 입력 이미지에서 강하게 활성화된 부분들을 시각화\n",
    "    - 필터가 수직선을 감지한다면 부분이 강하게 활성화 \n",
    "    - 전체적으로 모두 감지하는 필터는 아이템의 전체를 활성화\n",
    "    - 전체적으로 음수값인 필터는 배경과 같은 0에 가까운 값과 곱해지면 작은 음수, 큰 수가 곱해지면 큰 음수가 됨\n",
    "        - 배경을 잘 활성화 "
   ]
  },
  {
   "cell_type": "code",
   "execution_count": 48,
   "id": "fd7fbdc0",
   "metadata": {},
   "outputs": [],
   "source": [
    "# 두 번째 합성곱 층의 특성 맵 확인\n",
    "conv2_acti = keras.Model(model.inputs, model.layers[2].output)"
   ]
  },
  {
   "cell_type": "code",
   "execution_count": 49,
   "id": "041c8b30",
   "metadata": {},
   "outputs": [
    {
     "name": "stdout",
     "output_type": "stream",
     "text": [
      "\u001b[1m1/1\u001b[0m \u001b[32m━━━━━━━━━━━━━━━━━━━━\u001b[0m\u001b[37m\u001b[0m \u001b[1m0s\u001b[0m 47ms/step\n"
     ]
    }
   ],
   "source": [
    "feature_maps = conv2_acti.predict(inputs)"
   ]
  },
  {
   "cell_type": "code",
   "execution_count": 50,
   "id": "890a847c",
   "metadata": {},
   "outputs": [
    {
     "name": "stdout",
     "output_type": "stream",
     "text": [
      "(1, 14, 14, 64)\n"
     ]
    }
   ],
   "source": [
    "print(feature_maps.shape)"
   ]
  },
  {
   "cell_type": "code",
   "execution_count": 52,
   "id": "96dc2825",
   "metadata": {},
   "outputs": [
    {
     "data": {
      "image/png": "[encoded data removed]",
      "text/plain": [
       "<Figure size 1200x1200 with 64 Axes>"
      ]
     },
     "metadata": {},
     "output_type": "display_data"
    }
   ],
   "source": [
    "fig, axs = plt.subplots(8, 8, figsize = (12, 12))\n",
    "\n",
    "for i in range(8):\n",
    "    for j in range(8):\n",
    "        axs[i, j].imshow(feature_maps[0, :, :, i * 8 + j])\n",
    "        axs[i, j].axis('off')\n",
    "        \n",
    "plt.show()"
   ]
  },
  {
   "cell_type": "markdown",
   "id": "db0d3fae",
   "metadata": {},
   "source": [
    "- 특성맵을 시각적으로 이해하기 난해함\n",
    "    - 합성곱 층을 많이 쌓을 수록 난해해짐 \n",
    "    - 앞부분의 합성곱 층은 이미지의 시각적인 정보를 감지하고\n",
    "    - 뒷부분의 합성곱 층은 앞쪽에서 감지한 시각적인 정보를 바탕으로 추상적인 정보를 학습 "
   ]
  },
  {
   "cell_type": "markdown",
   "id": "94879bfe",
   "metadata": {},
   "source": [
    "## 풀링 결과물 비교 "
   ]
  },
  {
   "cell_type": "code",
   "execution_count": 53,
   "id": "7f7b99a9",
   "metadata": {},
   "outputs": [],
   "source": [
    "pool_model = keras.Model(model.inputs, model.layers[1].output)"
   ]
  },
  {
   "cell_type": "code",
   "execution_count": 54,
   "id": "312db506",
   "metadata": {},
   "outputs": [
    {
     "name": "stdout",
     "output_type": "stream",
     "text": [
      "\u001b[1m1/1\u001b[0m \u001b[32m━━━━━━━━━━━━━━━━━━━━\u001b[0m\u001b[37m\u001b[0m \u001b[1m0s\u001b[0m 38ms/step\n"
     ]
    }
   ],
   "source": [
    "pool_feature_maps = pool_model.predict(inputs)"
   ]
  },
  {
   "cell_type": "code",
   "execution_count": 55,
   "id": "12f66442",
   "metadata": {},
   "outputs": [
    {
     "name": "stdout",
     "output_type": "stream",
     "text": [
      "(1, 14, 14, 32)\n"
     ]
    }
   ],
   "source": [
    "print(pool_feature_maps.shape)"
   ]
  },
  {
   "cell_type": "code",
   "execution_count": 57,
   "id": "720a64c4",
   "metadata": {},
   "outputs": [
    {
     "data": {
      "image/png": "[encoded data removed]",
      "text/plain": [
       "<Figure size 1500x800 with 32 Axes>"
      ]
     },
     "metadata": {},
     "output_type": "display_data"
    }
   ],
   "source": [
    "# 32개의 풀링 특성맵을 모두 시각화\n",
    "fig, axs = plt.subplots(4, 8, figsize = (15, 8))\n",
    "\n",
    "for i in range(4):\n",
    "    for j in range(8):\n",
    "        axs[i, j].imshow(pool_feature_maps[0, :, :, i * 8 + j])\n",
    "        axs[i, j].axis('off')\n",
    "        \n",
    "plt.show()"
   ]
  },
  {
   "cell_type": "markdown",
   "id": "0d6cd87f",
   "metadata": {},
   "source": [
    "- 풀링 꽤 괜찮게 됨"
   ]
  },
  {
   "cell_type": "code",
   "execution_count": null,
   "id": "b89288b0",
   "metadata": {},
   "outputs": [],
   "source": []
  }
 ],
 "metadata": {
  "kernelspec": {
   "display_name": "Python 3 (ipykernel)",
   "language": "python",
   "name": "python3"
  },
  "language_info": {
   "codemirror_mode": {
    "name": "ipython",
    "version": 3
   },
   "file_extension": ".py",
   "mimetype": "text/x-python",
   "name": "python",
   "nbconvert_exporter": "python",
   "pygments_lexer": "ipython3",
   "version": "3.11.5"
  }
 },
 "nbformat": 4,
 "nbformat_minor": 5
}
