{
 "cells": [
  {
   "cell_type": "markdown",
   "id": "671449ea",
   "metadata": {},
   "source": [
    "# RNN (Recurrent Neural Network) \n",
    "- 레퍼런스 \n",
    "- https://github.com/gilbutITbook/080328/blob/main/7.2.%20seoul-120-baseline-rnn.ipynb"
   ]
  },
  {
   "cell_type": "code",
   "execution_count": 58,
   "id": "95f8e910",
   "metadata": {},
   "outputs": [],
   "source": [
    "import numpy as np\n",
    "import pandas as pd\n",
    "import matplotlib.pyplot as plt\n",
    "import seaborn as sns\n",
    "from sklearn.model_selection import train_test_split\n",
    "from tensorflow.keras.preprocessing.text import Tokenizer\n",
    "from tensorflow.keras.preprocessing.sequence import pad_sequences\n",
    "\n",
    "from tensorflow.keras import Sequential\n",
    "from tensorflow.keras.layers import Dense, Embedding, SimpleRNN, GRU, Bidirectional, LSTM, Dropout, BatchNormalization\n",
    "from tensorflow.keras.callbacks import EarlyStopping\n",
    "\n",
    "import warnings\n",
    "warnings.filterwarnings('ignore')"
   ]
  },
  {
   "cell_type": "markdown",
   "id": "bd0f3ae7",
   "metadata": {},
   "source": [
    "# 데이터 불러오기"
   ]
  },
  {
   "cell_type": "code",
   "execution_count": 2,
   "id": "b4e072f5",
   "metadata": {},
   "outputs": [
    {
     "data": {
      "text/html": [
       "<div>\n",
       "<style scoped>\n",
       "    .dataframe tbody tr th:only-of-type {\n",
       "        vertical-align: middle;\n",
       "    }\n",
       "\n",
       "    .dataframe tbody tr th {\n",
       "        vertical-align: top;\n",
       "    }\n",
       "\n",
       "    .dataframe thead th {\n",
       "        text-align: right;\n",
       "    }\n",
       "</style>\n",
       "<table border=\"1\" class=\"dataframe\">\n",
       "  <thead>\n",
       "    <tr style=\"text-align: right;\">\n",
       "      <th></th>\n",
       "      <th>번호</th>\n",
       "      <th>분류</th>\n",
       "      <th>제목</th>\n",
       "      <th>내용</th>\n",
       "      <th>내용번호</th>\n",
       "      <th>문서</th>\n",
       "    </tr>\n",
       "  </thead>\n",
       "  <tbody>\n",
       "    <tr>\n",
       "      <th>0</th>\n",
       "      <td>2645</td>\n",
       "      <td>복지</td>\n",
       "      <td>아빠 육아휴직 장려금</td>\n",
       "      <td>아빠 육아휴직 장려금   업무개요  남성근로자의 육아휴직을 장려하고 양육에 따른 경...</td>\n",
       "      <td>23522464</td>\n",
       "      <td>아빠 육아휴직 장려금아빠 육아휴직 장려금   업무개요  남성근로자의 육아휴직을 장려...</td>\n",
       "    </tr>\n",
       "    <tr>\n",
       "      <th>1</th>\n",
       "      <td>2644</td>\n",
       "      <td>경제</td>\n",
       "      <td>[서울산업진흥원] 서울메이드란?</td>\n",
       "      <td>서울산업진흥원 서울메이드란 서울의 감성을 담은 다양하고 새로운 경험을 제공하기 위해...</td>\n",
       "      <td>23194045</td>\n",
       "      <td>[서울산업진흥원] 서울메이드란?서울산업진흥원 서울메이드란 서울의 감성을 담은 다양하...</td>\n",
       "    </tr>\n",
       "    <tr>\n",
       "      <th>2</th>\n",
       "      <td>2642</td>\n",
       "      <td>복지</td>\n",
       "      <td>광진맘택시 운영(임산부,영아 양육가정 전용 택시)</td>\n",
       "      <td>광진맘택시 운영임산부영아 양육가정 전용 택시  업무개요 교통약자인 임산부와 영아가정...</td>\n",
       "      <td>22904492</td>\n",
       "      <td>광진맘택시 운영(임산부,영아 양육가정 전용 택시)광진맘택시 운영임산부영아 양육가정 ...</td>\n",
       "    </tr>\n",
       "    <tr>\n",
       "      <th>3</th>\n",
       "      <td>2641</td>\n",
       "      <td>복지</td>\n",
       "      <td>마포 뇌병변장애인 비전센터</td>\n",
       "      <td>마포 뇌병변장애인 비전센터 마포뇌병변장애인 비전센터 운영   구분 내용  목적  학...</td>\n",
       "      <td>22477798</td>\n",
       "      <td>마포 뇌병변장애인 비전센터마포 뇌병변장애인 비전센터 마포뇌병변장애인 비전센터 운영 ...</td>\n",
       "    </tr>\n",
       "    <tr>\n",
       "      <th>4</th>\n",
       "      <td>2640</td>\n",
       "      <td>행정</td>\n",
       "      <td>2021년도 중1·고1 신입생 입학준비금 지원</td>\n",
       "      <td>년도 중고 신입생 입학준비금 지원  업무개요  서울시는 전국 최초로 년도부터 개 자...</td>\n",
       "      <td>22227896</td>\n",
       "      <td>2021년도 중1·고1 신입생 입학준비금 지원년도 중고 신입생 입학준비금 지원  업...</td>\n",
       "    </tr>\n",
       "    <tr>\n",
       "      <th>...</th>\n",
       "      <td>...</td>\n",
       "      <td>...</td>\n",
       "      <td>...</td>\n",
       "      <td>...</td>\n",
       "      <td>...</td>\n",
       "      <td>...</td>\n",
       "    </tr>\n",
       "    <tr>\n",
       "      <th>2133</th>\n",
       "      <td>12</td>\n",
       "      <td>경제</td>\n",
       "      <td>농산물소득분석 자료를 열람하고자 하는데 가능한가요?</td>\n",
       "      <td>농산물소득분석 자료를 열람하고자 하는데 가능한가요 예 가능하십니다    농촌진흥청 ...</td>\n",
       "      <td>2896820</td>\n",
       "      <td>농산물소득분석 자료를 열람하고자 하는데 가능한가요?농산물소득분석 자료를 열람하고자 ...</td>\n",
       "    </tr>\n",
       "    <tr>\n",
       "      <th>2134</th>\n",
       "      <td>8</td>\n",
       "      <td>행정</td>\n",
       "      <td>제가 휠체어를 사용하여야 하는 장애인인데 교육원에서 교육을 받을 수 있나요?</td>\n",
       "      <td>제가 휠체어를 사용하여야 하는 장애인인데 교육원에서 교육을 받을 수 있나요  우리교...</td>\n",
       "      <td>2894409</td>\n",
       "      <td>제가 휠체어를 사용하여야 하는 장애인인데 교육원에서 교육을 받을 수 있나요?제가 휠...</td>\n",
       "    </tr>\n",
       "    <tr>\n",
       "      <th>2135</th>\n",
       "      <td>7</td>\n",
       "      <td>행정</td>\n",
       "      <td>투자심사위원회는 어떻게 구성되어 있습니까?</td>\n",
       "      <td>투자심사위원회는 어떻게 구성되어 있습니까지방재정법시행령 제조항의 규정에 의한 서울특...</td>\n",
       "      <td>2898595</td>\n",
       "      <td>투자심사위원회는 어떻게 구성되어 있습니까?투자심사위원회는 어떻게 구성되어 있습니까지...</td>\n",
       "    </tr>\n",
       "    <tr>\n",
       "      <th>2136</th>\n",
       "      <td>6</td>\n",
       "      <td>행정</td>\n",
       "      <td>홈페이지를 구축해서 운영을 하려고 하는데 서버를 어떻게 사용할 수 있나요?</td>\n",
       "      <td>홈페이지를 구축해서 운영을 하려고 하는데 서버를 어떻게 사용할 수 있나요 홈페이지의...</td>\n",
       "      <td>2894434</td>\n",
       "      <td>홈페이지를 구축해서 운영을 하려고 하는데 서버를 어떻게 사용할 수 있나요?홈페이지를...</td>\n",
       "    </tr>\n",
       "    <tr>\n",
       "      <th>2137</th>\n",
       "      <td>3</td>\n",
       "      <td>복지</td>\n",
       "      <td>출산휴가후 집근처에 안심하고 맡길 수 있는 어린이집이 있는지?</td>\n",
       "      <td>출산휴가후 집근처에 안심하고 맡길 수 있는 어린이집이 있는지   서울시 육아종합지원...</td>\n",
       "      <td>19699584</td>\n",
       "      <td>출산휴가후 집근처에 안심하고 맡길 수 있는 어린이집이 있는지?출산휴가후 집근처에 안...</td>\n",
       "    </tr>\n",
       "  </tbody>\n",
       "</table>\n",
       "<p>2138 rows × 6 columns</p>\n",
       "</div>"
      ],
      "text/plain": [
       "        번호  분류                                          제목  \\\n",
       "0     2645  복지                                 아빠 육아휴직 장려금   \n",
       "1     2644  경제                           [서울산업진흥원] 서울메이드란?   \n",
       "2     2642  복지                 광진맘택시 운영(임산부,영아 양육가정 전용 택시)   \n",
       "3     2641  복지                              마포 뇌병변장애인 비전센터   \n",
       "4     2640  행정                   2021년도 중1·고1 신입생 입학준비금 지원   \n",
       "...    ...  ..                                         ...   \n",
       "2133    12  경제                농산물소득분석 자료를 열람하고자 하는데 가능한가요?   \n",
       "2134     8  행정  제가 휠체어를 사용하여야 하는 장애인인데 교육원에서 교육을 받을 수 있나요?   \n",
       "2135     7  행정                     투자심사위원회는 어떻게 구성되어 있습니까?   \n",
       "2136     6  행정   홈페이지를 구축해서 운영을 하려고 하는데 서버를 어떻게 사용할 수 있나요?   \n",
       "2137     3  복지          출산휴가후 집근처에 안심하고 맡길 수 있는 어린이집이 있는지?   \n",
       "\n",
       "                                                     내용      내용번호  \\\n",
       "0     아빠 육아휴직 장려금   업무개요  남성근로자의 육아휴직을 장려하고 양육에 따른 경...  23522464   \n",
       "1     서울산업진흥원 서울메이드란 서울의 감성을 담은 다양하고 새로운 경험을 제공하기 위해...  23194045   \n",
       "2     광진맘택시 운영임산부영아 양육가정 전용 택시  업무개요 교통약자인 임산부와 영아가정...  22904492   \n",
       "3     마포 뇌병변장애인 비전센터 마포뇌병변장애인 비전센터 운영   구분 내용  목적  학...  22477798   \n",
       "4     년도 중고 신입생 입학준비금 지원  업무개요  서울시는 전국 최초로 년도부터 개 자...  22227896   \n",
       "...                                                 ...       ...   \n",
       "2133  농산물소득분석 자료를 열람하고자 하는데 가능한가요 예 가능하십니다    농촌진흥청 ...   2896820   \n",
       "2134  제가 휠체어를 사용하여야 하는 장애인인데 교육원에서 교육을 받을 수 있나요  우리교...   2894409   \n",
       "2135  투자심사위원회는 어떻게 구성되어 있습니까지방재정법시행령 제조항의 규정에 의한 서울특...   2898595   \n",
       "2136  홈페이지를 구축해서 운영을 하려고 하는데 서버를 어떻게 사용할 수 있나요 홈페이지의...   2894434   \n",
       "2137  출산휴가후 집근처에 안심하고 맡길 수 있는 어린이집이 있는지   서울시 육아종합지원...  19699584   \n",
       "\n",
       "                                                     문서  \n",
       "0     아빠 육아휴직 장려금아빠 육아휴직 장려금   업무개요  남성근로자의 육아휴직을 장려...  \n",
       "1     [서울산업진흥원] 서울메이드란?서울산업진흥원 서울메이드란 서울의 감성을 담은 다양하...  \n",
       "2     광진맘택시 운영(임산부,영아 양육가정 전용 택시)광진맘택시 운영임산부영아 양육가정 ...  \n",
       "3     마포 뇌병변장애인 비전센터마포 뇌병변장애인 비전센터 마포뇌병변장애인 비전센터 운영 ...  \n",
       "4     2021년도 중1·고1 신입생 입학준비금 지원년도 중고 신입생 입학준비금 지원  업...  \n",
       "...                                                 ...  \n",
       "2133  농산물소득분석 자료를 열람하고자 하는데 가능한가요?농산물소득분석 자료를 열람하고자 ...  \n",
       "2134  제가 휠체어를 사용하여야 하는 장애인인데 교육원에서 교육을 받을 수 있나요?제가 휠...  \n",
       "2135  투자심사위원회는 어떻게 구성되어 있습니까?투자심사위원회는 어떻게 구성되어 있습니까지...  \n",
       "2136  홈페이지를 구축해서 운영을 하려고 하는데 서버를 어떻게 사용할 수 있나요?홈페이지를...  \n",
       "2137  출산휴가후 집근처에 안심하고 맡길 수 있는 어린이집이 있는지?출산휴가후 집근처에 안...  \n",
       "\n",
       "[2138 rows x 6 columns]"
      ]
     },
     "execution_count": 2,
     "metadata": {},
     "output_type": "execute_result"
    }
   ],
   "source": [
    "df = pd.read_csv('./data/다산콜재단.csv')\n",
    "df"
   ]
  },
  {
   "cell_type": "code",
   "execution_count": 3,
   "id": "7081620b",
   "metadata": {},
   "outputs": [
    {
     "data": {
      "text/plain": [
       "분류\n",
       "행정    1098\n",
       "경제     823\n",
       "복지     217\n",
       "Name: count, dtype: int64"
      ]
     },
     "execution_count": 3,
     "metadata": {},
     "output_type": "execute_result"
    }
   ],
   "source": [
    "# value_counts()로 분류별 빈도수 확인\n",
    "df['분류'].value_counts()"
   ]
  },
  {
   "cell_type": "code",
   "execution_count": 4,
   "id": "2a9a5f5b",
   "metadata": {},
   "outputs": [],
   "source": [
    "# 정답(label) 값\n",
    "label_name = '분류'"
   ]
  },
  {
   "cell_type": "code",
   "execution_count": 5,
   "id": "f6776e79",
   "metadata": {},
   "outputs": [],
   "source": [
    "# 독립변수(x. 문제)와 종속변수(y. 정답)\n",
    "x = df['문서']\n",
    "y = df[label_name]"
   ]
  },
  {
   "cell_type": "markdown",
   "id": "9da3e9b0",
   "metadata": {},
   "source": [
    "## label one-hot 형태로 만들기"
   ]
  },
  {
   "cell_type": "code",
   "execution_count": 6,
   "id": "32ade6bf",
   "metadata": {},
   "outputs": [],
   "source": [
    "# get_dummies 를사용하여 label 값을 one-hot 형태로 생성\n",
    "y_onehot = pd.get_dummies(y)"
   ]
  },
  {
   "cell_type": "code",
   "execution_count": 8,
   "id": "17dfeb63",
   "metadata": {},
   "outputs": [],
   "source": [
    "# train_test_ split 으로 학습과 예측에 사용할 데이터를 나누기\n",
    "x_train, x_test, y_train, y_test = train_test_split(x, y_onehot, test_size = 0.2, random_state = 42, stratify = y_onehot)"
   ]
  },
  {
   "cell_type": "code",
   "execution_count": 9,
   "id": "043dd8f0",
   "metadata": {},
   "outputs": [
    {
     "data": {
      "text/plain": [
       "((1710,), (428,), (1710, 3), (428, 3))"
      ]
     },
     "execution_count": 9,
     "metadata": {},
     "output_type": "execute_result"
    }
   ],
   "source": [
    "x_train.shape, x_test.shape, y_train.shape, y_test.shape"
   ]
  },
  {
   "cell_type": "code",
   "execution_count": 10,
   "id": "cf11ed93",
   "metadata": {},
   "outputs": [
    {
     "data": {
      "text/html": [
       "<div>\n",
       "<style scoped>\n",
       "    .dataframe tbody tr th:only-of-type {\n",
       "        vertical-align: middle;\n",
       "    }\n",
       "\n",
       "    .dataframe tbody tr th {\n",
       "        vertical-align: top;\n",
       "    }\n",
       "\n",
       "    .dataframe thead th {\n",
       "        text-align: right;\n",
       "    }\n",
       "</style>\n",
       "<table border=\"1\" class=\"dataframe\">\n",
       "  <thead>\n",
       "    <tr style=\"text-align: right;\">\n",
       "      <th></th>\n",
       "      <th>경제</th>\n",
       "      <th>복지</th>\n",
       "      <th>행정</th>\n",
       "    </tr>\n",
       "  </thead>\n",
       "  <tbody>\n",
       "    <tr>\n",
       "      <th>1858</th>\n",
       "      <td>False</td>\n",
       "      <td>False</td>\n",
       "      <td>True</td>\n",
       "    </tr>\n",
       "    <tr>\n",
       "      <th>2106</th>\n",
       "      <td>True</td>\n",
       "      <td>False</td>\n",
       "      <td>False</td>\n",
       "    </tr>\n",
       "    <tr>\n",
       "      <th>920</th>\n",
       "      <td>False</td>\n",
       "      <td>False</td>\n",
       "      <td>True</td>\n",
       "    </tr>\n",
       "    <tr>\n",
       "      <th>50</th>\n",
       "      <td>False</td>\n",
       "      <td>False</td>\n",
       "      <td>True</td>\n",
       "    </tr>\n",
       "    <tr>\n",
       "      <th>45</th>\n",
       "      <td>False</td>\n",
       "      <td>False</td>\n",
       "      <td>True</td>\n",
       "    </tr>\n",
       "    <tr>\n",
       "      <th>...</th>\n",
       "      <td>...</td>\n",
       "      <td>...</td>\n",
       "      <td>...</td>\n",
       "    </tr>\n",
       "    <tr>\n",
       "      <th>1406</th>\n",
       "      <td>True</td>\n",
       "      <td>False</td>\n",
       "      <td>False</td>\n",
       "    </tr>\n",
       "    <tr>\n",
       "      <th>1371</th>\n",
       "      <td>True</td>\n",
       "      <td>False</td>\n",
       "      <td>False</td>\n",
       "    </tr>\n",
       "    <tr>\n",
       "      <th>550</th>\n",
       "      <td>True</td>\n",
       "      <td>False</td>\n",
       "      <td>False</td>\n",
       "    </tr>\n",
       "    <tr>\n",
       "      <th>432</th>\n",
       "      <td>True</td>\n",
       "      <td>False</td>\n",
       "      <td>False</td>\n",
       "    </tr>\n",
       "    <tr>\n",
       "      <th>1084</th>\n",
       "      <td>False</td>\n",
       "      <td>False</td>\n",
       "      <td>True</td>\n",
       "    </tr>\n",
       "  </tbody>\n",
       "</table>\n",
       "<p>1710 rows × 3 columns</p>\n",
       "</div>"
      ],
      "text/plain": [
       "         경제     복지     행정\n",
       "1858  False  False   True\n",
       "2106   True  False  False\n",
       "920   False  False   True\n",
       "50    False  False   True\n",
       "45    False  False   True\n",
       "...     ...    ...    ...\n",
       "1406   True  False  False\n",
       "1371   True  False  False\n",
       "550    True  False  False\n",
       "432    True  False  False\n",
       "1084  False  False   True\n",
       "\n",
       "[1710 rows x 3 columns]"
      ]
     },
     "execution_count": 10,
     "metadata": {},
     "output_type": "execute_result"
    }
   ],
   "source": [
    "y_train"
   ]
  },
  {
   "cell_type": "code",
   "execution_count": 11,
   "id": "b7196fc5",
   "metadata": {},
   "outputs": [
    {
     "data": {
      "text/plain": [
       "경제    0.384795\n",
       "복지    0.101754\n",
       "행정    0.513450\n",
       "dtype: float64"
      ]
     },
     "metadata": {},
     "output_type": "display_data"
    },
    {
     "data": {
      "text/plain": [
       "경제    0.385514\n",
       "복지    0.100467\n",
       "행정    0.514019\n",
       "dtype: float64"
      ]
     },
     "metadata": {},
     "output_type": "display_data"
    }
   ],
   "source": [
    "display(y_train.mean())\n",
    "display(y_test.mean())"
   ]
  },
  {
   "cell_type": "markdown",
   "id": "cc12301e",
   "metadata": {},
   "source": [
    "# 벡터화"
   ]
  },
  {
   "cell_type": "markdown",
   "id": "471387ff",
   "metadata": {},
   "source": [
    "## 토큰화\n",
    "1. 이 클래스를 사용하면 각 텍스트를 일련의 정수(각 정수는 사전에 있는 토큰의 인덱스임) 또는 단어 수에 따라 각 토큰의 계수가 이진일 수 있는 벡터로 변환하여 텍스트 말뭉치를 벡터화할 수 있습니다.\n",
    "- (tf-idf 기반) - TF-IDF(단어 빈도-역 문서 빈도, Term Frequency-Inverse Document Frequency)\n",
    "\n",
    "2. 매개변수\n",
    "- num_words : 단어 빈도가 많은 순서로 num_words개의 단어를 보존한다.\n",
    "- filters : 걸러낼 문자 리스트를 적어준다. 디폴트는 '!\"#$%&()*+,-./:;<=>?@[\\]^_`{|}~\\t\\n' 이다.\n",
    "- lower : 입력받은 문자열을 소문자로 변환할지를 True, False로 적어준다.\n",
    "- split : 문자열을 적어 줘야 하고, 단어를 분리하는 기준을 적어준다.\n",
    "- char_level : True인 경우 모든 문자가 토큰으로 처리된다.\n",
    "- oov_token : 값이 지정된 경우, text_to_sequence 호출 과정에서 word_index에 추가되어 out-of-vocabulary words를 대체한다\n",
    "\n",
    "3. 벡터화 과정\n",
    "- Tokenizer 인스턴스를 생성\n",
    "- fit_on_texts와 word_index를 사용하여 key value로 이루어진 딕셔너리를 생성\n",
    "- texts_to_sequences를 이용하여 text 문장을 숫자로 이루어진 리스트로 변경\n",
    "- pad_sequences를 이용하여 리스트의 길이를 통일화, pad_sequences() 함수에 이 시퀀스를 입력하면 숫자 0을 이용해서 같은 길이의 시퀀스로 변환한다. 가장 긴 시퀀스의 길이가 10이기 때문에 모두 같은 길이의 시퀀스를 포함하는 NumPy 어레이로 변환한 것을 볼 수 있다."
   ]
  },
  {
   "cell_type": "code",
   "execution_count": 13,
   "id": "4714190b",
   "metadata": {},
   "outputs": [
    {
     "data": {
      "text/plain": [
       "<keras.src.legacy.preprocessing.text.Tokenizer at 0x15e21740b90>"
      ]
     },
     "execution_count": 13,
     "metadata": {},
     "output_type": "execute_result"
    }
   ],
   "source": [
    "# Tokenizer 는 데이터에 출현하는 모든 단어의 개수를 세고 빈도수를 정렬해서 \n",
    "# num_words에 지정된 만큼만 숫자로 반환하고 나머지는 0으로 반환\n",
    "# 단어 사전의 크기를 지정해 주기 위해 vocab_size를 지정 \n",
    "# vocab_size는 텍스트 데이터의 전체 단어 집합의 크기\n",
    "\n",
    "vocab_size = 1000\n",
    "oov_tok = '<oov>'\n",
    "tokenizer = Tokenizer(num_words = vocab_size, oov_token= oov_tok)\n",
    "tokenizer"
   ]
  },
  {
   "cell_type": "code",
   "execution_count": 14,
   "id": "75dc06a5",
   "metadata": {},
   "outputs": [],
   "source": [
    "# Tokenizer에 데이터 실제로 입력\n",
    "# fit_on_texts 와 word_index를 사용하여 key value로 이루어진 딕셔너리를 생성\n",
    "tokenizer.fit_on_texts(x_train)"
   ]
  },
  {
   "cell_type": "code",
   "execution_count": 15,
   "id": "e5a519da",
   "metadata": {},
   "outputs": [
    {
     "data": {
      "text/plain": [
       "[\"'\",\n",
       " \"'25시\",\n",
       " \"'경복궁\",\n",
       " \"'관리주체는\",\n",
       " \"'기타운동시설운용업'의\",\n",
       " \"'노원'\",\n",
       " \"'당해\",\n",
       " \"'불허용도'란\",\n",
       " \"'새랑'의\",\n",
       " \"'성공창업\"]"
      ]
     },
     "execution_count": 15,
     "metadata": {},
     "output_type": "execute_result"
    }
   ],
   "source": [
    "# tokenizer 와 word_index 속성은 단어와 숫자의 키-값 쌍을 포함하는 딕셔너리르 반환\n",
    "# 이때. 반환 시 자동으로 소문자와 변환되어 들어가며, 느낌표나 마침표 같은 구두점은 자동으로 제거\n",
    "# 각 인덱스에 해당하는 단어가 무엇인지 확인\n",
    "\n",
    "word_to_index = tokenizer.word_index\n",
    "sorted(word_to_index)[:10]"
   ]
  },
  {
   "cell_type": "code",
   "execution_count": 20,
   "id": "bace2a0f",
   "metadata": {},
   "outputs": [
    {
     "data": {
      "text/plain": [
       "[('우리아이의', 2), ('배정', 11), ('초등학교를', 2), ('알고', 45), ('싶어요', 7)]"
      ]
     },
     "execution_count": 20,
     "metadata": {},
     "output_type": "execute_result"
    }
   ],
   "source": [
    "# 단어별 빈도수를 확인\n",
    "list(tokenizer.word_counts.items())[:5]"
   ]
  },
  {
   "cell_type": "code",
   "execution_count": 24,
   "id": "da1aa549",
   "metadata": {},
   "outputs": [
    {
     "data": {
      "text/html": [
       "<div>\n",
       "<style scoped>\n",
       "    .dataframe tbody tr th:only-of-type {\n",
       "        vertical-align: middle;\n",
       "    }\n",
       "\n",
       "    .dataframe tbody tr th {\n",
       "        vertical-align: top;\n",
       "    }\n",
       "\n",
       "    .dataframe thead th {\n",
       "        text-align: right;\n",
       "    }\n",
       "</style>\n",
       "<table border=\"1\" class=\"dataframe\">\n",
       "  <thead>\n",
       "    <tr style=\"text-align: right;\">\n",
       "      <th>단어</th>\n",
       "      <th>및</th>\n",
       "      <th>돋움</th>\n",
       "      <th>수</th>\n",
       "      <th>경우</th>\n",
       "      <th>또는</th>\n",
       "      <th>등</th>\n",
       "      <th>있는</th>\n",
       "      <th>년</th>\n",
       "      <th>월</th>\n",
       "      <th>있습니다</th>\n",
       "      <th>...</th>\n",
       "      <th>궁내동</th>\n",
       "      <th>분당구</th>\n",
       "      <th>한국기기유화시험연구원</th>\n",
       "      <th>놀이시설팀</th>\n",
       "      <th>가산디지털로</th>\n",
       "      <th>제정되어</th>\n",
       "      <th>검사입니다</th>\n",
       "      <th>안전검사기관으로</th>\n",
       "      <th>시설및</th>\n",
       "      <th>설치하는가</th>\n",
       "    </tr>\n",
       "  </thead>\n",
       "  <tbody>\n",
       "    <tr>\n",
       "      <th>빈도수</th>\n",
       "      <td>1455</td>\n",
       "      <td>1110</td>\n",
       "      <td>771</td>\n",
       "      <td>593</td>\n",
       "      <td>550</td>\n",
       "      <td>547</td>\n",
       "      <td>411</td>\n",
       "      <td>398</td>\n",
       "      <td>379</td>\n",
       "      <td>378</td>\n",
       "      <td>...</td>\n",
       "      <td>1</td>\n",
       "      <td>1</td>\n",
       "      <td>1</td>\n",
       "      <td>1</td>\n",
       "      <td>1</td>\n",
       "      <td>1</td>\n",
       "      <td>1</td>\n",
       "      <td>1</td>\n",
       "      <td>1</td>\n",
       "      <td>1</td>\n",
       "    </tr>\n",
       "  </tbody>\n",
       "</table>\n",
       "<p>1 rows × 36509 columns</p>\n",
       "</div>"
      ],
      "text/plain": [
       "단어      및    돋움    수   경우   또는    등   있는    년    월  있습니다  ...  궁내동  분당구  \\\n",
       "빈도수  1455  1110  771  593  550  547  411  398  379   378  ...    1    1   \n",
       "\n",
       "단어   한국기기유화시험연구원  놀이시설팀  가산디지털로  제정되어  검사입니다  안전검사기관으로  시설및  설치하는가  \n",
       "빈도수            1      1       1     1      1         1    1      1  \n",
       "\n",
       "[1 rows x 36509 columns]"
      ]
     },
     "execution_count": 24,
     "metadata": {},
     "output_type": "execute_result"
    }
   ],
   "source": [
    "# 단어별 빈도수를 확인\n",
    "word_df = pd.DataFrame(tokenizer.word_counts.items(), columns = ['단어', '빈도수']).set_index('단어')\n",
    "word_df.sort_values(by = '빈도수', ascending = False).T"
   ]
  },
  {
   "cell_type": "code",
   "execution_count": 25,
   "id": "61b0889d",
   "metadata": {},
   "outputs": [],
   "source": [
    "# text_to_sequences를 이용하여 text 문장을 숫자로 이루어진 리스트로 변경\n",
    "train_seq = tokenizer.texts_to_sequences(x_train)\n",
    "test_seq = tokenizer.texts_to_sequences(x_test)"
   ]
  },
  {
   "cell_type": "markdown",
   "id": "1113441f",
   "metadata": {},
   "source": [
    "# 패딩(padding)"
   ]
  },
  {
   "cell_type": "code",
   "execution_count": 28,
   "id": "36a7bc0b",
   "metadata": {},
   "outputs": [
    {
     "name": "stdout",
     "output_type": "stream",
     "text": [
      "(1710,)\n"
     ]
    }
   ],
   "source": [
    "# 독립변수를 전처리합니다.\n",
    "# 문장의 길이가 제각각인 벡터의 크기를 패딩 작업을 통해 나머지 빈 공간을 0으로 채움\n",
    "# max_length는 패딩의 기준이 됨\n",
    "# padding_type = 'post' 는 패딩을 앞(기본값)이 아닌 뒤 ('post')에 채움\n",
    "\n",
    "max_length = 500\n",
    "padding_type = 'post'\n",
    "# padding_type = 'pre'\n",
    "\n",
    "x_train_sp = pad_sequences(train_seq, padding = padding_type, maxlen = max_length)\n",
    "x_test_sp = pad_sequences(test_seq, padding = padding_type, maxlen = max_length)\n",
    "\n",
    "print(x_train.shape)"
   ]
  },
  {
   "cell_type": "markdown",
   "id": "0a6daceb",
   "metadata": {},
   "source": [
    "# 모델 만들기"
   ]
  },
  {
   "cell_type": "code",
   "execution_count": 30,
   "id": "29141d0a",
   "metadata": {},
   "outputs": [],
   "source": [
    "# 하이퍼파라미터(모델링할 때 사용자가 직접 세팅해주는 값)을 설정\n",
    "# vocab_size는 텍스트 데이터의 전체 단어 집합의 크기\n",
    "# embedding_dim 는 임베딩 할 벡터의 차원\n",
    "# max_length는 패딩의 기준\n",
    "\n",
    "embedding_dim = 64"
   ]
  },
  {
   "cell_type": "code",
   "execution_count": 31,
   "id": "d0672631",
   "metadata": {},
   "outputs": [
    {
     "data": {
      "text/plain": [
       "3"
      ]
     },
     "execution_count": 31,
     "metadata": {},
     "output_type": "execute_result"
    }
   ],
   "source": [
    "# 클래스의 수는 분류될 예측값의 종류\n",
    "# 정답값이 one-hot 형태로 인코딩 되어 있기 때문에 정답값의 컬럼의 수가 예측값의 종류가 됨\n",
    "n_class = y_train.shape[1]\n",
    "n_class"
   ]
  },
  {
   "cell_type": "markdown",
   "id": "cc4ff71c",
   "metadata": {},
   "source": [
    "# Bidirectional RNN \n",
    "\n",
    "- 두 개의 독립적인 RNN을 사용하여 입력 시퀀스를 처리\n",
    "- 양방향 RNN은 기존 RNN과 마찬가지로 시간 역전파, 해당 단어뒤에 단어들이 어떻게 쓰였는지를 고려해야 함. "
   ]
  },
  {
   "cell_type": "code",
   "execution_count": 43,
   "id": "644e0cc8",
   "metadata": {},
   "outputs": [
    {
     "data": {
      "text/plain": [
       "(1710,)"
      ]
     },
     "execution_count": 43,
     "metadata": {},
     "output_type": "execute_result"
    }
   ],
   "source": [
    "x_train.shape"
   ]
  },
  {
   "cell_type": "code",
   "execution_count": 56,
   "id": "032b21a7",
   "metadata": {},
   "outputs": [],
   "source": [
    "model = Sequential([\n",
    "    Embedding(input_dim = vocab_size, output_dim = embedding_dim, input_shape = (500,)),\n",
    "    Bidirectional(LSTM(64, return_sequences= True)),\n",
    "    BatchNormalization(),\n",
    "    Bidirectional(LSTM(32)),\n",
    "    Dropout(0.2),\n",
    "    Dense(16, activation = 'relu'),\n",
    "    Dense(units = n_class, activation = 'softmax')\n",
    "])"
   ]
  },
  {
   "cell_type": "markdown",
   "id": "1c42e8c6",
   "metadata": {},
   "source": [
    "## 모델 컴파일"
   ]
  },
  {
   "cell_type": "code",
   "execution_count": 57,
   "id": "ee3924af",
   "metadata": {},
   "outputs": [
    {
     "data": {
      "text/html": [
       "<pre style=\"white-space:pre;overflow-x:auto;line-height:normal;font-family:Menlo,'DejaVu Sans Mono',consolas,'Courier New',monospace\"><span style=\"font-weight: bold\">Model: \"sequential_8\"</span>\n",
       "</pre>\n"
      ],
      "text/plain": [
       "\u001b[1mModel: \"sequential_8\"\u001b[0m\n"
      ]
     },
     "metadata": {},
     "output_type": "display_data"
    },
    {
     "data": {
      "text/html": [
       "<pre style=\"white-space:pre;overflow-x:auto;line-height:normal;font-family:Menlo,'DejaVu Sans Mono',consolas,'Courier New',monospace\">┏━━━━━━━━━━━━━━━━━━━━━━━━━━━━━━━━━━━━━━┳━━━━━━━━━━━━━━━━━━━━━━━━━━━━━┳━━━━━━━━━━━━━━━━━┓\n",
       "┃<span style=\"font-weight: bold\"> Layer (type)                         </span>┃<span style=\"font-weight: bold\"> Output Shape                </span>┃<span style=\"font-weight: bold\">         Param # </span>┃\n",
       "┡━━━━━━━━━━━━━━━━━━━━━━━━━━━━━━━━━━━━━━╇━━━━━━━━━━━━━━━━━━━━━━━━━━━━━╇━━━━━━━━━━━━━━━━━┩\n",
       "│ embedding_13 (<span style=\"color: #0087ff; text-decoration-color: #0087ff\">Embedding</span>)             │ (<span style=\"color: #00d7ff; text-decoration-color: #00d7ff\">None</span>, <span style=\"color: #00af00; text-decoration-color: #00af00\">500</span>, <span style=\"color: #00af00; text-decoration-color: #00af00\">64</span>)             │          <span style=\"color: #00af00; text-decoration-color: #00af00\">64,000</span> │\n",
       "├──────────────────────────────────────┼─────────────────────────────┼─────────────────┤\n",
       "│ bidirectional_9 (<span style=\"color: #0087ff; text-decoration-color: #0087ff\">Bidirectional</span>)      │ (<span style=\"color: #00d7ff; text-decoration-color: #00d7ff\">None</span>, <span style=\"color: #00af00; text-decoration-color: #00af00\">500</span>, <span style=\"color: #00af00; text-decoration-color: #00af00\">128</span>)            │          <span style=\"color: #00af00; text-decoration-color: #00af00\">66,048</span> │\n",
       "├──────────────────────────────────────┼─────────────────────────────┼─────────────────┤\n",
       "│ batch_normalization_8                │ (<span style=\"color: #00d7ff; text-decoration-color: #00d7ff\">None</span>, <span style=\"color: #00af00; text-decoration-color: #00af00\">500</span>, <span style=\"color: #00af00; text-decoration-color: #00af00\">128</span>)            │             <span style=\"color: #00af00; text-decoration-color: #00af00\">512</span> │\n",
       "│ (<span style=\"color: #0087ff; text-decoration-color: #0087ff\">BatchNormalization</span>)                 │                             │                 │\n",
       "├──────────────────────────────────────┼─────────────────────────────┼─────────────────┤\n",
       "│ bidirectional_10 (<span style=\"color: #0087ff; text-decoration-color: #0087ff\">Bidirectional</span>)     │ (<span style=\"color: #00d7ff; text-decoration-color: #00d7ff\">None</span>, <span style=\"color: #00af00; text-decoration-color: #00af00\">64</span>)                  │          <span style=\"color: #00af00; text-decoration-color: #00af00\">41,216</span> │\n",
       "├──────────────────────────────────────┼─────────────────────────────┼─────────────────┤\n",
       "│ dropout_8 (<span style=\"color: #0087ff; text-decoration-color: #0087ff\">Dropout</span>)                  │ (<span style=\"color: #00d7ff; text-decoration-color: #00d7ff\">None</span>, <span style=\"color: #00af00; text-decoration-color: #00af00\">64</span>)                  │               <span style=\"color: #00af00; text-decoration-color: #00af00\">0</span> │\n",
       "├──────────────────────────────────────┼─────────────────────────────┼─────────────────┤\n",
       "│ dense_16 (<span style=\"color: #0087ff; text-decoration-color: #0087ff\">Dense</span>)                     │ (<span style=\"color: #00d7ff; text-decoration-color: #00d7ff\">None</span>, <span style=\"color: #00af00; text-decoration-color: #00af00\">16</span>)                  │           <span style=\"color: #00af00; text-decoration-color: #00af00\">1,040</span> │\n",
       "├──────────────────────────────────────┼─────────────────────────────┼─────────────────┤\n",
       "│ dense_17 (<span style=\"color: #0087ff; text-decoration-color: #0087ff\">Dense</span>)                     │ (<span style=\"color: #00d7ff; text-decoration-color: #00d7ff\">None</span>, <span style=\"color: #00af00; text-decoration-color: #00af00\">3</span>)                   │              <span style=\"color: #00af00; text-decoration-color: #00af00\">51</span> │\n",
       "└──────────────────────────────────────┴─────────────────────────────┴─────────────────┘\n",
       "</pre>\n"
      ],
      "text/plain": [
       "┏━━━━━━━━━━━━━━━━━━━━━━━━━━━━━━━━━━━━━━┳━━━━━━━━━━━━━━━━━━━━━━━━━━━━━┳━━━━━━━━━━━━━━━━━┓\n",
       "┃\u001b[1m \u001b[0m\u001b[1mLayer (type)                        \u001b[0m\u001b[1m \u001b[0m┃\u001b[1m \u001b[0m\u001b[1mOutput Shape               \u001b[0m\u001b[1m \u001b[0m┃\u001b[1m \u001b[0m\u001b[1m        Param #\u001b[0m\u001b[1m \u001b[0m┃\n",
       "┡━━━━━━━━━━━━━━━━━━━━━━━━━━━━━━━━━━━━━━╇━━━━━━━━━━━━━━━━━━━━━━━━━━━━━╇━━━━━━━━━━━━━━━━━┩\n",
       "│ embedding_13 (\u001b[38;5;33mEmbedding\u001b[0m)             │ (\u001b[38;5;45mNone\u001b[0m, \u001b[38;5;34m500\u001b[0m, \u001b[38;5;34m64\u001b[0m)             │          \u001b[38;5;34m64,000\u001b[0m │\n",
       "├──────────────────────────────────────┼─────────────────────────────┼─────────────────┤\n",
       "│ bidirectional_9 (\u001b[38;5;33mBidirectional\u001b[0m)      │ (\u001b[38;5;45mNone\u001b[0m, \u001b[38;5;34m500\u001b[0m, \u001b[38;5;34m128\u001b[0m)            │          \u001b[38;5;34m66,048\u001b[0m │\n",
       "├──────────────────────────────────────┼─────────────────────────────┼─────────────────┤\n",
       "│ batch_normalization_8                │ (\u001b[38;5;45mNone\u001b[0m, \u001b[38;5;34m500\u001b[0m, \u001b[38;5;34m128\u001b[0m)            │             \u001b[38;5;34m512\u001b[0m │\n",
       "│ (\u001b[38;5;33mBatchNormalization\u001b[0m)                 │                             │                 │\n",
       "├──────────────────────────────────────┼─────────────────────────────┼─────────────────┤\n",
       "│ bidirectional_10 (\u001b[38;5;33mBidirectional\u001b[0m)     │ (\u001b[38;5;45mNone\u001b[0m, \u001b[38;5;34m64\u001b[0m)                  │          \u001b[38;5;34m41,216\u001b[0m │\n",
       "├──────────────────────────────────────┼─────────────────────────────┼─────────────────┤\n",
       "│ dropout_8 (\u001b[38;5;33mDropout\u001b[0m)                  │ (\u001b[38;5;45mNone\u001b[0m, \u001b[38;5;34m64\u001b[0m)                  │               \u001b[38;5;34m0\u001b[0m │\n",
       "├──────────────────────────────────────┼─────────────────────────────┼─────────────────┤\n",
       "│ dense_16 (\u001b[38;5;33mDense\u001b[0m)                     │ (\u001b[38;5;45mNone\u001b[0m, \u001b[38;5;34m16\u001b[0m)                  │           \u001b[38;5;34m1,040\u001b[0m │\n",
       "├──────────────────────────────────────┼─────────────────────────────┼─────────────────┤\n",
       "│ dense_17 (\u001b[38;5;33mDense\u001b[0m)                     │ (\u001b[38;5;45mNone\u001b[0m, \u001b[38;5;34m3\u001b[0m)                   │              \u001b[38;5;34m51\u001b[0m │\n",
       "└──────────────────────────────────────┴─────────────────────────────┴─────────────────┘\n"
      ]
     },
     "metadata": {},
     "output_type": "display_data"
    },
    {
     "data": {
      "text/html": [
       "<pre style=\"white-space:pre;overflow-x:auto;line-height:normal;font-family:Menlo,'DejaVu Sans Mono',consolas,'Courier New',monospace\"><span style=\"font-weight: bold\"> Total params: </span><span style=\"color: #00af00; text-decoration-color: #00af00\">172,867</span> (675.26 KB)\n",
       "</pre>\n"
      ],
      "text/plain": [
       "\u001b[1m Total params: \u001b[0m\u001b[38;5;34m172,867\u001b[0m (675.26 KB)\n"
      ]
     },
     "metadata": {},
     "output_type": "display_data"
    },
    {
     "data": {
      "text/html": [
       "<pre style=\"white-space:pre;overflow-x:auto;line-height:normal;font-family:Menlo,'DejaVu Sans Mono',consolas,'Courier New',monospace\"><span style=\"font-weight: bold\"> Trainable params: </span><span style=\"color: #00af00; text-decoration-color: #00af00\">172,611</span> (674.26 KB)\n",
       "</pre>\n"
      ],
      "text/plain": [
       "\u001b[1m Trainable params: \u001b[0m\u001b[38;5;34m172,611\u001b[0m (674.26 KB)\n"
      ]
     },
     "metadata": {},
     "output_type": "display_data"
    },
    {
     "data": {
      "text/html": [
       "<pre style=\"white-space:pre;overflow-x:auto;line-height:normal;font-family:Menlo,'DejaVu Sans Mono',consolas,'Courier New',monospace\"><span style=\"font-weight: bold\"> Non-trainable params: </span><span style=\"color: #00af00; text-decoration-color: #00af00\">256</span> (1.00 KB)\n",
       "</pre>\n"
      ],
      "text/plain": [
       "\u001b[1m Non-trainable params: \u001b[0m\u001b[38;5;34m256\u001b[0m (1.00 KB)\n"
      ]
     },
     "metadata": {},
     "output_type": "display_data"
    }
   ],
   "source": [
    "# 여러개 정답 중 하나 맞추는 문제이며, 정답값이 one-hot 형태이기 때문에\n",
    "# 손실 함수는 categorical_crossentropy를 사용\n",
    "model.compile(loss = 'categorical_crossentropy',\n",
    "             optimizer = 'adam',\n",
    "             metrics= ['accuracy'])\n",
    "model.summary()"
   ]
  },
  {
   "cell_type": "markdown",
   "id": "b3c965b5",
   "metadata": {},
   "source": [
    "# 학습 "
   ]
  },
  {
   "cell_type": "code",
   "execution_count": 59,
   "id": "ba8523bd",
   "metadata": {},
   "outputs": [],
   "source": [
    "early_stop = EarlyStopping(monitor='val_loss', patience = 5)"
   ]
  },
  {
   "cell_type": "code",
   "execution_count": 63,
   "id": "3f41aa39",
   "metadata": {},
   "outputs": [
    {
     "name": "stdout",
     "output_type": "stream",
     "text": [
      "Epoch 1/100\n",
      "\u001b[1m22/22\u001b[0m \u001b[32m━━━━━━━━━━━━━━━━━━━━\u001b[0m\u001b[37m\u001b[0m \u001b[1m20s\u001b[0m 654ms/step - accuracy: 0.4770 - loss: 0.9848 - val_accuracy: 0.4942 - val_loss: 1.0620\n",
      "Epoch 2/100\n",
      "\u001b[1m22/22\u001b[0m \u001b[32m━━━━━━━━━━━━━━━━━━━━\u001b[0m\u001b[37m\u001b[0m \u001b[1m13s\u001b[0m 612ms/step - accuracy: 0.5031 - loss: 0.9526 - val_accuracy: 0.4942 - val_loss: 1.0498\n",
      "Epoch 3/100\n",
      "\u001b[1m22/22\u001b[0m \u001b[32m━━━━━━━━━━━━━━━━━━━━\u001b[0m\u001b[37m\u001b[0m \u001b[1m14s\u001b[0m 623ms/step - accuracy: 0.5174 - loss: 0.9294 - val_accuracy: 0.4942 - val_loss: 1.0366\n",
      "Epoch 4/100\n",
      "\u001b[1m22/22\u001b[0m \u001b[32m━━━━━━━━━━━━━━━━━━━━\u001b[0m\u001b[37m\u001b[0m \u001b[1m14s\u001b[0m 636ms/step - accuracy: 0.5220 - loss: 0.8939 - val_accuracy: 0.4942 - val_loss: 1.0232\n",
      "Epoch 5/100\n",
      "\u001b[1m22/22\u001b[0m \u001b[32m━━━━━━━━━━━━━━━━━━━━\u001b[0m\u001b[37m\u001b[0m \u001b[1m14s\u001b[0m 632ms/step - accuracy: 0.5525 - loss: 0.8411 - val_accuracy: 0.4971 - val_loss: 0.9972\n",
      "Epoch 6/100\n",
      "\u001b[1m22/22\u001b[0m \u001b[32m━━━━━━━━━━━━━━━━━━━━\u001b[0m\u001b[37m\u001b[0m \u001b[1m14s\u001b[0m 623ms/step - accuracy: 0.5314 - loss: 0.8787 - val_accuracy: 0.4971 - val_loss: 0.9558\n",
      "Epoch 7/100\n",
      "\u001b[1m22/22\u001b[0m \u001b[32m━━━━━━━━━━━━━━━━━━━━\u001b[0m\u001b[37m\u001b[0m \u001b[1m14s\u001b[0m 622ms/step - accuracy: 0.5569 - loss: 0.8072 - val_accuracy: 0.5175 - val_loss: 0.9446\n",
      "Epoch 8/100\n",
      "\u001b[1m22/22\u001b[0m \u001b[32m━━━━━━━━━━━━━━━━━━━━\u001b[0m\u001b[37m\u001b[0m \u001b[1m13s\u001b[0m 614ms/step - accuracy: 0.6133 - loss: 0.8153 - val_accuracy: 0.1053 - val_loss: 1.1491\n",
      "Epoch 9/100\n",
      "\u001b[1m22/22\u001b[0m \u001b[32m━━━━━━━━━━━━━━━━━━━━\u001b[0m\u001b[37m\u001b[0m \u001b[1m14s\u001b[0m 621ms/step - accuracy: 0.5604 - loss: 0.9185 - val_accuracy: 0.1140 - val_loss: 1.1157\n",
      "Epoch 10/100\n",
      "\u001b[1m22/22\u001b[0m \u001b[32m━━━━━━━━━━━━━━━━━━━━\u001b[0m\u001b[37m\u001b[0m \u001b[1m14s\u001b[0m 623ms/step - accuracy: 0.6363 - loss: 0.8005 - val_accuracy: 0.4971 - val_loss: 0.9622\n",
      "Epoch 11/100\n",
      "\u001b[1m22/22\u001b[0m \u001b[32m━━━━━━━━━━━━━━━━━━━━\u001b[0m\u001b[37m\u001b[0m \u001b[1m14s\u001b[0m 626ms/step - accuracy: 0.6494 - loss: 0.7819 - val_accuracy: 0.6404 - val_loss: 0.8733\n",
      "Epoch 12/100\n",
      "\u001b[1m22/22\u001b[0m \u001b[32m━━━━━━━━━━━━━━━━━━━━\u001b[0m\u001b[37m\u001b[0m \u001b[1m14s\u001b[0m 625ms/step - accuracy: 0.7992 - loss: 0.5381 - val_accuracy: 0.6111 - val_loss: 0.8594\n",
      "Epoch 13/100\n",
      "\u001b[1m22/22\u001b[0m \u001b[32m━━━━━━━━━━━━━━━━━━━━\u001b[0m\u001b[37m\u001b[0m \u001b[1m14s\u001b[0m 627ms/step - accuracy: 0.7336 - loss: 0.6024 - val_accuracy: 0.6433 - val_loss: 0.8201\n",
      "Epoch 14/100\n",
      "\u001b[1m22/22\u001b[0m \u001b[32m━━━━━━━━━━━━━━━━━━━━\u001b[0m\u001b[37m\u001b[0m \u001b[1m14s\u001b[0m 620ms/step - accuracy: 0.8091 - loss: 0.4914 - val_accuracy: 0.6404 - val_loss: 0.9625\n",
      "Epoch 15/100\n",
      "\u001b[1m22/22\u001b[0m \u001b[32m━━━━━━━━━━━━━━━━━━━━\u001b[0m\u001b[37m\u001b[0m \u001b[1m14s\u001b[0m 627ms/step - accuracy: 0.8281 - loss: 0.4529 - val_accuracy: 0.5906 - val_loss: 1.0358\n",
      "Epoch 16/100\n",
      "\u001b[1m22/22\u001b[0m \u001b[32m━━━━━━━━━━━━━━━━━━━━\u001b[0m\u001b[37m\u001b[0m \u001b[1m14s\u001b[0m 656ms/step - accuracy: 0.8614 - loss: 0.3688 - val_accuracy: 0.6404 - val_loss: 0.9986\n",
      "Epoch 17/100\n",
      "\u001b[1m22/22\u001b[0m \u001b[32m━━━━━━━━━━━━━━━━━━━━\u001b[0m\u001b[37m\u001b[0m \u001b[1m14s\u001b[0m 649ms/step - accuracy: 0.8874 - loss: 0.3187 - val_accuracy: 0.5965 - val_loss: 1.0889\n",
      "Epoch 18/100\n",
      "\u001b[1m22/22\u001b[0m \u001b[32m━━━━━━━━━━━━━━━━━━━━\u001b[0m\u001b[37m\u001b[0m \u001b[1m14s\u001b[0m 656ms/step - accuracy: 0.8937 - loss: 0.2978 - val_accuracy: 0.6842 - val_loss: 1.0847\n"
     ]
    }
   ],
   "source": [
    "# 모델 학습을 실행 \n",
    "history = model.fit(x_train_sp, y_train,\n",
    "                   epochs = 100, batch_size = 64, callbacks = early_stop, validation_split=0.2)"
   ]
  },
  {
   "cell_type": "code",
   "execution_count": 66,
   "id": "6729d46b",
   "metadata": {},
   "outputs": [],
   "source": [
    "# 모델 학습의 결과값을 데이터프레임으로 만들어 확인 \n",
    "df_hist = pd.DataFrame(history.history)"
   ]
  },
  {
   "cell_type": "code",
   "execution_count": 67,
   "id": "dd4c1513",
   "metadata": {},
   "outputs": [
    {
     "data": {
      "text/html": [
       "<div>\n",
       "<style scoped>\n",
       "    .dataframe tbody tr th:only-of-type {\n",
       "        vertical-align: middle;\n",
       "    }\n",
       "\n",
       "    .dataframe tbody tr th {\n",
       "        vertical-align: top;\n",
       "    }\n",
       "\n",
       "    .dataframe thead th {\n",
       "        text-align: right;\n",
       "    }\n",
       "</style>\n",
       "<table border=\"1\" class=\"dataframe\">\n",
       "  <thead>\n",
       "    <tr style=\"text-align: right;\">\n",
       "      <th></th>\n",
       "      <th>accuracy</th>\n",
       "      <th>loss</th>\n",
       "      <th>val_accuracy</th>\n",
       "      <th>val_loss</th>\n",
       "    </tr>\n",
       "  </thead>\n",
       "  <tbody>\n",
       "    <tr>\n",
       "      <th>0</th>\n",
       "      <td>0.502924</td>\n",
       "      <td>0.957847</td>\n",
       "      <td>0.494152</td>\n",
       "      <td>1.061952</td>\n",
       "    </tr>\n",
       "    <tr>\n",
       "      <th>1</th>\n",
       "      <td>0.519006</td>\n",
       "      <td>0.948573</td>\n",
       "      <td>0.494152</td>\n",
       "      <td>1.049790</td>\n",
       "    </tr>\n",
       "    <tr>\n",
       "      <th>2</th>\n",
       "      <td>0.520468</td>\n",
       "      <td>0.929644</td>\n",
       "      <td>0.494152</td>\n",
       "      <td>1.036551</td>\n",
       "    </tr>\n",
       "    <tr>\n",
       "      <th>3</th>\n",
       "      <td>0.523392</td>\n",
       "      <td>0.883990</td>\n",
       "      <td>0.494152</td>\n",
       "      <td>1.023164</td>\n",
       "    </tr>\n",
       "    <tr>\n",
       "      <th>4</th>\n",
       "      <td>0.547515</td>\n",
       "      <td>0.852463</td>\n",
       "      <td>0.497076</td>\n",
       "      <td>0.997211</td>\n",
       "    </tr>\n",
       "    <tr>\n",
       "      <th>5</th>\n",
       "      <td>0.535088</td>\n",
       "      <td>0.864968</td>\n",
       "      <td>0.497076</td>\n",
       "      <td>0.955821</td>\n",
       "    </tr>\n",
       "    <tr>\n",
       "      <th>6</th>\n",
       "      <td>0.569444</td>\n",
       "      <td>0.805090</td>\n",
       "      <td>0.517544</td>\n",
       "      <td>0.944604</td>\n",
       "    </tr>\n",
       "    <tr>\n",
       "      <th>7</th>\n",
       "      <td>0.597222</td>\n",
       "      <td>0.862022</td>\n",
       "      <td>0.105263</td>\n",
       "      <td>1.149074</td>\n",
       "    </tr>\n",
       "    <tr>\n",
       "      <th>8</th>\n",
       "      <td>0.545322</td>\n",
       "      <td>0.903312</td>\n",
       "      <td>0.114035</td>\n",
       "      <td>1.115720</td>\n",
       "    </tr>\n",
       "    <tr>\n",
       "      <th>9</th>\n",
       "      <td>0.670322</td>\n",
       "      <td>0.745165</td>\n",
       "      <td>0.497076</td>\n",
       "      <td>0.962215</td>\n",
       "    </tr>\n",
       "    <tr>\n",
       "      <th>10</th>\n",
       "      <td>0.697368</td>\n",
       "      <td>0.693487</td>\n",
       "      <td>0.640351</td>\n",
       "      <td>0.873317</td>\n",
       "    </tr>\n",
       "    <tr>\n",
       "      <th>11</th>\n",
       "      <td>0.799708</td>\n",
       "      <td>0.540019</td>\n",
       "      <td>0.611111</td>\n",
       "      <td>0.859432</td>\n",
       "    </tr>\n",
       "    <tr>\n",
       "      <th>12</th>\n",
       "      <td>0.745614</td>\n",
       "      <td>0.573677</td>\n",
       "      <td>0.643275</td>\n",
       "      <td>0.820122</td>\n",
       "    </tr>\n",
       "    <tr>\n",
       "      <th>13</th>\n",
       "      <td>0.815789</td>\n",
       "      <td>0.486235</td>\n",
       "      <td>0.640351</td>\n",
       "      <td>0.962539</td>\n",
       "    </tr>\n",
       "    <tr>\n",
       "      <th>14</th>\n",
       "      <td>0.836988</td>\n",
       "      <td>0.429860</td>\n",
       "      <td>0.590643</td>\n",
       "      <td>1.035774</td>\n",
       "    </tr>\n",
       "    <tr>\n",
       "      <th>15</th>\n",
       "      <td>0.858918</td>\n",
       "      <td>0.371775</td>\n",
       "      <td>0.640351</td>\n",
       "      <td>0.998595</td>\n",
       "    </tr>\n",
       "    <tr>\n",
       "      <th>16</th>\n",
       "      <td>0.885234</td>\n",
       "      <td>0.323235</td>\n",
       "      <td>0.596491</td>\n",
       "      <td>1.088898</td>\n",
       "    </tr>\n",
       "    <tr>\n",
       "      <th>17</th>\n",
       "      <td>0.888889</td>\n",
       "      <td>0.294673</td>\n",
       "      <td>0.684211</td>\n",
       "      <td>1.084696</td>\n",
       "    </tr>\n",
       "  </tbody>\n",
       "</table>\n",
       "</div>"
      ],
      "text/plain": [
       "    accuracy      loss  val_accuracy  val_loss\n",
       "0   0.502924  0.957847      0.494152  1.061952\n",
       "1   0.519006  0.948573      0.494152  1.049790\n",
       "2   0.520468  0.929644      0.494152  1.036551\n",
       "3   0.523392  0.883990      0.494152  1.023164\n",
       "4   0.547515  0.852463      0.497076  0.997211\n",
       "5   0.535088  0.864968      0.497076  0.955821\n",
       "6   0.569444  0.805090      0.517544  0.944604\n",
       "7   0.597222  0.862022      0.105263  1.149074\n",
       "8   0.545322  0.903312      0.114035  1.115720\n",
       "9   0.670322  0.745165      0.497076  0.962215\n",
       "10  0.697368  0.693487      0.640351  0.873317\n",
       "11  0.799708  0.540019      0.611111  0.859432\n",
       "12  0.745614  0.573677      0.643275  0.820122\n",
       "13  0.815789  0.486235      0.640351  0.962539\n",
       "14  0.836988  0.429860      0.590643  1.035774\n",
       "15  0.858918  0.371775      0.640351  0.998595\n",
       "16  0.885234  0.323235      0.596491  1.088898\n",
       "17  0.888889  0.294673      0.684211  1.084696"
      ]
     },
     "execution_count": 67,
     "metadata": {},
     "output_type": "execute_result"
    }
   ],
   "source": [
    "# 모델 학습 결과를 그래프로 시각화 \n",
    "df_hist"
   ]
  },
  {
   "cell_type": "code",
   "execution_count": 69,
   "id": "aea333c8",
   "metadata": {},
   "outputs": [
    {
     "data": {
      "image/png": "[encoded data removed]",
      "text/plain": [
       "<Figure size 640x480 with 1 Axes>"
      ]
     },
     "metadata": {},
     "output_type": "display_data"
    }
   ],
   "source": [
    "plt.figure()\n",
    "\n",
    "plt.plot(history.history['loss'], label = 'train_loss')\n",
    "plt.plot(history.history['accuracy'], label = 'train_acc')\n",
    "plt.plot(history.history['val_loss'], label = 'val_loss')\n",
    "plt.plot(history.history['val_accuracy'], label = 'val_acc')\n",
    "\n",
    "plt.legend()\n",
    "plt.xlabel('epoch')\n",
    "plt.show()"
   ]
  },
  {
   "cell_type": "markdown",
   "id": "25897e2b",
   "metadata": {},
   "source": [
    "## 예측"
   ]
  },
  {
   "cell_type": "code",
   "execution_count": 70,
   "id": "e6c64367",
   "metadata": {},
   "outputs": [
    {
     "name": "stdout",
     "output_type": "stream",
     "text": [
      "\u001b[1m14/14\u001b[0m \u001b[32m━━━━━━━━━━━━━━━━━━━━\u001b[0m\u001b[37m\u001b[0m \u001b[1m2s\u001b[0m 108ms/step\n"
     ]
    },
    {
     "data": {
      "text/plain": [
       "array([[0.01698307, 0.001736  , 0.981281  ],\n",
       "       [0.18059297, 0.00337689, 0.8160301 ],\n",
       "       [0.84086347, 0.0015867 , 0.15754981],\n",
       "       [0.9079662 , 0.00167147, 0.09036228],\n",
       "       [0.91871816, 0.00215156, 0.07913028],\n",
       "       [0.36774418, 0.00227702, 0.62997884],\n",
       "       [0.17834565, 0.03700431, 0.78465   ],\n",
       "       [0.8858727 , 0.00175025, 0.11237695],\n",
       "       [0.06371612, 0.00348628, 0.9327976 ],\n",
       "       [0.06292979, 0.00673673, 0.93033344]], dtype=float32)"
      ]
     },
     "execution_count": 70,
     "metadata": {},
     "output_type": "execute_result"
    }
   ],
   "source": [
    "# predict() 메서드로 모델 예측\n",
    "y_pred = model.predict(x_test_sp)\n",
    "y_pred[:10]"
   ]
  },
  {
   "cell_type": "markdown",
   "id": "45991133",
   "metadata": {},
   "source": [
    "## 평가 "
   ]
  },
  {
   "cell_type": "code",
   "execution_count": 71,
   "id": "4382bce1",
   "metadata": {},
   "outputs": [
    {
     "data": {
      "text/plain": [
       "array([2, 2, 0, 0, 0, 2, 2, 0, 2, 2], dtype=int64)"
      ]
     },
     "execution_count": 71,
     "metadata": {},
     "output_type": "execute_result"
    }
   ],
   "source": [
    "# numpy argmax을 이용해 가장 큰 값의 인덱스들을 반환한 (클래스 예측)을 y_predict에 할당\n",
    "y_predict = np.argmax(y_pred, axis = 1)\n",
    "y_predict[:10]"
   ]
  },
  {
   "cell_type": "code",
   "execution_count": 72,
   "id": "d8d41109",
   "metadata": {},
   "outputs": [],
   "source": [
    "# numpy.argmax 를 이용해 가장 큰 값의 인덱스들을 반환한 값(클래스 예측)을 y_test_val에 할당\n",
    "y_test_val = np.argmax(y_test.values, axis =  1)"
   ]
  },
  {
   "cell_type": "code",
   "execution_count": 73,
   "id": "e03d6d03",
   "metadata": {},
   "outputs": [
    {
     "data": {
      "text/plain": [
       "0.6705607476635514"
      ]
     },
     "execution_count": 73,
     "metadata": {},
     "output_type": "execute_result"
    }
   ],
   "source": [
    "# 실제값과 예측값을 비교하여 맞춘 값의 평균을 확인\n",
    "(y_test_val == y_predict).mean()"
   ]
  },
  {
   "cell_type": "code",
   "execution_count": 74,
   "id": "1f2fb65e",
   "metadata": {},
   "outputs": [
    {
     "name": "stdout",
     "output_type": "stream",
     "text": [
      "\u001b[1m14/14\u001b[0m \u001b[32m━━━━━━━━━━━━━━━━━━━━\u001b[0m\u001b[37m\u001b[0m \u001b[1m1s\u001b[0m 68ms/step - accuracy: 0.6520 - loss: 1.0573\n"
     ]
    },
    {
     "data": {
      "text/plain": [
       "(0.9891694784164429, 0.6705607771873474)"
      ]
     },
     "execution_count": 74,
     "metadata": {},
     "output_type": "execute_result"
    }
   ],
   "source": [
    "# 모델에 설정된 손실 값 및 메트릭 값을 반환하여 평가 \n",
    "test_loss, test_acc = model.evaluate(x_test_sp, y_test)\n",
    "test_loss, test_acc"
   ]
  },
  {
   "cell_type": "code",
   "execution_count": null,
   "id": "f45983f7",
   "metadata": {},
   "outputs": [],
   "source": []
  }
 ],
 "metadata": {
  "kernelspec": {
   "display_name": "Python 3 (ipykernel)",
   "language": "python",
   "name": "python3"
  },
  "language_info": {
   "codemirror_mode": {
    "name": "ipython",
    "version": 3
   },
   "file_extension": ".py",
   "mimetype": "text/x-python",
   "name": "python",
   "nbconvert_exporter": "python",
   "pygments_lexer": "ipython3",
   "version": "3.11.5"
  }
 },
 "nbformat": 4,
 "nbformat_minor": 5
}
