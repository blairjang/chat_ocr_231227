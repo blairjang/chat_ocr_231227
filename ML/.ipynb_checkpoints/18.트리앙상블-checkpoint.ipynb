{
 "cells": [
  {
   "cell_type": "markdown",
   "id": "27952d7a",
   "metadata": {},
   "source": [
    "# 앙상블\n",
    "\n",
    "- 여러 머신러닝 모델을 결합하여 더 좋은 모델을 얻는 방법\n",
    "- 앙상블의 종류\n",
    "    - 보팅\n",
    "    - 배깅\n",
    "    - 부스팅 "
   ]
  },
  {
   "cell_type": "markdown",
   "id": "2ec3a9b0",
   "metadata": {},
   "source": [
    "## 보팅(Voting)\n",
    "\n",
    "<img src = \"./image/voting.png\">"
   ]
  },
  {
   "cell_type": "markdown",
   "id": "3031eabe",
   "metadata": {},
   "source": [
    "- 오른쪽 그림이 소프트 보팅 "
   ]
  },
  {
   "cell_type": "markdown",
   "id": "1696b6f6",
   "metadata": {},
   "source": [
    "- 여러 개의 분류기가 투표를 통해 최종 예측 결과를 결정\n",
    "- 종류 \n",
    "    - 하드 보팅(Hard Voting)\n",
    "        - 다수의 분류기가 예측한 결과값을 최종 결과로 결정\n",
    "        \n",
    "    - 소프트 보팅(Soft Voㅇting)\n",
    "        - 모든 분류기가 예측한 결정 확률의 평균이 가장 높은 결과값을 최종 결과로 선정 "
   ]
  },
  {
   "cell_type": "markdown",
   "id": "3eed8519",
   "metadata": {},
   "source": [
    "## 배깅 (Bagging)\n",
    "\n",
    "<img src = \"./image/bagging.png\">"
   ]
  },
  {
   "cell_type": "markdown",
   "id": "0a7f26eb",
   "metadata": {},
   "source": [
    "- Decision Tree를 사용하면 다 똑같은 알고리즘으로 해결해야 함 "
   ]
  },
  {
   "cell_type": "markdown",
   "id": "d6661b71",
   "metadata": {},
   "source": [
    "- 데이터 샘플링(Bootstrap)을 통해 모델을 학습시키고 결과를 집계하는 방법\n",
    "    - Bootstrap\n",
    "        - 데이터가 조금씩은 편향되도록 샘플링하는 기법\n",
    "        - 분산이 높은 모델의 **과대적합 위험을 줄이는 효과**가 있음\n",
    "        \n",
    "- 모두 같은 유형의 알고리즘 기반의 분류기를 사용 \n",
    "- 데이터 분할 시 중복을 허용\n",
    "- 예시 : 랜덤포레스트(RandomForest) - 실무에서는 랜덤포레스트를 많이쓰고 decision tree 많이 안씀\n",
    "    - 과대 적합되기 쉬운 의사결정나무의 과대적합을 줄여 성능을 높일 수 있음 "
   ]
  },
  {
   "cell_type": "markdown",
   "id": "9b0a4e5d",
   "metadata": {},
   "source": [
    "- 배깅 방법은 일반적으로 높은 분산과 낮은 편향을 보이는 약한 학습기에 사용되는 반면, 부스팅 방법은 낮은 분산과 높은 편향이 관찰되는 경우에 활용됩니다."
   ]
  },
  {
   "cell_type": "markdown",
   "id": "f359610f",
   "metadata": {},
   "source": [
    "## 부스팅(Boosting)\n",
    "\n",
    "<img src = \"./image/boosting.png\">"
   ]
  },
  {
   "cell_type": "markdown",
   "id": "bf4164af",
   "metadata": {},
   "source": [
    "- 여러 개의분류기가 **순차적**으로 학습을 수행 \n",
    "- 이전 분류기의 예측이 틀린 데이터에 대해서 올바르게 예측할 수 있도록 **다음 분류기에 가중치(weight)** 를 부여하면서 학습과 예측을 진행\n",
    "- 계속하여 분류기에게 가중치를 부스팅하며 학습을 진행하기 때문에 부스팅 방식이라고 불림 \n",
    "- 일반적으로 부스팅 방식이 배깅에 비해 **성능이 좋지만 속도가 느리고 과적합이 발생할 가능성이** 더 높음\n",
    "- 예시 : XGBoost, LightGBM"
   ]
  },
  {
   "cell_type": "markdown",
   "id": "f99ce9c6",
   "metadata": {},
   "source": [
    "- 의사 결정나무는 성능이 그냥 그렇지만 속도가 빠름\n",
    "- 적절한 앙상블을 써야 함 "
   ]
  },
  {
   "cell_type": "markdown",
   "id": "35ca88d2",
   "metadata": {},
   "source": [
    "- 프젝 순서 :\n",
    "    - 데이터 수집, 전처리 + 분석, 모델링, 앙상블 "
   ]
  },
  {
   "cell_type": "code",
   "execution_count": null,
   "id": "75d8eabf",
   "metadata": {},
   "outputs": [],
   "source": []
  },
  {
   "cell_type": "code",
   "execution_count": null,
   "id": "b16f0be3",
   "metadata": {},
   "outputs": [],
   "source": []
  },
  {
   "cell_type": "code",
   "execution_count": null,
   "id": "27d49337",
   "metadata": {},
   "outputs": [],
   "source": []
  },
  {
   "cell_type": "code",
   "execution_count": null,
   "id": "13f3177b",
   "metadata": {},
   "outputs": [],
   "source": []
  },
  {
   "cell_type": "code",
   "execution_count": null,
   "id": "db3d6b71",
   "metadata": {},
   "outputs": [],
   "source": []
  },
  {
   "cell_type": "code",
   "execution_count": null,
   "id": "5d4e8c5d",
   "metadata": {},
   "outputs": [],
   "source": []
  },
  {
   "cell_type": "code",
   "execution_count": null,
   "id": "b9f92025",
   "metadata": {},
   "outputs": [],
   "source": []
  },
  {
   "cell_type": "code",
   "execution_count": null,
   "id": "d70c3eb8",
   "metadata": {},
   "outputs": [],
   "source": []
  },
  {
   "cell_type": "code",
   "execution_count": null,
   "id": "464de906",
   "metadata": {},
   "outputs": [],
   "source": []
  },
  {
   "cell_type": "code",
   "execution_count": null,
   "id": "d837077d",
   "metadata": {},
   "outputs": [],
   "source": []
  },
  {
   "cell_type": "code",
   "execution_count": null,
   "id": "d3e85f88",
   "metadata": {},
   "outputs": [],
   "source": []
  },
  {
   "cell_type": "code",
   "execution_count": null,
   "id": "76b01afa",
   "metadata": {},
   "outputs": [],
   "source": []
  },
  {
   "cell_type": "code",
   "execution_count": null,
   "id": "151a853c",
   "metadata": {},
   "outputs": [],
   "source": []
  },
  {
   "cell_type": "code",
   "execution_count": null,
   "id": "f2c2313c",
   "metadata": {},
   "outputs": [],
   "source": []
  },
  {
   "cell_type": "code",
   "execution_count": null,
   "id": "e2961101",
   "metadata": {},
   "outputs": [],
   "source": []
  },
  {
   "cell_type": "code",
   "execution_count": null,
   "id": "1a01547b",
   "metadata": {},
   "outputs": [],
   "source": []
  },
  {
   "cell_type": "code",
   "execution_count": null,
   "id": "5cf2cc86",
   "metadata": {},
   "outputs": [],
   "source": []
  },
  {
   "cell_type": "code",
   "execution_count": null,
   "id": "37c39f75",
   "metadata": {},
   "outputs": [],
   "source": []
  },
  {
   "cell_type": "code",
   "execution_count": null,
   "id": "f7d4c2b6",
   "metadata": {},
   "outputs": [],
   "source": []
  },
  {
   "cell_type": "code",
   "execution_count": null,
   "id": "1849af3d",
   "metadata": {},
   "outputs": [],
   "source": []
  },
  {
   "cell_type": "code",
   "execution_count": null,
   "id": "ff68f302",
   "metadata": {},
   "outputs": [],
   "source": []
  },
  {
   "cell_type": "code",
   "execution_count": null,
   "id": "8bd14246",
   "metadata": {},
   "outputs": [],
   "source": []
  },
  {
   "cell_type": "code",
   "execution_count": null,
   "id": "6ea5d5e6",
   "metadata": {},
   "outputs": [],
   "source": []
  },
  {
   "cell_type": "code",
   "execution_count": null,
   "id": "21503df4",
   "metadata": {},
   "outputs": [],
   "source": []
  },
  {
   "cell_type": "code",
   "execution_count": null,
   "id": "cfa5ec3d",
   "metadata": {},
   "outputs": [],
   "source": []
  },
  {
   "cell_type": "code",
   "execution_count": null,
   "id": "d6b7af1d",
   "metadata": {},
   "outputs": [],
   "source": []
  },
  {
   "cell_type": "code",
   "execution_count": null,
   "id": "2f777606",
   "metadata": {},
   "outputs": [],
   "source": []
  },
  {
   "cell_type": "code",
   "execution_count": null,
   "id": "3cd8efdf",
   "metadata": {},
   "outputs": [],
   "source": []
  },
  {
   "cell_type": "code",
   "execution_count": null,
   "id": "128e0bba",
   "metadata": {},
   "outputs": [],
   "source": []
  },
  {
   "cell_type": "code",
   "execution_count": null,
   "id": "52ee8bf4",
   "metadata": {},
   "outputs": [],
   "source": []
  },
  {
   "cell_type": "code",
   "execution_count": null,
   "id": "6ec7fb32",
   "metadata": {},
   "outputs": [],
   "source": []
  },
  {
   "cell_type": "code",
   "execution_count": null,
   "id": "d00585c8",
   "metadata": {},
   "outputs": [],
   "source": []
  },
  {
   "cell_type": "code",
   "execution_count": null,
   "id": "c8d04448",
   "metadata": {},
   "outputs": [],
   "source": []
  },
  {
   "cell_type": "code",
   "execution_count": null,
   "id": "b1b8c6be",
   "metadata": {},
   "outputs": [],
   "source": []
  },
  {
   "cell_type": "code",
   "execution_count": null,
   "id": "93110097",
   "metadata": {},
   "outputs": [],
   "source": []
  },
  {
   "cell_type": "code",
   "execution_count": null,
   "id": "b322dfea",
   "metadata": {},
   "outputs": [],
   "source": []
  },
  {
   "cell_type": "code",
   "execution_count": null,
   "id": "11cee346",
   "metadata": {},
   "outputs": [],
   "source": []
  },
  {
   "cell_type": "code",
   "execution_count": null,
   "id": "e688da3f",
   "metadata": {},
   "outputs": [],
   "source": []
  },
  {
   "cell_type": "code",
   "execution_count": null,
   "id": "a239610b",
   "metadata": {},
   "outputs": [],
   "source": []
  },
  {
   "cell_type": "code",
   "execution_count": null,
   "id": "90fd1afd",
   "metadata": {},
   "outputs": [],
   "source": []
  },
  {
   "cell_type": "code",
   "execution_count": null,
   "id": "e3c9d759",
   "metadata": {},
   "outputs": [],
   "source": []
  },
  {
   "cell_type": "code",
   "execution_count": null,
   "id": "93eabb6f",
   "metadata": {},
   "outputs": [],
   "source": []
  }
 ],
 "metadata": {
  "kernelspec": {
   "display_name": "Python 3 (ipykernel)",
   "language": "python",
   "name": "python3"
  },
  "language_info": {
   "codemirror_mode": {
    "name": "ipython",
    "version": 3
   },
   "file_extension": ".py",
   "mimetype": "text/x-python",
   "name": "python",
   "nbconvert_exporter": "python",
   "pygments_lexer": "ipython3",
   "version": "3.11.5"
  }
 },
 "nbformat": 4,
 "nbformat_minor": 5
}
