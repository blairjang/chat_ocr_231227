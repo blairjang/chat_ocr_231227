{
 "cells": [
  {
   "cell_type": "markdown",
   "id": "24d80936",
   "metadata": {},
   "source": [
    "# 확률적 경사 하강법(Stochastic Gradient Descent) \n",
    "\n",
    "<img src = \"./image/sgd.png\">"
   ]
  },
  {
   "cell_type": "markdown",
   "id": "c6b8ece7",
   "metadata": {},
   "source": [
    "- 의의\n",
    "    - 훈련 세트에서 샘플을 하나씩 꺼내 손실 함수의 경사를 따라 최적의 모델을 찾는 알고리즘\n",
    "    - 샘플을 하나씩 사용하지 않고 여러 개를 사용하면 미니배치 경사 하강법\n",
    "    - 한 번에 전체 샘플을 사용하면 배치 경사 하강법 \n",
    "    \n",
    "- 손실 함수(loss function)\n",
    "    - 확률적 경사하강법이 최적화할 대상\n",
    "    - 어떤 문제에서 머신러닝 알고리즘이 얼마나 실제값과 오차가 나는지 측정하는 기준 \n",
    "    - 손실 함수의 최솟값을 알 수 없기 때문에 조금씩 찾아나가는 과정이 확률적 경사 하강법 \n",
    "    \n",
    "- 에포크(epoch)\n",
    "    - 손실 함수 값을 줄여나가는 과정에서 훈련 세트를 모두 사용하고도 만족할만한 결과에 도달하지 못했다면 다시 처음부터 훈련 세트를 사용함\n",
    "    - 이렇게 훈련세트를 한번 모두 사용하는 과정을 에포크라고 부름\n",
    "    - 일반적으로 수십번에서 수백 번 이상 에포크를 수행함 \n",
    "    \n",
    "- 확률적 경사 하강법의 특징 \n",
    "    - 샘플 데이터셋에 대해서만 경사를 계산하기 때문에 다루는 데이터가 줄어서 학습 속도가 빠르고 메모리 소모량이 작으며, 큰 데이터셋도 학습이 가능함\n",
    "    - 학습 과정에 진폭이 크고 배치 경사 하강법보다 불안정하게 움직임 "
   ]
  },
  {
   "cell_type": "markdown",
   "id": "0b444ade",
   "metadata": {},
   "source": [
    "- 에포크가 낮아지면 과소적합 \n",
    "- 에포크를 과도하게 설정하면 테스트 데이터가 낮아짐 "
   ]
  },
  {
   "cell_type": "markdown",
   "id": "7883637e",
   "metadata": {},
   "source": [
    "- 미리 배치 (여러개 한꺼번에)\n",
    "- 확률적 (하나씩)"
   ]
  },
  {
   "cell_type": "code",
   "execution_count": null,
   "id": "69d87138",
   "metadata": {},
   "outputs": [],
   "source": []
  },
  {
   "cell_type": "code",
   "execution_count": null,
   "id": "48aa4599",
   "metadata": {},
   "outputs": [],
   "source": []
  },
  {
   "cell_type": "code",
   "execution_count": null,
   "id": "8d3b96ee",
   "metadata": {},
   "outputs": [],
   "source": []
  }
 ],
 "metadata": {
  "kernelspec": {
   "display_name": "Python 3 (ipykernel)",
   "language": "python",
   "name": "python3"
  },
  "language_info": {
   "codemirror_mode": {
    "name": "ipython",
    "version": 3
   },
   "file_extension": ".py",
   "mimetype": "text/x-python",
   "name": "python",
   "nbconvert_exporter": "python",
   "pygments_lexer": "ipython3",
   "version": "3.11.5"
  }
 },
 "nbformat": 4,
 "nbformat_minor": 5
}
