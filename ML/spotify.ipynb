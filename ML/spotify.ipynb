{
 "cells": [
  {
   "cell_type": "markdown",
   "id": "23a8e10c",
   "metadata": {},
   "source": [
    "-제시된 spotify_top_songs_audio_features.csv 파일을 이용하여 streams를 예측하는 모델을 완성하고\n",
    "\n",
    "완성된 모델의 개발과정에서 작성한 코드와 테스트 데이터에 대한 결정계수를 답안으로 작성하시오\n",
    "\n",
    " "
   ]
  },
  {
   "cell_type": "code",
   "execution_count": 148,
   "id": "ed684307",
   "metadata": {},
   "outputs": [],
   "source": [
    "import pandas as pd\n",
    "import numpy as np\n",
    "import seaborn as sns\n",
    "from sklearn.preprocessing import StandardScaler\n",
    "from sklearn.model_selection import train_test_split\n",
    "from sklearn.linear_model import LinearRegression\n",
    "from sklearn.neighbors import KNeighborsClassifier\n",
    "\n",
    "from sklearn.metrics import mean_absolute_error,r2_score\n",
    "from sklearn.metrics import mean_squared_error\n",
    "from sklearn.metrics import confusion_matrix, classification_report\n",
    "\n",
    "import matplotlib.pyplot as plt\n",
    "\n",
    "import statsmodels.api as sm "
   ]
  },
  {
   "cell_type": "code",
   "execution_count": 2,
   "id": "b2a63248",
   "metadata": {},
   "outputs": [],
   "source": [
    "from matplotlib import font_manager, rc\n",
    "import matplotlib\n",
    "font_path = 'C:/Windows/Fonts/malgun.ttf'\n",
    "font_name = font_manager.FontProperties(fname = font_path).get_name()\n",
    "rc('font', family=font_name)"
   ]
  },
  {
   "cell_type": "code",
   "execution_count": 217,
   "id": "385239cc",
   "metadata": {},
   "outputs": [
    {
     "data": {
      "text/html": [
       "<div>\n",
       "<style scoped>\n",
       "    .dataframe tbody tr th:only-of-type {\n",
       "        vertical-align: middle;\n",
       "    }\n",
       "\n",
       "    .dataframe tbody tr th {\n",
       "        vertical-align: top;\n",
       "    }\n",
       "\n",
       "    .dataframe thead th {\n",
       "        text-align: right;\n",
       "    }\n",
       "</style>\n",
       "<table border=\"1\" class=\"dataframe\">\n",
       "  <thead>\n",
       "    <tr style=\"text-align: right;\">\n",
       "      <th></th>\n",
       "      <th>id</th>\n",
       "      <th>artist_names</th>\n",
       "      <th>track_name</th>\n",
       "      <th>source</th>\n",
       "      <th>key</th>\n",
       "      <th>mode</th>\n",
       "      <th>time_signature</th>\n",
       "      <th>danceability</th>\n",
       "      <th>energy</th>\n",
       "      <th>speechiness</th>\n",
       "      <th>acousticness</th>\n",
       "      <th>instrumentalness</th>\n",
       "      <th>liveness</th>\n",
       "      <th>valence</th>\n",
       "      <th>loudness</th>\n",
       "      <th>tempo</th>\n",
       "      <th>duration_ms</th>\n",
       "      <th>weeks_on_chart</th>\n",
       "      <th>streams</th>\n",
       "    </tr>\n",
       "  </thead>\n",
       "  <tbody>\n",
       "    <tr>\n",
       "      <th>0</th>\n",
       "      <td>000xQL6tZNLJzIrtIgxqSl</td>\n",
       "      <td>ZAYN, PARTYNEXTDOOR</td>\n",
       "      <td>Still Got Time (feat. PARTYNEXTDOOR)</td>\n",
       "      <td>RCA Records Label</td>\n",
       "      <td>G</td>\n",
       "      <td>Major</td>\n",
       "      <td>4 beats</td>\n",
       "      <td>0.748</td>\n",
       "      <td>0.627</td>\n",
       "      <td>0.0639</td>\n",
       "      <td>0.13100</td>\n",
       "      <td>0.0</td>\n",
       "      <td>0.0852</td>\n",
       "      <td>0.524</td>\n",
       "      <td>-6.029</td>\n",
       "      <td>120.963</td>\n",
       "      <td>188491</td>\n",
       "      <td>17</td>\n",
       "      <td>107527761</td>\n",
       "    </tr>\n",
       "    <tr>\n",
       "      <th>1</th>\n",
       "      <td>003eoIwxETJujVWmNFMoZy</td>\n",
       "      <td>Alessia Cara</td>\n",
       "      <td>Growing Pains</td>\n",
       "      <td>Def Jam Recordings</td>\n",
       "      <td>C#/Db</td>\n",
       "      <td>Minor</td>\n",
       "      <td>4 beats</td>\n",
       "      <td>0.353</td>\n",
       "      <td>0.755</td>\n",
       "      <td>0.7330</td>\n",
       "      <td>0.08220</td>\n",
       "      <td>0.0</td>\n",
       "      <td>0.3900</td>\n",
       "      <td>0.437</td>\n",
       "      <td>-6.276</td>\n",
       "      <td>191.153</td>\n",
       "      <td>193680</td>\n",
       "      <td>2</td>\n",
       "      <td>9944865</td>\n",
       "    </tr>\n",
       "    <tr>\n",
       "      <th>2</th>\n",
       "      <td>003vvx7Niy0yvhvHt4a68B</td>\n",
       "      <td>The Killers</td>\n",
       "      <td>Mr. Brightside</td>\n",
       "      <td>Island Records</td>\n",
       "      <td>C#/Db</td>\n",
       "      <td>Major</td>\n",
       "      <td>4 beats</td>\n",
       "      <td>0.352</td>\n",
       "      <td>0.911</td>\n",
       "      <td>0.0747</td>\n",
       "      <td>0.00121</td>\n",
       "      <td>0.0</td>\n",
       "      <td>0.0995</td>\n",
       "      <td>0.236</td>\n",
       "      <td>-5.230</td>\n",
       "      <td>148.033</td>\n",
       "      <td>222973</td>\n",
       "      <td>125</td>\n",
       "      <td>512388123</td>\n",
       "    </tr>\n",
       "    <tr>\n",
       "      <th>3</th>\n",
       "      <td>00B7TZ0Xawar6NZ00JFomN</td>\n",
       "      <td>Cardi B, Chance the Rapper</td>\n",
       "      <td>Best Life (feat. Chance The Rapper)</td>\n",
       "      <td>Atlantic/KSR</td>\n",
       "      <td>A</td>\n",
       "      <td>Major</td>\n",
       "      <td>4 beats</td>\n",
       "      <td>0.620</td>\n",
       "      <td>0.625</td>\n",
       "      <td>0.5530</td>\n",
       "      <td>0.28700</td>\n",
       "      <td>0.0</td>\n",
       "      <td>0.3140</td>\n",
       "      <td>0.665</td>\n",
       "      <td>-7.438</td>\n",
       "      <td>167.911</td>\n",
       "      <td>284856</td>\n",
       "      <td>2</td>\n",
       "      <td>11985346</td>\n",
       "    </tr>\n",
       "    <tr>\n",
       "      <th>4</th>\n",
       "      <td>00Blm7zeNqgYLPtW6zg8cj</td>\n",
       "      <td>Post Malone, The Weeknd</td>\n",
       "      <td>One Right Now (with The Weeknd)</td>\n",
       "      <td>Republic Records</td>\n",
       "      <td>C#/Db</td>\n",
       "      <td>Major</td>\n",
       "      <td>4 beats</td>\n",
       "      <td>0.687</td>\n",
       "      <td>0.781</td>\n",
       "      <td>0.0530</td>\n",
       "      <td>0.03610</td>\n",
       "      <td>0.0</td>\n",
       "      <td>0.0755</td>\n",
       "      <td>0.688</td>\n",
       "      <td>-4.806</td>\n",
       "      <td>97.014</td>\n",
       "      <td>193507</td>\n",
       "      <td>30</td>\n",
       "      <td>301860377</td>\n",
       "    </tr>\n",
       "  </tbody>\n",
       "</table>\n",
       "</div>"
      ],
      "text/plain": [
       "                       id                artist_names  \\\n",
       "0  000xQL6tZNLJzIrtIgxqSl         ZAYN, PARTYNEXTDOOR   \n",
       "1  003eoIwxETJujVWmNFMoZy                Alessia Cara   \n",
       "2  003vvx7Niy0yvhvHt4a68B                 The Killers   \n",
       "3  00B7TZ0Xawar6NZ00JFomN  Cardi B, Chance the Rapper   \n",
       "4  00Blm7zeNqgYLPtW6zg8cj     Post Malone, The Weeknd   \n",
       "\n",
       "                             track_name              source    key   mode  \\\n",
       "0  Still Got Time (feat. PARTYNEXTDOOR)   RCA Records Label      G  Major   \n",
       "1                         Growing Pains  Def Jam Recordings  C#/Db  Minor   \n",
       "2                        Mr. Brightside      Island Records  C#/Db  Major   \n",
       "3   Best Life (feat. Chance The Rapper)        Atlantic/KSR      A  Major   \n",
       "4       One Right Now (with The Weeknd)    Republic Records  C#/Db  Major   \n",
       "\n",
       "  time_signature  danceability  energy  speechiness  acousticness  \\\n",
       "0        4 beats         0.748   0.627       0.0639       0.13100   \n",
       "1        4 beats         0.353   0.755       0.7330       0.08220   \n",
       "2        4 beats         0.352   0.911       0.0747       0.00121   \n",
       "3        4 beats         0.620   0.625       0.5530       0.28700   \n",
       "4        4 beats         0.687   0.781       0.0530       0.03610   \n",
       "\n",
       "   instrumentalness  liveness  valence  loudness    tempo  duration_ms  \\\n",
       "0               0.0    0.0852    0.524    -6.029  120.963       188491   \n",
       "1               0.0    0.3900    0.437    -6.276  191.153       193680   \n",
       "2               0.0    0.0995    0.236    -5.230  148.033       222973   \n",
       "3               0.0    0.3140    0.665    -7.438  167.911       284856   \n",
       "4               0.0    0.0755    0.688    -4.806   97.014       193507   \n",
       "\n",
       "   weeks_on_chart    streams  \n",
       "0              17  107527761  \n",
       "1               2    9944865  \n",
       "2             125  512388123  \n",
       "3               2   11985346  \n",
       "4              30  301860377  "
      ]
     },
     "execution_count": 217,
     "metadata": {},
     "output_type": "execute_result"
    }
   ],
   "source": [
    "df = pd.read_csv(\"./data/spotify_top_songs_audio_features.csv\")\n",
    "df.head()"
   ]
  },
  {
   "cell_type": "code",
   "execution_count": 218,
   "id": "46a22a3f",
   "metadata": {
    "scrolled": true
   },
   "outputs": [
    {
     "data": {
      "text/plain": [
       "id                   object\n",
       "artist_names         object\n",
       "track_name           object\n",
       "source               object\n",
       "key                  object\n",
       "mode                 object\n",
       "time_signature       object\n",
       "danceability        float64\n",
       "energy              float64\n",
       "speechiness         float64\n",
       "acousticness        float64\n",
       "instrumentalness    float64\n",
       "liveness            float64\n",
       "valence             float64\n",
       "loudness            float64\n",
       "tempo               float64\n",
       "duration_ms           int64\n",
       "weeks_on_chart        int64\n",
       "streams               int64\n",
       "dtype: object"
      ]
     },
     "execution_count": 218,
     "metadata": {},
     "output_type": "execute_result"
    }
   ],
   "source": [
    "df.dtypes"
   ]
  },
  {
   "cell_type": "code",
   "execution_count": 219,
   "id": "f2f25e71",
   "metadata": {},
   "outputs": [
    {
     "name": "stdout",
     "output_type": "stream",
     "text": [
      "<class 'pandas.core.frame.DataFrame'>\n",
      "RangeIndex: 6513 entries, 0 to 6512\n",
      "Data columns (total 19 columns):\n",
      " #   Column            Non-Null Count  Dtype  \n",
      "---  ------            --------------  -----  \n",
      " 0   id                6513 non-null   object \n",
      " 1   artist_names      6513 non-null   object \n",
      " 2   track_name        6513 non-null   object \n",
      " 3   source            6513 non-null   object \n",
      " 4   key               6513 non-null   object \n",
      " 5   mode              6513 non-null   object \n",
      " 6   time_signature    6513 non-null   object \n",
      " 7   danceability      6513 non-null   float64\n",
      " 8   energy            6513 non-null   float64\n",
      " 9   speechiness       6513 non-null   float64\n",
      " 10  acousticness      6513 non-null   float64\n",
      " 11  instrumentalness  6513 non-null   float64\n",
      " 12  liveness          6513 non-null   float64\n",
      " 13  valence           6513 non-null   float64\n",
      " 14  loudness          6513 non-null   float64\n",
      " 15  tempo             6513 non-null   float64\n",
      " 16  duration_ms       6513 non-null   int64  \n",
      " 17  weeks_on_chart    6513 non-null   int64  \n",
      " 18  streams           6513 non-null   int64  \n",
      "dtypes: float64(9), int64(3), object(7)\n",
      "memory usage: 966.9+ KB\n"
     ]
    }
   ],
   "source": [
    "df.info()"
   ]
  },
  {
   "cell_type": "code",
   "execution_count": 220,
   "id": "c9a2eb4c",
   "metadata": {},
   "outputs": [
    {
     "data": {
      "text/plain": [
       "(6513, 19)"
      ]
     },
     "execution_count": 220,
     "metadata": {},
     "output_type": "execute_result"
    }
   ],
   "source": [
    "df.shape"
   ]
  },
  {
   "cell_type": "code",
   "execution_count": 221,
   "id": "c6da89b7",
   "metadata": {},
   "outputs": [
    {
     "data": {
      "text/html": [
       "<div>\n",
       "<style scoped>\n",
       "    .dataframe tbody tr th:only-of-type {\n",
       "        vertical-align: middle;\n",
       "    }\n",
       "\n",
       "    .dataframe tbody tr th {\n",
       "        vertical-align: top;\n",
       "    }\n",
       "\n",
       "    .dataframe thead th {\n",
       "        text-align: right;\n",
       "    }\n",
       "</style>\n",
       "<table border=\"1\" class=\"dataframe\">\n",
       "  <thead>\n",
       "    <tr style=\"text-align: right;\">\n",
       "      <th></th>\n",
       "      <th>danceability</th>\n",
       "      <th>energy</th>\n",
       "      <th>speechiness</th>\n",
       "      <th>acousticness</th>\n",
       "      <th>instrumentalness</th>\n",
       "      <th>liveness</th>\n",
       "      <th>valence</th>\n",
       "      <th>loudness</th>\n",
       "      <th>tempo</th>\n",
       "      <th>duration_ms</th>\n",
       "      <th>weeks_on_chart</th>\n",
       "      <th>streams</th>\n",
       "    </tr>\n",
       "  </thead>\n",
       "  <tbody>\n",
       "    <tr>\n",
       "      <th>count</th>\n",
       "      <td>6513.000000</td>\n",
       "      <td>6513.000000</td>\n",
       "      <td>6513.000000</td>\n",
       "      <td>6513.000000</td>\n",
       "      <td>6513.000000</td>\n",
       "      <td>6513.000000</td>\n",
       "      <td>6513.000000</td>\n",
       "      <td>6513.000000</td>\n",
       "      <td>6513.000000</td>\n",
       "      <td>6513.000000</td>\n",
       "      <td>6513.000000</td>\n",
       "      <td>6.513000e+03</td>\n",
       "    </tr>\n",
       "    <tr>\n",
       "      <th>mean</th>\n",
       "      <td>0.681731</td>\n",
       "      <td>0.636522</td>\n",
       "      <td>0.121933</td>\n",
       "      <td>0.236761</td>\n",
       "      <td>0.012469</td>\n",
       "      <td>0.180168</td>\n",
       "      <td>0.492412</td>\n",
       "      <td>-6.350667</td>\n",
       "      <td>122.117244</td>\n",
       "      <td>202566.684170</td>\n",
       "      <td>13.614924</td>\n",
       "      <td>1.089647e+08</td>\n",
       "    </tr>\n",
       "    <tr>\n",
       "      <th>std</th>\n",
       "      <td>0.141787</td>\n",
       "      <td>0.164813</td>\n",
       "      <td>0.113441</td>\n",
       "      <td>0.244784</td>\n",
       "      <td>0.075151</td>\n",
       "      <td>0.138054</td>\n",
       "      <td>0.227001</td>\n",
       "      <td>2.536114</td>\n",
       "      <td>29.416097</td>\n",
       "      <td>49199.592333</td>\n",
       "      <td>24.084051</td>\n",
       "      <td>2.276695e+08</td>\n",
       "    </tr>\n",
       "    <tr>\n",
       "      <th>min</th>\n",
       "      <td>0.150000</td>\n",
       "      <td>0.021800</td>\n",
       "      <td>0.023200</td>\n",
       "      <td>0.000008</td>\n",
       "      <td>0.000000</td>\n",
       "      <td>0.019700</td>\n",
       "      <td>0.032000</td>\n",
       "      <td>-34.475000</td>\n",
       "      <td>46.718000</td>\n",
       "      <td>30133.000000</td>\n",
       "      <td>1.000000</td>\n",
       "      <td>2.525159e+06</td>\n",
       "    </tr>\n",
       "    <tr>\n",
       "      <th>25%</th>\n",
       "      <td>0.591000</td>\n",
       "      <td>0.534000</td>\n",
       "      <td>0.044000</td>\n",
       "      <td>0.044400</td>\n",
       "      <td>0.000000</td>\n",
       "      <td>0.097400</td>\n",
       "      <td>0.316000</td>\n",
       "      <td>-7.564000</td>\n",
       "      <td>98.007000</td>\n",
       "      <td>173038.000000</td>\n",
       "      <td>1.000000</td>\n",
       "      <td>8.695060e+06</td>\n",
       "    </tr>\n",
       "    <tr>\n",
       "      <th>50%</th>\n",
       "      <td>0.698000</td>\n",
       "      <td>0.651000</td>\n",
       "      <td>0.072200</td>\n",
       "      <td>0.145000</td>\n",
       "      <td>0.000000</td>\n",
       "      <td>0.124000</td>\n",
       "      <td>0.489000</td>\n",
       "      <td>-5.983000</td>\n",
       "      <td>120.034000</td>\n",
       "      <td>198367.000000</td>\n",
       "      <td>4.000000</td>\n",
       "      <td>2.712856e+07</td>\n",
       "    </tr>\n",
       "    <tr>\n",
       "      <th>75%</th>\n",
       "      <td>0.785000</td>\n",
       "      <td>0.759000</td>\n",
       "      <td>0.163000</td>\n",
       "      <td>0.356000</td>\n",
       "      <td>0.000041</td>\n",
       "      <td>0.219000</td>\n",
       "      <td>0.669000</td>\n",
       "      <td>-4.673000</td>\n",
       "      <td>142.025000</td>\n",
       "      <td>226003.000000</td>\n",
       "      <td>16.000000</td>\n",
       "      <td>9.951456e+07</td>\n",
       "    </tr>\n",
       "    <tr>\n",
       "      <th>max</th>\n",
       "      <td>0.985000</td>\n",
       "      <td>0.989000</td>\n",
       "      <td>0.966000</td>\n",
       "      <td>0.994000</td>\n",
       "      <td>0.953000</td>\n",
       "      <td>0.977000</td>\n",
       "      <td>0.982000</td>\n",
       "      <td>1.509000</td>\n",
       "      <td>212.117000</td>\n",
       "      <td>690732.000000</td>\n",
       "      <td>367.000000</td>\n",
       "      <td>3.528450e+09</td>\n",
       "    </tr>\n",
       "  </tbody>\n",
       "</table>\n",
       "</div>"
      ],
      "text/plain": [
       "       danceability       energy  speechiness  acousticness  instrumentalness  \\\n",
       "count   6513.000000  6513.000000  6513.000000   6513.000000       6513.000000   \n",
       "mean       0.681731     0.636522     0.121933      0.236761          0.012469   \n",
       "std        0.141787     0.164813     0.113441      0.244784          0.075151   \n",
       "min        0.150000     0.021800     0.023200      0.000008          0.000000   \n",
       "25%        0.591000     0.534000     0.044000      0.044400          0.000000   \n",
       "50%        0.698000     0.651000     0.072200      0.145000          0.000000   \n",
       "75%        0.785000     0.759000     0.163000      0.356000          0.000041   \n",
       "max        0.985000     0.989000     0.966000      0.994000          0.953000   \n",
       "\n",
       "          liveness      valence     loudness        tempo    duration_ms  \\\n",
       "count  6513.000000  6513.000000  6513.000000  6513.000000    6513.000000   \n",
       "mean      0.180168     0.492412    -6.350667   122.117244  202566.684170   \n",
       "std       0.138054     0.227001     2.536114    29.416097   49199.592333   \n",
       "min       0.019700     0.032000   -34.475000    46.718000   30133.000000   \n",
       "25%       0.097400     0.316000    -7.564000    98.007000  173038.000000   \n",
       "50%       0.124000     0.489000    -5.983000   120.034000  198367.000000   \n",
       "75%       0.219000     0.669000    -4.673000   142.025000  226003.000000   \n",
       "max       0.977000     0.982000     1.509000   212.117000  690732.000000   \n",
       "\n",
       "       weeks_on_chart       streams  \n",
       "count     6513.000000  6.513000e+03  \n",
       "mean        13.614924  1.089647e+08  \n",
       "std         24.084051  2.276695e+08  \n",
       "min          1.000000  2.525159e+06  \n",
       "25%          1.000000  8.695060e+06  \n",
       "50%          4.000000  2.712856e+07  \n",
       "75%         16.000000  9.951456e+07  \n",
       "max        367.000000  3.528450e+09  "
      ]
     },
     "execution_count": 221,
     "metadata": {},
     "output_type": "execute_result"
    }
   ],
   "source": [
    "df.describe()"
   ]
  },
  {
   "cell_type": "code",
   "execution_count": 222,
   "id": "089d9c1e",
   "metadata": {},
   "outputs": [
    {
     "data": {
      "text/plain": [
       "id                  0\n",
       "artist_names        0\n",
       "track_name          0\n",
       "source              0\n",
       "key                 0\n",
       "mode                0\n",
       "time_signature      0\n",
       "danceability        0\n",
       "energy              0\n",
       "speechiness         0\n",
       "acousticness        0\n",
       "instrumentalness    0\n",
       "liveness            0\n",
       "valence             0\n",
       "loudness            0\n",
       "tempo               0\n",
       "duration_ms         0\n",
       "weeks_on_chart      0\n",
       "streams             0\n",
       "dtype: int64"
      ]
     },
     "execution_count": 222,
     "metadata": {},
     "output_type": "execute_result"
    }
   ],
   "source": [
    "df.isna().sum()"
   ]
  },
  {
   "cell_type": "code",
   "execution_count": 223,
   "id": "d33c9bd7",
   "metadata": {},
   "outputs": [
    {
     "data": {
      "text/plain": [
       "Index(['id', 'artist_names', 'track_name', 'source', 'key', 'mode',\n",
       "       'time_signature', 'danceability', 'energy', 'speechiness',\n",
       "       'acousticness', 'instrumentalness', 'liveness', 'valence', 'loudness',\n",
       "       'tempo', 'duration_ms', 'weeks_on_chart', 'streams'],\n",
       "      dtype='object')"
      ]
     },
     "execution_count": 223,
     "metadata": {},
     "output_type": "execute_result"
    }
   ],
   "source": [
    "df.columns"
   ]
  },
  {
   "cell_type": "code",
   "execution_count": 224,
   "id": "af753ee1",
   "metadata": {
    "scrolled": false
   },
   "outputs": [
    {
     "data": {
      "text/plain": [
       "artist_names\n",
       "Taylor Swift                     175\n",
       "Drake                            111\n",
       "BTS                               71\n",
       "Bad Bunny                         70\n",
       "Ariana Grande                     60\n",
       "                                ... \n",
       "Becky G, NATTI NATASHA             1\n",
       "Shakira, Manuel Turizo             1\n",
       "Martin Garrix, Bono, The Edge      1\n",
       "Lauv, Julia Michaels               1\n",
       "Kendrick Lamar, Tanna Leone        1\n",
       "Name: count, Length: 3001, dtype: int64"
      ]
     },
     "execution_count": 224,
     "metadata": {},
     "output_type": "execute_result"
    }
   ],
   "source": [
    "df[\"artist_names\"].value_counts()"
   ]
  },
  {
   "cell_type": "code",
   "execution_count": 225,
   "id": "fa85cdef",
   "metadata": {},
   "outputs": [],
   "source": [
    "rdf = df[[ 'energy','tempo', 'duration_ms', 'weeks_on_chart', 'streams']]"
   ]
  },
  {
   "cell_type": "code",
   "execution_count": 226,
   "id": "f97cab76",
   "metadata": {},
   "outputs": [],
   "source": [
    "rdf_columns = [ 'energy','tempo', 'duration_ms', 'weeks_on_chart', 'streams']"
   ]
  },
  {
   "cell_type": "code",
   "execution_count": 227,
   "id": "a1d023a9",
   "metadata": {
    "scrolled": true
   },
   "outputs": [
    {
     "data": {
      "text/html": [
       "<div>\n",
       "<style scoped>\n",
       "    .dataframe tbody tr th:only-of-type {\n",
       "        vertical-align: middle;\n",
       "    }\n",
       "\n",
       "    .dataframe tbody tr th {\n",
       "        vertical-align: top;\n",
       "    }\n",
       "\n",
       "    .dataframe thead th {\n",
       "        text-align: right;\n",
       "    }\n",
       "</style>\n",
       "<table border=\"1\" class=\"dataframe\">\n",
       "  <thead>\n",
       "    <tr style=\"text-align: right;\">\n",
       "      <th></th>\n",
       "      <th>energy</th>\n",
       "      <th>tempo</th>\n",
       "      <th>duration_ms</th>\n",
       "      <th>weeks_on_chart</th>\n",
       "      <th>streams</th>\n",
       "    </tr>\n",
       "  </thead>\n",
       "  <tbody>\n",
       "    <tr>\n",
       "      <th>0</th>\n",
       "      <td>0.627</td>\n",
       "      <td>120.963</td>\n",
       "      <td>188491</td>\n",
       "      <td>17</td>\n",
       "      <td>107527761</td>\n",
       "    </tr>\n",
       "    <tr>\n",
       "      <th>1</th>\n",
       "      <td>0.755</td>\n",
       "      <td>191.153</td>\n",
       "      <td>193680</td>\n",
       "      <td>2</td>\n",
       "      <td>9944865</td>\n",
       "    </tr>\n",
       "    <tr>\n",
       "      <th>2</th>\n",
       "      <td>0.911</td>\n",
       "      <td>148.033</td>\n",
       "      <td>222973</td>\n",
       "      <td>125</td>\n",
       "      <td>512388123</td>\n",
       "    </tr>\n",
       "    <tr>\n",
       "      <th>3</th>\n",
       "      <td>0.625</td>\n",
       "      <td>167.911</td>\n",
       "      <td>284856</td>\n",
       "      <td>2</td>\n",
       "      <td>11985346</td>\n",
       "    </tr>\n",
       "    <tr>\n",
       "      <th>4</th>\n",
       "      <td>0.781</td>\n",
       "      <td>97.014</td>\n",
       "      <td>193507</td>\n",
       "      <td>30</td>\n",
       "      <td>301860377</td>\n",
       "    </tr>\n",
       "  </tbody>\n",
       "</table>\n",
       "</div>"
      ],
      "text/plain": [
       "   energy    tempo  duration_ms  weeks_on_chart    streams\n",
       "0   0.627  120.963       188491              17  107527761\n",
       "1   0.755  191.153       193680               2    9944865\n",
       "2   0.911  148.033       222973             125  512388123\n",
       "3   0.625  167.911       284856               2   11985346\n",
       "4   0.781   97.014       193507              30  301860377"
      ]
     },
     "execution_count": 227,
     "metadata": {},
     "output_type": "execute_result"
    }
   ],
   "source": [
    "rdf.head()"
   ]
  },
  {
   "cell_type": "code",
   "execution_count": 228,
   "id": "7b1e1c85",
   "metadata": {},
   "outputs": [
    {
     "data": {
      "text/html": [
       "<div>\n",
       "<style scoped>\n",
       "    .dataframe tbody tr th:only-of-type {\n",
       "        vertical-align: middle;\n",
       "    }\n",
       "\n",
       "    .dataframe tbody tr th {\n",
       "        vertical-align: top;\n",
       "    }\n",
       "\n",
       "    .dataframe thead th {\n",
       "        text-align: right;\n",
       "    }\n",
       "</style>\n",
       "<table border=\"1\" class=\"dataframe\">\n",
       "  <thead>\n",
       "    <tr style=\"text-align: right;\">\n",
       "      <th></th>\n",
       "      <th>energy</th>\n",
       "      <th>tempo</th>\n",
       "      <th>duration_ms</th>\n",
       "      <th>weeks_on_chart</th>\n",
       "      <th>streams</th>\n",
       "    </tr>\n",
       "  </thead>\n",
       "  <tbody>\n",
       "    <tr>\n",
       "      <th>energy</th>\n",
       "      <td>1.000000</td>\n",
       "      <td>0.095561</td>\n",
       "      <td>0.013937</td>\n",
       "      <td>0.009613</td>\n",
       "      <td>0.001399</td>\n",
       "    </tr>\n",
       "    <tr>\n",
       "      <th>tempo</th>\n",
       "      <td>0.095561</td>\n",
       "      <td>1.000000</td>\n",
       "      <td>-0.017492</td>\n",
       "      <td>-0.017994</td>\n",
       "      <td>-0.012052</td>\n",
       "    </tr>\n",
       "    <tr>\n",
       "      <th>duration_ms</th>\n",
       "      <td>0.013937</td>\n",
       "      <td>-0.017492</td>\n",
       "      <td>1.000000</td>\n",
       "      <td>0.031530</td>\n",
       "      <td>0.014761</td>\n",
       "    </tr>\n",
       "    <tr>\n",
       "      <th>weeks_on_chart</th>\n",
       "      <td>0.009613</td>\n",
       "      <td>-0.017994</td>\n",
       "      <td>0.031530</td>\n",
       "      <td>1.000000</td>\n",
       "      <td>0.855880</td>\n",
       "    </tr>\n",
       "    <tr>\n",
       "      <th>streams</th>\n",
       "      <td>0.001399</td>\n",
       "      <td>-0.012052</td>\n",
       "      <td>0.014761</td>\n",
       "      <td>0.855880</td>\n",
       "      <td>1.000000</td>\n",
       "    </tr>\n",
       "  </tbody>\n",
       "</table>\n",
       "</div>"
      ],
      "text/plain": [
       "                  energy     tempo  duration_ms  weeks_on_chart   streams\n",
       "energy          1.000000  0.095561     0.013937        0.009613  0.001399\n",
       "tempo           0.095561  1.000000    -0.017492       -0.017994 -0.012052\n",
       "duration_ms     0.013937 -0.017492     1.000000        0.031530  0.014761\n",
       "weeks_on_chart  0.009613 -0.017994     0.031530        1.000000  0.855880\n",
       "streams         0.001399 -0.012052     0.014761        0.855880  1.000000"
      ]
     },
     "execution_count": 228,
     "metadata": {},
     "output_type": "execute_result"
    }
   ],
   "source": [
    "rdf.corr()"
   ]
  },
  {
   "cell_type": "code",
   "execution_count": 229,
   "id": "33719e5a",
   "metadata": {
    "scrolled": false
   },
   "outputs": [
    {
     "data": {
      "text/html": [
       "<div>\n",
       "<style scoped>\n",
       "    .dataframe tbody tr th:only-of-type {\n",
       "        vertical-align: middle;\n",
       "    }\n",
       "\n",
       "    .dataframe tbody tr th {\n",
       "        vertical-align: top;\n",
       "    }\n",
       "\n",
       "    .dataframe thead th {\n",
       "        text-align: right;\n",
       "    }\n",
       "</style>\n",
       "<table border=\"1\" class=\"dataframe\">\n",
       "  <thead>\n",
       "    <tr style=\"text-align: right;\">\n",
       "      <th></th>\n",
       "      <th>energy</th>\n",
       "      <th>tempo</th>\n",
       "      <th>duration_ms</th>\n",
       "      <th>weeks_on_chart</th>\n",
       "      <th>streams</th>\n",
       "    </tr>\n",
       "  </thead>\n",
       "  <tbody>\n",
       "    <tr>\n",
       "      <th>count</th>\n",
       "      <td>6513.000000</td>\n",
       "      <td>6513.000000</td>\n",
       "      <td>6513.000000</td>\n",
       "      <td>6513.000000</td>\n",
       "      <td>6.513000e+03</td>\n",
       "    </tr>\n",
       "    <tr>\n",
       "      <th>mean</th>\n",
       "      <td>0.636522</td>\n",
       "      <td>122.117244</td>\n",
       "      <td>202566.684170</td>\n",
       "      <td>13.614924</td>\n",
       "      <td>1.089647e+08</td>\n",
       "    </tr>\n",
       "    <tr>\n",
       "      <th>std</th>\n",
       "      <td>0.164813</td>\n",
       "      <td>29.416097</td>\n",
       "      <td>49199.592333</td>\n",
       "      <td>24.084051</td>\n",
       "      <td>2.276695e+08</td>\n",
       "    </tr>\n",
       "    <tr>\n",
       "      <th>min</th>\n",
       "      <td>0.021800</td>\n",
       "      <td>46.718000</td>\n",
       "      <td>30133.000000</td>\n",
       "      <td>1.000000</td>\n",
       "      <td>2.525159e+06</td>\n",
       "    </tr>\n",
       "    <tr>\n",
       "      <th>25%</th>\n",
       "      <td>0.534000</td>\n",
       "      <td>98.007000</td>\n",
       "      <td>173038.000000</td>\n",
       "      <td>1.000000</td>\n",
       "      <td>8.695060e+06</td>\n",
       "    </tr>\n",
       "    <tr>\n",
       "      <th>50%</th>\n",
       "      <td>0.651000</td>\n",
       "      <td>120.034000</td>\n",
       "      <td>198367.000000</td>\n",
       "      <td>4.000000</td>\n",
       "      <td>2.712856e+07</td>\n",
       "    </tr>\n",
       "    <tr>\n",
       "      <th>75%</th>\n",
       "      <td>0.759000</td>\n",
       "      <td>142.025000</td>\n",
       "      <td>226003.000000</td>\n",
       "      <td>16.000000</td>\n",
       "      <td>9.951456e+07</td>\n",
       "    </tr>\n",
       "    <tr>\n",
       "      <th>max</th>\n",
       "      <td>0.989000</td>\n",
       "      <td>212.117000</td>\n",
       "      <td>690732.000000</td>\n",
       "      <td>367.000000</td>\n",
       "      <td>3.528450e+09</td>\n",
       "    </tr>\n",
       "  </tbody>\n",
       "</table>\n",
       "</div>"
      ],
      "text/plain": [
       "            energy        tempo    duration_ms  weeks_on_chart       streams\n",
       "count  6513.000000  6513.000000    6513.000000     6513.000000  6.513000e+03\n",
       "mean      0.636522   122.117244  202566.684170       13.614924  1.089647e+08\n",
       "std       0.164813    29.416097   49199.592333       24.084051  2.276695e+08\n",
       "min       0.021800    46.718000   30133.000000        1.000000  2.525159e+06\n",
       "25%       0.534000    98.007000  173038.000000        1.000000  8.695060e+06\n",
       "50%       0.651000   120.034000  198367.000000        4.000000  2.712856e+07\n",
       "75%       0.759000   142.025000  226003.000000       16.000000  9.951456e+07\n",
       "max       0.989000   212.117000  690732.000000      367.000000  3.528450e+09"
      ]
     },
     "execution_count": 229,
     "metadata": {},
     "output_type": "execute_result"
    }
   ],
   "source": [
    "rdf.describe()"
   ]
  },
  {
   "cell_type": "code",
   "execution_count": 230,
   "id": "bf16c522",
   "metadata": {},
   "outputs": [],
   "source": [
    "x = rdf.drop('streams', axis = 1)\n",
    "y = rdf[\"streams\"]"
   ]
  },
  {
   "cell_type": "code",
   "execution_count": 231,
   "id": "123cfaa1",
   "metadata": {
    "scrolled": true
   },
   "outputs": [
    {
     "data": {
      "text/plain": [
       "0       107527761\n",
       "1         9944865\n",
       "2       512388123\n",
       "3        11985346\n",
       "4       301860377\n",
       "          ...    \n",
       "6508     17583532\n",
       "6509     10526635\n",
       "6510      5404939\n",
       "6511     12872010\n",
       "6512      6568514\n",
       "Name: streams, Length: 6513, dtype: int64"
      ]
     },
     "execution_count": 231,
     "metadata": {},
     "output_type": "execute_result"
    }
   ],
   "source": [
    "y"
   ]
  },
  {
   "cell_type": "code",
   "execution_count": 232,
   "id": "54589a3a",
   "metadata": {},
   "outputs": [],
   "source": [
    "ss = StandardScaler()\n",
    "\n",
    "x = ss.fit_transform(x)"
   ]
  },
  {
   "cell_type": "code",
   "execution_count": 233,
   "id": "f69010b0",
   "metadata": {},
   "outputs": [
    {
     "data": {
      "text/plain": [
       "streams\n",
       "107527761    1\n",
       "50675911     1\n",
       "169278501    1\n",
       "326194123    1\n",
       "378241571    1\n",
       "            ..\n",
       "80000703     1\n",
       "201317070    1\n",
       "45071942     1\n",
       "5679681      1\n",
       "6568514      1\n",
       "Name: count, Length: 6513, dtype: int64"
      ]
     },
     "execution_count": 233,
     "metadata": {},
     "output_type": "execute_result"
    }
   ],
   "source": [
    "y.value_counts()"
   ]
  },
  {
   "cell_type": "code",
   "execution_count": 234,
   "id": "c18b299d",
   "metadata": {},
   "outputs": [],
   "source": [
    "x_train, x_test, y_train, y_test = train_test_split(x, y, test_size = 0.2, random_state= 8)"
   ]
  },
  {
   "cell_type": "code",
   "execution_count": 235,
   "id": "6eba5c2e",
   "metadata": {},
   "outputs": [
    {
     "data": {
      "text/plain": [
       "((5210, 4), (1303, 4))"
      ]
     },
     "execution_count": 235,
     "metadata": {},
     "output_type": "execute_result"
    }
   ],
   "source": [
    "x_train.shape, x_test.shape"
   ]
  },
  {
   "cell_type": "code",
   "execution_count": 236,
   "id": "b2145be2",
   "metadata": {},
   "outputs": [
    {
     "data": {
      "text/plain": [
       "(5210, 1303)"
      ]
     },
     "execution_count": 236,
     "metadata": {},
     "output_type": "execute_result"
    }
   ],
   "source": [
    "len(x_train), len(y_test)"
   ]
  },
  {
   "cell_type": "code",
   "execution_count": 237,
   "id": "c66543b6",
   "metadata": {},
   "outputs": [],
   "source": [
    "lr = LinearRegression()"
   ]
  },
  {
   "cell_type": "code",
   "execution_count": 238,
   "id": "3b58e7e6",
   "metadata": {},
   "outputs": [
    {
     "data": {
      "text/html": [
       "<style>#sk-container-id-8 {color: black;}#sk-container-id-8 pre{padding: 0;}#sk-container-id-8 div.sk-toggleable {background-color: white;}#sk-container-id-8 label.sk-toggleable__label {cursor: pointer;display: block;width: 100%;margin-bottom: 0;padding: 0.3em;box-sizing: border-box;text-align: center;}#sk-container-id-8 label.sk-toggleable__label-arrow:before {content: \"▸\";float: left;margin-right: 0.25em;color: #696969;}#sk-container-id-8 label.sk-toggleable__label-arrow:hover:before {color: black;}#sk-container-id-8 div.sk-estimator:hover label.sk-toggleable__label-arrow:before {color: black;}#sk-container-id-8 div.sk-toggleable__content {max-height: 0;max-width: 0;overflow: hidden;text-align: left;background-color: #f0f8ff;}#sk-container-id-8 div.sk-toggleable__content pre {margin: 0.2em;color: black;border-radius: 0.25em;background-color: #f0f8ff;}#sk-container-id-8 input.sk-toggleable__control:checked~div.sk-toggleable__content {max-height: 200px;max-width: 100%;overflow: auto;}#sk-container-id-8 input.sk-toggleable__control:checked~label.sk-toggleable__label-arrow:before {content: \"▾\";}#sk-container-id-8 div.sk-estimator input.sk-toggleable__control:checked~label.sk-toggleable__label {background-color: #d4ebff;}#sk-container-id-8 div.sk-label input.sk-toggleable__control:checked~label.sk-toggleable__label {background-color: #d4ebff;}#sk-container-id-8 input.sk-hidden--visually {border: 0;clip: rect(1px 1px 1px 1px);clip: rect(1px, 1px, 1px, 1px);height: 1px;margin: -1px;overflow: hidden;padding: 0;position: absolute;width: 1px;}#sk-container-id-8 div.sk-estimator {font-family: monospace;background-color: #f0f8ff;border: 1px dotted black;border-radius: 0.25em;box-sizing: border-box;margin-bottom: 0.5em;}#sk-container-id-8 div.sk-estimator:hover {background-color: #d4ebff;}#sk-container-id-8 div.sk-parallel-item::after {content: \"\";width: 100%;border-bottom: 1px solid gray;flex-grow: 1;}#sk-container-id-8 div.sk-label:hover label.sk-toggleable__label {background-color: #d4ebff;}#sk-container-id-8 div.sk-serial::before {content: \"\";position: absolute;border-left: 1px solid gray;box-sizing: border-box;top: 0;bottom: 0;left: 50%;z-index: 0;}#sk-container-id-8 div.sk-serial {display: flex;flex-direction: column;align-items: center;background-color: white;padding-right: 0.2em;padding-left: 0.2em;position: relative;}#sk-container-id-8 div.sk-item {position: relative;z-index: 1;}#sk-container-id-8 div.sk-parallel {display: flex;align-items: stretch;justify-content: center;background-color: white;position: relative;}#sk-container-id-8 div.sk-item::before, #sk-container-id-8 div.sk-parallel-item::before {content: \"\";position: absolute;border-left: 1px solid gray;box-sizing: border-box;top: 0;bottom: 0;left: 50%;z-index: -1;}#sk-container-id-8 div.sk-parallel-item {display: flex;flex-direction: column;z-index: 1;position: relative;background-color: white;}#sk-container-id-8 div.sk-parallel-item:first-child::after {align-self: flex-end;width: 50%;}#sk-container-id-8 div.sk-parallel-item:last-child::after {align-self: flex-start;width: 50%;}#sk-container-id-8 div.sk-parallel-item:only-child::after {width: 0;}#sk-container-id-8 div.sk-dashed-wrapped {border: 1px dashed gray;margin: 0 0.4em 0.5em 0.4em;box-sizing: border-box;padding-bottom: 0.4em;background-color: white;}#sk-container-id-8 div.sk-label label {font-family: monospace;font-weight: bold;display: inline-block;line-height: 1.2em;}#sk-container-id-8 div.sk-label-container {text-align: center;}#sk-container-id-8 div.sk-container {/* jupyter's `normalize.less` sets `[hidden] { display: none; }` but bootstrap.min.css set `[hidden] { display: none !important; }` so we also need the `!important` here to be able to override the default hidden behavior on the sphinx rendered scikit-learn.org. See: https://github.com/scikit-learn/scikit-learn/issues/21755 */display: inline-block !important;position: relative;}#sk-container-id-8 div.sk-text-repr-fallback {display: none;}</style><div id=\"sk-container-id-8\" class=\"sk-top-container\"><div class=\"sk-text-repr-fallback\"><pre>LinearRegression()</pre><b>In a Jupyter environment, please rerun this cell to show the HTML representation or trust the notebook. <br />On GitHub, the HTML representation is unable to render, please try loading this page with nbviewer.org.</b></div><div class=\"sk-container\" hidden><div class=\"sk-item\"><div class=\"sk-estimator sk-toggleable\"><input class=\"sk-toggleable__control sk-hidden--visually\" id=\"sk-estimator-id-8\" type=\"checkbox\" checked><label for=\"sk-estimator-id-8\" class=\"sk-toggleable__label sk-toggleable__label-arrow\">LinearRegression</label><div class=\"sk-toggleable__content\"><pre>LinearRegression()</pre></div></div></div></div></div>"
      ],
      "text/plain": [
       "LinearRegression()"
      ]
     },
     "execution_count": 238,
     "metadata": {},
     "output_type": "execute_result"
    }
   ],
   "source": [
    "lr.fit(x_train, y_train)"
   ]
  },
  {
   "cell_type": "code",
   "execution_count": 239,
   "id": "94ac4059",
   "metadata": {},
   "outputs": [
    {
     "data": {
      "text/plain": [
       "0.7925508351367233"
      ]
     },
     "execution_count": 239,
     "metadata": {},
     "output_type": "execute_result"
    }
   ],
   "source": [
    "r_square = lr.score(x_test, y_test)\n",
    "r_square"
   ]
  },
  {
   "cell_type": "code",
   "execution_count": 240,
   "id": "1c208f3f",
   "metadata": {},
   "outputs": [
    {
     "data": {
      "text/plain": [
       "array([-2.27309185e+06,  1.18585551e+06, -2.31197871e+06,  1.96729492e+08])"
      ]
     },
     "execution_count": 240,
     "metadata": {},
     "output_type": "execute_result"
    }
   ],
   "source": [
    "lr.coef_"
   ]
  },
  {
   "cell_type": "code",
   "execution_count": 241,
   "id": "64d986da",
   "metadata": {},
   "outputs": [
    {
     "data": {
      "text/plain": [
       "109079927.93622471"
      ]
     },
     "execution_count": 241,
     "metadata": {},
     "output_type": "execute_result"
    }
   ],
   "source": [
    "lr.intercept_"
   ]
  },
  {
   "cell_type": "code",
   "execution_count": 242,
   "id": "f0b993c2",
   "metadata": {},
   "outputs": [],
   "source": [
    "y_pred = lr.predict(x_test)"
   ]
  },
  {
   "cell_type": "code",
   "execution_count": 243,
   "id": "33d23531",
   "metadata": {},
   "outputs": [
    {
     "data": {
      "text/plain": [
       "1.3135373721267508e+16"
      ]
     },
     "execution_count": 243,
     "metadata": {},
     "output_type": "execute_result"
    }
   ],
   "source": [
    "mse = mean_squared_error(y_test, y_pred)\n",
    "mse"
   ]
  },
  {
   "cell_type": "code",
   "execution_count": 244,
   "id": "39cdf961",
   "metadata": {},
   "outputs": [],
   "source": [
    "# rmse = mean_squared_error(y_test, y_pred, squared = False)\n",
    "# rmse"
   ]
  },
  {
   "cell_type": "code",
   "execution_count": 245,
   "id": "4e60c078",
   "metadata": {
    "scrolled": true
   },
   "outputs": [
    {
     "data": {
      "text/plain": [
       "1546      6127103\n",
       "1963     35262377\n",
       "5076      4426272\n",
       "5904      6342388\n",
       "5459     39022272\n",
       "          ...    \n",
       "2485      7273393\n",
       "169     316957596\n",
       "5643     27977667\n",
       "2499     30041039\n",
       "6415     20263638\n",
       "Name: streams, Length: 1303, dtype: int64"
      ]
     },
     "execution_count": 245,
     "metadata": {},
     "output_type": "execute_result"
    }
   ],
   "source": [
    "y_test"
   ]
  },
  {
   "cell_type": "code",
   "execution_count": 246,
   "id": "bd8e4ab8",
   "metadata": {},
   "outputs": [
    {
     "data": {
      "text/plain": [
       "array([3.27370202e+08, 3.18386234e+07, 2.60047455e+06, ...,\n",
       "       4.68276388e+07, 4.09998022e+07, 1.73889824e+07])"
      ]
     },
     "execution_count": 246,
     "metadata": {},
     "output_type": "execute_result"
    }
   ],
   "source": [
    "y_pred"
   ]
  },
  {
   "cell_type": "code",
   "execution_count": 215,
   "id": "345c12b9",
   "metadata": {},
   "outputs": [],
   "source": [
    "# x_train, x_test 상수항 추가(add_constant)\n",
    "x_train_new = sm.add_constant(x_train)\n",
    "x_test_new = sm.add_constant(x_test)\n",
    "\n",
    "# full_mod ( 다 넣었다) / OLS : 선형회귀(최소제곱법)\n",
    "full_mod = sm.OLS(y_train, x_train_new)"
   ]
  },
  {
   "cell_type": "code",
   "execution_count": 216,
   "id": "3983650c",
   "metadata": {},
   "outputs": [
    {
     "ename": "AttributeError",
     "evalue": "'numpy.ndarray' object has no attribute 'head'",
     "output_type": "error",
     "traceback": [
      "\u001b[1;31m---------------------------------------------------------------------------\u001b[0m",
      "\u001b[1;31mAttributeError\u001b[0m                            Traceback (most recent call last)",
      "Cell \u001b[1;32mIn[216], line 1\u001b[0m\n\u001b[1;32m----> 1\u001b[0m x_train\u001b[38;5;241m.\u001b[39mhead()\n",
      "\u001b[1;31mAttributeError\u001b[0m: 'numpy.ndarray' object has no attribute 'head'"
     ]
    }
   ],
   "source": [
    "x_train.head()"
   ]
  },
  {
   "cell_type": "code",
   "execution_count": null,
   "id": "a21d74c3",
   "metadata": {},
   "outputs": [],
   "source": []
  }
 ],
 "metadata": {
  "kernelspec": {
   "display_name": "Python 3 (ipykernel)",
   "language": "python",
   "name": "python3"
  },
  "language_info": {
   "codemirror_mode": {
    "name": "ipython",
    "version": 3
   },
   "file_extension": ".py",
   "mimetype": "text/x-python",
   "name": "python",
   "nbconvert_exporter": "python",
   "pygments_lexer": "ipython3",
   "version": "3.11.5"
  }
 },
 "nbformat": 4,
 "nbformat_minor": 5
}
