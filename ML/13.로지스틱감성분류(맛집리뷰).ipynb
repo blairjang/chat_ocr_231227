{
 "cells": [
  {
   "cell_type": "markdown",
   "id": "39d0a4e3",
   "metadata": {},
   "source": [
    "# 감성 분류\n",
    "\n",
    "- 분류 모델의 가장 대표적인 활용 방법 중 하나\n",
    "- 텍스트 데이터를 긍정 또는 부정으로 나누어 분류하는 것 "
   ]
  },
  {
   "cell_type": "code",
   "execution_count": 103,
   "id": "ab715bf1",
   "metadata": {},
   "outputs": [],
   "source": [
    "import pandas as pd\n",
    "import numpy as np\n",
    "import matplotlib.pyplot as plt\n",
    "import seaborn as sns\n",
    "from selenium import webdriver\n",
    "from bs4 import BeautifulSoup\n",
    "import re\n",
    "import time\n",
    "from selenium.webdriver.common.by import By\n",
    "from selenium.webdriver.common.keys import Keys\n",
    "import requests\n",
    "from sklearn.feature_extraction.text import TfidfVectorizer\n",
    "from sklearn.model_selection import train_test_split\n",
    "from sklearn.linear_model import LogisticRegression\n",
    "from sklearn.metrics import accuracy_score, f1_score, confusion_matrix\n",
    "from konlpy.tag import Okt"
   ]
  },
  {
   "cell_type": "code",
   "execution_count": 104,
   "id": "19cf1739",
   "metadata": {
    "scrolled": true
   },
   "outputs": [
    {
     "data": {
      "text/plain": [
       "['집', '에', '가고싶당']"
      ]
     },
     "execution_count": 104,
     "metadata": {},
     "output_type": "execute_result"
    }
   ],
   "source": [
    "okt.morphs(\"집에가고싶당\")"
   ]
  },
  {
   "cell_type": "markdown",
   "id": "084fdeb1",
   "metadata": {},
   "source": [
    "<img src = \"./image/형태소분석기비교_만.png\">"
   ]
  },
  {
   "cell_type": "markdown",
   "id": "4fe0c75d",
   "metadata": {},
   "source": [
    "- komoran 은 느리고 형태소 분석은 잘해주지만 프로그램화하기가 문제가 많음 \n",
    "- 데이터를 10000개 정도 수집한 다음에 okt 가지고 형태소 분석돌리면 결과물 보기까지 20분정도 걸림 \n",
    "- mecab은 거의 바로 됨 \n",
    "- 윈도우는 mecab 못씀 "
   ]
  },
  {
   "cell_type": "markdown",
   "id": "d73956b7",
   "metadata": {},
   "source": [
    "# 맛집 상세페이지 url 정보 크롤링 "
   ]
  },
  {
   "cell_type": "code",
   "execution_count": 107,
   "id": "fa981f1a",
   "metadata": {},
   "outputs": [],
   "source": [
    "# 크롤링할 주소\n",
    "url = \"https://map.kakao.com/\""
   ]
  },
  {
   "cell_type": "code",
   "execution_count": 108,
   "id": "d21f4322",
   "metadata": {},
   "outputs": [],
   "source": [
    "# from selenium import webdriver\n",
    "# # from selenium.webdriver.chrome.service import Service as ChromeService\n",
    "# from webdriver_manager.chrome import ChromeDriverManager\n",
    "\n",
    "# driver = webdriver.Chrome(service=ChromeService(ChromeDriverManager().install()))"
   ]
  },
  {
   "cell_type": "code",
   "execution_count": 109,
   "id": "f3e1b2de",
   "metadata": {},
   "outputs": [],
   "source": [
    "# driver = webdriver.Chrome()\n",
    "driver = webdriver.Chrome(ChromeDriverManager().install())\n",
    "\n",
    "# 카카오지도 접속\n",
    "driver.get(url)\n",
    "\n",
    "# 검색창에 검색어 입력 \n",
    "searchbox = driver.find_element(By.CSS_SELECTOR, \"input.query\")\n",
    "searchbox.send_keys(\"신촌 맛집\")\n",
    "\n",
    "# 엔터 눌러서 결과 받아오기\n",
    "searchbox.send_keys(Keys.ENTER)\n",
    "\n",
    "# 검색 결과를 가져올 시간 대기 \n",
    "time.sleep(1)\n",
    "\n",
    "# html 정보 파싱 \n",
    "soup = BeautifulSoup(driver.page_source, \"lxml\")\n",
    "moreviews = soup.select(\"a.moreview\")\n",
    "\n",
    "# 크롤링할 페이지 리스트 생성 \n",
    "page_urls = []\n",
    "\n",
    "for more in moreviews:\n",
    "    page = more.get(\"href\")\n",
    "    page_urls.append(page)\n",
    "    \n",
    "driver.close()"
   ]
  },
  {
   "cell_type": "code",
   "execution_count": 110,
   "id": "6ede3de5",
   "metadata": {},
   "outputs": [
    {
     "data": {
      "text/plain": [
       "['https://place.map.kakao.com/1165755646',\n",
       " 'https://place.map.kakao.com/15937430',\n",
       " 'https://place.map.kakao.com/27144649',\n",
       " 'https://place.map.kakao.com/1011256721',\n",
       " 'https://place.map.kakao.com/26976526',\n",
       " 'https://place.map.kakao.com/26522526',\n",
       " 'https://place.map.kakao.com/7892863',\n",
       " 'https://place.map.kakao.com/17505297',\n",
       " 'https://place.map.kakao.com/18826661',\n",
       " 'https://place.map.kakao.com/1705674698',\n",
       " 'https://place.map.kakao.com/15847929',\n",
       " 'https://place.map.kakao.com/10621045',\n",
       " 'https://place.map.kakao.com/1227036908',\n",
       " 'https://place.map.kakao.com/10386326',\n",
       " 'https://place.map.kakao.com/12502450']"
      ]
     },
     "execution_count": 110,
     "metadata": {},
     "output_type": "execute_result"
    }
   ],
   "source": [
    "page_urls"
   ]
  },
  {
   "cell_type": "markdown",
   "id": "4fc8cb82",
   "metadata": {},
   "source": [
    "# 상세페이지에서 리뷰 크롤링 "
   ]
  },
  {
   "cell_type": "code",
   "execution_count": 111,
   "id": "c02d07a7",
   "metadata": {},
   "outputs": [],
   "source": [
    "res = requests.get(\"https://place.map.kakao.com/commentlist/v/1165755646/\")"
   ]
  },
  {
   "cell_type": "code",
   "execution_count": 112,
   "id": "7ab0021d",
   "metadata": {},
   "outputs": [],
   "source": [
    "data = res.json()"
   ]
  },
  {
   "cell_type": "code",
   "execution_count": 113,
   "id": "5bbb0b06",
   "metadata": {},
   "outputs": [
    {
     "data": {
      "text/plain": [
       "4"
      ]
     },
     "execution_count": 113,
     "metadata": {},
     "output_type": "execute_result"
    }
   ],
   "source": [
    "# 별점\n",
    "data[\"comment\"][\"list\"][0][\"point\"]"
   ]
  },
  {
   "cell_type": "code",
   "execution_count": 114,
   "id": "1a7367b7",
   "metadata": {},
   "outputs": [
    {
     "data": {
      "text/plain": [
       "'마늘바게트 맛있지만 너무 달아서 아쉬웠어요'"
      ]
     },
     "execution_count": 114,
     "metadata": {},
     "output_type": "execute_result"
    }
   ],
   "source": [
    "# 댓글\n",
    "data[\"comment\"][\"list\"][0][\"contents\"]"
   ]
  },
  {
   "cell_type": "code",
   "execution_count": 115,
   "id": "1ad52023",
   "metadata": {},
   "outputs": [
    {
     "data": {
      "text/plain": [
       "5"
      ]
     },
     "execution_count": 115,
     "metadata": {},
     "output_type": "execute_result"
    }
   ],
   "source": [
    "# 한번 더보기를 할 때 마다 5개씩 들어옴 \n",
    "len(data[\"comment\"][\"list\"])"
   ]
  },
  {
   "cell_type": "code",
   "execution_count": 116,
   "id": "af1633e3",
   "metadata": {},
   "outputs": [
    {
     "data": {
      "text/plain": [
       "'9744583'"
      ]
     },
     "execution_count": 116,
     "metadata": {},
     "output_type": "execute_result"
    }
   ],
   "source": [
    "# 마지막 댓글 id 까지 받아옴\n",
    "data[\"comment\"][\"list\"][-1][\"commentid\"]"
   ]
  },
  {
   "cell_type": "code",
   "execution_count": 117,
   "id": "502ef58e",
   "metadata": {},
   "outputs": [],
   "source": [
    "stars = []\n",
    "reviews = []\n",
    "\n",
    "# 댓글 정보 url # 맨끝 숫자는 가게아이디 비워둘것임 (1165755646)\n",
    "base_url = \"https://place.map.kakao.com/commentlist/v/\"\n",
    "\n",
    "# 위에서 수집한 15개 가게에 대해서 수집\n",
    "# page_urls : 상세보기 페이지 -> 제일 뒷번호 : 가게 id\n",
    "for url in page_urls:\n",
    "    last_id = \"\"\n",
    "    \n",
    "    # 5번 더보기 수행 \n",
    "    for _ in range(5):\n",
    "        res = requests.get(base_url + url[28:] + \"/\" + last_id)\n",
    "        data = res.json()\n",
    "        \n",
    "        # 별점, 리뷰 수집 \n",
    "        for review in data[\"comment\"][\"list\"]:\n",
    "            stars.append(review[\"point\"])\n",
    "            reviews.append(review.get(\"contents\", \"\"))\n",
    "            \n",
    "        # 더보기 시에 사용할 마지막 id \n",
    "        last_id = review[\"commentid\"]\n",
    "        time.sleep(1)"
   ]
  },
  {
   "cell_type": "code",
   "execution_count": 118,
   "id": "82e55400",
   "metadata": {},
   "outputs": [
    {
     "data": {
      "text/plain": [
       "375"
      ]
     },
     "execution_count": 118,
     "metadata": {},
     "output_type": "execute_result"
    }
   ],
   "source": [
    "len(reviews)"
   ]
  },
  {
   "cell_type": "code",
   "execution_count": 119,
   "id": "05b98286",
   "metadata": {},
   "outputs": [],
   "source": [
    "# 로지스틱 분류에 사용되는 녀석\n",
    "df = pd.DataFrame({\"score\" : stars, \"review\" : reviews})"
   ]
  },
  {
   "cell_type": "code",
   "execution_count": 120,
   "id": "b45931f8",
   "metadata": {},
   "outputs": [
    {
     "data": {
      "text/html": [
       "<div>\n",
       "<style scoped>\n",
       "    .dataframe tbody tr th:only-of-type {\n",
       "        vertical-align: middle;\n",
       "    }\n",
       "\n",
       "    .dataframe tbody tr th {\n",
       "        vertical-align: top;\n",
       "    }\n",
       "\n",
       "    .dataframe thead th {\n",
       "        text-align: right;\n",
       "    }\n",
       "</style>\n",
       "<table border=\"1\" class=\"dataframe\">\n",
       "  <thead>\n",
       "    <tr style=\"text-align: right;\">\n",
       "      <th></th>\n",
       "      <th>score</th>\n",
       "      <th>review</th>\n",
       "    </tr>\n",
       "  </thead>\n",
       "  <tbody>\n",
       "    <tr>\n",
       "      <th>0</th>\n",
       "      <td>4</td>\n",
       "      <td>마늘바게트 맛있지만 너무 달아서 아쉬웠어요</td>\n",
       "    </tr>\n",
       "    <tr>\n",
       "      <th>1</th>\n",
       "      <td>5</td>\n",
       "      <td>여기 밤식빵 진짜 밤 많이 들어가고 맛있는데 사진은 거의 마늘빵이네</td>\n",
       "    </tr>\n",
       "    <tr>\n",
       "      <th>2</th>\n",
       "      <td>5</td>\n",
       "      <td>마늘바게트 진짜 개ㅐ개ㅐㅐㅐ맛있어요 \\n저녁에 방문했는데도 마늘바게트는 충분했습니다...</td>\n",
       "    </tr>\n",
       "    <tr>\n",
       "      <th>3</th>\n",
       "      <td>5</td>\n",
       "      <td>현재 기준, 맛으로 종합 1위 인정합니다. 다만, 마늘 바게트가 다른 곳보다 맛있지...</td>\n",
       "    </tr>\n",
       "    <tr>\n",
       "      <th>4</th>\n",
       "      <td>5</td>\n",
       "      <td>맛있음 ㅜㅜ 오픈때가야 따듯하고 진짜 존맛</td>\n",
       "    </tr>\n",
       "  </tbody>\n",
       "</table>\n",
       "</div>"
      ],
      "text/plain": [
       "   score                                             review\n",
       "0      4                            마늘바게트 맛있지만 너무 달아서 아쉬웠어요\n",
       "1      5              여기 밤식빵 진짜 밤 많이 들어가고 맛있는데 사진은 거의 마늘빵이네\n",
       "2      5  마늘바게트 진짜 개ㅐ개ㅐㅐㅐ맛있어요 \\n저녁에 방문했는데도 마늘바게트는 충분했습니다...\n",
       "3      5  현재 기준, 맛으로 종합 1위 인정합니다. 다만, 마늘 바게트가 다른 곳보다 맛있지...\n",
       "4      5                            맛있음 ㅜㅜ 오픈때가야 따듯하고 진짜 존맛"
      ]
     },
     "execution_count": 120,
     "metadata": {},
     "output_type": "execute_result"
    }
   ],
   "source": [
    "df.head()"
   ]
  },
  {
   "cell_type": "code",
   "execution_count": 121,
   "id": "20a85ecd",
   "metadata": {},
   "outputs": [
    {
     "data": {
      "text/plain": [
       "score\n",
       "5    152\n",
       "4     89\n",
       "3     57\n",
       "1     51\n",
       "2     26\n",
       "Name: count, dtype: int64"
      ]
     },
     "execution_count": 121,
     "metadata": {},
     "output_type": "execute_result"
    }
   ],
   "source": [
    "# 5,4점이 제일 많고 2점이 젤 적음 (긍정)\n",
    "# 1,2 가 부정 \n",
    "df[\"score\"].value_counts()"
   ]
  },
  {
   "cell_type": "code",
   "execution_count": 122,
   "id": "788d0444",
   "metadata": {},
   "outputs": [],
   "source": [
    "# 4점 이상 리뷰는 긍정 리뷰, 3점 이하는 부정 리뷰로 평가\n",
    "df[\"y\"] = df[\"score\"].map(lambda x: 1 if x > 3 else 0)"
   ]
  },
  {
   "cell_type": "code",
   "execution_count": 123,
   "id": "8c6d7a1d",
   "metadata": {},
   "outputs": [
    {
     "data": {
      "text/html": [
       "<div>\n",
       "<style scoped>\n",
       "    .dataframe tbody tr th:only-of-type {\n",
       "        vertical-align: middle;\n",
       "    }\n",
       "\n",
       "    .dataframe tbody tr th {\n",
       "        vertical-align: top;\n",
       "    }\n",
       "\n",
       "    .dataframe thead th {\n",
       "        text-align: right;\n",
       "    }\n",
       "</style>\n",
       "<table border=\"1\" class=\"dataframe\">\n",
       "  <thead>\n",
       "    <tr style=\"text-align: right;\">\n",
       "      <th></th>\n",
       "      <th>score</th>\n",
       "      <th>review</th>\n",
       "      <th>y</th>\n",
       "    </tr>\n",
       "  </thead>\n",
       "  <tbody>\n",
       "    <tr>\n",
       "      <th>0</th>\n",
       "      <td>4</td>\n",
       "      <td>마늘바게트 맛있지만 너무 달아서 아쉬웠어요</td>\n",
       "      <td>1</td>\n",
       "    </tr>\n",
       "    <tr>\n",
       "      <th>1</th>\n",
       "      <td>5</td>\n",
       "      <td>여기 밤식빵 진짜 밤 많이 들어가고 맛있는데 사진은 거의 마늘빵이네</td>\n",
       "      <td>1</td>\n",
       "    </tr>\n",
       "    <tr>\n",
       "      <th>2</th>\n",
       "      <td>5</td>\n",
       "      <td>마늘바게트 진짜 개ㅐ개ㅐㅐㅐ맛있어요 \\n저녁에 방문했는데도 마늘바게트는 충분했습니다...</td>\n",
       "      <td>1</td>\n",
       "    </tr>\n",
       "    <tr>\n",
       "      <th>3</th>\n",
       "      <td>5</td>\n",
       "      <td>현재 기준, 맛으로 종합 1위 인정합니다. 다만, 마늘 바게트가 다른 곳보다 맛있지...</td>\n",
       "      <td>1</td>\n",
       "    </tr>\n",
       "    <tr>\n",
       "      <th>4</th>\n",
       "      <td>5</td>\n",
       "      <td>맛있음 ㅜㅜ 오픈때가야 따듯하고 진짜 존맛</td>\n",
       "      <td>1</td>\n",
       "    </tr>\n",
       "    <tr>\n",
       "      <th>5</th>\n",
       "      <td>5</td>\n",
       "      <td></td>\n",
       "      <td>1</td>\n",
       "    </tr>\n",
       "    <tr>\n",
       "      <th>6</th>\n",
       "      <td>5</td>\n",
       "      <td>마늘바게트 이외에 다른빵도 다 맛나요!\\n강릉점이랑 맛도 똑같아용</td>\n",
       "      <td>1</td>\n",
       "    </tr>\n",
       "    <tr>\n",
       "      <th>7</th>\n",
       "      <td>3</td>\n",
       "      <td>마늘바게트 정말 달고 기름져서 한번에 많이는 못 먹을 거 같아요! 그래도 맛있습니다</td>\n",
       "      <td>0</td>\n",
       "    </tr>\n",
       "    <tr>\n",
       "      <th>8</th>\n",
       "      <td>5</td>\n",
       "      <td></td>\n",
       "      <td>1</td>\n",
       "    </tr>\n",
       "    <tr>\n",
       "      <th>9</th>\n",
       "      <td>5</td>\n",
       "      <td></td>\n",
       "      <td>1</td>\n",
       "    </tr>\n",
       "  </tbody>\n",
       "</table>\n",
       "</div>"
      ],
      "text/plain": [
       "   score                                             review  y\n",
       "0      4                            마늘바게트 맛있지만 너무 달아서 아쉬웠어요  1\n",
       "1      5              여기 밤식빵 진짜 밤 많이 들어가고 맛있는데 사진은 거의 마늘빵이네  1\n",
       "2      5  마늘바게트 진짜 개ㅐ개ㅐㅐㅐ맛있어요 \\n저녁에 방문했는데도 마늘바게트는 충분했습니다...  1\n",
       "3      5  현재 기준, 맛으로 종합 1위 인정합니다. 다만, 마늘 바게트가 다른 곳보다 맛있지...  1\n",
       "4      5                            맛있음 ㅜㅜ 오픈때가야 따듯하고 진짜 존맛  1\n",
       "5      5                                                     1\n",
       "6      5               마늘바게트 이외에 다른빵도 다 맛나요!\\n강릉점이랑 맛도 똑같아용  1\n",
       "7      3     마늘바게트 정말 달고 기름져서 한번에 많이는 못 먹을 거 같아요! 그래도 맛있습니다  0\n",
       "8      5                                                     1\n",
       "9      5                                                     1"
      ]
     },
     "execution_count": 123,
     "metadata": {},
     "output_type": "execute_result"
    }
   ],
   "source": [
    "# ~3점까지 부정, 나머진 긍정 리뷰\n",
    "df.head(10)"
   ]
  },
  {
   "cell_type": "code",
   "execution_count": 124,
   "id": "50f786e7",
   "metadata": {},
   "outputs": [
    {
     "data": {
      "text/plain": [
       "y\n",
       "1    241\n",
       "0    134\n",
       "Name: count, dtype: int64"
      ]
     },
     "execution_count": 124,
     "metadata": {},
     "output_type": "execute_result"
    }
   ],
   "source": [
    "# 레이블값 비율 확인\n",
    "df[\"y\"].value_counts()"
   ]
  },
  {
   "cell_type": "markdown",
   "id": "28adb113",
   "metadata": {},
   "source": [
    "# 텍스트 전처리"
   ]
  },
  {
   "cell_type": "markdown",
   "id": "ef1ac4d7",
   "metadata": {},
   "source": [
    "## 한글 추출 \n",
    "- 영어 제거하다보면 느낌표 컴마 숫자 등등 많은 것들이 제외됨 \n",
    "- shift + tab : 쓴 함수 뜻 나옴 "
   ]
  },
  {
   "cell_type": "code",
   "execution_count": 125,
   "id": "69752f94",
   "metadata": {},
   "outputs": [],
   "source": [
    "# -> 뜻 반환값 \n",
    "# 3중 따옴표 : 함수에 대한 설명 \n",
    "def text_cleaning(text:str)-> str:\n",
    "    '''\n",
    "    텍스트 정제 함수.\n",
    "    한글 이외의 문자는 전부 제거.\n",
    "    '''\n",
    "    # 한글 이외의 문자들 추출\n",
    "    # re 정규 표현식 (regex) : NLP 에서 기본 \n",
    "    # ㄱ ~ ㅣ 자음부터 모음까지 전부 포함 됨 \n",
    "    # 한글 조합 맨처음 : 가 / 맨마지막 : 힣 (한글 자음 모합 되는 모든 경우의 수)\n",
    "    # ^  얘네들을 제외한 나머지 (한글이 아닌 모든것들을 찾아냄 )\n",
    "    han = re.compile(\"[^ ㄱ - ㅣ 가-힣]+\")\n",
    "    # 한글 이외의 문자들 제거 #substitute  바꿔줌 \n",
    "    text = han.sub(\" \", text)\n",
    "    \n",
    "    return text"
   ]
  },
  {
   "cell_type": "code",
   "execution_count": 126,
   "id": "1f9c20b0",
   "metadata": {},
   "outputs": [
    {
     "data": {
      "text/plain": [
       "'테스트용 텍스트 정제 잘하고 있니     '"
      ]
     },
     "execution_count": 126,
     "metadata": {},
     "output_type": "execute_result"
    }
   ],
   "source": [
    "text_cleaning(\"테스트용 텍스트 정제 잘하고 있니?????help me 1234567\")"
   ]
  },
  {
   "cell_type": "code",
   "execution_count": 127,
   "id": "c11454aa",
   "metadata": {},
   "outputs": [],
   "source": [
    "# korean text\n",
    "df[\"ko_text\"] = df[\"review\"].map(text_cleaning)"
   ]
  },
  {
   "cell_type": "code",
   "execution_count": 128,
   "id": "77421532",
   "metadata": {},
   "outputs": [
    {
     "data": {
      "text/html": [
       "<div>\n",
       "<style scoped>\n",
       "    .dataframe tbody tr th:only-of-type {\n",
       "        vertical-align: middle;\n",
       "    }\n",
       "\n",
       "    .dataframe tbody tr th {\n",
       "        vertical-align: top;\n",
       "    }\n",
       "\n",
       "    .dataframe thead th {\n",
       "        text-align: right;\n",
       "    }\n",
       "</style>\n",
       "<table border=\"1\" class=\"dataframe\">\n",
       "  <thead>\n",
       "    <tr style=\"text-align: right;\">\n",
       "      <th></th>\n",
       "      <th>score</th>\n",
       "      <th>review</th>\n",
       "      <th>y</th>\n",
       "      <th>ko_text</th>\n",
       "    </tr>\n",
       "  </thead>\n",
       "  <tbody>\n",
       "    <tr>\n",
       "      <th>0</th>\n",
       "      <td>4</td>\n",
       "      <td>마늘바게트 맛있지만 너무 달아서 아쉬웠어요</td>\n",
       "      <td>1</td>\n",
       "      <td>마늘바게트 맛있지만 너무 달아서 아쉬웠어요</td>\n",
       "    </tr>\n",
       "    <tr>\n",
       "      <th>1</th>\n",
       "      <td>5</td>\n",
       "      <td>여기 밤식빵 진짜 밤 많이 들어가고 맛있는데 사진은 거의 마늘빵이네</td>\n",
       "      <td>1</td>\n",
       "      <td>여기 밤식빵 진짜 밤 많이 들어가고 맛있는데 사진은 거의 마늘빵이네</td>\n",
       "    </tr>\n",
       "    <tr>\n",
       "      <th>2</th>\n",
       "      <td>5</td>\n",
       "      <td>마늘바게트 진짜 개ㅐ개ㅐㅐㅐ맛있어요 \\n저녁에 방문했는데도 마늘바게트는 충분했습니다...</td>\n",
       "      <td>1</td>\n",
       "      <td>마늘바게트 진짜 개 개 맛있어요  저녁에 방문했는데도 마늘바게트는 충분했습니다 좀 ...</td>\n",
       "    </tr>\n",
       "    <tr>\n",
       "      <th>3</th>\n",
       "      <td>5</td>\n",
       "      <td>현재 기준, 맛으로 종합 1위 인정합니다. 다만, 마늘 바게트가 다른 곳보다 맛있지...</td>\n",
       "      <td>1</td>\n",
       "      <td>현재 기준  맛으로 종합  위 인정합니다  다만  마늘 바게트가 다른 곳보다 맛있지...</td>\n",
       "    </tr>\n",
       "    <tr>\n",
       "      <th>4</th>\n",
       "      <td>5</td>\n",
       "      <td>맛있음 ㅜㅜ 오픈때가야 따듯하고 진짜 존맛</td>\n",
       "      <td>1</td>\n",
       "      <td>맛있음   오픈때가야 따듯하고 진짜 존맛</td>\n",
       "    </tr>\n",
       "  </tbody>\n",
       "</table>\n",
       "</div>"
      ],
      "text/plain": [
       "   score                                             review  y  \\\n",
       "0      4                            마늘바게트 맛있지만 너무 달아서 아쉬웠어요  1   \n",
       "1      5              여기 밤식빵 진짜 밤 많이 들어가고 맛있는데 사진은 거의 마늘빵이네  1   \n",
       "2      5  마늘바게트 진짜 개ㅐ개ㅐㅐㅐ맛있어요 \\n저녁에 방문했는데도 마늘바게트는 충분했습니다...  1   \n",
       "3      5  현재 기준, 맛으로 종합 1위 인정합니다. 다만, 마늘 바게트가 다른 곳보다 맛있지...  1   \n",
       "4      5                            맛있음 ㅜㅜ 오픈때가야 따듯하고 진짜 존맛  1   \n",
       "\n",
       "                                             ko_text  \n",
       "0                            마늘바게트 맛있지만 너무 달아서 아쉬웠어요  \n",
       "1              여기 밤식빵 진짜 밤 많이 들어가고 맛있는데 사진은 거의 마늘빵이네  \n",
       "2  마늘바게트 진짜 개 개 맛있어요  저녁에 방문했는데도 마늘바게트는 충분했습니다 좀 ...  \n",
       "3  현재 기준  맛으로 종합  위 인정합니다  다만  마늘 바게트가 다른 곳보다 맛있지...  \n",
       "4                             맛있음   오픈때가야 따듯하고 진짜 존맛  "
      ]
     },
     "execution_count": 128,
     "metadata": {},
     "output_type": "execute_result"
    }
   ],
   "source": [
    "# 전처리로 인해 비어있는 텍스트가 많아짐 \n",
    "df.head()"
   ]
  },
  {
   "cell_type": "code",
   "execution_count": 129,
   "id": "9ecb88fb",
   "metadata": {},
   "outputs": [
    {
     "data": {
      "text/plain": [
       "(375, 4)"
      ]
     },
     "execution_count": 129,
     "metadata": {},
     "output_type": "execute_result"
    }
   ],
   "source": [
    "df.shape"
   ]
  },
  {
   "cell_type": "code",
   "execution_count": 130,
   "id": "66efbad5",
   "metadata": {},
   "outputs": [],
   "source": [
    "# 내용이 없는 데이터 제거\n",
    "# text 길이가 0을 초과하는 경우에만 살려둠 \n",
    "df = df[df[\"ko_text\"].str.len() > 0]"
   ]
  },
  {
   "cell_type": "code",
   "execution_count": 131,
   "id": "7cc7f79f",
   "metadata": {},
   "outputs": [
    {
     "data": {
      "text/html": [
       "<div>\n",
       "<style scoped>\n",
       "    .dataframe tbody tr th:only-of-type {\n",
       "        vertical-align: middle;\n",
       "    }\n",
       "\n",
       "    .dataframe tbody tr th {\n",
       "        vertical-align: top;\n",
       "    }\n",
       "\n",
       "    .dataframe thead th {\n",
       "        text-align: right;\n",
       "    }\n",
       "</style>\n",
       "<table border=\"1\" class=\"dataframe\">\n",
       "  <thead>\n",
       "    <tr style=\"text-align: right;\">\n",
       "      <th></th>\n",
       "      <th>score</th>\n",
       "      <th>review</th>\n",
       "      <th>y</th>\n",
       "      <th>ko_text</th>\n",
       "    </tr>\n",
       "  </thead>\n",
       "  <tbody>\n",
       "    <tr>\n",
       "      <th>0</th>\n",
       "      <td>4</td>\n",
       "      <td>마늘바게트 맛있지만 너무 달아서 아쉬웠어요</td>\n",
       "      <td>1</td>\n",
       "      <td>마늘바게트 맛있지만 너무 달아서 아쉬웠어요</td>\n",
       "    </tr>\n",
       "    <tr>\n",
       "      <th>1</th>\n",
       "      <td>5</td>\n",
       "      <td>여기 밤식빵 진짜 밤 많이 들어가고 맛있는데 사진은 거의 마늘빵이네</td>\n",
       "      <td>1</td>\n",
       "      <td>여기 밤식빵 진짜 밤 많이 들어가고 맛있는데 사진은 거의 마늘빵이네</td>\n",
       "    </tr>\n",
       "    <tr>\n",
       "      <th>2</th>\n",
       "      <td>5</td>\n",
       "      <td>마늘바게트 진짜 개ㅐ개ㅐㅐㅐ맛있어요 \\n저녁에 방문했는데도 마늘바게트는 충분했습니다...</td>\n",
       "      <td>1</td>\n",
       "      <td>마늘바게트 진짜 개 개 맛있어요  저녁에 방문했는데도 마늘바게트는 충분했습니다 좀 ...</td>\n",
       "    </tr>\n",
       "    <tr>\n",
       "      <th>3</th>\n",
       "      <td>5</td>\n",
       "      <td>현재 기준, 맛으로 종합 1위 인정합니다. 다만, 마늘 바게트가 다른 곳보다 맛있지...</td>\n",
       "      <td>1</td>\n",
       "      <td>현재 기준  맛으로 종합  위 인정합니다  다만  마늘 바게트가 다른 곳보다 맛있지...</td>\n",
       "    </tr>\n",
       "    <tr>\n",
       "      <th>4</th>\n",
       "      <td>5</td>\n",
       "      <td>맛있음 ㅜㅜ 오픈때가야 따듯하고 진짜 존맛</td>\n",
       "      <td>1</td>\n",
       "      <td>맛있음   오픈때가야 따듯하고 진짜 존맛</td>\n",
       "    </tr>\n",
       "    <tr>\n",
       "      <th>6</th>\n",
       "      <td>5</td>\n",
       "      <td>마늘바게트 이외에 다른빵도 다 맛나요!\\n강릉점이랑 맛도 똑같아용</td>\n",
       "      <td>1</td>\n",
       "      <td>마늘바게트 이외에 다른빵도 다 맛나요 강릉점이랑 맛도 똑같아용</td>\n",
       "    </tr>\n",
       "    <tr>\n",
       "      <th>7</th>\n",
       "      <td>3</td>\n",
       "      <td>마늘바게트 정말 달고 기름져서 한번에 많이는 못 먹을 거 같아요! 그래도 맛있습니다</td>\n",
       "      <td>0</td>\n",
       "      <td>마늘바게트 정말 달고 기름져서 한번에 많이는 못 먹을 거 같아요  그래도 맛있습니다</td>\n",
       "    </tr>\n",
       "    <tr>\n",
       "      <th>11</th>\n",
       "      <td>5</td>\n",
       "      <td>여기서 먹은 마늘빵이 자꾸 생각나요&amp;hellip;</td>\n",
       "      <td>1</td>\n",
       "      <td>여기서 먹은 마늘빵이 자꾸 생각나요</td>\n",
       "    </tr>\n",
       "    <tr>\n",
       "      <th>12</th>\n",
       "      <td>5</td>\n",
       "      <td>모든 이들의 입맛을 맞추기 어려울 수 있지만\\n모든 손님에게 친절한.</td>\n",
       "      <td>1</td>\n",
       "      <td>모든 이들의 입맛을 맞추기 어려울 수 있지만 모든 손님에게 친절한</td>\n",
       "    </tr>\n",
       "    <tr>\n",
       "      <th>13</th>\n",
       "      <td>5</td>\n",
       "      <td>무슨 말이 필요한가요\\n마늘 바게트 ..아주 그냥 도른맛입니다</td>\n",
       "      <td>1</td>\n",
       "      <td>무슨 말이 필요한가요 마늘 바게트  아주 그냥 도른맛입니다</td>\n",
       "    </tr>\n",
       "  </tbody>\n",
       "</table>\n",
       "</div>"
      ],
      "text/plain": [
       "    score                                             review  y  \\\n",
       "0       4                            마늘바게트 맛있지만 너무 달아서 아쉬웠어요  1   \n",
       "1       5              여기 밤식빵 진짜 밤 많이 들어가고 맛있는데 사진은 거의 마늘빵이네  1   \n",
       "2       5  마늘바게트 진짜 개ㅐ개ㅐㅐㅐ맛있어요 \\n저녁에 방문했는데도 마늘바게트는 충분했습니다...  1   \n",
       "3       5  현재 기준, 맛으로 종합 1위 인정합니다. 다만, 마늘 바게트가 다른 곳보다 맛있지...  1   \n",
       "4       5                            맛있음 ㅜㅜ 오픈때가야 따듯하고 진짜 존맛  1   \n",
       "6       5               마늘바게트 이외에 다른빵도 다 맛나요!\\n강릉점이랑 맛도 똑같아용  1   \n",
       "7       3     마늘바게트 정말 달고 기름져서 한번에 많이는 못 먹을 거 같아요! 그래도 맛있습니다  0   \n",
       "11      5                        여기서 먹은 마늘빵이 자꾸 생각나요&hellip;  1   \n",
       "12      5             모든 이들의 입맛을 맞추기 어려울 수 있지만\\n모든 손님에게 친절한.  1   \n",
       "13      5                 무슨 말이 필요한가요\\n마늘 바게트 ..아주 그냥 도른맛입니다  1   \n",
       "\n",
       "                                              ko_text  \n",
       "0                             마늘바게트 맛있지만 너무 달아서 아쉬웠어요  \n",
       "1               여기 밤식빵 진짜 밤 많이 들어가고 맛있는데 사진은 거의 마늘빵이네  \n",
       "2   마늘바게트 진짜 개 개 맛있어요  저녁에 방문했는데도 마늘바게트는 충분했습니다 좀 ...  \n",
       "3   현재 기준  맛으로 종합  위 인정합니다  다만  마늘 바게트가 다른 곳보다 맛있지...  \n",
       "4                              맛있음   오픈때가야 따듯하고 진짜 존맛  \n",
       "6                  마늘바게트 이외에 다른빵도 다 맛나요 강릉점이랑 맛도 똑같아용  \n",
       "7      마늘바게트 정말 달고 기름져서 한번에 많이는 못 먹을 거 같아요  그래도 맛있습니다  \n",
       "11                               여기서 먹은 마늘빵이 자꾸 생각나요   \n",
       "12              모든 이들의 입맛을 맞추기 어려울 수 있지만 모든 손님에게 친절한   \n",
       "13                   무슨 말이 필요한가요 마늘 바게트  아주 그냥 도른맛입니다  "
      ]
     },
     "execution_count": 131,
     "metadata": {},
     "output_type": "execute_result"
    }
   ],
   "source": [
    "# 공백이 있는 데이터는 사라짐 \n",
    "df.head(10)"
   ]
  },
  {
   "cell_type": "code",
   "execution_count": 132,
   "id": "2aa1957b",
   "metadata": {},
   "outputs": [
    {
     "data": {
      "text/plain": [
       "(296, 4)"
      ]
     },
     "execution_count": 132,
     "metadata": {},
     "output_type": "execute_result"
    }
   ],
   "source": [
    "# 전처리 후 297개 남음 \n",
    "df.shape"
   ]
  },
  {
   "cell_type": "markdown",
   "id": "dce9c0d3",
   "metadata": {},
   "source": [
    "## 형태소 추출 "
   ]
  },
  {
   "cell_type": "code",
   "execution_count": 133,
   "id": "dc2374ac",
   "metadata": {},
   "outputs": [],
   "source": [
    "def get_pos(x):\n",
    "    '''\n",
    "    텍스트 데이터에서 형태소 추출하는 함수\n",
    "    '''\n",
    "    okt = Okt()\n",
    "    pos = okt.pos(x)\n",
    "    \n",
    "    # 텍스트 정보로 가공을 함 왼쪽은 단어 \n",
    "    pos = [f\"{word}/{tag}\" for word, tag in pos]\n",
    "    \n",
    "    return pos"
   ]
  },
  {
   "cell_type": "code",
   "execution_count": 134,
   "id": "298975f1",
   "metadata": {},
   "outputs": [
    {
     "data": {
      "text/plain": [
       "[('집', 'Noun'), ('에', 'Josa'), ('가고', 'Verb'), ('싶다', 'Verb')]"
      ]
     },
     "execution_count": 134,
     "metadata": {},
     "output_type": "execute_result"
    }
   ],
   "source": [
    "okt.pos(\"집에 가고 싶다\")"
   ]
  },
  {
   "cell_type": "code",
   "execution_count": 135,
   "id": "838edda0",
   "metadata": {},
   "outputs": [
    {
     "data": {
      "text/plain": [
       "['마늘/Noun',\n",
       " '바게트/Noun',\n",
       " '맛있지만/Adjective',\n",
       " '너무/Adverb',\n",
       " '달아서/Verb',\n",
       " '아쉬웠어요/Adjective']"
      ]
     },
     "execution_count": 135,
     "metadata": {},
     "output_type": "execute_result"
    }
   ],
   "source": [
    "# 텍스트2\n",
    "result = get_pos(df[\"ko_text\"].values[0])\n",
    "result"
   ]
  },
  {
   "cell_type": "markdown",
   "id": "4902c733",
   "metadata": {},
   "source": [
    "- 단어가 너무 많기 때문에 one-hot encoding 은 불가"
   ]
  },
  {
   "cell_type": "markdown",
   "id": "d4e46cfc",
   "metadata": {},
   "source": [
    "## 텍스트 임베딩 \n",
    "\n",
    "- 텍스트 데이터를 연산이 가능한 피처로 변환 "
   ]
  },
  {
   "cell_type": "code",
   "execution_count": 136,
   "id": "cbc4b4b1",
   "metadata": {},
   "outputs": [
    {
     "data": {
      "text/plain": [
       "(296, 4)"
      ]
     },
     "execution_count": 136,
     "metadata": {},
     "output_type": "execute_result"
    }
   ],
   "source": [
    "# 297개의 문서\n",
    "df.shape"
   ]
  },
  {
   "cell_type": "markdown",
   "id": "af06c458",
   "metadata": {},
   "source": [
    "### TF-IDF(Term Frequency-Inverse Document Frequency)\n",
    "\n",
    "- 단어의 빈도와 역문서 빈도를 사용하여 각 단어들의 중요도를 가중치로 주는 방법 \n",
    "- TF : 1개의 문서(문장) 내에서 특정 단어의 등장 빈도\n",
    "- DF : 특정 단어가 등장한 문서 수\n",
    "- IDF : DF에 반비례하는 수\n",
    "- 다른 문서들에서는 많이 등장하지 않았지만 현재 문서에서는 많이 등장하는 단어를 의미\n",
    "    - 해당 단어가 현재 문서에서 얼마나 중요한지를 계산하는 방법 "
   ]
  },
  {
   "cell_type": "code",
   "execution_count": 137,
   "id": "5b44b6dd",
   "metadata": {},
   "outputs": [],
   "source": [
    "x = df[\"ko_text\"]\n",
    "y = df[\"y\"]"
   ]
  },
  {
   "cell_type": "code",
   "execution_count": 138,
   "id": "005a78f6",
   "metadata": {},
   "outputs": [],
   "source": [
    "# 실제로 서비스에 적용한다고 치면 테스트하게 되는 데이터는 TF -IDF 계산될수 없는 녀석들\n",
    "x_train, x_test, y_train, y_test = train_test_split(x, y, test_size = 0.3, random_state = 11)"
   ]
  },
  {
   "cell_type": "code",
   "execution_count": 139,
   "id": "bbd1e969",
   "metadata": {},
   "outputs": [
    {
     "data": {
      "text/plain": [
       "207"
      ]
     },
     "execution_count": 139,
     "metadata": {},
     "output_type": "execute_result"
    }
   ],
   "source": [
    "# 훈련 데이터 207개\n",
    "len(x_train)"
   ]
  },
  {
   "cell_type": "code",
   "execution_count": 140,
   "id": "a76997db",
   "metadata": {},
   "outputs": [],
   "source": [
    "tfidf = TfidfVectorizer() # tfidf객체를 만들고\n",
    "tf_train = tfidf.fit_transform(x_train)\n",
    "tf_test = tfidf.transform(x_test)"
   ]
  },
  {
   "cell_type": "code",
   "execution_count": 141,
   "id": "03bea38a",
   "metadata": {},
   "outputs": [
    {
     "data": {
      "text/plain": [
       "(207, 2078)"
      ]
     },
     "execution_count": 141,
     "metadata": {},
     "output_type": "execute_result"
    }
   ],
   "source": [
    "tf_train.shape"
   ]
  },
  {
   "cell_type": "code",
   "execution_count": 142,
   "id": "ff7ac8eb",
   "metadata": {},
   "outputs": [
    {
     "data": {
      "text/plain": [
       "scipy.sparse._csr.csr_matrix"
      ]
     },
     "execution_count": 142,
     "metadata": {},
     "output_type": "execute_result"
    }
   ],
   "source": [
    "# sparse_csr_matrix 는 눈으로 확인하기가 힘듦\n",
    "type(tf_train)"
   ]
  },
  {
   "cell_type": "code",
   "execution_count": 143,
   "id": "6037c1cc",
   "metadata": {},
   "outputs": [
    {
     "data": {
      "text/html": [
       "<div>\n",
       "<style scoped>\n",
       "    .dataframe tbody tr th:only-of-type {\n",
       "        vertical-align: middle;\n",
       "    }\n",
       "\n",
       "    .dataframe tbody tr th {\n",
       "        vertical-align: top;\n",
       "    }\n",
       "\n",
       "    .dataframe thead th {\n",
       "        text-align: right;\n",
       "    }\n",
       "</style>\n",
       "<table border=\"1\" class=\"dataframe\">\n",
       "  <thead>\n",
       "    <tr style=\"text-align: right;\">\n",
       "      <th></th>\n",
       "      <th>0</th>\n",
       "    </tr>\n",
       "  </thead>\n",
       "  <tbody>\n",
       "    <tr>\n",
       "      <th>0</th>\n",
       "      <td>(0, 1276)\\t0.14501477360730308\\n  (0, 1095)\\...</td>\n",
       "    </tr>\n",
       "    <tr>\n",
       "      <th>1</th>\n",
       "      <td>(0, 1520)\\t0.37237353899758824\\n  (0, 1474)\\...</td>\n",
       "    </tr>\n",
       "    <tr>\n",
       "      <th>2</th>\n",
       "      <td>(0, 52)\\t0.6699870979666271\\n  (0, 1492)\\t0....</td>\n",
       "    </tr>\n",
       "    <tr>\n",
       "      <th>3</th>\n",
       "      <td>(0, 693)\\t0.3019770276587898\\n  (0, 1882)\\t0...</td>\n",
       "    </tr>\n",
       "    <tr>\n",
       "      <th>4</th>\n",
       "      <td>(0, 1950)\\t0.7071067811865476\\n  (0, 853)\\t0...</td>\n",
       "    </tr>\n",
       "    <tr>\n",
       "      <th>...</th>\n",
       "      <td>...</td>\n",
       "    </tr>\n",
       "    <tr>\n",
       "      <th>202</th>\n",
       "      <td>(0, 1541)\\t0.42397360797538164\\n  (0, 1371)\\...</td>\n",
       "    </tr>\n",
       "    <tr>\n",
       "      <th>203</th>\n",
       "      <td>(0, 1433)\\t0.766586271795038\\n  (0, 1814)\\t0...</td>\n",
       "    </tr>\n",
       "    <tr>\n",
       "      <th>204</th>\n",
       "      <td>(0, 1724)\\t0.36838471434633674\\n  (0, 523)\\t...</td>\n",
       "    </tr>\n",
       "    <tr>\n",
       "      <th>205</th>\n",
       "      <td>(0, 409)\\t1.0</td>\n",
       "    </tr>\n",
       "    <tr>\n",
       "      <th>206</th>\n",
       "      <td>(0, 1656)\\t0.7129387616494994\\n  (0, 640)\\t0...</td>\n",
       "    </tr>\n",
       "  </tbody>\n",
       "</table>\n",
       "<p>207 rows × 1 columns</p>\n",
       "</div>"
      ],
      "text/plain": [
       "                                                     0\n",
       "0      (0, 1276)\\t0.14501477360730308\\n  (0, 1095)\\...\n",
       "1      (0, 1520)\\t0.37237353899758824\\n  (0, 1474)\\...\n",
       "2      (0, 52)\\t0.6699870979666271\\n  (0, 1492)\\t0....\n",
       "3      (0, 693)\\t0.3019770276587898\\n  (0, 1882)\\t0...\n",
       "4      (0, 1950)\\t0.7071067811865476\\n  (0, 853)\\t0...\n",
       "..                                                 ...\n",
       "202    (0, 1541)\\t0.42397360797538164\\n  (0, 1371)\\...\n",
       "203    (0, 1433)\\t0.766586271795038\\n  (0, 1814)\\t0...\n",
       "204    (0, 1724)\\t0.36838471434633674\\n  (0, 523)\\t...\n",
       "205                                      (0, 409)\\t1.0\n",
       "206    (0, 1656)\\t0.7129387616494994\\n  (0, 640)\\t0...\n",
       "\n",
       "[207 rows x 1 columns]"
      ]
     },
     "execution_count": 143,
     "metadata": {},
     "output_type": "execute_result"
    }
   ],
   "source": [
    "# 눈으로 봐도 잘 이해가 안됨 원래그런거임 \n",
    "pd.DataFrame(tf_train)"
   ]
  },
  {
   "cell_type": "markdown",
   "id": "02dc70f7",
   "metadata": {},
   "source": [
    "- tfidf로 데이터로 잘 전환했다면 전부 다 숫자형의 데이터로 바뀜, 이제는 문제없이 모델훈련 가능 "
   ]
  },
  {
   "cell_type": "markdown",
   "id": "bc140842",
   "metadata": {},
   "source": [
    "## 모델 훈련"
   ]
  },
  {
   "cell_type": "code",
   "execution_count": 144,
   "id": "416b7f43",
   "metadata": {},
   "outputs": [
    {
     "data": {
      "text/html": [
       "<style>#sk-container-id-3 {color: black;}#sk-container-id-3 pre{padding: 0;}#sk-container-id-3 div.sk-toggleable {background-color: white;}#sk-container-id-3 label.sk-toggleable__label {cursor: pointer;display: block;width: 100%;margin-bottom: 0;padding: 0.3em;box-sizing: border-box;text-align: center;}#sk-container-id-3 label.sk-toggleable__label-arrow:before {content: \"▸\";float: left;margin-right: 0.25em;color: #696969;}#sk-container-id-3 label.sk-toggleable__label-arrow:hover:before {color: black;}#sk-container-id-3 div.sk-estimator:hover label.sk-toggleable__label-arrow:before {color: black;}#sk-container-id-3 div.sk-toggleable__content {max-height: 0;max-width: 0;overflow: hidden;text-align: left;background-color: #f0f8ff;}#sk-container-id-3 div.sk-toggleable__content pre {margin: 0.2em;color: black;border-radius: 0.25em;background-color: #f0f8ff;}#sk-container-id-3 input.sk-toggleable__control:checked~div.sk-toggleable__content {max-height: 200px;max-width: 100%;overflow: auto;}#sk-container-id-3 input.sk-toggleable__control:checked~label.sk-toggleable__label-arrow:before {content: \"▾\";}#sk-container-id-3 div.sk-estimator input.sk-toggleable__control:checked~label.sk-toggleable__label {background-color: #d4ebff;}#sk-container-id-3 div.sk-label input.sk-toggleable__control:checked~label.sk-toggleable__label {background-color: #d4ebff;}#sk-container-id-3 input.sk-hidden--visually {border: 0;clip: rect(1px 1px 1px 1px);clip: rect(1px, 1px, 1px, 1px);height: 1px;margin: -1px;overflow: hidden;padding: 0;position: absolute;width: 1px;}#sk-container-id-3 div.sk-estimator {font-family: monospace;background-color: #f0f8ff;border: 1px dotted black;border-radius: 0.25em;box-sizing: border-box;margin-bottom: 0.5em;}#sk-container-id-3 div.sk-estimator:hover {background-color: #d4ebff;}#sk-container-id-3 div.sk-parallel-item::after {content: \"\";width: 100%;border-bottom: 1px solid gray;flex-grow: 1;}#sk-container-id-3 div.sk-label:hover label.sk-toggleable__label {background-color: #d4ebff;}#sk-container-id-3 div.sk-serial::before {content: \"\";position: absolute;border-left: 1px solid gray;box-sizing: border-box;top: 0;bottom: 0;left: 50%;z-index: 0;}#sk-container-id-3 div.sk-serial {display: flex;flex-direction: column;align-items: center;background-color: white;padding-right: 0.2em;padding-left: 0.2em;position: relative;}#sk-container-id-3 div.sk-item {position: relative;z-index: 1;}#sk-container-id-3 div.sk-parallel {display: flex;align-items: stretch;justify-content: center;background-color: white;position: relative;}#sk-container-id-3 div.sk-item::before, #sk-container-id-3 div.sk-parallel-item::before {content: \"\";position: absolute;border-left: 1px solid gray;box-sizing: border-box;top: 0;bottom: 0;left: 50%;z-index: -1;}#sk-container-id-3 div.sk-parallel-item {display: flex;flex-direction: column;z-index: 1;position: relative;background-color: white;}#sk-container-id-3 div.sk-parallel-item:first-child::after {align-self: flex-end;width: 50%;}#sk-container-id-3 div.sk-parallel-item:last-child::after {align-self: flex-start;width: 50%;}#sk-container-id-3 div.sk-parallel-item:only-child::after {width: 0;}#sk-container-id-3 div.sk-dashed-wrapped {border: 1px dashed gray;margin: 0 0.4em 0.5em 0.4em;box-sizing: border-box;padding-bottom: 0.4em;background-color: white;}#sk-container-id-3 div.sk-label label {font-family: monospace;font-weight: bold;display: inline-block;line-height: 1.2em;}#sk-container-id-3 div.sk-label-container {text-align: center;}#sk-container-id-3 div.sk-container {/* jupyter's `normalize.less` sets `[hidden] { display: none; }` but bootstrap.min.css set `[hidden] { display: none !important; }` so we also need the `!important` here to be able to override the default hidden behavior on the sphinx rendered scikit-learn.org. See: https://github.com/scikit-learn/scikit-learn/issues/21755 */display: inline-block !important;position: relative;}#sk-container-id-3 div.sk-text-repr-fallback {display: none;}</style><div id=\"sk-container-id-3\" class=\"sk-top-container\"><div class=\"sk-text-repr-fallback\"><pre>LogisticRegression()</pre><b>In a Jupyter environment, please rerun this cell to show the HTML representation or trust the notebook. <br />On GitHub, the HTML representation is unable to render, please try loading this page with nbviewer.org.</b></div><div class=\"sk-container\" hidden><div class=\"sk-item\"><div class=\"sk-estimator sk-toggleable\"><input class=\"sk-toggleable__control sk-hidden--visually\" id=\"sk-estimator-id-3\" type=\"checkbox\" checked><label for=\"sk-estimator-id-3\" class=\"sk-toggleable__label sk-toggleable__label-arrow\">LogisticRegression</label><div class=\"sk-toggleable__content\"><pre>LogisticRegression()</pre></div></div></div></div></div>"
      ],
      "text/plain": [
       "LogisticRegression()"
      ]
     },
     "execution_count": 144,
     "metadata": {},
     "output_type": "execute_result"
    }
   ],
   "source": [
    "# 정답값이 부정적인지 긍정인지 \n",
    "logi = LogisticRegression()\n",
    "logi.fit(tf_train, y_train)"
   ]
  },
  {
   "cell_type": "code",
   "execution_count": 145,
   "id": "a5525fbb",
   "metadata": {},
   "outputs": [],
   "source": [
    "# 예측치 (결정확률까지 proba)\n",
    "pred = logi.predict(tf_test)\n",
    "proba = logi.predict_proba(tf_test)[:, 1]"
   ]
  },
  {
   "cell_type": "code",
   "execution_count": 146,
   "id": "54d19b8d",
   "metadata": {},
   "outputs": [
    {
     "name": "stdout",
     "output_type": "stream",
     "text": [
      "0.5842696629213483\n",
      "0.7338129496402878\n"
     ]
    }
   ],
   "source": [
    "# 처참한 정확도 \n",
    "print(accuracy_score(y_test, pred))\n",
    "print(f1_score(y_test, pred))"
   ]
  },
  {
   "cell_type": "code",
   "execution_count": 147,
   "id": "815640dc",
   "metadata": {},
   "outputs": [
    {
     "name": "stdout",
     "output_type": "stream",
     "text": [
      "[[ 1 36]\n",
      " [ 1 51]]\n"
     ]
    }
   ],
   "source": [
    "# 혼동행렬 \n",
    "comat = confusion_matrix(y_test, pred)\n",
    "print(comat)"
   ]
  },
  {
   "cell_type": "code",
   "execution_count": 148,
   "id": "ea2757c5",
   "metadata": {},
   "outputs": [
    {
     "data": {
      "text/html": [
       "<div>\n",
       "<style scoped>\n",
       "    .dataframe tbody tr th:only-of-type {\n",
       "        vertical-align: middle;\n",
       "    }\n",
       "\n",
       "    .dataframe tbody tr th {\n",
       "        vertical-align: top;\n",
       "    }\n",
       "\n",
       "    .dataframe thead th {\n",
       "        text-align: right;\n",
       "    }\n",
       "</style>\n",
       "<table border=\"1\" class=\"dataframe\">\n",
       "  <thead>\n",
       "    <tr style=\"text-align: right;\">\n",
       "      <th></th>\n",
       "      <th>text</th>\n",
       "      <th>pred</th>\n",
       "    </tr>\n",
       "  </thead>\n",
       "  <tbody>\n",
       "    <tr>\n",
       "      <th>326</th>\n",
       "      <td>깜짝 놀랐다 양념갈비  인분  원 후식 냉면  원 공기밥  원 이것이 진정한 바가지다</td>\n",
       "      <td>1</td>\n",
       "    </tr>\n",
       "    <tr>\n",
       "      <th>283</th>\n",
       "      <td>견우도 좋아하는 맛집으로 자신있게 추천합니다  간짜장  짜오판  아주 매운 홍콩 홍...</td>\n",
       "      <td>1</td>\n",
       "    </tr>\n",
       "    <tr>\n",
       "      <th>93</th>\n",
       "      <td>파이가 진짜 맛있어요 저 카페와서 디저트 안먹는스타일인데 여기는 무조건 먹게됩니다 ...</td>\n",
       "      <td>1</td>\n",
       "    </tr>\n",
       "    <tr>\n",
       "      <th>153</th>\n",
       "      <td>바퀴로 보이는 벌레</td>\n",
       "      <td>1</td>\n",
       "    </tr>\n",
       "    <tr>\n",
       "      <th>84</th>\n",
       "      <td>좌석이 많은게 장점입니다  옆의 베베베가 닫아 들렸는데 사람이 많네요  장식으로 르...</td>\n",
       "      <td>1</td>\n",
       "    </tr>\n",
       "    <tr>\n",
       "      <th>...</th>\n",
       "      <td>...</td>\n",
       "      <td>...</td>\n",
       "    </tr>\n",
       "    <tr>\n",
       "      <th>182</th>\n",
       "      <td>생선구이 맛있었어요  오징어는 맛은 괜찮았는데 가성비는 글쎄요  양이 적었어요  순...</td>\n",
       "      <td>1</td>\n",
       "    </tr>\n",
       "    <tr>\n",
       "      <th>25</th>\n",
       "      <td>첫방문 삼층 자리 안내받음 늦은 저녁 방문이어서 비교적 한산했으나 벨 눌러도 오시...</td>\n",
       "      <td>1</td>\n",
       "    </tr>\n",
       "    <tr>\n",
       "      <th>275</th>\n",
       "      <td>위생이 좀 아쉽다</td>\n",
       "      <td>1</td>\n",
       "    </tr>\n",
       "    <tr>\n",
       "      <th>57</th>\n",
       "      <td>미리 튀겨놓고 다식은 차가운 돈까스를 주네요 비오는날 갔더니 손님이 적어선지 미리 ...</td>\n",
       "      <td>1</td>\n",
       "    </tr>\n",
       "    <tr>\n",
       "      <th>273</th>\n",
       "      <td>그유명한  인분값 받는곳 믿고 거르는집 이런가게는 불매운동해야됨</td>\n",
       "      <td>1</td>\n",
       "    </tr>\n",
       "  </tbody>\n",
       "</table>\n",
       "<p>89 rows × 2 columns</p>\n",
       "</div>"
      ],
      "text/plain": [
       "                                                  text  pred\n",
       "326    깜짝 놀랐다 양념갈비  인분  원 후식 냉면  원 공기밥  원 이것이 진정한 바가지다     1\n",
       "283  견우도 좋아하는 맛집으로 자신있게 추천합니다  간짜장  짜오판  아주 매운 홍콩 홍...     1\n",
       "93   파이가 진짜 맛있어요 저 카페와서 디저트 안먹는스타일인데 여기는 무조건 먹게됩니다 ...     1\n",
       "153                                         바퀴로 보이는 벌레     1\n",
       "84   좌석이 많은게 장점입니다  옆의 베베베가 닫아 들렸는데 사람이 많네요  장식으로 르...     1\n",
       "..                                                 ...   ...\n",
       "182  생선구이 맛있었어요  오징어는 맛은 괜찮았는데 가성비는 글쎄요  양이 적었어요  순...     1\n",
       "25    첫방문 삼층 자리 안내받음 늦은 저녁 방문이어서 비교적 한산했으나 벨 눌러도 오시...     1\n",
       "275                                          위생이 좀 아쉽다     1\n",
       "57   미리 튀겨놓고 다식은 차가운 돈까스를 주네요 비오는날 갔더니 손님이 적어선지 미리 ...     1\n",
       "273                그유명한  인분값 받는곳 믿고 거르는집 이런가게는 불매운동해야됨     1\n",
       "\n",
       "[89 rows x 2 columns]"
      ]
     },
     "execution_count": 148,
     "metadata": {},
     "output_type": "execute_result"
    }
   ],
   "source": [
    "# 1긍정\n",
    "# 바선생이 보이는데도 불구하고 1 \n",
    "# 절대가지마세요도 긍정 ㄷ ㄷ\n",
    "pd.DataFrame({\"text\" : x_test, \"pred\": pred})"
   ]
  },
  {
   "cell_type": "markdown",
   "id": "5af5c1e3",
   "metadata": {},
   "source": [
    "# 모델 최적화 "
   ]
  },
  {
   "cell_type": "code",
   "execution_count": 149,
   "id": "aaf09f6c",
   "metadata": {},
   "outputs": [
    {
     "data": {
      "text/plain": [
       "y\n",
       "1    184\n",
       "0    112\n",
       "Name: count, dtype: int64"
      ]
     },
     "execution_count": 149,
     "metadata": {},
     "output_type": "execute_result"
    }
   ],
   "source": [
    "# 1 :1 비율로 랜덤샘플링 수행 \n",
    "# 긍정이 186, 부정이 111개 -> 이것을 1:1 비율로 맞출것임 \n",
    "df[\"y\"].value_counts()"
   ]
  },
  {
   "cell_type": "code",
   "execution_count": 150,
   "id": "37ed1d34",
   "metadata": {},
   "outputs": [],
   "source": [
    "# sample : 표본 추출, 랜덤으로 값을 추출하는 것 \n",
    "pos_idx = df[df[\"y\"] == 1].sample(111, random_state = 11).index.tolist()\n",
    "neg_idx = df[df[\"y\"] == 0].index.tolist()"
   ]
  },
  {
   "cell_type": "code",
   "execution_count": 151,
   "id": "290e2b04",
   "metadata": {},
   "outputs": [],
   "source": [
    "# 긍정적인 문장들의 index와 부정적 index 를 1:! 섞음 \n",
    "random_idx = pos_idx + neg_idx\n",
    "sample_x = df[\"ko_text\"][random_idx]\n",
    "sample_y = df[\"y\"][random_idx]"
   ]
  },
  {
   "cell_type": "code",
   "execution_count": 152,
   "id": "8960076d",
   "metadata": {},
   "outputs": [
    {
     "data": {
      "text/plain": [
       "(223, 223)"
      ]
     },
     "execution_count": 152,
     "metadata": {},
     "output_type": "execute_result"
    }
   ],
   "source": [
    "# 1:1 비율 성공 \n",
    "len(sample_x), len(sample_y)"
   ]
  },
  {
   "cell_type": "code",
   "execution_count": 153,
   "id": "8b4e7b42",
   "metadata": {},
   "outputs": [],
   "source": [
    "x_train, x_test, y_train, y_test = train_test_split(sample_x, sample_y, test_size = 0.3, \n",
    "                                                    stratify = sample_y, random_state = 11)"
   ]
  },
  {
   "cell_type": "code",
   "execution_count": 154,
   "id": "4e6d5685",
   "metadata": {},
   "outputs": [
    {
     "data": {
      "text/plain": [
       "191                                         맛있지만 가격대비 별로\n",
       "85     스콘이 너무 맛있어요 가게도 예쁘고  층까지 있어서 매우 넓습니다 그치만 피크시간에...\n",
       "76                                      파이는 진짜 맛있는데 음료갘 \n",
       "16           마감할때가니까 빵이거의없다는 주차장이없는  마늘바게뜨 촉촉을넘어 축축한 별미 \n",
       "202                      깔끔한분위기의 오래된카페  사람많아도 운영에 막힘없는느낌\n",
       "                             ...                        \n",
       "226                         맛이 신기함  막 맛있지는 않고 한번쯤 와볼만 해요\n",
       "17     인생 빵집이에요 빵들이 전반적으로 퀄리티가 높고 단 편인데 하나하나 돈이 아깝지 않아요 \n",
       "112               라구가 생소하니까 신선할 수 있음 근데 라구하는 곳 중에선 그냥 그럼\n",
       "279    손님 많은곳인데 혼자가도 친절하시고 응대 잘해주십니다  주차가 많이 아쉽지만 워낙 ...\n",
       "326      깜짝 놀랐다 양념갈비  인분  원 후식 냉면  원 공기밥  원 이것이 진정한 바가지다\n",
       "Name: ko_text, Length: 156, dtype: object"
      ]
     },
     "execution_count": 154,
     "metadata": {},
     "output_type": "execute_result"
    }
   ],
   "source": [
    "x_train"
   ]
  },
  {
   "cell_type": "code",
   "execution_count": 155,
   "id": "290d64c1",
   "metadata": {},
   "outputs": [],
   "source": [
    "tfidf = TfidfVectorizer()\n",
    "tf_train = tfidf.fit_transform(x_train)\n",
    "tf_test = tfidf.transform(x_test)"
   ]
  },
  {
   "cell_type": "code",
   "execution_count": 156,
   "id": "d8ef3481",
   "metadata": {},
   "outputs": [
    {
     "data": {
      "text/html": [
       "<style>#sk-container-id-4 {color: black;}#sk-container-id-4 pre{padding: 0;}#sk-container-id-4 div.sk-toggleable {background-color: white;}#sk-container-id-4 label.sk-toggleable__label {cursor: pointer;display: block;width: 100%;margin-bottom: 0;padding: 0.3em;box-sizing: border-box;text-align: center;}#sk-container-id-4 label.sk-toggleable__label-arrow:before {content: \"▸\";float: left;margin-right: 0.25em;color: #696969;}#sk-container-id-4 label.sk-toggleable__label-arrow:hover:before {color: black;}#sk-container-id-4 div.sk-estimator:hover label.sk-toggleable__label-arrow:before {color: black;}#sk-container-id-4 div.sk-toggleable__content {max-height: 0;max-width: 0;overflow: hidden;text-align: left;background-color: #f0f8ff;}#sk-container-id-4 div.sk-toggleable__content pre {margin: 0.2em;color: black;border-radius: 0.25em;background-color: #f0f8ff;}#sk-container-id-4 input.sk-toggleable__control:checked~div.sk-toggleable__content {max-height: 200px;max-width: 100%;overflow: auto;}#sk-container-id-4 input.sk-toggleable__control:checked~label.sk-toggleable__label-arrow:before {content: \"▾\";}#sk-container-id-4 div.sk-estimator input.sk-toggleable__control:checked~label.sk-toggleable__label {background-color: #d4ebff;}#sk-container-id-4 div.sk-label input.sk-toggleable__control:checked~label.sk-toggleable__label {background-color: #d4ebff;}#sk-container-id-4 input.sk-hidden--visually {border: 0;clip: rect(1px 1px 1px 1px);clip: rect(1px, 1px, 1px, 1px);height: 1px;margin: -1px;overflow: hidden;padding: 0;position: absolute;width: 1px;}#sk-container-id-4 div.sk-estimator {font-family: monospace;background-color: #f0f8ff;border: 1px dotted black;border-radius: 0.25em;box-sizing: border-box;margin-bottom: 0.5em;}#sk-container-id-4 div.sk-estimator:hover {background-color: #d4ebff;}#sk-container-id-4 div.sk-parallel-item::after {content: \"\";width: 100%;border-bottom: 1px solid gray;flex-grow: 1;}#sk-container-id-4 div.sk-label:hover label.sk-toggleable__label {background-color: #d4ebff;}#sk-container-id-4 div.sk-serial::before {content: \"\";position: absolute;border-left: 1px solid gray;box-sizing: border-box;top: 0;bottom: 0;left: 50%;z-index: 0;}#sk-container-id-4 div.sk-serial {display: flex;flex-direction: column;align-items: center;background-color: white;padding-right: 0.2em;padding-left: 0.2em;position: relative;}#sk-container-id-4 div.sk-item {position: relative;z-index: 1;}#sk-container-id-4 div.sk-parallel {display: flex;align-items: stretch;justify-content: center;background-color: white;position: relative;}#sk-container-id-4 div.sk-item::before, #sk-container-id-4 div.sk-parallel-item::before {content: \"\";position: absolute;border-left: 1px solid gray;box-sizing: border-box;top: 0;bottom: 0;left: 50%;z-index: -1;}#sk-container-id-4 div.sk-parallel-item {display: flex;flex-direction: column;z-index: 1;position: relative;background-color: white;}#sk-container-id-4 div.sk-parallel-item:first-child::after {align-self: flex-end;width: 50%;}#sk-container-id-4 div.sk-parallel-item:last-child::after {align-self: flex-start;width: 50%;}#sk-container-id-4 div.sk-parallel-item:only-child::after {width: 0;}#sk-container-id-4 div.sk-dashed-wrapped {border: 1px dashed gray;margin: 0 0.4em 0.5em 0.4em;box-sizing: border-box;padding-bottom: 0.4em;background-color: white;}#sk-container-id-4 div.sk-label label {font-family: monospace;font-weight: bold;display: inline-block;line-height: 1.2em;}#sk-container-id-4 div.sk-label-container {text-align: center;}#sk-container-id-4 div.sk-container {/* jupyter's `normalize.less` sets `[hidden] { display: none; }` but bootstrap.min.css set `[hidden] { display: none !important; }` so we also need the `!important` here to be able to override the default hidden behavior on the sphinx rendered scikit-learn.org. See: https://github.com/scikit-learn/scikit-learn/issues/21755 */display: inline-block !important;position: relative;}#sk-container-id-4 div.sk-text-repr-fallback {display: none;}</style><div id=\"sk-container-id-4\" class=\"sk-top-container\"><div class=\"sk-text-repr-fallback\"><pre>LogisticRegression()</pre><b>In a Jupyter environment, please rerun this cell to show the HTML representation or trust the notebook. <br />On GitHub, the HTML representation is unable to render, please try loading this page with nbviewer.org.</b></div><div class=\"sk-container\" hidden><div class=\"sk-item\"><div class=\"sk-estimator sk-toggleable\"><input class=\"sk-toggleable__control sk-hidden--visually\" id=\"sk-estimator-id-4\" type=\"checkbox\" checked><label for=\"sk-estimator-id-4\" class=\"sk-toggleable__label sk-toggleable__label-arrow\">LogisticRegression</label><div class=\"sk-toggleable__content\"><pre>LogisticRegression()</pre></div></div></div></div></div>"
      ],
      "text/plain": [
       "LogisticRegression()"
      ]
     },
     "execution_count": 156,
     "metadata": {},
     "output_type": "execute_result"
    }
   ],
   "source": [
    "logi = LogisticRegression()\n",
    "logi.fit(tf_train, y_train)"
   ]
  },
  {
   "cell_type": "code",
   "execution_count": 157,
   "id": "ba668082",
   "metadata": {},
   "outputs": [],
   "source": [
    "pred = logi.predict(tf_test)\n",
    "proba = logi.predict_proba(tf_test)[:, 1]"
   ]
  },
  {
   "cell_type": "code",
   "execution_count": 158,
   "id": "fd4a867c",
   "metadata": {},
   "outputs": [
    {
     "name": "stdout",
     "output_type": "stream",
     "text": [
      "0.6716417910447762\n",
      "0.6944444444444444\n"
     ]
    }
   ],
   "source": [
    "print(accuracy_score(y_test, pred))\n",
    "print(f1_score(y_test, pred))"
   ]
  },
  {
   "cell_type": "code",
   "execution_count": 159,
   "id": "98a886dd",
   "metadata": {},
   "outputs": [
    {
     "name": "stdout",
     "output_type": "stream",
     "text": [
      "[[20 14]\n",
      " [ 8 25]]\n"
     ]
    }
   ],
   "source": [
    "comat = confusion_matrix(y_test, pred)\n",
    "print(comat)"
   ]
  },
  {
   "cell_type": "code",
   "execution_count": 160,
   "id": "438c0448",
   "metadata": {},
   "outputs": [
    {
     "data": {
      "text/html": [
       "<div>\n",
       "<style scoped>\n",
       "    .dataframe tbody tr th:only-of-type {\n",
       "        vertical-align: middle;\n",
       "    }\n",
       "\n",
       "    .dataframe tbody tr th {\n",
       "        vertical-align: top;\n",
       "    }\n",
       "\n",
       "    .dataframe thead th {\n",
       "        text-align: right;\n",
       "    }\n",
       "</style>\n",
       "<table border=\"1\" class=\"dataframe\">\n",
       "  <thead>\n",
       "    <tr style=\"text-align: right;\">\n",
       "      <th></th>\n",
       "      <th>text</th>\n",
       "      <th>pred</th>\n",
       "    </tr>\n",
       "  </thead>\n",
       "  <tbody>\n",
       "    <tr>\n",
       "      <th>273</th>\n",
       "      <td>그유명한  인분값 받는곳 믿고 거르는집 이런가게는 불매운동해야됨</td>\n",
       "      <td>1</td>\n",
       "    </tr>\n",
       "    <tr>\n",
       "      <th>265</th>\n",
       "      <td>지하에 들어가야해서 환기도 안되고 곱창집이지만 힘들었던 곳</td>\n",
       "      <td>1</td>\n",
       "    </tr>\n",
       "    <tr>\n",
       "      <th>289</th>\n",
       "      <td>짜장 짬뽕이 다른데 보다 약간 비싼데 개인적으로는 비싼 값 한다는 느낌  건물 자체...</td>\n",
       "      <td>1</td>\n",
       "    </tr>\n",
       "    <tr>\n",
       "      <th>11</th>\n",
       "      <td>여기서 먹은 마늘빵이 자꾸 생각나요</td>\n",
       "      <td>1</td>\n",
       "    </tr>\n",
       "    <tr>\n",
       "      <th>77</th>\n",
       "      <td>맛있어서 종종 사먹는데 사먹을 때마다 위생 장갑 낀 손으로 카드 받고 진동벨 주심 ...</td>\n",
       "      <td>0</td>\n",
       "    </tr>\n",
       "    <tr>\n",
       "      <th>...</th>\n",
       "      <td>...</td>\n",
       "      <td>...</td>\n",
       "    </tr>\n",
       "    <tr>\n",
       "      <th>207</th>\n",
       "      <td>추억</td>\n",
       "      <td>1</td>\n",
       "    </tr>\n",
       "    <tr>\n",
       "      <th>296</th>\n",
       "      <td>신촌은 음식 수준이 낮아요</td>\n",
       "      <td>0</td>\n",
       "    </tr>\n",
       "    <tr>\n",
       "      <th>221</th>\n",
       "      <td>독수리 날다</td>\n",
       "      <td>1</td>\n",
       "    </tr>\n",
       "    <tr>\n",
       "      <th>263</th>\n",
       "      <td>곱창은 맛있어요 볶음밥은 별로 친절하진 않아요</td>\n",
       "      <td>0</td>\n",
       "    </tr>\n",
       "    <tr>\n",
       "      <th>128</th>\n",
       "      <td>웨이팅이 개많은 거 치곤 그냥  하나당  인데 점심에 가는게 가성비 있을듯  양은 ...</td>\n",
       "      <td>1</td>\n",
       "    </tr>\n",
       "  </tbody>\n",
       "</table>\n",
       "<p>67 rows × 2 columns</p>\n",
       "</div>"
      ],
      "text/plain": [
       "                                                  text  pred\n",
       "273                그유명한  인분값 받는곳 믿고 거르는집 이런가게는 불매운동해야됨     1\n",
       "265                   지하에 들어가야해서 환기도 안되고 곱창집이지만 힘들었던 곳     1\n",
       "289  짜장 짬뽕이 다른데 보다 약간 비싼데 개인적으로는 비싼 값 한다는 느낌  건물 자체...     1\n",
       "11                                여기서 먹은 마늘빵이 자꾸 생각나요      1\n",
       "77   맛있어서 종종 사먹는데 사먹을 때마다 위생 장갑 낀 손으로 카드 받고 진동벨 주심 ...     0\n",
       "..                                                 ...   ...\n",
       "207                                                 추억     1\n",
       "296                                    신촌은 음식 수준이 낮아요      0\n",
       "221                                             독수리 날다     1\n",
       "263                          곱창은 맛있어요 볶음밥은 별로 친절하진 않아요     0\n",
       "128  웨이팅이 개많은 거 치곤 그냥  하나당  인데 점심에 가는게 가성비 있을듯  양은 ...     1\n",
       "\n",
       "[67 rows x 2 columns]"
      ]
     },
     "execution_count": 160,
     "metadata": {},
     "output_type": "execute_result"
    }
   ],
   "source": [
    "# 이제는 강매는 부정이라고 나옴 \n",
    "# 하지만 토요일에 볶음밥 부정이여야 되는데 긍정이라 나옴 \n",
    "pd.DataFrame({\"text\" : x_test, \"pred\" : pred})"
   ]
  },
  {
   "cell_type": "code",
   "execution_count": 161,
   "id": "9d3a471f",
   "metadata": {},
   "outputs": [
    {
     "data": {
      "text/plain": [
       "'갈비를 정말 맛있는 굽기로 구워주셔서 좋았던 가게입니다 고기의 질도 좋았고 전체적으로 아주 만족스러웠습니다'"
      ]
     },
     "execution_count": 161,
     "metadata": {},
     "output_type": "execute_result"
    }
   ],
   "source": [
    "x_test.loc[32]"
   ]
  },
  {
   "cell_type": "markdown",
   "id": "e4741255",
   "metadata": {},
   "source": [
    "- 모델 만들었으면 원하는 문장을 예측할 수 있어야 함 "
   ]
  },
  {
   "cell_type": "code",
   "execution_count": 162,
   "id": "a58b3021",
   "metadata": {},
   "outputs": [
    {
     "data": {
      "text/plain": [
       "array([1], dtype=int64)"
      ]
     },
     "execution_count": 162,
     "metadata": {},
     "output_type": "execute_result"
    }
   ],
   "source": [
    "# 테스트\n",
    "# 부정이 나와야 함 \n",
    "query = tfidf.transform([\"잘도 그러겠다\"])\n",
    "logi.predict(query) # predict 넣어야 모델의 예측이 정확하게 나옴 "
   ]
  },
  {
   "cell_type": "markdown",
   "id": "cf43bd54",
   "metadata": {},
   "source": [
    "# 키워드 분석\n",
    "\n",
    "- 로지스틱 회귀 모델의 피처 영향력으로 가장 높은 영향력을 가지고 있는 단어 찾기 "
   ]
  },
  {
   "cell_type": "code",
   "execution_count": 163,
   "id": "0c898276",
   "metadata": {},
   "outputs": [
    {
     "data": {
      "image/png": "[encoded data removed]",
      "text/plain": [
       "<Figure size 640x480 with 1 Axes>"
      ]
     },
     "metadata": {},
     "output_type": "display_data"
    }
   ],
   "source": [
    "# 긍정적이라고 판단되는 단어도 있고 부정이라고 판단되는 단어도 있음 \n",
    "plt.figure()\n",
    "\n",
    "plt.bar(range(len(logi.coef_.flatten())), logi.coef_.flatten())\n",
    "plt.show()"
   ]
  },
  {
   "cell_type": "code",
   "execution_count": 164,
   "id": "ca5b3247",
   "metadata": {},
   "outputs": [],
   "source": [
    "# 회귀 모델의 계수를 내림차순으로 정렬\n",
    "# 기울 기값을 value 받고\n",
    "# value 튜플에 넣음 \n",
    "coef_pos_idx = sorted(((value, idx) for idx, value in enumerate(logi.coef_.flatten())),\n",
    "                      reverse = True)"
   ]
  },
  {
   "cell_type": "code",
   "execution_count": 165,
   "id": "bb5bf9fc",
   "metadata": {},
   "outputs": [
    {
     "data": {
      "text/plain": [
       "[(0.8834016478196872, 540),\n",
       " (0.5588407367882885, 1389),\n",
       " (0.5048189814773009, 455),\n",
       " (0.5038602931466214, 533),\n",
       " (0.47805416708804593, 1416),\n",
       " (0.42486187079733123, 549),\n",
       " (0.40769664150959667, 1083),\n",
       " (0.4005278181356543, 281),\n",
       " (0.39707639765035324, 29),\n",
       " (0.3748298880409871, 472),\n",
       " (0.36103782667374085, 311),\n",
       " (0.3570663677333, 537),\n",
       " (0.3531825071112877, 102),\n",
       " (0.3531048335176378, 632),\n",
       " (0.315852598904479, 1400),\n",
       " (0.2974552734418218, 1535),\n",
       " (0.2944835702370498, 539),\n",
       " (0.2832159362575733, 1742),\n",
       " (0.2832159362575733, 1636),\n",
       " (0.2832159362575733, 1529),\n",
       " (0.2832159362575733, 1528),\n",
       " (0.2832159362575733, 1212),\n",
       " (0.2832159362575733, 735),\n",
       " (0.28114820149673564, 1396),\n",
       " (0.279761156647255, 450),\n",
       " (0.2771060727352423, 1398),\n",
       " (0.273384922256039, 754),\n",
       " (0.26759545321558503, 807),\n",
       " (0.2617423063469723, 543),\n",
       " (0.2575231953049453, 1216),\n",
       " (0.25637635942976483, 92),\n",
       " (0.2496284189436735, 957),\n",
       " (0.2496284189436735, 27),\n",
       " (0.2470854006501756, 1417),\n",
       " (0.24619595764823282, 1208),\n",
       " (0.24619595764823282, 1173),\n",
       " (0.24096448433354267, 1469),\n",
       " (0.24096448433354267, 485),\n",
       " (0.2404145717006517, 904),\n",
       " (0.23986025089610008, 1660),\n",
       " (0.23973031164877873, 550),\n",
       " (0.23810176962079627, 817),\n",
       " (0.23691978242420175, 1211),\n",
       " (0.2362823467834682, 752),\n",
       " (0.23331118959407499, 32),\n",
       " (0.23252411492809338, 1618),\n",
       " (0.2319453825949397, 981),\n",
       " (0.2317617995799661, 215),\n",
       " (0.23078647886947046, 1471),\n",
       " (0.22229821910914785, 967),\n",
       " (0.22145342935600376, 1569),\n",
       " (0.22005077468414447, 846),\n",
       " (0.21968135740668143, 800),\n",
       " (0.21968135740668143, 631),\n",
       " (0.21558731510545154, 913),\n",
       " (0.21558731510545154, 690),\n",
       " (0.21558731510545154, 288),\n",
       " (0.21543824455024085, 558),\n",
       " (0.21543824455024085, 343),\n",
       " (0.21496406972803553, 1393),\n",
       " (0.21017612816692047, 283),\n",
       " (0.20887503221365006, 1286),\n",
       " (0.20459120418195703, 1574),\n",
       " (0.20459120418195703, 1041),\n",
       " (0.20459120418195703, 114),\n",
       " (0.20187975006350173, 583),\n",
       " (0.20187975006350173, 529),\n",
       " (0.20187975006350173, 53),\n",
       " (0.20026390906782715, 1649),\n",
       " (0.20026390906782715, 1502),\n",
       " (0.20026390906782715, 531),\n",
       " (0.20026390906782715, 105),\n",
       " (0.19308083941261936, 499),\n",
       " (0.19211606023521474, 1141),\n",
       " (0.18903265651166695, 1075),\n",
       " (0.18903265651166695, 845),\n",
       " (0.18903265651166695, 796),\n",
       " (0.18846301528124598, 1661),\n",
       " (0.18846301528124598, 1342),\n",
       " (0.18690799628970292, 822),\n",
       " (0.1859927448056153, 192),\n",
       " (0.18337498880113018, 1731),\n",
       " (0.18337498880113018, 1185),\n",
       " (0.18337498880113018, 1135),\n",
       " (0.18337498880113018, 993),\n",
       " (0.1831726672340019, 1291),\n",
       " (0.18071667194456947, 1158),\n",
       " (0.18071667194456947, 425),\n",
       " (0.17911726018776933, 1189),\n",
       " (0.17911726018776933, 1146),\n",
       " (0.17911726018776933, 486),\n",
       " (0.17911726018776933, 206),\n",
       " (0.17570607695245843, 1684),\n",
       " (0.17570607695245843, 1171),\n",
       " (0.17570607695245843, 952),\n",
       " (0.17243502689488435, 544),\n",
       " (0.17217848989993811, 1633),\n",
       " (0.17217848989993811, 1572),\n",
       " (0.17217848989993811, 1325),\n",
       " (0.1705545985958366, 1200),\n",
       " (0.1705545985958366, 753),\n",
       " (0.1705545985958366, 516),\n",
       " (0.17014590455904718, 1175),\n",
       " (0.17014590455904718, 1174),\n",
       " (0.17014590455904718, 106),\n",
       " (0.16983328619811078, 1713),\n",
       " (0.1670716224195024, 1610),\n",
       " (0.1670716224195024, 1310),\n",
       " (0.1670716224195024, 1294),\n",
       " (0.1670716224195024, 902),\n",
       " (0.1670716224195024, 289),\n",
       " (0.16397663060574497, 942),\n",
       " (0.16397663060574497, 302),\n",
       " (0.16397663060574497, 205),\n",
       " (0.16397663060574497, 15),\n",
       " (0.16068419390339808, 1129),\n",
       " (0.15886376905160118, 1732),\n",
       " (0.15886376905160118, 1537),\n",
       " (0.15886376905160118, 1326),\n",
       " (0.15886376905160118, 534),\n",
       " (0.15886376905160118, 271),\n",
       " (0.1551610761421743, 876),\n",
       " (0.1551610761421743, 792),\n",
       " (0.1551610761421743, 711),\n",
       " (0.1551610761421743, 530),\n",
       " (0.1551610761421743, 190),\n",
       " (0.1537674456543244, 1246),\n",
       " (0.1537674456543244, 517),\n",
       " (0.1537674456543244, 441),\n",
       " (0.1537674456543244, 313),\n",
       " (0.1537674456543244, 59),\n",
       " (0.1513852857071782, 1538),\n",
       " (0.1513852857071782, 1524),\n",
       " (0.1513852857071782, 1448),\n",
       " (0.1513852857071782, 809),\n",
       " (0.1513852857071782, 717),\n",
       " (0.1513852857071782, 470),\n",
       " (0.1513852857071782, 468),\n",
       " (0.15005272199503308, 1722),\n",
       " (0.15005272199503308, 806),\n",
       " (0.15005272199503308, 635),\n",
       " (0.15005272199503308, 504),\n",
       " (0.15005272199503308, 474),\n",
       " (0.15005272199503308, 378),\n",
       " (0.15005272199503308, 217),\n",
       " (0.1489847595140622, 1061),\n",
       " (0.1469190562518112, 1479),\n",
       " (0.1443645006333089, 1513),\n",
       " (0.1443645006333089, 1395),\n",
       " (0.1443645006333089, 1358),\n",
       " (0.1443645006333089, 901),\n",
       " (0.1443645006333089, 740),\n",
       " (0.1387846669070906, 1601),\n",
       " (0.1387846669070906, 1188),\n",
       " (0.1387846669070906, 1162),\n",
       " (0.1387846669070906, 671),\n",
       " (0.1387846669070906, 124),\n",
       " (0.1387846669070906, 104),\n",
       " (0.1372580908556788, 928),\n",
       " (0.1372580908556788, 884),\n",
       " (0.1372580908556788, 538),\n",
       " (0.1372580908556788, 143),\n",
       " (0.13339684522109627, 1277),\n",
       " (0.13339684522109627, 863),\n",
       " (0.13339684522109627, 738),\n",
       " (0.13339684522109627, 527),\n",
       " (0.13339684522109627, 494),\n",
       " (0.13339684522109627, 395),\n",
       " (0.13339684522109627, 285),\n",
       " (0.13339684522109627, 101),\n",
       " (0.133164136465522, 1624),\n",
       " (0.133164136465522, 933),\n",
       " (0.133164136465522, 909),\n",
       " (0.133164136465522, 577),\n",
       " (0.133164136465522, 412),\n",
       " (0.133164136465522, 339),\n",
       " (0.13266155737029936, 1413),\n",
       " (0.1322956501188405, 1337),\n",
       " (0.13134808872155873, 930),\n",
       " (0.13057396653429362, 1415),\n",
       " (0.13057396653429362, 1338),\n",
       " (0.13057396653429362, 1289),\n",
       " (0.13057396653429362, 947),\n",
       " (0.13057396653429362, 296),\n",
       " (0.13057396653429362, 248),\n",
       " (0.13057396653429362, 30),\n",
       " (0.12690468556253393, 96),\n",
       " (0.12587895444811772, 1710),\n",
       " (0.12587895444811772, 1533),\n",
       " (0.12587895444811772, 1442),\n",
       " (0.12587895444811772, 906),\n",
       " (0.12587895444811772, 611),\n",
       " (0.12587895444811772, 511),\n",
       " (0.12587895444811772, 194),\n",
       " (0.12559808209429618, 1411),\n",
       " (0.12559808209429618, 790),\n",
       " (0.12559808209429618, 698),\n",
       " (0.12559808209429618, 541),\n",
       " (0.12559808209429618, 465),\n",
       " (0.12559808209429618, 460),\n",
       " (0.12559808209429618, 68),\n",
       " (0.12462997280605394, 525),\n",
       " (0.12342552165157115, 1412),\n",
       " (0.12342552165157115, 1283),\n",
       " (0.12342552165157115, 1247),\n",
       " (0.12342552165157115, 968),\n",
       " (0.12342552165157115, 875),\n",
       " (0.12342552165157115, 275),\n",
       " (0.12342552165157115, 52),\n",
       " (0.12221937503487776, 1631),\n",
       " (0.12221937503487776, 1577),\n",
       " (0.12221937503487776, 1353),\n",
       " (0.12221937503487776, 980),\n",
       " (0.12221937503487776, 811),\n",
       " (0.12221937503487776, 384),\n",
       " (0.12020612378134081, 1523),\n",
       " (0.12020612378134081, 1473),\n",
       " (0.12020612378134081, 1262),\n",
       " (0.12020612378134081, 835),\n",
       " (0.12020612378134081, 743),\n",
       " (0.12020612378134081, 615),\n",
       " (0.12020612378134081, 581),\n",
       " (0.12020612378134081, 532),\n",
       " (0.12020612378134081, 476),\n",
       " (0.12020612378134081, 471),\n",
       " (0.12020612378134081, 327),\n",
       " (0.11857798357765169, 1728),\n",
       " (0.11857798357765169, 1620),\n",
       " (0.11857798357765169, 1425),\n",
       " (0.11857798357765169, 1145),\n",
       " (0.11857798357765169, 1022),\n",
       " (0.11857798357765169, 747),\n",
       " (0.11857798357765169, 427),\n",
       " (0.11857798357765169, 330),\n",
       " (0.1175735284560074, 850),\n",
       " (0.1175735284560074, 625),\n",
       " (0.1175735284560074, 204),\n",
       " (0.1175735284560074, 173),\n",
       " (0.1175735284560074, 126),\n",
       " (0.11746074349457016, 820),\n",
       " (0.11743111622524041, 1230),\n",
       " (0.11743111622524041, 1009),\n",
       " (0.11743111622524041, 795),\n",
       " (0.11743111622524041, 697),\n",
       " (0.11743111622524041, 620),\n",
       " (0.11743111622524041, 590),\n",
       " (0.11743111622524041, 67),\n",
       " (0.11737166363607009, 1673),\n",
       " (0.11737166363607009, 1651),\n",
       " (0.11737166363607009, 1571),\n",
       " (0.11737166363607009, 1511),\n",
       " (0.11737166363607009, 1444),\n",
       " (0.11737166363607009, 1314),\n",
       " (0.11737166363607009, 1137),\n",
       " (0.11737166363607009, 1068),\n",
       " (0.11737166363607009, 783),\n",
       " (0.11737166363607009, 481),\n",
       " (0.11737166363607009, 461),\n",
       " (0.11495675198147305, 1566),\n",
       " (0.11495675198147305, 1031),\n",
       " (0.11495675198147305, 569),\n",
       " (0.11495675198147305, 500),\n",
       " (0.11495675198147305, 422),\n",
       " (0.11495675198147305, 357),\n",
       " (0.11396714160323111, 870),\n",
       " (0.11396714160323111, 736),\n",
       " (0.11396714160323111, 689),\n",
       " (0.11396714160323111, 462),\n",
       " (0.11193200757556095, 1420),\n",
       " (0.11193200757556095, 784),\n",
       " (0.11193200757556095, 741),\n",
       " (0.11193200757556095, 575),\n",
       " (0.11193200757556095, 415),\n",
       " (0.11193200757556095, 303),\n",
       " (0.11193200757556095, 158),\n",
       " (0.11193200757556095, 139),\n",
       " (0.11119936293926133, 940),\n",
       " (0.11119936293926133, 587),\n",
       " (0.11101384829402157, 1740),\n",
       " (0.11101384829402157, 1483),\n",
       " (0.11101384829402157, 1157),\n",
       " (0.11101384829402157, 991),\n",
       " (0.11101384829402157, 786),\n",
       " (0.11101384829402157, 528),\n",
       " (0.11101384829402157, 273),\n",
       " (0.11088354794384789, 509),\n",
       " (0.10950342207080907, 336),\n",
       " (0.10844809132232044, 1356),\n",
       " (0.10731496897580076, 1539),\n",
       " (0.10731496897580076, 1332),\n",
       " (0.10731496897580076, 798),\n",
       " (0.10731496897580076, 699),\n",
       " (0.10731496897580076, 565),\n",
       " (0.10731496897580076, 473),\n",
       " (0.10731496897580076, 454),\n",
       " (0.10674954539856868, 1711),\n",
       " (0.10674954539856868, 1628),\n",
       " (0.10674954539856868, 1581),\n",
       " (0.10674954539856868, 1562),\n",
       " (0.10674954539856868, 1223),\n",
       " (0.10674954539856868, 1126),\n",
       " (0.10674954539856868, 959),\n",
       " (0.10674954539856868, 955),\n",
       " (0.10674954539856868, 131),\n",
       " (0.10674954539856868, 86),\n",
       " (0.10674954539856868, 16),\n",
       " (0.10515184988248034, 519),\n",
       " (0.10514622190625365, 1643),\n",
       " (0.10514622190625365, 1476),\n",
       " (0.10514622190625365, 1458),\n",
       " (0.10514622190625365, 1077),\n",
       " (0.10514622190625365, 878),\n",
       " (0.10514622190625365, 849),\n",
       " (0.10514622190625365, 794),\n",
       " (0.10514622190625365, 646),\n",
       " (0.10514622190625365, 306),\n",
       " (0.10514622190625365, 152),\n",
       " (0.10514622190625365, 51),\n",
       " (0.1042099422301566, 1055),\n",
       " (0.10166222478633505, 1695),\n",
       " (0.10166222478633505, 1343),\n",
       " (0.10166222478633505, 1036),\n",
       " (0.10166222478633505, 1028),\n",
       " (0.10166222478633505, 953),\n",
       " (0.10166222478633505, 633),\n",
       " (0.10166222478633505, 576),\n",
       " (0.10166222478633505, 568),\n",
       " (0.10166222478633505, 346),\n",
       " (0.10166222478633505, 269),\n",
       " (0.10166222478633505, 76),\n",
       " (0.09950633403618497, 1646),\n",
       " (0.09950633403618497, 1545),\n",
       " (0.09950633403618497, 1501),\n",
       " (0.09950633403618497, 1329),\n",
       " (0.09950633403618497, 1139),\n",
       " (0.09950633403618497, 1114),\n",
       " (0.09950633403618497, 917),\n",
       " (0.09950633403618497, 270),\n",
       " (0.09950633403618497, 218),\n",
       " (0.09950633403618497, 169),\n",
       " (0.09950633403618497, 166),\n",
       " (0.09950633403618497, 1),\n",
       " (0.09937110227237067, 1575),\n",
       " (0.09937110227237067, 1399),\n",
       " (0.09937110227237067, 1348),\n",
       " (0.09937110227237067, 1082),\n",
       " (0.09937110227237067, 597),\n",
       " (0.09937110227237067, 585),\n",
       " (0.09937110227237067, 510),\n",
       " (0.09937110227237067, 397),\n",
       " (0.09924049364560426, 160),\n",
       " (0.09610803882043481, 1692),\n",
       " (0.09610803882043481, 1632),\n",
       " (0.09610803882043481, 1503),\n",
       " (0.09610803882043481, 1307),\n",
       " (0.09610803882043481, 1155),\n",
       " (0.09610803882043481, 910),\n",
       " (0.09610803882043481, 854),\n",
       " (0.09610803882043481, 805),\n",
       " (0.09610803882043481, 459),\n",
       " (0.09610803882043481, 172),\n",
       " (0.09610803882043481, 125),\n",
       " (0.09610803882043481, 123),\n",
       " (0.09345399814485146, 1697),\n",
       " (0.09345399814485146, 1676),\n",
       " (0.09345399814485146, 1616),\n",
       " (0.09345399814485146, 1284),\n",
       " (0.09345399814485146, 1281),\n",
       " (0.09345399814485146, 1184),\n",
       " (0.09345399814485146, 681),\n",
       " (0.09345399814485146, 553),\n",
       " (0.09345399814485146, 292),\n",
       " (0.09345399814485146, 156),\n",
       " (0.0914040850455233, 1639),\n",
       " (0.0914040850455233, 1512),\n",
       " (0.0914040850455233, 1481),\n",
       " (0.0914040850455233, 1407),\n",
       " (0.0914040850455233, 1172),\n",
       " (0.0914040850455233, 888),\n",
       " (0.0914040850455233, 866),\n",
       " (0.0914040850455233, 844),\n",
       " (0.0914040850455233, 639),\n",
       " (0.0914040850455233, 396),\n",
       " (0.0914040850455233, 276),\n",
       " (0.0914040850455233, 243),\n",
       " (0.0914040850455233, 229),\n",
       " (0.0914040850455233, 197),\n",
       " (0.0914040850455233, 13),\n",
       " (0.09112879523246327, 1648),\n",
       " (0.09112879523246327, 926),\n",
       " (0.09112879523246327, 432),\n",
       " (0.09112879523246327, 362),\n",
       " (0.09112879523246327, 332),\n",
       " (0.09112879523246327, 300),\n",
       " (0.09112879523246327, 54),\n",
       " (0.09112879523246327, 18),\n",
       " (0.09042976242965987, 1585),\n",
       " (0.09042976242965987, 1301),\n",
       " (0.09042976242965987, 1296),\n",
       " (0.09042976242965987, 1293),\n",
       " (0.09042976242965987, 1001),\n",
       " (0.09042976242965987, 990),\n",
       " (0.09042976242965987, 900),\n",
       " (0.09042976242965987, 872),\n",
       " (0.09042976242965987, 612),\n",
       " (0.09042976242965987, 477),\n",
       " (0.09042976242965987, 352),\n",
       " (0.09042976242965987, 242),\n",
       " (0.09042976242965987, 178),\n",
       " (0.09042976242965987, 154),\n",
       " (0.09042976242965987, 83),\n",
       " (0.0903973517283948, 1397),\n",
       " (0.0903973517283948, 1386),\n",
       " (0.0903973517283948, 1375),\n",
       " (0.0903973517283948, 1196),\n",
       " (0.0903973517283948, 1193),\n",
       " (0.0903973517283948, 1168),\n",
       " (0.0903973517283948, 1156),\n",
       " (0.0903973517283948, 1154),\n",
       " (0.0903973517283948, 1136),\n",
       " (0.0903973517283948, 1118),\n",
       " (0.0903973517283948, 919),\n",
       " (0.0903973517283948, 855),\n",
       " (0.0903973517283948, 582),\n",
       " (0.0903973517283948, 443),\n",
       " (0.0903973517283948, 61),\n",
       " (0.08973604608305868, 1298),\n",
       " (0.0891856410914948, 546),\n",
       " (0.08810769042753576, 9),\n",
       " (0.08664875200605998, 1590),\n",
       " (0.08664875200605998, 1542),\n",
       " (0.08664875200605998, 1497),\n",
       " (0.08664875200605998, 1496),\n",
       " (0.08664875200605998, 1472),\n",
       " (0.08664875200605998, 1103),\n",
       " (0.08664875200605998, 974),\n",
       " (0.08664875200605998, 763),\n",
       " (0.08664875200605998, 739),\n",
       " (0.08664875200605998, 696),\n",
       " (0.08664875200605998, 664),\n",
       " (0.08664875200605998, 602),\n",
       " (0.08664875200605998, 601),\n",
       " (0.08664875200605998, 518),\n",
       " (0.08664875200605998, 400),\n",
       " (0.08664875200605998, 146),\n",
       " (0.08363082247704963, 1706),\n",
       " (0.08363082247704963, 1408),\n",
       " (0.08363082247704963, 1267),\n",
       " (0.08363082247704963, 662),\n",
       " (0.08363082247704963, 524),\n",
       " (0.08363082247704963, 469),\n",
       " (0.08363082247704963, 424),\n",
       " (0.08363082247704963, 329),\n",
       " (0.08363082247704963, 109),\n",
       " (0.0835543573822271, 1049),\n",
       " (0.07845790524480316, 1734),\n",
       " (0.07845790524480316, 1681),\n",
       " (0.07845790524480316, 1641),\n",
       " (0.07845790524480316, 1543),\n",
       " (0.07845790524480316, 1334),\n",
       " (0.07845790524480316, 1274),\n",
       " (0.07845790524480316, 1272),\n",
       " (0.07845790524480316, 1269),\n",
       " (0.07845790524480316, 1144),\n",
       " (0.07845790524480316, 1107),\n",
       " (0.07845790524480316, 712),\n",
       " (0.07845790524480316, 672),\n",
       " (0.07845790524480316, 493),\n",
       " (0.07845790524480316, 363),\n",
       " (0.07845790524480316, 342),\n",
       " (0.07845790524480316, 284),\n",
       " (0.07845790524480316, 213),\n",
       " (0.07845790524480316, 175),\n",
       " (0.07845790524480316, 48),\n",
       " (0.07810193708652223, 1004),\n",
       " (0.07714888557495118, 1422),\n",
       " (0.07510679375486724, 1554),\n",
       " (0.07450788997631128, 41),\n",
       " (0.07400073931205776, 63),\n",
       " (0.07256909945051476, 1292),\n",
       " (0.07079865076428646, 28),\n",
       " (0.07047161020313522, 10),\n",
       " (0.06756321757462579, 1237),\n",
       " (0.06485214215769074, 1666),\n",
       " (0.06485214215769074, 1568),\n",
       " (0.06485214215769074, 1457),\n",
       " (0.06485214215769074, 1456),\n",
       " (0.06485214215769074, 1333),\n",
       " (0.06485214215769074, 1320),\n",
       " (0.06485214215769074, 1280),\n",
       " (0.06485214215769074, 1231),\n",
       " (0.06485214215769074, 1170),\n",
       " (0.06485214215769074, 1092),\n",
       " (0.06485214215769074, 1074),\n",
       " (0.06485214215769074, 1064),\n",
       " (0.06485214215769074, 1027),\n",
       " (0.06485214215769074, 1012),\n",
       " (0.06485214215769074, 825),\n",
       " (0.06485214215769074, 799),\n",
       " (0.06485214215769074, 734),\n",
       " (0.06485214215769074, 720),\n",
       " (0.06485214215769074, 492),\n",
       " (0.06485214215769074, 305),\n",
       " (0.06485214215769074, 295),\n",
       " (0.06485214215769074, 263),\n",
       " (0.06485214215769074, 249),\n",
       " (0.06485214215769074, 161),\n",
       " (0.06485214215769074, 155),\n",
       " (0.06485214215769074, 85),\n",
       " (0.06485214215769074, 79),\n",
       " (0.06485214215769074, 78),\n",
       " (0.06485214215769074, 45),\n",
       " (0.06406513432133507, 1005),\n",
       " (0.06371010908288562, 1148),\n",
       " (0.06351649944684575, 1263),\n",
       " (0.06058264234308127, 1308),\n",
       " (0.05942401973485743, 935),\n",
       " (0.055441773971923944, 1744),\n",
       " (0.055441773971923944, 1729),\n",
       " (0.055441773971923944, 1664),\n",
       " (0.055441773971923944, 1580),\n",
       " (0.055441773971923944, 1570),\n",
       " (0.055441773971923944, 1567),\n",
       " (0.055441773971923944, 1525),\n",
       " (0.055441773971923944, 1388),\n",
       " (0.055441773971923944, 1315),\n",
       " (0.055441773971923944, 1257),\n",
       " (0.055441773971923944, 1192),\n",
       " (0.055441773971923944, 1187),\n",
       " (0.055441773971923944, 1186),\n",
       " (0.055441773971923944, 1125),\n",
       " (0.055441773971923944, 1088),\n",
       " (0.055441773971923944, 1084),\n",
       " (0.055441773971923944, 916),\n",
       " (0.055441773971923944, 859),\n",
       " (0.055441773971923944, 826),\n",
       " (0.055441773971923944, 810),\n",
       " (0.055441773971923944, 808),\n",
       " (0.055441773971923944, 778),\n",
       " (0.055441773971923944, 710),\n",
       " (0.055441773971923944, 688),\n",
       " (0.055441773971923944, 670),\n",
       " (0.055441773971923944, 656),\n",
       " (0.055441773971923944, 475),\n",
       " (0.055441773971923944, 418),\n",
       " (0.055441773971923944, 340),\n",
       " (0.055441773971923944, 333),\n",
       " (0.055441773971923944, 326),\n",
       " (0.055441773971923944, 294),\n",
       " (0.055441773971923944, 272),\n",
       " (0.055441773971923944, 132),\n",
       " (0.055441773971923944, 84),\n",
       " (0.054006885456346555, 1723),\n",
       " (0.054006885456346555, 1199),\n",
       " (0.0496615865046874, 1745),\n",
       " (0.0496615865046874, 1640),\n",
       " (0.0496615865046874, 1637),\n",
       " (0.0496615865046874, 1552),\n",
       " (0.0496615865046874, 1549),\n",
       " (0.0496615865046874, 1446),\n",
       " (0.0496615865046874, 1443),\n",
       " (0.0496615865046874, 1438),\n",
       " (0.0496615865046874, 1419),\n",
       " (0.0496615865046874, 1349),\n",
       " (0.0496615865046874, 1297),\n",
       " (0.0496615865046874, 1266),\n",
       " (0.0496615865046874, 1241),\n",
       " (0.0496615865046874, 1179),\n",
       " (0.0496615865046874, 1165),\n",
       " (0.0496615865046874, 1140),\n",
       " (0.0496615865046874, 1132),\n",
       " (0.0496615865046874, 1051),\n",
       " (0.0496615865046874, 1038),\n",
       " (0.0496615865046874, 983),\n",
       " (0.0496615865046874, 976),\n",
       " (0.0496615865046874, 922),\n",
       " (0.0496615865046874, 908),\n",
       " (0.0496615865046874, 892),\n",
       " (0.0496615865046874, 877),\n",
       " (0.0496615865046874, 862),\n",
       " (0.0496615865046874, 847),\n",
       " (0.0496615865046874, 830),\n",
       " (0.0496615865046874, 812),\n",
       " (0.0496615865046874, 745),\n",
       " (0.0496615865046874, 683),\n",
       " (0.0496615865046874, 642),\n",
       " (0.0496615865046874, 628),\n",
       " (0.0496615865046874, 621),\n",
       " (0.0496615865046874, 609),\n",
       " (0.0496615865046874, 572),\n",
       " (0.0496615865046874, 514),\n",
       " (0.0496615865046874, 490),\n",
       " (0.0496615865046874, 445),\n",
       " (0.0496615865046874, 371),\n",
       " (0.0496615865046874, 256),\n",
       " (0.0496615865046874, 245),\n",
       " (0.0496615865046874, 200),\n",
       " (0.0496615865046874, 145),\n",
       " (0.0496615865046874, 137),\n",
       " (0.0496615865046874, 129),\n",
       " (0.0496615865046874, 14),\n",
       " (0.04718669981060586, 526),\n",
       " (0.046621935997817186, 456),\n",
       " (0.04451352668618207, 1387),\n",
       " (0.04331439592241796, 11),\n",
       " (0.03990060749140077, 94),\n",
       " (0.0395754617062067, 1565),\n",
       " (0.03693820969371115, 1630),\n",
       " (0.03642833096722188, 1423),\n",
       " (0.034950499361579644, 120),\n",
       " (0.034263080228398454, 380),\n",
       " (0.034130269589824104, 588),\n",
       " (0.031695227865030214, 1452),\n",
       " (0.030279081012342907, 571),\n",
       " (0.02905288845008866, 1693),\n",
       " (0.02901409273939402, 1672),\n",
       " (0.028494549646222618, 1623),\n",
       " (0.026623878297867925, 1311),\n",
       " (0.025436638892234548, 1347),\n",
       " (0.025396881291410305, 1384),\n",
       " (0.02525077075905708, 1658),\n",
       " (0.023882801556779146, 841),\n",
       " (0.023558271214392263, 1409),\n",
       " (0.018907334049824493, 1376),\n",
       " (0.013941840172393137, 116),\n",
       " (0.012625272795201821, 885),\n",
       " (0.008760467147567102, 897),\n",
       " (0.007556730429730325, 1127),\n",
       " (0.004868365003829835, 1467),\n",
       " (0.0035875298840924233, 1696),\n",
       " (-0.001403403638452505, 1622),\n",
       " (-0.002384655120860484, 589),\n",
       " (-0.004323569824897688, 1327),\n",
       " (-0.004938160678156349, 1619),\n",
       " (-0.005755105448144749, 551),\n",
       " (-0.010812485785278875, 232),\n",
       " (-0.011407446948621173, 1124),\n",
       " (-0.011457171134950452, 1703),\n",
       " (-0.01182024148038505, 987),\n",
       " (-0.015343887026818671, 404),\n",
       " (-0.015493353698873058, 1250),\n",
       " (-0.016552326085597854, 314),\n",
       " (-0.01768321849079202, 985),\n",
       " (-0.02125631822293775, 561),\n",
       " (-0.02704318059748396, 1733),\n",
       " (-0.02704318059748396, 1720),\n",
       " (-0.02704318059748396, 1718),\n",
       " (-0.02704318059748396, 1717),\n",
       " (-0.02704318059748396, 1700),\n",
       " (-0.02704318059748396, 1689),\n",
       " (-0.02704318059748396, 1652),\n",
       " (-0.02704318059748396, 1609),\n",
       " (-0.02704318059748396, 1608),\n",
       " (-0.02704318059748396, 1607),\n",
       " (-0.02704318059748396, 1604),\n",
       " (-0.02704318059748396, 1602),\n",
       " (-0.02704318059748396, 1588),\n",
       " (-0.02704318059748396, 1560),\n",
       " (-0.02704318059748396, 1559),\n",
       " (-0.02704318059748396, 1546),\n",
       " (-0.02704318059748396, 1526),\n",
       " (-0.02704318059748396, 1521),\n",
       " (-0.02704318059748396, 1508),\n",
       " (-0.02704318059748396, 1505),\n",
       " (-0.02704318059748396, 1504),\n",
       " (-0.02704318059748396, 1450),\n",
       " (-0.02704318059748396, 1435),\n",
       " (-0.02704318059748396, 1374),\n",
       " (-0.02704318059748396, 1366),\n",
       " (-0.02704318059748396, 1336),\n",
       " (-0.02704318059748396, 1330),\n",
       " (-0.02704318059748396, 1303),\n",
       " (-0.02704318059748396, 1278),\n",
       " (-0.02704318059748396, 1264),\n",
       " (-0.02704318059748396, 1258),\n",
       " (-0.02704318059748396, 1249),\n",
       " (-0.02704318059748396, 1248),\n",
       " (-0.02704318059748396, 1213),\n",
       " (-0.02704318059748396, 1209),\n",
       " (-0.02704318059748396, 1204),\n",
       " (-0.02704318059748396, 1194),\n",
       " (-0.02704318059748396, 1180),\n",
       " (-0.02704318059748396, 1169),\n",
       " (-0.02704318059748396, 1167),\n",
       " (-0.02704318059748396, 1164),\n",
       " (-0.02704318059748396, 1160),\n",
       " (-0.02704318059748396, 1143),\n",
       " (-0.02704318059748396, 1111),\n",
       " (-0.02704318059748396, 1100),\n",
       " (-0.02704318059748396, 1080),\n",
       " (-0.02704318059748396, 1067),\n",
       " (-0.02704318059748396, 1060),\n",
       " (-0.02704318059748396, 1033),\n",
       " (-0.02704318059748396, 1026),\n",
       " (-0.02704318059748396, 1020),\n",
       " (-0.02704318059748396, 1019),\n",
       " (-0.02704318059748396, 1015),\n",
       " (-0.02704318059748396, 1006),\n",
       " (-0.02704318059748396, 977),\n",
       " (-0.02704318059748396, 971),\n",
       " (-0.02704318059748396, 949),\n",
       " (-0.02704318059748396, 941),\n",
       " (-0.02704318059748396, 931),\n",
       " (-0.02704318059748396, 915),\n",
       " (-0.02704318059748396, 903),\n",
       " (-0.02704318059748396, 889),\n",
       " (-0.02704318059748396, 887),\n",
       " (-0.02704318059748396, 868),\n",
       " (-0.02704318059748396, 848),\n",
       " (-0.02704318059748396, 823),\n",
       " (-0.02704318059748396, 802),\n",
       " (-0.02704318059748396, 782),\n",
       " (-0.02704318059748396, 780),\n",
       " (-0.02704318059748396, 761),\n",
       " (-0.02704318059748396, 750),\n",
       " (-0.02704318059748396, 749),\n",
       " (-0.02704318059748396, 744),\n",
       " (-0.02704318059748396, 727),\n",
       " (-0.02704318059748396, 701),\n",
       " (-0.02704318059748396, 682),\n",
       " (-0.02704318059748396, 679),\n",
       " (-0.02704318059748396, 667),\n",
       " (-0.02704318059748396, 660),\n",
       " (-0.02704318059748396, 647),\n",
       " (-0.02704318059748396, 614),\n",
       " (-0.02704318059748396, 557),\n",
       " (-0.02704318059748396, 495),\n",
       " (-0.02704318059748396, 483),\n",
       " (-0.02704318059748396, 467),\n",
       " (-0.02704318059748396, 447),\n",
       " (-0.02704318059748396, 446),\n",
       " (-0.02704318059748396, 440),\n",
       " (-0.02704318059748396, 420),\n",
       " (-0.02704318059748396, 406),\n",
       " (-0.02704318059748396, 403),\n",
       " (-0.02704318059748396, 381),\n",
       " (-0.02704318059748396, 354),\n",
       " (-0.02704318059748396, 344),\n",
       " (-0.02704318059748396, 341),\n",
       " (-0.02704318059748396, 335),\n",
       " (-0.02704318059748396, 324),\n",
       " (-0.02704318059748396, 323),\n",
       " (-0.02704318059748396, 316),\n",
       " (-0.02704318059748396, 307),\n",
       " (-0.02704318059748396, 298),\n",
       " (-0.02704318059748396, 291),\n",
       " (-0.02704318059748396, 290),\n",
       " (-0.02704318059748396, 287),\n",
       " (-0.02704318059748396, 274),\n",
       " (-0.02704318059748396, 261),\n",
       " (-0.02704318059748396, 254),\n",
       " (-0.02704318059748396, 235),\n",
       " (-0.02704318059748396, 234),\n",
       " (-0.02704318059748396, 222),\n",
       " (-0.02704318059748396, 214),\n",
       " (-0.02704318059748396, 212),\n",
       " (-0.02704318059748396, 211),\n",
       " (-0.02704318059748396, 210),\n",
       " (-0.02704318059748396, 209),\n",
       " (-0.02704318059748396, 153),\n",
       " (-0.02704318059748396, 151),\n",
       " (-0.02704318059748396, 118),\n",
       " (-0.02704318059748396, 115),\n",
       " (-0.02704318059748396, 111),\n",
       " (-0.02704318059748396, 89),\n",
       " (-0.02704318059748396, 88),\n",
       " (-0.02704318059748396, 82),\n",
       " (-0.02704318059748396, 74),\n",
       " (-0.02704318059748396, 73),\n",
       " (-0.02704318059748396, 49),\n",
       " (-0.02958708057305729, 19),\n",
       " (-0.029650856973646784, 1285),\n",
       " (-0.030361006121181255, 337),\n",
       " (-0.030385947696340926, 598),\n",
       " (-0.03236476632507493, 1214),\n",
       " (-0.033106232011635754, 44),\n",
       " (-0.03650942255437616, 636),\n",
       " (-0.03656922846010675, 304),\n",
       " (-0.0373781510549591, 1726),\n",
       " (-0.0373781510549591, 1712),\n",
       " (-0.0373781510549591, 1520),\n",
       " (-0.0373781510549591, 1519),\n",
       " (-0.0373781510549591, 1515),\n",
       " (-0.0373781510549591, 1468),\n",
       " (-0.0373781510549591, 1436),\n",
       " (-0.0373781510549591, 1378),\n",
       " (-0.0373781510549591, 1295),\n",
       " (-0.0373781510549591, 1288),\n",
       " (-0.0373781510549591, 1276),\n",
       " (-0.0373781510549591, 1234),\n",
       " (-0.0373781510549591, 1226),\n",
       " (-0.0373781510549591, 1138),\n",
       " (-0.0373781510549591, 1112),\n",
       " (-0.0373781510549591, 1102),\n",
       " (-0.0373781510549591, 1058),\n",
       " (-0.0373781510549591, 1035),\n",
       " (-0.0373781510549591, 1034),\n",
       " (-0.0373781510549591, 1016),\n",
       " (-0.0373781510549591, 978),\n",
       " (-0.0373781510549591, 972),\n",
       " (-0.0373781510549591, 893),\n",
       " (-0.0373781510549591, 831),\n",
       " (-0.0373781510549591, 829),\n",
       " (-0.0373781510549591, 773),\n",
       " (-0.0373781510549591, 769),\n",
       " (-0.0373781510549591, 760),\n",
       " (-0.0373781510549591, 724),\n",
       " (-0.0373781510549591, 707),\n",
       " (-0.0373781510549591, 706),\n",
       " (-0.0373781510549591, 686),\n",
       " (-0.0373781510549591, 684),\n",
       " (-0.0373781510549591, 675),\n",
       " (-0.0373781510549591, 669),\n",
       " (-0.0373781510549591, 668),\n",
       " (-0.0373781510549591, 640),\n",
       " (-0.0373781510549591, 637),\n",
       " (-0.0373781510549591, 629),\n",
       " (-0.0373781510549591, 593),\n",
       " (-0.0373781510549591, 497),\n",
       " (-0.0373781510549591, 402),\n",
       " (-0.0373781510549591, 383),\n",
       " (-0.0373781510549591, 372),\n",
       " (-0.0373781510549591, 349),\n",
       " (-0.0373781510549591, 345),\n",
       " (-0.0373781510549591, 277),\n",
       " (-0.0373781510549591, 260),\n",
       " (-0.0373781510549591, 253),\n",
       " (-0.0373781510549591, 239),\n",
       " (-0.0373781510549591, 228),\n",
       " (-0.0373781510549591, 203),\n",
       " (-0.0373781510549591, 202),\n",
       " (-0.0373781510549591, 195),\n",
       " (-0.0373781510549591, 193),\n",
       " (-0.0373781510549591, 164),\n",
       " (-0.0373781510549591, 64),\n",
       " (-0.0373781510549591, 55),\n",
       " (-0.0373781510549591, 23),\n",
       " (-0.0373781510549591, 17),\n",
       " (-0.03824747708274293, 6),\n",
       " (-0.04090962786215129, 1052),\n",
       " (-0.04172931854012825, 1048),\n",
       " (-0.0422583177995253, 1300),\n",
       " (-0.04506488355700623, 286),\n",
       " (-0.0479533937471584, 189),\n",
       " (-0.04903019515153047, 828),\n",
       " (-0.04954197430795829, 1656),\n",
       " (-0.053508113968759874, 1741),\n",
       " (-0.053508113968759874, 1606),\n",
       " (-0.053508113968759874, 1584),\n",
       " (-0.053508113968759874, 1583),\n",
       " (-0.053508113968759874, 1544),\n",
       " (-0.053508113968759874, 1534),\n",
       " (-0.053508113968759874, 1530),\n",
       " (-0.053508113968759874, 1385),\n",
       " (-0.053508113968759874, 1381),\n",
       " (-0.053508113968759874, 1238),\n",
       " (-0.053508113968759874, 1202),\n",
       " (-0.053508113968759874, 1151),\n",
       " (-0.053508113968759874, 1120),\n",
       " (-0.053508113968759874, 1115),\n",
       " (-0.053508113968759874, 1023),\n",
       " (-0.053508113968759874, 999),\n",
       " (-0.053508113968759874, 853),\n",
       " (-0.053508113968759874, 816),\n",
       " (-0.053508113968759874, 695),\n",
       " (-0.053508113968759874, 692),\n",
       " (-0.053508113968759874, 634),\n",
       " (-0.053508113968759874, 604),\n",
       " (-0.053508113968759874, 599),\n",
       " (-0.053508113968759874, 482),\n",
       " (-0.053508113968759874, 439),\n",
       " (-0.053508113968759874, 438),\n",
       " (-0.053508113968759874, 419),\n",
       " (-0.053508113968759874, 416),\n",
       " (-0.053508113968759874, 398),\n",
       " (-0.053508113968759874, 374),\n",
       " (-0.053508113968759874, 225),\n",
       " (-0.053508113968759874, 187),\n",
       " (-0.053508113968759874, 167),\n",
       " (-0.053508113968759874, 98),\n",
       " (-0.053508113968759874, 39),\n",
       " (-0.053508113968759874, 20),\n",
       " (-0.05408636119496792, 1593),\n",
       " (-0.05433876389266273, 1737),\n",
       " (-0.05433876389266273, 1698),\n",
       " (-0.05433876389266273, 1650),\n",
       " (-0.05433876389266273, 1589),\n",
       " (-0.05433876389266273, 1578),\n",
       " (-0.05433876389266273, 1536),\n",
       " (-0.05433876389266273, 1527),\n",
       " (-0.05433876389266273, 1428),\n",
       " (-0.05433876389266273, 1373),\n",
       " (-0.05433876389266273, 1367),\n",
       " (-0.05433876389266273, 1365),\n",
       " (-0.05433876389266273, 1351),\n",
       " (-0.05433876389266273, 1344),\n",
       " (-0.05433876389266273, 1312),\n",
       " (-0.05433876389266273, 1221),\n",
       " (-0.05433876389266273, 1207),\n",
       " (-0.05433876389266273, 1195),\n",
       " (-0.05433876389266273, 1178),\n",
       " (-0.05433876389266273, 1176),\n",
       " (-0.05433876389266273, 970),\n",
       " (-0.05433876389266273, 956),\n",
       " (-0.05433876389266273, 948),\n",
       " (-0.05433876389266273, 921),\n",
       " (-0.05433876389266273, 911),\n",
       " (-0.05433876389266273, 899),\n",
       " (-0.05433876389266273, 874),\n",
       " (-0.05433876389266273, 777),\n",
       " (-0.05433876389266273, 758),\n",
       " (-0.05433876389266273, 702),\n",
       " (-0.05433876389266273, 693),\n",
       " (-0.05433876389266273, 649),\n",
       " (-0.05433876389266273, 433),\n",
       " (-0.05433876389266273, 241),\n",
       " (-0.05433876389266273, 240),\n",
       " (-0.05433876389266273, 227),\n",
       " (-0.05433876389266273, 226),\n",
       " (-0.05433876389266273, 144),\n",
       " (-0.05433876389266273, 140),\n",
       " (-0.05433876389266273, 34),\n",
       " (-0.05433876389266273, 26),\n",
       " (-0.05468222445513463, 1721),\n",
       " (-0.05468222445513463, 1667),\n",
       " (-0.05468222445513463, 1638),\n",
       " (-0.05468222445513463, 1627),\n",
       " (-0.05468222445513463, 1626),\n",
       " (-0.05468222445513463, 1625),\n",
       " (-0.05468222445513463, 1548),\n",
       " (-0.05468222445513463, 1547),\n",
       " (-0.05468222445513463, 1509),\n",
       " (-0.05468222445513463, 1498),\n",
       " (-0.05468222445513463, 1383),\n",
       " (-0.05468222445513463, 1377),\n",
       " (-0.05468222445513463, 1317),\n",
       " (-0.05468222445513463, 1215),\n",
       " (-0.05468222445513463, 1101),\n",
       " (-0.05468222445513463, 1071),\n",
       " (-0.05468222445513463, 1032),\n",
       " (-0.05468222445513463, 1010),\n",
       " (-0.05468222445513463, 958),\n",
       " (-0.05468222445513463, 895),\n",
       " (-0.05468222445513463, 869),\n",
       " (-0.05468222445513463, 858),\n",
       " (-0.05468222445513463, 857),\n",
       " (-0.05468222445513463, 843),\n",
       " (-0.05468222445513463, 756),\n",
       " (-0.05468222445513463, 725),\n",
       " (-0.05468222445513463, 715),\n",
       " (-0.05468222445513463, 680),\n",
       " (-0.05468222445513463, 665),\n",
       " (-0.05468222445513463, 655),\n",
       " (-0.05468222445513463, 652),\n",
       " (-0.05468222445513463, 521),\n",
       " (-0.05468222445513463, 513),\n",
       " (-0.05468222445513463, 503),\n",
       " (-0.05468222445513463, 501),\n",
       " (-0.05468222445513463, 487),\n",
       " (-0.05468222445513463, 428),\n",
       " (-0.05468222445513463, 423),\n",
       " (-0.05468222445513463, 376),\n",
       " (-0.05468222445513463, 375),\n",
       " (-0.05468222445513463, 368),\n",
       " (-0.05468222445513463, 279),\n",
       " (-0.05468222445513463, 112),\n",
       " (-0.05468222445513463, 90),\n",
       " (-0.05468222445513463, 71),\n",
       " (-0.05468222445513463, 46),\n",
       " (-0.05468222445513463, 2),\n",
       " (-0.05602465283420358, 1491),\n",
       " (-0.05602465283420358, 1464),\n",
       " (-0.05602465283420358, 1363),\n",
       " (-0.05602465283420358, 1362),\n",
       " (-0.05602465283420358, 1361),\n",
       " (-0.05602465283420358, 1245),\n",
       " (-0.05602465283420358, 1236),\n",
       " (-0.05602465283420358, 1235),\n",
       " (-0.05602465283420358, 1152),\n",
       " (-0.05602465283420358, 1134),\n",
       " (-0.05602465283420358, 1099),\n",
       " (-0.05602465283420358, 1059),\n",
       " (-0.05602465283420358, 1042),\n",
       " (-0.05602465283420358, 1021),\n",
       " (-0.05602465283420358, 1017),\n",
       " (-0.05602465283420358, 1014),\n",
       " (-0.05602465283420358, 867),\n",
       " (-0.05602465283420358, 774),\n",
       " (-0.05602465283420358, 709),\n",
       " (-0.05602465283420358, 685),\n",
       " (-0.05602465283420358, 641),\n",
       " (-0.05602465283420358, 618),\n",
       " (-0.05602465283420358, 613),\n",
       " (-0.05602465283420358, 586),\n",
       " (-0.05602465283420358, 479),\n",
       " (-0.05602465283420358, 355),\n",
       " (-0.05602465283420358, 353),\n",
       " (-0.05602465283420358, 322),\n",
       " (-0.05602465283420358, 244),\n",
       " (-0.05602465283420358, 220),\n",
       " ...]"
      ]
     },
     "execution_count": 165,
     "metadata": {},
     "output_type": "execute_result"
    }
   ],
   "source": [
    "# 0. : 긍정 / -0. : 부정\n",
    "coef_pos_idx"
   ]
  },
  {
   "cell_type": "code",
   "execution_count": 166,
   "id": "52fba496",
   "metadata": {},
   "outputs": [
    {
     "name": "stdout",
     "output_type": "stream",
     "text": [
      "맛있어요 0.8834016478196872\n",
      "조금 0.5588407367882885\n",
      "라자냐 0.5048189814773009\n",
      "맛있고 0.5038602931466214\n",
      "좋아요 0.47805416708804593\n",
      "맛있음 0.42486187079733123\n",
      "양이 0.40769664150959667\n",
      "노포의 0.4005278181356543\n",
      "가성비 0.39707639765035324\n",
      "마늘바게트 0.3748298880409871\n",
      "다른 0.36103782667374085\n",
      "맛있다 0.3570663677333\n",
      "고등어 0.3531825071112877\n",
      "무조건 0.3531048335176378\n",
      "졸라 0.315852598904479\n",
      "추억의 0.2974552734418218\n",
      "맛있습니다 0.2944835702370498\n",
      "흑흑 0.2832159362575733\n",
      "평양냉면 0.2832159362575733\n",
      "최고예요 0.2832159362575733\n"
     ]
    }
   ],
   "source": [
    "# 상위 20개 긍정 형태소\n",
    "# for value :기울기값, 몇번 idx 인지 \n",
    "for value, idx in coef_pos_idx[:20]:\n",
    "    print(tfidf.get_feature_names_out()[idx], value)"
   ]
  },
  {
   "cell_type": "code",
   "execution_count": 167,
   "id": "9250d824",
   "metadata": {
    "scrolled": true
   },
   "outputs": [
    {
     "name": "stdout",
     "output_type": "stream",
     "text": [
      "별로 -0.7093833950457102\n",
      "그냥 -0.6600355261288586\n",
      "아까움 -0.4777762893418217\n",
      "하나도 -0.4777762893418217\n",
      "불친절합니다 -0.4509209762746244\n",
      "굳이 -0.4495884551037068\n",
      "가격이 -0.43802691730609067\n",
      "계좌이체 -0.42054948034908973\n",
      "카드 -0.42054948034908973\n",
      "주문 -0.34132865832316994\n",
      "파이 -0.339680464421844\n",
      "엄청 -0.3170442760600387\n",
      "그리고 -0.31417156089712295\n",
      "한식집같아요 -0.30145155103594057\n",
      "올라서 -0.29054155092118455\n",
      "가성비꽝 -0.28396618969318055\n",
      "광고 -0.28396618969318055\n",
      "괜찮은집 -0.28396618969318055\n",
      "다시는안간다 -0.28396618969318055\n"
     ]
    }
   ],
   "source": [
    "# 상위 20개 부정 형태소\n",
    "# 돈까스가 들어간곳에 어떤 부정적인 문장인지 시간날때 확인하기 \n",
    "for value, idx in coef_pos_idx[:-20:-1]:\n",
    "    print(tfidf.get_feature_names_out()[idx], value)"
   ]
  },
  {
   "cell_type": "code",
   "execution_count": null,
   "id": "ad447184",
   "metadata": {},
   "outputs": [],
   "source": []
  }
 ],
 "metadata": {
  "kernelspec": {
   "display_name": "Python 3 (ipykernel)",
   "language": "python",
   "name": "python3"
  },
  "language_info": {
   "codemirror_mode": {
    "name": "ipython",
    "version": 3
   },
   "file_extension": ".py",
   "mimetype": "text/x-python",
   "name": "python",
   "nbconvert_exporter": "python",
   "pygments_lexer": "ipython3",
   "version": "3.11.5"
  }
 },
 "nbformat": 4,
 "nbformat_minor": 5
}
