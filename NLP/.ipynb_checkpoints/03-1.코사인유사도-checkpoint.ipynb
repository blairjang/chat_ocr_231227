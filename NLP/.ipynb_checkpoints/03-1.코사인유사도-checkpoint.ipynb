{
 "cells": [
  {
   "cell_type": "markdown",
   "id": "578ae5b1",
   "metadata": {},
   "source": [
    "# 코사인 유사도(cosine similiarity) \n",
    "\n",
    "-  단어나 문장을 벡터로 표현하여 벡터 간 거리나 각도를 이용해 유사성을 파악할 수 있음 \n",
    "- 코사인 유사도는 두 벡터 간 코사인 각도를 이용해 유사도를 측정하는 방법\n",
    "- 일반적으로 벡터의 크기가 중요하지 않을 때 거리를 측정하기 위해 사용 \n",
    "    - 예) 단어의 출현 빈도를 통해 유사도를 계산한다면 동일한 단어가 많이 포함되어 있을수록 벡터의 크기가 커짐 \n",
    "    - 이 때 코사인 유사도는 벡터의 크기와 상관없이 결과가 안정적임\n",
    "    - 앞서 배운 n-gram은 동일한 단어가 문서 내에 자주 등장하면 유사도 결과에 안 좋은 영향을 미침"
   ]
  },
  {
   "cell_type": "code",
   "execution_count": 1,
   "id": "f13a1b0e",
   "metadata": {},
   "outputs": [],
   "source": [
    "from konlpy.tag import Komoran\n",
    "import numpy as np\n",
    "from numpy import dot\n",
    "from numpy.linalg import norm"
   ]
  },
  {
   "cell_type": "code",
   "execution_count": 2,
   "id": "477c2f8c",
   "metadata": {},
   "outputs": [],
   "source": [
    "# 코사인 유사도 계산\n",
    "def cos_sim(vec1, vec2):\n",
    "    return dot(vec1, vec2) / (norm(vec1) * norm(vec2))"
   ]
  },
  {
   "cell_type": "markdown",
   "id": "390da088",
   "metadata": {},
   "source": [
    "- dot : 인자로 들어온 2개의 넘파이 배열을 내적곱\n",
    "- norm : 벡터의 크기를 측정\n",
    "    - 코사인 유사도에서는 :L2 노름(유클리드 노름)을 주로 사용 "
   ]
  },
  {
   "cell_type": "code",
   "execution_count": 3,
   "id": "3ed21a00",
   "metadata": {},
   "outputs": [],
   "source": [
    "# TDM 만들기\n",
    "def make_term_doc_mat(sentence_bow, word_dics):\n",
    "    freq_mat = dict()\n",
    "    \n",
    "    for word in word_dics:\n",
    "        freq_mat[word] = 0\n",
    "        \n",
    "    for word in word_dics:\n",
    "        if word in sentence_bow:\n",
    "            freq_mat[word] += 1\n",
    "                \n",
    "    return freq_mat"
   ]
  },
  {
   "cell_type": "markdown",
   "id": "9a00f5ec",
   "metadata": {},
   "source": [
    "- 비교 문장에서 추출한 단어 사전을 기준으로 문장에 해당 단어들이 얼마나 포함되어 있는지 나타내는 단어 문서 행렬을 만들어주는 함수 "
   ]
  },
  {
   "cell_type": "code",
   "execution_count": 4,
   "id": "155d6307",
   "metadata": {},
   "outputs": [],
   "source": [
    "# 단어 벡터 만들기\n",
    "def make_vector(tdm):\n",
    "    vec = []\n",
    "    for key in tdm:\n",
    "        vec.append(tdm[key])\n",
    "    return vec"
   ]
  },
  {
   "cell_type": "markdown",
   "id": "1c7ccc9a",
   "metadata": {},
   "source": [
    "- 단어 문서 행렬에서 표현된 토큰들의 출현 빈도 데이터를 벡터로 만들어주는 함수"
   ]
  },
  {
   "cell_type": "code",
   "execution_count": 5,
   "id": "f62d9947",
   "metadata": {},
   "outputs": [],
   "source": [
    "# 문장 정의\n",
    "sentence1 = '6월에 뉴턴은 선생님의 제안으로 트리니티에 입학하였다'\n",
    "sentence2 = '6월에 뉴턴은 선생님의 제안으로 대학교에 입학하였다'\n",
    "sentence3 = '나는 맛있는 밥을 뉴턴 선생님과 함께 먹었습니다 '"
   ]
  },
  {
   "cell_type": "code",
   "execution_count": 6,
   "id": "66cac533",
   "metadata": {},
   "outputs": [],
   "source": [
    "# 형태소 분석기를 이용해 단어 묶음 리스트 생성\n",
    "komoran = Komoran()\n",
    "bow1 = komoran.nouns(sentence1)\n",
    "bow2 = komoran.nouns(sentence2)\n",
    "bow3 = komoran.nouns(sentence3)"
   ]
  },
  {
   "cell_type": "code",
   "execution_count": 7,
   "id": "548d010b",
   "metadata": {},
   "outputs": [
    {
     "data": {
      "text/plain": [
       "['6월', '뉴턴', '선생님', '제안', '트리니티', '입학']"
      ]
     },
     "execution_count": 7,
     "metadata": {},
     "output_type": "execute_result"
    }
   ],
   "source": [
    "bow1"
   ]
  },
  {
   "cell_type": "code",
   "execution_count": 10,
   "id": "8488423d",
   "metadata": {},
   "outputs": [],
   "source": [
    "# 단어 묶음 리스트를 하나로 합침\n",
    "bow = bow1 + bow2 + bow3"
   ]
  },
  {
   "cell_type": "code",
   "execution_count": 11,
   "id": "19fb70c2",
   "metadata": {},
   "outputs": [
    {
     "data": {
      "text/plain": [
       "['6월',\n",
       " '뉴턴',\n",
       " '선생님',\n",
       " '제안',\n",
       " '트리니티',\n",
       " '입학',\n",
       " '6월',\n",
       " '뉴턴',\n",
       " '선생님',\n",
       " '제안',\n",
       " '대학교',\n",
       " '입학',\n",
       " '밥',\n",
       " '뉴턴',\n",
       " '선생',\n",
       " '님과 함께']"
      ]
     },
     "execution_count": 11,
     "metadata": {},
     "output_type": "execute_result"
    }
   ],
   "source": [
    "bow"
   ]
  },
  {
   "cell_type": "code",
   "execution_count": 12,
   "id": "ce55c911",
   "metadata": {},
   "outputs": [],
   "source": [
    "# 단어 묶음에서 중복 제거해 단어 사전 구축\n",
    "word_dics = []\n",
    "for token in bow:\n",
    "    if token not in word_dics:\n",
    "        word_dics.append(token)"
   ]
  },
  {
   "cell_type": "code",
   "execution_count": 13,
   "id": "79197565",
   "metadata": {},
   "outputs": [
    {
     "data": {
      "text/plain": [
       "['6월', '뉴턴', '선생님', '제안', '트리니티', '입학', '대학교', '밥', '선생', '님과 함께']"
      ]
     },
     "execution_count": 13,
     "metadata": {},
     "output_type": "execute_result"
    }
   ],
   "source": [
    "word_dics"
   ]
  },
  {
   "cell_type": "code",
   "execution_count": 14,
   "id": "e1392533",
   "metadata": {},
   "outputs": [
    {
     "name": "stdout",
     "output_type": "stream",
     "text": [
      "{'6월': 1, '뉴턴': 1, '선생님': 1, '제안': 1, '트리니티': 1, '입학': 1, '대학교': 0, '밥': 0, '선생': 0, '님과 함께': 0}\n",
      "{'6월': 1, '뉴턴': 1, '선생님': 1, '제안': 1, '트리니티': 0, '입학': 1, '대학교': 1, '밥': 0, '선생': 0, '님과 함께': 0}\n",
      "{'6월': 0, '뉴턴': 1, '선생님': 0, '제안': 0, '트리니티': 0, '입학': 0, '대학교': 0, '밥': 1, '선생': 1, '님과 함께': 1}\n"
     ]
    }
   ],
   "source": [
    "# 문장별 단어 문서 행렬 계산\n",
    "freq_list1 = make_term_doc_mat(bow1, word_dics)\n",
    "freq_list2 = make_term_doc_mat(bow2, word_dics)\n",
    "freq_list3 = make_term_doc_mat(bow3, word_dics)\n",
    "print(freq_list1)\n",
    "print(freq_list2)\n",
    "print(freq_list3)"
   ]
  },
  {
   "cell_type": "code",
   "execution_count": 15,
   "id": "8665180c",
   "metadata": {},
   "outputs": [
    {
     "name": "stdout",
     "output_type": "stream",
     "text": [
      "[1 1 1 1 1 1 0 0 0 0]\n"
     ]
    }
   ],
   "source": [
    "doc1 = np.array(make_vector(freq_list1))\n",
    "doc2 = np.array(make_vector(freq_list2))\n",
    "doc3 = np.array(make_vector(freq_list3))\n",
    "print(doc1)"
   ]
  },
  {
   "cell_type": "code",
   "execution_count": 16,
   "id": "002d8f6e",
   "metadata": {},
   "outputs": [
    {
     "name": "stdout",
     "output_type": "stream",
     "text": [
      "0.8333333333333335\n",
      "0.20412414523193154\n"
     ]
    }
   ],
   "source": [
    "# 코사인 유사도 계산\n",
    "r1 = cos_sim(doc1, doc2)\n",
    "r2 = cos_sim(doc3, doc1)\n",
    "print(r1)\n",
    "print(r2)"
   ]
  },
  {
   "cell_type": "code",
   "execution_count": null,
   "id": "1a40839a",
   "metadata": {},
   "outputs": [],
   "source": []
  }
 ],
 "metadata": {
  "kernelspec": {
   "display_name": "Python 3 (ipykernel)",
   "language": "python",
   "name": "python3"
  },
  "language_info": {
   "codemirror_mode": {
    "name": "ipython",
    "version": 3
   },
   "file_extension": ".py",
   "mimetype": "text/x-python",
   "name": "python",
   "nbconvert_exporter": "python",
   "pygments_lexer": "ipython3",
   "version": "3.11.5"
  }
 },
 "nbformat": 4,
 "nbformat_minor": 5
}
